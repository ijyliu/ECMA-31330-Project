{
 "cells": [
  {
   "source": [
    "# PCA on Covariates Simulations Notebook"
   ],
   "cell_type": "markdown",
   "metadata": {}
  },
  {
   "cell_type": "code",
   "execution_count": 48,
   "metadata": {},
   "outputs": [],
   "source": [
    "#%pip install tabulate\n",
    "from tabulate import tabulate"
   ]
  },
  {
   "cell_type": "code",
   "execution_count": 12,
   "metadata": {},
   "outputs": [],
   "source": [
    "# Packages\n",
    "import numpy as np\n",
    "import pandas as pd\n",
    "import seaborn as sns\n",
    "from pca import pca\n",
    "import statsmodels.api as sm\n",
    "import statsmodels.formula.api as smf\n",
    "from sklearn.preprocessing import StandardScaler\n",
    "from sklearn.decomposition import FactorAnalysis\n",
    "import math\n",
    "from tqdm import tqdm"
   ]
  },
  {
   "cell_type": "code",
   "execution_count": 13,
   "metadata": {},
   "outputs": [],
   "source": [
    "# Supressing Output\n",
    "from contextlib import contextmanager\n",
    "import sys, os\n",
    "\n",
    "@contextmanager\n",
    "def suppress_stdout():\n",
    "    with open(os.devnull, \"w\") as devnull:\n",
    "        old_stdout = sys.stdout\n",
    "        sys.stdout = devnull\n",
    "        try:  \n",
    "            yield\n",
    "        finally:\n",
    "            sys.stdout = old_stdout"
   ]
  },
  {
   "cell_type": "markdown",
   "metadata": {},
   "source": [
    "**My main changes and what I want people to review in the code block below:**\n",
    "    \n",
    "1) I added an IV section\n",
    "\n",
    "2) I added a new thing where we take half of the mismeasured covariate values and then use them as the exponent to raise e to (e.g. z4 = e**z4)\n",
    "\n",
    "3) i got rid of the 1,000 value for beta1 and beta2\n",
    "\n",
    "4) i got rid of the p = 10 value\n",
    "\n",
    "**Comments on those changes:**\n",
    "\n",
    "1) i'm curious if i did this right\n",
    "\n",
    "2) i did this because of bonhomme's feedback about where PCA might outperform taking the simple avg. we've gotten some tentative signs that PCA does do better than the avg when you stretch out he observations\n",
    "\n",
    "3) , 4) it seemed like we didn't really need those values"
   ]
  },
  {
   "cell_type": "code",
   "execution_count": 14,
   "metadata": {},
   "outputs": [
    {
     "output_type": "stream",
     "name": "stderr",
     "text": [
      "100%|██████████| 1/1 [00:00<00:00,  2.03it/s]\n",
      "100%|██████████| 1/1 [00:00<00:00,  2.26it/s]\n",
      "100%|██████████| 1/1 [00:00<00:00,  2.16it/s]\n",
      "100%|██████████| 1/1 [00:00<00:00,  1.86it/s]\n",
      "100%|██████████| 1/1 [00:00<00:00,  2.08it/s]\n",
      "100%|██████████| 1/1 [00:00<00:00,  2.07it/s]\n",
      "100%|██████████| 1/1 [00:00<00:00,  1.96it/s]\n",
      "100%|██████████| 1/1 [00:00<00:00,  2.04it/s]\n",
      "100%|██████████| 1/1 [00:00<00:00,  2.17it/s]\n",
      "100%|██████████| 1/1 [00:00<00:00,  2.13it/s]\n",
      "100%|██████████| 1/1 [00:00<00:00,  2.05it/s]\n",
      "100%|██████████| 1/1 [00:00<00:00,  2.21it/s]\n",
      "100%|██████████| 1/1 [00:00<00:00,  1.95it/s]\n",
      "100%|██████████| 1/1 [00:00<00:00,  2.01it/s]\n",
      "100%|██████████| 1/1 [00:00<00:00,  1.68it/s]\n",
      "100%|██████████| 1/1 [00:00<00:00,  1.75it/s]\n",
      "100%|██████████| 1/1 [00:00<00:00,  2.18it/s]\n",
      "100%|██████████| 1/1 [00:00<00:00,  2.22it/s]\n",
      "100%|██████████| 1/1 [00:00<00:00,  2.14it/s]\n",
      "100%|██████████| 1/1 [00:00<00:00,  2.18it/s]\n",
      "100%|██████████| 1/1 [00:00<00:00,  2.17it/s]\n",
      "100%|██████████| 1/1 [00:00<00:00,  2.18it/s]\n"
     ]
    },
    {
     "output_type": "execute_result",
     "data": {
      "text/plain": [
       "   mismeasured_coef  mismeasured_allvar_coef  mismeasured_avg_coef   pca_coef  \\\n",
       "0          0.384711                 0.284687              0.461622   0.304217   \n",
       "0          0.416596                 0.240255              0.237699   0.238001   \n",
       "0          1.023938                 1.013558              1.047948   1.022123   \n",
       "0          1.031123                 1.014726              1.016047   1.015768   \n",
       "0          0.312960                 0.434659              0.238264   0.414166   \n",
       "0          0.253317                 0.557337              0.555925   0.556324   \n",
       "0          0.670943                 0.772139              0.606857   0.746793   \n",
       "0          0.703260                 0.889607              0.891001   0.889483   \n",
       "0          0.999917                 1.000177              0.997883   0.996827   \n",
       "0          0.993320                 1.001567              1.001578   1.001842   \n",
       "0          1.294988                 1.190368              1.361737   1.187250   \n",
       "0          1.259900                 1.065215              1.065952   1.065936   \n",
       "0          1.238942                 1.015418              1.239692   1.043035   \n",
       "0          1.325881                 1.050691              1.052427   1.052862   \n",
       "0          1.268200                 1.017634              1.261771   1.058399   \n",
       "0          1.275242                 1.028534              1.028270   1.028349   \n",
       "0          1.747159                 1.590578              1.778681   1.642722   \n",
       "0          1.776549                 1.489890              1.488711   1.488764   \n",
       "0          3.753425                 2.661201              4.314199   2.795113   \n",
       "0          3.810465                 1.987292              1.988081   1.986771   \n",
       "0         10.281280                10.172920             10.336066  10.189723   \n",
       "0         10.255386                10.084698             10.084437  10.084169   \n",
       "\n",
       "   true_val_coef    iv_coef  covariance  beta1  beta2   p exp_of_var  \n",
       "0       0.078832   0.336824         0.5    0.1    1.0   5        yes  \n",
       "0       0.110964   0.259016         0.5    0.1    1.0   5         no  \n",
       "0       1.000814   1.023621         0.5    1.0    0.1   5        yes  \n",
       "0       0.998597   1.019786         0.5    1.0    0.1   5         no  \n",
       "0       1.047758   0.359382        -0.9    1.0    1.0   5        yes  \n",
       "0       1.034771   0.521769        -0.9    1.0    1.0   5         no  \n",
       "0       0.960534   0.719947        -0.5    1.0    1.0   5        yes  \n",
       "0       1.011720   0.875617        -0.5    1.0    1.0   5         no  \n",
       "0       0.995787   0.995029         0.0    1.0    1.0   5        yes  \n",
       "0       0.993013   1.000098         0.0    1.0    1.0   5         no  \n",
       "0       0.993675   1.240627         0.5    1.0    1.0   5        yes  \n",
       "0       0.977238   1.081315         0.5    1.0    1.0   5         no  \n",
       "0       0.980625   1.027858         0.5    1.0    1.0  20        yes  \n",
       "0       1.015886   1.057282         0.5    1.0    1.0  20         no  \n",
       "0       0.996999   1.041114         0.5    1.0    1.0  50        yes  \n",
       "0       1.017811   1.039462         0.5    1.0    1.0  50         no  \n",
       "0       0.976463   1.662344         0.9    1.0    1.0   5        yes  \n",
       "0       1.062791   1.543923         0.9    1.0    1.0   5         no  \n",
       "0       0.957088   3.110050         0.5    1.0   10.0   5        yes  \n",
       "0       1.009551   2.223894         0.5    1.0   10.0   5         no  \n",
       "0      10.014172  10.225450         0.5   10.0    1.0   5        yes  \n",
       "0       9.982149  10.104177         0.5   10.0    1.0   5         no  "
      ],
      "text/html": "<div>\n<style scoped>\n    .dataframe tbody tr th:only-of-type {\n        vertical-align: middle;\n    }\n\n    .dataframe tbody tr th {\n        vertical-align: top;\n    }\n\n    .dataframe thead th {\n        text-align: right;\n    }\n</style>\n<table border=\"1\" class=\"dataframe\">\n  <thead>\n    <tr style=\"text-align: right;\">\n      <th></th>\n      <th>mismeasured_coef</th>\n      <th>mismeasured_allvar_coef</th>\n      <th>mismeasured_avg_coef</th>\n      <th>pca_coef</th>\n      <th>true_val_coef</th>\n      <th>iv_coef</th>\n      <th>covariance</th>\n      <th>beta1</th>\n      <th>beta2</th>\n      <th>p</th>\n      <th>exp_of_var</th>\n    </tr>\n  </thead>\n  <tbody>\n    <tr>\n      <th>0</th>\n      <td>0.384711</td>\n      <td>0.284687</td>\n      <td>0.461622</td>\n      <td>0.304217</td>\n      <td>0.078832</td>\n      <td>0.336824</td>\n      <td>0.5</td>\n      <td>0.1</td>\n      <td>1.0</td>\n      <td>5</td>\n      <td>yes</td>\n    </tr>\n    <tr>\n      <th>0</th>\n      <td>0.416596</td>\n      <td>0.240255</td>\n      <td>0.237699</td>\n      <td>0.238001</td>\n      <td>0.110964</td>\n      <td>0.259016</td>\n      <td>0.5</td>\n      <td>0.1</td>\n      <td>1.0</td>\n      <td>5</td>\n      <td>no</td>\n    </tr>\n    <tr>\n      <th>0</th>\n      <td>1.023938</td>\n      <td>1.013558</td>\n      <td>1.047948</td>\n      <td>1.022123</td>\n      <td>1.000814</td>\n      <td>1.023621</td>\n      <td>0.5</td>\n      <td>1.0</td>\n      <td>0.1</td>\n      <td>5</td>\n      <td>yes</td>\n    </tr>\n    <tr>\n      <th>0</th>\n      <td>1.031123</td>\n      <td>1.014726</td>\n      <td>1.016047</td>\n      <td>1.015768</td>\n      <td>0.998597</td>\n      <td>1.019786</td>\n      <td>0.5</td>\n      <td>1.0</td>\n      <td>0.1</td>\n      <td>5</td>\n      <td>no</td>\n    </tr>\n    <tr>\n      <th>0</th>\n      <td>0.312960</td>\n      <td>0.434659</td>\n      <td>0.238264</td>\n      <td>0.414166</td>\n      <td>1.047758</td>\n      <td>0.359382</td>\n      <td>-0.9</td>\n      <td>1.0</td>\n      <td>1.0</td>\n      <td>5</td>\n      <td>yes</td>\n    </tr>\n    <tr>\n      <th>0</th>\n      <td>0.253317</td>\n      <td>0.557337</td>\n      <td>0.555925</td>\n      <td>0.556324</td>\n      <td>1.034771</td>\n      <td>0.521769</td>\n      <td>-0.9</td>\n      <td>1.0</td>\n      <td>1.0</td>\n      <td>5</td>\n      <td>no</td>\n    </tr>\n    <tr>\n      <th>0</th>\n      <td>0.670943</td>\n      <td>0.772139</td>\n      <td>0.606857</td>\n      <td>0.746793</td>\n      <td>0.960534</td>\n      <td>0.719947</td>\n      <td>-0.5</td>\n      <td>1.0</td>\n      <td>1.0</td>\n      <td>5</td>\n      <td>yes</td>\n    </tr>\n    <tr>\n      <th>0</th>\n      <td>0.703260</td>\n      <td>0.889607</td>\n      <td>0.891001</td>\n      <td>0.889483</td>\n      <td>1.011720</td>\n      <td>0.875617</td>\n      <td>-0.5</td>\n      <td>1.0</td>\n      <td>1.0</td>\n      <td>5</td>\n      <td>no</td>\n    </tr>\n    <tr>\n      <th>0</th>\n      <td>0.999917</td>\n      <td>1.000177</td>\n      <td>0.997883</td>\n      <td>0.996827</td>\n      <td>0.995787</td>\n      <td>0.995029</td>\n      <td>0.0</td>\n      <td>1.0</td>\n      <td>1.0</td>\n      <td>5</td>\n      <td>yes</td>\n    </tr>\n    <tr>\n      <th>0</th>\n      <td>0.993320</td>\n      <td>1.001567</td>\n      <td>1.001578</td>\n      <td>1.001842</td>\n      <td>0.993013</td>\n      <td>1.000098</td>\n      <td>0.0</td>\n      <td>1.0</td>\n      <td>1.0</td>\n      <td>5</td>\n      <td>no</td>\n    </tr>\n    <tr>\n      <th>0</th>\n      <td>1.294988</td>\n      <td>1.190368</td>\n      <td>1.361737</td>\n      <td>1.187250</td>\n      <td>0.993675</td>\n      <td>1.240627</td>\n      <td>0.5</td>\n      <td>1.0</td>\n      <td>1.0</td>\n      <td>5</td>\n      <td>yes</td>\n    </tr>\n    <tr>\n      <th>0</th>\n      <td>1.259900</td>\n      <td>1.065215</td>\n      <td>1.065952</td>\n      <td>1.065936</td>\n      <td>0.977238</td>\n      <td>1.081315</td>\n      <td>0.5</td>\n      <td>1.0</td>\n      <td>1.0</td>\n      <td>5</td>\n      <td>no</td>\n    </tr>\n    <tr>\n      <th>0</th>\n      <td>1.238942</td>\n      <td>1.015418</td>\n      <td>1.239692</td>\n      <td>1.043035</td>\n      <td>0.980625</td>\n      <td>1.027858</td>\n      <td>0.5</td>\n      <td>1.0</td>\n      <td>1.0</td>\n      <td>20</td>\n      <td>yes</td>\n    </tr>\n    <tr>\n      <th>0</th>\n      <td>1.325881</td>\n      <td>1.050691</td>\n      <td>1.052427</td>\n      <td>1.052862</td>\n      <td>1.015886</td>\n      <td>1.057282</td>\n      <td>0.5</td>\n      <td>1.0</td>\n      <td>1.0</td>\n      <td>20</td>\n      <td>no</td>\n    </tr>\n    <tr>\n      <th>0</th>\n      <td>1.268200</td>\n      <td>1.017634</td>\n      <td>1.261771</td>\n      <td>1.058399</td>\n      <td>0.996999</td>\n      <td>1.041114</td>\n      <td>0.5</td>\n      <td>1.0</td>\n      <td>1.0</td>\n      <td>50</td>\n      <td>yes</td>\n    </tr>\n    <tr>\n      <th>0</th>\n      <td>1.275242</td>\n      <td>1.028534</td>\n      <td>1.028270</td>\n      <td>1.028349</td>\n      <td>1.017811</td>\n      <td>1.039462</td>\n      <td>0.5</td>\n      <td>1.0</td>\n      <td>1.0</td>\n      <td>50</td>\n      <td>no</td>\n    </tr>\n    <tr>\n      <th>0</th>\n      <td>1.747159</td>\n      <td>1.590578</td>\n      <td>1.778681</td>\n      <td>1.642722</td>\n      <td>0.976463</td>\n      <td>1.662344</td>\n      <td>0.9</td>\n      <td>1.0</td>\n      <td>1.0</td>\n      <td>5</td>\n      <td>yes</td>\n    </tr>\n    <tr>\n      <th>0</th>\n      <td>1.776549</td>\n      <td>1.489890</td>\n      <td>1.488711</td>\n      <td>1.488764</td>\n      <td>1.062791</td>\n      <td>1.543923</td>\n      <td>0.9</td>\n      <td>1.0</td>\n      <td>1.0</td>\n      <td>5</td>\n      <td>no</td>\n    </tr>\n    <tr>\n      <th>0</th>\n      <td>3.753425</td>\n      <td>2.661201</td>\n      <td>4.314199</td>\n      <td>2.795113</td>\n      <td>0.957088</td>\n      <td>3.110050</td>\n      <td>0.5</td>\n      <td>1.0</td>\n      <td>10.0</td>\n      <td>5</td>\n      <td>yes</td>\n    </tr>\n    <tr>\n      <th>0</th>\n      <td>3.810465</td>\n      <td>1.987292</td>\n      <td>1.988081</td>\n      <td>1.986771</td>\n      <td>1.009551</td>\n      <td>2.223894</td>\n      <td>0.5</td>\n      <td>1.0</td>\n      <td>10.0</td>\n      <td>5</td>\n      <td>no</td>\n    </tr>\n    <tr>\n      <th>0</th>\n      <td>10.281280</td>\n      <td>10.172920</td>\n      <td>10.336066</td>\n      <td>10.189723</td>\n      <td>10.014172</td>\n      <td>10.225450</td>\n      <td>0.5</td>\n      <td>10.0</td>\n      <td>1.0</td>\n      <td>5</td>\n      <td>yes</td>\n    </tr>\n    <tr>\n      <th>0</th>\n      <td>10.255386</td>\n      <td>10.084698</td>\n      <td>10.084437</td>\n      <td>10.084169</td>\n      <td>9.982149</td>\n      <td>10.104177</td>\n      <td>0.5</td>\n      <td>10.0</td>\n      <td>1.0</td>\n      <td>5</td>\n      <td>no</td>\n    </tr>\n  </tbody>\n</table>\n</div>"
     },
     "metadata": {},
     "execution_count": 14
    }
   ],
   "source": [
    "# Data frame to store output\n",
    "output = pd.DataFrame()\n",
    "\n",
    "# 2,000 observations\n",
    "N = 2000\n",
    "\n",
    "# Loop over combinations of: betas, covariances between variables, p numbers of parameters\n",
    "for beta1 in [0.1,1,10]:\n",
    "    for beta2 in [0.1,1,10]:\n",
    "        for covariance in [-0.9,-0.5,0,0.5,0.9]:\n",
    "            for p in [5,20,50]:\n",
    "                # Select only the scenarios we actually want to run by default - betas of 1, covariances of 0.5, p of 5... require three of these conditions to be satisfied to run.\n",
    "                counter = 0\n",
    "                if beta1 == 1:\n",
    "                    counter += 1\n",
    "                if beta2 == 1:\n",
    "                    counter += 1\n",
    "                if covariance == 0.5:\n",
    "                    counter += 1\n",
    "                if p == 5:\n",
    "                    counter+=1\n",
    "                if counter >= 3:\n",
    "                    # Run with and without transformations\n",
    "                    for exp_of_var in ['yes','no']:\n",
    "                        # 1000 simulations\n",
    "                        for k in tqdm(range(1)):\n",
    "                            # Initialize Lists to store coef values for all five methods and the true coef\n",
    "                            pca_coef = []\n",
    "                            mismeasured_coef = []\n",
    "                            mismeasured_allvar_coef = []\n",
    "                            mismeasured_avg_coef = []\n",
    "                            iv_coef = []\n",
    "                            true_val_coef =[]\n",
    "\n",
    "                            # Create variables\n",
    "                            vars_mean = [0,0,0]\n",
    "                            vars_cov = np.array([[1,covariance,0],\n",
    "                                                 [covariance,1,0],\n",
    "                                                 [0,0,1]])\n",
    "                            # Producing 3 variables: x for the variable of interest, the true Z covariate, the random error\n",
    "                            vars_ = pd.DataFrame(np.random.multivariate_normal(vars_mean, vars_cov, N), columns = ['x','true_z','u'])\n",
    "                            vars_['y'] = beta1 * vars_['x'] + beta2 * vars_['true_z'] + vars_['u']\n",
    "\n",
    "                            # Create measurement errors for each of the p measurements of the covariates- mean zero and variance one\n",
    "                            errors_mean = np.zeros(p)\n",
    "                            errors_cov = np.zeros((p,p))\n",
    "                            for i in range(p):\n",
    "                                for j in range(p):\n",
    "                                    if i == j:\n",
    "                                        errors_cov[i,j] = 1\n",
    "\n",
    "                            errors = np.random.multivariate_normal(errors_mean, errors_cov, N)\n",
    "                            # Column labels for Z variables (covariates variables mismeasured)\n",
    "                            z_vars = []\n",
    "                            for i in range(p):\n",
    "                                z_vars.append('z'+str(i+1))\n",
    "                            # Add errors to the true_z to get mismeasured values\n",
    "                            mismeasured_z = pd.DataFrame(errors, columns = z_vars)\n",
    "                            for i in mismeasured_z.columns:\n",
    "                                mismeasured_z[i] = mismeasured_z[i] + vars_['true_z']\n",
    "\n",
    "                            # Take e to the power of the values for half of the measurements if log_of_var is true\n",
    "                            if exp_of_var == 'yes':\n",
    "                                mismeasured_z.iloc[:,int(len(mismeasured_z.columns)/2):] =np.exp(mismeasured_z.iloc[:,int(len(mismeasured_z.columns)/2):])\n",
    "                                \n",
    "                            # Do feature scaling (normalize to mean 0 and variance 1) for the mismeasured z\n",
    "                            # Note that x and y are already normalized by construction\n",
    "                            scaled_mismeasured_z = mismeasured_z.copy()\n",
    "                            for i in mismeasured_z.columns:\n",
    "                                scaled_mismeasured_z[i] = (mismeasured_z[i] - mismeasured_z[i].mean()) / mismeasured_z[i].std()\n",
    "\n",
    "                            # Suppress output\n",
    "                            with suppress_stdout():\n",
    "                                # Use PCA on the mismeasured values\n",
    "                                pca_model = pca()\n",
    "                                pca_results = pca_model.fit_transform(scaled_mismeasured_z)\n",
    "                                pca_z = pca_results['PC']['PC1']\n",
    "\n",
    "                            # NOTE: in non-pca cases, no need to rescale or normalize since mismeasured variables and x and y have mean 0 and sd 1\n",
    "\n",
    "                            # Average mismeasured variables:\n",
    "                            vars_['avg_mismeasured_z'] = mismeasured_z[z_vars].mean(axis=1)\n",
    "\n",
    "                            # Add relevant variables to vars_ dataframe\n",
    "                            vars_[mismeasured_z.columns] = mismeasured_z\n",
    "                            vars_['pca_z'] = pca_z\n",
    "\n",
    "                            # Single mismeasured covariate results\n",
    "                            model_mismeasured = sm.OLS(vars_['y'],vars_[['x','z1']])\n",
    "                            results_mismeasured = model_mismeasured.fit()\n",
    "                            mismeasured_coef.append(results_mismeasured.params[0])\n",
    "\n",
    "                            # All Variables Mismeasured Results\n",
    "                            # Create full list of items to include in regression\n",
    "                            tot_vars = ['x']\n",
    "                            tot_vars.extend(z_vars)\n",
    "                            model_mismeasured_allvar = sm.OLS(vars_['y'],vars_[tot_vars])\n",
    "                            results_mismeasured_allvar = model_mismeasured_allvar.fit()\n",
    "                            mismeasured_allvar_coef.append(results_mismeasured_allvar.params[0])\n",
    "\n",
    "                            # Average Mismeasured Variables Results\n",
    "                            model_mismeasured_avg = sm.OLS(vars_['y'],vars_[['x','avg_mismeasured_z']])\n",
    "                            results_mismeasured_avg = model_mismeasured_avg.fit()\n",
    "                            mismeasured_avg_coef.append(results_mismeasured_avg.params[0])\n",
    "\n",
    "                            # PCA Results\n",
    "                            model_pca = sm.OLS(vars_['y'],vars_[['x','pca_z']])\n",
    "                            results_pca = model_pca.fit()\n",
    "                            pca_coef.append(results_pca.params[0])\n",
    "\n",
    "                            # Instrumental Variables Results\n",
    "                            # Instrument z1 on the other items in the mismeasured df\n",
    "                            z_string = mismeasured_z.columns[1]\n",
    "                            for z in mismeasured_z.columns[2:]:\n",
    "                                z_string = z_string + ' + ' + z\n",
    "                            # Create the predicted value of z1\n",
    "                            vars_['pred_z1'] = smf.ols(\"z1 ~ \" + z_string, data = mismeasured_z).fit().predict()\n",
    "                            iv_results = smf.ols(\"y ~ x + pred_z1 -1\", data = vars_).fit()\n",
    "                            iv_coef.append(iv_results.params[0])\n",
    "\n",
    "                            # True Results\n",
    "                            model_true = sm.OLS(vars_['y'],vars_[['x','true_z']])\n",
    "                            results_true = model_true.fit()\n",
    "                            true_val_coef.append(results_true.params[0])\n",
    "\n",
    "                            # Output Findings\n",
    "                            new_output = pd.DataFrame()\n",
    "                            new_output['mismeasured_coef'] = mismeasured_coef\n",
    "                            new_output['mismeasured_allvar_coef'] = mismeasured_allvar_coef\n",
    "                            new_output['mismeasured_avg_coef'] = mismeasured_avg_coef\n",
    "                            new_output['pca_coef'] = pca_coef\n",
    "                            new_output['true_val_coef'] = true_val_coef\n",
    "                            new_output['iv_coef'] = iv_coef\n",
    "                            new_output['covariance'] = vars_cov[0][1]\n",
    "                            new_output['beta1'] = beta1\n",
    "                            new_output['beta2'] = beta2\n",
    "                            new_output['p'] = p\n",
    "                            new_output['exp_of_var'] = exp_of_var\n",
    "                            output = output.append(new_output)\n",
    "\n",
    "output"
   ]
  },
  {
   "cell_type": "code",
   "execution_count": 15,
   "metadata": {},
   "outputs": [
    {
     "output_type": "execute_result",
     "data": {
      "text/plain": [
       "   mismeasured_coef  mismeasured_allvar_coef  mismeasured_avg_coef   pca_coef  \\\n",
       "0          0.384711                 0.284687              0.461622   0.304217   \n",
       "0          0.416596                 0.240255              0.237699   0.238001   \n",
       "0          1.023938                 1.013558              1.047948   1.022123   \n",
       "0          1.031123                 1.014726              1.016047   1.015768   \n",
       "0          0.312960                 0.434659              0.238264   0.414166   \n",
       "0          0.253317                 0.557337              0.555925   0.556324   \n",
       "0          0.670943                 0.772139              0.606857   0.746793   \n",
       "0          0.703260                 0.889607              0.891001   0.889483   \n",
       "0          0.999917                 1.000177              0.997883   0.996827   \n",
       "0          0.993320                 1.001567              1.001578   1.001842   \n",
       "0          1.294988                 1.190368              1.361737   1.187250   \n",
       "0          1.259900                 1.065215              1.065952   1.065936   \n",
       "0          1.238942                 1.015418              1.239692   1.043035   \n",
       "0          1.325881                 1.050691              1.052427   1.052862   \n",
       "0          1.268200                 1.017634              1.261771   1.058399   \n",
       "0          1.275242                 1.028534              1.028270   1.028349   \n",
       "0          1.747159                 1.590578              1.778681   1.642722   \n",
       "0          1.776549                 1.489890              1.488711   1.488764   \n",
       "0          3.753425                 2.661201              4.314199   2.795113   \n",
       "0          3.810465                 1.987292              1.988081   1.986771   \n",
       "0         10.281280                10.172920             10.336066  10.189723   \n",
       "0         10.255386                10.084698             10.084437  10.084169   \n",
       "\n",
       "   true_val_coef    iv_coef  covariance  beta1  beta2   p exp_of_var  \n",
       "0       0.078832   0.336824         0.5    0.1    1.0   5        yes  \n",
       "0       0.110964   0.259016         0.5    0.1    1.0   5         no  \n",
       "0       1.000814   1.023621         0.5    1.0    0.1   5        yes  \n",
       "0       0.998597   1.019786         0.5    1.0    0.1   5         no  \n",
       "0       1.047758   0.359382        -0.9    1.0    1.0   5        yes  \n",
       "0       1.034771   0.521769        -0.9    1.0    1.0   5         no  \n",
       "0       0.960534   0.719947        -0.5    1.0    1.0   5        yes  \n",
       "0       1.011720   0.875617        -0.5    1.0    1.0   5         no  \n",
       "0       0.995787   0.995029         0.0    1.0    1.0   5        yes  \n",
       "0       0.993013   1.000098         0.0    1.0    1.0   5         no  \n",
       "0       0.993675   1.240627         0.5    1.0    1.0   5        yes  \n",
       "0       0.977238   1.081315         0.5    1.0    1.0   5         no  \n",
       "0       0.980625   1.027858         0.5    1.0    1.0  20        yes  \n",
       "0       1.015886   1.057282         0.5    1.0    1.0  20         no  \n",
       "0       0.996999   1.041114         0.5    1.0    1.0  50        yes  \n",
       "0       1.017811   1.039462         0.5    1.0    1.0  50         no  \n",
       "0       0.976463   1.662344         0.9    1.0    1.0   5        yes  \n",
       "0       1.062791   1.543923         0.9    1.0    1.0   5         no  \n",
       "0       0.957088   3.110050         0.5    1.0   10.0   5        yes  \n",
       "0       1.009551   2.223894         0.5    1.0   10.0   5         no  \n",
       "0      10.014172  10.225450         0.5   10.0    1.0   5        yes  \n",
       "0       9.982149  10.104177         0.5   10.0    1.0   5         no  "
      ],
      "text/html": "<div>\n<style scoped>\n    .dataframe tbody tr th:only-of-type {\n        vertical-align: middle;\n    }\n\n    .dataframe tbody tr th {\n        vertical-align: top;\n    }\n\n    .dataframe thead th {\n        text-align: right;\n    }\n</style>\n<table border=\"1\" class=\"dataframe\">\n  <thead>\n    <tr style=\"text-align: right;\">\n      <th></th>\n      <th>mismeasured_coef</th>\n      <th>mismeasured_allvar_coef</th>\n      <th>mismeasured_avg_coef</th>\n      <th>pca_coef</th>\n      <th>true_val_coef</th>\n      <th>iv_coef</th>\n      <th>covariance</th>\n      <th>beta1</th>\n      <th>beta2</th>\n      <th>p</th>\n      <th>exp_of_var</th>\n    </tr>\n  </thead>\n  <tbody>\n    <tr>\n      <th>0</th>\n      <td>0.384711</td>\n      <td>0.284687</td>\n      <td>0.461622</td>\n      <td>0.304217</td>\n      <td>0.078832</td>\n      <td>0.336824</td>\n      <td>0.5</td>\n      <td>0.1</td>\n      <td>1.0</td>\n      <td>5</td>\n      <td>yes</td>\n    </tr>\n    <tr>\n      <th>0</th>\n      <td>0.416596</td>\n      <td>0.240255</td>\n      <td>0.237699</td>\n      <td>0.238001</td>\n      <td>0.110964</td>\n      <td>0.259016</td>\n      <td>0.5</td>\n      <td>0.1</td>\n      <td>1.0</td>\n      <td>5</td>\n      <td>no</td>\n    </tr>\n    <tr>\n      <th>0</th>\n      <td>1.023938</td>\n      <td>1.013558</td>\n      <td>1.047948</td>\n      <td>1.022123</td>\n      <td>1.000814</td>\n      <td>1.023621</td>\n      <td>0.5</td>\n      <td>1.0</td>\n      <td>0.1</td>\n      <td>5</td>\n      <td>yes</td>\n    </tr>\n    <tr>\n      <th>0</th>\n      <td>1.031123</td>\n      <td>1.014726</td>\n      <td>1.016047</td>\n      <td>1.015768</td>\n      <td>0.998597</td>\n      <td>1.019786</td>\n      <td>0.5</td>\n      <td>1.0</td>\n      <td>0.1</td>\n      <td>5</td>\n      <td>no</td>\n    </tr>\n    <tr>\n      <th>0</th>\n      <td>0.312960</td>\n      <td>0.434659</td>\n      <td>0.238264</td>\n      <td>0.414166</td>\n      <td>1.047758</td>\n      <td>0.359382</td>\n      <td>-0.9</td>\n      <td>1.0</td>\n      <td>1.0</td>\n      <td>5</td>\n      <td>yes</td>\n    </tr>\n    <tr>\n      <th>0</th>\n      <td>0.253317</td>\n      <td>0.557337</td>\n      <td>0.555925</td>\n      <td>0.556324</td>\n      <td>1.034771</td>\n      <td>0.521769</td>\n      <td>-0.9</td>\n      <td>1.0</td>\n      <td>1.0</td>\n      <td>5</td>\n      <td>no</td>\n    </tr>\n    <tr>\n      <th>0</th>\n      <td>0.670943</td>\n      <td>0.772139</td>\n      <td>0.606857</td>\n      <td>0.746793</td>\n      <td>0.960534</td>\n      <td>0.719947</td>\n      <td>-0.5</td>\n      <td>1.0</td>\n      <td>1.0</td>\n      <td>5</td>\n      <td>yes</td>\n    </tr>\n    <tr>\n      <th>0</th>\n      <td>0.703260</td>\n      <td>0.889607</td>\n      <td>0.891001</td>\n      <td>0.889483</td>\n      <td>1.011720</td>\n      <td>0.875617</td>\n      <td>-0.5</td>\n      <td>1.0</td>\n      <td>1.0</td>\n      <td>5</td>\n      <td>no</td>\n    </tr>\n    <tr>\n      <th>0</th>\n      <td>0.999917</td>\n      <td>1.000177</td>\n      <td>0.997883</td>\n      <td>0.996827</td>\n      <td>0.995787</td>\n      <td>0.995029</td>\n      <td>0.0</td>\n      <td>1.0</td>\n      <td>1.0</td>\n      <td>5</td>\n      <td>yes</td>\n    </tr>\n    <tr>\n      <th>0</th>\n      <td>0.993320</td>\n      <td>1.001567</td>\n      <td>1.001578</td>\n      <td>1.001842</td>\n      <td>0.993013</td>\n      <td>1.000098</td>\n      <td>0.0</td>\n      <td>1.0</td>\n      <td>1.0</td>\n      <td>5</td>\n      <td>no</td>\n    </tr>\n    <tr>\n      <th>0</th>\n      <td>1.294988</td>\n      <td>1.190368</td>\n      <td>1.361737</td>\n      <td>1.187250</td>\n      <td>0.993675</td>\n      <td>1.240627</td>\n      <td>0.5</td>\n      <td>1.0</td>\n      <td>1.0</td>\n      <td>5</td>\n      <td>yes</td>\n    </tr>\n    <tr>\n      <th>0</th>\n      <td>1.259900</td>\n      <td>1.065215</td>\n      <td>1.065952</td>\n      <td>1.065936</td>\n      <td>0.977238</td>\n      <td>1.081315</td>\n      <td>0.5</td>\n      <td>1.0</td>\n      <td>1.0</td>\n      <td>5</td>\n      <td>no</td>\n    </tr>\n    <tr>\n      <th>0</th>\n      <td>1.238942</td>\n      <td>1.015418</td>\n      <td>1.239692</td>\n      <td>1.043035</td>\n      <td>0.980625</td>\n      <td>1.027858</td>\n      <td>0.5</td>\n      <td>1.0</td>\n      <td>1.0</td>\n      <td>20</td>\n      <td>yes</td>\n    </tr>\n    <tr>\n      <th>0</th>\n      <td>1.325881</td>\n      <td>1.050691</td>\n      <td>1.052427</td>\n      <td>1.052862</td>\n      <td>1.015886</td>\n      <td>1.057282</td>\n      <td>0.5</td>\n      <td>1.0</td>\n      <td>1.0</td>\n      <td>20</td>\n      <td>no</td>\n    </tr>\n    <tr>\n      <th>0</th>\n      <td>1.268200</td>\n      <td>1.017634</td>\n      <td>1.261771</td>\n      <td>1.058399</td>\n      <td>0.996999</td>\n      <td>1.041114</td>\n      <td>0.5</td>\n      <td>1.0</td>\n      <td>1.0</td>\n      <td>50</td>\n      <td>yes</td>\n    </tr>\n    <tr>\n      <th>0</th>\n      <td>1.275242</td>\n      <td>1.028534</td>\n      <td>1.028270</td>\n      <td>1.028349</td>\n      <td>1.017811</td>\n      <td>1.039462</td>\n      <td>0.5</td>\n      <td>1.0</td>\n      <td>1.0</td>\n      <td>50</td>\n      <td>no</td>\n    </tr>\n    <tr>\n      <th>0</th>\n      <td>1.747159</td>\n      <td>1.590578</td>\n      <td>1.778681</td>\n      <td>1.642722</td>\n      <td>0.976463</td>\n      <td>1.662344</td>\n      <td>0.9</td>\n      <td>1.0</td>\n      <td>1.0</td>\n      <td>5</td>\n      <td>yes</td>\n    </tr>\n    <tr>\n      <th>0</th>\n      <td>1.776549</td>\n      <td>1.489890</td>\n      <td>1.488711</td>\n      <td>1.488764</td>\n      <td>1.062791</td>\n      <td>1.543923</td>\n      <td>0.9</td>\n      <td>1.0</td>\n      <td>1.0</td>\n      <td>5</td>\n      <td>no</td>\n    </tr>\n    <tr>\n      <th>0</th>\n      <td>3.753425</td>\n      <td>2.661201</td>\n      <td>4.314199</td>\n      <td>2.795113</td>\n      <td>0.957088</td>\n      <td>3.110050</td>\n      <td>0.5</td>\n      <td>1.0</td>\n      <td>10.0</td>\n      <td>5</td>\n      <td>yes</td>\n    </tr>\n    <tr>\n      <th>0</th>\n      <td>3.810465</td>\n      <td>1.987292</td>\n      <td>1.988081</td>\n      <td>1.986771</td>\n      <td>1.009551</td>\n      <td>2.223894</td>\n      <td>0.5</td>\n      <td>1.0</td>\n      <td>10.0</td>\n      <td>5</td>\n      <td>no</td>\n    </tr>\n    <tr>\n      <th>0</th>\n      <td>10.281280</td>\n      <td>10.172920</td>\n      <td>10.336066</td>\n      <td>10.189723</td>\n      <td>10.014172</td>\n      <td>10.225450</td>\n      <td>0.5</td>\n      <td>10.0</td>\n      <td>1.0</td>\n      <td>5</td>\n      <td>yes</td>\n    </tr>\n    <tr>\n      <th>0</th>\n      <td>10.255386</td>\n      <td>10.084698</td>\n      <td>10.084437</td>\n      <td>10.084169</td>\n      <td>9.982149</td>\n      <td>10.104177</td>\n      <td>0.5</td>\n      <td>10.0</td>\n      <td>1.0</td>\n      <td>5</td>\n      <td>no</td>\n    </tr>\n  </tbody>\n</table>\n</div>"
     },
     "metadata": {},
     "execution_count": 15
    }
   ],
   "source": [
    "output"
   ]
  },
  {
   "cell_type": "code",
   "execution_count": 16,
   "metadata": {},
   "outputs": [
    {
     "output_type": "error",
     "ename": "ImportError",
     "evalue": "Missing optional dependency 'fsspec'.  Use pip or conda to install fsspec.",
     "traceback": [
      "\u001b[1;31m---------------------------------------------------------------------------\u001b[0m",
      "\u001b[1;31mImportError\u001b[0m                               Traceback (most recent call last)",
      "\u001b[1;32m<ipython-input-16-e202bc14fc62>\u001b[0m in \u001b[0;36m<module>\u001b[1;34m\u001b[0m\n\u001b[1;32m----> 1\u001b[1;33m \u001b[0moutput\u001b[0m\u001b[1;33m.\u001b[0m\u001b[0mto_csv\u001b[0m\u001b[1;33m(\u001b[0m\u001b[1;34m'C://Users//paulo//Documents//Econometrics and ML//Final Project//n_2000_results.csv'\u001b[0m\u001b[1;33m)\u001b[0m\u001b[1;33m\u001b[0m\u001b[1;33m\u001b[0m\u001b[0m\n\u001b[0m",
      "\u001b[1;32m~\\miniconda3\\envs\\econ31330-env\\lib\\site-packages\\pandas\\core\\generic.py\u001b[0m in \u001b[0;36mto_csv\u001b[1;34m(self, path_or_buf, sep, na_rep, float_format, columns, header, index, index_label, mode, encoding, compression, quoting, quotechar, line_terminator, chunksize, date_format, doublequote, escapechar, decimal, errors, storage_options)\u001b[0m\n\u001b[0;32m   3385\u001b[0m         )\n\u001b[0;32m   3386\u001b[0m \u001b[1;33m\u001b[0m\u001b[0m\n\u001b[1;32m-> 3387\u001b[1;33m         return DataFrameRenderer(formatter).to_csv(\n\u001b[0m\u001b[0;32m   3388\u001b[0m             \u001b[0mpath_or_buf\u001b[0m\u001b[1;33m,\u001b[0m\u001b[1;33m\u001b[0m\u001b[1;33m\u001b[0m\u001b[0m\n\u001b[0;32m   3389\u001b[0m             \u001b[0mline_terminator\u001b[0m\u001b[1;33m=\u001b[0m\u001b[0mline_terminator\u001b[0m\u001b[1;33m,\u001b[0m\u001b[1;33m\u001b[0m\u001b[1;33m\u001b[0m\u001b[0m\n",
      "\u001b[1;32m~\\miniconda3\\envs\\econ31330-env\\lib\\site-packages\\pandas\\io\\formats\\format.py\u001b[0m in \u001b[0;36mto_csv\u001b[1;34m(self, path_or_buf, encoding, sep, columns, index_label, mode, compression, quoting, quotechar, line_terminator, chunksize, date_format, doublequote, escapechar, errors, storage_options)\u001b[0m\n\u001b[0;32m   1081\u001b[0m             \u001b[0mformatter\u001b[0m\u001b[1;33m=\u001b[0m\u001b[0mself\u001b[0m\u001b[1;33m.\u001b[0m\u001b[0mfmt\u001b[0m\u001b[1;33m,\u001b[0m\u001b[1;33m\u001b[0m\u001b[1;33m\u001b[0m\u001b[0m\n\u001b[0;32m   1082\u001b[0m         )\n\u001b[1;32m-> 1083\u001b[1;33m         \u001b[0mcsv_formatter\u001b[0m\u001b[1;33m.\u001b[0m\u001b[0msave\u001b[0m\u001b[1;33m(\u001b[0m\u001b[1;33m)\u001b[0m\u001b[1;33m\u001b[0m\u001b[1;33m\u001b[0m\u001b[0m\n\u001b[0m\u001b[0;32m   1084\u001b[0m \u001b[1;33m\u001b[0m\u001b[0m\n\u001b[0;32m   1085\u001b[0m         \u001b[1;32mif\u001b[0m \u001b[0mcreated_buffer\u001b[0m\u001b[1;33m:\u001b[0m\u001b[1;33m\u001b[0m\u001b[1;33m\u001b[0m\u001b[0m\n",
      "\u001b[1;32m~\\miniconda3\\envs\\econ31330-env\\lib\\site-packages\\pandas\\io\\formats\\csvs.py\u001b[0m in \u001b[0;36msave\u001b[1;34m(self)\u001b[0m\n\u001b[0;32m    226\u001b[0m         \"\"\"\n\u001b[0;32m    227\u001b[0m         \u001b[1;31m# apply compression and byte/text conversion\u001b[0m\u001b[1;33m\u001b[0m\u001b[1;33m\u001b[0m\u001b[1;33m\u001b[0m\u001b[0m\n\u001b[1;32m--> 228\u001b[1;33m         with get_handle(\n\u001b[0m\u001b[0;32m    229\u001b[0m             \u001b[0mself\u001b[0m\u001b[1;33m.\u001b[0m\u001b[0mfilepath_or_buffer\u001b[0m\u001b[1;33m,\u001b[0m\u001b[1;33m\u001b[0m\u001b[1;33m\u001b[0m\u001b[0m\n\u001b[0;32m    230\u001b[0m             \u001b[0mself\u001b[0m\u001b[1;33m.\u001b[0m\u001b[0mmode\u001b[0m\u001b[1;33m,\u001b[0m\u001b[1;33m\u001b[0m\u001b[1;33m\u001b[0m\u001b[0m\n",
      "\u001b[1;32m~\\miniconda3\\envs\\econ31330-env\\lib\\site-packages\\pandas\\io\\common.py\u001b[0m in \u001b[0;36mget_handle\u001b[1;34m(path_or_buf, mode, encoding, compression, memory_map, is_text, errors, storage_options)\u001b[0m\n\u001b[0;32m    556\u001b[0m \u001b[1;33m\u001b[0m\u001b[0m\n\u001b[0;32m    557\u001b[0m     \u001b[1;31m# open URLs\u001b[0m\u001b[1;33m\u001b[0m\u001b[1;33m\u001b[0m\u001b[1;33m\u001b[0m\u001b[0m\n\u001b[1;32m--> 558\u001b[1;33m     ioargs = _get_filepath_or_buffer(\n\u001b[0m\u001b[0;32m    559\u001b[0m         \u001b[0mpath_or_buf\u001b[0m\u001b[1;33m,\u001b[0m\u001b[1;33m\u001b[0m\u001b[1;33m\u001b[0m\u001b[0m\n\u001b[0;32m    560\u001b[0m         \u001b[0mencoding\u001b[0m\u001b[1;33m=\u001b[0m\u001b[0mencoding\u001b[0m\u001b[1;33m,\u001b[0m\u001b[1;33m\u001b[0m\u001b[1;33m\u001b[0m\u001b[0m\n",
      "\u001b[1;32m~\\miniconda3\\envs\\econ31330-env\\lib\\site-packages\\pandas\\io\\common.py\u001b[0m in \u001b[0;36m_get_filepath_or_buffer\u001b[1;34m(filepath_or_buffer, encoding, compression, mode, storage_options)\u001b[0m\n\u001b[0;32m    313\u001b[0m         \u001b[1;32mif\u001b[0m \u001b[0mfilepath_or_buffer\u001b[0m\u001b[1;33m.\u001b[0m\u001b[0mstartswith\u001b[0m\u001b[1;33m(\u001b[0m\u001b[1;34m\"s3n://\"\u001b[0m\u001b[1;33m)\u001b[0m\u001b[1;33m:\u001b[0m\u001b[1;33m\u001b[0m\u001b[1;33m\u001b[0m\u001b[0m\n\u001b[0;32m    314\u001b[0m             \u001b[0mfilepath_or_buffer\u001b[0m \u001b[1;33m=\u001b[0m \u001b[0mfilepath_or_buffer\u001b[0m\u001b[1;33m.\u001b[0m\u001b[0mreplace\u001b[0m\u001b[1;33m(\u001b[0m\u001b[1;34m\"s3n://\"\u001b[0m\u001b[1;33m,\u001b[0m \u001b[1;34m\"s3://\"\u001b[0m\u001b[1;33m)\u001b[0m\u001b[1;33m\u001b[0m\u001b[1;33m\u001b[0m\u001b[0m\n\u001b[1;32m--> 315\u001b[1;33m         \u001b[0mfsspec\u001b[0m \u001b[1;33m=\u001b[0m \u001b[0mimport_optional_dependency\u001b[0m\u001b[1;33m(\u001b[0m\u001b[1;34m\"fsspec\"\u001b[0m\u001b[1;33m)\u001b[0m\u001b[1;33m\u001b[0m\u001b[1;33m\u001b[0m\u001b[0m\n\u001b[0m\u001b[0;32m    316\u001b[0m \u001b[1;33m\u001b[0m\u001b[0m\n\u001b[0;32m    317\u001b[0m         \u001b[1;31m# If botocore is installed we fallback to reading with anon=True\u001b[0m\u001b[1;33m\u001b[0m\u001b[1;33m\u001b[0m\u001b[1;33m\u001b[0m\u001b[0m\n",
      "\u001b[1;32m~\\miniconda3\\envs\\econ31330-env\\lib\\site-packages\\pandas\\compat\\_optional.py\u001b[0m in \u001b[0;36mimport_optional_dependency\u001b[1;34m(name, extra, raise_on_missing, on_version)\u001b[0m\n\u001b[0;32m    107\u001b[0m     \u001b[1;32mexcept\u001b[0m \u001b[0mImportError\u001b[0m\u001b[1;33m:\u001b[0m\u001b[1;33m\u001b[0m\u001b[1;33m\u001b[0m\u001b[0m\n\u001b[0;32m    108\u001b[0m         \u001b[1;32mif\u001b[0m \u001b[0mraise_on_missing\u001b[0m\u001b[1;33m:\u001b[0m\u001b[1;33m\u001b[0m\u001b[1;33m\u001b[0m\u001b[0m\n\u001b[1;32m--> 109\u001b[1;33m             \u001b[1;32mraise\u001b[0m \u001b[0mImportError\u001b[0m\u001b[1;33m(\u001b[0m\u001b[0mmsg\u001b[0m\u001b[1;33m)\u001b[0m \u001b[1;32mfrom\u001b[0m \u001b[1;32mNone\u001b[0m\u001b[1;33m\u001b[0m\u001b[1;33m\u001b[0m\u001b[0m\n\u001b[0m\u001b[0;32m    110\u001b[0m         \u001b[1;32melse\u001b[0m\u001b[1;33m:\u001b[0m\u001b[1;33m\u001b[0m\u001b[1;33m\u001b[0m\u001b[0m\n\u001b[0;32m    111\u001b[0m             \u001b[1;32mreturn\u001b[0m \u001b[1;32mNone\u001b[0m\u001b[1;33m\u001b[0m\u001b[1;33m\u001b[0m\u001b[0m\n",
      "\u001b[1;31mImportError\u001b[0m: Missing optional dependency 'fsspec'.  Use pip or conda to install fsspec."
     ]
    }
   ],
   "source": [
    "output.to_csv('C://Users//paulo//Documents//Econometrics and ML//Final Project//n_2000_results.csv')"
   ]
  },
  {
   "cell_type": "code",
   "execution_count": 17,
   "metadata": {},
   "outputs": [],
   "source": [
    "pd.set_option('display.max_rows', 10)"
   ]
  },
  {
   "cell_type": "code",
   "execution_count": 18,
   "metadata": {},
   "outputs": [],
   "source": [
    "output['pca_ape'] = (output['pca_coef'] - output['beta1']).abs()/output['beta1']\n",
    "output['mismeasured_coef_ape'] = (output['mismeasured_coef'] - output['beta1']).abs()/output['beta1']\n",
    "output['mismeasured_allvar_coef_ape'] = (output['mismeasured_allvar_coef'] - output['beta1']).abs()/output['beta1']\n",
    "output['mismeasured_avg_coef_ape'] = (output['mismeasured_avg_coef'] - output['beta1']).abs()/output['beta1']\n",
    "output['iv_coef_ape'] = (output['iv_coef'] - output['beta1']).abs()/output['beta1']"
   ]
  },
  {
   "cell_type": "code",
   "execution_count": 19,
   "metadata": {},
   "outputs": [
    {
     "output_type": "execute_result",
     "data": {
      "text/plain": [
       "    covariance  beta1  beta2  p exp_of_var  mismeasured_coef  \\\n",
       "0         -0.9    1.0    1.0  5         no          0.253317   \n",
       "1         -0.9    1.0    1.0  5        yes          0.312960   \n",
       "2         -0.5    1.0    1.0  5         no          0.703260   \n",
       "3         -0.5    1.0    1.0  5        yes          0.670943   \n",
       "4          0.0    1.0    1.0  5         no          0.993320   \n",
       "..         ...    ...    ... ..        ...               ...   \n",
       "17         0.5    1.0   10.0  5        yes          3.753425   \n",
       "18         0.5   10.0    1.0  5         no         10.255386   \n",
       "19         0.5   10.0    1.0  5        yes         10.281280   \n",
       "20         0.9    1.0    1.0  5         no          1.776549   \n",
       "21         0.9    1.0    1.0  5        yes          1.747159   \n",
       "\n",
       "    mismeasured_allvar_coef  mismeasured_avg_coef   pca_coef  true_val_coef  \\\n",
       "0                  0.557337              0.555925   0.556324       1.034771   \n",
       "1                  0.434659              0.238264   0.414166       1.047758   \n",
       "2                  0.889607              0.891001   0.889483       1.011720   \n",
       "3                  0.772139              0.606857   0.746793       0.960534   \n",
       "4                  1.001567              1.001578   1.001842       0.993013   \n",
       "..                      ...                   ...        ...            ...   \n",
       "17                 2.661201              4.314199   2.795113       0.957088   \n",
       "18                10.084698             10.084437  10.084169       9.982149   \n",
       "19                10.172920             10.336066  10.189723      10.014172   \n",
       "20                 1.489890              1.488711   1.488764       1.062791   \n",
       "21                 1.590578              1.778681   1.642722       0.976463   \n",
       "\n",
       "      iv_coef   pca_ape  mismeasured_coef_ape  mismeasured_allvar_coef_ape  \\\n",
       "0    0.521769  0.443676              0.746683                     0.442663   \n",
       "1    0.359382  0.585834              0.687040                     0.565341   \n",
       "2    0.875617  0.110517              0.296740                     0.110393   \n",
       "3    0.719947  0.253207              0.329057                     0.227861   \n",
       "4    1.000098  0.001842              0.006680                     0.001567   \n",
       "..        ...       ...                   ...                          ...   \n",
       "17   3.110050  1.795113              2.753425                     1.661201   \n",
       "18  10.104177  0.008417              0.025539                     0.008470   \n",
       "19  10.225450  0.018972              0.028128                     0.017292   \n",
       "20   1.543923  0.488764              0.776549                     0.489890   \n",
       "21   1.662344  0.642722              0.747159                     0.590578   \n",
       "\n",
       "    mismeasured_avg_coef_ape  iv_coef_ape  \n",
       "0                   0.444075     0.478231  \n",
       "1                   0.761736     0.640618  \n",
       "2                   0.108999     0.124383  \n",
       "3                   0.393143     0.280053  \n",
       "4                   0.001578     0.000098  \n",
       "..                       ...          ...  \n",
       "17                  3.314199     2.110050  \n",
       "18                  0.008444     0.010418  \n",
       "19                  0.033607     0.022545  \n",
       "20                  0.488711     0.543923  \n",
       "21                  0.778681     0.662344  \n",
       "\n",
       "[22 rows x 16 columns]"
      ],
      "text/html": "<div>\n<style scoped>\n    .dataframe tbody tr th:only-of-type {\n        vertical-align: middle;\n    }\n\n    .dataframe tbody tr th {\n        vertical-align: top;\n    }\n\n    .dataframe thead th {\n        text-align: right;\n    }\n</style>\n<table border=\"1\" class=\"dataframe\">\n  <thead>\n    <tr style=\"text-align: right;\">\n      <th></th>\n      <th>covariance</th>\n      <th>beta1</th>\n      <th>beta2</th>\n      <th>p</th>\n      <th>exp_of_var</th>\n      <th>mismeasured_coef</th>\n      <th>mismeasured_allvar_coef</th>\n      <th>mismeasured_avg_coef</th>\n      <th>pca_coef</th>\n      <th>true_val_coef</th>\n      <th>iv_coef</th>\n      <th>pca_ape</th>\n      <th>mismeasured_coef_ape</th>\n      <th>mismeasured_allvar_coef_ape</th>\n      <th>mismeasured_avg_coef_ape</th>\n      <th>iv_coef_ape</th>\n    </tr>\n  </thead>\n  <tbody>\n    <tr>\n      <th>0</th>\n      <td>-0.9</td>\n      <td>1.0</td>\n      <td>1.0</td>\n      <td>5</td>\n      <td>no</td>\n      <td>0.253317</td>\n      <td>0.557337</td>\n      <td>0.555925</td>\n      <td>0.556324</td>\n      <td>1.034771</td>\n      <td>0.521769</td>\n      <td>0.443676</td>\n      <td>0.746683</td>\n      <td>0.442663</td>\n      <td>0.444075</td>\n      <td>0.478231</td>\n    </tr>\n    <tr>\n      <th>1</th>\n      <td>-0.9</td>\n      <td>1.0</td>\n      <td>1.0</td>\n      <td>5</td>\n      <td>yes</td>\n      <td>0.312960</td>\n      <td>0.434659</td>\n      <td>0.238264</td>\n      <td>0.414166</td>\n      <td>1.047758</td>\n      <td>0.359382</td>\n      <td>0.585834</td>\n      <td>0.687040</td>\n      <td>0.565341</td>\n      <td>0.761736</td>\n      <td>0.640618</td>\n    </tr>\n    <tr>\n      <th>2</th>\n      <td>-0.5</td>\n      <td>1.0</td>\n      <td>1.0</td>\n      <td>5</td>\n      <td>no</td>\n      <td>0.703260</td>\n      <td>0.889607</td>\n      <td>0.891001</td>\n      <td>0.889483</td>\n      <td>1.011720</td>\n      <td>0.875617</td>\n      <td>0.110517</td>\n      <td>0.296740</td>\n      <td>0.110393</td>\n      <td>0.108999</td>\n      <td>0.124383</td>\n    </tr>\n    <tr>\n      <th>3</th>\n      <td>-0.5</td>\n      <td>1.0</td>\n      <td>1.0</td>\n      <td>5</td>\n      <td>yes</td>\n      <td>0.670943</td>\n      <td>0.772139</td>\n      <td>0.606857</td>\n      <td>0.746793</td>\n      <td>0.960534</td>\n      <td>0.719947</td>\n      <td>0.253207</td>\n      <td>0.329057</td>\n      <td>0.227861</td>\n      <td>0.393143</td>\n      <td>0.280053</td>\n    </tr>\n    <tr>\n      <th>4</th>\n      <td>0.0</td>\n      <td>1.0</td>\n      <td>1.0</td>\n      <td>5</td>\n      <td>no</td>\n      <td>0.993320</td>\n      <td>1.001567</td>\n      <td>1.001578</td>\n      <td>1.001842</td>\n      <td>0.993013</td>\n      <td>1.000098</td>\n      <td>0.001842</td>\n      <td>0.006680</td>\n      <td>0.001567</td>\n      <td>0.001578</td>\n      <td>0.000098</td>\n    </tr>\n    <tr>\n      <th>...</th>\n      <td>...</td>\n      <td>...</td>\n      <td>...</td>\n      <td>...</td>\n      <td>...</td>\n      <td>...</td>\n      <td>...</td>\n      <td>...</td>\n      <td>...</td>\n      <td>...</td>\n      <td>...</td>\n      <td>...</td>\n      <td>...</td>\n      <td>...</td>\n      <td>...</td>\n      <td>...</td>\n    </tr>\n    <tr>\n      <th>17</th>\n      <td>0.5</td>\n      <td>1.0</td>\n      <td>10.0</td>\n      <td>5</td>\n      <td>yes</td>\n      <td>3.753425</td>\n      <td>2.661201</td>\n      <td>4.314199</td>\n      <td>2.795113</td>\n      <td>0.957088</td>\n      <td>3.110050</td>\n      <td>1.795113</td>\n      <td>2.753425</td>\n      <td>1.661201</td>\n      <td>3.314199</td>\n      <td>2.110050</td>\n    </tr>\n    <tr>\n      <th>18</th>\n      <td>0.5</td>\n      <td>10.0</td>\n      <td>1.0</td>\n      <td>5</td>\n      <td>no</td>\n      <td>10.255386</td>\n      <td>10.084698</td>\n      <td>10.084437</td>\n      <td>10.084169</td>\n      <td>9.982149</td>\n      <td>10.104177</td>\n      <td>0.008417</td>\n      <td>0.025539</td>\n      <td>0.008470</td>\n      <td>0.008444</td>\n      <td>0.010418</td>\n    </tr>\n    <tr>\n      <th>19</th>\n      <td>0.5</td>\n      <td>10.0</td>\n      <td>1.0</td>\n      <td>5</td>\n      <td>yes</td>\n      <td>10.281280</td>\n      <td>10.172920</td>\n      <td>10.336066</td>\n      <td>10.189723</td>\n      <td>10.014172</td>\n      <td>10.225450</td>\n      <td>0.018972</td>\n      <td>0.028128</td>\n      <td>0.017292</td>\n      <td>0.033607</td>\n      <td>0.022545</td>\n    </tr>\n    <tr>\n      <th>20</th>\n      <td>0.9</td>\n      <td>1.0</td>\n      <td>1.0</td>\n      <td>5</td>\n      <td>no</td>\n      <td>1.776549</td>\n      <td>1.489890</td>\n      <td>1.488711</td>\n      <td>1.488764</td>\n      <td>1.062791</td>\n      <td>1.543923</td>\n      <td>0.488764</td>\n      <td>0.776549</td>\n      <td>0.489890</td>\n      <td>0.488711</td>\n      <td>0.543923</td>\n    </tr>\n    <tr>\n      <th>21</th>\n      <td>0.9</td>\n      <td>1.0</td>\n      <td>1.0</td>\n      <td>5</td>\n      <td>yes</td>\n      <td>1.747159</td>\n      <td>1.590578</td>\n      <td>1.778681</td>\n      <td>1.642722</td>\n      <td>0.976463</td>\n      <td>1.662344</td>\n      <td>0.642722</td>\n      <td>0.747159</td>\n      <td>0.590578</td>\n      <td>0.778681</td>\n      <td>0.662344</td>\n    </tr>\n  </tbody>\n</table>\n<p>22 rows × 16 columns</p>\n</div>"
     },
     "metadata": {},
     "execution_count": 19
    }
   ],
   "source": [
    "output.groupby(['covariance','beta1','beta2','p','exp_of_var']).mean().reset_index()"
   ]
  },
  {
   "cell_type": "code",
   "execution_count": 20,
   "metadata": {},
   "outputs": [
    {
     "output_type": "execute_result",
     "data": {
      "text/plain": [
       "    covariance  beta1  beta2  p exp_of_var  mismeasured_coef  \\\n",
       "0         -0.9    1.0    1.0  5         no               NaN   \n",
       "1         -0.9    1.0    1.0  5        yes               NaN   \n",
       "2         -0.5    1.0    1.0  5         no               NaN   \n",
       "3         -0.5    1.0    1.0  5        yes               NaN   \n",
       "4          0.0    1.0    1.0  5         no               NaN   \n",
       "..         ...    ...    ... ..        ...               ...   \n",
       "17         0.5    1.0   10.0  5        yes               NaN   \n",
       "18         0.5   10.0    1.0  5         no               NaN   \n",
       "19         0.5   10.0    1.0  5        yes               NaN   \n",
       "20         0.9    1.0    1.0  5         no               NaN   \n",
       "21         0.9    1.0    1.0  5        yes               NaN   \n",
       "\n",
       "    mismeasured_allvar_coef  mismeasured_avg_coef  pca_coef  true_val_coef  \\\n",
       "0                       NaN                   NaN       NaN            NaN   \n",
       "1                       NaN                   NaN       NaN            NaN   \n",
       "2                       NaN                   NaN       NaN            NaN   \n",
       "3                       NaN                   NaN       NaN            NaN   \n",
       "4                       NaN                   NaN       NaN            NaN   \n",
       "..                      ...                   ...       ...            ...   \n",
       "17                      NaN                   NaN       NaN            NaN   \n",
       "18                      NaN                   NaN       NaN            NaN   \n",
       "19                      NaN                   NaN       NaN            NaN   \n",
       "20                      NaN                   NaN       NaN            NaN   \n",
       "21                      NaN                   NaN       NaN            NaN   \n",
       "\n",
       "    iv_coef  pca_ape  mismeasured_coef_ape  mismeasured_allvar_coef_ape  \\\n",
       "0       NaN      NaN                   NaN                          NaN   \n",
       "1       NaN      NaN                   NaN                          NaN   \n",
       "2       NaN      NaN                   NaN                          NaN   \n",
       "3       NaN      NaN                   NaN                          NaN   \n",
       "4       NaN      NaN                   NaN                          NaN   \n",
       "..      ...      ...                   ...                          ...   \n",
       "17      NaN      NaN                   NaN                          NaN   \n",
       "18      NaN      NaN                   NaN                          NaN   \n",
       "19      NaN      NaN                   NaN                          NaN   \n",
       "20      NaN      NaN                   NaN                          NaN   \n",
       "21      NaN      NaN                   NaN                          NaN   \n",
       "\n",
       "    mismeasured_avg_coef_ape  iv_coef_ape  \n",
       "0                        NaN          NaN  \n",
       "1                        NaN          NaN  \n",
       "2                        NaN          NaN  \n",
       "3                        NaN          NaN  \n",
       "4                        NaN          NaN  \n",
       "..                       ...          ...  \n",
       "17                       NaN          NaN  \n",
       "18                       NaN          NaN  \n",
       "19                       NaN          NaN  \n",
       "20                       NaN          NaN  \n",
       "21                       NaN          NaN  \n",
       "\n",
       "[22 rows x 16 columns]"
      ],
      "text/html": "<div>\n<style scoped>\n    .dataframe tbody tr th:only-of-type {\n        vertical-align: middle;\n    }\n\n    .dataframe tbody tr th {\n        vertical-align: top;\n    }\n\n    .dataframe thead th {\n        text-align: right;\n    }\n</style>\n<table border=\"1\" class=\"dataframe\">\n  <thead>\n    <tr style=\"text-align: right;\">\n      <th></th>\n      <th>covariance</th>\n      <th>beta1</th>\n      <th>beta2</th>\n      <th>p</th>\n      <th>exp_of_var</th>\n      <th>mismeasured_coef</th>\n      <th>mismeasured_allvar_coef</th>\n      <th>mismeasured_avg_coef</th>\n      <th>pca_coef</th>\n      <th>true_val_coef</th>\n      <th>iv_coef</th>\n      <th>pca_ape</th>\n      <th>mismeasured_coef_ape</th>\n      <th>mismeasured_allvar_coef_ape</th>\n      <th>mismeasured_avg_coef_ape</th>\n      <th>iv_coef_ape</th>\n    </tr>\n  </thead>\n  <tbody>\n    <tr>\n      <th>0</th>\n      <td>-0.9</td>\n      <td>1.0</td>\n      <td>1.0</td>\n      <td>5</td>\n      <td>no</td>\n      <td>NaN</td>\n      <td>NaN</td>\n      <td>NaN</td>\n      <td>NaN</td>\n      <td>NaN</td>\n      <td>NaN</td>\n      <td>NaN</td>\n      <td>NaN</td>\n      <td>NaN</td>\n      <td>NaN</td>\n      <td>NaN</td>\n    </tr>\n    <tr>\n      <th>1</th>\n      <td>-0.9</td>\n      <td>1.0</td>\n      <td>1.0</td>\n      <td>5</td>\n      <td>yes</td>\n      <td>NaN</td>\n      <td>NaN</td>\n      <td>NaN</td>\n      <td>NaN</td>\n      <td>NaN</td>\n      <td>NaN</td>\n      <td>NaN</td>\n      <td>NaN</td>\n      <td>NaN</td>\n      <td>NaN</td>\n      <td>NaN</td>\n    </tr>\n    <tr>\n      <th>2</th>\n      <td>-0.5</td>\n      <td>1.0</td>\n      <td>1.0</td>\n      <td>5</td>\n      <td>no</td>\n      <td>NaN</td>\n      <td>NaN</td>\n      <td>NaN</td>\n      <td>NaN</td>\n      <td>NaN</td>\n      <td>NaN</td>\n      <td>NaN</td>\n      <td>NaN</td>\n      <td>NaN</td>\n      <td>NaN</td>\n      <td>NaN</td>\n    </tr>\n    <tr>\n      <th>3</th>\n      <td>-0.5</td>\n      <td>1.0</td>\n      <td>1.0</td>\n      <td>5</td>\n      <td>yes</td>\n      <td>NaN</td>\n      <td>NaN</td>\n      <td>NaN</td>\n      <td>NaN</td>\n      <td>NaN</td>\n      <td>NaN</td>\n      <td>NaN</td>\n      <td>NaN</td>\n      <td>NaN</td>\n      <td>NaN</td>\n      <td>NaN</td>\n    </tr>\n    <tr>\n      <th>4</th>\n      <td>0.0</td>\n      <td>1.0</td>\n      <td>1.0</td>\n      <td>5</td>\n      <td>no</td>\n      <td>NaN</td>\n      <td>NaN</td>\n      <td>NaN</td>\n      <td>NaN</td>\n      <td>NaN</td>\n      <td>NaN</td>\n      <td>NaN</td>\n      <td>NaN</td>\n      <td>NaN</td>\n      <td>NaN</td>\n      <td>NaN</td>\n    </tr>\n    <tr>\n      <th>...</th>\n      <td>...</td>\n      <td>...</td>\n      <td>...</td>\n      <td>...</td>\n      <td>...</td>\n      <td>...</td>\n      <td>...</td>\n      <td>...</td>\n      <td>...</td>\n      <td>...</td>\n      <td>...</td>\n      <td>...</td>\n      <td>...</td>\n      <td>...</td>\n      <td>...</td>\n      <td>...</td>\n    </tr>\n    <tr>\n      <th>17</th>\n      <td>0.5</td>\n      <td>1.0</td>\n      <td>10.0</td>\n      <td>5</td>\n      <td>yes</td>\n      <td>NaN</td>\n      <td>NaN</td>\n      <td>NaN</td>\n      <td>NaN</td>\n      <td>NaN</td>\n      <td>NaN</td>\n      <td>NaN</td>\n      <td>NaN</td>\n      <td>NaN</td>\n      <td>NaN</td>\n      <td>NaN</td>\n    </tr>\n    <tr>\n      <th>18</th>\n      <td>0.5</td>\n      <td>10.0</td>\n      <td>1.0</td>\n      <td>5</td>\n      <td>no</td>\n      <td>NaN</td>\n      <td>NaN</td>\n      <td>NaN</td>\n      <td>NaN</td>\n      <td>NaN</td>\n      <td>NaN</td>\n      <td>NaN</td>\n      <td>NaN</td>\n      <td>NaN</td>\n      <td>NaN</td>\n      <td>NaN</td>\n    </tr>\n    <tr>\n      <th>19</th>\n      <td>0.5</td>\n      <td>10.0</td>\n      <td>1.0</td>\n      <td>5</td>\n      <td>yes</td>\n      <td>NaN</td>\n      <td>NaN</td>\n      <td>NaN</td>\n      <td>NaN</td>\n      <td>NaN</td>\n      <td>NaN</td>\n      <td>NaN</td>\n      <td>NaN</td>\n      <td>NaN</td>\n      <td>NaN</td>\n      <td>NaN</td>\n    </tr>\n    <tr>\n      <th>20</th>\n      <td>0.9</td>\n      <td>1.0</td>\n      <td>1.0</td>\n      <td>5</td>\n      <td>no</td>\n      <td>NaN</td>\n      <td>NaN</td>\n      <td>NaN</td>\n      <td>NaN</td>\n      <td>NaN</td>\n      <td>NaN</td>\n      <td>NaN</td>\n      <td>NaN</td>\n      <td>NaN</td>\n      <td>NaN</td>\n      <td>NaN</td>\n    </tr>\n    <tr>\n      <th>21</th>\n      <td>0.9</td>\n      <td>1.0</td>\n      <td>1.0</td>\n      <td>5</td>\n      <td>yes</td>\n      <td>NaN</td>\n      <td>NaN</td>\n      <td>NaN</td>\n      <td>NaN</td>\n      <td>NaN</td>\n      <td>NaN</td>\n      <td>NaN</td>\n      <td>NaN</td>\n      <td>NaN</td>\n      <td>NaN</td>\n      <td>NaN</td>\n    </tr>\n  </tbody>\n</table>\n<p>22 rows × 16 columns</p>\n</div>"
     },
     "metadata": {},
     "execution_count": 20
    }
   ],
   "source": [
    "output.groupby(['covariance','beta1','beta2','p','exp_of_var']).std().reset_index()"
   ]
  },
  {
   "cell_type": "code",
   "execution_count": 21,
   "metadata": {},
   "outputs": [
    {
     "output_type": "execute_result",
     "data": {
      "text/plain": [
       "   covariance  beta1  beta2   p  mismeasured_coef  mismeasured_allvar_coef  \\\n",
       "0         0.5    1.0    1.0   5          1.294988                 1.190368   \n",
       "1         0.5    1.0    1.0  20          1.238942                 1.015418   \n",
       "2         0.5    1.0    1.0  50          1.268200                 1.017634   \n",
       "\n",
       "   mismeasured_avg_coef  pca_coef  true_val_coef   iv_coef   pca_ape  \\\n",
       "0              1.361737  1.187250       0.993675  1.240627  0.187250   \n",
       "1              1.239692  1.043035       0.980625  1.027858  0.043035   \n",
       "2              1.261771  1.058399       0.996999  1.041114  0.058399   \n",
       "\n",
       "   mismeasured_coef_ape  mismeasured_allvar_coef_ape  \\\n",
       "0              0.294988                     0.190368   \n",
       "1              0.238942                     0.015418   \n",
       "2              0.268200                     0.017634   \n",
       "\n",
       "   mismeasured_avg_coef_ape  iv_coef_ape  \n",
       "0                  0.361737     0.240627  \n",
       "1                  0.239692     0.027858  \n",
       "2                  0.261771     0.041114  "
      ],
      "text/html": "<div>\n<style scoped>\n    .dataframe tbody tr th:only-of-type {\n        vertical-align: middle;\n    }\n\n    .dataframe tbody tr th {\n        vertical-align: top;\n    }\n\n    .dataframe thead th {\n        text-align: right;\n    }\n</style>\n<table border=\"1\" class=\"dataframe\">\n  <thead>\n    <tr style=\"text-align: right;\">\n      <th></th>\n      <th>covariance</th>\n      <th>beta1</th>\n      <th>beta2</th>\n      <th>p</th>\n      <th>mismeasured_coef</th>\n      <th>mismeasured_allvar_coef</th>\n      <th>mismeasured_avg_coef</th>\n      <th>pca_coef</th>\n      <th>true_val_coef</th>\n      <th>iv_coef</th>\n      <th>pca_ape</th>\n      <th>mismeasured_coef_ape</th>\n      <th>mismeasured_allvar_coef_ape</th>\n      <th>mismeasured_avg_coef_ape</th>\n      <th>iv_coef_ape</th>\n    </tr>\n  </thead>\n  <tbody>\n    <tr>\n      <th>0</th>\n      <td>0.5</td>\n      <td>1.0</td>\n      <td>1.0</td>\n      <td>5</td>\n      <td>1.294988</td>\n      <td>1.190368</td>\n      <td>1.361737</td>\n      <td>1.187250</td>\n      <td>0.993675</td>\n      <td>1.240627</td>\n      <td>0.187250</td>\n      <td>0.294988</td>\n      <td>0.190368</td>\n      <td>0.361737</td>\n      <td>0.240627</td>\n    </tr>\n    <tr>\n      <th>1</th>\n      <td>0.5</td>\n      <td>1.0</td>\n      <td>1.0</td>\n      <td>20</td>\n      <td>1.238942</td>\n      <td>1.015418</td>\n      <td>1.239692</td>\n      <td>1.043035</td>\n      <td>0.980625</td>\n      <td>1.027858</td>\n      <td>0.043035</td>\n      <td>0.238942</td>\n      <td>0.015418</td>\n      <td>0.239692</td>\n      <td>0.027858</td>\n    </tr>\n    <tr>\n      <th>2</th>\n      <td>0.5</td>\n      <td>1.0</td>\n      <td>1.0</td>\n      <td>50</td>\n      <td>1.268200</td>\n      <td>1.017634</td>\n      <td>1.261771</td>\n      <td>1.058399</td>\n      <td>0.996999</td>\n      <td>1.041114</td>\n      <td>0.058399</td>\n      <td>0.268200</td>\n      <td>0.017634</td>\n      <td>0.261771</td>\n      <td>0.041114</td>\n    </tr>\n  </tbody>\n</table>\n</div>"
     },
     "metadata": {},
     "execution_count": 21
    }
   ],
   "source": [
    "output.loc[(output['beta1']==1)&(output['beta2']==1)&(output['covariance'] == 0.5)&(output['exp_of_var']=='yes')].groupby(['covariance','beta1','beta2','p']).mean().reset_index()"
   ]
  },
  {
   "cell_type": "code",
   "execution_count": 22,
   "metadata": {},
   "outputs": [
    {
     "output_type": "execute_result",
     "data": {
      "text/plain": [
       "   covariance  beta1  beta2   p  mismeasured_coef  mismeasured_allvar_coef  \\\n",
       "0         0.5    1.0    1.0   5               NaN                      NaN   \n",
       "1         0.5    1.0    1.0  20               NaN                      NaN   \n",
       "2         0.5    1.0    1.0  50               NaN                      NaN   \n",
       "\n",
       "   mismeasured_avg_coef  pca_coef  true_val_coef  iv_coef  pca_ape  \\\n",
       "0                   NaN       NaN            NaN      NaN      NaN   \n",
       "1                   NaN       NaN            NaN      NaN      NaN   \n",
       "2                   NaN       NaN            NaN      NaN      NaN   \n",
       "\n",
       "   mismeasured_coef_ape  mismeasured_allvar_coef_ape  \\\n",
       "0                   NaN                          NaN   \n",
       "1                   NaN                          NaN   \n",
       "2                   NaN                          NaN   \n",
       "\n",
       "   mismeasured_avg_coef_ape  iv_coef_ape  \n",
       "0                       NaN          NaN  \n",
       "1                       NaN          NaN  \n",
       "2                       NaN          NaN  "
      ],
      "text/html": "<div>\n<style scoped>\n    .dataframe tbody tr th:only-of-type {\n        vertical-align: middle;\n    }\n\n    .dataframe tbody tr th {\n        vertical-align: top;\n    }\n\n    .dataframe thead th {\n        text-align: right;\n    }\n</style>\n<table border=\"1\" class=\"dataframe\">\n  <thead>\n    <tr style=\"text-align: right;\">\n      <th></th>\n      <th>covariance</th>\n      <th>beta1</th>\n      <th>beta2</th>\n      <th>p</th>\n      <th>mismeasured_coef</th>\n      <th>mismeasured_allvar_coef</th>\n      <th>mismeasured_avg_coef</th>\n      <th>pca_coef</th>\n      <th>true_val_coef</th>\n      <th>iv_coef</th>\n      <th>pca_ape</th>\n      <th>mismeasured_coef_ape</th>\n      <th>mismeasured_allvar_coef_ape</th>\n      <th>mismeasured_avg_coef_ape</th>\n      <th>iv_coef_ape</th>\n    </tr>\n  </thead>\n  <tbody>\n    <tr>\n      <th>0</th>\n      <td>0.5</td>\n      <td>1.0</td>\n      <td>1.0</td>\n      <td>5</td>\n      <td>NaN</td>\n      <td>NaN</td>\n      <td>NaN</td>\n      <td>NaN</td>\n      <td>NaN</td>\n      <td>NaN</td>\n      <td>NaN</td>\n      <td>NaN</td>\n      <td>NaN</td>\n      <td>NaN</td>\n      <td>NaN</td>\n    </tr>\n    <tr>\n      <th>1</th>\n      <td>0.5</td>\n      <td>1.0</td>\n      <td>1.0</td>\n      <td>20</td>\n      <td>NaN</td>\n      <td>NaN</td>\n      <td>NaN</td>\n      <td>NaN</td>\n      <td>NaN</td>\n      <td>NaN</td>\n      <td>NaN</td>\n      <td>NaN</td>\n      <td>NaN</td>\n      <td>NaN</td>\n      <td>NaN</td>\n    </tr>\n    <tr>\n      <th>2</th>\n      <td>0.5</td>\n      <td>1.0</td>\n      <td>1.0</td>\n      <td>50</td>\n      <td>NaN</td>\n      <td>NaN</td>\n      <td>NaN</td>\n      <td>NaN</td>\n      <td>NaN</td>\n      <td>NaN</td>\n      <td>NaN</td>\n      <td>NaN</td>\n      <td>NaN</td>\n      <td>NaN</td>\n      <td>NaN</td>\n    </tr>\n  </tbody>\n</table>\n</div>"
     },
     "metadata": {},
     "execution_count": 22
    }
   ],
   "source": [
    "output.loc[(output['beta1']==1)&(output['beta2']==1)&(output['covariance'] == 0.5)&(output['exp_of_var']=='yes')].groupby(['covariance','beta1','beta2','p']).std().reset_index()"
   ]
  },
  {
   "cell_type": "code",
   "execution_count": null,
   "metadata": {},
   "outputs": [],
   "source": []
  },
  {
   "cell_type": "code",
   "execution_count": 23,
   "metadata": {},
   "outputs": [
    {
     "output_type": "execute_result",
     "data": {
      "text/plain": [
       "   covariance  beta1  beta2  p  mismeasured_coef  mismeasured_allvar_coef  \\\n",
       "0         0.5    0.1    1.0  5          0.384711                 0.284687   \n",
       "1         0.5    1.0    1.0  5          1.294988                 1.190368   \n",
       "2         0.5   10.0    1.0  5         10.281280                10.172920   \n",
       "\n",
       "   mismeasured_avg_coef   pca_coef  true_val_coef    iv_coef   pca_ape  \\\n",
       "0              0.461622   0.304217       0.078832   0.336824  2.042171   \n",
       "1              1.361737   1.187250       0.993675   1.240627  0.187250   \n",
       "2             10.336066  10.189723      10.014172  10.225450  0.018972   \n",
       "\n",
       "   mismeasured_coef_ape  mismeasured_allvar_coef_ape  \\\n",
       "0              2.847107                     1.846874   \n",
       "1              0.294988                     0.190368   \n",
       "2              0.028128                     0.017292   \n",
       "\n",
       "   mismeasured_avg_coef_ape  iv_coef_ape  \n",
       "0                  3.616217     2.368239  \n",
       "1                  0.361737     0.240627  \n",
       "2                  0.033607     0.022545  "
      ],
      "text/html": "<div>\n<style scoped>\n    .dataframe tbody tr th:only-of-type {\n        vertical-align: middle;\n    }\n\n    .dataframe tbody tr th {\n        vertical-align: top;\n    }\n\n    .dataframe thead th {\n        text-align: right;\n    }\n</style>\n<table border=\"1\" class=\"dataframe\">\n  <thead>\n    <tr style=\"text-align: right;\">\n      <th></th>\n      <th>covariance</th>\n      <th>beta1</th>\n      <th>beta2</th>\n      <th>p</th>\n      <th>mismeasured_coef</th>\n      <th>mismeasured_allvar_coef</th>\n      <th>mismeasured_avg_coef</th>\n      <th>pca_coef</th>\n      <th>true_val_coef</th>\n      <th>iv_coef</th>\n      <th>pca_ape</th>\n      <th>mismeasured_coef_ape</th>\n      <th>mismeasured_allvar_coef_ape</th>\n      <th>mismeasured_avg_coef_ape</th>\n      <th>iv_coef_ape</th>\n    </tr>\n  </thead>\n  <tbody>\n    <tr>\n      <th>0</th>\n      <td>0.5</td>\n      <td>0.1</td>\n      <td>1.0</td>\n      <td>5</td>\n      <td>0.384711</td>\n      <td>0.284687</td>\n      <td>0.461622</td>\n      <td>0.304217</td>\n      <td>0.078832</td>\n      <td>0.336824</td>\n      <td>2.042171</td>\n      <td>2.847107</td>\n      <td>1.846874</td>\n      <td>3.616217</td>\n      <td>2.368239</td>\n    </tr>\n    <tr>\n      <th>1</th>\n      <td>0.5</td>\n      <td>1.0</td>\n      <td>1.0</td>\n      <td>5</td>\n      <td>1.294988</td>\n      <td>1.190368</td>\n      <td>1.361737</td>\n      <td>1.187250</td>\n      <td>0.993675</td>\n      <td>1.240627</td>\n      <td>0.187250</td>\n      <td>0.294988</td>\n      <td>0.190368</td>\n      <td>0.361737</td>\n      <td>0.240627</td>\n    </tr>\n    <tr>\n      <th>2</th>\n      <td>0.5</td>\n      <td>10.0</td>\n      <td>1.0</td>\n      <td>5</td>\n      <td>10.281280</td>\n      <td>10.172920</td>\n      <td>10.336066</td>\n      <td>10.189723</td>\n      <td>10.014172</td>\n      <td>10.225450</td>\n      <td>0.018972</td>\n      <td>0.028128</td>\n      <td>0.017292</td>\n      <td>0.033607</td>\n      <td>0.022545</td>\n    </tr>\n  </tbody>\n</table>\n</div>"
     },
     "metadata": {},
     "execution_count": 23
    }
   ],
   "source": [
    "output.loc[(output['p']==5)&(output['beta2']==1)&(output['covariance'] == 0.5)&(output['exp_of_var']=='yes')].groupby(['covariance','beta1','beta2','p']).mean().reset_index()"
   ]
  },
  {
   "cell_type": "code",
   "execution_count": 24,
   "metadata": {},
   "outputs": [
    {
     "output_type": "execute_result",
     "data": {
      "text/plain": [
       "   covariance  beta1  beta2  p  mismeasured_coef  mismeasured_allvar_coef  \\\n",
       "0         0.5    0.1    1.0  5               NaN                      NaN   \n",
       "1         0.5    1.0    1.0  5               NaN                      NaN   \n",
       "2         0.5   10.0    1.0  5               NaN                      NaN   \n",
       "\n",
       "   mismeasured_avg_coef  pca_coef  true_val_coef  iv_coef  pca_ape  \\\n",
       "0                   NaN       NaN            NaN      NaN      NaN   \n",
       "1                   NaN       NaN            NaN      NaN      NaN   \n",
       "2                   NaN       NaN            NaN      NaN      NaN   \n",
       "\n",
       "   mismeasured_coef_ape  mismeasured_allvar_coef_ape  \\\n",
       "0                   NaN                          NaN   \n",
       "1                   NaN                          NaN   \n",
       "2                   NaN                          NaN   \n",
       "\n",
       "   mismeasured_avg_coef_ape  iv_coef_ape  \n",
       "0                       NaN          NaN  \n",
       "1                       NaN          NaN  \n",
       "2                       NaN          NaN  "
      ],
      "text/html": "<div>\n<style scoped>\n    .dataframe tbody tr th:only-of-type {\n        vertical-align: middle;\n    }\n\n    .dataframe tbody tr th {\n        vertical-align: top;\n    }\n\n    .dataframe thead th {\n        text-align: right;\n    }\n</style>\n<table border=\"1\" class=\"dataframe\">\n  <thead>\n    <tr style=\"text-align: right;\">\n      <th></th>\n      <th>covariance</th>\n      <th>beta1</th>\n      <th>beta2</th>\n      <th>p</th>\n      <th>mismeasured_coef</th>\n      <th>mismeasured_allvar_coef</th>\n      <th>mismeasured_avg_coef</th>\n      <th>pca_coef</th>\n      <th>true_val_coef</th>\n      <th>iv_coef</th>\n      <th>pca_ape</th>\n      <th>mismeasured_coef_ape</th>\n      <th>mismeasured_allvar_coef_ape</th>\n      <th>mismeasured_avg_coef_ape</th>\n      <th>iv_coef_ape</th>\n    </tr>\n  </thead>\n  <tbody>\n    <tr>\n      <th>0</th>\n      <td>0.5</td>\n      <td>0.1</td>\n      <td>1.0</td>\n      <td>5</td>\n      <td>NaN</td>\n      <td>NaN</td>\n      <td>NaN</td>\n      <td>NaN</td>\n      <td>NaN</td>\n      <td>NaN</td>\n      <td>NaN</td>\n      <td>NaN</td>\n      <td>NaN</td>\n      <td>NaN</td>\n      <td>NaN</td>\n    </tr>\n    <tr>\n      <th>1</th>\n      <td>0.5</td>\n      <td>1.0</td>\n      <td>1.0</td>\n      <td>5</td>\n      <td>NaN</td>\n      <td>NaN</td>\n      <td>NaN</td>\n      <td>NaN</td>\n      <td>NaN</td>\n      <td>NaN</td>\n      <td>NaN</td>\n      <td>NaN</td>\n      <td>NaN</td>\n      <td>NaN</td>\n      <td>NaN</td>\n    </tr>\n    <tr>\n      <th>2</th>\n      <td>0.5</td>\n      <td>10.0</td>\n      <td>1.0</td>\n      <td>5</td>\n      <td>NaN</td>\n      <td>NaN</td>\n      <td>NaN</td>\n      <td>NaN</td>\n      <td>NaN</td>\n      <td>NaN</td>\n      <td>NaN</td>\n      <td>NaN</td>\n      <td>NaN</td>\n      <td>NaN</td>\n      <td>NaN</td>\n    </tr>\n  </tbody>\n</table>\n</div>"
     },
     "metadata": {},
     "execution_count": 24
    }
   ],
   "source": [
    "output.loc[(output['p']==5)&(output['beta2']==1)&(output['covariance'] == 0.5)&(output['exp_of_var']=='yes')].groupby(['covariance','beta1','beta2','p']).std().reset_index()"
   ]
  },
  {
   "cell_type": "code",
   "execution_count": null,
   "metadata": {},
   "outputs": [],
   "source": []
  },
  {
   "cell_type": "code",
   "execution_count": 25,
   "metadata": {},
   "outputs": [
    {
     "output_type": "execute_result",
     "data": {
      "text/plain": [
       "   covariance  beta1  beta2  p  mismeasured_coef  mismeasured_allvar_coef  \\\n",
       "0         0.5    1.0    0.1  5          1.023938                 1.013558   \n",
       "1         0.5    1.0    1.0  5          1.294988                 1.190368   \n",
       "2         0.5    1.0   10.0  5          3.753425                 2.661201   \n",
       "\n",
       "   mismeasured_avg_coef  pca_coef  true_val_coef   iv_coef   pca_ape  \\\n",
       "0              1.047948  1.022123       1.000814  1.023621  0.022123   \n",
       "1              1.361737  1.187250       0.993675  1.240627  0.187250   \n",
       "2              4.314199  2.795113       0.957088  3.110050  1.795113   \n",
       "\n",
       "   mismeasured_coef_ape  mismeasured_allvar_coef_ape  \\\n",
       "0              0.023938                     0.013558   \n",
       "1              0.294988                     0.190368   \n",
       "2              2.753425                     1.661201   \n",
       "\n",
       "   mismeasured_avg_coef_ape  iv_coef_ape  \n",
       "0                  0.047948     0.023621  \n",
       "1                  0.361737     0.240627  \n",
       "2                  3.314199     2.110050  "
      ],
      "text/html": "<div>\n<style scoped>\n    .dataframe tbody tr th:only-of-type {\n        vertical-align: middle;\n    }\n\n    .dataframe tbody tr th {\n        vertical-align: top;\n    }\n\n    .dataframe thead th {\n        text-align: right;\n    }\n</style>\n<table border=\"1\" class=\"dataframe\">\n  <thead>\n    <tr style=\"text-align: right;\">\n      <th></th>\n      <th>covariance</th>\n      <th>beta1</th>\n      <th>beta2</th>\n      <th>p</th>\n      <th>mismeasured_coef</th>\n      <th>mismeasured_allvar_coef</th>\n      <th>mismeasured_avg_coef</th>\n      <th>pca_coef</th>\n      <th>true_val_coef</th>\n      <th>iv_coef</th>\n      <th>pca_ape</th>\n      <th>mismeasured_coef_ape</th>\n      <th>mismeasured_allvar_coef_ape</th>\n      <th>mismeasured_avg_coef_ape</th>\n      <th>iv_coef_ape</th>\n    </tr>\n  </thead>\n  <tbody>\n    <tr>\n      <th>0</th>\n      <td>0.5</td>\n      <td>1.0</td>\n      <td>0.1</td>\n      <td>5</td>\n      <td>1.023938</td>\n      <td>1.013558</td>\n      <td>1.047948</td>\n      <td>1.022123</td>\n      <td>1.000814</td>\n      <td>1.023621</td>\n      <td>0.022123</td>\n      <td>0.023938</td>\n      <td>0.013558</td>\n      <td>0.047948</td>\n      <td>0.023621</td>\n    </tr>\n    <tr>\n      <th>1</th>\n      <td>0.5</td>\n      <td>1.0</td>\n      <td>1.0</td>\n      <td>5</td>\n      <td>1.294988</td>\n      <td>1.190368</td>\n      <td>1.361737</td>\n      <td>1.187250</td>\n      <td>0.993675</td>\n      <td>1.240627</td>\n      <td>0.187250</td>\n      <td>0.294988</td>\n      <td>0.190368</td>\n      <td>0.361737</td>\n      <td>0.240627</td>\n    </tr>\n    <tr>\n      <th>2</th>\n      <td>0.5</td>\n      <td>1.0</td>\n      <td>10.0</td>\n      <td>5</td>\n      <td>3.753425</td>\n      <td>2.661201</td>\n      <td>4.314199</td>\n      <td>2.795113</td>\n      <td>0.957088</td>\n      <td>3.110050</td>\n      <td>1.795113</td>\n      <td>2.753425</td>\n      <td>1.661201</td>\n      <td>3.314199</td>\n      <td>2.110050</td>\n    </tr>\n  </tbody>\n</table>\n</div>"
     },
     "metadata": {},
     "execution_count": 25
    }
   ],
   "source": [
    "output.loc[(output['beta1']==1)&(output['p']==5)&(output['covariance'] == 0.5)&(output['exp_of_var']=='yes')].groupby(['covariance','beta1','beta2','p']).mean().reset_index()"
   ]
  },
  {
   "cell_type": "code",
   "execution_count": 26,
   "metadata": {},
   "outputs": [
    {
     "output_type": "execute_result",
     "data": {
      "text/plain": [
       "   covariance  beta1  beta2  p  mismeasured_coef  mismeasured_allvar_coef  \\\n",
       "0         0.5    1.0    0.1  5               NaN                      NaN   \n",
       "1         0.5    1.0    1.0  5               NaN                      NaN   \n",
       "2         0.5    1.0   10.0  5               NaN                      NaN   \n",
       "\n",
       "   mismeasured_avg_coef  pca_coef  true_val_coef  iv_coef  pca_ape  \\\n",
       "0                   NaN       NaN            NaN      NaN      NaN   \n",
       "1                   NaN       NaN            NaN      NaN      NaN   \n",
       "2                   NaN       NaN            NaN      NaN      NaN   \n",
       "\n",
       "   mismeasured_coef_ape  mismeasured_allvar_coef_ape  \\\n",
       "0                   NaN                          NaN   \n",
       "1                   NaN                          NaN   \n",
       "2                   NaN                          NaN   \n",
       "\n",
       "   mismeasured_avg_coef_ape  iv_coef_ape  \n",
       "0                       NaN          NaN  \n",
       "1                       NaN          NaN  \n",
       "2                       NaN          NaN  "
      ],
      "text/html": "<div>\n<style scoped>\n    .dataframe tbody tr th:only-of-type {\n        vertical-align: middle;\n    }\n\n    .dataframe tbody tr th {\n        vertical-align: top;\n    }\n\n    .dataframe thead th {\n        text-align: right;\n    }\n</style>\n<table border=\"1\" class=\"dataframe\">\n  <thead>\n    <tr style=\"text-align: right;\">\n      <th></th>\n      <th>covariance</th>\n      <th>beta1</th>\n      <th>beta2</th>\n      <th>p</th>\n      <th>mismeasured_coef</th>\n      <th>mismeasured_allvar_coef</th>\n      <th>mismeasured_avg_coef</th>\n      <th>pca_coef</th>\n      <th>true_val_coef</th>\n      <th>iv_coef</th>\n      <th>pca_ape</th>\n      <th>mismeasured_coef_ape</th>\n      <th>mismeasured_allvar_coef_ape</th>\n      <th>mismeasured_avg_coef_ape</th>\n      <th>iv_coef_ape</th>\n    </tr>\n  </thead>\n  <tbody>\n    <tr>\n      <th>0</th>\n      <td>0.5</td>\n      <td>1.0</td>\n      <td>0.1</td>\n      <td>5</td>\n      <td>NaN</td>\n      <td>NaN</td>\n      <td>NaN</td>\n      <td>NaN</td>\n      <td>NaN</td>\n      <td>NaN</td>\n      <td>NaN</td>\n      <td>NaN</td>\n      <td>NaN</td>\n      <td>NaN</td>\n      <td>NaN</td>\n    </tr>\n    <tr>\n      <th>1</th>\n      <td>0.5</td>\n      <td>1.0</td>\n      <td>1.0</td>\n      <td>5</td>\n      <td>NaN</td>\n      <td>NaN</td>\n      <td>NaN</td>\n      <td>NaN</td>\n      <td>NaN</td>\n      <td>NaN</td>\n      <td>NaN</td>\n      <td>NaN</td>\n      <td>NaN</td>\n      <td>NaN</td>\n      <td>NaN</td>\n    </tr>\n    <tr>\n      <th>2</th>\n      <td>0.5</td>\n      <td>1.0</td>\n      <td>10.0</td>\n      <td>5</td>\n      <td>NaN</td>\n      <td>NaN</td>\n      <td>NaN</td>\n      <td>NaN</td>\n      <td>NaN</td>\n      <td>NaN</td>\n      <td>NaN</td>\n      <td>NaN</td>\n      <td>NaN</td>\n      <td>NaN</td>\n      <td>NaN</td>\n    </tr>\n  </tbody>\n</table>\n</div>"
     },
     "metadata": {},
     "execution_count": 26
    }
   ],
   "source": [
    "output.loc[(output['beta1']==1)&(output['p']==5)&(output['covariance'] == 0.5)&(output['exp_of_var']=='yes')].groupby(['covariance','beta1','beta2','p']).std().reset_index()"
   ]
  },
  {
   "cell_type": "code",
   "execution_count": 50,
   "metadata": {},
   "outputs": [],
   "source": [
    "import regex as re"
   ]
  },
  {
   "cell_type": "code",
   "execution_count": 63,
   "metadata": {},
   "outputs": [],
   "source": [
    "test_df = (output.loc[(output['beta1']==1)&(output['beta2']==1)&(output['p'] == 5)&(output['exp_of_var']=='yes')]\n",
    "                 .groupby(['covariance','beta1','beta2','p'])\n",
    "                 .mean()\n",
    "                 .reset_index())\n",
    "\n",
    "coefs_table = (test_df.transpose()\n",
    "                      .reset_index()\n",
    "                      .query('index.str.contains(\"coef\")')\n",
    "                      .query('index != \"true_val_coef\"')\n",
    "                      .query('not index.str.contains(\"ape\")'))\n",
    "\n",
    "#print(re.sub(r'\\\\hline', '', re.sub(r'\\\\begin.+', '', tabulate(coefs_table, tablefmt=\"latex_raw\"))))\n",
    "with open(\"test.tex\", \"w\") as f:\n",
    "    corrected_table = coefs_table.to_latex(header = False, index = False)\n",
    "    corrected_table = re.sub(r'\\\\begin.+', '', corrected_table)\n",
    "    corrected_table = re.sub(r'\\\\bottomrule', '', corrected_table)\n",
    "    corrected_table = re.sub(r'\\\\toprule', '', corrected_table)\n",
    "    corrected_table = re.sub(r'\\\\end.+', '', corrected_table)\n",
    "    f.write(corrected_table.strip())"
   ]
  },
  {
   "cell_type": "code",
   "execution_count": 28,
   "metadata": {},
   "outputs": [
    {
     "output_type": "execute_result",
     "data": {
      "text/plain": [
       "   covariance  beta1  beta2  p  mismeasured_coef  mismeasured_allvar_coef  \\\n",
       "0        -0.9    1.0    1.0  5               NaN                      NaN   \n",
       "1        -0.5    1.0    1.0  5               NaN                      NaN   \n",
       "2         0.0    1.0    1.0  5               NaN                      NaN   \n",
       "3         0.5    1.0    1.0  5               NaN                      NaN   \n",
       "4         0.9    1.0    1.0  5               NaN                      NaN   \n",
       "\n",
       "   mismeasured_avg_coef  pca_coef  true_val_coef  iv_coef  pca_ape  \\\n",
       "0                   NaN       NaN            NaN      NaN      NaN   \n",
       "1                   NaN       NaN            NaN      NaN      NaN   \n",
       "2                   NaN       NaN            NaN      NaN      NaN   \n",
       "3                   NaN       NaN            NaN      NaN      NaN   \n",
       "4                   NaN       NaN            NaN      NaN      NaN   \n",
       "\n",
       "   mismeasured_coef_ape  mismeasured_allvar_coef_ape  \\\n",
       "0                   NaN                          NaN   \n",
       "1                   NaN                          NaN   \n",
       "2                   NaN                          NaN   \n",
       "3                   NaN                          NaN   \n",
       "4                   NaN                          NaN   \n",
       "\n",
       "   mismeasured_avg_coef_ape  iv_coef_ape  \n",
       "0                       NaN          NaN  \n",
       "1                       NaN          NaN  \n",
       "2                       NaN          NaN  \n",
       "3                       NaN          NaN  \n",
       "4                       NaN          NaN  "
      ],
      "text/html": "<div>\n<style scoped>\n    .dataframe tbody tr th:only-of-type {\n        vertical-align: middle;\n    }\n\n    .dataframe tbody tr th {\n        vertical-align: top;\n    }\n\n    .dataframe thead th {\n        text-align: right;\n    }\n</style>\n<table border=\"1\" class=\"dataframe\">\n  <thead>\n    <tr style=\"text-align: right;\">\n      <th></th>\n      <th>covariance</th>\n      <th>beta1</th>\n      <th>beta2</th>\n      <th>p</th>\n      <th>mismeasured_coef</th>\n      <th>mismeasured_allvar_coef</th>\n      <th>mismeasured_avg_coef</th>\n      <th>pca_coef</th>\n      <th>true_val_coef</th>\n      <th>iv_coef</th>\n      <th>pca_ape</th>\n      <th>mismeasured_coef_ape</th>\n      <th>mismeasured_allvar_coef_ape</th>\n      <th>mismeasured_avg_coef_ape</th>\n      <th>iv_coef_ape</th>\n    </tr>\n  </thead>\n  <tbody>\n    <tr>\n      <th>0</th>\n      <td>-0.9</td>\n      <td>1.0</td>\n      <td>1.0</td>\n      <td>5</td>\n      <td>NaN</td>\n      <td>NaN</td>\n      <td>NaN</td>\n      <td>NaN</td>\n      <td>NaN</td>\n      <td>NaN</td>\n      <td>NaN</td>\n      <td>NaN</td>\n      <td>NaN</td>\n      <td>NaN</td>\n      <td>NaN</td>\n    </tr>\n    <tr>\n      <th>1</th>\n      <td>-0.5</td>\n      <td>1.0</td>\n      <td>1.0</td>\n      <td>5</td>\n      <td>NaN</td>\n      <td>NaN</td>\n      <td>NaN</td>\n      <td>NaN</td>\n      <td>NaN</td>\n      <td>NaN</td>\n      <td>NaN</td>\n      <td>NaN</td>\n      <td>NaN</td>\n      <td>NaN</td>\n      <td>NaN</td>\n    </tr>\n    <tr>\n      <th>2</th>\n      <td>0.0</td>\n      <td>1.0</td>\n      <td>1.0</td>\n      <td>5</td>\n      <td>NaN</td>\n      <td>NaN</td>\n      <td>NaN</td>\n      <td>NaN</td>\n      <td>NaN</td>\n      <td>NaN</td>\n      <td>NaN</td>\n      <td>NaN</td>\n      <td>NaN</td>\n      <td>NaN</td>\n      <td>NaN</td>\n    </tr>\n    <tr>\n      <th>3</th>\n      <td>0.5</td>\n      <td>1.0</td>\n      <td>1.0</td>\n      <td>5</td>\n      <td>NaN</td>\n      <td>NaN</td>\n      <td>NaN</td>\n      <td>NaN</td>\n      <td>NaN</td>\n      <td>NaN</td>\n      <td>NaN</td>\n      <td>NaN</td>\n      <td>NaN</td>\n      <td>NaN</td>\n      <td>NaN</td>\n    </tr>\n    <tr>\n      <th>4</th>\n      <td>0.9</td>\n      <td>1.0</td>\n      <td>1.0</td>\n      <td>5</td>\n      <td>NaN</td>\n      <td>NaN</td>\n      <td>NaN</td>\n      <td>NaN</td>\n      <td>NaN</td>\n      <td>NaN</td>\n      <td>NaN</td>\n      <td>NaN</td>\n      <td>NaN</td>\n      <td>NaN</td>\n      <td>NaN</td>\n    </tr>\n  </tbody>\n</table>\n</div>"
     },
     "metadata": {},
     "execution_count": 28
    }
   ],
   "source": [
    "output.loc[(output['beta1']==1)&(output['beta2']==1)&(output['p'] == 5)&(output['exp_of_var']=='yes')].groupby(['covariance','beta1','beta2','p']).std().reset_index()"
   ]
  },
  {
   "cell_type": "code",
   "execution_count": null,
   "metadata": {},
   "outputs": [],
   "source": []
  },
  {
   "cell_type": "code",
   "execution_count": null,
   "metadata": {},
   "outputs": [],
   "source": []
  },
  {
   "cell_type": "code",
   "execution_count": 29,
   "metadata": {},
   "outputs": [
    {
     "output_type": "execute_result",
     "data": {
      "text/plain": [
       "   covariance  beta1  beta2   p exp_of_var  mismeasured_coef  \\\n",
       "0         0.5    1.0    1.0   5         no          1.259900   \n",
       "1         0.5    1.0    1.0  20         no          1.325881   \n",
       "2         0.5    1.0    1.0  50         no          1.275242   \n",
       "\n",
       "   mismeasured_allvar_coef  mismeasured_avg_coef  pca_coef  true_val_coef  \\\n",
       "0                 1.065215              1.065952  1.065936       0.977238   \n",
       "1                 1.050691              1.052427  1.052862       1.015886   \n",
       "2                 1.028534              1.028270  1.028349       1.017811   \n",
       "\n",
       "    iv_coef   pca_ape  mismeasured_coef_ape  mismeasured_allvar_coef_ape  \\\n",
       "0  1.081315  0.065936              0.259900                     0.065215   \n",
       "1  1.057282  0.052862              0.325881                     0.050691   \n",
       "2  1.039462  0.028349              0.275242                     0.028534   \n",
       "\n",
       "   mismeasured_avg_coef_ape  iv_coef_ape  \n",
       "0                  0.065952     0.081315  \n",
       "1                  0.052427     0.057282  \n",
       "2                  0.028270     0.039462  "
      ],
      "text/html": "<div>\n<style scoped>\n    .dataframe tbody tr th:only-of-type {\n        vertical-align: middle;\n    }\n\n    .dataframe tbody tr th {\n        vertical-align: top;\n    }\n\n    .dataframe thead th {\n        text-align: right;\n    }\n</style>\n<table border=\"1\" class=\"dataframe\">\n  <thead>\n    <tr style=\"text-align: right;\">\n      <th></th>\n      <th>covariance</th>\n      <th>beta1</th>\n      <th>beta2</th>\n      <th>p</th>\n      <th>exp_of_var</th>\n      <th>mismeasured_coef</th>\n      <th>mismeasured_allvar_coef</th>\n      <th>mismeasured_avg_coef</th>\n      <th>pca_coef</th>\n      <th>true_val_coef</th>\n      <th>iv_coef</th>\n      <th>pca_ape</th>\n      <th>mismeasured_coef_ape</th>\n      <th>mismeasured_allvar_coef_ape</th>\n      <th>mismeasured_avg_coef_ape</th>\n      <th>iv_coef_ape</th>\n    </tr>\n  </thead>\n  <tbody>\n    <tr>\n      <th>0</th>\n      <td>0.5</td>\n      <td>1.0</td>\n      <td>1.0</td>\n      <td>5</td>\n      <td>no</td>\n      <td>1.259900</td>\n      <td>1.065215</td>\n      <td>1.065952</td>\n      <td>1.065936</td>\n      <td>0.977238</td>\n      <td>1.081315</td>\n      <td>0.065936</td>\n      <td>0.259900</td>\n      <td>0.065215</td>\n      <td>0.065952</td>\n      <td>0.081315</td>\n    </tr>\n    <tr>\n      <th>1</th>\n      <td>0.5</td>\n      <td>1.0</td>\n      <td>1.0</td>\n      <td>20</td>\n      <td>no</td>\n      <td>1.325881</td>\n      <td>1.050691</td>\n      <td>1.052427</td>\n      <td>1.052862</td>\n      <td>1.015886</td>\n      <td>1.057282</td>\n      <td>0.052862</td>\n      <td>0.325881</td>\n      <td>0.050691</td>\n      <td>0.052427</td>\n      <td>0.057282</td>\n    </tr>\n    <tr>\n      <th>2</th>\n      <td>0.5</td>\n      <td>1.0</td>\n      <td>1.0</td>\n      <td>50</td>\n      <td>no</td>\n      <td>1.275242</td>\n      <td>1.028534</td>\n      <td>1.028270</td>\n      <td>1.028349</td>\n      <td>1.017811</td>\n      <td>1.039462</td>\n      <td>0.028349</td>\n      <td>0.275242</td>\n      <td>0.028534</td>\n      <td>0.028270</td>\n      <td>0.039462</td>\n    </tr>\n  </tbody>\n</table>\n</div>"
     },
     "metadata": {},
     "execution_count": 29
    }
   ],
   "source": [
    "output.loc[(output['beta1']==1)&(output['beta2']==1)&(output['covariance'] == 0.5)&(output['exp_of_var']=='no')].groupby(['covariance','beta1','beta2','p','exp_of_var']).mean().reset_index()"
   ]
  },
  {
   "cell_type": "code",
   "execution_count": 30,
   "metadata": {},
   "outputs": [
    {
     "output_type": "execute_result",
     "data": {
      "text/plain": [
       "   covariance  beta1  beta2   p exp_of_var  mismeasured_coef  \\\n",
       "0         0.5    1.0    1.0   5         no               NaN   \n",
       "1         0.5    1.0    1.0  20         no               NaN   \n",
       "2         0.5    1.0    1.0  50         no               NaN   \n",
       "\n",
       "   mismeasured_allvar_coef  mismeasured_avg_coef  pca_coef  true_val_coef  \\\n",
       "0                      NaN                   NaN       NaN            NaN   \n",
       "1                      NaN                   NaN       NaN            NaN   \n",
       "2                      NaN                   NaN       NaN            NaN   \n",
       "\n",
       "   iv_coef  pca_ape  mismeasured_coef_ape  mismeasured_allvar_coef_ape  \\\n",
       "0      NaN      NaN                   NaN                          NaN   \n",
       "1      NaN      NaN                   NaN                          NaN   \n",
       "2      NaN      NaN                   NaN                          NaN   \n",
       "\n",
       "   mismeasured_avg_coef_ape  iv_coef_ape  \n",
       "0                       NaN          NaN  \n",
       "1                       NaN          NaN  \n",
       "2                       NaN          NaN  "
      ],
      "text/html": "<div>\n<style scoped>\n    .dataframe tbody tr th:only-of-type {\n        vertical-align: middle;\n    }\n\n    .dataframe tbody tr th {\n        vertical-align: top;\n    }\n\n    .dataframe thead th {\n        text-align: right;\n    }\n</style>\n<table border=\"1\" class=\"dataframe\">\n  <thead>\n    <tr style=\"text-align: right;\">\n      <th></th>\n      <th>covariance</th>\n      <th>beta1</th>\n      <th>beta2</th>\n      <th>p</th>\n      <th>exp_of_var</th>\n      <th>mismeasured_coef</th>\n      <th>mismeasured_allvar_coef</th>\n      <th>mismeasured_avg_coef</th>\n      <th>pca_coef</th>\n      <th>true_val_coef</th>\n      <th>iv_coef</th>\n      <th>pca_ape</th>\n      <th>mismeasured_coef_ape</th>\n      <th>mismeasured_allvar_coef_ape</th>\n      <th>mismeasured_avg_coef_ape</th>\n      <th>iv_coef_ape</th>\n    </tr>\n  </thead>\n  <tbody>\n    <tr>\n      <th>0</th>\n      <td>0.5</td>\n      <td>1.0</td>\n      <td>1.0</td>\n      <td>5</td>\n      <td>no</td>\n      <td>NaN</td>\n      <td>NaN</td>\n      <td>NaN</td>\n      <td>NaN</td>\n      <td>NaN</td>\n      <td>NaN</td>\n      <td>NaN</td>\n      <td>NaN</td>\n      <td>NaN</td>\n      <td>NaN</td>\n      <td>NaN</td>\n    </tr>\n    <tr>\n      <th>1</th>\n      <td>0.5</td>\n      <td>1.0</td>\n      <td>1.0</td>\n      <td>20</td>\n      <td>no</td>\n      <td>NaN</td>\n      <td>NaN</td>\n      <td>NaN</td>\n      <td>NaN</td>\n      <td>NaN</td>\n      <td>NaN</td>\n      <td>NaN</td>\n      <td>NaN</td>\n      <td>NaN</td>\n      <td>NaN</td>\n      <td>NaN</td>\n    </tr>\n    <tr>\n      <th>2</th>\n      <td>0.5</td>\n      <td>1.0</td>\n      <td>1.0</td>\n      <td>50</td>\n      <td>no</td>\n      <td>NaN</td>\n      <td>NaN</td>\n      <td>NaN</td>\n      <td>NaN</td>\n      <td>NaN</td>\n      <td>NaN</td>\n      <td>NaN</td>\n      <td>NaN</td>\n      <td>NaN</td>\n      <td>NaN</td>\n      <td>NaN</td>\n    </tr>\n  </tbody>\n</table>\n</div>"
     },
     "metadata": {},
     "execution_count": 30
    }
   ],
   "source": [
    "output.loc[(output['beta1']==1)&(output['beta2']==1)&(output['covariance'] == 0.5)&(output['exp_of_var']=='no')].groupby(['covariance','beta1','beta2','p','exp_of_var']).std().reset_index()"
   ]
  },
  {
   "cell_type": "code",
   "execution_count": null,
   "metadata": {},
   "outputs": [],
   "source": []
  },
  {
   "cell_type": "code",
   "execution_count": 31,
   "metadata": {},
   "outputs": [
    {
     "output_type": "execute_result",
     "data": {
      "text/plain": [
       "   covariance  beta1  beta2  p  mismeasured_coef  mismeasured_allvar_coef  \\\n",
       "0         0.5    0.1    1.0  5          0.416596                 0.240255   \n",
       "1         0.5    1.0    1.0  5          1.259900                 1.065215   \n",
       "2         0.5   10.0    1.0  5         10.255386                10.084698   \n",
       "\n",
       "   mismeasured_avg_coef   pca_coef  true_val_coef    iv_coef   pca_ape  \\\n",
       "0              0.237699   0.238001       0.110964   0.259016  1.380015   \n",
       "1              1.065952   1.065936       0.977238   1.081315  0.065936   \n",
       "2             10.084437  10.084169       9.982149  10.104177  0.008417   \n",
       "\n",
       "   mismeasured_coef_ape  mismeasured_allvar_coef_ape  \\\n",
       "0              3.165958                     1.402554   \n",
       "1              0.259900                     0.065215   \n",
       "2              0.025539                     0.008470   \n",
       "\n",
       "   mismeasured_avg_coef_ape  iv_coef_ape  \n",
       "0                  1.376989     1.590160  \n",
       "1                  0.065952     0.081315  \n",
       "2                  0.008444     0.010418  "
      ],
      "text/html": "<div>\n<style scoped>\n    .dataframe tbody tr th:only-of-type {\n        vertical-align: middle;\n    }\n\n    .dataframe tbody tr th {\n        vertical-align: top;\n    }\n\n    .dataframe thead th {\n        text-align: right;\n    }\n</style>\n<table border=\"1\" class=\"dataframe\">\n  <thead>\n    <tr style=\"text-align: right;\">\n      <th></th>\n      <th>covariance</th>\n      <th>beta1</th>\n      <th>beta2</th>\n      <th>p</th>\n      <th>mismeasured_coef</th>\n      <th>mismeasured_allvar_coef</th>\n      <th>mismeasured_avg_coef</th>\n      <th>pca_coef</th>\n      <th>true_val_coef</th>\n      <th>iv_coef</th>\n      <th>pca_ape</th>\n      <th>mismeasured_coef_ape</th>\n      <th>mismeasured_allvar_coef_ape</th>\n      <th>mismeasured_avg_coef_ape</th>\n      <th>iv_coef_ape</th>\n    </tr>\n  </thead>\n  <tbody>\n    <tr>\n      <th>0</th>\n      <td>0.5</td>\n      <td>0.1</td>\n      <td>1.0</td>\n      <td>5</td>\n      <td>0.416596</td>\n      <td>0.240255</td>\n      <td>0.237699</td>\n      <td>0.238001</td>\n      <td>0.110964</td>\n      <td>0.259016</td>\n      <td>1.380015</td>\n      <td>3.165958</td>\n      <td>1.402554</td>\n      <td>1.376989</td>\n      <td>1.590160</td>\n    </tr>\n    <tr>\n      <th>1</th>\n      <td>0.5</td>\n      <td>1.0</td>\n      <td>1.0</td>\n      <td>5</td>\n      <td>1.259900</td>\n      <td>1.065215</td>\n      <td>1.065952</td>\n      <td>1.065936</td>\n      <td>0.977238</td>\n      <td>1.081315</td>\n      <td>0.065936</td>\n      <td>0.259900</td>\n      <td>0.065215</td>\n      <td>0.065952</td>\n      <td>0.081315</td>\n    </tr>\n    <tr>\n      <th>2</th>\n      <td>0.5</td>\n      <td>10.0</td>\n      <td>1.0</td>\n      <td>5</td>\n      <td>10.255386</td>\n      <td>10.084698</td>\n      <td>10.084437</td>\n      <td>10.084169</td>\n      <td>9.982149</td>\n      <td>10.104177</td>\n      <td>0.008417</td>\n      <td>0.025539</td>\n      <td>0.008470</td>\n      <td>0.008444</td>\n      <td>0.010418</td>\n    </tr>\n  </tbody>\n</table>\n</div>"
     },
     "metadata": {},
     "execution_count": 31
    }
   ],
   "source": [
    "output.loc[(output['p']==5)&(output['beta2']==1)&(output['covariance'] == 0.5)&(output['exp_of_var']=='no')].groupby(['covariance','beta1','beta2','p']).mean().reset_index()"
   ]
  },
  {
   "cell_type": "code",
   "execution_count": 32,
   "metadata": {},
   "outputs": [
    {
     "output_type": "execute_result",
     "data": {
      "text/plain": [
       "   covariance  beta1  beta2  p  mismeasured_coef  mismeasured_allvar_coef  \\\n",
       "0         0.5    0.1    1.0  5               NaN                      NaN   \n",
       "1         0.5    1.0    1.0  5               NaN                      NaN   \n",
       "2         0.5   10.0    1.0  5               NaN                      NaN   \n",
       "\n",
       "   mismeasured_avg_coef  pca_coef  true_val_coef  iv_coef  pca_ape  \\\n",
       "0                   NaN       NaN            NaN      NaN      NaN   \n",
       "1                   NaN       NaN            NaN      NaN      NaN   \n",
       "2                   NaN       NaN            NaN      NaN      NaN   \n",
       "\n",
       "   mismeasured_coef_ape  mismeasured_allvar_coef_ape  \\\n",
       "0                   NaN                          NaN   \n",
       "1                   NaN                          NaN   \n",
       "2                   NaN                          NaN   \n",
       "\n",
       "   mismeasured_avg_coef_ape  iv_coef_ape  \n",
       "0                       NaN          NaN  \n",
       "1                       NaN          NaN  \n",
       "2                       NaN          NaN  "
      ],
      "text/html": "<div>\n<style scoped>\n    .dataframe tbody tr th:only-of-type {\n        vertical-align: middle;\n    }\n\n    .dataframe tbody tr th {\n        vertical-align: top;\n    }\n\n    .dataframe thead th {\n        text-align: right;\n    }\n</style>\n<table border=\"1\" class=\"dataframe\">\n  <thead>\n    <tr style=\"text-align: right;\">\n      <th></th>\n      <th>covariance</th>\n      <th>beta1</th>\n      <th>beta2</th>\n      <th>p</th>\n      <th>mismeasured_coef</th>\n      <th>mismeasured_allvar_coef</th>\n      <th>mismeasured_avg_coef</th>\n      <th>pca_coef</th>\n      <th>true_val_coef</th>\n      <th>iv_coef</th>\n      <th>pca_ape</th>\n      <th>mismeasured_coef_ape</th>\n      <th>mismeasured_allvar_coef_ape</th>\n      <th>mismeasured_avg_coef_ape</th>\n      <th>iv_coef_ape</th>\n    </tr>\n  </thead>\n  <tbody>\n    <tr>\n      <th>0</th>\n      <td>0.5</td>\n      <td>0.1</td>\n      <td>1.0</td>\n      <td>5</td>\n      <td>NaN</td>\n      <td>NaN</td>\n      <td>NaN</td>\n      <td>NaN</td>\n      <td>NaN</td>\n      <td>NaN</td>\n      <td>NaN</td>\n      <td>NaN</td>\n      <td>NaN</td>\n      <td>NaN</td>\n      <td>NaN</td>\n    </tr>\n    <tr>\n      <th>1</th>\n      <td>0.5</td>\n      <td>1.0</td>\n      <td>1.0</td>\n      <td>5</td>\n      <td>NaN</td>\n      <td>NaN</td>\n      <td>NaN</td>\n      <td>NaN</td>\n      <td>NaN</td>\n      <td>NaN</td>\n      <td>NaN</td>\n      <td>NaN</td>\n      <td>NaN</td>\n      <td>NaN</td>\n      <td>NaN</td>\n    </tr>\n    <tr>\n      <th>2</th>\n      <td>0.5</td>\n      <td>10.0</td>\n      <td>1.0</td>\n      <td>5</td>\n      <td>NaN</td>\n      <td>NaN</td>\n      <td>NaN</td>\n      <td>NaN</td>\n      <td>NaN</td>\n      <td>NaN</td>\n      <td>NaN</td>\n      <td>NaN</td>\n      <td>NaN</td>\n      <td>NaN</td>\n      <td>NaN</td>\n    </tr>\n  </tbody>\n</table>\n</div>"
     },
     "metadata": {},
     "execution_count": 32
    }
   ],
   "source": [
    "output.loc[(output['p']==5)&(output['beta2']==1)&(output['covariance'] == 0.5)&(output['exp_of_var']=='no')].groupby(['covariance','beta1','beta2','p']).std().reset_index()"
   ]
  },
  {
   "cell_type": "code",
   "execution_count": null,
   "metadata": {},
   "outputs": [],
   "source": []
  },
  {
   "cell_type": "code",
   "execution_count": 33,
   "metadata": {},
   "outputs": [
    {
     "output_type": "execute_result",
     "data": {
      "text/plain": [
       "   covariance  beta1  beta2  p  mismeasured_coef  mismeasured_allvar_coef  \\\n",
       "0         0.5    1.0    0.1  5          1.031123                 1.014726   \n",
       "1         0.5    1.0    1.0  5          1.259900                 1.065215   \n",
       "2         0.5    1.0   10.0  5          3.810465                 1.987292   \n",
       "\n",
       "   mismeasured_avg_coef  pca_coef  true_val_coef   iv_coef   pca_ape  \\\n",
       "0              1.016047  1.015768       0.998597  1.019786  0.015768   \n",
       "1              1.065952  1.065936       0.977238  1.081315  0.065936   \n",
       "2              1.988081  1.986771       1.009551  2.223894  0.986771   \n",
       "\n",
       "   mismeasured_coef_ape  mismeasured_allvar_coef_ape  \\\n",
       "0              0.031123                     0.014726   \n",
       "1              0.259900                     0.065215   \n",
       "2              2.810465                     0.987292   \n",
       "\n",
       "   mismeasured_avg_coef_ape  iv_coef_ape  \n",
       "0                  0.016047     0.019786  \n",
       "1                  0.065952     0.081315  \n",
       "2                  0.988081     1.223894  "
      ],
      "text/html": "<div>\n<style scoped>\n    .dataframe tbody tr th:only-of-type {\n        vertical-align: middle;\n    }\n\n    .dataframe tbody tr th {\n        vertical-align: top;\n    }\n\n    .dataframe thead th {\n        text-align: right;\n    }\n</style>\n<table border=\"1\" class=\"dataframe\">\n  <thead>\n    <tr style=\"text-align: right;\">\n      <th></th>\n      <th>covariance</th>\n      <th>beta1</th>\n      <th>beta2</th>\n      <th>p</th>\n      <th>mismeasured_coef</th>\n      <th>mismeasured_allvar_coef</th>\n      <th>mismeasured_avg_coef</th>\n      <th>pca_coef</th>\n      <th>true_val_coef</th>\n      <th>iv_coef</th>\n      <th>pca_ape</th>\n      <th>mismeasured_coef_ape</th>\n      <th>mismeasured_allvar_coef_ape</th>\n      <th>mismeasured_avg_coef_ape</th>\n      <th>iv_coef_ape</th>\n    </tr>\n  </thead>\n  <tbody>\n    <tr>\n      <th>0</th>\n      <td>0.5</td>\n      <td>1.0</td>\n      <td>0.1</td>\n      <td>5</td>\n      <td>1.031123</td>\n      <td>1.014726</td>\n      <td>1.016047</td>\n      <td>1.015768</td>\n      <td>0.998597</td>\n      <td>1.019786</td>\n      <td>0.015768</td>\n      <td>0.031123</td>\n      <td>0.014726</td>\n      <td>0.016047</td>\n      <td>0.019786</td>\n    </tr>\n    <tr>\n      <th>1</th>\n      <td>0.5</td>\n      <td>1.0</td>\n      <td>1.0</td>\n      <td>5</td>\n      <td>1.259900</td>\n      <td>1.065215</td>\n      <td>1.065952</td>\n      <td>1.065936</td>\n      <td>0.977238</td>\n      <td>1.081315</td>\n      <td>0.065936</td>\n      <td>0.259900</td>\n      <td>0.065215</td>\n      <td>0.065952</td>\n      <td>0.081315</td>\n    </tr>\n    <tr>\n      <th>2</th>\n      <td>0.5</td>\n      <td>1.0</td>\n      <td>10.0</td>\n      <td>5</td>\n      <td>3.810465</td>\n      <td>1.987292</td>\n      <td>1.988081</td>\n      <td>1.986771</td>\n      <td>1.009551</td>\n      <td>2.223894</td>\n      <td>0.986771</td>\n      <td>2.810465</td>\n      <td>0.987292</td>\n      <td>0.988081</td>\n      <td>1.223894</td>\n    </tr>\n  </tbody>\n</table>\n</div>"
     },
     "metadata": {},
     "execution_count": 33
    }
   ],
   "source": [
    "output.loc[(output['beta1']==1)&(output['p']==5)&(output['covariance'] == 0.5)&(output['exp_of_var']=='no')].groupby(['covariance','beta1','beta2','p']).mean().reset_index()"
   ]
  },
  {
   "cell_type": "code",
   "execution_count": 34,
   "metadata": {},
   "outputs": [
    {
     "output_type": "execute_result",
     "data": {
      "text/plain": [
       "   covariance  beta1  beta2  p  mismeasured_coef  mismeasured_allvar_coef  \\\n",
       "0         0.5    1.0    0.1  5               NaN                      NaN   \n",
       "1         0.5    1.0    1.0  5               NaN                      NaN   \n",
       "2         0.5    1.0   10.0  5               NaN                      NaN   \n",
       "\n",
       "   mismeasured_avg_coef  pca_coef  true_val_coef  iv_coef  pca_ape  \\\n",
       "0                   NaN       NaN            NaN      NaN      NaN   \n",
       "1                   NaN       NaN            NaN      NaN      NaN   \n",
       "2                   NaN       NaN            NaN      NaN      NaN   \n",
       "\n",
       "   mismeasured_coef_ape  mismeasured_allvar_coef_ape  \\\n",
       "0                   NaN                          NaN   \n",
       "1                   NaN                          NaN   \n",
       "2                   NaN                          NaN   \n",
       "\n",
       "   mismeasured_avg_coef_ape  iv_coef_ape  \n",
       "0                       NaN          NaN  \n",
       "1                       NaN          NaN  \n",
       "2                       NaN          NaN  "
      ],
      "text/html": "<div>\n<style scoped>\n    .dataframe tbody tr th:only-of-type {\n        vertical-align: middle;\n    }\n\n    .dataframe tbody tr th {\n        vertical-align: top;\n    }\n\n    .dataframe thead th {\n        text-align: right;\n    }\n</style>\n<table border=\"1\" class=\"dataframe\">\n  <thead>\n    <tr style=\"text-align: right;\">\n      <th></th>\n      <th>covariance</th>\n      <th>beta1</th>\n      <th>beta2</th>\n      <th>p</th>\n      <th>mismeasured_coef</th>\n      <th>mismeasured_allvar_coef</th>\n      <th>mismeasured_avg_coef</th>\n      <th>pca_coef</th>\n      <th>true_val_coef</th>\n      <th>iv_coef</th>\n      <th>pca_ape</th>\n      <th>mismeasured_coef_ape</th>\n      <th>mismeasured_allvar_coef_ape</th>\n      <th>mismeasured_avg_coef_ape</th>\n      <th>iv_coef_ape</th>\n    </tr>\n  </thead>\n  <tbody>\n    <tr>\n      <th>0</th>\n      <td>0.5</td>\n      <td>1.0</td>\n      <td>0.1</td>\n      <td>5</td>\n      <td>NaN</td>\n      <td>NaN</td>\n      <td>NaN</td>\n      <td>NaN</td>\n      <td>NaN</td>\n      <td>NaN</td>\n      <td>NaN</td>\n      <td>NaN</td>\n      <td>NaN</td>\n      <td>NaN</td>\n      <td>NaN</td>\n    </tr>\n    <tr>\n      <th>1</th>\n      <td>0.5</td>\n      <td>1.0</td>\n      <td>1.0</td>\n      <td>5</td>\n      <td>NaN</td>\n      <td>NaN</td>\n      <td>NaN</td>\n      <td>NaN</td>\n      <td>NaN</td>\n      <td>NaN</td>\n      <td>NaN</td>\n      <td>NaN</td>\n      <td>NaN</td>\n      <td>NaN</td>\n      <td>NaN</td>\n    </tr>\n    <tr>\n      <th>2</th>\n      <td>0.5</td>\n      <td>1.0</td>\n      <td>10.0</td>\n      <td>5</td>\n      <td>NaN</td>\n      <td>NaN</td>\n      <td>NaN</td>\n      <td>NaN</td>\n      <td>NaN</td>\n      <td>NaN</td>\n      <td>NaN</td>\n      <td>NaN</td>\n      <td>NaN</td>\n      <td>NaN</td>\n      <td>NaN</td>\n    </tr>\n  </tbody>\n</table>\n</div>"
     },
     "metadata": {},
     "execution_count": 34
    }
   ],
   "source": [
    "output.loc[(output['beta1']==1)&(output['p']==5)&(output['covariance'] == 0.5)&(output['exp_of_var']=='no')].groupby(['covariance','beta1','beta2','p']).std().reset_index()"
   ]
  },
  {
   "cell_type": "code",
   "execution_count": null,
   "metadata": {},
   "outputs": [],
   "source": []
  },
  {
   "cell_type": "code",
   "execution_count": 35,
   "metadata": {},
   "outputs": [
    {
     "output_type": "execute_result",
     "data": {
      "text/plain": [
       "   covariance  beta1  beta2  p  mismeasured_coef  mismeasured_allvar_coef  \\\n",
       "0        -0.9    1.0    1.0  5          0.253317                 0.557337   \n",
       "1        -0.5    1.0    1.0  5          0.703260                 0.889607   \n",
       "2         0.0    1.0    1.0  5          0.993320                 1.001567   \n",
       "3         0.5    1.0    1.0  5          1.259900                 1.065215   \n",
       "4         0.9    1.0    1.0  5          1.776549                 1.489890   \n",
       "\n",
       "   mismeasured_avg_coef  pca_coef  true_val_coef   iv_coef   pca_ape  \\\n",
       "0              0.555925  0.556324       1.034771  0.521769  0.443676   \n",
       "1              0.891001  0.889483       1.011720  0.875617  0.110517   \n",
       "2              1.001578  1.001842       0.993013  1.000098  0.001842   \n",
       "3              1.065952  1.065936       0.977238  1.081315  0.065936   \n",
       "4              1.488711  1.488764       1.062791  1.543923  0.488764   \n",
       "\n",
       "   mismeasured_coef_ape  mismeasured_allvar_coef_ape  \\\n",
       "0              0.746683                     0.442663   \n",
       "1              0.296740                     0.110393   \n",
       "2              0.006680                     0.001567   \n",
       "3              0.259900                     0.065215   \n",
       "4              0.776549                     0.489890   \n",
       "\n",
       "   mismeasured_avg_coef_ape  iv_coef_ape  \n",
       "0                  0.444075     0.478231  \n",
       "1                  0.108999     0.124383  \n",
       "2                  0.001578     0.000098  \n",
       "3                  0.065952     0.081315  \n",
       "4                  0.488711     0.543923  "
      ],
      "text/html": "<div>\n<style scoped>\n    .dataframe tbody tr th:only-of-type {\n        vertical-align: middle;\n    }\n\n    .dataframe tbody tr th {\n        vertical-align: top;\n    }\n\n    .dataframe thead th {\n        text-align: right;\n    }\n</style>\n<table border=\"1\" class=\"dataframe\">\n  <thead>\n    <tr style=\"text-align: right;\">\n      <th></th>\n      <th>covariance</th>\n      <th>beta1</th>\n      <th>beta2</th>\n      <th>p</th>\n      <th>mismeasured_coef</th>\n      <th>mismeasured_allvar_coef</th>\n      <th>mismeasured_avg_coef</th>\n      <th>pca_coef</th>\n      <th>true_val_coef</th>\n      <th>iv_coef</th>\n      <th>pca_ape</th>\n      <th>mismeasured_coef_ape</th>\n      <th>mismeasured_allvar_coef_ape</th>\n      <th>mismeasured_avg_coef_ape</th>\n      <th>iv_coef_ape</th>\n    </tr>\n  </thead>\n  <tbody>\n    <tr>\n      <th>0</th>\n      <td>-0.9</td>\n      <td>1.0</td>\n      <td>1.0</td>\n      <td>5</td>\n      <td>0.253317</td>\n      <td>0.557337</td>\n      <td>0.555925</td>\n      <td>0.556324</td>\n      <td>1.034771</td>\n      <td>0.521769</td>\n      <td>0.443676</td>\n      <td>0.746683</td>\n      <td>0.442663</td>\n      <td>0.444075</td>\n      <td>0.478231</td>\n    </tr>\n    <tr>\n      <th>1</th>\n      <td>-0.5</td>\n      <td>1.0</td>\n      <td>1.0</td>\n      <td>5</td>\n      <td>0.703260</td>\n      <td>0.889607</td>\n      <td>0.891001</td>\n      <td>0.889483</td>\n      <td>1.011720</td>\n      <td>0.875617</td>\n      <td>0.110517</td>\n      <td>0.296740</td>\n      <td>0.110393</td>\n      <td>0.108999</td>\n      <td>0.124383</td>\n    </tr>\n    <tr>\n      <th>2</th>\n      <td>0.0</td>\n      <td>1.0</td>\n      <td>1.0</td>\n      <td>5</td>\n      <td>0.993320</td>\n      <td>1.001567</td>\n      <td>1.001578</td>\n      <td>1.001842</td>\n      <td>0.993013</td>\n      <td>1.000098</td>\n      <td>0.001842</td>\n      <td>0.006680</td>\n      <td>0.001567</td>\n      <td>0.001578</td>\n      <td>0.000098</td>\n    </tr>\n    <tr>\n      <th>3</th>\n      <td>0.5</td>\n      <td>1.0</td>\n      <td>1.0</td>\n      <td>5</td>\n      <td>1.259900</td>\n      <td>1.065215</td>\n      <td>1.065952</td>\n      <td>1.065936</td>\n      <td>0.977238</td>\n      <td>1.081315</td>\n      <td>0.065936</td>\n      <td>0.259900</td>\n      <td>0.065215</td>\n      <td>0.065952</td>\n      <td>0.081315</td>\n    </tr>\n    <tr>\n      <th>4</th>\n      <td>0.9</td>\n      <td>1.0</td>\n      <td>1.0</td>\n      <td>5</td>\n      <td>1.776549</td>\n      <td>1.489890</td>\n      <td>1.488711</td>\n      <td>1.488764</td>\n      <td>1.062791</td>\n      <td>1.543923</td>\n      <td>0.488764</td>\n      <td>0.776549</td>\n      <td>0.489890</td>\n      <td>0.488711</td>\n      <td>0.543923</td>\n    </tr>\n  </tbody>\n</table>\n</div>"
     },
     "metadata": {},
     "execution_count": 35
    }
   ],
   "source": [
    "output.loc[(output['beta1']==1)&(output['beta2']==1)&(output['p'] == 5)&(output['exp_of_var']=='no')].groupby(['covariance','beta1','beta2','p']).mean().reset_index()"
   ]
  },
  {
   "cell_type": "code",
   "execution_count": 36,
   "metadata": {},
   "outputs": [
    {
     "output_type": "execute_result",
     "data": {
      "text/plain": [
       "   covariance  beta1  beta2  p  mismeasured_coef  mismeasured_allvar_coef  \\\n",
       "0        -0.9    1.0    1.0  5               NaN                      NaN   \n",
       "1        -0.5    1.0    1.0  5               NaN                      NaN   \n",
       "2         0.0    1.0    1.0  5               NaN                      NaN   \n",
       "3         0.5    1.0    1.0  5               NaN                      NaN   \n",
       "4         0.9    1.0    1.0  5               NaN                      NaN   \n",
       "\n",
       "   mismeasured_avg_coef  pca_coef  true_val_coef  iv_coef  pca_ape  \\\n",
       "0                   NaN       NaN            NaN      NaN      NaN   \n",
       "1                   NaN       NaN            NaN      NaN      NaN   \n",
       "2                   NaN       NaN            NaN      NaN      NaN   \n",
       "3                   NaN       NaN            NaN      NaN      NaN   \n",
       "4                   NaN       NaN            NaN      NaN      NaN   \n",
       "\n",
       "   mismeasured_coef_ape  mismeasured_allvar_coef_ape  \\\n",
       "0                   NaN                          NaN   \n",
       "1                   NaN                          NaN   \n",
       "2                   NaN                          NaN   \n",
       "3                   NaN                          NaN   \n",
       "4                   NaN                          NaN   \n",
       "\n",
       "   mismeasured_avg_coef_ape  iv_coef_ape  \n",
       "0                       NaN          NaN  \n",
       "1                       NaN          NaN  \n",
       "2                       NaN          NaN  \n",
       "3                       NaN          NaN  \n",
       "4                       NaN          NaN  "
      ],
      "text/html": "<div>\n<style scoped>\n    .dataframe tbody tr th:only-of-type {\n        vertical-align: middle;\n    }\n\n    .dataframe tbody tr th {\n        vertical-align: top;\n    }\n\n    .dataframe thead th {\n        text-align: right;\n    }\n</style>\n<table border=\"1\" class=\"dataframe\">\n  <thead>\n    <tr style=\"text-align: right;\">\n      <th></th>\n      <th>covariance</th>\n      <th>beta1</th>\n      <th>beta2</th>\n      <th>p</th>\n      <th>mismeasured_coef</th>\n      <th>mismeasured_allvar_coef</th>\n      <th>mismeasured_avg_coef</th>\n      <th>pca_coef</th>\n      <th>true_val_coef</th>\n      <th>iv_coef</th>\n      <th>pca_ape</th>\n      <th>mismeasured_coef_ape</th>\n      <th>mismeasured_allvar_coef_ape</th>\n      <th>mismeasured_avg_coef_ape</th>\n      <th>iv_coef_ape</th>\n    </tr>\n  </thead>\n  <tbody>\n    <tr>\n      <th>0</th>\n      <td>-0.9</td>\n      <td>1.0</td>\n      <td>1.0</td>\n      <td>5</td>\n      <td>NaN</td>\n      <td>NaN</td>\n      <td>NaN</td>\n      <td>NaN</td>\n      <td>NaN</td>\n      <td>NaN</td>\n      <td>NaN</td>\n      <td>NaN</td>\n      <td>NaN</td>\n      <td>NaN</td>\n      <td>NaN</td>\n    </tr>\n    <tr>\n      <th>1</th>\n      <td>-0.5</td>\n      <td>1.0</td>\n      <td>1.0</td>\n      <td>5</td>\n      <td>NaN</td>\n      <td>NaN</td>\n      <td>NaN</td>\n      <td>NaN</td>\n      <td>NaN</td>\n      <td>NaN</td>\n      <td>NaN</td>\n      <td>NaN</td>\n      <td>NaN</td>\n      <td>NaN</td>\n      <td>NaN</td>\n    </tr>\n    <tr>\n      <th>2</th>\n      <td>0.0</td>\n      <td>1.0</td>\n      <td>1.0</td>\n      <td>5</td>\n      <td>NaN</td>\n      <td>NaN</td>\n      <td>NaN</td>\n      <td>NaN</td>\n      <td>NaN</td>\n      <td>NaN</td>\n      <td>NaN</td>\n      <td>NaN</td>\n      <td>NaN</td>\n      <td>NaN</td>\n      <td>NaN</td>\n    </tr>\n    <tr>\n      <th>3</th>\n      <td>0.5</td>\n      <td>1.0</td>\n      <td>1.0</td>\n      <td>5</td>\n      <td>NaN</td>\n      <td>NaN</td>\n      <td>NaN</td>\n      <td>NaN</td>\n      <td>NaN</td>\n      <td>NaN</td>\n      <td>NaN</td>\n      <td>NaN</td>\n      <td>NaN</td>\n      <td>NaN</td>\n      <td>NaN</td>\n    </tr>\n    <tr>\n      <th>4</th>\n      <td>0.9</td>\n      <td>1.0</td>\n      <td>1.0</td>\n      <td>5</td>\n      <td>NaN</td>\n      <td>NaN</td>\n      <td>NaN</td>\n      <td>NaN</td>\n      <td>NaN</td>\n      <td>NaN</td>\n      <td>NaN</td>\n      <td>NaN</td>\n      <td>NaN</td>\n      <td>NaN</td>\n      <td>NaN</td>\n    </tr>\n  </tbody>\n</table>\n</div>"
     },
     "metadata": {},
     "execution_count": 36
    }
   ],
   "source": [
    "output.loc[(output['beta1']==1)&(output['beta2']==1)&(output['p'] == 5)&(output['exp_of_var']=='no')].groupby(['covariance','beta1','beta2','p']).std().reset_index()"
   ]
  },
  {
   "cell_type": "code",
   "execution_count": null,
   "metadata": {},
   "outputs": [],
   "source": []
  }
 ],
 "metadata": {
  "kernelspec": {
   "name": "python388jvsc74a57bd0d8e5f08eda4f9cddc19de05071e25a43923763e5e5799e90c26e70a4345f4abb",
   "display_name": "Python 3.8.8 64-bit ('econ31330-env': conda)"
  },
  "language_info": {
   "codemirror_mode": {
    "name": "ipython",
    "version": 3
   },
   "file_extension": ".py",
   "mimetype": "text/x-python",
   "name": "python",
   "nbconvert_exporter": "python",
   "pygments_lexer": "ipython3",
   "version": "3.8.8"
  }
 },
 "nbformat": 4,
 "nbformat_minor": 4
}