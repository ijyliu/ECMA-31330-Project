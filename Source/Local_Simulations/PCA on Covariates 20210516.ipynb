{
 "cells": [
  {
   "cell_type": "code",
   "execution_count": null,
   "metadata": {},
   "outputs": [],
   "source": [
    "pip install pca"
   ]
  },
  {
   "cell_type": "code",
   "execution_count": null,
   "metadata": {},
   "outputs": [],
   "source": [
    "import numpy as np\n",
    "import pandas as pd\n",
    "import seaborn as sns\n",
    "from pca import pca\n",
    "import statsmodels.api as sm\n",
    "from sklearn.preprocessing import StandardScaler"
   ]
  },
  {
   "cell_type": "code",
   "execution_count": null,
   "metadata": {},
   "outputs": [],
   "source": [
    "N = 100\n",
    "beta1 = 1\n",
    "beta2 = 1"
   ]
  },
  {
   "cell_type": "code",
   "execution_count": null,
   "metadata": {},
   "outputs": [],
   "source": [
    "output = pd.DataFrame()\n",
    "#for beta in [0.1,1,10,100]:\n",
    "for covariance in [-1,-0.75,-0.5,-0.25,0,0.25,0.5,0.75,1]:\n",
    "    for k in range(1000):\n",
    "        # Initialize Lists\n",
    "        pca_coef = []\n",
    "        mismeasured_coef = []\n",
    "        mismeasured_allvar_coef = []\n",
    "        true_val_coef =[]\n",
    "        nonscaled_true_val_coef = []\n",
    "\n",
    "        # Create variables\n",
    "        vars_mean = [0,0,0]\n",
    "        vars_cov = np.array([[1,covariance,0],\n",
    "                             [covariance,1,0],\n",
    "                             [0,0,1]])\n",
    "        vars_ = pd.DataFrame(np.random.multivariate_normal(vars_mean, vars_cov, N), columns = ['x','true_z','u'])\n",
    "        vars_['y'] = beta1 * vars_['x'] + beta2 * vars_['true_z'] + vars_['u']\n",
    "\n",
    "        # Create measurement errors\n",
    "        errors_mean = [0,0,0,0,0]\n",
    "        errors_cov = [[1,0,0,0,0],\n",
    "                      [0,1,0,0,0],\n",
    "                      [0,0,1,0,0],\n",
    "                      [0,0,0,1,0],\n",
    "                      [0,0,0,0,1]]\n",
    "        errors = np.random.multivariate_normal(errors_mean, errors_cov, N)\n",
    "        mismeasured_z = pd.DataFrame(errors, columns = ['z1','z2','z3','z4','z5'])\n",
    "        for i in mismeasured_z.columns:\n",
    "            mismeasured_z[i] = mismeasured_z[i] + vars_['true_z']\n",
    "\n",
    "        # Do feature scaling (normalize to mean 0 and variance 1)\n",
    "        scaled_mismeasured_z = mismeasured_z.copy()\n",
    "        for i in mismeasured_z.columns:\n",
    "            scaled_mismeasured_z[i] = (mismeasured_z[i] - mismeasured_z[i].mean()) / mismeasured_z[i].std()\n",
    "\n",
    "        # Use PCA on the mismeasured values\n",
    "        pca_model = pca()\n",
    "        pca_results = pca_model.fit_transform(scaled_mismeasured_z)\n",
    "        pca_z = pca_results['PC']['PC1']\n",
    "\n",
    "        # Do feature scaling (normalize to mean 0 and variance 1)\n",
    "        scaled_pca_z = (pca_z - pca_z.mean()) / pca_z.std()\n",
    "        scaled_true_z = (vars_['true_z'] - vars_['true_z'].mean()) / vars_['true_z'].std()\n",
    "        scaled_x = (vars_['x'] - vars_['x'].mean()) / vars_['x'].std()\n",
    "        scaled_y = (vars_['y'] - vars_['y'].mean()) / vars_['y'].std()\n",
    "\n",
    "        scaled_df = pd.DataFrame()\n",
    "        scaled_df['scaled_y'] = scaled_y\n",
    "        scaled_df['scaled_x'] = scaled_x\n",
    "        scaled_df['scaled_pca_z'] = scaled_pca_z\n",
    "        scaled_df[scaled_mismeasured_z.columns] = scaled_mismeasured_z\n",
    "        scaled_df['scaled_true_z'] = scaled_true_z\n",
    "\n",
    "        # Mismeasured Results\n",
    "        model_mismeasured = sm.OLS(scaled_df['scaled_y'],scaled_df[['scaled_x','z1']])\n",
    "        results_mismeasured = model_mismeasured.fit()\n",
    "        mismeasured_coef.append(results_mismeasured.params[0])\n",
    "\n",
    "        # Mismeasured Results\n",
    "        model_mismeasured_allvar = sm.OLS(scaled_df['scaled_y'],scaled_df[['scaled_x','z1','z2','z3','z4','z5']])\n",
    "        results_mismeasured_allvar = model_mismeasured_allvar.fit()\n",
    "        mismeasured_allvar_coef.append(results_mismeasured_allvar.params[0])\n",
    "\n",
    "        # PCA Results\n",
    "        model_pca = sm.OLS(scaled_df['scaled_y'],scaled_df[['scaled_x','scaled_pca_z']])\n",
    "        results_pca = model_pca.fit()\n",
    "        pca_coef.append(results_pca.params[0])\n",
    "\n",
    "        # True Results\n",
    "        model_true = sm.OLS(scaled_df['scaled_y'],scaled_df[['scaled_x','scaled_true_z']])\n",
    "        results_true = model_true.fit()\n",
    "        true_val_coef.append(results_true.params[0])\n",
    "\n",
    "        # Non-Scaled True Results\n",
    "        model_nonscaled_true = sm.OLS(vars_['y'],vars_[['x','true_z']])\n",
    "        results_nonscaled_true = model_nonscaled_true.fit()\n",
    "        nonscaled_true_val_coef.append(results_nonscaled_true.params[0])\n",
    "\n",
    "        # Output Findings\n",
    "        new_output = pd.DataFrame()\n",
    "        new_output['mismeasured_coef'] = mismeasured_coef\n",
    "        new_output['mismeasured_allvar_coef'] = mismeasured_allvar_coef\n",
    "        new_output['pca_coef'] = pca_coef\n",
    "        new_output['true_val_coef'] = true_val_coef\n",
    "        new_output['nonscaled_true_val_coef'] = nonscaled_true_val_coef   \n",
    "        new_output['covariance'] = vars_cov[0][1]\n",
    "        new_output['beta1'] = beta1\n",
    "        output = output.append(new_output)\n",
    "        \n",
    "output"
   ]
  },
  {
   "cell_type": "code",
   "execution_count": null,
   "metadata": {},
   "outputs": [],
   "source": [
    "output.describe()"
   ]
  },
  {
   "cell_type": "code",
   "execution_count": null,
   "metadata": {},
   "outputs": [],
   "source": [
    "sns.kdeplot(x='pca_coef',hue='covariance',data=output)"
   ]
  },
  {
   "cell_type": "code",
   "execution_count": null,
   "metadata": {},
   "outputs": [],
   "source": [
    "sns.kdeplot(x='mismeasured_coef',hue='covariance',data=output)"
   ]
  },
  {
   "cell_type": "code",
   "execution_count": null,
   "metadata": {},
   "outputs": [],
   "source": [
    "sns.kdeplot(x='true_val_coef',hue='covariance',data=output)"
   ]
  },
  {
   "cell_type": "code",
   "execution_count": null,
   "metadata": {},
   "outputs": [],
   "source": [
    "output.groupby('covariance').mean()[['pca_coef','mismeasured_coef','true_val_coef']]"
   ]
  },
  {
   "cell_type": "code",
   "execution_count": null,
   "metadata": {},
   "outputs": [],
   "source": [
    "output = pd.DataFrame()\n",
    "for beta1 in [0.1,1,10,100]:\n",
    "    for beta2 in [0.1,1,10,100]:\n",
    "        for covariance in [-1,-0.75,-0.5,-0.25,0,0.25,0.5,0.75,1]:\n",
    "            for k in range(1):\n",
    "                # Initialize Lists\n",
    "                pca_coef = []\n",
    "                mismeasured_coef = []\n",
    "                mismeasured_allvar_coef = []\n",
    "                mismeasured_avg_coef = []\n",
    "                true_val_coef =[]\n",
    "                nonscaled_true_val_coef = []\n",
    "\n",
    "                # Create variables\n",
    "                vars_mean = [0,0,0]\n",
    "                vars_cov = np.array([[1,covariance,0],\n",
    "                                     [covariance,1,0],\n",
    "                                     [0,0,1]])\n",
    "                vars_ = pd.DataFrame(np.random.multivariate_normal(vars_mean, vars_cov, N), columns = ['x','true_z','u'])\n",
    "                vars_['y'] = beta1 * vars_['x'] + beta2 * vars_['true_z'] + vars_['u']\n",
    "\n",
    "                # Create measurement errors\n",
    "                errors_mean = [0,0,0,0,0]\n",
    "                errors_cov = [[1,0,0,0,0],\n",
    "                              [0,1,0,0,0],\n",
    "                              [0,0,1,0,0],\n",
    "                              [0,0,0,1,0],\n",
    "                              [0,0,0,0,1]]\n",
    "                errors = np.random.multivariate_normal(errors_mean, errors_cov, N)\n",
    "                mismeasured_z = pd.DataFrame(errors, columns = ['z1','z2','z3','z4','z5'])\n",
    "                for i in mismeasured_z.columns:\n",
    "                    mismeasured_z[i] = mismeasured_z[i] + vars_['true_z']\n",
    "\n",
    "                # Do feature scaling (normalize to mean 0 and variance 1)\n",
    "                scaled_mismeasured_z = mismeasured_z.copy()\n",
    "                for i in mismeasured_z.columns:\n",
    "                    scaled_mismeasured_z[i] = (mismeasured_z[i] - mismeasured_z[i].mean()) / mismeasured_z[i].std()\n",
    "\n",
    "                # Use PCA on the mismeasured values\n",
    "                pca_model = pca()\n",
    "                pca_results = pca_model.fit_transform(scaled_mismeasured_z)\n",
    "                pca_z = pca_results['PC']['PC1']\n",
    "\n",
    "                # Average mismeasured variables:\n",
    "                vars_['avg_mismeasured_z'] = mismeasured_z[['z1','z2','z3','z4','z5']].mean(axis=1)\n",
    "\n",
    "                # Add relevant variables to vars_ dataframe\n",
    "                vars_[mismeasured_z.columns] = mismeasured_z\n",
    "                vars_['pca_z'] = pca_z\n",
    "\n",
    "                # Mismeasured Results\n",
    "                model_mismeasured = sm.OLS(vars_['y'],vars_[['x','z1']])\n",
    "                results_mismeasured = model_mismeasured.fit()\n",
    "                mismeasured_coef.append(results_mismeasured.params[0])\n",
    "\n",
    "                # All Variables Mismeasured Results\n",
    "                model_mismeasured_allvar = sm.OLS(vars_['y'],vars_[['x','z1','z2','z3','z4','z5']])\n",
    "                results_mismeasured_allvar = model_mismeasured_allvar.fit()\n",
    "                mismeasured_allvar_coef.append(results_mismeasured_allvar.params[0])\n",
    "\n",
    "                # Average Mismeasured Variables Results\n",
    "                model_mismeasured_avg = sm.OLS(vars_['y'],vars_[['x','avg_mismeasured_z']])\n",
    "                results_mismeasured_avg = model_mismeasured_avg.fit()\n",
    "                mismeasured_avg_coef.append(results_mismeasured_avg.params[0])\n",
    "\n",
    "                # PCA Results\n",
    "                model_pca = sm.OLS(vars_['y'],vars_[['x','pca_z']])\n",
    "                results_pca = model_pca.fit()\n",
    "                pca_coef.append(results_pca.params[0])\n",
    "\n",
    "                # True Results\n",
    "                model_true = sm.OLS(vars_['y'],vars_[['x','true_z']])\n",
    "                results_true = model_true.fit()\n",
    "                true_val_coef.append(results_true.params[0])\n",
    "\n",
    "                # Output Findings\n",
    "                new_output = pd.DataFrame()\n",
    "                new_output['mismeasured_coef'] = mismeasured_coef\n",
    "                new_output['mismeasured_allvar_coef'] = mismeasured_allvar_coef\n",
    "                new_output['mismeasured_avg_coef'] = mismeasured_avg_coef\n",
    "                new_output['pca_coef'] = pca_coef\n",
    "                new_output['true_val_coef'] = true_val_coef\n",
    "                new_output['covariance'] = vars_cov[0][1]\n",
    "                new_output['beta1'] = beta1\n",
    "                new_output['beta2'] = beta2\n",
    "                output = output.append(new_output)\n",
    "        \n",
    "output"
   ]
  },
  {
   "cell_type": "code",
   "execution_count": null,
   "metadata": {},
   "outputs": [],
   "source": [
    "z_vars = []\n",
    "for i in range(p):\n",
    "    z_vars.append('z'+str(i+1))\n",
    "z_vars"
   ]
  },
  {
   "cell_type": "code",
   "execution_count": null,
   "metadata": {},
   "outputs": [],
   "source": [
    "    # Initialize Lists\n",
    "    pca_coef = []\n",
    "    mismeasured_coef = []\n",
    "    mismeasured_allvar_coef = []\n",
    "    mismeasured_avg_coef = []\n",
    "    true_val_coef =[]\n",
    "    nonscaled_true_val_coef = []\n",
    "\n",
    "    # Create variables\n",
    "    vars_mean = [0,0,0]\n",
    "    vars_cov = np.array([[1,covariance,0],\n",
    "                         [covariance,1,0],\n",
    "                         [0,0,1]])\n",
    "    vars_ = pd.DataFrame(np.random.multivariate_normal(vars_mean, vars_cov, N), columns = ['x','true_z','u'])\n",
    "    vars_['y'] = beta1 * vars_['x'] + beta2 * vars_['true_z'] + vars_['u']\n",
    "\n",
    "        # Create measurement errors\n",
    "    errors_mean = np.zeros(p)\n",
    "    errors_cov = np.zeros((p,p))\n",
    "    for i in range(p):\n",
    "        for j in range(p):\n",
    "            if i == j:\n",
    "                errors_cov[i,j] = 1\n",
    "    errors = np.random.multivariate_normal(errors_mean, errors_cov, N)\n",
    "    z_vars = []\n",
    "    for i in range(p):\n",
    "        z_vars.append('z'+str(i+1))\n",
    "    mismeasured_z = pd.DataFrame(errors, columns = z_vars)\n",
    "    for i in mismeasured_z.columns:\n",
    "        mismeasured_z[i] = mismeasured_z[i] + vars_['true_z']\n",
    "\n",
    "            # Do feature scaling (normalize to mean 0 and variance 1)\n",
    "    scaled_mismeasured_z = mismeasured_z.copy()\n",
    "    for i in mismeasured_z.columns:\n",
    "        scaled_mismeasured_z[i] = (mismeasured_z[i] - mismeasured_z[i].mean()) / mismeasured_z[i].std()\n",
    "\n",
    "            # Use PCA on the mismeasured values\n",
    "    pca_model = pca()\n",
    "    pca_results = pca_model.fit_transform(scaled_mismeasured_z)\n",
    "    pca_z = pca_results['PC']['PC1']\n",
    "\n",
    "        # Average mismeasured variables:\n",
    "    vars_['avg_mismeasured_z'] = mismeasured_z[z_vars].mean(axis=1)\n",
    "    # Add relevant variables to vars_ dataframe\n",
    "    vars_[mismeasured_z.columns] = mismeasured_z\n",
    "    vars_['pca_z'] = pca_z\n",
    "\n",
    "        # Mismeasured Results\n",
    "    model_mismeasured = sm.OLS(vars_['y'],vars_[['x','z1']])\n",
    "    results_mismeasured = model_mismeasured.fit()\n",
    "    mismeasured_coef.append(results_mismeasured.params[0])\n",
    "    # All Variables Mismeasured Results\n",
    "    tot_vars = ['x']\n",
    "    tot_vars.extend(z_vars)\n",
    "#    model_mismeasured_allvar = sm.OLS(vars_['y'],tot_vars)\n",
    "#    results_mismeasured_allvar = model_mismeasured_allvar.fit()\n",
    "#    mismeasured_allvar_coef.append(results_mismeasured_allvar.params[0])\n",
    "tot_vars"
   ]
  },
  {
   "cell_type": "code",
   "execution_count": null,
   "metadata": {},
   "outputs": [],
   "source": [
    "output = pd.DataFrame()\n",
    "for beta1 in [0.1,1,10,100]:\n",
    "    for beta2 in [0.1,1,10,100]:\n",
    "        for covariance in [-1,-0.75,-0.5,-0.25,0,0.25,0.5,0.75,1]:\n",
    "            for p in [5,10,20,50]:\n",
    "                for k in range(100):\n",
    "                    # Initialize Lists\n",
    "                    pca_coef = []\n",
    "                    mismeasured_coef = []\n",
    "                    mismeasured_allvar_coef = []\n",
    "                    mismeasured_avg_coef = []\n",
    "                    true_val_coef =[]\n",
    "                    nonscaled_true_val_coef = []\n",
    "\n",
    "                    # Create variables\n",
    "                    vars_mean = [0,0,0]\n",
    "                    vars_cov = np.array([[1,covariance,0],\n",
    "                                         [covariance,1,0],\n",
    "                                         [0,0,1]])\n",
    "                    vars_ = pd.DataFrame(np.random.multivariate_normal(vars_mean, vars_cov, N), columns = ['x','true_z','u'])\n",
    "                    vars_['y'] = beta1 * vars_['x'] + beta2 * vars_['true_z'] + vars_['u']\n",
    "\n",
    "                    # Create measurement errors\n",
    "                    errors_mean = np.zeros(p)\n",
    "                    errors_cov = np.zeros((p,p))\n",
    "                    for i in range(p):\n",
    "                        for j in range(p):\n",
    "                            if i == j:\n",
    "                                errors_cov[i,j] = 1\n",
    "\n",
    "                    errors = np.random.multivariate_normal(errors_mean, errors_cov, N)\n",
    "                    z_vars = []\n",
    "                    for i in range(p):\n",
    "                        z_vars.append('z'+str(i+1))\n",
    "                    mismeasured_z = pd.DataFrame(errors, columns = z_vars)\n",
    "                    for i in mismeasured_z.columns:\n",
    "                        mismeasured_z[i] = mismeasured_z[i] + vars_['true_z']\n",
    "\n",
    "                    # Do feature scaling (normalize to mean 0 and variance 1)\n",
    "                    scaled_mismeasured_z = mismeasured_z.copy()\n",
    "                    for i in mismeasured_z.columns:\n",
    "                        scaled_mismeasured_z[i] = (mismeasured_z[i] - mismeasured_z[i].mean()) / mismeasured_z[i].std()\n",
    "\n",
    "                    # Use PCA on the mismeasured values\n",
    "                    pca_model = pca()\n",
    "                    pca_results = pca_model.fit_transform(scaled_mismeasured_z)\n",
    "                    pca_z = pca_results['PC']['PC1']\n",
    "\n",
    "                    # Average mismeasured variables:\n",
    "                    vars_['avg_mismeasured_z'] = mismeasured_z[z_vars].mean(axis=1)\n",
    "\n",
    "                    # Add relevant variables to vars_ dataframe\n",
    "                    vars_[mismeasured_z.columns] = mismeasured_z\n",
    "                    vars_['pca_z'] = pca_z\n",
    "\n",
    "                    # Mismeasured Results\n",
    "                    model_mismeasured = sm.OLS(vars_['y'],vars_[['x','z1']])\n",
    "                    results_mismeasured = model_mismeasured.fit()\n",
    "                    mismeasured_coef.append(results_mismeasured.params[0])\n",
    "\n",
    "                    # All Variables Mismeasured Results\n",
    "                    tot_vars = ['x']\n",
    "                    tot_vars.extend(z_vars)\n",
    "                    model_mismeasured_allvar = sm.OLS(vars_['y'],vars_[tot_vars])\n",
    "                    results_mismeasured_allvar = model_mismeasured_allvar.fit()\n",
    "                    mismeasured_allvar_coef.append(results_mismeasured_allvar.params[0])\n",
    "\n",
    "                    # Average Mismeasured Variables Results\n",
    "                    model_mismeasured_avg = sm.OLS(vars_['y'],vars_[['x','avg_mismeasured_z']])\n",
    "                    results_mismeasured_avg = model_mismeasured_avg.fit()\n",
    "                    mismeasured_avg_coef.append(results_mismeasured_avg.params[0])\n",
    "\n",
    "                    # PCA Results\n",
    "                    model_pca = sm.OLS(vars_['y'],vars_[['x','pca_z']])\n",
    "                    results_pca = model_pca.fit()\n",
    "                    pca_coef.append(results_pca.params[0])\n",
    "\n",
    "                    # True Results\n",
    "                    model_true = sm.OLS(vars_['y'],vars_[['x','true_z']])\n",
    "                    results_true = model_true.fit()\n",
    "                    true_val_coef.append(results_true.params[0])\n",
    "\n",
    "                    # Output Findings\n",
    "                    new_output = pd.DataFrame()\n",
    "                    new_output['mismeasured_coef'] = mismeasured_coef\n",
    "                    new_output['mismeasured_allvar_coef'] = mismeasured_allvar_coef\n",
    "                    new_output['mismeasured_avg_coef'] = mismeasured_avg_coef\n",
    "                    new_output['pca_coef'] = pca_coef\n",
    "                    new_output['true_val_coef'] = true_val_coef\n",
    "                    new_output['covariance'] = vars_cov[0][1]\n",
    "                    new_output['beta1'] = beta1\n",
    "                    new_output['beta2'] = beta2\n",
    "                    new_output['p'] = p\n",
    "                    output = output.append(new_output)\n",
    "        \n",
    "output"
   ]
  },
  {
   "cell_type": "code",
   "execution_count": null,
   "metadata": {},
   "outputs": [],
   "source": [
    "pd.set_option('display.max_rows', 10)"
   ]
  },
  {
   "cell_type": "code",
   "execution_count": null,
   "metadata": {},
   "outputs": [],
   "source": [
    "output.groupby(['covariance','beta1','beta2','p']).mean()[['pca_coef','mismeasured_coef','mismeasured_allvar_coef','mismeasured_avg_coef','true_val_coef']].reset_index()"
   ]
  },
  {
   "cell_type": "code",
   "execution_count": null,
   "metadata": {},
   "outputs": [],
   "source": [
    "output.groupby(['covariance','beta1','beta2','p']).std()[['pca_coef','mismeasured_coef','mismeasured_allvar_coef','mismeasured_avg_coef','true_val_coef']].reset_index()"
   ]
  },
  {
   "cell_type": "code",
   "execution_count": null,
   "metadata": {},
   "outputs": [],
   "source": [
    "output.loc[(output['beta1']==1)&(output['beta2']==1)].groupby(['covariance','beta1','beta2','p']).mean()[['pca_coef','mismeasured_coef','mismeasured_allvar_coef','mismeasured_avg_coef','true_val_coef']].reset_index()"
   ]
  },
  {
   "cell_type": "code",
   "execution_count": null,
   "metadata": {},
   "outputs": [],
   "source": [
    "means = output.groupby(['covariance','beta1','beta2','p']).mean()[['pca_coef','mismeasured_coef','mismeasured_allvar_coef','mismeasured_avg_coef','true_val_coef']].reset_index()\n",
    "means"
   ]
  },
  {
   "cell_type": "code",
   "execution_count": null,
   "metadata": {},
   "outputs": [],
   "source": [
    "means['pca_ape'] = (means['pca_coef'] - means['beta1']).abs()/means['beta1']\n",
    "means['mismeasured_coef_ape'] = (means['mismeasured_coef'] - means['beta1']).abs()/means['beta1']\n",
    "means['mismeasured_allvar_coef_ape'] = (means['mismeasured_allvar_coef'] - means['beta1']).abs()/means['beta1']\n",
    "means['mismeasured_avg_coef_ape'] = (means['mismeasured_avg_coef'] - means['beta1']).abs()/means['beta1']\n",
    "means"
   ]
  },
  {
   "cell_type": "code",
   "execution_count": null,
   "metadata": {},
   "outputs": [],
   "source": [
    "means.describe()[['pca_ape','mismeasured_coef_ape','mismeasured_allvar_coef_ape','mismeasured_avg_coef_ape']]"
   ]
  },
  {
   "cell_type": "code",
   "execution_count": null,
   "metadata": {},
   "outputs": [],
   "source": [
    "means.groupby('covariance').mean()[['pca_ape','mismeasured_coef_ape','mismeasured_allvar_coef_ape','mismeasured_avg_coef_ape']]"
   ]
  },
  {
   "cell_type": "code",
   "execution_count": null,
   "metadata": {},
   "outputs": [],
   "source": [
    "means.groupby('beta1').mean()[['pca_ape','mismeasured_coef_ape','mismeasured_allvar_coef_ape','mismeasured_avg_coef_ape']]"
   ]
  },
  {
   "cell_type": "code",
   "execution_count": null,
   "metadata": {},
   "outputs": [],
   "source": [
    "means.groupby('beta2').mean()[['pca_ape','mismeasured_coef_ape','mismeasured_allvar_coef_ape','mismeasured_avg_coef_ape']]"
   ]
  },
  {
   "cell_type": "code",
   "execution_count": null,
   "metadata": {},
   "outputs": [],
   "source": [
    "means.groupby('p').mean()[['pca_ape','mismeasured_coef_ape','mismeasured_allvar_coef_ape','mismeasured_avg_coef_ape']]"
   ]
  },
  {
   "cell_type": "code",
   "execution_count": null,
   "metadata": {},
   "outputs": [],
   "source": [
    "stds = output.groupby(['covariance','beta1','beta2','p']).std()[['pca_coef','mismeasured_coef','mismeasured_allvar_coef','mismeasured_avg_coef','true_val_coef']].reset_index()\n",
    "stds"
   ]
  },
  {
   "cell_type": "code",
   "execution_count": null,
   "metadata": {},
   "outputs": [],
   "source": [
    "stds['pca_ape'] = (stds['pca_coef'] - stds['beta1']).abs()/stds['beta1']\n",
    "stds['mismeasured_coef_ape'] = (stds['mismeasured_coef'] - stds['beta1']).abs()/stds['beta1']\n",
    "stds['mismeasured_allvar_coef_ape'] = (stds['mismeasured_allvar_coef'] - stds['beta1']).abs()/stds['beta1']\n",
    "stds['mismeasured_avg_coef_ape'] = (stds['mismeasured_avg_coef'] - stds['beta1']).abs()/stds['beta1']\n",
    "stds"
   ]
  },
  {
   "cell_type": "code",
   "execution_count": null,
   "metadata": {},
   "outputs": [],
   "source": [
    "stds.describe()[['pca_ape','mismeasured_coef_ape','mismeasured_allvar_coef_ape','mismeasured_avg_coef_ape']]"
   ]
  },
  {
   "cell_type": "code",
   "execution_count": null,
   "metadata": {},
   "outputs": [],
   "source": [
    "stds.groupby('covariance').mean()[['pca_ape','mismeasured_coef_ape','mismeasured_allvar_coef_ape','mismeasured_avg_coef_ape']]"
   ]
  },
  {
   "cell_type": "code",
   "execution_count": null,
   "metadata": {},
   "outputs": [],
   "source": [
    "stds.groupby('beta1').mean()[['pca_ape','mismeasured_coef_ape','mismeasured_allvar_coef_ape','mismeasured_avg_coef_ape']]"
   ]
  },
  {
   "cell_type": "code",
   "execution_count": null,
   "metadata": {},
   "outputs": [],
   "source": [
    "stds.groupby('beta2').mean()[['pca_ape','mismeasured_coef_ape','mismeasured_allvar_coef_ape','mismeasured_avg_coef_ape']]"
   ]
  },
  {
   "cell_type": "code",
   "execution_count": null,
   "metadata": {},
   "outputs": [],
   "source": [
    "stds.groupby('p').mean()[['pca_ape','mismeasured_coef_ape','mismeasured_allvar_coef_ape','mismeasured_avg_coef_ape']]"
   ]
  },
  {
   "cell_type": "code",
   "execution_count": null,
   "metadata": {},
   "outputs": [],
   "source": [
    "means.to_csv('C://Users//paulo//Documents//Econometrics and ML//Final Project//means_coefs.csv')\n",
    "stds.to_csv('C://Users//paulo//Documents//Econometrics and ML//Final Project//stds_coefs.csv')"
   ]
  },
  {
   "cell_type": "code",
   "execution_count": null,
   "metadata": {},
   "outputs": [],
   "source": []
  },
  {
   "cell_type": "code",
   "execution_count": null,
   "metadata": {},
   "outputs": [],
   "source": []
  },
  {
   "cell_type": "code",
   "execution_count": null,
   "metadata": {},
   "outputs": [],
   "source": []
  }
 ],
 "metadata": {
  "kernelspec": {
   "display_name": "Python 3",
   "language": "python",
   "name": "python3"
  },
  "language_info": {
   "codemirror_mode": {
    "name": "ipython",
    "version": 3
   },
   "file_extension": ".py",
   "mimetype": "text/x-python",
   "name": "python",
   "nbconvert_exporter": "python",
   "pygments_lexer": "ipython3",
   "version": "3.8.3"
  }
 },
 "nbformat": 4,
 "nbformat_minor": 4
}
