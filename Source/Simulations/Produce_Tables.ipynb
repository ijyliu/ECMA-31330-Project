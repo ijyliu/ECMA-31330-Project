{
 "metadata": {
  "language_info": {
   "codemirror_mode": {
    "name": "ipython",
    "version": 3
   },
   "file_extension": ".py",
   "mimetype": "text/x-python",
   "name": "python",
   "nbconvert_exporter": "python",
   "pygments_lexer": "ipython3",
   "version": "3.8.8"
  },
  "orig_nbformat": 2,
  "kernelspec": {
   "name": "python388jvsc74a57bd0d8e5f08eda4f9cddc19de05071e25a43923763e5e5799e90c26e70a4345f4abb",
   "display_name": "Python 3.8.8 64-bit ('econ31330-env': conda)"
  }
 },
 "nbformat": 4,
 "nbformat_minor": 2,
 "cells": [
  {
   "cell_type": "code",
   "execution_count": 1,
   "metadata": {},
   "outputs": [],
   "source": [
    "# Import objects from the setup file\n",
    "import os\n",
    "import sys\n",
    "sys.path.append(os.path.expanduser('~/repo/ECMA-31330-Project/Source'))\n",
    "from ME_Setup import *\n",
    "\n",
    "# Packages\n",
    "import pandas as pd\n",
    "import regex as re\n",
    "\n",
    "pd.set_option('display.max_rows', 10)"
   ]
  },
  {
   "cell_type": "code",
   "execution_count": 2,
   "metadata": {},
   "outputs": [
    {
     "output_type": "execute_result",
     "data": {
      "text/plain": [
       "    mismeasured_coef  mismeasured_allvar_coef  mismeasured_avg_coef  \\\n",
       "0           0.399043                 0.286126              0.475065   \n",
       "0           0.375566                 0.277360              0.456796   \n",
       "0           0.366631                 0.193763              0.194784   \n",
       "0           0.394229                 0.188301              0.186376   \n",
       "0           1.022695                 1.018035              1.036367   \n",
       "..               ...                      ...                   ...   \n",
       "0           3.756241                 2.126662              2.132512   \n",
       "0          10.318776                10.219309             10.428650   \n",
       "0          10.304393                10.207344             10.392587   \n",
       "0          10.317509                10.165775             10.165579   \n",
       "0          10.283584                10.098531             10.098524   \n",
       "\n",
       "     pca_coef  true_val_coef    iv_coef  covariance  beta1  beta2  p  \\\n",
       "0    0.329801       0.081933   0.343144         0.5    0.1    1.0  5   \n",
       "0    0.301234       0.086412   0.328577         0.5    0.1    1.0  5   \n",
       "0    0.194833       0.086649   0.218756         0.5    0.1    1.0  5   \n",
       "0    0.187594       0.087697   0.200708         0.5    0.1    1.0  5   \n",
       "0    1.017710       0.984758   1.020303         0.5    1.0    0.1  5   \n",
       "..        ...            ...        ...         ...    ...    ... ..   \n",
       "0    2.134524       1.029810   2.361156         0.5    1.0   10.0  5   \n",
       "0   10.246406      10.029898  10.281943         0.5   10.0    1.0  5   \n",
       "0   10.234261      10.040918  10.267341         0.5   10.0    1.0  5   \n",
       "0   10.166668      10.062403  10.192212         0.5   10.0    1.0  5   \n",
       "0   10.099469       9.995795  10.120382         0.5   10.0    1.0  5   \n",
       "\n",
       "   exp_of_var  \n",
       "0         yes  \n",
       "0         yes  \n",
       "0          no  \n",
       "0          no  \n",
       "0         yes  \n",
       "..        ...  \n",
       "0          no  \n",
       "0         yes  \n",
       "0         yes  \n",
       "0          no  \n",
       "0          no  \n",
       "\n",
       "[44 rows x 11 columns]"
      ],
      "text/html": "<div>\n<style scoped>\n    .dataframe tbody tr th:only-of-type {\n        vertical-align: middle;\n    }\n\n    .dataframe tbody tr th {\n        vertical-align: top;\n    }\n\n    .dataframe thead th {\n        text-align: right;\n    }\n</style>\n<table border=\"1\" class=\"dataframe\">\n  <thead>\n    <tr style=\"text-align: right;\">\n      <th></th>\n      <th>mismeasured_coef</th>\n      <th>mismeasured_allvar_coef</th>\n      <th>mismeasured_avg_coef</th>\n      <th>pca_coef</th>\n      <th>true_val_coef</th>\n      <th>iv_coef</th>\n      <th>covariance</th>\n      <th>beta1</th>\n      <th>beta2</th>\n      <th>p</th>\n      <th>exp_of_var</th>\n    </tr>\n  </thead>\n  <tbody>\n    <tr>\n      <th>0</th>\n      <td>0.399043</td>\n      <td>0.286126</td>\n      <td>0.475065</td>\n      <td>0.329801</td>\n      <td>0.081933</td>\n      <td>0.343144</td>\n      <td>0.5</td>\n      <td>0.1</td>\n      <td>1.0</td>\n      <td>5</td>\n      <td>yes</td>\n    </tr>\n    <tr>\n      <th>0</th>\n      <td>0.375566</td>\n      <td>0.277360</td>\n      <td>0.456796</td>\n      <td>0.301234</td>\n      <td>0.086412</td>\n      <td>0.328577</td>\n      <td>0.5</td>\n      <td>0.1</td>\n      <td>1.0</td>\n      <td>5</td>\n      <td>yes</td>\n    </tr>\n    <tr>\n      <th>0</th>\n      <td>0.366631</td>\n      <td>0.193763</td>\n      <td>0.194784</td>\n      <td>0.194833</td>\n      <td>0.086649</td>\n      <td>0.218756</td>\n      <td>0.5</td>\n      <td>0.1</td>\n      <td>1.0</td>\n      <td>5</td>\n      <td>no</td>\n    </tr>\n    <tr>\n      <th>0</th>\n      <td>0.394229</td>\n      <td>0.188301</td>\n      <td>0.186376</td>\n      <td>0.187594</td>\n      <td>0.087697</td>\n      <td>0.200708</td>\n      <td>0.5</td>\n      <td>0.1</td>\n      <td>1.0</td>\n      <td>5</td>\n      <td>no</td>\n    </tr>\n    <tr>\n      <th>0</th>\n      <td>1.022695</td>\n      <td>1.018035</td>\n      <td>1.036367</td>\n      <td>1.017710</td>\n      <td>0.984758</td>\n      <td>1.020303</td>\n      <td>0.5</td>\n      <td>1.0</td>\n      <td>0.1</td>\n      <td>5</td>\n      <td>yes</td>\n    </tr>\n    <tr>\n      <th>...</th>\n      <td>...</td>\n      <td>...</td>\n      <td>...</td>\n      <td>...</td>\n      <td>...</td>\n      <td>...</td>\n      <td>...</td>\n      <td>...</td>\n      <td>...</td>\n      <td>...</td>\n      <td>...</td>\n    </tr>\n    <tr>\n      <th>0</th>\n      <td>3.756241</td>\n      <td>2.126662</td>\n      <td>2.132512</td>\n      <td>2.134524</td>\n      <td>1.029810</td>\n      <td>2.361156</td>\n      <td>0.5</td>\n      <td>1.0</td>\n      <td>10.0</td>\n      <td>5</td>\n      <td>no</td>\n    </tr>\n    <tr>\n      <th>0</th>\n      <td>10.318776</td>\n      <td>10.219309</td>\n      <td>10.428650</td>\n      <td>10.246406</td>\n      <td>10.029898</td>\n      <td>10.281943</td>\n      <td>0.5</td>\n      <td>10.0</td>\n      <td>1.0</td>\n      <td>5</td>\n      <td>yes</td>\n    </tr>\n    <tr>\n      <th>0</th>\n      <td>10.304393</td>\n      <td>10.207344</td>\n      <td>10.392587</td>\n      <td>10.234261</td>\n      <td>10.040918</td>\n      <td>10.267341</td>\n      <td>0.5</td>\n      <td>10.0</td>\n      <td>1.0</td>\n      <td>5</td>\n      <td>yes</td>\n    </tr>\n    <tr>\n      <th>0</th>\n      <td>10.317509</td>\n      <td>10.165775</td>\n      <td>10.165579</td>\n      <td>10.166668</td>\n      <td>10.062403</td>\n      <td>10.192212</td>\n      <td>0.5</td>\n      <td>10.0</td>\n      <td>1.0</td>\n      <td>5</td>\n      <td>no</td>\n    </tr>\n    <tr>\n      <th>0</th>\n      <td>10.283584</td>\n      <td>10.098531</td>\n      <td>10.098524</td>\n      <td>10.099469</td>\n      <td>9.995795</td>\n      <td>10.120382</td>\n      <td>0.5</td>\n      <td>10.0</td>\n      <td>1.0</td>\n      <td>5</td>\n      <td>no</td>\n    </tr>\n  </tbody>\n</table>\n<p>44 rows × 11 columns</p>\n</div>"
     },
     "metadata": {},
     "execution_count": 2
    }
   ],
   "source": [
    "N = 2000\n",
    "\n",
    "output = pd.read_csv(output_dir + '/n_' + str(N) + '_results.csv', index_col=0)\n",
    "output"
   ]
  },
  {
   "cell_type": "code",
   "execution_count": 3,
   "metadata": {},
   "outputs": [],
   "source": [
    "output['pca_ape'] = (output['pca_coef'] - output['beta1']).abs()/output['beta1']\n",
    "output['mismeasured_coef_ape'] = (output['mismeasured_coef'] - output['beta1']).abs()/output['beta1']\n",
    "output['mismeasured_allvar_coef_ape'] = (output['mismeasured_allvar_coef'] - output['beta1']).abs()/output['beta1']\n",
    "output['mismeasured_avg_coef_ape'] = (output['mismeasured_avg_coef'] - output['beta1']).abs()/output['beta1']\n",
    "output['iv_coef_ape'] = (output['iv_coef'] - output['beta1']).abs()/output['beta1']"
   ]
  },
  {
   "cell_type": "code",
   "execution_count": 4,
   "metadata": {},
   "outputs": [
    {
     "output_type": "execute_result",
     "data": {
      "text/plain": [
       "    covariance  beta1  beta2  p exp_of_var  mismeasured_coef  \\\n",
       "0         -0.9    1.0    1.0  5         no          0.222996   \n",
       "1         -0.9    1.0    1.0  5        yes          0.240953   \n",
       "2         -0.5    1.0    1.0  5         no          0.704848   \n",
       "3         -0.5    1.0    1.0  5        yes          0.688289   \n",
       "4          0.0    1.0    1.0  5         no          1.026584   \n",
       "..         ...    ...    ... ..        ...               ...   \n",
       "17         0.5    1.0   10.0  5        yes          4.042376   \n",
       "18         0.5   10.0    1.0  5         no         10.300547   \n",
       "19         0.5   10.0    1.0  5        yes         10.311584   \n",
       "20         0.9    1.0    1.0  5         no          1.722288   \n",
       "21         0.9    1.0    1.0  5        yes          1.731175   \n",
       "\n",
       "    mismeasured_allvar_coef  mismeasured_avg_coef   pca_coef  true_val_coef  \\\n",
       "0                  0.502274              0.502976   0.502710       0.988012   \n",
       "1                  0.381684              0.154333   0.317234       0.986656   \n",
       "2                  0.888955              0.889908   0.889899       0.994405   \n",
       "3                  0.787294              0.623916   0.773750       0.969266   \n",
       "4                  1.017426              1.016822   1.016931       1.015957   \n",
       "..                      ...                   ...        ...            ...   \n",
       "17                 3.044577              4.937272   3.261862       0.958148   \n",
       "18                10.132153             10.132051  10.133068      10.029099   \n",
       "19                10.213327             10.410618  10.240334      10.035408   \n",
       "20                 1.433541              1.432780   1.434020       0.983394   \n",
       "21                 1.587780              1.812600   1.619115       0.987355   \n",
       "\n",
       "      iv_coef   pca_ape  mismeasured_coef_ape  mismeasured_allvar_coef_ape  \\\n",
       "0    0.456290  0.497290              0.777004                     0.497726   \n",
       "1    0.299647  0.682766              0.759047                     0.618316   \n",
       "2    0.868487  0.110101              0.295152                     0.111045   \n",
       "3    0.745506  0.226250              0.311711                     0.212706   \n",
       "4    1.014559  0.016931              0.026584                     0.017426   \n",
       "..        ...       ...                   ...                          ...   \n",
       "17   3.559375  2.261862              3.042376                     2.044577   \n",
       "18  10.156297  0.013307              0.030055                     0.013215   \n",
       "19  10.274642  0.024033              0.031158                     0.021333   \n",
       "20   1.498038  0.434020              0.722288                     0.433541   \n",
       "21   1.657197  0.619115              0.731175                     0.587780   \n",
       "\n",
       "    mismeasured_avg_coef_ape  iv_coef_ape  \n",
       "0                   0.497024     0.543710  \n",
       "1                   0.845667     0.700353  \n",
       "2                   0.110092     0.131513  \n",
       "3                   0.376084     0.254494  \n",
       "4                   0.016822     0.014559  \n",
       "..                       ...          ...  \n",
       "17                  3.937272     2.559375  \n",
       "18                  0.013205     0.015630  \n",
       "19                  0.041062     0.027464  \n",
       "20                  0.432780     0.498038  \n",
       "21                  0.812600     0.657197  \n",
       "\n",
       "[22 rows x 16 columns]"
      ],
      "text/html": "<div>\n<style scoped>\n    .dataframe tbody tr th:only-of-type {\n        vertical-align: middle;\n    }\n\n    .dataframe tbody tr th {\n        vertical-align: top;\n    }\n\n    .dataframe thead th {\n        text-align: right;\n    }\n</style>\n<table border=\"1\" class=\"dataframe\">\n  <thead>\n    <tr style=\"text-align: right;\">\n      <th></th>\n      <th>covariance</th>\n      <th>beta1</th>\n      <th>beta2</th>\n      <th>p</th>\n      <th>exp_of_var</th>\n      <th>mismeasured_coef</th>\n      <th>mismeasured_allvar_coef</th>\n      <th>mismeasured_avg_coef</th>\n      <th>pca_coef</th>\n      <th>true_val_coef</th>\n      <th>iv_coef</th>\n      <th>pca_ape</th>\n      <th>mismeasured_coef_ape</th>\n      <th>mismeasured_allvar_coef_ape</th>\n      <th>mismeasured_avg_coef_ape</th>\n      <th>iv_coef_ape</th>\n    </tr>\n  </thead>\n  <tbody>\n    <tr>\n      <th>0</th>\n      <td>-0.9</td>\n      <td>1.0</td>\n      <td>1.0</td>\n      <td>5</td>\n      <td>no</td>\n      <td>0.222996</td>\n      <td>0.502274</td>\n      <td>0.502976</td>\n      <td>0.502710</td>\n      <td>0.988012</td>\n      <td>0.456290</td>\n      <td>0.497290</td>\n      <td>0.777004</td>\n      <td>0.497726</td>\n      <td>0.497024</td>\n      <td>0.543710</td>\n    </tr>\n    <tr>\n      <th>1</th>\n      <td>-0.9</td>\n      <td>1.0</td>\n      <td>1.0</td>\n      <td>5</td>\n      <td>yes</td>\n      <td>0.240953</td>\n      <td>0.381684</td>\n      <td>0.154333</td>\n      <td>0.317234</td>\n      <td>0.986656</td>\n      <td>0.299647</td>\n      <td>0.682766</td>\n      <td>0.759047</td>\n      <td>0.618316</td>\n      <td>0.845667</td>\n      <td>0.700353</td>\n    </tr>\n    <tr>\n      <th>2</th>\n      <td>-0.5</td>\n      <td>1.0</td>\n      <td>1.0</td>\n      <td>5</td>\n      <td>no</td>\n      <td>0.704848</td>\n      <td>0.888955</td>\n      <td>0.889908</td>\n      <td>0.889899</td>\n      <td>0.994405</td>\n      <td>0.868487</td>\n      <td>0.110101</td>\n      <td>0.295152</td>\n      <td>0.111045</td>\n      <td>0.110092</td>\n      <td>0.131513</td>\n    </tr>\n    <tr>\n      <th>3</th>\n      <td>-0.5</td>\n      <td>1.0</td>\n      <td>1.0</td>\n      <td>5</td>\n      <td>yes</td>\n      <td>0.688289</td>\n      <td>0.787294</td>\n      <td>0.623916</td>\n      <td>0.773750</td>\n      <td>0.969266</td>\n      <td>0.745506</td>\n      <td>0.226250</td>\n      <td>0.311711</td>\n      <td>0.212706</td>\n      <td>0.376084</td>\n      <td>0.254494</td>\n    </tr>\n    <tr>\n      <th>4</th>\n      <td>0.0</td>\n      <td>1.0</td>\n      <td>1.0</td>\n      <td>5</td>\n      <td>no</td>\n      <td>1.026584</td>\n      <td>1.017426</td>\n      <td>1.016822</td>\n      <td>1.016931</td>\n      <td>1.015957</td>\n      <td>1.014559</td>\n      <td>0.016931</td>\n      <td>0.026584</td>\n      <td>0.017426</td>\n      <td>0.016822</td>\n      <td>0.014559</td>\n    </tr>\n    <tr>\n      <th>...</th>\n      <td>...</td>\n      <td>...</td>\n      <td>...</td>\n      <td>...</td>\n      <td>...</td>\n      <td>...</td>\n      <td>...</td>\n      <td>...</td>\n      <td>...</td>\n      <td>...</td>\n      <td>...</td>\n      <td>...</td>\n      <td>...</td>\n      <td>...</td>\n      <td>...</td>\n      <td>...</td>\n    </tr>\n    <tr>\n      <th>17</th>\n      <td>0.5</td>\n      <td>1.0</td>\n      <td>10.0</td>\n      <td>5</td>\n      <td>yes</td>\n      <td>4.042376</td>\n      <td>3.044577</td>\n      <td>4.937272</td>\n      <td>3.261862</td>\n      <td>0.958148</td>\n      <td>3.559375</td>\n      <td>2.261862</td>\n      <td>3.042376</td>\n      <td>2.044577</td>\n      <td>3.937272</td>\n      <td>2.559375</td>\n    </tr>\n    <tr>\n      <th>18</th>\n      <td>0.5</td>\n      <td>10.0</td>\n      <td>1.0</td>\n      <td>5</td>\n      <td>no</td>\n      <td>10.300547</td>\n      <td>10.132153</td>\n      <td>10.132051</td>\n      <td>10.133068</td>\n      <td>10.029099</td>\n      <td>10.156297</td>\n      <td>0.013307</td>\n      <td>0.030055</td>\n      <td>0.013215</td>\n      <td>0.013205</td>\n      <td>0.015630</td>\n    </tr>\n    <tr>\n      <th>19</th>\n      <td>0.5</td>\n      <td>10.0</td>\n      <td>1.0</td>\n      <td>5</td>\n      <td>yes</td>\n      <td>10.311584</td>\n      <td>10.213327</td>\n      <td>10.410618</td>\n      <td>10.240334</td>\n      <td>10.035408</td>\n      <td>10.274642</td>\n      <td>0.024033</td>\n      <td>0.031158</td>\n      <td>0.021333</td>\n      <td>0.041062</td>\n      <td>0.027464</td>\n    </tr>\n    <tr>\n      <th>20</th>\n      <td>0.9</td>\n      <td>1.0</td>\n      <td>1.0</td>\n      <td>5</td>\n      <td>no</td>\n      <td>1.722288</td>\n      <td>1.433541</td>\n      <td>1.432780</td>\n      <td>1.434020</td>\n      <td>0.983394</td>\n      <td>1.498038</td>\n      <td>0.434020</td>\n      <td>0.722288</td>\n      <td>0.433541</td>\n      <td>0.432780</td>\n      <td>0.498038</td>\n    </tr>\n    <tr>\n      <th>21</th>\n      <td>0.9</td>\n      <td>1.0</td>\n      <td>1.0</td>\n      <td>5</td>\n      <td>yes</td>\n      <td>1.731175</td>\n      <td>1.587780</td>\n      <td>1.812600</td>\n      <td>1.619115</td>\n      <td>0.987355</td>\n      <td>1.657197</td>\n      <td>0.619115</td>\n      <td>0.731175</td>\n      <td>0.587780</td>\n      <td>0.812600</td>\n      <td>0.657197</td>\n    </tr>\n  </tbody>\n</table>\n<p>22 rows × 16 columns</p>\n</div>"
     },
     "metadata": {},
     "execution_count": 4
    }
   ],
   "source": [
    "output.groupby(['covariance','beta1','beta2','p','exp_of_var']).mean().reset_index()"
   ]
  },
  {
   "cell_type": "code",
   "execution_count": 5,
   "metadata": {},
   "outputs": [
    {
     "output_type": "execute_result",
     "data": {
      "text/plain": [
       "    covariance  beta1  beta2  p exp_of_var  mismeasured_coef  \\\n",
       "0         -0.9    1.0    1.0  5         no          0.016439   \n",
       "1         -0.9    1.0    1.0  5        yes          0.013570   \n",
       "2         -0.5    1.0    1.0  5         no          0.021707   \n",
       "3         -0.5    1.0    1.0  5        yes          0.010554   \n",
       "4          0.0    1.0    1.0  5         no          0.000094   \n",
       "..         ...    ...    ... ..        ...               ...   \n",
       "17         0.5    1.0   10.0  5        yes          0.117534   \n",
       "18         0.5   10.0    1.0  5         no          0.023988   \n",
       "19         0.5   10.0    1.0  5        yes          0.010170   \n",
       "20         0.9    1.0    1.0  5         no          0.066744   \n",
       "21         0.9    1.0    1.0  5        yes          0.031431   \n",
       "\n",
       "    mismeasured_allvar_coef  mismeasured_avg_coef  pca_coef  true_val_coef  \\\n",
       "0                  0.041968              0.039979  0.039979       0.047932   \n",
       "1                  0.017160              0.035227  0.041469       0.039633   \n",
       "2                  0.003510              0.003885  0.004036       0.012563   \n",
       "3                  0.016204              0.021724  0.024413       0.004051   \n",
       "4                  0.003012              0.004599  0.004694       0.004233   \n",
       "..                      ...                   ...       ...            ...   \n",
       "17                 0.165531              0.237109  0.356652       0.044486   \n",
       "18                 0.047549              0.047415  0.047517       0.047099   \n",
       "19                 0.008460              0.025501  0.008588       0.007792   \n",
       "20                 0.048352              0.048160  0.049338       0.005570   \n",
       "21                 0.021546              0.010074  0.011792       0.009994   \n",
       "\n",
       "     iv_coef   pca_ape  mismeasured_coef_ape  mismeasured_allvar_coef_ape  \\\n",
       "0   0.060905  0.039979              0.016439                     0.041968   \n",
       "1   0.026073  0.041469              0.013570                     0.017160   \n",
       "2   0.003923  0.004036              0.021707                     0.003510   \n",
       "3   0.027991  0.024413              0.010554                     0.016204   \n",
       "4   0.012182  0.004694              0.000094                     0.003012   \n",
       "..       ...       ...                   ...                          ...   \n",
       "17  0.271046  0.356652              0.117534                     0.165531   \n",
       "18  0.050792  0.004752              0.002399                     0.004755   \n",
       "19  0.010326  0.000859              0.001017                     0.000846   \n",
       "20  0.035276  0.049338              0.066744                     0.048352   \n",
       "21  0.007988  0.011792              0.031431                     0.021546   \n",
       "\n",
       "    mismeasured_avg_coef_ape  iv_coef_ape  \n",
       "0                   0.039979     0.060905  \n",
       "1                   0.035227     0.026073  \n",
       "2                   0.003885     0.003923  \n",
       "3                   0.021724     0.027991  \n",
       "4                   0.004599     0.012182  \n",
       "..                       ...          ...  \n",
       "17                  0.237109     0.271046  \n",
       "18                  0.004742     0.005079  \n",
       "19                  0.002550     0.001033  \n",
       "20                  0.048160     0.035276  \n",
       "21                  0.010074     0.007988  \n",
       "\n",
       "[22 rows x 16 columns]"
      ],
      "text/html": "<div>\n<style scoped>\n    .dataframe tbody tr th:only-of-type {\n        vertical-align: middle;\n    }\n\n    .dataframe tbody tr th {\n        vertical-align: top;\n    }\n\n    .dataframe thead th {\n        text-align: right;\n    }\n</style>\n<table border=\"1\" class=\"dataframe\">\n  <thead>\n    <tr style=\"text-align: right;\">\n      <th></th>\n      <th>covariance</th>\n      <th>beta1</th>\n      <th>beta2</th>\n      <th>p</th>\n      <th>exp_of_var</th>\n      <th>mismeasured_coef</th>\n      <th>mismeasured_allvar_coef</th>\n      <th>mismeasured_avg_coef</th>\n      <th>pca_coef</th>\n      <th>true_val_coef</th>\n      <th>iv_coef</th>\n      <th>pca_ape</th>\n      <th>mismeasured_coef_ape</th>\n      <th>mismeasured_allvar_coef_ape</th>\n      <th>mismeasured_avg_coef_ape</th>\n      <th>iv_coef_ape</th>\n    </tr>\n  </thead>\n  <tbody>\n    <tr>\n      <th>0</th>\n      <td>-0.9</td>\n      <td>1.0</td>\n      <td>1.0</td>\n      <td>5</td>\n      <td>no</td>\n      <td>0.016439</td>\n      <td>0.041968</td>\n      <td>0.039979</td>\n      <td>0.039979</td>\n      <td>0.047932</td>\n      <td>0.060905</td>\n      <td>0.039979</td>\n      <td>0.016439</td>\n      <td>0.041968</td>\n      <td>0.039979</td>\n      <td>0.060905</td>\n    </tr>\n    <tr>\n      <th>1</th>\n      <td>-0.9</td>\n      <td>1.0</td>\n      <td>1.0</td>\n      <td>5</td>\n      <td>yes</td>\n      <td>0.013570</td>\n      <td>0.017160</td>\n      <td>0.035227</td>\n      <td>0.041469</td>\n      <td>0.039633</td>\n      <td>0.026073</td>\n      <td>0.041469</td>\n      <td>0.013570</td>\n      <td>0.017160</td>\n      <td>0.035227</td>\n      <td>0.026073</td>\n    </tr>\n    <tr>\n      <th>2</th>\n      <td>-0.5</td>\n      <td>1.0</td>\n      <td>1.0</td>\n      <td>5</td>\n      <td>no</td>\n      <td>0.021707</td>\n      <td>0.003510</td>\n      <td>0.003885</td>\n      <td>0.004036</td>\n      <td>0.012563</td>\n      <td>0.003923</td>\n      <td>0.004036</td>\n      <td>0.021707</td>\n      <td>0.003510</td>\n      <td>0.003885</td>\n      <td>0.003923</td>\n    </tr>\n    <tr>\n      <th>3</th>\n      <td>-0.5</td>\n      <td>1.0</td>\n      <td>1.0</td>\n      <td>5</td>\n      <td>yes</td>\n      <td>0.010554</td>\n      <td>0.016204</td>\n      <td>0.021724</td>\n      <td>0.024413</td>\n      <td>0.004051</td>\n      <td>0.027991</td>\n      <td>0.024413</td>\n      <td>0.010554</td>\n      <td>0.016204</td>\n      <td>0.021724</td>\n      <td>0.027991</td>\n    </tr>\n    <tr>\n      <th>4</th>\n      <td>0.0</td>\n      <td>1.0</td>\n      <td>1.0</td>\n      <td>5</td>\n      <td>no</td>\n      <td>0.000094</td>\n      <td>0.003012</td>\n      <td>0.004599</td>\n      <td>0.004694</td>\n      <td>0.004233</td>\n      <td>0.012182</td>\n      <td>0.004694</td>\n      <td>0.000094</td>\n      <td>0.003012</td>\n      <td>0.004599</td>\n      <td>0.012182</td>\n    </tr>\n    <tr>\n      <th>...</th>\n      <td>...</td>\n      <td>...</td>\n      <td>...</td>\n      <td>...</td>\n      <td>...</td>\n      <td>...</td>\n      <td>...</td>\n      <td>...</td>\n      <td>...</td>\n      <td>...</td>\n      <td>...</td>\n      <td>...</td>\n      <td>...</td>\n      <td>...</td>\n      <td>...</td>\n      <td>...</td>\n    </tr>\n    <tr>\n      <th>17</th>\n      <td>0.5</td>\n      <td>1.0</td>\n      <td>10.0</td>\n      <td>5</td>\n      <td>yes</td>\n      <td>0.117534</td>\n      <td>0.165531</td>\n      <td>0.237109</td>\n      <td>0.356652</td>\n      <td>0.044486</td>\n      <td>0.271046</td>\n      <td>0.356652</td>\n      <td>0.117534</td>\n      <td>0.165531</td>\n      <td>0.237109</td>\n      <td>0.271046</td>\n    </tr>\n    <tr>\n      <th>18</th>\n      <td>0.5</td>\n      <td>10.0</td>\n      <td>1.0</td>\n      <td>5</td>\n      <td>no</td>\n      <td>0.023988</td>\n      <td>0.047549</td>\n      <td>0.047415</td>\n      <td>0.047517</td>\n      <td>0.047099</td>\n      <td>0.050792</td>\n      <td>0.004752</td>\n      <td>0.002399</td>\n      <td>0.004755</td>\n      <td>0.004742</td>\n      <td>0.005079</td>\n    </tr>\n    <tr>\n      <th>19</th>\n      <td>0.5</td>\n      <td>10.0</td>\n      <td>1.0</td>\n      <td>5</td>\n      <td>yes</td>\n      <td>0.010170</td>\n      <td>0.008460</td>\n      <td>0.025501</td>\n      <td>0.008588</td>\n      <td>0.007792</td>\n      <td>0.010326</td>\n      <td>0.000859</td>\n      <td>0.001017</td>\n      <td>0.000846</td>\n      <td>0.002550</td>\n      <td>0.001033</td>\n    </tr>\n    <tr>\n      <th>20</th>\n      <td>0.9</td>\n      <td>1.0</td>\n      <td>1.0</td>\n      <td>5</td>\n      <td>no</td>\n      <td>0.066744</td>\n      <td>0.048352</td>\n      <td>0.048160</td>\n      <td>0.049338</td>\n      <td>0.005570</td>\n      <td>0.035276</td>\n      <td>0.049338</td>\n      <td>0.066744</td>\n      <td>0.048352</td>\n      <td>0.048160</td>\n      <td>0.035276</td>\n    </tr>\n    <tr>\n      <th>21</th>\n      <td>0.9</td>\n      <td>1.0</td>\n      <td>1.0</td>\n      <td>5</td>\n      <td>yes</td>\n      <td>0.031431</td>\n      <td>0.021546</td>\n      <td>0.010074</td>\n      <td>0.011792</td>\n      <td>0.009994</td>\n      <td>0.007988</td>\n      <td>0.011792</td>\n      <td>0.031431</td>\n      <td>0.021546</td>\n      <td>0.010074</td>\n      <td>0.007988</td>\n    </tr>\n  </tbody>\n</table>\n<p>22 rows × 16 columns</p>\n</div>"
     },
     "metadata": {},
     "execution_count": 5
    }
   ],
   "source": [
    "output.groupby(['covariance','beta1','beta2','p','exp_of_var']).std().reset_index()"
   ]
  },
  {
   "source": [
    "Code to produce LaTeX tables:"
   ],
   "cell_type": "markdown",
   "metadata": {}
  },
  {
   "cell_type": "code",
   "execution_count": 6,
   "metadata": {},
   "outputs": [],
   "source": [
    "# Helper functions for formatting latex output\n",
    "def std_parenth_padder(type_col, col_to_pad):\n",
    "    if type_col == 'std':\n",
    "        return('(' + col_to_pad + ')')\n",
    "    else:\n",
    "        return(col_to_pad)\n",
    "\n",
    "def format_level_0(type_col, col_to_format):\n",
    "    if type_col == 'std':\n",
    "        return('')\n",
    "    else:\n",
    "        return(col_to_format)"
   ]
  },
  {
   "cell_type": "code",
   "execution_count": 7,
   "metadata": {},
   "outputs": [],
   "source": [
    "# Pass this function a pandas dataframe of which to create the LaTeX file\n",
    "# dataframe is the df\n",
    "# filename is the save location\n",
    "# index tells if you want the index saved to the file or not\n",
    "def Minimal_Latex(dataframe, filename, index = False):\n",
    "\n",
    "    # Open file\n",
    "    with open(filename, \"w\") as f:\n",
    "        \n",
    "        # Start from the pandas\n",
    "        corrected_table = dataframe.to_latex(header = False, index = index)\n",
    "\n",
    "        # Strip all material that pandas inserts- the tabular environment and toprule and bottomrule\n",
    "        corrected_table = re.sub(r'\\\\begin.+', '', corrected_table)\n",
    "        corrected_table = re.sub(r'\\\\toprule', '', corrected_table)\n",
    "        corrected_table = re.sub(r'\\\\bottomrule', '', corrected_table)\n",
    "        corrected_table = re.sub(r'\\\\end.+', '', corrected_table)\n",
    "\n",
    "        # Write to file and skip blank lines\n",
    "        f.write(corrected_table.strip())"
   ]
  },
  {
   "cell_type": "code",
   "execution_count": 8,
   "metadata": {},
   "outputs": [],
   "source": [
    "coef_names_mapper = {'mismeasured_coef':'Single Measurement', 'mismeasured_allvar_coef':'All Measurements', 'pca_coef':'PCA', 'mismeasured_avg_coef':'Average of Measurements', 'iv_coef':'Instrumental Variable'}\n",
    "ape_names_mapper = {'mismeasured_coef_ape':'Single Measurement', 'mismeasured_allvar_coef_ape':'All Measurements', 'pca_ape':'PCA', 'mismeasured_avg_coef_ape':'Average of Measurements', 'iv_coef_ape':'Instrumental Variable'}"
   ]
  },
  {
   "cell_type": "code",
   "execution_count": 15,
   "metadata": {},
   "outputs": [],
   "source": [
    "all_params = ['beta1', 'beta2', 'covariance', 'p']\n",
    "pd.set_option('display.max_rows', 25)\n",
    "\n",
    "def make_param_tables(dataframe, parameter, exp):\n",
    "\n",
    "    if parameter != 'beta1':\n",
    "        dataframe = dataframe.loc[(dataframe['beta1']==1)]\n",
    "    if parameter != 'beta2':\n",
    "        dataframe = dataframe.loc[(dataframe['beta2']==1)]\n",
    "    if parameter != 'covariance':\n",
    "        dataframe = dataframe.loc[(dataframe['covariance']==0.5)]\n",
    "    if parameter != 'p':\n",
    "        dataframe = dataframe.loc[(dataframe['p']==5)]\n",
    "    dataframe = dataframe.loc[(dataframe['exp_of_var']==exp)]\n",
    "\n",
    "    exp_mapper = {'yes':'exp', 'no':'no_exp'}\n",
    "\n",
    "    dataframe = (dataframe.drop(columns = [variable for variable in all_params if variable != parameter])\n",
    "                          .groupby(parameter)\n",
    "                          .agg(['mean', 'std'])\n",
    "                          .transpose()\n",
    "                          .reset_index())\n",
    "\n",
    "    custom_sort_order = ['pca_coef', 'mismeasured_coef', 'mismeasured_allvar_coef', 'mismeasured_avg_coef', 'iv_coef', 'pca_ape', 'mismeasured_coef_ape', 'mismeasured_allvar_coef_ape', 'mismeasured_avg_coef_ape', 'iv_coef_ape']\n",
    "    # Sorted series\n",
    "    sorted_series = pd.Series(custom_sort_order, name = 'level_0').to_frame()\n",
    "    # Use left merge on to return a sorted df\n",
    "    dataframe = (pd.merge(sorted_series, dataframe, on = 'level_0', how = 'left'))\n",
    "\n",
    "    print(dataframe)\n",
    "\n",
    "    dataframe.columns = dataframe.columns.map(str)\n",
    "\n",
    "    dataframe_coefs = (dataframe.query('level_0.str.contains(\"coef\")')\n",
    "                                .query('level_0 != \"true_val_coef\"')\n",
    "                                .query('not level_0.str.contains(\"ape\")')\n",
    "                                .round(3)\n",
    "                                .astype(str))\n",
    "\n",
    "    for variable in dataframe_coefs.columns:\n",
    "        if variable != 'level_0' and variable != 'level_1':\n",
    "            dataframe_coefs[variable] = dataframe_coefs.apply(lambda x: std_parenth_padder(x['level_1'], x[variable]), axis = 1)\n",
    "\n",
    "    dataframe_coefs['level_0'] = dataframe_coefs.apply(lambda x: format_level_0(x.level_1, x.level_0), axis = 1)\n",
    "\n",
    "    dataframe_coefs = (dataframe_coefs.drop(columns = 'level_1')\n",
    "                                    .replace(coef_names_mapper))\n",
    "\n",
    "    Minimal_Latex(dataframe_coefs, tables_dir + '/' + parameter + '_coefs_' + exp_mapper[exp] + '.tex')\n",
    "\n",
    "    dataframe_apes = (dataframe.query('level_0.str.contains(\"ape\")')\n",
    "                           .query('level_1 != \"std\"')\n",
    "                           .drop(columns = 'level_1')\n",
    "                           .replace(ape_names_mapper)\n",
    "                           .set_index('level_0')\n",
    "                           .multiply(100)\n",
    "                           .round(1)\n",
    "                           .astype(str)\n",
    "                           .add('%')\n",
    "                           .reset_index())\n",
    "\n",
    "    Minimal_Latex(dataframe_apes, tables_dir + '/' + parameter + '_apes_' + exp_mapper[exp] + '.tex')"
   ]
  },
  {
   "cell_type": "code",
   "execution_count": 16,
   "metadata": {},
   "outputs": [
    {
     "output_type": "stream",
     "name": "stdout",
     "text": [
      "                        level_0 level_1         5        20        50\n0                      pca_coef    mean  1.219254  1.072315  1.070803\n1                      pca_coef     std  0.018575  0.001048  0.050646\n2              mismeasured_coef    mean  1.304818  1.293894  1.300616\n3              mismeasured_coef     std  0.018599  0.024976  0.034458\n4       mismeasured_allvar_coef    mean  1.199485  1.042214  1.037500\n5       mismeasured_allvar_coef     std  0.014301  0.015179  0.050136\n6          mismeasured_avg_coef    mean  1.384074  1.311454  1.301181\n7          mismeasured_avg_coef     std  0.025432  0.015345  0.048022\n8                       iv_coef    mean  1.251276  1.051129  1.056732\n9                       iv_coef     std  0.009356  0.012565  0.046140\n10                      pca_ape    mean  0.219254  0.072315  0.070803\n11                      pca_ape     std  0.018575  0.001048  0.050646\n12         mismeasured_coef_ape    mean  0.304818  0.293894  0.300616\n13         mismeasured_coef_ape     std  0.018599  0.024976  0.034458\n14  mismeasured_allvar_coef_ape    mean  0.199485  0.042214  0.037500\n15  mismeasured_allvar_coef_ape     std  0.014301  0.015179  0.050136\n16     mismeasured_avg_coef_ape    mean  0.384074  0.311454  0.301181\n17     mismeasured_avg_coef_ape     std  0.025432  0.015345  0.048022\n18                  iv_coef_ape    mean  0.251276  0.051129  0.056732\n19                  iv_coef_ape     std  0.009356  0.012565  0.046140\n"
     ]
    }
   ],
   "source": [
    "make_param_tables(output, 'p', 'yes')"
   ]
  },
  {
   "cell_type": "code",
   "execution_count": 17,
   "metadata": {},
   "outputs": [
    {
     "output_type": "stream",
     "name": "stdout",
     "text": [
      "                        level_0 level_1         5        20        50\n0                      pca_coef    mean  1.095827  1.052295  1.031454\n1                      pca_coef     std  0.007616  0.025948  0.016926\n2              mismeasured_coef    mean  1.283782  1.307299  1.292297\n3              mismeasured_coef     std  0.020089  0.021994  0.020919\n4       mismeasured_allvar_coef    mean  1.095431  1.053843  1.032973\n5       mismeasured_allvar_coef     std  0.005443  0.024190  0.015546\n6          mismeasured_avg_coef    mean  1.094623  1.051592  1.030931\n7          mismeasured_avg_coef     std  0.005809  0.027160  0.017029\n8                       iv_coef    mean  1.113225  1.057822  1.043356\n9                       iv_coef     std  0.009591  0.031210  0.012600\n10                      pca_ape    mean  0.095827  0.052295  0.031454\n11                      pca_ape     std  0.007616  0.025948  0.016926\n12         mismeasured_coef_ape    mean  0.283782  0.307299  0.292297\n13         mismeasured_coef_ape     std  0.020089  0.021994  0.020919\n14  mismeasured_allvar_coef_ape    mean  0.095431  0.053843  0.032973\n15  mismeasured_allvar_coef_ape     std  0.005443  0.024190  0.015546\n16     mismeasured_avg_coef_ape    mean  0.094623  0.051592  0.030931\n17     mismeasured_avg_coef_ape     std  0.005809  0.027160  0.017029\n18                  iv_coef_ape    mean  0.113225  0.057822  0.043356\n19                  iv_coef_ape     std  0.009591  0.031210  0.012600\n"
     ]
    }
   ],
   "source": [
    "make_param_tables(output, 'p', 'no')"
   ]
  },
  {
   "cell_type": "code",
   "execution_count": 18,
   "metadata": {},
   "outputs": [
    {
     "output_type": "stream",
     "name": "stdout",
     "text": [
      "                        level_0 level_1      -0.9      -0.5       0.0  \\\n0                      pca_coef    mean  0.317234  0.773750  0.996676   \n1                      pca_coef     std  0.041469  0.024413  0.020028   \n2              mismeasured_coef    mean  0.240953  0.688289  1.010109   \n3              mismeasured_coef     std  0.013570  0.010554  0.029335   \n4       mismeasured_allvar_coef    mean  0.381684  0.787294  1.007035   \n5       mismeasured_allvar_coef     std  0.017160  0.016204  0.016613   \n6          mismeasured_avg_coef    mean  0.154333  0.623916  0.997804   \n7          mismeasured_avg_coef     std  0.035227  0.021724  0.031771   \n8                       iv_coef    mean  0.299647  0.745506  0.995683   \n9                       iv_coef     std  0.026073  0.027991  0.011766   \n10                      pca_ape    mean  0.682766  0.226250  0.014162   \n11                      pca_ape     std  0.041469  0.024413  0.004701   \n12         mismeasured_coef_ape    mean  0.759047  0.311711  0.020743   \n13         mismeasured_coef_ape     std  0.013570  0.010554  0.014297   \n14  mismeasured_allvar_coef_ape    mean  0.618316  0.212706  0.011747   \n15  mismeasured_allvar_coef_ape     std  0.017160  0.016204  0.009949   \n16     mismeasured_avg_coef_ape    mean  0.845667  0.376084  0.022465   \n17     mismeasured_avg_coef_ape     std  0.035227  0.021724  0.003105   \n18                  iv_coef_ape    mean  0.700353  0.254494  0.008320   \n19                  iv_coef_ape     std  0.026073  0.027991  0.006104   \n\n         0.5       0.9  \n0   1.219254  1.619115  \n1   0.018575  0.011792  \n2   1.304818  1.731175  \n3   0.018599  0.031431  \n4   1.199485  1.587780  \n5   0.014301  0.021546  \n6   1.384074  1.812600  \n7   0.025432  0.010074  \n8   1.251276  1.657197  \n9   0.009356  0.007988  \n10  0.219254  0.619115  \n11  0.018575  0.011792  \n12  0.304818  0.731175  \n13  0.018599  0.031431  \n14  0.199485  0.587780  \n15  0.014301  0.021546  \n16  0.384074  0.812600  \n17  0.025432  0.010074  \n18  0.251276  0.657197  \n19  0.009356  0.007988  \n"
     ]
    }
   ],
   "source": [
    "make_param_tables(output, 'covariance', 'yes')"
   ]
  },
  {
   "cell_type": "code",
   "execution_count": 19,
   "metadata": {},
   "outputs": [
    {
     "output_type": "stream",
     "name": "stdout",
     "text": [
      "                        level_0 level_1      -0.9      -0.5       0.0  \\\n0                      pca_coef    mean  0.502710  0.889899  1.016931   \n1                      pca_coef     std  0.039979  0.004036  0.004694   \n2              mismeasured_coef    mean  0.222996  0.704848  1.026584   \n3              mismeasured_coef     std  0.016439  0.021707  0.000094   \n4       mismeasured_allvar_coef    mean  0.502274  0.888955  1.017426   \n5       mismeasured_allvar_coef     std  0.041968  0.003510  0.003012   \n6          mismeasured_avg_coef    mean  0.502976  0.889908  1.016822   \n7          mismeasured_avg_coef     std  0.039979  0.003885  0.004599   \n8                       iv_coef    mean  0.456290  0.868487  1.014559   \n9                       iv_coef     std  0.060905  0.003923  0.012182   \n10                      pca_ape    mean  0.497290  0.110101  0.016931   \n11                      pca_ape     std  0.039979  0.004036  0.004694   \n12         mismeasured_coef_ape    mean  0.777004  0.295152  0.026584   \n13         mismeasured_coef_ape     std  0.016439  0.021707  0.000094   \n14  mismeasured_allvar_coef_ape    mean  0.497726  0.111045  0.017426   \n15  mismeasured_allvar_coef_ape     std  0.041968  0.003510  0.003012   \n16     mismeasured_avg_coef_ape    mean  0.497024  0.110092  0.016822   \n17     mismeasured_avg_coef_ape     std  0.039979  0.003885  0.004599   \n18                  iv_coef_ape    mean  0.543710  0.131513  0.014559   \n19                  iv_coef_ape     std  0.060905  0.003923  0.012182   \n\n         0.5       0.9  \n0   1.095827  1.434020  \n1   0.007616  0.049338  \n2   1.283782  1.722288  \n3   0.020089  0.066744  \n4   1.095431  1.433541  \n5   0.005443  0.048352  \n6   1.094623  1.432780  \n7   0.005809  0.048160  \n8   1.113225  1.498038  \n9   0.009591  0.035276  \n10  0.095827  0.434020  \n11  0.007616  0.049338  \n12  0.283782  0.722288  \n13  0.020089  0.066744  \n14  0.095431  0.433541  \n15  0.005443  0.048352  \n16  0.094623  0.432780  \n17  0.005809  0.048160  \n18  0.113225  0.498038  \n19  0.009591  0.035276  \n"
     ]
    }
   ],
   "source": [
    "make_param_tables(output, 'covariance', 'no')"
   ]
  },
  {
   "cell_type": "code",
   "execution_count": 20,
   "metadata": {},
   "outputs": [
    {
     "output_type": "stream",
     "name": "stdout",
     "text": [
      "                        level_0 level_1       0.1       1.0       10.0\n0                      pca_coef    mean  0.315518  1.219254  10.240334\n1                      pca_coef     std  0.020200  0.018575   0.008588\n2              mismeasured_coef    mean  0.387305  1.304818  10.311584\n3              mismeasured_coef     std  0.016600  0.018599   0.010170\n4       mismeasured_allvar_coef    mean  0.281743  1.199485  10.213327\n5       mismeasured_allvar_coef     std  0.006199  0.014301   0.008460\n6          mismeasured_avg_coef    mean  0.465930  1.384074  10.410618\n7          mismeasured_avg_coef     std  0.012918  0.025432   0.025501\n8                       iv_coef    mean  0.335861  1.251276  10.274642\n9                       iv_coef     std  0.010300  0.009356   0.010326\n10                      pca_ape    mean  2.155178  0.219254   0.024033\n11                      pca_ape     std  0.201997  0.018575   0.000859\n12         mismeasured_coef_ape    mean  2.873047  0.304818   0.031158\n13         mismeasured_coef_ape     std  0.166004  0.018599   0.001017\n14  mismeasured_allvar_coef_ape    mean  1.817428  0.199485   0.021333\n15  mismeasured_allvar_coef_ape     std  0.061988  0.014301   0.000846\n16     mismeasured_avg_coef_ape    mean  3.659304  0.384074   0.041062\n17     mismeasured_avg_coef_ape     std  0.129177  0.025432   0.002550\n18                  iv_coef_ape    mean  2.358606  0.251276   0.027464\n19                  iv_coef_ape     std  0.103000  0.009356   0.001033\n"
     ]
    }
   ],
   "source": [
    "make_param_tables(output, 'beta1', 'yes')"
   ]
  },
  {
   "cell_type": "code",
   "execution_count": 21,
   "metadata": {},
   "outputs": [
    {
     "output_type": "stream",
     "name": "stdout",
     "text": [
      "                        level_0 level_1       0.1       1.0       10.0\n0                      pca_coef    mean  0.191213  1.095827  10.133068\n1                      pca_coef     std  0.005118  0.007616   0.047517\n2              mismeasured_coef    mean  0.380430  1.283782  10.300547\n3              mismeasured_coef     std  0.019515  0.020089   0.023988\n4       mismeasured_allvar_coef    mean  0.191032  1.095431  10.132153\n5       mismeasured_allvar_coef     std  0.003863  0.005443   0.047549\n6          mismeasured_avg_coef    mean  0.190580  1.094623  10.132051\n7          mismeasured_avg_coef     std  0.005945  0.005809   0.047415\n8                       iv_coef    mean  0.209732  1.113225  10.156297\n9                       iv_coef     std  0.012762  0.009591   0.050792\n10                      pca_ape    mean  0.912134  0.095827   0.013307\n11                      pca_ape     std  0.051184  0.007616   0.004752\n12         mismeasured_coef_ape    mean  2.804302  0.283782   0.030055\n13         mismeasured_coef_ape     std  0.195145  0.020089   0.002399\n14  mismeasured_allvar_coef_ape    mean  0.910320  0.095431   0.013215\n15  mismeasured_allvar_coef_ape     std  0.038626  0.005443   0.004755\n16     mismeasured_avg_coef_ape    mean  0.905804  0.094623   0.013205\n17     mismeasured_avg_coef_ape     std  0.059453  0.005809   0.004742\n18                  iv_coef_ape    mean  1.097322  0.113225   0.015630\n19                  iv_coef_ape     std  0.127621  0.009591   0.005079\n"
     ]
    }
   ],
   "source": [
    "make_param_tables(output, 'beta1', 'no')"
   ]
  },
  {
   "cell_type": "code",
   "execution_count": 22,
   "metadata": {},
   "outputs": [
    {
     "output_type": "stream",
     "name": "stdout",
     "text": [
      "                        level_0 level_1       0.1       1.0      10.0\n0                      pca_coef    mean  1.024085  1.219254  3.261862\n1                      pca_coef     std  0.009015  0.018575  0.356652\n2              mismeasured_coef    mean  1.034228  1.304818  4.042376\n3              mismeasured_coef     std  0.016310  0.018599  0.117534\n4       mismeasured_allvar_coef    mean  1.023676  1.199485  3.044577\n5       mismeasured_allvar_coef     std  0.007979  0.014301  0.165531\n6          mismeasured_avg_coef    mean  1.038485  1.384074  4.937272\n7          mismeasured_avg_coef     std  0.002995  0.025432  0.237109\n8                       iv_coef    mean  1.024096  1.251276  3.559375\n9                       iv_coef     std  0.005365  0.009356  0.271046\n10                      pca_ape    mean  0.024085  0.219254  2.261862\n11                      pca_ape     std  0.009015  0.018575  0.356652\n12         mismeasured_coef_ape    mean  0.034228  0.304818  3.042376\n13         mismeasured_coef_ape     std  0.016310  0.018599  0.117534\n14  mismeasured_allvar_coef_ape    mean  0.023676  0.199485  2.044577\n15  mismeasured_allvar_coef_ape     std  0.007979  0.014301  0.165531\n16     mismeasured_avg_coef_ape    mean  0.038485  0.384074  3.937272\n17     mismeasured_avg_coef_ape     std  0.002995  0.025432  0.237109\n18                  iv_coef_ape    mean  0.024096  0.251276  2.559375\n19                  iv_coef_ape     std  0.005365  0.009356  0.271046\n"
     ]
    }
   ],
   "source": [
    "make_param_tables(output, 'beta2', 'yes')"
   ]
  },
  {
   "cell_type": "code",
   "execution_count": 23,
   "metadata": {},
   "outputs": [
    {
     "output_type": "stream",
     "name": "stdout",
     "text": [
      "                        level_0 level_1       0.1       1.0      10.0\n0                      pca_coef    mean  1.027326  1.095827  2.146168\n1                      pca_coef     std  0.009594  0.007616  0.016466\n2              mismeasured_coef    mean  1.039640  1.283782  3.841934\n3              mismeasured_coef     std  0.019253  0.020089  0.121188\n4       mismeasured_allvar_coef    mean  1.027920  1.095431  2.140967\n5       mismeasured_allvar_coef     std  0.009790  0.005443  0.020231\n6          mismeasured_avg_coef    mean  1.026798  1.094623  2.143712\n7          mismeasured_avg_coef     std  0.009160  0.005809  0.015839\n8                       iv_coef    mean  1.029599  1.113225  2.344797\n9                       iv_coef     std  0.011325  0.009591  0.023136\n10                      pca_ape    mean  0.027326  0.095827  1.146168\n11                      pca_ape     std  0.009594  0.007616  0.016466\n12         mismeasured_coef_ape    mean  0.039640  0.283782  2.841934\n13         mismeasured_coef_ape     std  0.019253  0.020089  0.121188\n14  mismeasured_allvar_coef_ape    mean  0.027920  0.095431  1.140967\n15  mismeasured_allvar_coef_ape     std  0.009790  0.005443  0.020231\n16     mismeasured_avg_coef_ape    mean  0.026798  0.094623  1.143712\n17     mismeasured_avg_coef_ape     std  0.009160  0.005809  0.015839\n18                  iv_coef_ape    mean  0.029599  0.113225  1.344797\n19                  iv_coef_ape     std  0.011325  0.009591  0.023136\n"
     ]
    }
   ],
   "source": [
    "make_param_tables(output, 'beta2', 'no')"
   ]
  }
 ]
}