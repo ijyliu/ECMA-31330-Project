{
 "cells": [
  {
   "cell_type": "code",
   "execution_count": 8,
   "metadata": {},
   "outputs": [],
   "source": [
    "# Directory structure\n",
    "import os\n",
    "repo_dir = os.path.join(os.path.abspath(''), '../..')\n",
    "input_dir = repo_dir + \"/Input\"\n",
    "output_dir = repo_dir + \"/Output\"\n",
    "figures_dir = output_dir + \"/Figures\"\n",
    "tables_dir = output_dir + \"/Tables\"\n",
    "sim_results_dir = output_dir + \"/Sim_Results\"\n",
    "\n",
    "# Packages\n",
    "import pandas as pd\n",
    "import regex as re\n",
    "\n",
    "pd.set_option('display.max_rows', 10)"
   ]
  },
  {
   "cell_type": "code",
   "execution_count": 9,
   "metadata": {},
   "outputs": [
    {
     "output_type": "execute_result",
     "data": {
      "text/plain": [
       "       mismeasured_coef  mismeasured_allvar_coef  mismeasured_avg_coef  \\\n",
       "0              0.340195                 0.170135              0.169352   \n",
       "1              0.369468                 0.186015              0.186038   \n",
       "2              0.450863                 0.255705              0.254875   \n",
       "3              0.392761                 0.183848              0.184655   \n",
       "4              0.411074                 0.215404              0.215262   \n",
       "...                 ...                      ...                   ...   \n",
       "21995          1.029050                 1.024701              1.025359   \n",
       "21996          1.029590                 1.027762              1.029285   \n",
       "21997          0.990731                 0.992307              0.991478   \n",
       "21998          1.004341                 1.007218              1.007231   \n",
       "21999          1.017583                 1.016400              1.016925   \n",
       "\n",
       "       pca_coef  true_val_coef   iv_coef  covariance  beta1  beta2  p  me_cov  \n",
       "0      0.169390       0.080929  0.060937         0.5    0.1    1.0  5     0.0  \n",
       "1      0.186082       0.086082  0.057295         0.5    0.1    1.0  5     0.0  \n",
       "2      0.254605       0.138210  0.173219         0.5    0.1    1.0  5     0.0  \n",
       "3      0.184518       0.096871  0.129466         0.5    0.1    1.0  5     0.0  \n",
       "4      0.215215       0.106148  0.118077         0.5    0.1    1.0  5     0.0  \n",
       "...         ...            ...       ...         ...    ...    ... ..     ...  \n",
       "21995  1.025372       1.035049  1.025540         0.0    1.0    1.0  5     0.5  \n",
       "21996  1.029255       1.027755  1.032704         0.0    1.0    1.0  5     0.5  \n",
       "21997  0.991504       0.992588  1.012324         0.0    1.0    1.0  5     0.5  \n",
       "21998  1.007217       1.004520  0.985708         0.0    1.0    1.0  5     0.5  \n",
       "21999  1.016875       1.004122  1.015369         0.0    1.0    1.0  5     0.5  \n",
       "\n",
       "[22000 rows x 11 columns]"
      ],
      "text/html": "<div>\n<style scoped>\n    .dataframe tbody tr th:only-of-type {\n        vertical-align: middle;\n    }\n\n    .dataframe tbody tr th {\n        vertical-align: top;\n    }\n\n    .dataframe thead th {\n        text-align: right;\n    }\n</style>\n<table border=\"1\" class=\"dataframe\">\n  <thead>\n    <tr style=\"text-align: right;\">\n      <th></th>\n      <th>mismeasured_coef</th>\n      <th>mismeasured_allvar_coef</th>\n      <th>mismeasured_avg_coef</th>\n      <th>pca_coef</th>\n      <th>true_val_coef</th>\n      <th>iv_coef</th>\n      <th>covariance</th>\n      <th>beta1</th>\n      <th>beta2</th>\n      <th>p</th>\n      <th>me_cov</th>\n    </tr>\n  </thead>\n  <tbody>\n    <tr>\n      <th>0</th>\n      <td>0.340195</td>\n      <td>0.170135</td>\n      <td>0.169352</td>\n      <td>0.169390</td>\n      <td>0.080929</td>\n      <td>0.060937</td>\n      <td>0.5</td>\n      <td>0.1</td>\n      <td>1.0</td>\n      <td>5</td>\n      <td>0.0</td>\n    </tr>\n    <tr>\n      <th>1</th>\n      <td>0.369468</td>\n      <td>0.186015</td>\n      <td>0.186038</td>\n      <td>0.186082</td>\n      <td>0.086082</td>\n      <td>0.057295</td>\n      <td>0.5</td>\n      <td>0.1</td>\n      <td>1.0</td>\n      <td>5</td>\n      <td>0.0</td>\n    </tr>\n    <tr>\n      <th>2</th>\n      <td>0.450863</td>\n      <td>0.255705</td>\n      <td>0.254875</td>\n      <td>0.254605</td>\n      <td>0.138210</td>\n      <td>0.173219</td>\n      <td>0.5</td>\n      <td>0.1</td>\n      <td>1.0</td>\n      <td>5</td>\n      <td>0.0</td>\n    </tr>\n    <tr>\n      <th>3</th>\n      <td>0.392761</td>\n      <td>0.183848</td>\n      <td>0.184655</td>\n      <td>0.184518</td>\n      <td>0.096871</td>\n      <td>0.129466</td>\n      <td>0.5</td>\n      <td>0.1</td>\n      <td>1.0</td>\n      <td>5</td>\n      <td>0.0</td>\n    </tr>\n    <tr>\n      <th>4</th>\n      <td>0.411074</td>\n      <td>0.215404</td>\n      <td>0.215262</td>\n      <td>0.215215</td>\n      <td>0.106148</td>\n      <td>0.118077</td>\n      <td>0.5</td>\n      <td>0.1</td>\n      <td>1.0</td>\n      <td>5</td>\n      <td>0.0</td>\n    </tr>\n    <tr>\n      <th>...</th>\n      <td>...</td>\n      <td>...</td>\n      <td>...</td>\n      <td>...</td>\n      <td>...</td>\n      <td>...</td>\n      <td>...</td>\n      <td>...</td>\n      <td>...</td>\n      <td>...</td>\n      <td>...</td>\n    </tr>\n    <tr>\n      <th>21995</th>\n      <td>1.029050</td>\n      <td>1.024701</td>\n      <td>1.025359</td>\n      <td>1.025372</td>\n      <td>1.035049</td>\n      <td>1.025540</td>\n      <td>0.0</td>\n      <td>1.0</td>\n      <td>1.0</td>\n      <td>5</td>\n      <td>0.5</td>\n    </tr>\n    <tr>\n      <th>21996</th>\n      <td>1.029590</td>\n      <td>1.027762</td>\n      <td>1.029285</td>\n      <td>1.029255</td>\n      <td>1.027755</td>\n      <td>1.032704</td>\n      <td>0.0</td>\n      <td>1.0</td>\n      <td>1.0</td>\n      <td>5</td>\n      <td>0.5</td>\n    </tr>\n    <tr>\n      <th>21997</th>\n      <td>0.990731</td>\n      <td>0.992307</td>\n      <td>0.991478</td>\n      <td>0.991504</td>\n      <td>0.992588</td>\n      <td>1.012324</td>\n      <td>0.0</td>\n      <td>1.0</td>\n      <td>1.0</td>\n      <td>5</td>\n      <td>0.5</td>\n    </tr>\n    <tr>\n      <th>21998</th>\n      <td>1.004341</td>\n      <td>1.007218</td>\n      <td>1.007231</td>\n      <td>1.007217</td>\n      <td>1.004520</td>\n      <td>0.985708</td>\n      <td>0.0</td>\n      <td>1.0</td>\n      <td>1.0</td>\n      <td>5</td>\n      <td>0.5</td>\n    </tr>\n    <tr>\n      <th>21999</th>\n      <td>1.017583</td>\n      <td>1.016400</td>\n      <td>1.016925</td>\n      <td>1.016875</td>\n      <td>1.004122</td>\n      <td>1.015369</td>\n      <td>0.0</td>\n      <td>1.0</td>\n      <td>1.0</td>\n      <td>5</td>\n      <td>0.5</td>\n    </tr>\n  </tbody>\n</table>\n<p>22000 rows × 11 columns</p>\n</div>"
     },
     "metadata": {},
     "execution_count": 9
    }
   ],
   "source": [
    "N = 3000\n",
    "\n",
    "output = (pd.read_csv(sim_results_dir + '/parallel_n_' + str(N) + '_results.csv', index_col=0)\n",
    "            .reset_index())\n",
    "output"
   ]
  },
  {
   "cell_type": "code",
   "execution_count": 10,
   "metadata": {},
   "outputs": [],
   "source": [
    "output['pca_ape'] = (output['pca_coef'] - output['beta1']).abs()/output['beta1']\n",
    "output['mismeasured_coef_ape'] = (output['mismeasured_coef'] - output['beta1']).abs()/output['beta1']\n",
    "output['mismeasured_allvar_coef_ape'] = (output['mismeasured_allvar_coef'] - output['beta1']).abs()/output['beta1']\n",
    "output['mismeasured_avg_coef_ape'] = (output['mismeasured_avg_coef'] - output['beta1']).abs()/output['beta1']\n",
    "output['iv_coef_ape'] = (output['iv_coef'] - output['beta1']).abs()/output['beta1']"
   ]
  },
  {
   "cell_type": "code",
   "execution_count": 11,
   "metadata": {},
   "outputs": [
    {
     "output_type": "execute_result",
     "data": {
      "text/plain": [
       "    covariance  beta1  beta2  p  me_cov  mismeasured_coef  \\\n",
       "0         -0.9    1.0    1.0  5     0.0          0.244849   \n",
       "1         -0.9    1.0    1.0  5     0.5          0.243349   \n",
       "2         -0.5    1.0    1.0  5     0.0          0.713935   \n",
       "3         -0.5    1.0    1.0  5     0.5          0.714361   \n",
       "4          0.0    1.0    1.0  5     0.0          1.001070   \n",
       "..         ...    ...    ... ..     ...               ...   \n",
       "17         0.5    1.0   10.0  5     0.5          3.856202   \n",
       "18         0.5   10.0    1.0  5     0.0         10.286910   \n",
       "19         0.5   10.0    1.0  5     0.5         10.285776   \n",
       "20         0.9    1.0    1.0  5     0.0          1.756087   \n",
       "21         0.9    1.0    1.0  5     0.5          1.756869   \n",
       "\n",
       "    mismeasured_allvar_coef  mismeasured_avg_coef   pca_coef  true_val_coef  \\\n",
       "0                  0.540152              0.540155   0.540135       1.000774   \n",
       "1                  0.315738              0.315760   0.315758       1.000122   \n",
       "2                  0.894725              0.894765   0.894755       0.999929   \n",
       "3                  0.777640              0.777608   0.777608       0.999499   \n",
       "4                  1.000738              1.000755   1.000755       1.000715   \n",
       "..                      ...                   ...        ...            ...   \n",
       "17                 3.221662              3.221529   3.221545       0.998636   \n",
       "18                10.106440             10.106439  10.106447      10.001069   \n",
       "19                10.222354             10.222338  10.222340      10.000108   \n",
       "20                 1.461499              1.461481   1.461520       1.002417   \n",
       "21                 1.684101              1.684056   1.684054       1.000081   \n",
       "\n",
       "      iv_coef   pca_ape  mismeasured_coef_ape  mismeasured_allvar_coef_ape  \\\n",
       "0    0.994683  0.459865              0.755151                     0.459848   \n",
       "1    0.348126  0.684242              0.756651                     0.684262   \n",
       "2    0.998913  0.105245              0.286065                     0.105275   \n",
       "3    0.800884  0.222392              0.285639                     0.222360   \n",
       "4    1.001156  0.015793              0.018276                     0.015769   \n",
       "..        ...       ...                   ...                          ...   \n",
       "17   3.002095  2.221545              2.856202                     2.221662   \n",
       "18  10.000348  0.010645              0.028691                     0.010644   \n",
       "19  10.200493  0.022234              0.028578                     0.022235   \n",
       "20   1.007909  0.461520              0.756087                     0.461499   \n",
       "21   1.652143  0.684054              0.756869                     0.684101   \n",
       "\n",
       "    mismeasured_avg_coef_ape  iv_coef_ape  \n",
       "0                   0.459845     0.083619  \n",
       "1                   0.684240     0.651874  \n",
       "2                   0.105235     0.030350  \n",
       "3                   0.222392     0.199148  \n",
       "4                   0.015791     0.027320  \n",
       "..                       ...          ...  \n",
       "17                  2.221529     2.002095  \n",
       "18                  0.010644     0.003043  \n",
       "19                  0.022234     0.020064  \n",
       "20                  0.461481     0.086385  \n",
       "21                  0.684056     0.652143  \n",
       "\n",
       "[22 rows x 16 columns]"
      ],
      "text/html": "<div>\n<style scoped>\n    .dataframe tbody tr th:only-of-type {\n        vertical-align: middle;\n    }\n\n    .dataframe tbody tr th {\n        vertical-align: top;\n    }\n\n    .dataframe thead th {\n        text-align: right;\n    }\n</style>\n<table border=\"1\" class=\"dataframe\">\n  <thead>\n    <tr style=\"text-align: right;\">\n      <th></th>\n      <th>covariance</th>\n      <th>beta1</th>\n      <th>beta2</th>\n      <th>p</th>\n      <th>me_cov</th>\n      <th>mismeasured_coef</th>\n      <th>mismeasured_allvar_coef</th>\n      <th>mismeasured_avg_coef</th>\n      <th>pca_coef</th>\n      <th>true_val_coef</th>\n      <th>iv_coef</th>\n      <th>pca_ape</th>\n      <th>mismeasured_coef_ape</th>\n      <th>mismeasured_allvar_coef_ape</th>\n      <th>mismeasured_avg_coef_ape</th>\n      <th>iv_coef_ape</th>\n    </tr>\n  </thead>\n  <tbody>\n    <tr>\n      <th>0</th>\n      <td>-0.9</td>\n      <td>1.0</td>\n      <td>1.0</td>\n      <td>5</td>\n      <td>0.0</td>\n      <td>0.244849</td>\n      <td>0.540152</td>\n      <td>0.540155</td>\n      <td>0.540135</td>\n      <td>1.000774</td>\n      <td>0.994683</td>\n      <td>0.459865</td>\n      <td>0.755151</td>\n      <td>0.459848</td>\n      <td>0.459845</td>\n      <td>0.083619</td>\n    </tr>\n    <tr>\n      <th>1</th>\n      <td>-0.9</td>\n      <td>1.0</td>\n      <td>1.0</td>\n      <td>5</td>\n      <td>0.5</td>\n      <td>0.243349</td>\n      <td>0.315738</td>\n      <td>0.315760</td>\n      <td>0.315758</td>\n      <td>1.000122</td>\n      <td>0.348126</td>\n      <td>0.684242</td>\n      <td>0.756651</td>\n      <td>0.684262</td>\n      <td>0.684240</td>\n      <td>0.651874</td>\n    </tr>\n    <tr>\n      <th>2</th>\n      <td>-0.5</td>\n      <td>1.0</td>\n      <td>1.0</td>\n      <td>5</td>\n      <td>0.0</td>\n      <td>0.713935</td>\n      <td>0.894725</td>\n      <td>0.894765</td>\n      <td>0.894755</td>\n      <td>0.999929</td>\n      <td>0.998913</td>\n      <td>0.105245</td>\n      <td>0.286065</td>\n      <td>0.105275</td>\n      <td>0.105235</td>\n      <td>0.030350</td>\n    </tr>\n    <tr>\n      <th>3</th>\n      <td>-0.5</td>\n      <td>1.0</td>\n      <td>1.0</td>\n      <td>5</td>\n      <td>0.5</td>\n      <td>0.714361</td>\n      <td>0.777640</td>\n      <td>0.777608</td>\n      <td>0.777608</td>\n      <td>0.999499</td>\n      <td>0.800884</td>\n      <td>0.222392</td>\n      <td>0.285639</td>\n      <td>0.222360</td>\n      <td>0.222392</td>\n      <td>0.199148</td>\n    </tr>\n    <tr>\n      <th>4</th>\n      <td>0.0</td>\n      <td>1.0</td>\n      <td>1.0</td>\n      <td>5</td>\n      <td>0.0</td>\n      <td>1.001070</td>\n      <td>1.000738</td>\n      <td>1.000755</td>\n      <td>1.000755</td>\n      <td>1.000715</td>\n      <td>1.001156</td>\n      <td>0.015793</td>\n      <td>0.018276</td>\n      <td>0.015769</td>\n      <td>0.015791</td>\n      <td>0.027320</td>\n    </tr>\n    <tr>\n      <th>...</th>\n      <td>...</td>\n      <td>...</td>\n      <td>...</td>\n      <td>...</td>\n      <td>...</td>\n      <td>...</td>\n      <td>...</td>\n      <td>...</td>\n      <td>...</td>\n      <td>...</td>\n      <td>...</td>\n      <td>...</td>\n      <td>...</td>\n      <td>...</td>\n      <td>...</td>\n      <td>...</td>\n    </tr>\n    <tr>\n      <th>17</th>\n      <td>0.5</td>\n      <td>1.0</td>\n      <td>10.0</td>\n      <td>5</td>\n      <td>0.5</td>\n      <td>3.856202</td>\n      <td>3.221662</td>\n      <td>3.221529</td>\n      <td>3.221545</td>\n      <td>0.998636</td>\n      <td>3.002095</td>\n      <td>2.221545</td>\n      <td>2.856202</td>\n      <td>2.221662</td>\n      <td>2.221529</td>\n      <td>2.002095</td>\n    </tr>\n    <tr>\n      <th>18</th>\n      <td>0.5</td>\n      <td>10.0</td>\n      <td>1.0</td>\n      <td>5</td>\n      <td>0.0</td>\n      <td>10.286910</td>\n      <td>10.106440</td>\n      <td>10.106439</td>\n      <td>10.106447</td>\n      <td>10.001069</td>\n      <td>10.000348</td>\n      <td>0.010645</td>\n      <td>0.028691</td>\n      <td>0.010644</td>\n      <td>0.010644</td>\n      <td>0.003043</td>\n    </tr>\n    <tr>\n      <th>19</th>\n      <td>0.5</td>\n      <td>10.0</td>\n      <td>1.0</td>\n      <td>5</td>\n      <td>0.5</td>\n      <td>10.285776</td>\n      <td>10.222354</td>\n      <td>10.222338</td>\n      <td>10.222340</td>\n      <td>10.000108</td>\n      <td>10.200493</td>\n      <td>0.022234</td>\n      <td>0.028578</td>\n      <td>0.022235</td>\n      <td>0.022234</td>\n      <td>0.020064</td>\n    </tr>\n    <tr>\n      <th>20</th>\n      <td>0.9</td>\n      <td>1.0</td>\n      <td>1.0</td>\n      <td>5</td>\n      <td>0.0</td>\n      <td>1.756087</td>\n      <td>1.461499</td>\n      <td>1.461481</td>\n      <td>1.461520</td>\n      <td>1.002417</td>\n      <td>1.007909</td>\n      <td>0.461520</td>\n      <td>0.756087</td>\n      <td>0.461499</td>\n      <td>0.461481</td>\n      <td>0.086385</td>\n    </tr>\n    <tr>\n      <th>21</th>\n      <td>0.9</td>\n      <td>1.0</td>\n      <td>1.0</td>\n      <td>5</td>\n      <td>0.5</td>\n      <td>1.756869</td>\n      <td>1.684101</td>\n      <td>1.684056</td>\n      <td>1.684054</td>\n      <td>1.000081</td>\n      <td>1.652143</td>\n      <td>0.684054</td>\n      <td>0.756869</td>\n      <td>0.684101</td>\n      <td>0.684056</td>\n      <td>0.652143</td>\n    </tr>\n  </tbody>\n</table>\n<p>22 rows × 16 columns</p>\n</div>"
     },
     "metadata": {},
     "execution_count": 11
    }
   ],
   "source": [
    "output.groupby(['covariance','beta1','beta2','p','me_cov']).mean().reset_index()"
   ]
  },
  {
   "cell_type": "code",
   "execution_count": 12,
   "metadata": {},
   "outputs": [
    {
     "output_type": "execute_result",
     "data": {
      "text/plain": [
       "    covariance  beta1  beta2  p  me_cov  mismeasured_coef  \\\n",
       "0         -0.9    1.0    1.0  5     0.0          0.025354   \n",
       "1         -0.9    1.0    1.0  5     0.5          0.024535   \n",
       "2         -0.5    1.0    1.0  5     0.0          0.023089   \n",
       "3         -0.5    1.0    1.0  5     0.5          0.023645   \n",
       "4          0.0    1.0    1.0  5     0.0          0.023165   \n",
       "..         ...    ...    ... ..     ...               ...   \n",
       "17         0.5    1.0   10.0  5     0.5          0.130072   \n",
       "18         0.5   10.0    1.0  5     0.0          0.023487   \n",
       "19         0.5   10.0    1.0  5     0.5          0.023397   \n",
       "20         0.9    1.0    1.0  5     0.0          0.024765   \n",
       "21         0.9    1.0    1.0  5     0.5          0.026213   \n",
       "\n",
       "    mismeasured_allvar_coef  mismeasured_avg_coef  pca_coef  true_val_coef  \\\n",
       "0                  0.034045              0.034004  0.033995       0.042019   \n",
       "1                  0.027061              0.027069  0.027071       0.041613   \n",
       "2                  0.022524              0.022542  0.022541       0.020914   \n",
       "3                  0.023126              0.023098  0.023097       0.021511   \n",
       "4                  0.019892              0.019898  0.019900       0.018554   \n",
       "..                      ...                   ...       ...            ...   \n",
       "17                 0.117573              0.117710  0.117704       0.019863   \n",
       "18                 0.022342              0.022349  0.022350       0.020857   \n",
       "19                 0.022997              0.022979  0.022979       0.021020   \n",
       "20                 0.032650              0.032686  0.032682       0.042154   \n",
       "21                 0.028197              0.028254  0.028253       0.041415   \n",
       "\n",
       "     iv_coef   pca_ape  mismeasured_coef_ape  mismeasured_allvar_coef_ape  \\\n",
       "0   0.110663  0.033995              0.025354                     0.034045   \n",
       "1   0.049754  0.027071              0.024535                     0.027061   \n",
       "2   0.039778  0.022541              0.023089                     0.022524   \n",
       "3   0.032996  0.023097              0.023645                     0.023126   \n",
       "4   0.045912  0.012121              0.014262                     0.012138   \n",
       "..       ...       ...                   ...                          ...   \n",
       "17  0.199310  0.117704              0.130072                     0.117573   \n",
       "18  0.043000  0.002235              0.002349                     0.002234   \n",
       "19  0.037728  0.002298              0.002340                     0.002300   \n",
       "20  0.121835  0.032682              0.024765                     0.032650   \n",
       "21  0.043384  0.028253              0.026213                     0.028197   \n",
       "\n",
       "    mismeasured_avg_coef_ape  iv_coef_ape  \n",
       "0                   0.034004     0.072632  \n",
       "1                   0.027069     0.049754  \n",
       "2                   0.022542     0.025719  \n",
       "3                   0.023098     0.032806  \n",
       "4                   0.012121     0.036906  \n",
       "..                       ...          ...  \n",
       "17                  0.117710     0.199310  \n",
       "18                  0.002235     0.003037  \n",
       "19                  0.002298     0.003693  \n",
       "20                  0.032686     0.086236  \n",
       "21                  0.028254     0.043384  \n",
       "\n",
       "[22 rows x 16 columns]"
      ],
      "text/html": "<div>\n<style scoped>\n    .dataframe tbody tr th:only-of-type {\n        vertical-align: middle;\n    }\n\n    .dataframe tbody tr th {\n        vertical-align: top;\n    }\n\n    .dataframe thead th {\n        text-align: right;\n    }\n</style>\n<table border=\"1\" class=\"dataframe\">\n  <thead>\n    <tr style=\"text-align: right;\">\n      <th></th>\n      <th>covariance</th>\n      <th>beta1</th>\n      <th>beta2</th>\n      <th>p</th>\n      <th>me_cov</th>\n      <th>mismeasured_coef</th>\n      <th>mismeasured_allvar_coef</th>\n      <th>mismeasured_avg_coef</th>\n      <th>pca_coef</th>\n      <th>true_val_coef</th>\n      <th>iv_coef</th>\n      <th>pca_ape</th>\n      <th>mismeasured_coef_ape</th>\n      <th>mismeasured_allvar_coef_ape</th>\n      <th>mismeasured_avg_coef_ape</th>\n      <th>iv_coef_ape</th>\n    </tr>\n  </thead>\n  <tbody>\n    <tr>\n      <th>0</th>\n      <td>-0.9</td>\n      <td>1.0</td>\n      <td>1.0</td>\n      <td>5</td>\n      <td>0.0</td>\n      <td>0.025354</td>\n      <td>0.034045</td>\n      <td>0.034004</td>\n      <td>0.033995</td>\n      <td>0.042019</td>\n      <td>0.110663</td>\n      <td>0.033995</td>\n      <td>0.025354</td>\n      <td>0.034045</td>\n      <td>0.034004</td>\n      <td>0.072632</td>\n    </tr>\n    <tr>\n      <th>1</th>\n      <td>-0.9</td>\n      <td>1.0</td>\n      <td>1.0</td>\n      <td>5</td>\n      <td>0.5</td>\n      <td>0.024535</td>\n      <td>0.027061</td>\n      <td>0.027069</td>\n      <td>0.027071</td>\n      <td>0.041613</td>\n      <td>0.049754</td>\n      <td>0.027071</td>\n      <td>0.024535</td>\n      <td>0.027061</td>\n      <td>0.027069</td>\n      <td>0.049754</td>\n    </tr>\n    <tr>\n      <th>2</th>\n      <td>-0.5</td>\n      <td>1.0</td>\n      <td>1.0</td>\n      <td>5</td>\n      <td>0.0</td>\n      <td>0.023089</td>\n      <td>0.022524</td>\n      <td>0.022542</td>\n      <td>0.022541</td>\n      <td>0.020914</td>\n      <td>0.039778</td>\n      <td>0.022541</td>\n      <td>0.023089</td>\n      <td>0.022524</td>\n      <td>0.022542</td>\n      <td>0.025719</td>\n    </tr>\n    <tr>\n      <th>3</th>\n      <td>-0.5</td>\n      <td>1.0</td>\n      <td>1.0</td>\n      <td>5</td>\n      <td>0.5</td>\n      <td>0.023645</td>\n      <td>0.023126</td>\n      <td>0.023098</td>\n      <td>0.023097</td>\n      <td>0.021511</td>\n      <td>0.032996</td>\n      <td>0.023097</td>\n      <td>0.023645</td>\n      <td>0.023126</td>\n      <td>0.023098</td>\n      <td>0.032806</td>\n    </tr>\n    <tr>\n      <th>4</th>\n      <td>0.0</td>\n      <td>1.0</td>\n      <td>1.0</td>\n      <td>5</td>\n      <td>0.0</td>\n      <td>0.023165</td>\n      <td>0.019892</td>\n      <td>0.019898</td>\n      <td>0.019900</td>\n      <td>0.018554</td>\n      <td>0.045912</td>\n      <td>0.012121</td>\n      <td>0.014262</td>\n      <td>0.012138</td>\n      <td>0.012121</td>\n      <td>0.036906</td>\n    </tr>\n    <tr>\n      <th>...</th>\n      <td>...</td>\n      <td>...</td>\n      <td>...</td>\n      <td>...</td>\n      <td>...</td>\n      <td>...</td>\n      <td>...</td>\n      <td>...</td>\n      <td>...</td>\n      <td>...</td>\n      <td>...</td>\n      <td>...</td>\n      <td>...</td>\n      <td>...</td>\n      <td>...</td>\n      <td>...</td>\n    </tr>\n    <tr>\n      <th>17</th>\n      <td>0.5</td>\n      <td>1.0</td>\n      <td>10.0</td>\n      <td>5</td>\n      <td>0.5</td>\n      <td>0.130072</td>\n      <td>0.117573</td>\n      <td>0.117710</td>\n      <td>0.117704</td>\n      <td>0.019863</td>\n      <td>0.199310</td>\n      <td>0.117704</td>\n      <td>0.130072</td>\n      <td>0.117573</td>\n      <td>0.117710</td>\n      <td>0.199310</td>\n    </tr>\n    <tr>\n      <th>18</th>\n      <td>0.5</td>\n      <td>10.0</td>\n      <td>1.0</td>\n      <td>5</td>\n      <td>0.0</td>\n      <td>0.023487</td>\n      <td>0.022342</td>\n      <td>0.022349</td>\n      <td>0.022350</td>\n      <td>0.020857</td>\n      <td>0.043000</td>\n      <td>0.002235</td>\n      <td>0.002349</td>\n      <td>0.002234</td>\n      <td>0.002235</td>\n      <td>0.003037</td>\n    </tr>\n    <tr>\n      <th>19</th>\n      <td>0.5</td>\n      <td>10.0</td>\n      <td>1.0</td>\n      <td>5</td>\n      <td>0.5</td>\n      <td>0.023397</td>\n      <td>0.022997</td>\n      <td>0.022979</td>\n      <td>0.022979</td>\n      <td>0.021020</td>\n      <td>0.037728</td>\n      <td>0.002298</td>\n      <td>0.002340</td>\n      <td>0.002300</td>\n      <td>0.002298</td>\n      <td>0.003693</td>\n    </tr>\n    <tr>\n      <th>20</th>\n      <td>0.9</td>\n      <td>1.0</td>\n      <td>1.0</td>\n      <td>5</td>\n      <td>0.0</td>\n      <td>0.024765</td>\n      <td>0.032650</td>\n      <td>0.032686</td>\n      <td>0.032682</td>\n      <td>0.042154</td>\n      <td>0.121835</td>\n      <td>0.032682</td>\n      <td>0.024765</td>\n      <td>0.032650</td>\n      <td>0.032686</td>\n      <td>0.086236</td>\n    </tr>\n    <tr>\n      <th>21</th>\n      <td>0.9</td>\n      <td>1.0</td>\n      <td>1.0</td>\n      <td>5</td>\n      <td>0.5</td>\n      <td>0.026213</td>\n      <td>0.028197</td>\n      <td>0.028254</td>\n      <td>0.028253</td>\n      <td>0.041415</td>\n      <td>0.043384</td>\n      <td>0.028253</td>\n      <td>0.026213</td>\n      <td>0.028197</td>\n      <td>0.028254</td>\n      <td>0.043384</td>\n    </tr>\n  </tbody>\n</table>\n<p>22 rows × 16 columns</p>\n</div>"
     },
     "metadata": {},
     "execution_count": 12
    }
   ],
   "source": [
    "output.groupby(['covariance','beta1','beta2','p','me_cov']).std().reset_index()"
   ]
  },
  {
   "cell_type": "markdown",
   "metadata": {},
   "source": [
    "Code to produce LaTeX tables:"
   ]
  },
  {
   "cell_type": "code",
   "execution_count": 13,
   "metadata": {},
   "outputs": [],
   "source": [
    "# Helper functions for formatting latex output\n",
    "def std_parenth_padder(type_col, col_to_pad):\n",
    "    if type_col == 'std':\n",
    "        return('(' + col_to_pad + ')')\n",
    "    else:\n",
    "        return(col_to_pad)\n",
    "\n",
    "def format_level_0(type_col, col_to_format):\n",
    "    if type_col == 'std':\n",
    "        return('')\n",
    "    else:\n",
    "        return(col_to_format)"
   ]
  },
  {
   "cell_type": "code",
   "execution_count": 14,
   "metadata": {},
   "outputs": [],
   "source": [
    "# Pass this function a pandas dataframe of which to create the LaTeX file\n",
    "# dataframe is the df\n",
    "# filename is the save location\n",
    "# index tells if you want the index saved to the file or not\n",
    "def Minimal_Latex(dataframe, filename, index = False):\n",
    "\n",
    "    # Open file\n",
    "    with open(filename, \"w\") as f:\n",
    "        \n",
    "        # Start from the pandas\n",
    "        corrected_table = dataframe.to_latex(header = False, index = index)\n",
    "\n",
    "        # Strip all material that pandas inserts- the tabular environment and toprule and bottomrule\n",
    "        corrected_table = re.sub(r'\\\\begin.+', '', corrected_table)\n",
    "        corrected_table = re.sub(r'\\\\toprule', '', corrected_table)\n",
    "        corrected_table = re.sub(r'\\\\bottomrule', '', corrected_table)\n",
    "        corrected_table = re.sub(r'\\\\end.+', '', corrected_table)\n",
    "\n",
    "        # Write to file and skip blank lines\n",
    "        f.write(corrected_table.strip())"
   ]
  },
  {
   "cell_type": "code",
   "execution_count": 15,
   "metadata": {},
   "outputs": [],
   "source": [
    "coef_names_mapper = {'mismeasured_coef':'Single Measurement', 'mismeasured_allvar_coef':'All Measurements', 'pca_coef':'PCA', 'mismeasured_avg_coef':'Average of Measurements', 'iv_coef':'Instrumental Variable'}\n",
    "ape_names_mapper = {'mismeasured_coef_ape':'Single Measurement', 'mismeasured_allvar_coef_ape':'All Measurements', 'pca_ape':'PCA', 'mismeasured_avg_coef_ape':'Average of Measurements', 'iv_coef_ape':'Instrumental Variable'}"
   ]
  },
  {
   "cell_type": "code",
   "execution_count": 16,
   "metadata": {},
   "outputs": [],
   "source": [
    "all_params = ['beta1', 'beta2', 'covariance', 'p']\n",
    "pd.set_option('display.max_rows', 25)\n",
    "\n",
    "def make_param_tables(dataframe, parameter, me_cov):\n",
    "\n",
    "    if parameter != 'beta1':\n",
    "        dataframe = dataframe.loc[(dataframe['beta1']==1)]\n",
    "    if parameter != 'beta2':\n",
    "        dataframe = dataframe.loc[(dataframe['beta2']==1)]\n",
    "    if parameter != 'covariance':\n",
    "        dataframe = dataframe.loc[(dataframe['covariance']==0.5)]\n",
    "    if parameter != 'p':\n",
    "        dataframe = dataframe.loc[(dataframe['p']==5)]\n",
    "    dataframe = dataframe.loc[(dataframe['me_cov']==me_cov)]\n",
    "\n",
    "    dataframe = (dataframe.drop(columns = [variable for variable in all_params if variable != parameter])\n",
    "                          .groupby(parameter)\n",
    "                          .agg(['mean', 'std'])\n",
    "                          .transpose()\n",
    "                          .reset_index())\n",
    "\n",
    "    custom_sort_order = ['pca_coef', 'mismeasured_coef', 'mismeasured_allvar_coef', 'mismeasured_avg_coef', 'iv_coef', 'pca_ape', 'mismeasured_coef_ape', 'mismeasured_allvar_coef_ape', 'mismeasured_avg_coef_ape', 'iv_coef_ape']\n",
    "    # Sorted series\n",
    "    sorted_series = pd.Series(custom_sort_order, name = 'level_0').to_frame()\n",
    "    # Use left merge on to return a sorted df\n",
    "    dataframe = (pd.merge(sorted_series, dataframe, on = 'level_0', how = 'left'))\n",
    "\n",
    "    print(dataframe)\n",
    "\n",
    "    dataframe.columns = dataframe.columns.map(str)\n",
    "\n",
    "    dataframe_coefs = dataframe.loc[(dataframe['level_0'].str.contains(\"coef\")) & \n",
    "              (dataframe['level_0'] != \"true_val_coef\") & \n",
    "              (~dataframe['level_0'].str.contains(\"ape\"))].round(3).astype(str)\n",
    "    \n",
    "    for variable in dataframe_coefs.columns:\n",
    "        if variable != 'level_0' and variable != 'level_1':\n",
    "            dataframe_coefs[variable] = dataframe_coefs.apply(lambda x: std_parenth_padder(x['level_1'], x[variable]), axis = 1)\n",
    "\n",
    "    dataframe_coefs['level_0'] = dataframe_coefs.apply(lambda x: format_level_0(x.level_1, x.level_0), axis = 1)\n",
    "\n",
    "    dataframe_coefs = (dataframe_coefs.drop(columns = 'level_1')\n",
    "                                    .replace(coef_names_mapper))\n",
    "\n",
    "    Minimal_Latex(dataframe_coefs, tables_dir + '/parallel_' + parameter + '_coefs_me_cov_' + str(me_cov) + '.tex')\n",
    "\n",
    "    dataframe_apes = dataframe.loc[(dataframe['level_0'].str.contains(\"ape\")) & \n",
    "              (dataframe['level_1'] != \"std\")\n",
    "             ].drop(columns = 'level_1').replace(ape_names_mapper).set_index('level_0').multiply(100).round(1).astype(str).add('%').reset_index()\n",
    "\n",
    "    Minimal_Latex(dataframe_apes, tables_dir + '/parallel_' + parameter + '_apes_me_cov_' + str(me_cov) + '.tex')"
   ]
  },
  {
   "cell_type": "code",
   "execution_count": 17,
   "metadata": {},
   "outputs": [
    {
     "output_type": "stream",
     "name": "stdout",
     "text": [
      "                        level_0 level_1         5        20        50\n0                      pca_coef    mean  1.105274  1.032061  1.013039\n1                      pca_coef     std  0.023315  0.021273  0.021561\n2              mismeasured_coef    mean  1.286032  1.286017  1.286058\n3              mismeasured_coef     std  0.023698  0.023277  0.023750\n4       mismeasured_allvar_coef    mean  1.105289  1.032164  1.013077\n5       mismeasured_allvar_coef     std  0.023336  0.021363  0.021677\n6          mismeasured_avg_coef    mean  1.105265  1.032055  1.013037\n7          mismeasured_avg_coef     std  0.023318  0.021272  0.021560\n8                       iv_coef    mean  0.999648  1.004739  1.010157\n9                       iv_coef     std  0.038382  0.031077  0.031457\n10                      pca_ape    mean  0.105274  0.033286  0.019957\n11                      pca_ape     std  0.023315  0.019298  0.015376\n12         mismeasured_coef_ape    mean  0.286032  0.286017  0.286058\n13         mismeasured_coef_ape     std  0.023698  0.023277  0.023750\n14  mismeasured_allvar_coef_ape    mean  0.105289  0.033404  0.020055\n15  mismeasured_allvar_coef_ape     std  0.023336  0.019365  0.015443\n16     mismeasured_avg_coef_ape    mean  0.105265  0.033283  0.019955\n17     mismeasured_avg_coef_ape     std  0.023318  0.019293  0.015375\n18                  iv_coef_ape    mean  0.029943  0.025080  0.026453\n19                  iv_coef_ape     std  0.023996  0.018938  0.019808\n"
     ]
    }
   ],
   "source": [
    "make_param_tables(output, 'p', 0)"
   ]
  },
  {
   "cell_type": "code",
   "execution_count": 18,
   "metadata": {},
   "outputs": [
    {
     "output_type": "stream",
     "name": "stdout",
     "text": [
      "                        level_0 level_1         5        20        50\n0                      pca_coef    mean  1.223076  1.206206  1.201784\n1                      pca_coef     std  0.023537  0.022959  0.022597\n2              mismeasured_coef    mean  1.286090  1.286038  1.285293\n3              mismeasured_coef     std  0.024185  0.023042  0.022894\n4       mismeasured_allvar_coef    mean  1.223092  1.206235  1.201831\n5       mismeasured_allvar_coef     std  0.023529  0.023042  0.022994\n6          mismeasured_avg_coef    mean  1.223075  1.206205  1.201784\n7          mismeasured_avg_coef     std  0.023537  0.022959  0.022597\n8                       iv_coef    mean  1.201751  1.201000  1.201399\n9                       iv_coef     std  0.032033  0.025221  0.024245\n10                      pca_ape    mean  0.223076  0.206206  0.201784\n11                      pca_ape     std  0.023537  0.022959  0.022597\n12         mismeasured_coef_ape    mean  0.286090  0.286038  0.285293\n13         mismeasured_coef_ape     std  0.024185  0.023042  0.022894\n14  mismeasured_allvar_coef_ape    mean  0.223092  0.206235  0.201831\n15  mismeasured_allvar_coef_ape     std  0.023529  0.023042  0.022994\n16     mismeasured_avg_coef_ape    mean  0.223075  0.206205  0.201784\n17     mismeasured_avg_coef_ape     std  0.023537  0.022959  0.022597\n18                  iv_coef_ape    mean  0.201751  0.201000  0.201399\n19                  iv_coef_ape     std  0.032033  0.025221  0.024245\n"
     ]
    }
   ],
   "source": [
    "make_param_tables(output, 'p', 0.5)"
   ]
  },
  {
   "cell_type": "code",
   "execution_count": 19,
   "metadata": {},
   "outputs": [
    {
     "output_type": "stream",
     "name": "stdout",
     "text": [
      "                        level_0 level_1      -0.9      -0.5       0.0  \\\n0                      pca_coef    mean  0.540135  0.894755  1.000755   \n1                      pca_coef     std  0.033995  0.022541  0.019900   \n2              mismeasured_coef    mean  0.244849  0.713935  1.001070   \n3              mismeasured_coef     std  0.025354  0.023089  0.023165   \n4       mismeasured_allvar_coef    mean  0.540152  0.894725  1.000738   \n5       mismeasured_allvar_coef     std  0.034045  0.022524  0.019892   \n6          mismeasured_avg_coef    mean  0.540155  0.894765  1.000755   \n7          mismeasured_avg_coef     std  0.034004  0.022542  0.019898   \n8                       iv_coef    mean  0.994683  0.998913  1.001156   \n9                       iv_coef     std  0.110663  0.039778  0.045912   \n10                      pca_ape    mean  0.459865  0.105245  0.015793   \n11                      pca_ape     std  0.033995  0.022541  0.012121   \n12         mismeasured_coef_ape    mean  0.755151  0.286065  0.018276   \n13         mismeasured_coef_ape     std  0.025354  0.023089  0.014262   \n14  mismeasured_allvar_coef_ape    mean  0.459848  0.105275  0.015769   \n15  mismeasured_allvar_coef_ape     std  0.034045  0.022524  0.012138   \n16     mismeasured_avg_coef_ape    mean  0.459845  0.105235  0.015791   \n17     mismeasured_avg_coef_ape     std  0.034004  0.022542  0.012121   \n18                  iv_coef_ape    mean  0.083619  0.030350  0.027320   \n19                  iv_coef_ape     std  0.072632  0.025719  0.036906   \n\n         0.5       0.9  \n0   1.105274  1.461520  \n1   0.023315  0.032682  \n2   1.286032  1.756087  \n3   0.023698  0.024765  \n4   1.105289  1.461499  \n5   0.023336  0.032650  \n6   1.105265  1.461481  \n7   0.023318  0.032686  \n8   0.999648  1.007909  \n9   0.038382  0.121835  \n10  0.105274  0.461520  \n11  0.023315  0.032682  \n12  0.286032  0.756087  \n13  0.023698  0.024765  \n14  0.105289  0.461499  \n15  0.023336  0.032650  \n16  0.105265  0.461481  \n17  0.023318  0.032686  \n18  0.029943  0.086385  \n19  0.023996  0.086236  \n"
     ]
    }
   ],
   "source": [
    "make_param_tables(output, 'covariance', 0)"
   ]
  },
  {
   "cell_type": "code",
   "execution_count": 20,
   "metadata": {},
   "outputs": [
    {
     "output_type": "stream",
     "name": "stdout",
     "text": [
      "                        level_0 level_1      -0.9      -0.5       0.0  \\\n0                      pca_coef    mean  0.315758  0.777608  1.000023   \n1                      pca_coef     std  0.027071  0.023097  0.021069   \n2              mismeasured_coef    mean  0.243349  0.714361  1.000139   \n3              mismeasured_coef     std  0.024535  0.023645  0.021668   \n4       mismeasured_allvar_coef    mean  0.315738  0.777640  0.999978   \n5       mismeasured_allvar_coef     std  0.027061  0.023126  0.021113   \n6          mismeasured_avg_coef    mean  0.315760  0.777608  1.000022   \n7          mismeasured_avg_coef     std  0.027069  0.023098  0.021069   \n8                       iv_coef    mean  0.348126  0.800884  1.000416   \n9                       iv_coef     std  0.049754  0.032996  0.029454   \n10                      pca_ape    mean  0.684242  0.222392  0.016884   \n11                      pca_ape     std  0.027071  0.023097  0.012591   \n12         mismeasured_coef_ape    mean  0.756651  0.285639  0.017371   \n13         mismeasured_coef_ape     std  0.024535  0.023645  0.012941   \n14  mismeasured_allvar_coef_ape    mean  0.684262  0.222360  0.016905   \n15  mismeasured_allvar_coef_ape     std  0.027061  0.023126  0.012637   \n16     mismeasured_avg_coef_ape    mean  0.684240  0.222392  0.016885   \n17     mismeasured_avg_coef_ape     std  0.027069  0.023098  0.012591   \n18                  iv_coef_ape    mean  0.651874  0.199148  0.022128   \n19                  iv_coef_ape     std  0.049754  0.032806  0.019432   \n\n         0.5       0.9  \n0   1.223076  1.684054  \n1   0.023537  0.028253  \n2   1.286090  1.756869  \n3   0.024185  0.026213  \n4   1.223092  1.684101  \n5   0.023529  0.028197  \n6   1.223075  1.684056  \n7   0.023537  0.028254  \n8   1.201751  1.652143  \n9   0.032033  0.043384  \n10  0.223076  0.684054  \n11  0.023537  0.028253  \n12  0.286090  0.756869  \n13  0.024185  0.026213  \n14  0.223092  0.684101  \n15  0.023529  0.028197  \n16  0.223075  0.684056  \n17  0.023537  0.028254  \n18  0.201751  0.652143  \n19  0.032033  0.043384  \n"
     ]
    }
   ],
   "source": [
    "make_param_tables(output, 'covariance', 0.5)"
   ]
  },
  {
   "cell_type": "code",
   "execution_count": 21,
   "metadata": {},
   "outputs": [
    {
     "output_type": "stream",
     "name": "stdout",
     "text": [
      "                        level_0 level_1       0.1       1.0       10.0\n0                      pca_coef    mean  0.205054  1.105274  10.106447\n1                      pca_coef     std  0.021152  0.023315   0.022350\n2              mismeasured_coef    mean  0.385286  1.286032  10.286910\n3              mismeasured_coef     std  0.023144  0.023698   0.023487\n4       mismeasured_allvar_coef    mean  0.205058  1.105289  10.106440\n5       mismeasured_allvar_coef     std  0.021213  0.023336   0.022342\n6          mismeasured_avg_coef    mean  0.205038  1.105265  10.106439\n7          mismeasured_avg_coef     std  0.021163  0.023318   0.022349\n8                       iv_coef    mean  0.100208  0.999648  10.000348\n9                       iv_coef     std  0.044093  0.038382   0.043000\n10                      pca_ape    mean  1.050538  0.105274   0.010645\n11                      pca_ape     std  0.211518  0.023315   0.002235\n12         mismeasured_coef_ape    mean  2.852865  0.286032   0.028691\n13         mismeasured_coef_ape     std  0.231436  0.023698   0.002349\n14  mismeasured_allvar_coef_ape    mean  1.050580  0.105289   0.010644\n15  mismeasured_allvar_coef_ape     std  0.212129  0.023336   0.002234\n16     mismeasured_avg_coef_ape    mean  1.050378  0.105265   0.010644\n17     mismeasured_avg_coef_ape     std  0.211630  0.023318   0.002235\n18                  iv_coef_ape    mean  0.321164  0.029943   0.003043\n19                  iv_coef_ape     std  0.301957  0.023996   0.003037\n"
     ]
    }
   ],
   "source": [
    "make_param_tables(output, 'beta1', 0)"
   ]
  },
  {
   "cell_type": "code",
   "execution_count": 22,
   "metadata": {},
   "outputs": [
    {
     "output_type": "stream",
     "name": "stdout",
     "text": [
      "                        level_0 level_1       0.1       1.0       10.0\n0                      pca_coef    mean  0.323029  1.223076  10.222340\n1                      pca_coef     std  0.021914  0.023537   0.022979\n2              mismeasured_coef    mean  0.386650  1.286090  10.285776\n3              mismeasured_coef     std  0.022385  0.024185   0.023397\n4       mismeasured_allvar_coef    mean  0.322992  1.223092  10.222354\n5       mismeasured_allvar_coef     std  0.021934  0.023529   0.022997\n6          mismeasured_avg_coef    mean  0.323026  1.223075  10.222338\n7          mismeasured_avg_coef     std  0.021914  0.023537   0.022979\n8                       iv_coef    mean  0.300418  1.201751  10.200493\n9                       iv_coef     std  0.034117  0.032033   0.037728\n10                      pca_ape    mean  2.230285  0.223076   0.022234\n11                      pca_ape     std  0.219143  0.023537   0.002298\n12         mismeasured_coef_ape    mean  2.866505  0.286090   0.028578\n13         mismeasured_coef_ape     std  0.223853  0.024185   0.002340\n14  mismeasured_allvar_coef_ape    mean  2.229920  0.223092   0.022235\n15  mismeasured_allvar_coef_ape     std  0.219339  0.023529   0.002300\n16     mismeasured_avg_coef_ape    mean  2.230265  0.223075   0.022234\n17     mismeasured_avg_coef_ape     std  0.219142  0.023537   0.002298\n18                  iv_coef_ape    mean  2.007567  0.201751   0.020064\n19                  iv_coef_ape     std  0.320648  0.032033   0.003693\n"
     ]
    }
   ],
   "source": [
    "make_param_tables(output, 'beta1', 0.5)"
   ]
  },
  {
   "cell_type": "code",
   "execution_count": 23,
   "metadata": {},
   "outputs": [
    {
     "output_type": "stream",
     "name": "stdout",
     "text": [
      "                        level_0 level_1       0.1       1.0      10.0\n0                      pca_coef    mean  1.011586  1.105274  2.055211\n1                      pca_coef     std  0.020849  0.023315  0.081348\n2              mismeasured_coef    mean  1.029552  1.286032  3.864130\n3              mismeasured_coef     std  0.019612  0.023698  0.127468\n4       mismeasured_allvar_coef    mean  1.011579  1.105289  2.055041\n5       mismeasured_allvar_coef     std  0.020840  0.023336  0.081472\n6          mismeasured_avg_coef    mean  1.011585  1.105265  2.055068\n7          mismeasured_avg_coef     std  0.020850  0.023318  0.081378\n8                       iv_coef    mean  1.001426  0.999648  1.009211\n9                       iv_coef     std  0.028580  0.038382  0.300444\n10                      pca_ape    mean  0.019044  0.105274  1.055211\n11                      pca_ape     std  0.014354  0.023315  0.081348\n12         mismeasured_coef_ape    mean  0.030727  0.286032  2.864130\n13         mismeasured_coef_ape     std  0.017712  0.023698  0.127468\n14  mismeasured_allvar_coef_ape    mean  0.019024  0.105289  1.055041\n15  mismeasured_allvar_coef_ape     std  0.014362  0.023336  0.081472\n16     mismeasured_avg_coef_ape    mean  0.019044  0.105265  1.055068\n17     mismeasured_avg_coef_ape     std  0.014354  0.023318  0.081378\n18                  iv_coef_ape    mean  0.022096  0.029943  0.225849\n19                  iv_coef_ape     std  0.018170  0.023996  0.198224\n"
     ]
    }
   ],
   "source": [
    "make_param_tables(output, 'beta2', 0)"
   ]
  },
  {
   "cell_type": "code",
   "execution_count": 24,
   "metadata": {},
   "outputs": [
    {
     "output_type": "stream",
     "name": "stdout",
     "text": [
      "                        level_0 level_1       0.1       1.0      10.0\n0                      pca_coef    mean  1.022026  1.223076  3.221545\n1                      pca_coef     std  0.019859  0.023537  0.117704\n2              mismeasured_coef    mean  1.028456  1.286090  3.856202\n3              mismeasured_coef     std  0.019520  0.024185  0.130072\n4       mismeasured_allvar_coef    mean  1.022003  1.223092  3.221662\n5       mismeasured_allvar_coef     std  0.019909  0.023529  0.117573\n6          mismeasured_avg_coef    mean  1.022026  1.223075  3.221529\n7          mismeasured_avg_coef     std  0.019859  0.023537  0.117710\n8                       iv_coef    mean  1.019110  1.201751  3.002095\n9                       iv_coef     std  0.030461  0.032033  0.199310\n10                      pca_ape    mean  0.024736  0.223076  2.221545\n11                      pca_ape     std  0.016356  0.023537  0.117704\n12         mismeasured_coef_ape    mean  0.029717  0.286090  2.856202\n13         mismeasured_coef_ape     std  0.017538  0.024185  0.130072\n14  mismeasured_allvar_coef_ape    mean  0.024755  0.223092  2.221662\n15  mismeasured_allvar_coef_ape     std  0.016356  0.023529  0.117573\n16     mismeasured_avg_coef_ape    mean  0.024735  0.223075  2.221529\n17     mismeasured_avg_coef_ape     std  0.016357  0.023537  0.117710\n18                  iv_coef_ape    mean  0.026899  0.201751  2.002095\n19                  iv_coef_ape     std  0.023857  0.032033  0.199310\n"
     ]
    }
   ],
   "source": [
    "make_param_tables(output, 'beta2', 0.5)"
   ]
  }
 ],
 "metadata": {
  "kernelspec": {
   "name": "python388jvsc74a57bd0d8e5f08eda4f9cddc19de05071e25a43923763e5e5799e90c26e70a4345f4abb",
   "display_name": "Python 3.8.8 64-bit ('econ31330-env': conda)"
  },
  "language_info": {
   "codemirror_mode": {
    "name": "ipython",
    "version": 3
   },
   "file_extension": ".py",
   "mimetype": "text/x-python",
   "name": "python",
   "nbconvert_exporter": "python",
   "pygments_lexer": "ipython3",
   "version": "3.8.8"
  }
 },
 "nbformat": 4,
 "nbformat_minor": 2
}