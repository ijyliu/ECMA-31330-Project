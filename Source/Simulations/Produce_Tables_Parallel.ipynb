{
 "cells": [
  {
   "cell_type": "code",
   "execution_count": 1,
   "metadata": {},
   "outputs": [],
   "source": [
    "# Directory structure\n",
    "import os\n",
    "repo_dir = os.path.join(os.path.abspath(''), '../..')\n",
    "input_dir = repo_dir + \"/Input\"\n",
    "output_dir = repo_dir + \"/Output\"\n",
    "figures_dir = output_dir + \"/Figures\"\n",
    "tables_dir = output_dir + \"/Tables\"\n",
    "sim_results_dir = output_dir + \"/Sim_Results\"\n",
    "\n",
    "# Packages\n",
    "import pandas as pd\n",
    "import regex as re\n",
    "\n",
    "pd.set_option('display.max_rows', 10)"
   ]
  },
  {
   "cell_type": "code",
   "execution_count": 2,
   "metadata": {},
   "outputs": [
    {
     "output_type": "execute_result",
     "data": {
      "text/plain": [
       "       mismeasured_coef  mismeasured_allvar_coef  mismeasured_avg_coef  \\\n",
       "0              0.736811                 0.788696              0.790508   \n",
       "1              0.733709                 0.788513              0.787842   \n",
       "2              0.684314                 0.754632              0.755117   \n",
       "3              0.717427                 0.783971              0.784379   \n",
       "4              0.720739                 0.793222              0.794076   \n",
       "...                 ...                      ...                   ...   \n",
       "25995          1.321285                 1.236515              1.237788   \n",
       "25996          1.284569                 1.209733              1.211141   \n",
       "25997          1.297819                 1.214387              1.215206   \n",
       "25998          1.318199                 1.247423              1.250083   \n",
       "25999          1.322434                 1.253518              1.250599   \n",
       "\n",
       "       pca_coef  true_val_coef   iv_coef  covariance  beta1  beta2   p  me_cov  \n",
       "0      0.790531       1.004700  0.833437        -0.5    1.0    1.0   5     0.5  \n",
       "1      0.787832       1.011377  0.802154        -0.5    1.0    1.0   5     0.5  \n",
       "2      0.755116       0.969519  0.816866        -0.5    1.0    1.0   5     0.5  \n",
       "3      0.784355       1.007873  0.805834        -0.5    1.0    1.0   5     0.5  \n",
       "4      0.794128       1.009724  0.808773        -0.5    1.0    1.0   5     0.5  \n",
       "...         ...            ...       ...         ...    ...    ...  ..     ...  \n",
       "25995  1.237753       1.001903  1.226412         0.5    1.0    1.0  20     0.5  \n",
       "25996  1.211164       1.007873  1.207110         0.5    1.0    1.0  20     0.5  \n",
       "25997  1.215201       0.998528  1.214403         0.5    1.0    1.0  20     0.5  \n",
       "25998  1.250118       1.035215  1.239544         0.5    1.0    1.0  20     0.5  \n",
       "25999  1.250599       1.042556  1.251133         0.5    1.0    1.0  20     0.5  \n",
       "\n",
       "[26000 rows x 11 columns]"
      ],
      "text/html": "<div>\n<style scoped>\n    .dataframe tbody tr th:only-of-type {\n        vertical-align: middle;\n    }\n\n    .dataframe tbody tr th {\n        vertical-align: top;\n    }\n\n    .dataframe thead th {\n        text-align: right;\n    }\n</style>\n<table border=\"1\" class=\"dataframe\">\n  <thead>\n    <tr style=\"text-align: right;\">\n      <th></th>\n      <th>mismeasured_coef</th>\n      <th>mismeasured_allvar_coef</th>\n      <th>mismeasured_avg_coef</th>\n      <th>pca_coef</th>\n      <th>true_val_coef</th>\n      <th>iv_coef</th>\n      <th>covariance</th>\n      <th>beta1</th>\n      <th>beta2</th>\n      <th>p</th>\n      <th>me_cov</th>\n    </tr>\n  </thead>\n  <tbody>\n    <tr>\n      <th>0</th>\n      <td>0.736811</td>\n      <td>0.788696</td>\n      <td>0.790508</td>\n      <td>0.790531</td>\n      <td>1.004700</td>\n      <td>0.833437</td>\n      <td>-0.5</td>\n      <td>1.0</td>\n      <td>1.0</td>\n      <td>5</td>\n      <td>0.5</td>\n    </tr>\n    <tr>\n      <th>1</th>\n      <td>0.733709</td>\n      <td>0.788513</td>\n      <td>0.787842</td>\n      <td>0.787832</td>\n      <td>1.011377</td>\n      <td>0.802154</td>\n      <td>-0.5</td>\n      <td>1.0</td>\n      <td>1.0</td>\n      <td>5</td>\n      <td>0.5</td>\n    </tr>\n    <tr>\n      <th>2</th>\n      <td>0.684314</td>\n      <td>0.754632</td>\n      <td>0.755117</td>\n      <td>0.755116</td>\n      <td>0.969519</td>\n      <td>0.816866</td>\n      <td>-0.5</td>\n      <td>1.0</td>\n      <td>1.0</td>\n      <td>5</td>\n      <td>0.5</td>\n    </tr>\n    <tr>\n      <th>3</th>\n      <td>0.717427</td>\n      <td>0.783971</td>\n      <td>0.784379</td>\n      <td>0.784355</td>\n      <td>1.007873</td>\n      <td>0.805834</td>\n      <td>-0.5</td>\n      <td>1.0</td>\n      <td>1.0</td>\n      <td>5</td>\n      <td>0.5</td>\n    </tr>\n    <tr>\n      <th>4</th>\n      <td>0.720739</td>\n      <td>0.793222</td>\n      <td>0.794076</td>\n      <td>0.794128</td>\n      <td>1.009724</td>\n      <td>0.808773</td>\n      <td>-0.5</td>\n      <td>1.0</td>\n      <td>1.0</td>\n      <td>5</td>\n      <td>0.5</td>\n    </tr>\n    <tr>\n      <th>...</th>\n      <td>...</td>\n      <td>...</td>\n      <td>...</td>\n      <td>...</td>\n      <td>...</td>\n      <td>...</td>\n      <td>...</td>\n      <td>...</td>\n      <td>...</td>\n      <td>...</td>\n      <td>...</td>\n    </tr>\n    <tr>\n      <th>25995</th>\n      <td>1.321285</td>\n      <td>1.236515</td>\n      <td>1.237788</td>\n      <td>1.237753</td>\n      <td>1.001903</td>\n      <td>1.226412</td>\n      <td>0.5</td>\n      <td>1.0</td>\n      <td>1.0</td>\n      <td>20</td>\n      <td>0.5</td>\n    </tr>\n    <tr>\n      <th>25996</th>\n      <td>1.284569</td>\n      <td>1.209733</td>\n      <td>1.211141</td>\n      <td>1.211164</td>\n      <td>1.007873</td>\n      <td>1.207110</td>\n      <td>0.5</td>\n      <td>1.0</td>\n      <td>1.0</td>\n      <td>20</td>\n      <td>0.5</td>\n    </tr>\n    <tr>\n      <th>25997</th>\n      <td>1.297819</td>\n      <td>1.214387</td>\n      <td>1.215206</td>\n      <td>1.215201</td>\n      <td>0.998528</td>\n      <td>1.214403</td>\n      <td>0.5</td>\n      <td>1.0</td>\n      <td>1.0</td>\n      <td>20</td>\n      <td>0.5</td>\n    </tr>\n    <tr>\n      <th>25998</th>\n      <td>1.318199</td>\n      <td>1.247423</td>\n      <td>1.250083</td>\n      <td>1.250118</td>\n      <td>1.035215</td>\n      <td>1.239544</td>\n      <td>0.5</td>\n      <td>1.0</td>\n      <td>1.0</td>\n      <td>20</td>\n      <td>0.5</td>\n    </tr>\n    <tr>\n      <th>25999</th>\n      <td>1.322434</td>\n      <td>1.253518</td>\n      <td>1.250599</td>\n      <td>1.250599</td>\n      <td>1.042556</td>\n      <td>1.251133</td>\n      <td>0.5</td>\n      <td>1.0</td>\n      <td>1.0</td>\n      <td>20</td>\n      <td>0.5</td>\n    </tr>\n  </tbody>\n</table>\n<p>26000 rows × 11 columns</p>\n</div>"
     },
     "metadata": {},
     "execution_count": 2
    }
   ],
   "source": [
    "N = 3000\n",
    "\n",
    "output = (pd.read_csv(sim_results_dir + '/parallel_n_' + str(N) + '_results.csv', index_col=0)\n",
    "            .reset_index())\n",
    "output"
   ]
  },
  {
   "cell_type": "code",
   "execution_count": 3,
   "metadata": {},
   "outputs": [],
   "source": [
    "output['pca_ape'] = (output['pca_coef'] - output['beta1']).abs()/output['beta1']\n",
    "output['mismeasured_coef_ape'] = (output['mismeasured_coef'] - output['beta1']).abs()/output['beta1']\n",
    "output['mismeasured_allvar_coef_ape'] = (output['mismeasured_allvar_coef'] - output['beta1']).abs()/output['beta1']\n",
    "output['mismeasured_avg_coef_ape'] = (output['mismeasured_avg_coef'] - output['beta1']).abs()/output['beta1']\n",
    "output['iv_coef_ape'] = (output['iv_coef'] - output['beta1']).abs()/output['beta1']"
   ]
  },
  {
   "cell_type": "code",
   "execution_count": 4,
   "metadata": {},
   "outputs": [
    {
     "output_type": "execute_result",
     "data": {
      "text/plain": [
       "    covariance  beta1  beta2  p  me_cov  mismeasured_coef  \\\n",
       "0         -0.9    1.0    1.0  5     0.0          0.244609   \n",
       "1         -0.9    1.0    1.0  5     0.5          0.244505   \n",
       "2         -0.5    1.0    1.0  5     0.0          0.713609   \n",
       "3         -0.5    1.0    1.0  5     0.5          0.714727   \n",
       "4          0.0    1.0    1.0  5     0.0          0.999618   \n",
       "..         ...    ...    ... ..     ...               ...   \n",
       "21         0.5    1.0   10.0  5     0.5          3.858676   \n",
       "22         0.5   10.0    1.0  5     0.0         10.285917   \n",
       "23         0.5   10.0    1.0  5     0.5         10.284682   \n",
       "24         0.9    1.0    1.0  5     0.0          1.757625   \n",
       "25         0.9    1.0    1.0  5     0.5          1.756111   \n",
       "\n",
       "    mismeasured_allvar_coef  mismeasured_avg_coef   pca_coef  true_val_coef  \\\n",
       "0                  0.539769              0.539725   0.539684       1.001781   \n",
       "1                  0.317533              0.317517   0.317515       1.001686   \n",
       "2                  0.894665              0.894604   0.894585       0.999656   \n",
       "3                  0.778112              0.778135   0.778135       0.999844   \n",
       "4                  1.000040              1.000131   1.000129       0.999722   \n",
       "..                      ...                   ...        ...            ...   \n",
       "21                 3.222745              3.222666   3.222679       0.999376   \n",
       "22                10.105515             10.105532  10.105541       9.999859   \n",
       "23                10.221437             10.221464  10.221466       9.999813   \n",
       "24                 1.463058              1.463151   1.463185       1.000240   \n",
       "25                 1.683518              1.683470   1.683470       0.999460   \n",
       "\n",
       "      iv_coef   pca_ape  mismeasured_coef_ape  mismeasured_allvar_coef_ape  \\\n",
       "0    0.988074  0.460316              0.755391                     0.460231   \n",
       "1    0.348188  0.682485              0.755495                     0.682467   \n",
       "2    1.001499  0.105415              0.286391                     0.105335   \n",
       "3    0.799884  0.221865              0.285273                     0.221888   \n",
       "4    1.001184  0.016035              0.018056                     0.016049   \n",
       "..        ...       ...                   ...                          ...   \n",
       "21   3.000036  2.222679              2.858676                     2.222745   \n",
       "22  10.000963  0.010554              0.028592                     0.010552   \n",
       "23  10.199132  0.022147              0.028468                     0.022144   \n",
       "24   1.007069  0.463185              0.757625                     0.463058   \n",
       "25   1.652905  0.683470              0.756111                     0.683518   \n",
       "\n",
       "    mismeasured_avg_coef_ape  iv_coef_ape  \n",
       "0                   0.460275     0.086822  \n",
       "1                   0.682483     0.651812  \n",
       "2                   0.105396     0.031302  \n",
       "3                   0.221865     0.200116  \n",
       "4                   0.016035     0.025881  \n",
       "..                       ...          ...  \n",
       "21                  2.222666     2.000036  \n",
       "22                  0.010553     0.003205  \n",
       "23                  0.022146     0.019923  \n",
       "24                  0.463151     0.089578  \n",
       "25                  0.683470     0.652905  \n",
       "\n",
       "[26 rows x 16 columns]"
      ],
      "text/html": "<div>\n<style scoped>\n    .dataframe tbody tr th:only-of-type {\n        vertical-align: middle;\n    }\n\n    .dataframe tbody tr th {\n        vertical-align: top;\n    }\n\n    .dataframe thead th {\n        text-align: right;\n    }\n</style>\n<table border=\"1\" class=\"dataframe\">\n  <thead>\n    <tr style=\"text-align: right;\">\n      <th></th>\n      <th>covariance</th>\n      <th>beta1</th>\n      <th>beta2</th>\n      <th>p</th>\n      <th>me_cov</th>\n      <th>mismeasured_coef</th>\n      <th>mismeasured_allvar_coef</th>\n      <th>mismeasured_avg_coef</th>\n      <th>pca_coef</th>\n      <th>true_val_coef</th>\n      <th>iv_coef</th>\n      <th>pca_ape</th>\n      <th>mismeasured_coef_ape</th>\n      <th>mismeasured_allvar_coef_ape</th>\n      <th>mismeasured_avg_coef_ape</th>\n      <th>iv_coef_ape</th>\n    </tr>\n  </thead>\n  <tbody>\n    <tr>\n      <th>0</th>\n      <td>-0.9</td>\n      <td>1.0</td>\n      <td>1.0</td>\n      <td>5</td>\n      <td>0.0</td>\n      <td>0.244609</td>\n      <td>0.539769</td>\n      <td>0.539725</td>\n      <td>0.539684</td>\n      <td>1.001781</td>\n      <td>0.988074</td>\n      <td>0.460316</td>\n      <td>0.755391</td>\n      <td>0.460231</td>\n      <td>0.460275</td>\n      <td>0.086822</td>\n    </tr>\n    <tr>\n      <th>1</th>\n      <td>-0.9</td>\n      <td>1.0</td>\n      <td>1.0</td>\n      <td>5</td>\n      <td>0.5</td>\n      <td>0.244505</td>\n      <td>0.317533</td>\n      <td>0.317517</td>\n      <td>0.317515</td>\n      <td>1.001686</td>\n      <td>0.348188</td>\n      <td>0.682485</td>\n      <td>0.755495</td>\n      <td>0.682467</td>\n      <td>0.682483</td>\n      <td>0.651812</td>\n    </tr>\n    <tr>\n      <th>2</th>\n      <td>-0.5</td>\n      <td>1.0</td>\n      <td>1.0</td>\n      <td>5</td>\n      <td>0.0</td>\n      <td>0.713609</td>\n      <td>0.894665</td>\n      <td>0.894604</td>\n      <td>0.894585</td>\n      <td>0.999656</td>\n      <td>1.001499</td>\n      <td>0.105415</td>\n      <td>0.286391</td>\n      <td>0.105335</td>\n      <td>0.105396</td>\n      <td>0.031302</td>\n    </tr>\n    <tr>\n      <th>3</th>\n      <td>-0.5</td>\n      <td>1.0</td>\n      <td>1.0</td>\n      <td>5</td>\n      <td>0.5</td>\n      <td>0.714727</td>\n      <td>0.778112</td>\n      <td>0.778135</td>\n      <td>0.778135</td>\n      <td>0.999844</td>\n      <td>0.799884</td>\n      <td>0.221865</td>\n      <td>0.285273</td>\n      <td>0.221888</td>\n      <td>0.221865</td>\n      <td>0.200116</td>\n    </tr>\n    <tr>\n      <th>4</th>\n      <td>0.0</td>\n      <td>1.0</td>\n      <td>1.0</td>\n      <td>5</td>\n      <td>0.0</td>\n      <td>0.999618</td>\n      <td>1.000040</td>\n      <td>1.000131</td>\n      <td>1.000129</td>\n      <td>0.999722</td>\n      <td>1.001184</td>\n      <td>0.016035</td>\n      <td>0.018056</td>\n      <td>0.016049</td>\n      <td>0.016035</td>\n      <td>0.025881</td>\n    </tr>\n    <tr>\n      <th>...</th>\n      <td>...</td>\n      <td>...</td>\n      <td>...</td>\n      <td>...</td>\n      <td>...</td>\n      <td>...</td>\n      <td>...</td>\n      <td>...</td>\n      <td>...</td>\n      <td>...</td>\n      <td>...</td>\n      <td>...</td>\n      <td>...</td>\n      <td>...</td>\n      <td>...</td>\n      <td>...</td>\n    </tr>\n    <tr>\n      <th>21</th>\n      <td>0.5</td>\n      <td>1.0</td>\n      <td>10.0</td>\n      <td>5</td>\n      <td>0.5</td>\n      <td>3.858676</td>\n      <td>3.222745</td>\n      <td>3.222666</td>\n      <td>3.222679</td>\n      <td>0.999376</td>\n      <td>3.000036</td>\n      <td>2.222679</td>\n      <td>2.858676</td>\n      <td>2.222745</td>\n      <td>2.222666</td>\n      <td>2.000036</td>\n    </tr>\n    <tr>\n      <th>22</th>\n      <td>0.5</td>\n      <td>10.0</td>\n      <td>1.0</td>\n      <td>5</td>\n      <td>0.0</td>\n      <td>10.285917</td>\n      <td>10.105515</td>\n      <td>10.105532</td>\n      <td>10.105541</td>\n      <td>9.999859</td>\n      <td>10.000963</td>\n      <td>0.010554</td>\n      <td>0.028592</td>\n      <td>0.010552</td>\n      <td>0.010553</td>\n      <td>0.003205</td>\n    </tr>\n    <tr>\n      <th>23</th>\n      <td>0.5</td>\n      <td>10.0</td>\n      <td>1.0</td>\n      <td>5</td>\n      <td>0.5</td>\n      <td>10.284682</td>\n      <td>10.221437</td>\n      <td>10.221464</td>\n      <td>10.221466</td>\n      <td>9.999813</td>\n      <td>10.199132</td>\n      <td>0.022147</td>\n      <td>0.028468</td>\n      <td>0.022144</td>\n      <td>0.022146</td>\n      <td>0.019923</td>\n    </tr>\n    <tr>\n      <th>24</th>\n      <td>0.9</td>\n      <td>1.0</td>\n      <td>1.0</td>\n      <td>5</td>\n      <td>0.0</td>\n      <td>1.757625</td>\n      <td>1.463058</td>\n      <td>1.463151</td>\n      <td>1.463185</td>\n      <td>1.000240</td>\n      <td>1.007069</td>\n      <td>0.463185</td>\n      <td>0.757625</td>\n      <td>0.463058</td>\n      <td>0.463151</td>\n      <td>0.089578</td>\n    </tr>\n    <tr>\n      <th>25</th>\n      <td>0.9</td>\n      <td>1.0</td>\n      <td>1.0</td>\n      <td>5</td>\n      <td>0.5</td>\n      <td>1.756111</td>\n      <td>1.683518</td>\n      <td>1.683470</td>\n      <td>1.683470</td>\n      <td>0.999460</td>\n      <td>1.652905</td>\n      <td>0.683470</td>\n      <td>0.756111</td>\n      <td>0.683518</td>\n      <td>0.683470</td>\n      <td>0.652905</td>\n    </tr>\n  </tbody>\n</table>\n<p>26 rows × 16 columns</p>\n</div>"
     },
     "metadata": {},
     "execution_count": 4
    }
   ],
   "source": [
    "output.groupby(['covariance','beta1','beta2','p','me_cov']).mean().reset_index()"
   ]
  },
  {
   "cell_type": "code",
   "execution_count": 5,
   "metadata": {},
   "outputs": [
    {
     "output_type": "execute_result",
     "data": {
      "text/plain": [
       "    covariance  beta1  beta2  p  me_cov  mismeasured_coef  \\\n",
       "0         -0.9    1.0    1.0  5     0.0          0.025681   \n",
       "1         -0.9    1.0    1.0  5     0.5          0.025849   \n",
       "2         -0.5    1.0    1.0  5     0.0          0.023620   \n",
       "3         -0.5    1.0    1.0  5     0.5          0.023351   \n",
       "4          0.0    1.0    1.0  5     0.0          0.022605   \n",
       "..         ...    ...    ... ..     ...               ...   \n",
       "21         0.5    1.0   10.0  5     0.5          0.128220   \n",
       "22         0.5   10.0    1.0  5     0.0          0.023405   \n",
       "23         0.5   10.0    1.0  5     0.5          0.023066   \n",
       "24         0.9    1.0    1.0  5     0.0          0.026317   \n",
       "25         0.9    1.0    1.0  5     0.5          0.025546   \n",
       "\n",
       "    mismeasured_allvar_coef  mismeasured_avg_coef  pca_coef  true_val_coef  \\\n",
       "0                  0.033487              0.033466  0.033463       0.043134   \n",
       "1                  0.027898              0.027840  0.027843       0.041954   \n",
       "2                  0.022165              0.022167  0.022169       0.020904   \n",
       "3                  0.023279              0.023266  0.023267       0.021550   \n",
       "4                  0.020153              0.020158  0.020158       0.018738   \n",
       "..                      ...                   ...       ...            ...   \n",
       "21                 0.118378              0.118203  0.118203       0.021661   \n",
       "22                 0.022319              0.022331  0.022330       0.021588   \n",
       "23                 0.022977              0.023001  0.023001       0.021136   \n",
       "24                 0.034153              0.034108  0.034103       0.041373   \n",
       "25                 0.028263              0.028193  0.028195       0.043094   \n",
       "\n",
       "     iv_coef   pca_ape  mismeasured_coef_ape  mismeasured_allvar_coef_ape  \\\n",
       "0   0.112235  0.033463              0.025681                     0.033487   \n",
       "1   0.046129  0.027843              0.025849                     0.027898   \n",
       "2   0.041814  0.022169              0.023620                     0.022165   \n",
       "3   0.033536  0.023267              0.023351                     0.023279   \n",
       "4   0.040608  0.012206              0.013593                     0.012179   \n",
       "..       ...       ...                   ...                          ...   \n",
       "21  0.197095  0.118203              0.128220                     0.118378   \n",
       "22  0.045746  0.002233              0.002341                     0.002232   \n",
       "23  0.035905  0.002300              0.002307                     0.002298   \n",
       "24  0.119485  0.034103              0.026317                     0.034153   \n",
       "25  0.043754  0.028195              0.025546                     0.028263   \n",
       "\n",
       "    mismeasured_avg_coef_ape  iv_coef_ape  \n",
       "0                   0.033466     0.072065  \n",
       "1                   0.027840     0.046129  \n",
       "2                   0.022167     0.027747  \n",
       "3                   0.023266     0.033536  \n",
       "4                   0.012205     0.031303  \n",
       "..                       ...          ...  \n",
       "21                  0.118203     0.197095  \n",
       "22                  0.002233     0.003264  \n",
       "23                  0.002300     0.003537  \n",
       "24                  0.034108     0.079337  \n",
       "25                  0.028193     0.043754  \n",
       "\n",
       "[26 rows x 16 columns]"
      ],
      "text/html": "<div>\n<style scoped>\n    .dataframe tbody tr th:only-of-type {\n        vertical-align: middle;\n    }\n\n    .dataframe tbody tr th {\n        vertical-align: top;\n    }\n\n    .dataframe thead th {\n        text-align: right;\n    }\n</style>\n<table border=\"1\" class=\"dataframe\">\n  <thead>\n    <tr style=\"text-align: right;\">\n      <th></th>\n      <th>covariance</th>\n      <th>beta1</th>\n      <th>beta2</th>\n      <th>p</th>\n      <th>me_cov</th>\n      <th>mismeasured_coef</th>\n      <th>mismeasured_allvar_coef</th>\n      <th>mismeasured_avg_coef</th>\n      <th>pca_coef</th>\n      <th>true_val_coef</th>\n      <th>iv_coef</th>\n      <th>pca_ape</th>\n      <th>mismeasured_coef_ape</th>\n      <th>mismeasured_allvar_coef_ape</th>\n      <th>mismeasured_avg_coef_ape</th>\n      <th>iv_coef_ape</th>\n    </tr>\n  </thead>\n  <tbody>\n    <tr>\n      <th>0</th>\n      <td>-0.9</td>\n      <td>1.0</td>\n      <td>1.0</td>\n      <td>5</td>\n      <td>0.0</td>\n      <td>0.025681</td>\n      <td>0.033487</td>\n      <td>0.033466</td>\n      <td>0.033463</td>\n      <td>0.043134</td>\n      <td>0.112235</td>\n      <td>0.033463</td>\n      <td>0.025681</td>\n      <td>0.033487</td>\n      <td>0.033466</td>\n      <td>0.072065</td>\n    </tr>\n    <tr>\n      <th>1</th>\n      <td>-0.9</td>\n      <td>1.0</td>\n      <td>1.0</td>\n      <td>5</td>\n      <td>0.5</td>\n      <td>0.025849</td>\n      <td>0.027898</td>\n      <td>0.027840</td>\n      <td>0.027843</td>\n      <td>0.041954</td>\n      <td>0.046129</td>\n      <td>0.027843</td>\n      <td>0.025849</td>\n      <td>0.027898</td>\n      <td>0.027840</td>\n      <td>0.046129</td>\n    </tr>\n    <tr>\n      <th>2</th>\n      <td>-0.5</td>\n      <td>1.0</td>\n      <td>1.0</td>\n      <td>5</td>\n      <td>0.0</td>\n      <td>0.023620</td>\n      <td>0.022165</td>\n      <td>0.022167</td>\n      <td>0.022169</td>\n      <td>0.020904</td>\n      <td>0.041814</td>\n      <td>0.022169</td>\n      <td>0.023620</td>\n      <td>0.022165</td>\n      <td>0.022167</td>\n      <td>0.027747</td>\n    </tr>\n    <tr>\n      <th>3</th>\n      <td>-0.5</td>\n      <td>1.0</td>\n      <td>1.0</td>\n      <td>5</td>\n      <td>0.5</td>\n      <td>0.023351</td>\n      <td>0.023279</td>\n      <td>0.023266</td>\n      <td>0.023267</td>\n      <td>0.021550</td>\n      <td>0.033536</td>\n      <td>0.023267</td>\n      <td>0.023351</td>\n      <td>0.023279</td>\n      <td>0.023266</td>\n      <td>0.033536</td>\n    </tr>\n    <tr>\n      <th>4</th>\n      <td>0.0</td>\n      <td>1.0</td>\n      <td>1.0</td>\n      <td>5</td>\n      <td>0.0</td>\n      <td>0.022605</td>\n      <td>0.020153</td>\n      <td>0.020158</td>\n      <td>0.020158</td>\n      <td>0.018738</td>\n      <td>0.040608</td>\n      <td>0.012206</td>\n      <td>0.013593</td>\n      <td>0.012179</td>\n      <td>0.012205</td>\n      <td>0.031303</td>\n    </tr>\n    <tr>\n      <th>...</th>\n      <td>...</td>\n      <td>...</td>\n      <td>...</td>\n      <td>...</td>\n      <td>...</td>\n      <td>...</td>\n      <td>...</td>\n      <td>...</td>\n      <td>...</td>\n      <td>...</td>\n      <td>...</td>\n      <td>...</td>\n      <td>...</td>\n      <td>...</td>\n      <td>...</td>\n      <td>...</td>\n    </tr>\n    <tr>\n      <th>21</th>\n      <td>0.5</td>\n      <td>1.0</td>\n      <td>10.0</td>\n      <td>5</td>\n      <td>0.5</td>\n      <td>0.128220</td>\n      <td>0.118378</td>\n      <td>0.118203</td>\n      <td>0.118203</td>\n      <td>0.021661</td>\n      <td>0.197095</td>\n      <td>0.118203</td>\n      <td>0.128220</td>\n      <td>0.118378</td>\n      <td>0.118203</td>\n      <td>0.197095</td>\n    </tr>\n    <tr>\n      <th>22</th>\n      <td>0.5</td>\n      <td>10.0</td>\n      <td>1.0</td>\n      <td>5</td>\n      <td>0.0</td>\n      <td>0.023405</td>\n      <td>0.022319</td>\n      <td>0.022331</td>\n      <td>0.022330</td>\n      <td>0.021588</td>\n      <td>0.045746</td>\n      <td>0.002233</td>\n      <td>0.002341</td>\n      <td>0.002232</td>\n      <td>0.002233</td>\n      <td>0.003264</td>\n    </tr>\n    <tr>\n      <th>23</th>\n      <td>0.5</td>\n      <td>10.0</td>\n      <td>1.0</td>\n      <td>5</td>\n      <td>0.5</td>\n      <td>0.023066</td>\n      <td>0.022977</td>\n      <td>0.023001</td>\n      <td>0.023001</td>\n      <td>0.021136</td>\n      <td>0.035905</td>\n      <td>0.002300</td>\n      <td>0.002307</td>\n      <td>0.002298</td>\n      <td>0.002300</td>\n      <td>0.003537</td>\n    </tr>\n    <tr>\n      <th>24</th>\n      <td>0.9</td>\n      <td>1.0</td>\n      <td>1.0</td>\n      <td>5</td>\n      <td>0.0</td>\n      <td>0.026317</td>\n      <td>0.034153</td>\n      <td>0.034108</td>\n      <td>0.034103</td>\n      <td>0.041373</td>\n      <td>0.119485</td>\n      <td>0.034103</td>\n      <td>0.026317</td>\n      <td>0.034153</td>\n      <td>0.034108</td>\n      <td>0.079337</td>\n    </tr>\n    <tr>\n      <th>25</th>\n      <td>0.9</td>\n      <td>1.0</td>\n      <td>1.0</td>\n      <td>5</td>\n      <td>0.5</td>\n      <td>0.025546</td>\n      <td>0.028263</td>\n      <td>0.028193</td>\n      <td>0.028195</td>\n      <td>0.043094</td>\n      <td>0.043754</td>\n      <td>0.028195</td>\n      <td>0.025546</td>\n      <td>0.028263</td>\n      <td>0.028193</td>\n      <td>0.043754</td>\n    </tr>\n  </tbody>\n</table>\n<p>26 rows × 16 columns</p>\n</div>"
     },
     "metadata": {},
     "execution_count": 5
    }
   ],
   "source": [
    "output.groupby(['covariance','beta1','beta2','p','me_cov']).std().reset_index()"
   ]
  },
  {
   "cell_type": "markdown",
   "metadata": {},
   "source": [
    "Code to produce LaTeX tables:"
   ]
  },
  {
   "cell_type": "code",
   "execution_count": 6,
   "metadata": {},
   "outputs": [],
   "source": [
    "# Helper functions for formatting latex output\n",
    "def std_parenth_padder(type_col, col_to_pad):\n",
    "    if type_col == 'std':\n",
    "        return('(' + col_to_pad + ')')\n",
    "    else:\n",
    "        return(col_to_pad)\n",
    "\n",
    "def format_level_0(type_col, col_to_format):\n",
    "    if type_col == 'std':\n",
    "        return('')\n",
    "    else:\n",
    "        return(col_to_format)"
   ]
  },
  {
   "cell_type": "code",
   "execution_count": 7,
   "metadata": {},
   "outputs": [],
   "source": [
    "# Pass this function a pandas dataframe of which to create the LaTeX file\n",
    "# dataframe is the df\n",
    "# filename is the save location\n",
    "# index tells if you want the index saved to the file or not\n",
    "def Minimal_Latex(dataframe, filename, index = False):\n",
    "\n",
    "    # Open file\n",
    "    with open(filename, \"w\") as f:\n",
    "        \n",
    "        # Start from the pandas\n",
    "        corrected_table = dataframe.to_latex(header = False, index = index)\n",
    "\n",
    "        # Strip all material that pandas inserts- the tabular environment and toprule and bottomrule\n",
    "        corrected_table = re.sub(r'\\\\begin.+', '', corrected_table)\n",
    "        corrected_table = re.sub(r'\\\\toprule', '', corrected_table)\n",
    "        corrected_table = re.sub(r'\\\\bottomrule', '', corrected_table)\n",
    "        corrected_table = re.sub(r'\\\\end.+', '', corrected_table)\n",
    "\n",
    "        # Write to file and skip blank lines\n",
    "        f.write(corrected_table.strip())"
   ]
  },
  {
   "cell_type": "code",
   "execution_count": 8,
   "metadata": {},
   "outputs": [],
   "source": [
    "coef_names_mapper = {'mismeasured_coef':'Single Measurement', 'mismeasured_allvar_coef':'All Measurements', 'pca_coef':'PCA', 'mismeasured_avg_coef':'Average of Measurements', 'iv_coef':'Instrumental Variable'}\n",
    "ape_names_mapper = {'mismeasured_coef_ape':'Single Measurement', 'mismeasured_allvar_coef_ape':'All Measurements', 'pca_ape':'PCA', 'mismeasured_avg_coef_ape':'Average of Measurements', 'iv_coef_ape':'Instrumental Variable'}"
   ]
  },
  {
   "cell_type": "code",
   "execution_count": 9,
   "metadata": {},
   "outputs": [],
   "source": [
    "all_params = ['beta1', 'beta2', 'covariance', 'p']\n",
    "pd.set_option('display.max_rows', 25)\n",
    "\n",
    "def make_param_tables(dataframe, parameter, me_cov):\n",
    "\n",
    "    if parameter != 'beta1':\n",
    "        dataframe = dataframe.loc[(dataframe['beta1']==1)]\n",
    "    if parameter != 'beta2':\n",
    "        dataframe = dataframe.loc[(dataframe['beta2']==1)]\n",
    "    if parameter != 'covariance':\n",
    "        dataframe = dataframe.loc[(dataframe['covariance']==0.5)]\n",
    "    if parameter != 'p':\n",
    "        dataframe = dataframe.loc[(dataframe['p']==5)]\n",
    "    dataframe = dataframe.loc[(dataframe['me_cov']==me_cov)]\n",
    "\n",
    "    dataframe = (dataframe.drop(columns = [variable for variable in all_params if variable != parameter])\n",
    "                          .groupby(parameter)\n",
    "                          .agg(['mean', 'std'])\n",
    "                          .transpose()\n",
    "                          .reset_index())\n",
    "\n",
    "    custom_sort_order = ['pca_coef', 'mismeasured_coef', 'mismeasured_allvar_coef', 'mismeasured_avg_coef', 'iv_coef', 'pca_ape', 'mismeasured_coef_ape', 'mismeasured_allvar_coef_ape', 'mismeasured_avg_coef_ape', 'iv_coef_ape']\n",
    "    # Sorted series\n",
    "    sorted_series = pd.Series(custom_sort_order, name = 'level_0').to_frame()\n",
    "    # Use left merge on to return a sorted df\n",
    "    dataframe = (pd.merge(sorted_series, dataframe, on = 'level_0', how = 'left'))\n",
    "\n",
    "    print(dataframe)\n",
    "\n",
    "    dataframe.columns = dataframe.columns.map(str)\n",
    "\n",
    "    dataframe_coefs = dataframe.loc[(dataframe['level_0'].str.contains(\"coef\")) & \n",
    "              (dataframe['level_0'] != \"true_val_coef\") & \n",
    "              (~dataframe['level_0'].str.contains(\"ape\"))].round(3).astype(str)\n",
    "    \n",
    "    for variable in dataframe_coefs.columns:\n",
    "        if variable != 'level_0' and variable != 'level_1':\n",
    "            dataframe_coefs[variable] = dataframe_coefs.apply(lambda x: std_parenth_padder(x['level_1'], x[variable]), axis = 1)\n",
    "\n",
    "    dataframe_coefs['level_0'] = dataframe_coefs.apply(lambda x: format_level_0(x.level_1, x.level_0), axis = 1)\n",
    "\n",
    "    dataframe_coefs = (dataframe_coefs.drop(columns = 'level_1')\n",
    "                                    .replace(coef_names_mapper))\n",
    "\n",
    "    Minimal_Latex(dataframe_coefs, tables_dir + '/parallel_' + parameter + '_coefs_me_cov_' + str(me_cov) + '.tex')\n",
    "\n",
    "    dataframe_apes = dataframe.loc[(dataframe['level_0'].str.contains(\"ape\")) & \n",
    "              (dataframe['level_1'] != \"std\")\n",
    "             ].drop(columns = 'level_1').replace(ape_names_mapper).set_index('level_0').multiply(100).round(1).astype(str).add('%').reset_index()\n",
    "\n",
    "    Minimal_Latex(dataframe_apes, tables_dir + '/parallel_' + parameter + '_apes_me_cov_' + str(me_cov) + '.tex')"
   ]
  },
  {
   "cell_type": "code",
   "execution_count": 10,
   "metadata": {},
   "outputs": [
    {
     "output_type": "stream",
     "name": "stdout",
     "text": [
      "                        level_0 level_1         5        20        50  \\\n0                      pca_coef    mean  1.106490  1.031179  1.012729   \n1                      pca_coef     std  0.022946  0.021573  0.020378   \n2              mismeasured_coef    mean  1.286953  1.286071  1.286487   \n3              mismeasured_coef     std  0.024136  0.023333  0.022735   \n4       mismeasured_allvar_coef    mean  1.106445  1.031205  1.012642   \n5       mismeasured_allvar_coef     std  0.022999  0.021746  0.020582   \n6          mismeasured_avg_coef    mean  1.106478  1.031173  1.012729   \n7          mismeasured_avg_coef     std  0.022941  0.021575  0.020379   \n8                       iv_coef    mean  1.004223  1.005799  1.011180   \n9                       iv_coef     std  0.047309  0.030642  0.029429   \n10                      pca_ape    mean  0.106490  0.032685  0.019487   \n11                      pca_ape     std  0.022946  0.019212  0.014047   \n12         mismeasured_coef_ape    mean  0.286953  0.286071  0.286487   \n13         mismeasured_coef_ape     std  0.024136  0.023333  0.022735   \n14  mismeasured_allvar_coef_ape    mean  0.106445  0.032724  0.019500   \n15  mismeasured_allvar_coef_ape     std  0.022999  0.019381  0.014246   \n16     mismeasured_avg_coef_ape    mean  0.106478  0.032680  0.019487   \n17     mismeasured_avg_coef_ape     std  0.022941  0.019213  0.014048   \n18                  iv_coef_ape    mean  0.033040  0.024877  0.025130   \n19                  iv_coef_ape     std  0.034108  0.018791  0.018947   \n\n         100       500  \n0   1.006105  1.000982  \n1   0.021457  0.021034  \n2   1.285340  1.285898  \n3   0.023499  0.022497  \n4   1.005863  1.001352  \n5   0.021804  0.022351  \n6   1.006103  1.000982  \n7   0.021458  0.021034  \n8   1.019740  1.090611  \n9   0.028915  0.025628  \n10  0.017878  0.016684  \n11  0.013333  0.012836  \n12  0.285340  0.285898  \n13  0.023499  0.022497  \n14  0.018028  0.017687  \n15  0.013582  0.013720  \n16  0.017879  0.016684  \n17  0.013332  0.012836  \n18  0.028260  0.090611  \n19  0.020656  0.025628  \n"
     ]
    }
   ],
   "source": [
    "make_param_tables(output, 'p', 0)"
   ]
  },
  {
   "cell_type": "code",
   "execution_count": 11,
   "metadata": {},
   "outputs": [
    {
     "output_type": "stream",
     "name": "stdout",
     "text": [
      "                        level_0 level_1         5        20        50  \\\n0                      pca_coef    mean  1.222621  1.207045  1.203264   \n1                      pca_coef     std  0.023388  0.022582  0.023342   \n2              mismeasured_coef    mean  1.285861  1.287101  1.286886   \n3              mismeasured_coef     std  0.023817  0.023773  0.024004   \n4       mismeasured_allvar_coef    mean  1.222649  1.207020  1.203209   \n5       mismeasured_allvar_coef     std  0.023387  0.022655  0.023590   \n6          mismeasured_avg_coef    mean  1.222621  1.207045  1.203264   \n7          mismeasured_avg_coef     std  0.023388  0.022583  0.023342   \n8                       iv_coef    mean  1.200907  1.202061  1.203451   \n9                       iv_coef     std  0.033973  0.024736  0.025075   \n10                      pca_ape    mean  0.222621  0.207045  0.203264   \n11                      pca_ape     std  0.023388  0.022582  0.023342   \n12         mismeasured_coef_ape    mean  0.285861  0.287101  0.286886   \n13         mismeasured_coef_ape     std  0.023817  0.023773  0.024004   \n14  mismeasured_allvar_coef_ape    mean  0.222649  0.207020  0.203209   \n15  mismeasured_allvar_coef_ape     std  0.023387  0.022655  0.023590   \n16     mismeasured_avg_coef_ape    mean  0.222621  0.207045  0.203264   \n17     mismeasured_avg_coef_ape     std  0.023388  0.022583  0.023342   \n18                  iv_coef_ape    mean  0.200907  0.202061  0.203451   \n19                  iv_coef_ape     std  0.033973  0.024736  0.025075   \n\n         100       500  \n0   1.201775  1.200441  \n1   0.022742  0.022515  \n2   1.286300  1.285975  \n3   0.023312  0.023510  \n4   1.201731  1.200161  \n5   0.023240  0.024605  \n6   1.201775  1.200441  \n7   0.022742  0.022516  \n8   1.204544  1.218923  \n9   0.024145  0.024226  \n10  0.201775  0.200441  \n11  0.022742  0.022515  \n12  0.286300  0.285975  \n13  0.023312  0.023510  \n14  0.201731  0.200161  \n15  0.023240  0.024605  \n16  0.201775  0.200441  \n17  0.022742  0.022516  \n18  0.204544  0.218923  \n19  0.024145  0.024226  \n"
     ]
    }
   ],
   "source": [
    "make_param_tables(output, 'p', 0.5)"
   ]
  },
  {
   "cell_type": "code",
   "execution_count": 12,
   "metadata": {},
   "outputs": [
    {
     "output_type": "stream",
     "name": "stdout",
     "text": [
      "                        level_0 level_1      -0.9      -0.5       0.0  \\\n0                      pca_coef    mean  0.539684  0.894585  1.000129   \n1                      pca_coef     std  0.033463  0.022169  0.020158   \n2              mismeasured_coef    mean  0.244609  0.713609  0.999618   \n3              mismeasured_coef     std  0.025681  0.023620  0.022605   \n4       mismeasured_allvar_coef    mean  0.539769  0.894665  1.000040   \n5       mismeasured_allvar_coef     std  0.033487  0.022165  0.020153   \n6          mismeasured_avg_coef    mean  0.539725  0.894604  1.000131   \n7          mismeasured_avg_coef     std  0.033466  0.022167  0.020158   \n8                       iv_coef    mean  0.988074  1.001499  1.001184   \n9                       iv_coef     std  0.112235  0.041814  0.040608   \n10                      pca_ape    mean  0.460316  0.105415  0.016035   \n11                      pca_ape     std  0.033463  0.022169  0.012206   \n12         mismeasured_coef_ape    mean  0.755391  0.286391  0.018056   \n13         mismeasured_coef_ape     std  0.025681  0.023620  0.013593   \n14  mismeasured_allvar_coef_ape    mean  0.460231  0.105335  0.016049   \n15  mismeasured_allvar_coef_ape     std  0.033487  0.022165  0.012179   \n16     mismeasured_avg_coef_ape    mean  0.460275  0.105396  0.016035   \n17     mismeasured_avg_coef_ape     std  0.033466  0.022167  0.012205   \n18                  iv_coef_ape    mean  0.086822  0.031302  0.025881   \n19                  iv_coef_ape     std  0.072065  0.027747  0.031303   \n\n         0.5       0.9  \n0   1.106490  1.463185  \n1   0.022946  0.034103  \n2   1.286953  1.757625  \n3   0.024136  0.026317  \n4   1.106445  1.463058  \n5   0.022999  0.034153  \n6   1.106478  1.463151  \n7   0.022941  0.034108  \n8   1.004223  1.007069  \n9   0.047309  0.119485  \n10  0.106490  0.463185  \n11  0.022946  0.034103  \n12  0.286953  0.757625  \n13  0.024136  0.026317  \n14  0.106445  0.463058  \n15  0.022999  0.034153  \n16  0.106478  0.463151  \n17  0.022941  0.034108  \n18  0.033040  0.089578  \n19  0.034108  0.079337  \n"
     ]
    }
   ],
   "source": [
    "make_param_tables(output, 'covariance', 0)"
   ]
  },
  {
   "cell_type": "code",
   "execution_count": 13,
   "metadata": {},
   "outputs": [
    {
     "output_type": "stream",
     "name": "stdout",
     "text": [
      "                        level_0 level_1      -0.9      -0.5       0.0  \\\n0                      pca_coef    mean  0.317515  0.778135  0.999165   \n1                      pca_coef     std  0.027843  0.023267  0.020940   \n2              mismeasured_coef    mean  0.244505  0.714727  0.999329   \n3              mismeasured_coef     std  0.025849  0.023351  0.022149   \n4       mismeasured_allvar_coef    mean  0.317533  0.778112  0.999153   \n5       mismeasured_allvar_coef     std  0.027898  0.023279  0.020955   \n6          mismeasured_avg_coef    mean  0.317517  0.778135  0.999165   \n7          mismeasured_avg_coef     std  0.027840  0.023266  0.020940   \n8                       iv_coef    mean  0.348188  0.799884  0.999172   \n9                       iv_coef     std  0.046129  0.033536  0.030040   \n10                      pca_ape    mean  0.682485  0.221865  0.016482   \n11                      pca_ape     std  0.027843  0.023267  0.012933   \n12         mismeasured_coef_ape    mean  0.755495  0.285273  0.017514   \n13         mismeasured_coef_ape     std  0.025849  0.023351  0.013564   \n14  mismeasured_allvar_coef_ape    mean  0.682467  0.221888  0.016488   \n15  mismeasured_allvar_coef_ape     std  0.027898  0.023279  0.012950   \n16     mismeasured_avg_coef_ape    mean  0.682483  0.221865  0.016482   \n17     mismeasured_avg_coef_ape     std  0.027840  0.023266  0.012932   \n18                  iv_coef_ape    mean  0.651812  0.200116  0.022631   \n19                  iv_coef_ape     std  0.046129  0.033536  0.019760   \n\n         0.5       0.9  \n0   1.222621  1.683470  \n1   0.023388  0.028195  \n2   1.285861  1.756111  \n3   0.023817  0.025546  \n4   1.222649  1.683518  \n5   0.023387  0.028263  \n6   1.222621  1.683470  \n7   0.023388  0.028193  \n8   1.200907  1.652905  \n9   0.033973  0.043754  \n10  0.222621  0.683470  \n11  0.023388  0.028195  \n12  0.285861  0.756111  \n13  0.023817  0.025546  \n14  0.222649  0.683518  \n15  0.023387  0.028263  \n16  0.222621  0.683470  \n17  0.023388  0.028193  \n18  0.200907  0.652905  \n19  0.033973  0.043754  \n"
     ]
    }
   ],
   "source": [
    "make_param_tables(output, 'covariance', 0.5)"
   ]
  },
  {
   "cell_type": "code",
   "execution_count": 14,
   "metadata": {},
   "outputs": [
    {
     "output_type": "stream",
     "name": "stdout",
     "text": [
      "                        level_0 level_1       0.1       1.0       10.0\n0                      pca_coef    mean  0.205077  1.106490  10.105541\n1                      pca_coef     std  0.021574  0.022946   0.022330\n2              mismeasured_coef    mean  0.385004  1.286953  10.285917\n3              mismeasured_coef     std  0.022951  0.024136   0.023405\n4       mismeasured_allvar_coef    mean  0.205062  1.106445  10.105515\n5       mismeasured_allvar_coef     std  0.021592  0.022999   0.022319\n6          mismeasured_avg_coef    mean  0.205067  1.106478  10.105532\n7          mismeasured_avg_coef     std  0.021571  0.022941   0.022331\n8                       iv_coef    mean  0.100248  1.004223  10.000963\n9                       iv_coef     std  0.050883  0.047309   0.045746\n10                      pca_ape    mean  1.050774  0.106490   0.010554\n11                      pca_ape     std  0.215741  0.022946   0.002233\n12         mismeasured_coef_ape    mean  2.850041  0.286953   0.028592\n13         mismeasured_coef_ape     std  0.229513  0.024136   0.002341\n14  mismeasured_allvar_coef_ape    mean  1.050618  0.106445   0.010552\n15  mismeasured_allvar_coef_ape     std  0.215919  0.022999   0.002232\n16     mismeasured_avg_coef_ape    mean  1.050673  0.106478   0.010553\n17     mismeasured_avg_coef_ape     std  0.215707  0.022941   0.002233\n18                  iv_coef_ape    mean  0.320401  0.033040   0.003205\n19                  iv_coef_ape     std  0.395158  0.034108   0.003264\n"
     ]
    }
   ],
   "source": [
    "make_param_tables(output, 'beta1', 0)"
   ]
  },
  {
   "cell_type": "code",
   "execution_count": 15,
   "metadata": {},
   "outputs": [
    {
     "output_type": "stream",
     "name": "stdout",
     "text": [
      "                        level_0 level_1       0.1       1.0       10.0\n0                      pca_coef    mean  0.321940  1.222621  10.221466\n1                      pca_coef     std  0.022790  0.023388   0.023001\n2              mismeasured_coef    mean  0.385385  1.285861  10.284682\n3              mismeasured_coef     std  0.022906  0.023817   0.023066\n4       mismeasured_allvar_coef    mean  0.321878  1.222649  10.221437\n5       mismeasured_allvar_coef     std  0.022800  0.023387   0.022977\n6          mismeasured_avg_coef    mean  0.321940  1.222621  10.221464\n7          mismeasured_avg_coef     std  0.022788  0.023388   0.023001\n8                       iv_coef    mean  0.299380  1.200907  10.199132\n9                       iv_coef     std  0.034875  0.033973   0.035905\n10                      pca_ape    mean  2.219400  0.222621   0.022147\n11                      pca_ape     std  0.227896  0.023388   0.002300\n12         mismeasured_coef_ape    mean  2.853849  0.285861   0.028468\n13         mismeasured_coef_ape     std  0.229061  0.023817   0.002307\n14  mismeasured_allvar_coef_ape    mean  2.218784  0.222649   0.022144\n15  mismeasured_allvar_coef_ape     std  0.227999  0.023387   0.002298\n16     mismeasured_avg_coef_ape    mean  2.219395  0.222621   0.022146\n17     mismeasured_avg_coef_ape     std  0.227880  0.023388   0.002300\n18                  iv_coef_ape    mean  1.995881  0.200907   0.019923\n19                  iv_coef_ape     std  0.336636  0.033973   0.003537\n"
     ]
    }
   ],
   "source": [
    "make_param_tables(output, 'beta1', 0.5)"
   ]
  },
  {
   "cell_type": "code",
   "execution_count": 16,
   "metadata": {},
   "outputs": [
    {
     "output_type": "stream",
     "name": "stdout",
     "text": [
      "                        level_0 level_1       0.1       1.0      10.0\n0                      pca_coef    mean  1.009906  1.106490  2.051401\n1                      pca_coef     std  0.020499  0.022946  0.085536\n2              mismeasured_coef    mean  1.028163  1.286953  3.850861\n3              mismeasured_coef     std  0.019714  0.024136  0.127395\n4       mismeasured_allvar_coef    mean  1.009913  1.106445  2.051428\n5       mismeasured_allvar_coef     std  0.020532  0.022999  0.085623\n6          mismeasured_avg_coef    mean  1.009903  1.106478  2.051352\n7          mismeasured_avg_coef     std  0.020500  0.022941  0.085552\n8                       iv_coef    mean  0.999995  1.004223  0.986643\n9                       iv_coef     std  0.029880  0.047309  0.329893\n10                      pca_ape    mean  0.018274  0.106490  1.051401\n11                      pca_ape     std  0.013570  0.022946  0.085536\n12         mismeasured_coef_ape    mean  0.029482  0.286953  2.850861\n13         mismeasured_coef_ape     std  0.017680  0.024136  0.127395\n14  mismeasured_allvar_coef_ape    mean  0.018283  0.106445  1.051428\n15  mismeasured_allvar_coef_ape     std  0.013614  0.022999  0.085623\n16     mismeasured_avg_coef_ape    mean  0.018274  0.106478  1.051352\n17     mismeasured_avg_coef_ape     std  0.013570  0.022941  0.085552\n18                  iv_coef_ape    mean  0.022135  0.033040  0.220608\n19                  iv_coef_ape     std  0.020059  0.034108  0.245543\n"
     ]
    }
   ],
   "source": [
    "make_param_tables(output, 'beta2', 0)"
   ]
  },
  {
   "cell_type": "code",
   "execution_count": 17,
   "metadata": {},
   "outputs": [
    {
     "output_type": "stream",
     "name": "stdout",
     "text": [
      "                        level_0 level_1       0.1       1.0      10.0\n0                      pca_coef    mean  1.021867  1.222621  3.222679\n1                      pca_coef     std  0.020872  0.023388  0.118203\n2              mismeasured_coef    mean  1.028250  1.285861  3.858676\n3              mismeasured_coef     std  0.020349  0.023817  0.128220\n4       mismeasured_allvar_coef    mean  1.021893  1.222649  3.222745\n5       mismeasured_allvar_coef     std  0.020904  0.023387  0.118378\n6          mismeasured_avg_coef    mean  1.021866  1.222621  3.222666\n7          mismeasured_avg_coef     std  0.020871  0.023388  0.118203\n8                       iv_coef    mean  1.019572  1.200907  3.000036\n9                       iv_coef     std  0.025876  0.033973  0.197095\n10                      pca_ape    mean  0.025084  0.222621  2.222679\n11                      pca_ape     std  0.016865  0.023388  0.118203\n12         mismeasured_coef_ape    mean  0.029761  0.285861  2.858676\n13         mismeasured_coef_ape     std  0.018065  0.023817  0.128220\n14  mismeasured_allvar_coef_ape    mean  0.025123  0.222649  2.222745\n15  mismeasured_allvar_coef_ape     std  0.016882  0.023387  0.118378\n16     mismeasured_avg_coef_ape    mean  0.025083  0.222621  2.222666\n17     mismeasured_avg_coef_ape     std  0.016864  0.023388  0.118203\n18                  iv_coef_ape    mean  0.025865  0.200907  2.000036\n19                  iv_coef_ape     std  0.019578  0.033973  0.197095\n"
     ]
    }
   ],
   "source": [
    "make_param_tables(output, 'beta2', 0.5)"
   ]
  }
 ],
 "metadata": {
  "kernelspec": {
   "name": "python388jvsc74a57bd0d8e5f08eda4f9cddc19de05071e25a43923763e5e5799e90c26e70a4345f4abb",
   "display_name": "Python 3.8.8 64-bit ('econ31330-env': conda)"
  },
  "language_info": {
   "codemirror_mode": {
    "name": "ipython",
    "version": 3
   },
   "file_extension": ".py",
   "mimetype": "text/x-python",
   "name": "python",
   "nbconvert_exporter": "python",
   "pygments_lexer": "ipython3",
   "version": "3.8.8"
  }
 },
 "nbformat": 4,
 "nbformat_minor": 2
}