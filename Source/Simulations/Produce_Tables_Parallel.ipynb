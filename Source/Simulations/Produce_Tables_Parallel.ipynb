{
 "cells": [
  {
   "cell_type": "code",
   "execution_count": 11,
   "metadata": {},
   "outputs": [],
   "source": [
    "# Directory structure\n",
    "import os\n",
    "repo_dir = os.path.join(os.path.abspath(''), '../..')\n",
    "input_dir = repo_dir + \"/Input\"\n",
    "output_dir = repo_dir + \"/Output\"\n",
    "figures_dir = output_dir + \"/Figures\"\n",
    "tables_dir = output_dir + \"/Tables\"\n",
    "sim_results_dir = output_dir + \"/Sim_Results\"\n",
    "\n",
    "# Packages\n",
    "import pandas as pd\n",
    "import regex as re\n",
    "\n",
    "pd.set_option('display.max_rows', 10)"
   ]
  },
  {
   "cell_type": "code",
   "execution_count": 12,
   "metadata": {},
   "outputs": [
    {
     "output_type": "execute_result",
     "data": {
      "text/plain": [
       "       mismeasured_coef  mismeasured_allvar_coef  mismeasured_avg_coef  \\\n",
       "0              1.258907                 0.994984              0.995512   \n",
       "1              1.303144                 1.027359              1.030105   \n",
       "2              1.298394                 1.023039              1.019092   \n",
       "3              1.278629                 1.004832              1.005801   \n",
       "4              1.263698                 1.002708              0.998260   \n",
       "...                 ...                      ...                   ...   \n",
       "83995          1.028988                 1.012727              1.032215   \n",
       "83996          1.034926                 1.018605              1.027716   \n",
       "83997          1.045243                 1.036660              1.053988   \n",
       "83998          1.037201                 1.020060              1.033452   \n",
       "83999          1.000978                 0.990729              1.008512   \n",
       "\n",
       "       pca_coef  true_val_coef   iv_coef     N  covariance  beta1  beta2    p  \\\n",
       "0      0.995570       0.985844  1.013118  3000         0.5    1.0    1.0  100   \n",
       "1      1.030062       1.026494  1.020495  3000         0.5    1.0    1.0  100   \n",
       "2      1.019074       1.010985  1.037289  3000         0.5    1.0    1.0  100   \n",
       "3      1.005790       0.994954  0.994906  3000         0.5    1.0    1.0  100   \n",
       "4      0.998231       0.988728  0.965832  3000         0.5    1.0    1.0  100   \n",
       "...         ...            ...       ...   ...         ...    ...    ...  ...   \n",
       "83995  1.016543       0.997789  0.986813  3000         0.5    1.0    0.1    5   \n",
       "83996  1.017988       1.013761  1.009526  3000         0.5    1.0    0.1    5   \n",
       "83997  1.042359       1.007229  1.021585  3000         0.5    1.0    0.1    5   \n",
       "83998  1.022082       1.008547  1.001602  3000         0.5    1.0    0.1    5   \n",
       "83999  0.995376       0.962756  0.972373  3000         0.5    1.0    0.1    5   \n",
       "\n",
       "       me_cov exp_of_var  \n",
       "0         0.0         no  \n",
       "1         0.0         no  \n",
       "2         0.0         no  \n",
       "3         0.0         no  \n",
       "4         0.0         no  \n",
       "...       ...        ...  \n",
       "83995     0.0        yes  \n",
       "83996     0.0        yes  \n",
       "83997     0.0        yes  \n",
       "83998     0.0        yes  \n",
       "83999     0.0        yes  \n",
       "\n",
       "[84000 rows x 13 columns]"
      ],
      "text/html": "<div>\n<style scoped>\n    .dataframe tbody tr th:only-of-type {\n        vertical-align: middle;\n    }\n\n    .dataframe tbody tr th {\n        vertical-align: top;\n    }\n\n    .dataframe thead th {\n        text-align: right;\n    }\n</style>\n<table border=\"1\" class=\"dataframe\">\n  <thead>\n    <tr style=\"text-align: right;\">\n      <th></th>\n      <th>mismeasured_coef</th>\n      <th>mismeasured_allvar_coef</th>\n      <th>mismeasured_avg_coef</th>\n      <th>pca_coef</th>\n      <th>true_val_coef</th>\n      <th>iv_coef</th>\n      <th>N</th>\n      <th>covariance</th>\n      <th>beta1</th>\n      <th>beta2</th>\n      <th>p</th>\n      <th>me_cov</th>\n      <th>exp_of_var</th>\n    </tr>\n  </thead>\n  <tbody>\n    <tr>\n      <th>0</th>\n      <td>1.258907</td>\n      <td>0.994984</td>\n      <td>0.995512</td>\n      <td>0.995570</td>\n      <td>0.985844</td>\n      <td>1.013118</td>\n      <td>3000</td>\n      <td>0.5</td>\n      <td>1.0</td>\n      <td>1.0</td>\n      <td>100</td>\n      <td>0.0</td>\n      <td>no</td>\n    </tr>\n    <tr>\n      <th>1</th>\n      <td>1.303144</td>\n      <td>1.027359</td>\n      <td>1.030105</td>\n      <td>1.030062</td>\n      <td>1.026494</td>\n      <td>1.020495</td>\n      <td>3000</td>\n      <td>0.5</td>\n      <td>1.0</td>\n      <td>1.0</td>\n      <td>100</td>\n      <td>0.0</td>\n      <td>no</td>\n    </tr>\n    <tr>\n      <th>2</th>\n      <td>1.298394</td>\n      <td>1.023039</td>\n      <td>1.019092</td>\n      <td>1.019074</td>\n      <td>1.010985</td>\n      <td>1.037289</td>\n      <td>3000</td>\n      <td>0.5</td>\n      <td>1.0</td>\n      <td>1.0</td>\n      <td>100</td>\n      <td>0.0</td>\n      <td>no</td>\n    </tr>\n    <tr>\n      <th>3</th>\n      <td>1.278629</td>\n      <td>1.004832</td>\n      <td>1.005801</td>\n      <td>1.005790</td>\n      <td>0.994954</td>\n      <td>0.994906</td>\n      <td>3000</td>\n      <td>0.5</td>\n      <td>1.0</td>\n      <td>1.0</td>\n      <td>100</td>\n      <td>0.0</td>\n      <td>no</td>\n    </tr>\n    <tr>\n      <th>4</th>\n      <td>1.263698</td>\n      <td>1.002708</td>\n      <td>0.998260</td>\n      <td>0.998231</td>\n      <td>0.988728</td>\n      <td>0.965832</td>\n      <td>3000</td>\n      <td>0.5</td>\n      <td>1.0</td>\n      <td>1.0</td>\n      <td>100</td>\n      <td>0.0</td>\n      <td>no</td>\n    </tr>\n    <tr>\n      <th>...</th>\n      <td>...</td>\n      <td>...</td>\n      <td>...</td>\n      <td>...</td>\n      <td>...</td>\n      <td>...</td>\n      <td>...</td>\n      <td>...</td>\n      <td>...</td>\n      <td>...</td>\n      <td>...</td>\n      <td>...</td>\n      <td>...</td>\n    </tr>\n    <tr>\n      <th>83995</th>\n      <td>1.028988</td>\n      <td>1.012727</td>\n      <td>1.032215</td>\n      <td>1.016543</td>\n      <td>0.997789</td>\n      <td>0.986813</td>\n      <td>3000</td>\n      <td>0.5</td>\n      <td>1.0</td>\n      <td>0.1</td>\n      <td>5</td>\n      <td>0.0</td>\n      <td>yes</td>\n    </tr>\n    <tr>\n      <th>83996</th>\n      <td>1.034926</td>\n      <td>1.018605</td>\n      <td>1.027716</td>\n      <td>1.017988</td>\n      <td>1.013761</td>\n      <td>1.009526</td>\n      <td>3000</td>\n      <td>0.5</td>\n      <td>1.0</td>\n      <td>0.1</td>\n      <td>5</td>\n      <td>0.0</td>\n      <td>yes</td>\n    </tr>\n    <tr>\n      <th>83997</th>\n      <td>1.045243</td>\n      <td>1.036660</td>\n      <td>1.053988</td>\n      <td>1.042359</td>\n      <td>1.007229</td>\n      <td>1.021585</td>\n      <td>3000</td>\n      <td>0.5</td>\n      <td>1.0</td>\n      <td>0.1</td>\n      <td>5</td>\n      <td>0.0</td>\n      <td>yes</td>\n    </tr>\n    <tr>\n      <th>83998</th>\n      <td>1.037201</td>\n      <td>1.020060</td>\n      <td>1.033452</td>\n      <td>1.022082</td>\n      <td>1.008547</td>\n      <td>1.001602</td>\n      <td>3000</td>\n      <td>0.5</td>\n      <td>1.0</td>\n      <td>0.1</td>\n      <td>5</td>\n      <td>0.0</td>\n      <td>yes</td>\n    </tr>\n    <tr>\n      <th>83999</th>\n      <td>1.000978</td>\n      <td>0.990729</td>\n      <td>1.008512</td>\n      <td>0.995376</td>\n      <td>0.962756</td>\n      <td>0.972373</td>\n      <td>3000</td>\n      <td>0.5</td>\n      <td>1.0</td>\n      <td>0.1</td>\n      <td>5</td>\n      <td>0.0</td>\n      <td>yes</td>\n    </tr>\n  </tbody>\n</table>\n<p>84000 rows × 13 columns</p>\n</div>"
     },
     "metadata": {},
     "execution_count": 12
    }
   ],
   "source": [
    "output = (pd.read_csv(sim_results_dir + '/parallel_results.csv', index_col=0)\n",
    "            .reset_index())\n",
    "output"
   ]
  },
  {
   "cell_type": "code",
   "execution_count": 13,
   "metadata": {},
   "outputs": [],
   "source": [
    "output['pca_ape'] = (output['pca_coef'] - output['beta1']).abs()/output['beta1']\n",
    "output['mismeasured_coef_ape'] = (output['mismeasured_coef'] - output['beta1']).abs()/output['beta1']\n",
    "output['mismeasured_allvar_coef_ape'] = (output['mismeasured_allvar_coef'] - output['beta1']).abs()/output['beta1']\n",
    "output['mismeasured_avg_coef_ape'] = (output['mismeasured_avg_coef'] - output['beta1']).abs()/output['beta1']\n",
    "output['iv_coef_ape'] = (output['iv_coef'] - output['beta1']).abs()/output['beta1']"
   ]
  },
  {
   "cell_type": "code",
   "execution_count": 14,
   "metadata": {},
   "outputs": [
    {
     "output_type": "execute_result",
     "data": {
      "text/plain": [
       "       N  covariance  beta1  beta2  p  me_cov exp_of_var  mismeasured_coef  \\\n",
       "0    100        -0.9    1.0    1.0  5     0.0         no          0.244271   \n",
       "1    100        -0.9    1.0    1.0  5     0.0        yes          0.241028   \n",
       "2    100        -0.5    1.0    1.0  5     0.0         no          0.715199   \n",
       "3    100        -0.5    1.0    1.0  5     0.0        yes          0.716898   \n",
       "4    100         0.0    1.0    1.0  5     0.0         no          0.998222   \n",
       "..   ...         ...    ...    ... ..     ...        ...               ...   \n",
       "79  3000         0.5    1.0   10.0  5     0.0        yes          3.852661   \n",
       "80  3000         0.5   10.0    1.0  5     0.0         no         10.285355   \n",
       "81  3000         0.5   10.0    1.0  5     0.0        yes         10.287009   \n",
       "82  3000         0.9    1.0    1.0  5     0.0         no          1.756364   \n",
       "83  3000         0.9    1.0    1.0  5     0.0        yes          1.756749   \n",
       "\n",
       "    mismeasured_allvar_coef  mismeasured_avg_coef   pca_coef  true_val_coef  \\\n",
       "0                  0.539954              0.539385   0.538377       0.994583   \n",
       "1                  0.407624              0.245564   0.364504       0.991750   \n",
       "2                  0.896346              0.895815   0.895362       0.999537   \n",
       "3                  0.841366              0.719386   0.815228       1.002993   \n",
       "4                  0.995920              0.995989   0.995991       0.996594   \n",
       "..                      ...                   ...        ...            ...   \n",
       "79                 2.732120              4.228373   3.082330       0.999671   \n",
       "80                10.105541             10.105528  10.105536      10.000297   \n",
       "81                10.173990             10.323773  10.208644      10.000377   \n",
       "82                 1.461504              1.461513   1.461554       1.000558   \n",
       "83                 1.610593              1.791667   1.665807       0.999619   \n",
       "\n",
       "      iv_coef   pca_ape  mismeasured_coef_ape  mismeasured_allvar_coef_ape  \\\n",
       "0    0.763301  0.462214              0.755729                     0.461053   \n",
       "1    0.609376  0.635496              0.758972                     0.592376   \n",
       "2    0.986199  0.131858              0.286570                     0.133047   \n",
       "3    0.985501  0.194672              0.283739                     0.173768   \n",
       "4    0.995546  0.087842              0.102054                     0.090437   \n",
       "..        ...       ...                   ...                          ...   \n",
       "79   1.000901  2.082330              2.852661                     1.732120   \n",
       "80  10.000942  0.010554              0.028536                     0.010554   \n",
       "81  10.000127  0.020864              0.028701                     0.017399   \n",
       "82   1.001599  0.461554              0.756364                     0.461504   \n",
       "83   1.013566  0.665807              0.756749                     0.610593   \n",
       "\n",
       "    mismeasured_avg_coef_ape  iv_coef_ape  \n",
       "0                   0.461199     0.461351  \n",
       "1                   0.754436     0.581567  \n",
       "2                   0.131629     0.176457  \n",
       "3                   0.282358     0.159729  \n",
       "4                   0.087850     0.152534  \n",
       "..                       ...          ...  \n",
       "79                  3.228373     0.190072  \n",
       "80                  0.010553     0.003204  \n",
       "81                  0.032377     0.002827  \n",
       "82                  0.461513     0.087492  \n",
       "83                  0.791667     0.110249  \n",
       "\n",
       "[84 rows x 18 columns]"
      ],
      "text/html": "<div>\n<style scoped>\n    .dataframe tbody tr th:only-of-type {\n        vertical-align: middle;\n    }\n\n    .dataframe tbody tr th {\n        vertical-align: top;\n    }\n\n    .dataframe thead th {\n        text-align: right;\n    }\n</style>\n<table border=\"1\" class=\"dataframe\">\n  <thead>\n    <tr style=\"text-align: right;\">\n      <th></th>\n      <th>N</th>\n      <th>covariance</th>\n      <th>beta1</th>\n      <th>beta2</th>\n      <th>p</th>\n      <th>me_cov</th>\n      <th>exp_of_var</th>\n      <th>mismeasured_coef</th>\n      <th>mismeasured_allvar_coef</th>\n      <th>mismeasured_avg_coef</th>\n      <th>pca_coef</th>\n      <th>true_val_coef</th>\n      <th>iv_coef</th>\n      <th>pca_ape</th>\n      <th>mismeasured_coef_ape</th>\n      <th>mismeasured_allvar_coef_ape</th>\n      <th>mismeasured_avg_coef_ape</th>\n      <th>iv_coef_ape</th>\n    </tr>\n  </thead>\n  <tbody>\n    <tr>\n      <th>0</th>\n      <td>100</td>\n      <td>-0.9</td>\n      <td>1.0</td>\n      <td>1.0</td>\n      <td>5</td>\n      <td>0.0</td>\n      <td>no</td>\n      <td>0.244271</td>\n      <td>0.539954</td>\n      <td>0.539385</td>\n      <td>0.538377</td>\n      <td>0.994583</td>\n      <td>0.763301</td>\n      <td>0.462214</td>\n      <td>0.755729</td>\n      <td>0.461053</td>\n      <td>0.461199</td>\n      <td>0.461351</td>\n    </tr>\n    <tr>\n      <th>1</th>\n      <td>100</td>\n      <td>-0.9</td>\n      <td>1.0</td>\n      <td>1.0</td>\n      <td>5</td>\n      <td>0.0</td>\n      <td>yes</td>\n      <td>0.241028</td>\n      <td>0.407624</td>\n      <td>0.245564</td>\n      <td>0.364504</td>\n      <td>0.991750</td>\n      <td>0.609376</td>\n      <td>0.635496</td>\n      <td>0.758972</td>\n      <td>0.592376</td>\n      <td>0.754436</td>\n      <td>0.581567</td>\n    </tr>\n    <tr>\n      <th>2</th>\n      <td>100</td>\n      <td>-0.5</td>\n      <td>1.0</td>\n      <td>1.0</td>\n      <td>5</td>\n      <td>0.0</td>\n      <td>no</td>\n      <td>0.715199</td>\n      <td>0.896346</td>\n      <td>0.895815</td>\n      <td>0.895362</td>\n      <td>0.999537</td>\n      <td>0.986199</td>\n      <td>0.131858</td>\n      <td>0.286570</td>\n      <td>0.133047</td>\n      <td>0.131629</td>\n      <td>0.176457</td>\n    </tr>\n    <tr>\n      <th>3</th>\n      <td>100</td>\n      <td>-0.5</td>\n      <td>1.0</td>\n      <td>1.0</td>\n      <td>5</td>\n      <td>0.0</td>\n      <td>yes</td>\n      <td>0.716898</td>\n      <td>0.841366</td>\n      <td>0.719386</td>\n      <td>0.815228</td>\n      <td>1.002993</td>\n      <td>0.985501</td>\n      <td>0.194672</td>\n      <td>0.283739</td>\n      <td>0.173768</td>\n      <td>0.282358</td>\n      <td>0.159729</td>\n    </tr>\n    <tr>\n      <th>4</th>\n      <td>100</td>\n      <td>0.0</td>\n      <td>1.0</td>\n      <td>1.0</td>\n      <td>5</td>\n      <td>0.0</td>\n      <td>no</td>\n      <td>0.998222</td>\n      <td>0.995920</td>\n      <td>0.995989</td>\n      <td>0.995991</td>\n      <td>0.996594</td>\n      <td>0.995546</td>\n      <td>0.087842</td>\n      <td>0.102054</td>\n      <td>0.090437</td>\n      <td>0.087850</td>\n      <td>0.152534</td>\n    </tr>\n    <tr>\n      <th>...</th>\n      <td>...</td>\n      <td>...</td>\n      <td>...</td>\n      <td>...</td>\n      <td>...</td>\n      <td>...</td>\n      <td>...</td>\n      <td>...</td>\n      <td>...</td>\n      <td>...</td>\n      <td>...</td>\n      <td>...</td>\n      <td>...</td>\n      <td>...</td>\n      <td>...</td>\n      <td>...</td>\n      <td>...</td>\n      <td>...</td>\n    </tr>\n    <tr>\n      <th>79</th>\n      <td>3000</td>\n      <td>0.5</td>\n      <td>1.0</td>\n      <td>10.0</td>\n      <td>5</td>\n      <td>0.0</td>\n      <td>yes</td>\n      <td>3.852661</td>\n      <td>2.732120</td>\n      <td>4.228373</td>\n      <td>3.082330</td>\n      <td>0.999671</td>\n      <td>1.000901</td>\n      <td>2.082330</td>\n      <td>2.852661</td>\n      <td>1.732120</td>\n      <td>3.228373</td>\n      <td>0.190072</td>\n    </tr>\n    <tr>\n      <th>80</th>\n      <td>3000</td>\n      <td>0.5</td>\n      <td>10.0</td>\n      <td>1.0</td>\n      <td>5</td>\n      <td>0.0</td>\n      <td>no</td>\n      <td>10.285355</td>\n      <td>10.105541</td>\n      <td>10.105528</td>\n      <td>10.105536</td>\n      <td>10.000297</td>\n      <td>10.000942</td>\n      <td>0.010554</td>\n      <td>0.028536</td>\n      <td>0.010554</td>\n      <td>0.010553</td>\n      <td>0.003204</td>\n    </tr>\n    <tr>\n      <th>81</th>\n      <td>3000</td>\n      <td>0.5</td>\n      <td>10.0</td>\n      <td>1.0</td>\n      <td>5</td>\n      <td>0.0</td>\n      <td>yes</td>\n      <td>10.287009</td>\n      <td>10.173990</td>\n      <td>10.323773</td>\n      <td>10.208644</td>\n      <td>10.000377</td>\n      <td>10.000127</td>\n      <td>0.020864</td>\n      <td>0.028701</td>\n      <td>0.017399</td>\n      <td>0.032377</td>\n      <td>0.002827</td>\n    </tr>\n    <tr>\n      <th>82</th>\n      <td>3000</td>\n      <td>0.9</td>\n      <td>1.0</td>\n      <td>1.0</td>\n      <td>5</td>\n      <td>0.0</td>\n      <td>no</td>\n      <td>1.756364</td>\n      <td>1.461504</td>\n      <td>1.461513</td>\n      <td>1.461554</td>\n      <td>1.000558</td>\n      <td>1.001599</td>\n      <td>0.461554</td>\n      <td>0.756364</td>\n      <td>0.461504</td>\n      <td>0.461513</td>\n      <td>0.087492</td>\n    </tr>\n    <tr>\n      <th>83</th>\n      <td>3000</td>\n      <td>0.9</td>\n      <td>1.0</td>\n      <td>1.0</td>\n      <td>5</td>\n      <td>0.0</td>\n      <td>yes</td>\n      <td>1.756749</td>\n      <td>1.610593</td>\n      <td>1.791667</td>\n      <td>1.665807</td>\n      <td>0.999619</td>\n      <td>1.013566</td>\n      <td>0.665807</td>\n      <td>0.756749</td>\n      <td>0.610593</td>\n      <td>0.791667</td>\n      <td>0.110249</td>\n    </tr>\n  </tbody>\n</table>\n<p>84 rows × 18 columns</p>\n</div>"
     },
     "metadata": {},
     "execution_count": 14
    }
   ],
   "source": [
    "output.groupby(['N','covariance','beta1','beta2','p','me_cov','exp_of_var']).mean().reset_index()"
   ]
  },
  {
   "cell_type": "code",
   "execution_count": 15,
   "metadata": {},
   "outputs": [
    {
     "output_type": "execute_result",
     "data": {
      "text/plain": [
       "       N  covariance  beta1  beta2  p  me_cov exp_of_var  mismeasured_coef  \\\n",
       "0    100        -0.9    1.0    1.0  5     0.0         no          0.139689   \n",
       "1    100        -0.9    1.0    1.0  5     0.0        yes          0.146447   \n",
       "2    100        -0.5    1.0    1.0  5     0.0         no          0.130305   \n",
       "3    100        -0.5    1.0    1.0  5     0.0        yes          0.132907   \n",
       "4    100         0.0    1.0    1.0  5     0.0         no          0.128664   \n",
       "..   ...         ...    ...    ... ..     ...        ...               ...   \n",
       "79  3000         0.5    1.0   10.0  5     0.0        yes          0.123301   \n",
       "80  3000         0.5   10.0    1.0  5     0.0         no          0.023209   \n",
       "81  3000         0.5   10.0    1.0  5     0.0        yes          0.023445   \n",
       "82  3000         0.9    1.0    1.0  5     0.0         no          0.025890   \n",
       "83  3000         0.9    1.0    1.0  5     0.0        yes          0.025745   \n",
       "\n",
       "    mismeasured_allvar_coef  mismeasured_avg_coef  pca_coef  true_val_coef  \\\n",
       "0                  0.191317              0.185589  0.185598       0.230841   \n",
       "1                  0.175803              0.150031  0.166307       0.235432   \n",
       "2                  0.127571              0.125197  0.125112       0.118568   \n",
       "3                  0.134399              0.143703  0.133919       0.121091   \n",
       "4                  0.113164              0.110298  0.110276       0.100044   \n",
       "..                      ...                   ...       ...            ...   \n",
       "79                 0.104589              0.279723  0.173668       0.020937   \n",
       "80                 0.021497              0.021496  0.021496       0.020425   \n",
       "81                 0.023416              0.035432  0.027027       0.021520   \n",
       "82                 0.034001              0.033964  0.033973       0.042889   \n",
       "83                 0.030973              0.032969  0.034644       0.041470   \n",
       "\n",
       "     iv_coef   pca_ape  mismeasured_coef_ape  mismeasured_allvar_coef_ape  \\\n",
       "0   0.742724  0.184119              0.139689                     0.188876   \n",
       "1   0.668788  0.166307              0.146447                     0.175802   \n",
       "2   0.244185  0.095964              0.126363                     0.096487   \n",
       "3   0.201727  0.119056              0.131542                     0.114140   \n",
       "4   0.219877  0.066730              0.078308                     0.068086   \n",
       "..       ...       ...                   ...                          ...   \n",
       "79  0.237792  0.173668              0.123301                     0.104589   \n",
       "80  0.044708  0.002150              0.002321                     0.002150   \n",
       "81  0.035520  0.002703              0.002344                     0.002342   \n",
       "82  0.115456  0.033973              0.025890                     0.034001   \n",
       "83  0.138092  0.034644              0.025745                     0.030973   \n",
       "\n",
       "    mismeasured_avg_coef_ape  iv_coef_ape  \n",
       "0                   0.184132     0.628223  \n",
       "1                   0.150031     0.511329  \n",
       "2                   0.095897     0.169259  \n",
       "3                   0.140240     0.123957  \n",
       "4                   0.066756     0.158353  \n",
       "..                       ...          ...  \n",
       "79                  0.279723     0.142767  \n",
       "80                  0.002150     0.003118  \n",
       "81                  0.003543     0.002149  \n",
       "82                  0.033964     0.075301  \n",
       "83                  0.032969     0.084183  \n",
       "\n",
       "[84 rows x 18 columns]"
      ],
      "text/html": "<div>\n<style scoped>\n    .dataframe tbody tr th:only-of-type {\n        vertical-align: middle;\n    }\n\n    .dataframe tbody tr th {\n        vertical-align: top;\n    }\n\n    .dataframe thead th {\n        text-align: right;\n    }\n</style>\n<table border=\"1\" class=\"dataframe\">\n  <thead>\n    <tr style=\"text-align: right;\">\n      <th></th>\n      <th>N</th>\n      <th>covariance</th>\n      <th>beta1</th>\n      <th>beta2</th>\n      <th>p</th>\n      <th>me_cov</th>\n      <th>exp_of_var</th>\n      <th>mismeasured_coef</th>\n      <th>mismeasured_allvar_coef</th>\n      <th>mismeasured_avg_coef</th>\n      <th>pca_coef</th>\n      <th>true_val_coef</th>\n      <th>iv_coef</th>\n      <th>pca_ape</th>\n      <th>mismeasured_coef_ape</th>\n      <th>mismeasured_allvar_coef_ape</th>\n      <th>mismeasured_avg_coef_ape</th>\n      <th>iv_coef_ape</th>\n    </tr>\n  </thead>\n  <tbody>\n    <tr>\n      <th>0</th>\n      <td>100</td>\n      <td>-0.9</td>\n      <td>1.0</td>\n      <td>1.0</td>\n      <td>5</td>\n      <td>0.0</td>\n      <td>no</td>\n      <td>0.139689</td>\n      <td>0.191317</td>\n      <td>0.185589</td>\n      <td>0.185598</td>\n      <td>0.230841</td>\n      <td>0.742724</td>\n      <td>0.184119</td>\n      <td>0.139689</td>\n      <td>0.188876</td>\n      <td>0.184132</td>\n      <td>0.628223</td>\n    </tr>\n    <tr>\n      <th>1</th>\n      <td>100</td>\n      <td>-0.9</td>\n      <td>1.0</td>\n      <td>1.0</td>\n      <td>5</td>\n      <td>0.0</td>\n      <td>yes</td>\n      <td>0.146447</td>\n      <td>0.175803</td>\n      <td>0.150031</td>\n      <td>0.166307</td>\n      <td>0.235432</td>\n      <td>0.668788</td>\n      <td>0.166307</td>\n      <td>0.146447</td>\n      <td>0.175802</td>\n      <td>0.150031</td>\n      <td>0.511329</td>\n    </tr>\n    <tr>\n      <th>2</th>\n      <td>100</td>\n      <td>-0.5</td>\n      <td>1.0</td>\n      <td>1.0</td>\n      <td>5</td>\n      <td>0.0</td>\n      <td>no</td>\n      <td>0.130305</td>\n      <td>0.127571</td>\n      <td>0.125197</td>\n      <td>0.125112</td>\n      <td>0.118568</td>\n      <td>0.244185</td>\n      <td>0.095964</td>\n      <td>0.126363</td>\n      <td>0.096487</td>\n      <td>0.095897</td>\n      <td>0.169259</td>\n    </tr>\n    <tr>\n      <th>3</th>\n      <td>100</td>\n      <td>-0.5</td>\n      <td>1.0</td>\n      <td>1.0</td>\n      <td>5</td>\n      <td>0.0</td>\n      <td>yes</td>\n      <td>0.132907</td>\n      <td>0.134399</td>\n      <td>0.143703</td>\n      <td>0.133919</td>\n      <td>0.121091</td>\n      <td>0.201727</td>\n      <td>0.119056</td>\n      <td>0.131542</td>\n      <td>0.114140</td>\n      <td>0.140240</td>\n      <td>0.123957</td>\n    </tr>\n    <tr>\n      <th>4</th>\n      <td>100</td>\n      <td>0.0</td>\n      <td>1.0</td>\n      <td>1.0</td>\n      <td>5</td>\n      <td>0.0</td>\n      <td>no</td>\n      <td>0.128664</td>\n      <td>0.113164</td>\n      <td>0.110298</td>\n      <td>0.110276</td>\n      <td>0.100044</td>\n      <td>0.219877</td>\n      <td>0.066730</td>\n      <td>0.078308</td>\n      <td>0.068086</td>\n      <td>0.066756</td>\n      <td>0.158353</td>\n    </tr>\n    <tr>\n      <th>...</th>\n      <td>...</td>\n      <td>...</td>\n      <td>...</td>\n      <td>...</td>\n      <td>...</td>\n      <td>...</td>\n      <td>...</td>\n      <td>...</td>\n      <td>...</td>\n      <td>...</td>\n      <td>...</td>\n      <td>...</td>\n      <td>...</td>\n      <td>...</td>\n      <td>...</td>\n      <td>...</td>\n      <td>...</td>\n      <td>...</td>\n    </tr>\n    <tr>\n      <th>79</th>\n      <td>3000</td>\n      <td>0.5</td>\n      <td>1.0</td>\n      <td>10.0</td>\n      <td>5</td>\n      <td>0.0</td>\n      <td>yes</td>\n      <td>0.123301</td>\n      <td>0.104589</td>\n      <td>0.279723</td>\n      <td>0.173668</td>\n      <td>0.020937</td>\n      <td>0.237792</td>\n      <td>0.173668</td>\n      <td>0.123301</td>\n      <td>0.104589</td>\n      <td>0.279723</td>\n      <td>0.142767</td>\n    </tr>\n    <tr>\n      <th>80</th>\n      <td>3000</td>\n      <td>0.5</td>\n      <td>10.0</td>\n      <td>1.0</td>\n      <td>5</td>\n      <td>0.0</td>\n      <td>no</td>\n      <td>0.023209</td>\n      <td>0.021497</td>\n      <td>0.021496</td>\n      <td>0.021496</td>\n      <td>0.020425</td>\n      <td>0.044708</td>\n      <td>0.002150</td>\n      <td>0.002321</td>\n      <td>0.002150</td>\n      <td>0.002150</td>\n      <td>0.003118</td>\n    </tr>\n    <tr>\n      <th>81</th>\n      <td>3000</td>\n      <td>0.5</td>\n      <td>10.0</td>\n      <td>1.0</td>\n      <td>5</td>\n      <td>0.0</td>\n      <td>yes</td>\n      <td>0.023445</td>\n      <td>0.023416</td>\n      <td>0.035432</td>\n      <td>0.027027</td>\n      <td>0.021520</td>\n      <td>0.035520</td>\n      <td>0.002703</td>\n      <td>0.002344</td>\n      <td>0.002342</td>\n      <td>0.003543</td>\n      <td>0.002149</td>\n    </tr>\n    <tr>\n      <th>82</th>\n      <td>3000</td>\n      <td>0.9</td>\n      <td>1.0</td>\n      <td>1.0</td>\n      <td>5</td>\n      <td>0.0</td>\n      <td>no</td>\n      <td>0.025890</td>\n      <td>0.034001</td>\n      <td>0.033964</td>\n      <td>0.033973</td>\n      <td>0.042889</td>\n      <td>0.115456</td>\n      <td>0.033973</td>\n      <td>0.025890</td>\n      <td>0.034001</td>\n      <td>0.033964</td>\n      <td>0.075301</td>\n    </tr>\n    <tr>\n      <th>83</th>\n      <td>3000</td>\n      <td>0.9</td>\n      <td>1.0</td>\n      <td>1.0</td>\n      <td>5</td>\n      <td>0.0</td>\n      <td>yes</td>\n      <td>0.025745</td>\n      <td>0.030973</td>\n      <td>0.032969</td>\n      <td>0.034644</td>\n      <td>0.041470</td>\n      <td>0.138092</td>\n      <td>0.034644</td>\n      <td>0.025745</td>\n      <td>0.030973</td>\n      <td>0.032969</td>\n      <td>0.084183</td>\n    </tr>\n  </tbody>\n</table>\n<p>84 rows × 18 columns</p>\n</div>"
     },
     "metadata": {},
     "execution_count": 15
    }
   ],
   "source": [
    "output.groupby(['N','covariance','beta1','beta2','p','me_cov','exp_of_var']).std().reset_index()"
   ]
  },
  {
   "cell_type": "markdown",
   "metadata": {},
   "source": [
    "Code to produce LaTeX tables:"
   ]
  },
  {
   "cell_type": "code",
   "execution_count": 16,
   "metadata": {},
   "outputs": [],
   "source": [
    "# Helper functions for formatting latex output\n",
    "def std_parenth_padder(type_col, col_to_pad):\n",
    "    if type_col == 'std':\n",
    "        return('(' + col_to_pad + ')')\n",
    "    else:\n",
    "        return(col_to_pad)\n",
    "\n",
    "def format_level_0(type_col, col_to_format):\n",
    "    if type_col == 'std':\n",
    "        return('')\n",
    "    else:\n",
    "        return(col_to_format)"
   ]
  },
  {
   "cell_type": "code",
   "execution_count": 17,
   "metadata": {},
   "outputs": [],
   "source": [
    "# Pass this function a pandas dataframe of which to create the LaTeX file\n",
    "# dataframe is the df\n",
    "# filename is the save location\n",
    "# index tells if you want the index saved to the file or not\n",
    "def Minimal_Latex(dataframe, filename, index = False):\n",
    "\n",
    "    # Open file\n",
    "    with open(filename, \"w\") as f:\n",
    "        \n",
    "        # Start from the pandas\n",
    "        corrected_table = dataframe.to_latex(header = False, index = index)\n",
    "\n",
    "        # Strip all material that pandas inserts- the tabular environment and toprule and bottomrule\n",
    "        corrected_table = re.sub(r'\\\\begin.+', '', corrected_table)\n",
    "        corrected_table = re.sub(r'\\\\toprule', '', corrected_table)\n",
    "        corrected_table = re.sub(r'\\\\bottomrule', '', corrected_table)\n",
    "        corrected_table = re.sub(r'\\\\end.+', '', corrected_table)\n",
    "\n",
    "        # Write to file and skip blank lines\n",
    "        f.write(corrected_table.strip())"
   ]
  },
  {
   "cell_type": "code",
   "execution_count": 18,
   "metadata": {},
   "outputs": [],
   "source": [
    "coef_names_mapper = {'mismeasured_coef':'Single Measurement', 'mismeasured_allvar_coef':'All Measurements', 'pca_coef':'PCA', 'mismeasured_avg_coef':'Average of Measurements', 'iv_coef':'Instrumental Variable'}\n",
    "ape_names_mapper = {'mismeasured_coef_ape':'Single Measurement', 'mismeasured_allvar_coef_ape':'All Measurements', 'pca_ape':'PCA', 'mismeasured_avg_coef_ape':'Average of Measurements', 'iv_coef_ape':'Instrumental Variable'}"
   ]
  },
  {
   "cell_type": "code",
   "execution_count": 19,
   "metadata": {},
   "outputs": [],
   "source": [
    "basic_params = ['beta1', 'beta2', 'covariance', 'p', 'me_cov']\n",
    "pd.set_option('display.max_rows', 25)\n",
    "\n",
    "def make_param_tables(dataframe, parameter, exp_of_var, N):\n",
    "\n",
    "    if parameter != 'beta1':\n",
    "        dataframe = dataframe.loc[(dataframe['beta1']==1)]\n",
    "    if parameter != 'beta2':\n",
    "        dataframe = dataframe.loc[(dataframe['beta2']==1)]\n",
    "    if parameter != 'covariance':\n",
    "        dataframe = dataframe.loc[(dataframe['covariance']==0.5)]\n",
    "    if parameter != 'p':\n",
    "        dataframe = dataframe.loc[(dataframe['p']==5)]\n",
    "    if parameter != 'me_cov':\n",
    "        dataframe = dataframe.loc[(dataframe['me_cov']==0)]\n",
    "    dataframe = dataframe.loc[(dataframe['exp_of_var']==exp_of_var)]\n",
    "    dataframe = dataframe.loc[(dataframe['N']==N)]\n",
    "\n",
    "    exp_mapper = {'yes':'exp', 'no':'no_exp'}\n",
    "\n",
    "    dataframe = (dataframe.drop(columns = [variable for variable in basic_params if variable != parameter])\n",
    "                          .groupby(parameter)\n",
    "                          .agg(['mean', 'std'])\n",
    "                          .transpose()\n",
    "                          .reset_index())\n",
    "\n",
    "    custom_sort_order = ['pca_coef', 'mismeasured_coef', 'mismeasured_allvar_coef', 'mismeasured_avg_coef', 'iv_coef', 'pca_ape', 'mismeasured_coef_ape', 'mismeasured_allvar_coef_ape', 'mismeasured_avg_coef_ape', 'iv_coef_ape']\n",
    "    # Sorted series\n",
    "    sorted_series = pd.Series(custom_sort_order, name = 'level_0').to_frame()\n",
    "    # Use left merge on to return a sorted df\n",
    "    dataframe = (pd.merge(sorted_series, dataframe, on = 'level_0', how = 'left'))\n",
    "\n",
    "    dataframe.columns = dataframe.columns.map(str)\n",
    "\n",
    "    dataframe_coefs = dataframe.loc[(dataframe['level_0'].str.contains(\"coef\")) & \n",
    "              (dataframe['level_0'] != \"true_val_coef\") & \n",
    "              (~dataframe['level_0'].str.contains(\"ape\"))].round(3).astype(str)\n",
    "    \n",
    "    for variable in dataframe_coefs.columns:\n",
    "        if variable != 'level_0' and variable != 'level_1':\n",
    "            dataframe_coefs[variable] = dataframe_coefs.apply(lambda x: std_parenth_padder(x['level_1'], x[variable]), axis = 1)\n",
    "\n",
    "    dataframe_coefs['level_0'] = dataframe_coefs.apply(lambda x: format_level_0(x.level_1, x.level_0), axis = 1)\n",
    "\n",
    "    dataframe_coefs = (dataframe_coefs.drop(columns = 'level_1')\n",
    "                                    .replace(coef_names_mapper))\n",
    "\n",
    "    Minimal_Latex(dataframe_coefs, tables_dir + '/parallel_' + parameter + '_coefs_N_' + str(N) + '_' + exp_mapper[exp_of_var] + '.tex')\n",
    "\n",
    "    dataframe_apes = dataframe.loc[(dataframe['level_0'].str.contains(\"ape\")) & \n",
    "              (dataframe['level_1'] != \"std\")\n",
    "             ].drop(columns = 'level_1').replace(ape_names_mapper).set_index('level_0').multiply(100).round(1).astype(str).add('%').reset_index()\n",
    "\n",
    "    Minimal_Latex(dataframe_apes, tables_dir + '/parallel_' + parameter + '_apes_N_' + str(N) + '_' + exp_mapper[exp_of_var] + '.tex')"
   ]
  },
  {
   "cell_type": "code",
   "execution_count": 20,
   "metadata": {
    "tags": []
   },
   "outputs": [],
   "source": [
    "# Run for various values\n",
    "for parameter in basic_params:\n",
    "    for N in [100, 1000, 3000]:\n",
    "        for exp_of_var in ['yes', 'no']:\n",
    "            make_param_tables(output, parameter, exp_of_var, N)"
   ]
  }
 ],
 "metadata": {
  "kernelspec": {
   "name": "python388jvsc74a57bd0d8e5f08eda4f9cddc19de05071e25a43923763e5e5799e90c26e70a4345f4abb",
   "display_name": "Python 3.8.8 64-bit ('econ31330-env': conda)"
  },
  "language_info": {
   "codemirror_mode": {
    "name": "ipython",
    "version": 3
   },
   "file_extension": ".py",
   "mimetype": "text/x-python",
   "name": "python",
   "nbconvert_exporter": "python",
   "pygments_lexer": "ipython3",
   "version": "3.8.8"
  }
 },
 "nbformat": 4,
 "nbformat_minor": 2
}