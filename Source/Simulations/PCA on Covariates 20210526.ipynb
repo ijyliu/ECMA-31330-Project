{
 "cells": [
  {
   "source": [
    "# PCA on Covariates Simulations Notebook"
   ],
   "cell_type": "markdown",
   "metadata": {}
  },
  {
   "cell_type": "code",
   "execution_count": 3,
   "metadata": {},
   "outputs": [],
   "source": [
    "# Import objects from the setup file\n",
    "import os\n",
    "import sys\n",
    "sys.path.append(os.path.expanduser('~/repo/ECMA-31330-Project/Source'))\n",
    "from ME_Setup import *\n",
    "\n",
    "# Packages\n",
    "import numpy as np\n",
    "import pandas as pd\n",
    "import seaborn as sns\n",
    "from pca import pca\n",
    "import statsmodels.api as sm\n",
    "import statsmodels.formula.api as smf\n",
    "from sklearn.preprocessing import StandardScaler\n",
    "from sklearn.decomposition import FactorAnalysis\n",
    "import math\n",
    "from tqdm import tqdm"
   ]
  },
  {
   "cell_type": "code",
   "execution_count": 4,
   "metadata": {},
   "outputs": [],
   "source": [
    "# Supressing Output\n",
    "from contextlib import contextmanager\n",
    "import sys, os\n",
    "\n",
    "@contextmanager\n",
    "def suppress_stdout():\n",
    "    with open(os.devnull, \"w\") as devnull:\n",
    "        old_stdout = sys.stdout\n",
    "        sys.stdout = devnull\n",
    "        try:  \n",
    "            yield\n",
    "        finally:\n",
    "            sys.stdout = old_stdout"
   ]
  },
  {
   "cell_type": "markdown",
   "metadata": {},
   "source": [
    "**My main changes and what I want people to review in the code block below:**\n",
    "    \n",
    "1) I added an IV section\n",
    "\n",
    "2) I added a new thing where we take half of the mismeasured covariate values and then use them as the exponent to raise e to (e.g. z4 = e**z4)\n",
    "\n",
    "3) i got rid of the 1,000 value for beta1 and beta2\n",
    "\n",
    "4) i got rid of the p = 10 value\n",
    "\n",
    "**Comments on those changes:**\n",
    "\n",
    "1) i'm curious if i did this right\n",
    "\n",
    "2) i did this because of bonhomme's feedback about where PCA might outperform taking the simple avg. we've gotten some tentative signs that PCA does do better than the avg when you stretch out he observations\n",
    "\n",
    "3) , 4) it seemed like we didn't really need those values"
   ]
  },
  {
   "cell_type": "code",
   "execution_count": 5,
   "metadata": {},
   "outputs": [
    {
     "output_type": "stream",
     "name": "stderr",
     "text": [
      "100%|██████████| 1/1 [00:00<00:00,  1.62it/s]\n",
      "100%|██████████| 1/1 [00:00<00:00,  2.03it/s]\n",
      "100%|██████████| 1/1 [00:00<00:00,  2.06it/s]\n",
      "100%|██████████| 1/1 [00:00<00:00,  2.02it/s]\n",
      "100%|██████████| 1/1 [00:00<00:00,  2.10it/s]\n",
      "100%|██████████| 1/1 [00:00<00:00,  1.91it/s]\n",
      "100%|██████████| 1/1 [00:00<00:00,  2.13it/s]\n",
      "100%|██████████| 1/1 [00:00<00:00,  2.26it/s]\n",
      "100%|██████████| 1/1 [00:00<00:00,  2.24it/s]\n",
      "100%|██████████| 1/1 [00:00<00:00,  2.26it/s]\n",
      "100%|██████████| 1/1 [00:00<00:00,  2.18it/s]\n",
      "100%|██████████| 1/1 [00:00<00:00,  2.25it/s]\n",
      "100%|██████████| 1/1 [00:00<00:00,  2.03it/s]\n",
      "100%|██████████| 1/1 [00:00<00:00,  2.10it/s]\n",
      "100%|██████████| 1/1 [00:00<00:00,  1.77it/s]\n",
      "100%|██████████| 1/1 [00:00<00:00,  1.82it/s]\n",
      "100%|██████████| 1/1 [00:00<00:00,  2.19it/s]\n",
      "100%|██████████| 1/1 [00:00<00:00,  2.19it/s]\n",
      "100%|██████████| 1/1 [00:00<00:00,  2.07it/s]\n",
      "100%|██████████| 1/1 [00:00<00:00,  2.12it/s]\n",
      "100%|██████████| 1/1 [00:00<00:00,  2.04it/s]\n",
      "100%|██████████| 1/1 [00:00<00:00,  2.03it/s]\n"
     ]
    },
    {
     "output_type": "execute_result",
     "data": {
      "text/plain": [
       "   mismeasured_coef  mismeasured_allvar_coef  mismeasured_avg_coef   pca_coef  \\\n",
       "0          0.377291                 0.279092              0.431273   0.303882   \n",
       "0          0.372929                 0.199632              0.200331   0.200412   \n",
       "0          1.051855                 1.038778              1.069775   1.046737   \n",
       "0          0.991493                 0.967623              0.968608   0.967959   \n",
       "0          0.231100                 0.378299              0.182787   0.337343   \n",
       "0          0.205285                 0.473921              0.474957   0.475390   \n",
       "0          0.741761                 0.841806              0.627834   0.807872   \n",
       "0          0.716063                 0.913958              0.912209   0.912553   \n",
       "0          1.004262                 1.013850              1.019553   1.015938   \n",
       "0          0.977675                 0.988048              0.988668   0.987748   \n",
       "0          1.249019                 1.148227              1.346894   1.180911   \n",
       "0          1.273807                 1.089089              1.090259   1.090262   \n",
       "0          1.306060                 1.065254              1.339793   1.102144   \n",
       "0          1.301026                 1.057150              1.054810   1.055414   \n",
       "0          1.300459                 1.019558              1.295226   1.053262   \n",
       "0          1.274152                 1.002795              1.003393   1.003437   \n",
       "0          1.750762                 1.630450              1.839782   1.699757   \n",
       "0          1.750883                 1.469735              1.469053   1.473203   \n",
       "0          4.018535                 2.814896              4.802446   3.191262   \n",
       "0          3.895511                 2.086191              2.076864   2.086234   \n",
       "0         10.285971                10.174535             10.427017  10.223802   \n",
       "0         10.309383                10.124738             10.123779  10.124320   \n",
       "\n",
       "   true_val_coef    iv_coef  covariance  beta1  beta2   p exp_of_var  \n",
       "0       0.101980   0.327421         0.5    0.1    1.0   5        yes  \n",
       "0       0.094372   0.220040         0.5    0.1    1.0   5         no  \n",
       "0       1.021211   1.048326         0.5    1.0    0.1   5        yes  \n",
       "0       0.953142   0.969589         0.5    1.0    0.1   5         no  \n",
       "0       1.017201   0.315554        -0.9    1.0    1.0   5        yes  \n",
       "0       0.894709   0.437787        -0.9    1.0    1.0   5         no  \n",
       "0       1.026095   0.774325        -0.5    1.0    1.0   5        yes  \n",
       "0       1.007239   0.893710        -0.5    1.0    1.0   5         no  \n",
       "0       1.029424   1.023411         0.0    1.0    1.0   5        yes  \n",
       "0       0.996131   0.995471         0.0    1.0    1.0   5         no  \n",
       "0       0.964079   1.212860         0.5    1.0    1.0   5        yes  \n",
       "0       1.001836   1.112995         0.5    1.0    1.0   5         no  \n",
       "0       1.009884   1.070822         0.5    1.0    1.0  20        yes  \n",
       "0       1.027649   1.059895         0.5    1.0    1.0  20         no  \n",
       "0       0.993733   1.030565         0.5    1.0    1.0  50        yes  \n",
       "0       0.993210   1.024552         0.5    1.0    1.0  50         no  \n",
       "0       0.967595   1.725036         0.9    1.0    1.0   5        yes  \n",
       "0       0.956816   1.519797         0.9    1.0    1.0   5         no  \n",
       "0       0.934235   3.411628         0.5    1.0   10.0   5        yes  \n",
       "0       0.982115   2.272068         0.5    1.0   10.0   5         no  \n",
       "0       9.988553  10.238272         0.5   10.0    1.0   5        yes  \n",
       "0      10.009970  10.137428         0.5   10.0    1.0   5         no  "
      ],
      "text/html": "<div>\n<style scoped>\n    .dataframe tbody tr th:only-of-type {\n        vertical-align: middle;\n    }\n\n    .dataframe tbody tr th {\n        vertical-align: top;\n    }\n\n    .dataframe thead th {\n        text-align: right;\n    }\n</style>\n<table border=\"1\" class=\"dataframe\">\n  <thead>\n    <tr style=\"text-align: right;\">\n      <th></th>\n      <th>mismeasured_coef</th>\n      <th>mismeasured_allvar_coef</th>\n      <th>mismeasured_avg_coef</th>\n      <th>pca_coef</th>\n      <th>true_val_coef</th>\n      <th>iv_coef</th>\n      <th>covariance</th>\n      <th>beta1</th>\n      <th>beta2</th>\n      <th>p</th>\n      <th>exp_of_var</th>\n    </tr>\n  </thead>\n  <tbody>\n    <tr>\n      <th>0</th>\n      <td>0.377291</td>\n      <td>0.279092</td>\n      <td>0.431273</td>\n      <td>0.303882</td>\n      <td>0.101980</td>\n      <td>0.327421</td>\n      <td>0.5</td>\n      <td>0.1</td>\n      <td>1.0</td>\n      <td>5</td>\n      <td>yes</td>\n    </tr>\n    <tr>\n      <th>0</th>\n      <td>0.372929</td>\n      <td>0.199632</td>\n      <td>0.200331</td>\n      <td>0.200412</td>\n      <td>0.094372</td>\n      <td>0.220040</td>\n      <td>0.5</td>\n      <td>0.1</td>\n      <td>1.0</td>\n      <td>5</td>\n      <td>no</td>\n    </tr>\n    <tr>\n      <th>0</th>\n      <td>1.051855</td>\n      <td>1.038778</td>\n      <td>1.069775</td>\n      <td>1.046737</td>\n      <td>1.021211</td>\n      <td>1.048326</td>\n      <td>0.5</td>\n      <td>1.0</td>\n      <td>0.1</td>\n      <td>5</td>\n      <td>yes</td>\n    </tr>\n    <tr>\n      <th>0</th>\n      <td>0.991493</td>\n      <td>0.967623</td>\n      <td>0.968608</td>\n      <td>0.967959</td>\n      <td>0.953142</td>\n      <td>0.969589</td>\n      <td>0.5</td>\n      <td>1.0</td>\n      <td>0.1</td>\n      <td>5</td>\n      <td>no</td>\n    </tr>\n    <tr>\n      <th>0</th>\n      <td>0.231100</td>\n      <td>0.378299</td>\n      <td>0.182787</td>\n      <td>0.337343</td>\n      <td>1.017201</td>\n      <td>0.315554</td>\n      <td>-0.9</td>\n      <td>1.0</td>\n      <td>1.0</td>\n      <td>5</td>\n      <td>yes</td>\n    </tr>\n    <tr>\n      <th>0</th>\n      <td>0.205285</td>\n      <td>0.473921</td>\n      <td>0.474957</td>\n      <td>0.475390</td>\n      <td>0.894709</td>\n      <td>0.437787</td>\n      <td>-0.9</td>\n      <td>1.0</td>\n      <td>1.0</td>\n      <td>5</td>\n      <td>no</td>\n    </tr>\n    <tr>\n      <th>0</th>\n      <td>0.741761</td>\n      <td>0.841806</td>\n      <td>0.627834</td>\n      <td>0.807872</td>\n      <td>1.026095</td>\n      <td>0.774325</td>\n      <td>-0.5</td>\n      <td>1.0</td>\n      <td>1.0</td>\n      <td>5</td>\n      <td>yes</td>\n    </tr>\n    <tr>\n      <th>0</th>\n      <td>0.716063</td>\n      <td>0.913958</td>\n      <td>0.912209</td>\n      <td>0.912553</td>\n      <td>1.007239</td>\n      <td>0.893710</td>\n      <td>-0.5</td>\n      <td>1.0</td>\n      <td>1.0</td>\n      <td>5</td>\n      <td>no</td>\n    </tr>\n    <tr>\n      <th>0</th>\n      <td>1.004262</td>\n      <td>1.013850</td>\n      <td>1.019553</td>\n      <td>1.015938</td>\n      <td>1.029424</td>\n      <td>1.023411</td>\n      <td>0.0</td>\n      <td>1.0</td>\n      <td>1.0</td>\n      <td>5</td>\n      <td>yes</td>\n    </tr>\n    <tr>\n      <th>0</th>\n      <td>0.977675</td>\n      <td>0.988048</td>\n      <td>0.988668</td>\n      <td>0.987748</td>\n      <td>0.996131</td>\n      <td>0.995471</td>\n      <td>0.0</td>\n      <td>1.0</td>\n      <td>1.0</td>\n      <td>5</td>\n      <td>no</td>\n    </tr>\n    <tr>\n      <th>0</th>\n      <td>1.249019</td>\n      <td>1.148227</td>\n      <td>1.346894</td>\n      <td>1.180911</td>\n      <td>0.964079</td>\n      <td>1.212860</td>\n      <td>0.5</td>\n      <td>1.0</td>\n      <td>1.0</td>\n      <td>5</td>\n      <td>yes</td>\n    </tr>\n    <tr>\n      <th>0</th>\n      <td>1.273807</td>\n      <td>1.089089</td>\n      <td>1.090259</td>\n      <td>1.090262</td>\n      <td>1.001836</td>\n      <td>1.112995</td>\n      <td>0.5</td>\n      <td>1.0</td>\n      <td>1.0</td>\n      <td>5</td>\n      <td>no</td>\n    </tr>\n    <tr>\n      <th>0</th>\n      <td>1.306060</td>\n      <td>1.065254</td>\n      <td>1.339793</td>\n      <td>1.102144</td>\n      <td>1.009884</td>\n      <td>1.070822</td>\n      <td>0.5</td>\n      <td>1.0</td>\n      <td>1.0</td>\n      <td>20</td>\n      <td>yes</td>\n    </tr>\n    <tr>\n      <th>0</th>\n      <td>1.301026</td>\n      <td>1.057150</td>\n      <td>1.054810</td>\n      <td>1.055414</td>\n      <td>1.027649</td>\n      <td>1.059895</td>\n      <td>0.5</td>\n      <td>1.0</td>\n      <td>1.0</td>\n      <td>20</td>\n      <td>no</td>\n    </tr>\n    <tr>\n      <th>0</th>\n      <td>1.300459</td>\n      <td>1.019558</td>\n      <td>1.295226</td>\n      <td>1.053262</td>\n      <td>0.993733</td>\n      <td>1.030565</td>\n      <td>0.5</td>\n      <td>1.0</td>\n      <td>1.0</td>\n      <td>50</td>\n      <td>yes</td>\n    </tr>\n    <tr>\n      <th>0</th>\n      <td>1.274152</td>\n      <td>1.002795</td>\n      <td>1.003393</td>\n      <td>1.003437</td>\n      <td>0.993210</td>\n      <td>1.024552</td>\n      <td>0.5</td>\n      <td>1.0</td>\n      <td>1.0</td>\n      <td>50</td>\n      <td>no</td>\n    </tr>\n    <tr>\n      <th>0</th>\n      <td>1.750762</td>\n      <td>1.630450</td>\n      <td>1.839782</td>\n      <td>1.699757</td>\n      <td>0.967595</td>\n      <td>1.725036</td>\n      <td>0.9</td>\n      <td>1.0</td>\n      <td>1.0</td>\n      <td>5</td>\n      <td>yes</td>\n    </tr>\n    <tr>\n      <th>0</th>\n      <td>1.750883</td>\n      <td>1.469735</td>\n      <td>1.469053</td>\n      <td>1.473203</td>\n      <td>0.956816</td>\n      <td>1.519797</td>\n      <td>0.9</td>\n      <td>1.0</td>\n      <td>1.0</td>\n      <td>5</td>\n      <td>no</td>\n    </tr>\n    <tr>\n      <th>0</th>\n      <td>4.018535</td>\n      <td>2.814896</td>\n      <td>4.802446</td>\n      <td>3.191262</td>\n      <td>0.934235</td>\n      <td>3.411628</td>\n      <td>0.5</td>\n      <td>1.0</td>\n      <td>10.0</td>\n      <td>5</td>\n      <td>yes</td>\n    </tr>\n    <tr>\n      <th>0</th>\n      <td>3.895511</td>\n      <td>2.086191</td>\n      <td>2.076864</td>\n      <td>2.086234</td>\n      <td>0.982115</td>\n      <td>2.272068</td>\n      <td>0.5</td>\n      <td>1.0</td>\n      <td>10.0</td>\n      <td>5</td>\n      <td>no</td>\n    </tr>\n    <tr>\n      <th>0</th>\n      <td>10.285971</td>\n      <td>10.174535</td>\n      <td>10.427017</td>\n      <td>10.223802</td>\n      <td>9.988553</td>\n      <td>10.238272</td>\n      <td>0.5</td>\n      <td>10.0</td>\n      <td>1.0</td>\n      <td>5</td>\n      <td>yes</td>\n    </tr>\n    <tr>\n      <th>0</th>\n      <td>10.309383</td>\n      <td>10.124738</td>\n      <td>10.123779</td>\n      <td>10.124320</td>\n      <td>10.009970</td>\n      <td>10.137428</td>\n      <td>0.5</td>\n      <td>10.0</td>\n      <td>1.0</td>\n      <td>5</td>\n      <td>no</td>\n    </tr>\n  </tbody>\n</table>\n</div>"
     },
     "metadata": {},
     "execution_count": 5
    }
   ],
   "source": [
    "# Data frame to store output\n",
    "output = pd.DataFrame()\n",
    "\n",
    "# 2,000 observations\n",
    "N = 2000\n",
    "\n",
    "# Loop over combinations of: betas, covariances between variables, p numbers of parameters\n",
    "for beta1 in [0.1,1,10]:\n",
    "    for beta2 in [0.1,1,10]:\n",
    "        for covariance in [-0.9,-0.5,0,0.5,0.9]:\n",
    "            for p in [5,20,50]:\n",
    "                # Select only the scenarios we actually want to run by default - betas of 1, covariances of 0.5, p of 5... require three of these conditions to be satisfied to run.\n",
    "                counter = 0\n",
    "                if beta1 == 1:\n",
    "                    counter += 1\n",
    "                if beta2 == 1:\n",
    "                    counter += 1\n",
    "                if covariance == 0.5:\n",
    "                    counter += 1\n",
    "                if p == 5:\n",
    "                    counter+=1\n",
    "                if counter >= 3:\n",
    "                    # Run with and without transformations\n",
    "                    for exp_of_var in ['yes','no']:\n",
    "                        # 1000 simulations\n",
    "                        for k in tqdm(range(1)):\n",
    "                            # Initialize Lists to store coef values for all five methods and the true coef\n",
    "                            pca_coef = []\n",
    "                            mismeasured_coef = []\n",
    "                            mismeasured_allvar_coef = []\n",
    "                            mismeasured_avg_coef = []\n",
    "                            iv_coef = []\n",
    "                            true_val_coef =[]\n",
    "\n",
    "                            # Create variables\n",
    "                            vars_mean = [0,0,0]\n",
    "                            vars_cov = np.array([[1,covariance,0],\n",
    "                                                 [covariance,1,0],\n",
    "                                                 [0,0,1]])\n",
    "                            # Producing 3 variables: x for the variable of interest, the true Z covariate, the random error\n",
    "                            vars_ = pd.DataFrame(np.random.multivariate_normal(vars_mean, vars_cov, N), columns = ['x','true_z','u'])\n",
    "                            vars_['y'] = beta1 * vars_['x'] + beta2 * vars_['true_z'] + vars_['u']\n",
    "\n",
    "                            # Create measurement errors for each of the p measurements of the covariates- mean zero and variance one\n",
    "                            errors_mean = np.zeros(p)\n",
    "                            errors_cov = np.zeros((p,p))\n",
    "                            for i in range(p):\n",
    "                                for j in range(p):\n",
    "                                    if i == j:\n",
    "                                        errors_cov[i,j] = 1\n",
    "\n",
    "                            errors = np.random.multivariate_normal(errors_mean, errors_cov, N)\n",
    "                            # Column labels for Z variables (covariates variables mismeasured)\n",
    "                            z_vars = []\n",
    "                            for i in range(p):\n",
    "                                z_vars.append('z'+str(i+1))\n",
    "                            # Add errors to the true_z to get mismeasured values\n",
    "                            mismeasured_z = pd.DataFrame(errors, columns = z_vars)\n",
    "                            for i in mismeasured_z.columns:\n",
    "                                mismeasured_z[i] = mismeasured_z[i] + vars_['true_z']\n",
    "\n",
    "                            # Take e to the power of the values for half of the measurements if log_of_var is true\n",
    "                            if exp_of_var == 'yes':\n",
    "                                mismeasured_z.iloc[:,int(len(mismeasured_z.columns)/2):] =np.exp(mismeasured_z.iloc[:,int(len(mismeasured_z.columns)/2):])\n",
    "                                \n",
    "                            # Do feature scaling (normalize to mean 0 and variance 1) for the mismeasured z\n",
    "                            # Note that x and y are already normalized by construction\n",
    "                            scaled_mismeasured_z = mismeasured_z.copy()\n",
    "                            for i in mismeasured_z.columns:\n",
    "                                scaled_mismeasured_z[i] = (mismeasured_z[i] - mismeasured_z[i].mean()) / mismeasured_z[i].std()\n",
    "\n",
    "                            # Suppress output\n",
    "                            with suppress_stdout():\n",
    "                                # Use PCA on the mismeasured values\n",
    "                                pca_model = pca()\n",
    "                                pca_results = pca_model.fit_transform(scaled_mismeasured_z)\n",
    "                                pca_z = pca_results['PC']['PC1']\n",
    "\n",
    "                            # NOTE: in non-pca cases, no need to rescale or normalize since mismeasured variables and x and y have mean 0 and sd 1\n",
    "\n",
    "                            # Average mismeasured variables:\n",
    "                            vars_['avg_mismeasured_z'] = mismeasured_z[z_vars].mean(axis=1)\n",
    "\n",
    "                            # Add relevant variables to vars_ dataframe\n",
    "                            vars_[mismeasured_z.columns] = mismeasured_z\n",
    "                            vars_['pca_z'] = pca_z\n",
    "\n",
    "                            # Single mismeasured covariate results\n",
    "                            model_mismeasured = sm.OLS(vars_['y'],vars_[['x','z1']])\n",
    "                            results_mismeasured = model_mismeasured.fit()\n",
    "                            mismeasured_coef.append(results_mismeasured.params[0])\n",
    "\n",
    "                            # All Variables Mismeasured Results\n",
    "                            # Create full list of items to include in regression\n",
    "                            tot_vars = ['x']\n",
    "                            tot_vars.extend(z_vars)\n",
    "                            model_mismeasured_allvar = sm.OLS(vars_['y'],vars_[tot_vars])\n",
    "                            results_mismeasured_allvar = model_mismeasured_allvar.fit()\n",
    "                            mismeasured_allvar_coef.append(results_mismeasured_allvar.params[0])\n",
    "\n",
    "                            # Average Mismeasured Variables Results\n",
    "                            model_mismeasured_avg = sm.OLS(vars_['y'],vars_[['x','avg_mismeasured_z']])\n",
    "                            results_mismeasured_avg = model_mismeasured_avg.fit()\n",
    "                            mismeasured_avg_coef.append(results_mismeasured_avg.params[0])\n",
    "\n",
    "                            # PCA Results\n",
    "                            model_pca = sm.OLS(vars_['y'],vars_[['x','pca_z']])\n",
    "                            results_pca = model_pca.fit()\n",
    "                            pca_coef.append(results_pca.params[0])\n",
    "\n",
    "                            # Instrumental Variables Results\n",
    "                            # Instrument z1 on the other items in the mismeasured df\n",
    "                            z_string = mismeasured_z.columns[1]\n",
    "                            for z in mismeasured_z.columns[2:]:\n",
    "                                z_string = z_string + ' + ' + z\n",
    "                            # Create the predicted value of z1\n",
    "                            vars_['pred_z1'] = smf.ols(\"z1 ~ \" + z_string, data = mismeasured_z).fit().predict()\n",
    "                            iv_results = smf.ols(\"y ~ x + pred_z1 -1\", data = vars_).fit()\n",
    "                            iv_coef.append(iv_results.params[0])\n",
    "\n",
    "                            # True Results\n",
    "                            model_true = sm.OLS(vars_['y'],vars_[['x','true_z']])\n",
    "                            results_true = model_true.fit()\n",
    "                            true_val_coef.append(results_true.params[0])\n",
    "\n",
    "                            # Output Findings\n",
    "                            new_output = pd.DataFrame()\n",
    "                            new_output['mismeasured_coef'] = mismeasured_coef\n",
    "                            new_output['mismeasured_allvar_coef'] = mismeasured_allvar_coef\n",
    "                            new_output['mismeasured_avg_coef'] = mismeasured_avg_coef\n",
    "                            new_output['pca_coef'] = pca_coef\n",
    "                            new_output['true_val_coef'] = true_val_coef\n",
    "                            new_output['iv_coef'] = iv_coef\n",
    "                            new_output['covariance'] = vars_cov[0][1]\n",
    "                            new_output['beta1'] = beta1\n",
    "                            new_output['beta2'] = beta2\n",
    "                            new_output['p'] = p\n",
    "                            new_output['exp_of_var'] = exp_of_var\n",
    "                            output = output.append(new_output)\n",
    "\n",
    "output"
   ]
  },
  {
   "cell_type": "code",
   "execution_count": 6,
   "metadata": {},
   "outputs": [
    {
     "output_type": "execute_result",
     "data": {
      "text/plain": [
       "   mismeasured_coef  mismeasured_allvar_coef  mismeasured_avg_coef   pca_coef  \\\n",
       "0          0.377291                 0.279092              0.431273   0.303882   \n",
       "0          0.372929                 0.199632              0.200331   0.200412   \n",
       "0          1.051855                 1.038778              1.069775   1.046737   \n",
       "0          0.991493                 0.967623              0.968608   0.967959   \n",
       "0          0.231100                 0.378299              0.182787   0.337343   \n",
       "0          0.205285                 0.473921              0.474957   0.475390   \n",
       "0          0.741761                 0.841806              0.627834   0.807872   \n",
       "0          0.716063                 0.913958              0.912209   0.912553   \n",
       "0          1.004262                 1.013850              1.019553   1.015938   \n",
       "0          0.977675                 0.988048              0.988668   0.987748   \n",
       "0          1.249019                 1.148227              1.346894   1.180911   \n",
       "0          1.273807                 1.089089              1.090259   1.090262   \n",
       "0          1.306060                 1.065254              1.339793   1.102144   \n",
       "0          1.301026                 1.057150              1.054810   1.055414   \n",
       "0          1.300459                 1.019558              1.295226   1.053262   \n",
       "0          1.274152                 1.002795              1.003393   1.003437   \n",
       "0          1.750762                 1.630450              1.839782   1.699757   \n",
       "0          1.750883                 1.469735              1.469053   1.473203   \n",
       "0          4.018535                 2.814896              4.802446   3.191262   \n",
       "0          3.895511                 2.086191              2.076864   2.086234   \n",
       "0         10.285971                10.174535             10.427017  10.223802   \n",
       "0         10.309383                10.124738             10.123779  10.124320   \n",
       "\n",
       "   true_val_coef    iv_coef  covariance  beta1  beta2   p exp_of_var  \n",
       "0       0.101980   0.327421         0.5    0.1    1.0   5        yes  \n",
       "0       0.094372   0.220040         0.5    0.1    1.0   5         no  \n",
       "0       1.021211   1.048326         0.5    1.0    0.1   5        yes  \n",
       "0       0.953142   0.969589         0.5    1.0    0.1   5         no  \n",
       "0       1.017201   0.315554        -0.9    1.0    1.0   5        yes  \n",
       "0       0.894709   0.437787        -0.9    1.0    1.0   5         no  \n",
       "0       1.026095   0.774325        -0.5    1.0    1.0   5        yes  \n",
       "0       1.007239   0.893710        -0.5    1.0    1.0   5         no  \n",
       "0       1.029424   1.023411         0.0    1.0    1.0   5        yes  \n",
       "0       0.996131   0.995471         0.0    1.0    1.0   5         no  \n",
       "0       0.964079   1.212860         0.5    1.0    1.0   5        yes  \n",
       "0       1.001836   1.112995         0.5    1.0    1.0   5         no  \n",
       "0       1.009884   1.070822         0.5    1.0    1.0  20        yes  \n",
       "0       1.027649   1.059895         0.5    1.0    1.0  20         no  \n",
       "0       0.993733   1.030565         0.5    1.0    1.0  50        yes  \n",
       "0       0.993210   1.024552         0.5    1.0    1.0  50         no  \n",
       "0       0.967595   1.725036         0.9    1.0    1.0   5        yes  \n",
       "0       0.956816   1.519797         0.9    1.0    1.0   5         no  \n",
       "0       0.934235   3.411628         0.5    1.0   10.0   5        yes  \n",
       "0       0.982115   2.272068         0.5    1.0   10.0   5         no  \n",
       "0       9.988553  10.238272         0.5   10.0    1.0   5        yes  \n",
       "0      10.009970  10.137428         0.5   10.0    1.0   5         no  "
      ],
      "text/html": "<div>\n<style scoped>\n    .dataframe tbody tr th:only-of-type {\n        vertical-align: middle;\n    }\n\n    .dataframe tbody tr th {\n        vertical-align: top;\n    }\n\n    .dataframe thead th {\n        text-align: right;\n    }\n</style>\n<table border=\"1\" class=\"dataframe\">\n  <thead>\n    <tr style=\"text-align: right;\">\n      <th></th>\n      <th>mismeasured_coef</th>\n      <th>mismeasured_allvar_coef</th>\n      <th>mismeasured_avg_coef</th>\n      <th>pca_coef</th>\n      <th>true_val_coef</th>\n      <th>iv_coef</th>\n      <th>covariance</th>\n      <th>beta1</th>\n      <th>beta2</th>\n      <th>p</th>\n      <th>exp_of_var</th>\n    </tr>\n  </thead>\n  <tbody>\n    <tr>\n      <th>0</th>\n      <td>0.377291</td>\n      <td>0.279092</td>\n      <td>0.431273</td>\n      <td>0.303882</td>\n      <td>0.101980</td>\n      <td>0.327421</td>\n      <td>0.5</td>\n      <td>0.1</td>\n      <td>1.0</td>\n      <td>5</td>\n      <td>yes</td>\n    </tr>\n    <tr>\n      <th>0</th>\n      <td>0.372929</td>\n      <td>0.199632</td>\n      <td>0.200331</td>\n      <td>0.200412</td>\n      <td>0.094372</td>\n      <td>0.220040</td>\n      <td>0.5</td>\n      <td>0.1</td>\n      <td>1.0</td>\n      <td>5</td>\n      <td>no</td>\n    </tr>\n    <tr>\n      <th>0</th>\n      <td>1.051855</td>\n      <td>1.038778</td>\n      <td>1.069775</td>\n      <td>1.046737</td>\n      <td>1.021211</td>\n      <td>1.048326</td>\n      <td>0.5</td>\n      <td>1.0</td>\n      <td>0.1</td>\n      <td>5</td>\n      <td>yes</td>\n    </tr>\n    <tr>\n      <th>0</th>\n      <td>0.991493</td>\n      <td>0.967623</td>\n      <td>0.968608</td>\n      <td>0.967959</td>\n      <td>0.953142</td>\n      <td>0.969589</td>\n      <td>0.5</td>\n      <td>1.0</td>\n      <td>0.1</td>\n      <td>5</td>\n      <td>no</td>\n    </tr>\n    <tr>\n      <th>0</th>\n      <td>0.231100</td>\n      <td>0.378299</td>\n      <td>0.182787</td>\n      <td>0.337343</td>\n      <td>1.017201</td>\n      <td>0.315554</td>\n      <td>-0.9</td>\n      <td>1.0</td>\n      <td>1.0</td>\n      <td>5</td>\n      <td>yes</td>\n    </tr>\n    <tr>\n      <th>0</th>\n      <td>0.205285</td>\n      <td>0.473921</td>\n      <td>0.474957</td>\n      <td>0.475390</td>\n      <td>0.894709</td>\n      <td>0.437787</td>\n      <td>-0.9</td>\n      <td>1.0</td>\n      <td>1.0</td>\n      <td>5</td>\n      <td>no</td>\n    </tr>\n    <tr>\n      <th>0</th>\n      <td>0.741761</td>\n      <td>0.841806</td>\n      <td>0.627834</td>\n      <td>0.807872</td>\n      <td>1.026095</td>\n      <td>0.774325</td>\n      <td>-0.5</td>\n      <td>1.0</td>\n      <td>1.0</td>\n      <td>5</td>\n      <td>yes</td>\n    </tr>\n    <tr>\n      <th>0</th>\n      <td>0.716063</td>\n      <td>0.913958</td>\n      <td>0.912209</td>\n      <td>0.912553</td>\n      <td>1.007239</td>\n      <td>0.893710</td>\n      <td>-0.5</td>\n      <td>1.0</td>\n      <td>1.0</td>\n      <td>5</td>\n      <td>no</td>\n    </tr>\n    <tr>\n      <th>0</th>\n      <td>1.004262</td>\n      <td>1.013850</td>\n      <td>1.019553</td>\n      <td>1.015938</td>\n      <td>1.029424</td>\n      <td>1.023411</td>\n      <td>0.0</td>\n      <td>1.0</td>\n      <td>1.0</td>\n      <td>5</td>\n      <td>yes</td>\n    </tr>\n    <tr>\n      <th>0</th>\n      <td>0.977675</td>\n      <td>0.988048</td>\n      <td>0.988668</td>\n      <td>0.987748</td>\n      <td>0.996131</td>\n      <td>0.995471</td>\n      <td>0.0</td>\n      <td>1.0</td>\n      <td>1.0</td>\n      <td>5</td>\n      <td>no</td>\n    </tr>\n    <tr>\n      <th>0</th>\n      <td>1.249019</td>\n      <td>1.148227</td>\n      <td>1.346894</td>\n      <td>1.180911</td>\n      <td>0.964079</td>\n      <td>1.212860</td>\n      <td>0.5</td>\n      <td>1.0</td>\n      <td>1.0</td>\n      <td>5</td>\n      <td>yes</td>\n    </tr>\n    <tr>\n      <th>0</th>\n      <td>1.273807</td>\n      <td>1.089089</td>\n      <td>1.090259</td>\n      <td>1.090262</td>\n      <td>1.001836</td>\n      <td>1.112995</td>\n      <td>0.5</td>\n      <td>1.0</td>\n      <td>1.0</td>\n      <td>5</td>\n      <td>no</td>\n    </tr>\n    <tr>\n      <th>0</th>\n      <td>1.306060</td>\n      <td>1.065254</td>\n      <td>1.339793</td>\n      <td>1.102144</td>\n      <td>1.009884</td>\n      <td>1.070822</td>\n      <td>0.5</td>\n      <td>1.0</td>\n      <td>1.0</td>\n      <td>20</td>\n      <td>yes</td>\n    </tr>\n    <tr>\n      <th>0</th>\n      <td>1.301026</td>\n      <td>1.057150</td>\n      <td>1.054810</td>\n      <td>1.055414</td>\n      <td>1.027649</td>\n      <td>1.059895</td>\n      <td>0.5</td>\n      <td>1.0</td>\n      <td>1.0</td>\n      <td>20</td>\n      <td>no</td>\n    </tr>\n    <tr>\n      <th>0</th>\n      <td>1.300459</td>\n      <td>1.019558</td>\n      <td>1.295226</td>\n      <td>1.053262</td>\n      <td>0.993733</td>\n      <td>1.030565</td>\n      <td>0.5</td>\n      <td>1.0</td>\n      <td>1.0</td>\n      <td>50</td>\n      <td>yes</td>\n    </tr>\n    <tr>\n      <th>0</th>\n      <td>1.274152</td>\n      <td>1.002795</td>\n      <td>1.003393</td>\n      <td>1.003437</td>\n      <td>0.993210</td>\n      <td>1.024552</td>\n      <td>0.5</td>\n      <td>1.0</td>\n      <td>1.0</td>\n      <td>50</td>\n      <td>no</td>\n    </tr>\n    <tr>\n      <th>0</th>\n      <td>1.750762</td>\n      <td>1.630450</td>\n      <td>1.839782</td>\n      <td>1.699757</td>\n      <td>0.967595</td>\n      <td>1.725036</td>\n      <td>0.9</td>\n      <td>1.0</td>\n      <td>1.0</td>\n      <td>5</td>\n      <td>yes</td>\n    </tr>\n    <tr>\n      <th>0</th>\n      <td>1.750883</td>\n      <td>1.469735</td>\n      <td>1.469053</td>\n      <td>1.473203</td>\n      <td>0.956816</td>\n      <td>1.519797</td>\n      <td>0.9</td>\n      <td>1.0</td>\n      <td>1.0</td>\n      <td>5</td>\n      <td>no</td>\n    </tr>\n    <tr>\n      <th>0</th>\n      <td>4.018535</td>\n      <td>2.814896</td>\n      <td>4.802446</td>\n      <td>3.191262</td>\n      <td>0.934235</td>\n      <td>3.411628</td>\n      <td>0.5</td>\n      <td>1.0</td>\n      <td>10.0</td>\n      <td>5</td>\n      <td>yes</td>\n    </tr>\n    <tr>\n      <th>0</th>\n      <td>3.895511</td>\n      <td>2.086191</td>\n      <td>2.076864</td>\n      <td>2.086234</td>\n      <td>0.982115</td>\n      <td>2.272068</td>\n      <td>0.5</td>\n      <td>1.0</td>\n      <td>10.0</td>\n      <td>5</td>\n      <td>no</td>\n    </tr>\n    <tr>\n      <th>0</th>\n      <td>10.285971</td>\n      <td>10.174535</td>\n      <td>10.427017</td>\n      <td>10.223802</td>\n      <td>9.988553</td>\n      <td>10.238272</td>\n      <td>0.5</td>\n      <td>10.0</td>\n      <td>1.0</td>\n      <td>5</td>\n      <td>yes</td>\n    </tr>\n    <tr>\n      <th>0</th>\n      <td>10.309383</td>\n      <td>10.124738</td>\n      <td>10.123779</td>\n      <td>10.124320</td>\n      <td>10.009970</td>\n      <td>10.137428</td>\n      <td>0.5</td>\n      <td>10.0</td>\n      <td>1.0</td>\n      <td>5</td>\n      <td>no</td>\n    </tr>\n  </tbody>\n</table>\n</div>"
     },
     "metadata": {},
     "execution_count": 6
    }
   ],
   "source": [
    "output"
   ]
  },
  {
   "cell_type": "code",
   "execution_count": 7,
   "metadata": {},
   "outputs": [],
   "source": [
    "#output.to_csv('C://Users//paulo//Documents//Econometrics and ML//Final Project//n_2000_results.csv')"
   ]
  },
  {
   "cell_type": "code",
   "execution_count": 8,
   "metadata": {},
   "outputs": [],
   "source": [
    "pd.set_option('display.max_rows', 10)"
   ]
  },
  {
   "cell_type": "code",
   "execution_count": 9,
   "metadata": {},
   "outputs": [],
   "source": [
    "output['pca_ape'] = (output['pca_coef'] - output['beta1']).abs()/output['beta1']\n",
    "output['mismeasured_coef_ape'] = (output['mismeasured_coef'] - output['beta1']).abs()/output['beta1']\n",
    "output['mismeasured_allvar_coef_ape'] = (output['mismeasured_allvar_coef'] - output['beta1']).abs()/output['beta1']\n",
    "output['mismeasured_avg_coef_ape'] = (output['mismeasured_avg_coef'] - output['beta1']).abs()/output['beta1']\n",
    "output['iv_coef_ape'] = (output['iv_coef'] - output['beta1']).abs()/output['beta1']"
   ]
  },
  {
   "cell_type": "code",
   "execution_count": 10,
   "metadata": {},
   "outputs": [
    {
     "output_type": "execute_result",
     "data": {
      "text/plain": [
       "    covariance  beta1  beta2  p exp_of_var  mismeasured_coef  \\\n",
       "0         -0.9    1.0    1.0  5         no          0.205285   \n",
       "1         -0.9    1.0    1.0  5        yes          0.231100   \n",
       "2         -0.5    1.0    1.0  5         no          0.716063   \n",
       "3         -0.5    1.0    1.0  5        yes          0.741761   \n",
       "4          0.0    1.0    1.0  5         no          0.977675   \n",
       "..         ...    ...    ... ..        ...               ...   \n",
       "17         0.5    1.0   10.0  5        yes          4.018535   \n",
       "18         0.5   10.0    1.0  5         no         10.309383   \n",
       "19         0.5   10.0    1.0  5        yes         10.285971   \n",
       "20         0.9    1.0    1.0  5         no          1.750883   \n",
       "21         0.9    1.0    1.0  5        yes          1.750762   \n",
       "\n",
       "    mismeasured_allvar_coef  mismeasured_avg_coef   pca_coef  true_val_coef  \\\n",
       "0                  0.473921              0.474957   0.475390       0.894709   \n",
       "1                  0.378299              0.182787   0.337343       1.017201   \n",
       "2                  0.913958              0.912209   0.912553       1.007239   \n",
       "3                  0.841806              0.627834   0.807872       1.026095   \n",
       "4                  0.988048              0.988668   0.987748       0.996131   \n",
       "..                      ...                   ...        ...            ...   \n",
       "17                 2.814896              4.802446   3.191262       0.934235   \n",
       "18                10.124738             10.123779  10.124320      10.009970   \n",
       "19                10.174535             10.427017  10.223802       9.988553   \n",
       "20                 1.469735              1.469053   1.473203       0.956816   \n",
       "21                 1.630450              1.839782   1.699757       0.967595   \n",
       "\n",
       "      iv_coef   pca_ape  mismeasured_coef_ape  mismeasured_allvar_coef_ape  \\\n",
       "0    0.437787  0.524610              0.794715                     0.526079   \n",
       "1    0.315554  0.662657              0.768900                     0.621701   \n",
       "2    0.893710  0.087447              0.283937                     0.086042   \n",
       "3    0.774325  0.192128              0.258239                     0.158194   \n",
       "4    0.995471  0.012252              0.022325                     0.011952   \n",
       "..        ...       ...                   ...                          ...   \n",
       "17   3.411628  2.191262              3.018535                     1.814896   \n",
       "18  10.137428  0.012432              0.030938                     0.012474   \n",
       "19  10.238272  0.022380              0.028597                     0.017453   \n",
       "20   1.519797  0.473203              0.750883                     0.469735   \n",
       "21   1.725036  0.699757              0.750762                     0.630450   \n",
       "\n",
       "    mismeasured_avg_coef_ape  iv_coef_ape  \n",
       "0                   0.525043     0.562213  \n",
       "1                   0.817213     0.684446  \n",
       "2                   0.087791     0.106290  \n",
       "3                   0.372166     0.225675  \n",
       "4                   0.011332     0.004529  \n",
       "..                       ...          ...  \n",
       "17                  3.802446     2.411628  \n",
       "18                  0.012378     0.013743  \n",
       "19                  0.042702     0.023827  \n",
       "20                  0.469053     0.519797  \n",
       "21                  0.839782     0.725036  \n",
       "\n",
       "[22 rows x 16 columns]"
      ],
      "text/html": "<div>\n<style scoped>\n    .dataframe tbody tr th:only-of-type {\n        vertical-align: middle;\n    }\n\n    .dataframe tbody tr th {\n        vertical-align: top;\n    }\n\n    .dataframe thead th {\n        text-align: right;\n    }\n</style>\n<table border=\"1\" class=\"dataframe\">\n  <thead>\n    <tr style=\"text-align: right;\">\n      <th></th>\n      <th>covariance</th>\n      <th>beta1</th>\n      <th>beta2</th>\n      <th>p</th>\n      <th>exp_of_var</th>\n      <th>mismeasured_coef</th>\n      <th>mismeasured_allvar_coef</th>\n      <th>mismeasured_avg_coef</th>\n      <th>pca_coef</th>\n      <th>true_val_coef</th>\n      <th>iv_coef</th>\n      <th>pca_ape</th>\n      <th>mismeasured_coef_ape</th>\n      <th>mismeasured_allvar_coef_ape</th>\n      <th>mismeasured_avg_coef_ape</th>\n      <th>iv_coef_ape</th>\n    </tr>\n  </thead>\n  <tbody>\n    <tr>\n      <th>0</th>\n      <td>-0.9</td>\n      <td>1.0</td>\n      <td>1.0</td>\n      <td>5</td>\n      <td>no</td>\n      <td>0.205285</td>\n      <td>0.473921</td>\n      <td>0.474957</td>\n      <td>0.475390</td>\n      <td>0.894709</td>\n      <td>0.437787</td>\n      <td>0.524610</td>\n      <td>0.794715</td>\n      <td>0.526079</td>\n      <td>0.525043</td>\n      <td>0.562213</td>\n    </tr>\n    <tr>\n      <th>1</th>\n      <td>-0.9</td>\n      <td>1.0</td>\n      <td>1.0</td>\n      <td>5</td>\n      <td>yes</td>\n      <td>0.231100</td>\n      <td>0.378299</td>\n      <td>0.182787</td>\n      <td>0.337343</td>\n      <td>1.017201</td>\n      <td>0.315554</td>\n      <td>0.662657</td>\n      <td>0.768900</td>\n      <td>0.621701</td>\n      <td>0.817213</td>\n      <td>0.684446</td>\n    </tr>\n    <tr>\n      <th>2</th>\n      <td>-0.5</td>\n      <td>1.0</td>\n      <td>1.0</td>\n      <td>5</td>\n      <td>no</td>\n      <td>0.716063</td>\n      <td>0.913958</td>\n      <td>0.912209</td>\n      <td>0.912553</td>\n      <td>1.007239</td>\n      <td>0.893710</td>\n      <td>0.087447</td>\n      <td>0.283937</td>\n      <td>0.086042</td>\n      <td>0.087791</td>\n      <td>0.106290</td>\n    </tr>\n    <tr>\n      <th>3</th>\n      <td>-0.5</td>\n      <td>1.0</td>\n      <td>1.0</td>\n      <td>5</td>\n      <td>yes</td>\n      <td>0.741761</td>\n      <td>0.841806</td>\n      <td>0.627834</td>\n      <td>0.807872</td>\n      <td>1.026095</td>\n      <td>0.774325</td>\n      <td>0.192128</td>\n      <td>0.258239</td>\n      <td>0.158194</td>\n      <td>0.372166</td>\n      <td>0.225675</td>\n    </tr>\n    <tr>\n      <th>4</th>\n      <td>0.0</td>\n      <td>1.0</td>\n      <td>1.0</td>\n      <td>5</td>\n      <td>no</td>\n      <td>0.977675</td>\n      <td>0.988048</td>\n      <td>0.988668</td>\n      <td>0.987748</td>\n      <td>0.996131</td>\n      <td>0.995471</td>\n      <td>0.012252</td>\n      <td>0.022325</td>\n      <td>0.011952</td>\n      <td>0.011332</td>\n      <td>0.004529</td>\n    </tr>\n    <tr>\n      <th>...</th>\n      <td>...</td>\n      <td>...</td>\n      <td>...</td>\n      <td>...</td>\n      <td>...</td>\n      <td>...</td>\n      <td>...</td>\n      <td>...</td>\n      <td>...</td>\n      <td>...</td>\n      <td>...</td>\n      <td>...</td>\n      <td>...</td>\n      <td>...</td>\n      <td>...</td>\n      <td>...</td>\n    </tr>\n    <tr>\n      <th>17</th>\n      <td>0.5</td>\n      <td>1.0</td>\n      <td>10.0</td>\n      <td>5</td>\n      <td>yes</td>\n      <td>4.018535</td>\n      <td>2.814896</td>\n      <td>4.802446</td>\n      <td>3.191262</td>\n      <td>0.934235</td>\n      <td>3.411628</td>\n      <td>2.191262</td>\n      <td>3.018535</td>\n      <td>1.814896</td>\n      <td>3.802446</td>\n      <td>2.411628</td>\n    </tr>\n    <tr>\n      <th>18</th>\n      <td>0.5</td>\n      <td>10.0</td>\n      <td>1.0</td>\n      <td>5</td>\n      <td>no</td>\n      <td>10.309383</td>\n      <td>10.124738</td>\n      <td>10.123779</td>\n      <td>10.124320</td>\n      <td>10.009970</td>\n      <td>10.137428</td>\n      <td>0.012432</td>\n      <td>0.030938</td>\n      <td>0.012474</td>\n      <td>0.012378</td>\n      <td>0.013743</td>\n    </tr>\n    <tr>\n      <th>19</th>\n      <td>0.5</td>\n      <td>10.0</td>\n      <td>1.0</td>\n      <td>5</td>\n      <td>yes</td>\n      <td>10.285971</td>\n      <td>10.174535</td>\n      <td>10.427017</td>\n      <td>10.223802</td>\n      <td>9.988553</td>\n      <td>10.238272</td>\n      <td>0.022380</td>\n      <td>0.028597</td>\n      <td>0.017453</td>\n      <td>0.042702</td>\n      <td>0.023827</td>\n    </tr>\n    <tr>\n      <th>20</th>\n      <td>0.9</td>\n      <td>1.0</td>\n      <td>1.0</td>\n      <td>5</td>\n      <td>no</td>\n      <td>1.750883</td>\n      <td>1.469735</td>\n      <td>1.469053</td>\n      <td>1.473203</td>\n      <td>0.956816</td>\n      <td>1.519797</td>\n      <td>0.473203</td>\n      <td>0.750883</td>\n      <td>0.469735</td>\n      <td>0.469053</td>\n      <td>0.519797</td>\n    </tr>\n    <tr>\n      <th>21</th>\n      <td>0.9</td>\n      <td>1.0</td>\n      <td>1.0</td>\n      <td>5</td>\n      <td>yes</td>\n      <td>1.750762</td>\n      <td>1.630450</td>\n      <td>1.839782</td>\n      <td>1.699757</td>\n      <td>0.967595</td>\n      <td>1.725036</td>\n      <td>0.699757</td>\n      <td>0.750762</td>\n      <td>0.630450</td>\n      <td>0.839782</td>\n      <td>0.725036</td>\n    </tr>\n  </tbody>\n</table>\n<p>22 rows × 16 columns</p>\n</div>"
     },
     "metadata": {},
     "execution_count": 10
    }
   ],
   "source": [
    "output.groupby(['covariance','beta1','beta2','p','exp_of_var']).mean().reset_index()"
   ]
  },
  {
   "cell_type": "code",
   "execution_count": 11,
   "metadata": {},
   "outputs": [
    {
     "output_type": "execute_result",
     "data": {
      "text/plain": [
       "    covariance  beta1  beta2  p exp_of_var  mismeasured_coef  \\\n",
       "0         -0.9    1.0    1.0  5         no               NaN   \n",
       "1         -0.9    1.0    1.0  5        yes               NaN   \n",
       "2         -0.5    1.0    1.0  5         no               NaN   \n",
       "3         -0.5    1.0    1.0  5        yes               NaN   \n",
       "4          0.0    1.0    1.0  5         no               NaN   \n",
       "..         ...    ...    ... ..        ...               ...   \n",
       "17         0.5    1.0   10.0  5        yes               NaN   \n",
       "18         0.5   10.0    1.0  5         no               NaN   \n",
       "19         0.5   10.0    1.0  5        yes               NaN   \n",
       "20         0.9    1.0    1.0  5         no               NaN   \n",
       "21         0.9    1.0    1.0  5        yes               NaN   \n",
       "\n",
       "    mismeasured_allvar_coef  mismeasured_avg_coef  pca_coef  true_val_coef  \\\n",
       "0                       NaN                   NaN       NaN            NaN   \n",
       "1                       NaN                   NaN       NaN            NaN   \n",
       "2                       NaN                   NaN       NaN            NaN   \n",
       "3                       NaN                   NaN       NaN            NaN   \n",
       "4                       NaN                   NaN       NaN            NaN   \n",
       "..                      ...                   ...       ...            ...   \n",
       "17                      NaN                   NaN       NaN            NaN   \n",
       "18                      NaN                   NaN       NaN            NaN   \n",
       "19                      NaN                   NaN       NaN            NaN   \n",
       "20                      NaN                   NaN       NaN            NaN   \n",
       "21                      NaN                   NaN       NaN            NaN   \n",
       "\n",
       "    iv_coef  pca_ape  mismeasured_coef_ape  mismeasured_allvar_coef_ape  \\\n",
       "0       NaN      NaN                   NaN                          NaN   \n",
       "1       NaN      NaN                   NaN                          NaN   \n",
       "2       NaN      NaN                   NaN                          NaN   \n",
       "3       NaN      NaN                   NaN                          NaN   \n",
       "4       NaN      NaN                   NaN                          NaN   \n",
       "..      ...      ...                   ...                          ...   \n",
       "17      NaN      NaN                   NaN                          NaN   \n",
       "18      NaN      NaN                   NaN                          NaN   \n",
       "19      NaN      NaN                   NaN                          NaN   \n",
       "20      NaN      NaN                   NaN                          NaN   \n",
       "21      NaN      NaN                   NaN                          NaN   \n",
       "\n",
       "    mismeasured_avg_coef_ape  iv_coef_ape  \n",
       "0                        NaN          NaN  \n",
       "1                        NaN          NaN  \n",
       "2                        NaN          NaN  \n",
       "3                        NaN          NaN  \n",
       "4                        NaN          NaN  \n",
       "..                       ...          ...  \n",
       "17                       NaN          NaN  \n",
       "18                       NaN          NaN  \n",
       "19                       NaN          NaN  \n",
       "20                       NaN          NaN  \n",
       "21                       NaN          NaN  \n",
       "\n",
       "[22 rows x 16 columns]"
      ],
      "text/html": "<div>\n<style scoped>\n    .dataframe tbody tr th:only-of-type {\n        vertical-align: middle;\n    }\n\n    .dataframe tbody tr th {\n        vertical-align: top;\n    }\n\n    .dataframe thead th {\n        text-align: right;\n    }\n</style>\n<table border=\"1\" class=\"dataframe\">\n  <thead>\n    <tr style=\"text-align: right;\">\n      <th></th>\n      <th>covariance</th>\n      <th>beta1</th>\n      <th>beta2</th>\n      <th>p</th>\n      <th>exp_of_var</th>\n      <th>mismeasured_coef</th>\n      <th>mismeasured_allvar_coef</th>\n      <th>mismeasured_avg_coef</th>\n      <th>pca_coef</th>\n      <th>true_val_coef</th>\n      <th>iv_coef</th>\n      <th>pca_ape</th>\n      <th>mismeasured_coef_ape</th>\n      <th>mismeasured_allvar_coef_ape</th>\n      <th>mismeasured_avg_coef_ape</th>\n      <th>iv_coef_ape</th>\n    </tr>\n  </thead>\n  <tbody>\n    <tr>\n      <th>0</th>\n      <td>-0.9</td>\n      <td>1.0</td>\n      <td>1.0</td>\n      <td>5</td>\n      <td>no</td>\n      <td>NaN</td>\n      <td>NaN</td>\n      <td>NaN</td>\n      <td>NaN</td>\n      <td>NaN</td>\n      <td>NaN</td>\n      <td>NaN</td>\n      <td>NaN</td>\n      <td>NaN</td>\n      <td>NaN</td>\n      <td>NaN</td>\n    </tr>\n    <tr>\n      <th>1</th>\n      <td>-0.9</td>\n      <td>1.0</td>\n      <td>1.0</td>\n      <td>5</td>\n      <td>yes</td>\n      <td>NaN</td>\n      <td>NaN</td>\n      <td>NaN</td>\n      <td>NaN</td>\n      <td>NaN</td>\n      <td>NaN</td>\n      <td>NaN</td>\n      <td>NaN</td>\n      <td>NaN</td>\n      <td>NaN</td>\n      <td>NaN</td>\n    </tr>\n    <tr>\n      <th>2</th>\n      <td>-0.5</td>\n      <td>1.0</td>\n      <td>1.0</td>\n      <td>5</td>\n      <td>no</td>\n      <td>NaN</td>\n      <td>NaN</td>\n      <td>NaN</td>\n      <td>NaN</td>\n      <td>NaN</td>\n      <td>NaN</td>\n      <td>NaN</td>\n      <td>NaN</td>\n      <td>NaN</td>\n      <td>NaN</td>\n      <td>NaN</td>\n    </tr>\n    <tr>\n      <th>3</th>\n      <td>-0.5</td>\n      <td>1.0</td>\n      <td>1.0</td>\n      <td>5</td>\n      <td>yes</td>\n      <td>NaN</td>\n      <td>NaN</td>\n      <td>NaN</td>\n      <td>NaN</td>\n      <td>NaN</td>\n      <td>NaN</td>\n      <td>NaN</td>\n      <td>NaN</td>\n      <td>NaN</td>\n      <td>NaN</td>\n      <td>NaN</td>\n    </tr>\n    <tr>\n      <th>4</th>\n      <td>0.0</td>\n      <td>1.0</td>\n      <td>1.0</td>\n      <td>5</td>\n      <td>no</td>\n      <td>NaN</td>\n      <td>NaN</td>\n      <td>NaN</td>\n      <td>NaN</td>\n      <td>NaN</td>\n      <td>NaN</td>\n      <td>NaN</td>\n      <td>NaN</td>\n      <td>NaN</td>\n      <td>NaN</td>\n      <td>NaN</td>\n    </tr>\n    <tr>\n      <th>...</th>\n      <td>...</td>\n      <td>...</td>\n      <td>...</td>\n      <td>...</td>\n      <td>...</td>\n      <td>...</td>\n      <td>...</td>\n      <td>...</td>\n      <td>...</td>\n      <td>...</td>\n      <td>...</td>\n      <td>...</td>\n      <td>...</td>\n      <td>...</td>\n      <td>...</td>\n      <td>...</td>\n    </tr>\n    <tr>\n      <th>17</th>\n      <td>0.5</td>\n      <td>1.0</td>\n      <td>10.0</td>\n      <td>5</td>\n      <td>yes</td>\n      <td>NaN</td>\n      <td>NaN</td>\n      <td>NaN</td>\n      <td>NaN</td>\n      <td>NaN</td>\n      <td>NaN</td>\n      <td>NaN</td>\n      <td>NaN</td>\n      <td>NaN</td>\n      <td>NaN</td>\n      <td>NaN</td>\n    </tr>\n    <tr>\n      <th>18</th>\n      <td>0.5</td>\n      <td>10.0</td>\n      <td>1.0</td>\n      <td>5</td>\n      <td>no</td>\n      <td>NaN</td>\n      <td>NaN</td>\n      <td>NaN</td>\n      <td>NaN</td>\n      <td>NaN</td>\n      <td>NaN</td>\n      <td>NaN</td>\n      <td>NaN</td>\n      <td>NaN</td>\n      <td>NaN</td>\n      <td>NaN</td>\n    </tr>\n    <tr>\n      <th>19</th>\n      <td>0.5</td>\n      <td>10.0</td>\n      <td>1.0</td>\n      <td>5</td>\n      <td>yes</td>\n      <td>NaN</td>\n      <td>NaN</td>\n      <td>NaN</td>\n      <td>NaN</td>\n      <td>NaN</td>\n      <td>NaN</td>\n      <td>NaN</td>\n      <td>NaN</td>\n      <td>NaN</td>\n      <td>NaN</td>\n      <td>NaN</td>\n    </tr>\n    <tr>\n      <th>20</th>\n      <td>0.9</td>\n      <td>1.0</td>\n      <td>1.0</td>\n      <td>5</td>\n      <td>no</td>\n      <td>NaN</td>\n      <td>NaN</td>\n      <td>NaN</td>\n      <td>NaN</td>\n      <td>NaN</td>\n      <td>NaN</td>\n      <td>NaN</td>\n      <td>NaN</td>\n      <td>NaN</td>\n      <td>NaN</td>\n      <td>NaN</td>\n    </tr>\n    <tr>\n      <th>21</th>\n      <td>0.9</td>\n      <td>1.0</td>\n      <td>1.0</td>\n      <td>5</td>\n      <td>yes</td>\n      <td>NaN</td>\n      <td>NaN</td>\n      <td>NaN</td>\n      <td>NaN</td>\n      <td>NaN</td>\n      <td>NaN</td>\n      <td>NaN</td>\n      <td>NaN</td>\n      <td>NaN</td>\n      <td>NaN</td>\n      <td>NaN</td>\n    </tr>\n  </tbody>\n</table>\n<p>22 rows × 16 columns</p>\n</div>"
     },
     "metadata": {},
     "execution_count": 11
    }
   ],
   "source": [
    "output.groupby(['covariance','beta1','beta2','p','exp_of_var']).std().reset_index()"
   ]
  },
  {
   "cell_type": "code",
   "execution_count": 12,
   "metadata": {},
   "outputs": [
    {
     "output_type": "execute_result",
     "data": {
      "text/plain": [
       "   covariance  beta1  beta2   p  mismeasured_coef  mismeasured_allvar_coef  \\\n",
       "0         0.5    1.0    1.0   5          1.249019                 1.148227   \n",
       "1         0.5    1.0    1.0  20          1.306060                 1.065254   \n",
       "2         0.5    1.0    1.0  50          1.300459                 1.019558   \n",
       "\n",
       "   mismeasured_avg_coef  pca_coef  true_val_coef   iv_coef   pca_ape  \\\n",
       "0              1.346894  1.180911       0.964079  1.212860  0.180911   \n",
       "1              1.339793  1.102144       1.009884  1.070822  0.102144   \n",
       "2              1.295226  1.053262       0.993733  1.030565  0.053262   \n",
       "\n",
       "   mismeasured_coef_ape  mismeasured_allvar_coef_ape  \\\n",
       "0              0.249019                     0.148227   \n",
       "1              0.306060                     0.065254   \n",
       "2              0.300459                     0.019558   \n",
       "\n",
       "   mismeasured_avg_coef_ape  iv_coef_ape  \n",
       "0                  0.346894     0.212860  \n",
       "1                  0.339793     0.070822  \n",
       "2                  0.295226     0.030565  "
      ],
      "text/html": "<div>\n<style scoped>\n    .dataframe tbody tr th:only-of-type {\n        vertical-align: middle;\n    }\n\n    .dataframe tbody tr th {\n        vertical-align: top;\n    }\n\n    .dataframe thead th {\n        text-align: right;\n    }\n</style>\n<table border=\"1\" class=\"dataframe\">\n  <thead>\n    <tr style=\"text-align: right;\">\n      <th></th>\n      <th>covariance</th>\n      <th>beta1</th>\n      <th>beta2</th>\n      <th>p</th>\n      <th>mismeasured_coef</th>\n      <th>mismeasured_allvar_coef</th>\n      <th>mismeasured_avg_coef</th>\n      <th>pca_coef</th>\n      <th>true_val_coef</th>\n      <th>iv_coef</th>\n      <th>pca_ape</th>\n      <th>mismeasured_coef_ape</th>\n      <th>mismeasured_allvar_coef_ape</th>\n      <th>mismeasured_avg_coef_ape</th>\n      <th>iv_coef_ape</th>\n    </tr>\n  </thead>\n  <tbody>\n    <tr>\n      <th>0</th>\n      <td>0.5</td>\n      <td>1.0</td>\n      <td>1.0</td>\n      <td>5</td>\n      <td>1.249019</td>\n      <td>1.148227</td>\n      <td>1.346894</td>\n      <td>1.180911</td>\n      <td>0.964079</td>\n      <td>1.212860</td>\n      <td>0.180911</td>\n      <td>0.249019</td>\n      <td>0.148227</td>\n      <td>0.346894</td>\n      <td>0.212860</td>\n    </tr>\n    <tr>\n      <th>1</th>\n      <td>0.5</td>\n      <td>1.0</td>\n      <td>1.0</td>\n      <td>20</td>\n      <td>1.306060</td>\n      <td>1.065254</td>\n      <td>1.339793</td>\n      <td>1.102144</td>\n      <td>1.009884</td>\n      <td>1.070822</td>\n      <td>0.102144</td>\n      <td>0.306060</td>\n      <td>0.065254</td>\n      <td>0.339793</td>\n      <td>0.070822</td>\n    </tr>\n    <tr>\n      <th>2</th>\n      <td>0.5</td>\n      <td>1.0</td>\n      <td>1.0</td>\n      <td>50</td>\n      <td>1.300459</td>\n      <td>1.019558</td>\n      <td>1.295226</td>\n      <td>1.053262</td>\n      <td>0.993733</td>\n      <td>1.030565</td>\n      <td>0.053262</td>\n      <td>0.300459</td>\n      <td>0.019558</td>\n      <td>0.295226</td>\n      <td>0.030565</td>\n    </tr>\n  </tbody>\n</table>\n</div>"
     },
     "metadata": {},
     "execution_count": 12
    }
   ],
   "source": [
    "output.loc[(output['beta1']==1)&(output['beta2']==1)&(output['covariance'] == 0.5)&(output['exp_of_var']=='yes')].groupby(['covariance','beta1','beta2','p']).mean().reset_index()"
   ]
  },
  {
   "cell_type": "code",
   "execution_count": 13,
   "metadata": {},
   "outputs": [
    {
     "output_type": "execute_result",
     "data": {
      "text/plain": [
       "   covariance  beta1  beta2   p  mismeasured_coef  mismeasured_allvar_coef  \\\n",
       "0         0.5    1.0    1.0   5               NaN                      NaN   \n",
       "1         0.5    1.0    1.0  20               NaN                      NaN   \n",
       "2         0.5    1.0    1.0  50               NaN                      NaN   \n",
       "\n",
       "   mismeasured_avg_coef  pca_coef  true_val_coef  iv_coef  pca_ape  \\\n",
       "0                   NaN       NaN            NaN      NaN      NaN   \n",
       "1                   NaN       NaN            NaN      NaN      NaN   \n",
       "2                   NaN       NaN            NaN      NaN      NaN   \n",
       "\n",
       "   mismeasured_coef_ape  mismeasured_allvar_coef_ape  \\\n",
       "0                   NaN                          NaN   \n",
       "1                   NaN                          NaN   \n",
       "2                   NaN                          NaN   \n",
       "\n",
       "   mismeasured_avg_coef_ape  iv_coef_ape  \n",
       "0                       NaN          NaN  \n",
       "1                       NaN          NaN  \n",
       "2                       NaN          NaN  "
      ],
      "text/html": "<div>\n<style scoped>\n    .dataframe tbody tr th:only-of-type {\n        vertical-align: middle;\n    }\n\n    .dataframe tbody tr th {\n        vertical-align: top;\n    }\n\n    .dataframe thead th {\n        text-align: right;\n    }\n</style>\n<table border=\"1\" class=\"dataframe\">\n  <thead>\n    <tr style=\"text-align: right;\">\n      <th></th>\n      <th>covariance</th>\n      <th>beta1</th>\n      <th>beta2</th>\n      <th>p</th>\n      <th>mismeasured_coef</th>\n      <th>mismeasured_allvar_coef</th>\n      <th>mismeasured_avg_coef</th>\n      <th>pca_coef</th>\n      <th>true_val_coef</th>\n      <th>iv_coef</th>\n      <th>pca_ape</th>\n      <th>mismeasured_coef_ape</th>\n      <th>mismeasured_allvar_coef_ape</th>\n      <th>mismeasured_avg_coef_ape</th>\n      <th>iv_coef_ape</th>\n    </tr>\n  </thead>\n  <tbody>\n    <tr>\n      <th>0</th>\n      <td>0.5</td>\n      <td>1.0</td>\n      <td>1.0</td>\n      <td>5</td>\n      <td>NaN</td>\n      <td>NaN</td>\n      <td>NaN</td>\n      <td>NaN</td>\n      <td>NaN</td>\n      <td>NaN</td>\n      <td>NaN</td>\n      <td>NaN</td>\n      <td>NaN</td>\n      <td>NaN</td>\n      <td>NaN</td>\n    </tr>\n    <tr>\n      <th>1</th>\n      <td>0.5</td>\n      <td>1.0</td>\n      <td>1.0</td>\n      <td>20</td>\n      <td>NaN</td>\n      <td>NaN</td>\n      <td>NaN</td>\n      <td>NaN</td>\n      <td>NaN</td>\n      <td>NaN</td>\n      <td>NaN</td>\n      <td>NaN</td>\n      <td>NaN</td>\n      <td>NaN</td>\n      <td>NaN</td>\n    </tr>\n    <tr>\n      <th>2</th>\n      <td>0.5</td>\n      <td>1.0</td>\n      <td>1.0</td>\n      <td>50</td>\n      <td>NaN</td>\n      <td>NaN</td>\n      <td>NaN</td>\n      <td>NaN</td>\n      <td>NaN</td>\n      <td>NaN</td>\n      <td>NaN</td>\n      <td>NaN</td>\n      <td>NaN</td>\n      <td>NaN</td>\n      <td>NaN</td>\n    </tr>\n  </tbody>\n</table>\n</div>"
     },
     "metadata": {},
     "execution_count": 13
    }
   ],
   "source": [
    "output.loc[(output['beta1']==1)&(output['beta2']==1)&(output['covariance'] == 0.5)&(output['exp_of_var']=='yes')].groupby(['covariance','beta1','beta2','p']).std().reset_index()"
   ]
  },
  {
   "cell_type": "code",
   "execution_count": 14,
   "metadata": {},
   "outputs": [],
   "source": [
    "def std_parenth_padder(type_col, col_to_pad):\n",
    "    if type_col == 'std':\n",
    "        return('(' + col_to_pad + ')')\n",
    "    else:\n",
    "        return(col_to_pad)\n",
    "\n",
    "def format_level_0(type_col, col_to_format):\n",
    "    if type_col == 'std':\n",
    "        return('')\n",
    "    else:\n",
    "        return(col_to_format)"
   ]
  },
  {
   "cell_type": "code",
   "execution_count": 15,
   "metadata": {},
   "outputs": [],
   "source": [
    "import regex as re\n",
    "\n",
    "# Pass this function a pandas dataframe of which to create the LaTeX file\n",
    "# dataframe is the df\n",
    "# filename is the save location\n",
    "# index tells if you want the index saved to the file or not\n",
    "def Minimal_Latex(dataframe, filename, index = False):\n",
    "\n",
    "    # Open file\n",
    "    with open(filename, \"w\") as f:\n",
    "        \n",
    "        # Start from the pandas\n",
    "        corrected_table = dataframe.to_latex(header = False, index = index)\n",
    "\n",
    "        # Strip all material that pandas inserts- the tabular environment and toprule and bottomrule\n",
    "        corrected_table = re.sub(r'\\\\begin.+', '', corrected_table)\n",
    "        corrected_table = re.sub(r'\\\\toprule', '', corrected_table)\n",
    "        corrected_table = re.sub(r'\\\\bottomrule', '', corrected_table)\n",
    "        corrected_table = re.sub(r'\\\\end.+', '', corrected_table)\n",
    "\n",
    "        # Write to file and skip blank lines\n",
    "        f.write(corrected_table.strip())"
   ]
  },
  {
   "cell_type": "code",
   "execution_count": 16,
   "metadata": {},
   "outputs": [],
   "source": [
    "coef_names_mapper = {'mismeasured_coef':'Single Measurement', 'mismeasured_allvar_coef':'All Measurements', 'pca_coef':'PCA', 'mismeasured_avg_coef':'Average of Measurements', 'iv_coef':'Instrumental Variable'}\n",
    "ape_names_mapper = {'mismeasured_coef_ape':'Single Measurement', 'mismeasured_allvar_coef_ape':'All Measurements', 'pca_ape':'PCA', 'mismeasured_avg_coef_ape':'Average of Measurements', 'iv_coef_ape':'Instrumental Variable'}"
   ]
  },
  {
   "cell_type": "code",
   "execution_count": 17,
   "metadata": {},
   "outputs": [
    {
     "output_type": "execute_result",
     "data": {
      "text/plain": [
       "    mismeasured_coef  mismeasured_allvar_coef  mismeasured_avg_coef  \\\n",
       "0           0.377291                 0.279092              0.431273   \n",
       "0           0.372929                 0.199632              0.200331   \n",
       "0           1.051855                 1.038778              1.069775   \n",
       "0           0.991493                 0.967623              0.968608   \n",
       "0           0.231100                 0.378299              0.182787   \n",
       "..               ...                      ...                   ...   \n",
       "0           1.750883                 1.469735              1.469053   \n",
       "0           4.018535                 2.814896              4.802446   \n",
       "0           3.895511                 2.086191              2.076864   \n",
       "0          10.285971                10.174535             10.427017   \n",
       "0          10.309383                10.124738             10.123779   \n",
       "\n",
       "     pca_coef  true_val_coef    iv_coef  covariance  beta1  beta2  p  \\\n",
       "0    0.303882       0.101980   0.327421         0.5    0.1    1.0  5   \n",
       "0    0.200412       0.094372   0.220040         0.5    0.1    1.0  5   \n",
       "0    1.046737       1.021211   1.048326         0.5    1.0    0.1  5   \n",
       "0    0.967959       0.953142   0.969589         0.5    1.0    0.1  5   \n",
       "0    0.337343       1.017201   0.315554        -0.9    1.0    1.0  5   \n",
       "..        ...            ...        ...         ...    ...    ... ..   \n",
       "0    1.473203       0.956816   1.519797         0.9    1.0    1.0  5   \n",
       "0    3.191262       0.934235   3.411628         0.5    1.0   10.0  5   \n",
       "0    2.086234       0.982115   2.272068         0.5    1.0   10.0  5   \n",
       "0   10.223802       9.988553  10.238272         0.5   10.0    1.0  5   \n",
       "0   10.124320      10.009970  10.137428         0.5   10.0    1.0  5   \n",
       "\n",
       "   exp_of_var   pca_ape  mismeasured_coef_ape  mismeasured_allvar_coef_ape  \\\n",
       "0         yes  2.038820              2.772914                     1.790919   \n",
       "0          no  1.004116              2.729287                     0.996316   \n",
       "0         yes  0.046737              0.051855                     0.038778   \n",
       "0          no  0.032041              0.008507                     0.032377   \n",
       "0         yes  0.662657              0.768900                     0.621701   \n",
       "..        ...       ...                   ...                          ...   \n",
       "0          no  0.473203              0.750883                     0.469735   \n",
       "0         yes  2.191262              3.018535                     1.814896   \n",
       "0          no  1.086234              2.895511                     1.086191   \n",
       "0         yes  0.022380              0.028597                     0.017453   \n",
       "0          no  0.012432              0.030938                     0.012474   \n",
       "\n",
       "    mismeasured_avg_coef_ape  iv_coef_ape  \n",
       "0                   3.312727     2.274208  \n",
       "0                   1.003306     1.200398  \n",
       "0                   0.069775     0.048326  \n",
       "0                   0.031392     0.030411  \n",
       "0                   0.817213     0.684446  \n",
       "..                       ...          ...  \n",
       "0                   0.469053     0.519797  \n",
       "0                   3.802446     2.411628  \n",
       "0                   1.076864     1.272068  \n",
       "0                   0.042702     0.023827  \n",
       "0                   0.012378     0.013743  \n",
       "\n",
       "[22 rows x 16 columns]"
      ],
      "text/html": "<div>\n<style scoped>\n    .dataframe tbody tr th:only-of-type {\n        vertical-align: middle;\n    }\n\n    .dataframe tbody tr th {\n        vertical-align: top;\n    }\n\n    .dataframe thead th {\n        text-align: right;\n    }\n</style>\n<table border=\"1\" class=\"dataframe\">\n  <thead>\n    <tr style=\"text-align: right;\">\n      <th></th>\n      <th>mismeasured_coef</th>\n      <th>mismeasured_allvar_coef</th>\n      <th>mismeasured_avg_coef</th>\n      <th>pca_coef</th>\n      <th>true_val_coef</th>\n      <th>iv_coef</th>\n      <th>covariance</th>\n      <th>beta1</th>\n      <th>beta2</th>\n      <th>p</th>\n      <th>exp_of_var</th>\n      <th>pca_ape</th>\n      <th>mismeasured_coef_ape</th>\n      <th>mismeasured_allvar_coef_ape</th>\n      <th>mismeasured_avg_coef_ape</th>\n      <th>iv_coef_ape</th>\n    </tr>\n  </thead>\n  <tbody>\n    <tr>\n      <th>0</th>\n      <td>0.377291</td>\n      <td>0.279092</td>\n      <td>0.431273</td>\n      <td>0.303882</td>\n      <td>0.101980</td>\n      <td>0.327421</td>\n      <td>0.5</td>\n      <td>0.1</td>\n      <td>1.0</td>\n      <td>5</td>\n      <td>yes</td>\n      <td>2.038820</td>\n      <td>2.772914</td>\n      <td>1.790919</td>\n      <td>3.312727</td>\n      <td>2.274208</td>\n    </tr>\n    <tr>\n      <th>0</th>\n      <td>0.372929</td>\n      <td>0.199632</td>\n      <td>0.200331</td>\n      <td>0.200412</td>\n      <td>0.094372</td>\n      <td>0.220040</td>\n      <td>0.5</td>\n      <td>0.1</td>\n      <td>1.0</td>\n      <td>5</td>\n      <td>no</td>\n      <td>1.004116</td>\n      <td>2.729287</td>\n      <td>0.996316</td>\n      <td>1.003306</td>\n      <td>1.200398</td>\n    </tr>\n    <tr>\n      <th>0</th>\n      <td>1.051855</td>\n      <td>1.038778</td>\n      <td>1.069775</td>\n      <td>1.046737</td>\n      <td>1.021211</td>\n      <td>1.048326</td>\n      <td>0.5</td>\n      <td>1.0</td>\n      <td>0.1</td>\n      <td>5</td>\n      <td>yes</td>\n      <td>0.046737</td>\n      <td>0.051855</td>\n      <td>0.038778</td>\n      <td>0.069775</td>\n      <td>0.048326</td>\n    </tr>\n    <tr>\n      <th>0</th>\n      <td>0.991493</td>\n      <td>0.967623</td>\n      <td>0.968608</td>\n      <td>0.967959</td>\n      <td>0.953142</td>\n      <td>0.969589</td>\n      <td>0.5</td>\n      <td>1.0</td>\n      <td>0.1</td>\n      <td>5</td>\n      <td>no</td>\n      <td>0.032041</td>\n      <td>0.008507</td>\n      <td>0.032377</td>\n      <td>0.031392</td>\n      <td>0.030411</td>\n    </tr>\n    <tr>\n      <th>0</th>\n      <td>0.231100</td>\n      <td>0.378299</td>\n      <td>0.182787</td>\n      <td>0.337343</td>\n      <td>1.017201</td>\n      <td>0.315554</td>\n      <td>-0.9</td>\n      <td>1.0</td>\n      <td>1.0</td>\n      <td>5</td>\n      <td>yes</td>\n      <td>0.662657</td>\n      <td>0.768900</td>\n      <td>0.621701</td>\n      <td>0.817213</td>\n      <td>0.684446</td>\n    </tr>\n    <tr>\n      <th>...</th>\n      <td>...</td>\n      <td>...</td>\n      <td>...</td>\n      <td>...</td>\n      <td>...</td>\n      <td>...</td>\n      <td>...</td>\n      <td>...</td>\n      <td>...</td>\n      <td>...</td>\n      <td>...</td>\n      <td>...</td>\n      <td>...</td>\n      <td>...</td>\n      <td>...</td>\n      <td>...</td>\n    </tr>\n    <tr>\n      <th>0</th>\n      <td>1.750883</td>\n      <td>1.469735</td>\n      <td>1.469053</td>\n      <td>1.473203</td>\n      <td>0.956816</td>\n      <td>1.519797</td>\n      <td>0.9</td>\n      <td>1.0</td>\n      <td>1.0</td>\n      <td>5</td>\n      <td>no</td>\n      <td>0.473203</td>\n      <td>0.750883</td>\n      <td>0.469735</td>\n      <td>0.469053</td>\n      <td>0.519797</td>\n    </tr>\n    <tr>\n      <th>0</th>\n      <td>4.018535</td>\n      <td>2.814896</td>\n      <td>4.802446</td>\n      <td>3.191262</td>\n      <td>0.934235</td>\n      <td>3.411628</td>\n      <td>0.5</td>\n      <td>1.0</td>\n      <td>10.0</td>\n      <td>5</td>\n      <td>yes</td>\n      <td>2.191262</td>\n      <td>3.018535</td>\n      <td>1.814896</td>\n      <td>3.802446</td>\n      <td>2.411628</td>\n    </tr>\n    <tr>\n      <th>0</th>\n      <td>3.895511</td>\n      <td>2.086191</td>\n      <td>2.076864</td>\n      <td>2.086234</td>\n      <td>0.982115</td>\n      <td>2.272068</td>\n      <td>0.5</td>\n      <td>1.0</td>\n      <td>10.0</td>\n      <td>5</td>\n      <td>no</td>\n      <td>1.086234</td>\n      <td>2.895511</td>\n      <td>1.086191</td>\n      <td>1.076864</td>\n      <td>1.272068</td>\n    </tr>\n    <tr>\n      <th>0</th>\n      <td>10.285971</td>\n      <td>10.174535</td>\n      <td>10.427017</td>\n      <td>10.223802</td>\n      <td>9.988553</td>\n      <td>10.238272</td>\n      <td>0.5</td>\n      <td>10.0</td>\n      <td>1.0</td>\n      <td>5</td>\n      <td>yes</td>\n      <td>0.022380</td>\n      <td>0.028597</td>\n      <td>0.017453</td>\n      <td>0.042702</td>\n      <td>0.023827</td>\n    </tr>\n    <tr>\n      <th>0</th>\n      <td>10.309383</td>\n      <td>10.124738</td>\n      <td>10.123779</td>\n      <td>10.124320</td>\n      <td>10.009970</td>\n      <td>10.137428</td>\n      <td>0.5</td>\n      <td>10.0</td>\n      <td>1.0</td>\n      <td>5</td>\n      <td>no</td>\n      <td>0.012432</td>\n      <td>0.030938</td>\n      <td>0.012474</td>\n      <td>0.012378</td>\n      <td>0.013743</td>\n    </tr>\n  </tbody>\n</table>\n<p>22 rows × 16 columns</p>\n</div>"
     },
     "metadata": {},
     "execution_count": 17
    }
   ],
   "source": [
    "output"
   ]
  },
  {
   "cell_type": "code",
   "execution_count": 23,
   "metadata": {},
   "outputs": [],
   "source": [
    "all_params = ['beta1', 'beta2', 'covariance', 'p']\n",
    "\n",
    "def make_param_tables(dataframe, parameter, exp):\n",
    "\n",
    "    if parameter != 'beta1':\n",
    "        dataframe = dataframe.loc[(dataframe['beta1']==1)]\n",
    "    if parameter != 'beta2':\n",
    "        dataframe = dataframe.loc[(dataframe['beta2']==1)]\n",
    "    if parameter != 'covariance':\n",
    "        dataframe = dataframe.loc[(dataframe['covariance']==0.5)]\n",
    "    if parameter != 'p':\n",
    "        dataframe = dataframe.loc[(dataframe['p']==5)]\n",
    "    dataframe = dataframe.loc[(dataframe['exp_of_var']==exp)]\n",
    "\n",
    "    exp_mapper = {'yes':'exp', 'no':'no_exp'}\n",
    "\n",
    "    dataframe = (dataframe.drop(columns = [variable for variable in all_params if variable != parameter])\n",
    "                          .groupby(parameter)\n",
    "                          .agg(['mean', 'std'])\n",
    "                          .transpose()\n",
    "                          .reset_index())\n",
    "\n",
    "    dataframe.columns = dataframe.columns.map(str)\n",
    "\n",
    "    dataframe_coefs = (dataframe.query('level_0.str.contains(\"coef\")')\n",
    "                                .query('level_0 != \"true_val_coef\"')\n",
    "                                .query('not level_0.str.contains(\"ape\")')\n",
    "                                .round(3)\n",
    "                                .astype(str))\n",
    "\n",
    "    for variable in dataframe_coefs.columns:\n",
    "        if variable != 'level_0' and variable != 'level_1':\n",
    "            dataframe_coefs[variable] = dataframe_coefs.apply(lambda x: std_parenth_padder(x['level_1'], x[variable]), axis = 1)\n",
    "\n",
    "    dataframe_coefs['level_0'] = dataframe_coefs.apply(lambda x: format_level_0(x.level_1, x.level_0), axis = 1)\n",
    "\n",
    "    dataframe_coefs = (dataframe_coefs.drop(columns = 'level_1')\n",
    "                                    .replace(coef_names_mapper))\n",
    "\n",
    "    Minimal_Latex(dataframe_coefs, tables_dir + '/' + parameter + '_coefs_' + exp_mapper[exp] + '.tex')\n",
    "\n",
    "    dataframe_apes = (dataframe.query('level_0.str.contains(\"ape\")')\n",
    "                           .query('level_1 != \"std\"')\n",
    "                           .drop(columns = 'level_1')\n",
    "                           .replace(ape_names_mapper)\n",
    "                           .set_index('level_0')\n",
    "                           .multiply(100)\n",
    "                           .round(1)\n",
    "                           .astype(str)\n",
    "                           .add('%')\n",
    "                           .reset_index())\n",
    "\n",
    "    Minimal_Latex(dataframe_apes, tables_dir + '/' + parameter + '_apes_' + exp_mapper[exp] + '.tex')"
   ]
  },
  {
   "cell_type": "code",
   "execution_count": 26,
   "metadata": {},
   "outputs": [],
   "source": [
    "make_param_tables(output, 'p', 'yes')\n",
    "make_param_tables(output, 'p', 'no')\n",
    "make_param_tables(output, 'covariance', 'yes')\n",
    "make_param_tables(output, 'covariance', 'no')\n",
    "make_param_tables(output, 'beta1', 'yes')\n",
    "make_param_tables(output, 'beta1', 'no')\n",
    "make_param_tables(output, 'beta2', 'yes')\n",
    "make_param_tables(output, 'beta2', 'no')"
   ]
  },
  {
   "cell_type": "code",
   "execution_count": 15,
   "metadata": {},
   "outputs": [
    {
     "output_type": "execute_result",
     "data": {
      "text/plain": [
       "p                       level_0 level_1         5        20        50\n",
       "0              mismeasured_coef    mean  1.291094  1.287353  1.272807\n",
       "1              mismeasured_coef     std       NaN       NaN       NaN\n",
       "2       mismeasured_allvar_coef    mean  1.202170  1.056692  1.032012\n",
       "3       mismeasured_allvar_coef     std       NaN       NaN       NaN\n",
       "4          mismeasured_avg_coef    mean  1.369590  1.389152  1.272396\n",
       "..                          ...     ...       ...       ...       ...\n",
       "17  mismeasured_allvar_coef_ape     std       NaN       NaN       NaN\n",
       "18     mismeasured_avg_coef_ape    mean  0.369590  0.389152  0.272396\n",
       "19     mismeasured_avg_coef_ape     std       NaN       NaN       NaN\n",
       "20                  iv_coef_ape    mean  0.250667  0.063059  0.049174\n",
       "21                  iv_coef_ape     std       NaN       NaN       NaN\n",
       "\n",
       "[22 rows x 5 columns]"
      ],
      "text/html": "<div>\n<style scoped>\n    .dataframe tbody tr th:only-of-type {\n        vertical-align: middle;\n    }\n\n    .dataframe tbody tr th {\n        vertical-align: top;\n    }\n\n    .dataframe thead th {\n        text-align: right;\n    }\n</style>\n<table border=\"1\" class=\"dataframe\">\n  <thead>\n    <tr style=\"text-align: right;\">\n      <th>p</th>\n      <th>level_0</th>\n      <th>level_1</th>\n      <th>5</th>\n      <th>20</th>\n      <th>50</th>\n    </tr>\n  </thead>\n  <tbody>\n    <tr>\n      <th>0</th>\n      <td>mismeasured_coef</td>\n      <td>mean</td>\n      <td>1.291094</td>\n      <td>1.287353</td>\n      <td>1.272807</td>\n    </tr>\n    <tr>\n      <th>1</th>\n      <td>mismeasured_coef</td>\n      <td>std</td>\n      <td>NaN</td>\n      <td>NaN</td>\n      <td>NaN</td>\n    </tr>\n    <tr>\n      <th>2</th>\n      <td>mismeasured_allvar_coef</td>\n      <td>mean</td>\n      <td>1.202170</td>\n      <td>1.056692</td>\n      <td>1.032012</td>\n    </tr>\n    <tr>\n      <th>3</th>\n      <td>mismeasured_allvar_coef</td>\n      <td>std</td>\n      <td>NaN</td>\n      <td>NaN</td>\n      <td>NaN</td>\n    </tr>\n    <tr>\n      <th>4</th>\n      <td>mismeasured_avg_coef</td>\n      <td>mean</td>\n      <td>1.369590</td>\n      <td>1.389152</td>\n      <td>1.272396</td>\n    </tr>\n    <tr>\n      <th>...</th>\n      <td>...</td>\n      <td>...</td>\n      <td>...</td>\n      <td>...</td>\n      <td>...</td>\n    </tr>\n    <tr>\n      <th>17</th>\n      <td>mismeasured_allvar_coef_ape</td>\n      <td>std</td>\n      <td>NaN</td>\n      <td>NaN</td>\n      <td>NaN</td>\n    </tr>\n    <tr>\n      <th>18</th>\n      <td>mismeasured_avg_coef_ape</td>\n      <td>mean</td>\n      <td>0.369590</td>\n      <td>0.389152</td>\n      <td>0.272396</td>\n    </tr>\n    <tr>\n      <th>19</th>\n      <td>mismeasured_avg_coef_ape</td>\n      <td>std</td>\n      <td>NaN</td>\n      <td>NaN</td>\n      <td>NaN</td>\n    </tr>\n    <tr>\n      <th>20</th>\n      <td>iv_coef_ape</td>\n      <td>mean</td>\n      <td>0.250667</td>\n      <td>0.063059</td>\n      <td>0.049174</td>\n    </tr>\n    <tr>\n      <th>21</th>\n      <td>iv_coef_ape</td>\n      <td>std</td>\n      <td>NaN</td>\n      <td>NaN</td>\n      <td>NaN</td>\n    </tr>\n  </tbody>\n</table>\n<p>22 rows × 5 columns</p>\n</div>"
     },
     "metadata": {},
     "execution_count": 15
    }
   ],
   "source": [
    "sim_reg_p = (output.loc[(output['beta1']==1)&(output['beta2']==1)&(output['covariance'] == 0.5)&(output['exp_of_var']=='yes')]\n",
    "                   .drop(columns=['covariance', 'beta1', 'beta2'])\n",
    "                   .groupby('p')\n",
    "                   .agg(['mean', 'std'])\n",
    "                   .transpose()\n",
    "                   .reset_index())\n",
    "\n",
    "sim_reg_p.columns = sim_reg_p.columns.map(str)\n",
    "\n",
    "sim_reg_p"
   ]
  },
  {
   "cell_type": "code",
   "execution_count": 37,
   "metadata": {},
   "outputs": [
    {
     "output_type": "execute_result",
     "data": {
      "text/plain": [
       "p                   level_0      5     20     50\n",
       "0        Single Measurement  1.291  1.287  1.273\n",
       "1                            (nan)  (nan)  (nan)\n",
       "2          All Measurements  1.202  1.057  1.032\n",
       "3                            (nan)  (nan)  (nan)\n",
       "4   Average of Measurements   1.37  1.389  1.272\n",
       "5                            (nan)  (nan)  (nan)\n",
       "6                       PCA  1.218  1.086  1.069\n",
       "7                            (nan)  (nan)  (nan)\n",
       "10    Instrumental Variable  1.251  1.063  1.049\n",
       "11                           (nan)  (nan)  (nan)"
      ],
      "text/html": "<div>\n<style scoped>\n    .dataframe tbody tr th:only-of-type {\n        vertical-align: middle;\n    }\n\n    .dataframe tbody tr th {\n        vertical-align: top;\n    }\n\n    .dataframe thead th {\n        text-align: right;\n    }\n</style>\n<table border=\"1\" class=\"dataframe\">\n  <thead>\n    <tr style=\"text-align: right;\">\n      <th>p</th>\n      <th>level_0</th>\n      <th>5</th>\n      <th>20</th>\n      <th>50</th>\n    </tr>\n  </thead>\n  <tbody>\n    <tr>\n      <th>0</th>\n      <td>Single Measurement</td>\n      <td>1.291</td>\n      <td>1.287</td>\n      <td>1.273</td>\n    </tr>\n    <tr>\n      <th>1</th>\n      <td></td>\n      <td>(nan)</td>\n      <td>(nan)</td>\n      <td>(nan)</td>\n    </tr>\n    <tr>\n      <th>2</th>\n      <td>All Measurements</td>\n      <td>1.202</td>\n      <td>1.057</td>\n      <td>1.032</td>\n    </tr>\n    <tr>\n      <th>3</th>\n      <td></td>\n      <td>(nan)</td>\n      <td>(nan)</td>\n      <td>(nan)</td>\n    </tr>\n    <tr>\n      <th>4</th>\n      <td>Average of Measurements</td>\n      <td>1.37</td>\n      <td>1.389</td>\n      <td>1.272</td>\n    </tr>\n    <tr>\n      <th>5</th>\n      <td></td>\n      <td>(nan)</td>\n      <td>(nan)</td>\n      <td>(nan)</td>\n    </tr>\n    <tr>\n      <th>6</th>\n      <td>PCA</td>\n      <td>1.218</td>\n      <td>1.086</td>\n      <td>1.069</td>\n    </tr>\n    <tr>\n      <th>7</th>\n      <td></td>\n      <td>(nan)</td>\n      <td>(nan)</td>\n      <td>(nan)</td>\n    </tr>\n    <tr>\n      <th>10</th>\n      <td>Instrumental Variable</td>\n      <td>1.251</td>\n      <td>1.063</td>\n      <td>1.049</td>\n    </tr>\n    <tr>\n      <th>11</th>\n      <td></td>\n      <td>(nan)</td>\n      <td>(nan)</td>\n      <td>(nan)</td>\n    </tr>\n  </tbody>\n</table>\n</div>"
     },
     "metadata": {},
     "execution_count": 37
    }
   ],
   "source": [
    "sim_reg_p_coefs = (sim_reg_p.query('level_0.str.contains(\"coef\")')\n",
    "                            .query('level_0 != \"true_val_coef\"')\n",
    "                            .query('not level_0.str.contains(\"ape\")')\n",
    "                            .round(3)\n",
    "                            .astype(str))\n",
    "\n",
    "for variable in sim_reg_p_coefs.columns:\n",
    "    if variable != 'level_0' and variable != 'level_1':\n",
    "        sim_reg_p_coefs[variable] = sim_reg_p_coefs.apply(lambda x: std_parenth_padder(x['level_1'], x[variable]), axis = 1)\n",
    "\n",
    "sim_reg_p_coefs['level_0'] = sim_reg_p_coefs.apply(lambda x: format_level_0(x.level_1, x.level_0), axis = 1)\n",
    "\n",
    "sim_reg_p_coefs = (sim_reg_p_coefs.drop(columns = 'level_1')\n",
    "                                  .replace(coef_names_mapper))\n",
    "\n",
    "Minimal_Latex(sim_reg_p_coefs, tables_dir + '/p_coefs_exp.tex')\n",
    "\n",
    "sim_reg_p_coefs"
   ]
  },
  {
   "cell_type": "code",
   "execution_count": 20,
   "metadata": {},
   "outputs": [
    {
     "output_type": "execute_result",
     "data": {
      "text/plain": [
       "p                  level_0      5     20     50\n",
       "0                      PCA  21.8%   8.6%   6.9%\n",
       "1       Single Measurement  29.1%  28.7%  27.3%\n",
       "2         All Measurements  20.2%   5.7%   3.2%\n",
       "3  Average of Measurements  37.0%  38.9%  27.2%\n",
       "4    Instrumental Variable  25.1%   6.3%   4.9%"
      ],
      "text/html": "<div>\n<style scoped>\n    .dataframe tbody tr th:only-of-type {\n        vertical-align: middle;\n    }\n\n    .dataframe tbody tr th {\n        vertical-align: top;\n    }\n\n    .dataframe thead th {\n        text-align: right;\n    }\n</style>\n<table border=\"1\" class=\"dataframe\">\n  <thead>\n    <tr style=\"text-align: right;\">\n      <th>p</th>\n      <th>level_0</th>\n      <th>5</th>\n      <th>20</th>\n      <th>50</th>\n    </tr>\n  </thead>\n  <tbody>\n    <tr>\n      <th>0</th>\n      <td>PCA</td>\n      <td>21.8%</td>\n      <td>8.6%</td>\n      <td>6.9%</td>\n    </tr>\n    <tr>\n      <th>1</th>\n      <td>Single Measurement</td>\n      <td>29.1%</td>\n      <td>28.7%</td>\n      <td>27.3%</td>\n    </tr>\n    <tr>\n      <th>2</th>\n      <td>All Measurements</td>\n      <td>20.2%</td>\n      <td>5.7%</td>\n      <td>3.2%</td>\n    </tr>\n    <tr>\n      <th>3</th>\n      <td>Average of Measurements</td>\n      <td>37.0%</td>\n      <td>38.9%</td>\n      <td>27.2%</td>\n    </tr>\n    <tr>\n      <th>4</th>\n      <td>Instrumental Variable</td>\n      <td>25.1%</td>\n      <td>6.3%</td>\n      <td>4.9%</td>\n    </tr>\n  </tbody>\n</table>\n</div>"
     },
     "metadata": {},
     "execution_count": 20
    }
   ],
   "source": [
    "sim_reg_p_apes = (sim_reg_p.query('level_0.str.contains(\"ape\")')\n",
    "                           .query('level_1 != \"std\"')\n",
    "                           .drop(columns = 'level_1')\n",
    "                           .replace(ape_names_mapper)\n",
    "                           .set_index('level_0')\n",
    "                           .multiply(100)\n",
    "                           .round(1)\n",
    "                           .astype(str)\n",
    "                           .add('%')\n",
    "                           .reset_index())\n",
    "\n",
    "Minimal_Latex(sim_reg_p_apes, tables_dir + '/p_apes_exp.tex')\n",
    "\n",
    "sim_reg_p_apes"
   ]
  },
  {
   "cell_type": "code",
   "execution_count": 21,
   "metadata": {},
   "outputs": [
    {
     "output_type": "execute_result",
     "data": {
      "text/plain": [
       "   covariance  beta1  beta2  p  mismeasured_coef  mismeasured_allvar_coef  \\\n",
       "0         0.5    0.1    1.0  5          0.445947                 0.348861   \n",
       "1         0.5    1.0    1.0  5          1.291094                 1.202170   \n",
       "2         0.5   10.0    1.0  5         10.300260                10.200572   \n",
       "\n",
       "   mismeasured_avg_coef   pca_coef  true_val_coef    iv_coef   pca_ape  \\\n",
       "0              0.505847   0.357510       0.150895   0.397701  2.575095   \n",
       "1              1.369590   1.218430       1.013308   1.250667  0.218430   \n",
       "2             10.404253  10.222112      10.016336  10.247470  0.022211   \n",
       "\n",
       "   mismeasured_coef_ape  mismeasured_allvar_coef_ape  \\\n",
       "0              3.459468                     2.488615   \n",
       "1              0.291094                     0.202170   \n",
       "2              0.030026                     0.020057   \n",
       "\n",
       "   mismeasured_avg_coef_ape  iv_coef_ape  \n",
       "0                  4.058471     2.977008  \n",
       "1                  0.369590     0.250667  \n",
       "2                  0.040425     0.024747  "
      ],
      "text/html": "<div>\n<style scoped>\n    .dataframe tbody tr th:only-of-type {\n        vertical-align: middle;\n    }\n\n    .dataframe tbody tr th {\n        vertical-align: top;\n    }\n\n    .dataframe thead th {\n        text-align: right;\n    }\n</style>\n<table border=\"1\" class=\"dataframe\">\n  <thead>\n    <tr style=\"text-align: right;\">\n      <th></th>\n      <th>covariance</th>\n      <th>beta1</th>\n      <th>beta2</th>\n      <th>p</th>\n      <th>mismeasured_coef</th>\n      <th>mismeasured_allvar_coef</th>\n      <th>mismeasured_avg_coef</th>\n      <th>pca_coef</th>\n      <th>true_val_coef</th>\n      <th>iv_coef</th>\n      <th>pca_ape</th>\n      <th>mismeasured_coef_ape</th>\n      <th>mismeasured_allvar_coef_ape</th>\n      <th>mismeasured_avg_coef_ape</th>\n      <th>iv_coef_ape</th>\n    </tr>\n  </thead>\n  <tbody>\n    <tr>\n      <th>0</th>\n      <td>0.5</td>\n      <td>0.1</td>\n      <td>1.0</td>\n      <td>5</td>\n      <td>0.445947</td>\n      <td>0.348861</td>\n      <td>0.505847</td>\n      <td>0.357510</td>\n      <td>0.150895</td>\n      <td>0.397701</td>\n      <td>2.575095</td>\n      <td>3.459468</td>\n      <td>2.488615</td>\n      <td>4.058471</td>\n      <td>2.977008</td>\n    </tr>\n    <tr>\n      <th>1</th>\n      <td>0.5</td>\n      <td>1.0</td>\n      <td>1.0</td>\n      <td>5</td>\n      <td>1.291094</td>\n      <td>1.202170</td>\n      <td>1.369590</td>\n      <td>1.218430</td>\n      <td>1.013308</td>\n      <td>1.250667</td>\n      <td>0.218430</td>\n      <td>0.291094</td>\n      <td>0.202170</td>\n      <td>0.369590</td>\n      <td>0.250667</td>\n    </tr>\n    <tr>\n      <th>2</th>\n      <td>0.5</td>\n      <td>10.0</td>\n      <td>1.0</td>\n      <td>5</td>\n      <td>10.300260</td>\n      <td>10.200572</td>\n      <td>10.404253</td>\n      <td>10.222112</td>\n      <td>10.016336</td>\n      <td>10.247470</td>\n      <td>0.022211</td>\n      <td>0.030026</td>\n      <td>0.020057</td>\n      <td>0.040425</td>\n      <td>0.024747</td>\n    </tr>\n  </tbody>\n</table>\n</div>"
     },
     "metadata": {},
     "execution_count": 21
    }
   ],
   "source": [
    "output.loc[(output['p']==5)&(output['beta2']==1)&(output['covariance'] == 0.5)&(output['exp_of_var']=='yes')].groupby(['covariance','beta1','beta2','p']).mean().reset_index()"
   ]
  },
  {
   "cell_type": "code",
   "execution_count": 22,
   "metadata": {},
   "outputs": [
    {
     "output_type": "execute_result",
     "data": {
      "text/plain": [
       "   covariance  beta1  beta2  p  mismeasured_coef  mismeasured_allvar_coef  \\\n",
       "0         0.5    0.1    1.0  5               NaN                      NaN   \n",
       "1         0.5    1.0    1.0  5               NaN                      NaN   \n",
       "2         0.5   10.0    1.0  5               NaN                      NaN   \n",
       "\n",
       "   mismeasured_avg_coef  pca_coef  true_val_coef  iv_coef  pca_ape  \\\n",
       "0                   NaN       NaN            NaN      NaN      NaN   \n",
       "1                   NaN       NaN            NaN      NaN      NaN   \n",
       "2                   NaN       NaN            NaN      NaN      NaN   \n",
       "\n",
       "   mismeasured_coef_ape  mismeasured_allvar_coef_ape  \\\n",
       "0                   NaN                          NaN   \n",
       "1                   NaN                          NaN   \n",
       "2                   NaN                          NaN   \n",
       "\n",
       "   mismeasured_avg_coef_ape  iv_coef_ape  \n",
       "0                       NaN          NaN  \n",
       "1                       NaN          NaN  \n",
       "2                       NaN          NaN  "
      ],
      "text/html": "<div>\n<style scoped>\n    .dataframe tbody tr th:only-of-type {\n        vertical-align: middle;\n    }\n\n    .dataframe tbody tr th {\n        vertical-align: top;\n    }\n\n    .dataframe thead th {\n        text-align: right;\n    }\n</style>\n<table border=\"1\" class=\"dataframe\">\n  <thead>\n    <tr style=\"text-align: right;\">\n      <th></th>\n      <th>covariance</th>\n      <th>beta1</th>\n      <th>beta2</th>\n      <th>p</th>\n      <th>mismeasured_coef</th>\n      <th>mismeasured_allvar_coef</th>\n      <th>mismeasured_avg_coef</th>\n      <th>pca_coef</th>\n      <th>true_val_coef</th>\n      <th>iv_coef</th>\n      <th>pca_ape</th>\n      <th>mismeasured_coef_ape</th>\n      <th>mismeasured_allvar_coef_ape</th>\n      <th>mismeasured_avg_coef_ape</th>\n      <th>iv_coef_ape</th>\n    </tr>\n  </thead>\n  <tbody>\n    <tr>\n      <th>0</th>\n      <td>0.5</td>\n      <td>0.1</td>\n      <td>1.0</td>\n      <td>5</td>\n      <td>NaN</td>\n      <td>NaN</td>\n      <td>NaN</td>\n      <td>NaN</td>\n      <td>NaN</td>\n      <td>NaN</td>\n      <td>NaN</td>\n      <td>NaN</td>\n      <td>NaN</td>\n      <td>NaN</td>\n      <td>NaN</td>\n    </tr>\n    <tr>\n      <th>1</th>\n      <td>0.5</td>\n      <td>1.0</td>\n      <td>1.0</td>\n      <td>5</td>\n      <td>NaN</td>\n      <td>NaN</td>\n      <td>NaN</td>\n      <td>NaN</td>\n      <td>NaN</td>\n      <td>NaN</td>\n      <td>NaN</td>\n      <td>NaN</td>\n      <td>NaN</td>\n      <td>NaN</td>\n      <td>NaN</td>\n    </tr>\n    <tr>\n      <th>2</th>\n      <td>0.5</td>\n      <td>10.0</td>\n      <td>1.0</td>\n      <td>5</td>\n      <td>NaN</td>\n      <td>NaN</td>\n      <td>NaN</td>\n      <td>NaN</td>\n      <td>NaN</td>\n      <td>NaN</td>\n      <td>NaN</td>\n      <td>NaN</td>\n      <td>NaN</td>\n      <td>NaN</td>\n      <td>NaN</td>\n    </tr>\n  </tbody>\n</table>\n</div>"
     },
     "metadata": {},
     "execution_count": 22
    }
   ],
   "source": [
    "output.loc[(output['p']==5)&(output['beta2']==1)&(output['covariance'] == 0.5)&(output['exp_of_var']=='yes')].groupby(['covariance','beta1','beta2','p']).std().reset_index()"
   ]
  },
  {
   "cell_type": "code",
   "execution_count": null,
   "metadata": {},
   "outputs": [],
   "source": []
  },
  {
   "cell_type": "code",
   "execution_count": 23,
   "metadata": {},
   "outputs": [
    {
     "output_type": "execute_result",
     "data": {
      "text/plain": [
       "   covariance  beta1  beta2  p  mismeasured_coef  mismeasured_allvar_coef  \\\n",
       "0         0.5    1.0    0.1  5          1.021745                 1.018229   \n",
       "1         0.5    1.0    1.0  5          1.291094                 1.202170   \n",
       "2         0.5    1.0   10.0  5          3.695676                 2.714978   \n",
       "\n",
       "   mismeasured_avg_coef  pca_coef  true_val_coef   iv_coef   pca_ape  \\\n",
       "0              1.032710  1.016478       0.999252  1.025073  0.016478   \n",
       "1              1.369590  1.218430       1.013308  1.250667  0.218430   \n",
       "2              4.332358  2.847117       0.980931  3.113385  1.847117   \n",
       "\n",
       "   mismeasured_coef_ape  mismeasured_allvar_coef_ape  \\\n",
       "0              0.021745                     0.018229   \n",
       "1              0.291094                     0.202170   \n",
       "2              2.695676                     1.714978   \n",
       "\n",
       "   mismeasured_avg_coef_ape  iv_coef_ape  \n",
       "0                  0.032710     0.025073  \n",
       "1                  0.369590     0.250667  \n",
       "2                  3.332358     2.113385  "
      ],
      "text/html": "<div>\n<style scoped>\n    .dataframe tbody tr th:only-of-type {\n        vertical-align: middle;\n    }\n\n    .dataframe tbody tr th {\n        vertical-align: top;\n    }\n\n    .dataframe thead th {\n        text-align: right;\n    }\n</style>\n<table border=\"1\" class=\"dataframe\">\n  <thead>\n    <tr style=\"text-align: right;\">\n      <th></th>\n      <th>covariance</th>\n      <th>beta1</th>\n      <th>beta2</th>\n      <th>p</th>\n      <th>mismeasured_coef</th>\n      <th>mismeasured_allvar_coef</th>\n      <th>mismeasured_avg_coef</th>\n      <th>pca_coef</th>\n      <th>true_val_coef</th>\n      <th>iv_coef</th>\n      <th>pca_ape</th>\n      <th>mismeasured_coef_ape</th>\n      <th>mismeasured_allvar_coef_ape</th>\n      <th>mismeasured_avg_coef_ape</th>\n      <th>iv_coef_ape</th>\n    </tr>\n  </thead>\n  <tbody>\n    <tr>\n      <th>0</th>\n      <td>0.5</td>\n      <td>1.0</td>\n      <td>0.1</td>\n      <td>5</td>\n      <td>1.021745</td>\n      <td>1.018229</td>\n      <td>1.032710</td>\n      <td>1.016478</td>\n      <td>0.999252</td>\n      <td>1.025073</td>\n      <td>0.016478</td>\n      <td>0.021745</td>\n      <td>0.018229</td>\n      <td>0.032710</td>\n      <td>0.025073</td>\n    </tr>\n    <tr>\n      <th>1</th>\n      <td>0.5</td>\n      <td>1.0</td>\n      <td>1.0</td>\n      <td>5</td>\n      <td>1.291094</td>\n      <td>1.202170</td>\n      <td>1.369590</td>\n      <td>1.218430</td>\n      <td>1.013308</td>\n      <td>1.250667</td>\n      <td>0.218430</td>\n      <td>0.291094</td>\n      <td>0.202170</td>\n      <td>0.369590</td>\n      <td>0.250667</td>\n    </tr>\n    <tr>\n      <th>2</th>\n      <td>0.5</td>\n      <td>1.0</td>\n      <td>10.0</td>\n      <td>5</td>\n      <td>3.695676</td>\n      <td>2.714978</td>\n      <td>4.332358</td>\n      <td>2.847117</td>\n      <td>0.980931</td>\n      <td>3.113385</td>\n      <td>1.847117</td>\n      <td>2.695676</td>\n      <td>1.714978</td>\n      <td>3.332358</td>\n      <td>2.113385</td>\n    </tr>\n  </tbody>\n</table>\n</div>"
     },
     "metadata": {},
     "execution_count": 23
    }
   ],
   "source": [
    "output.loc[(output['beta1']==1)&(output['p']==5)&(output['covariance'] == 0.5)&(output['exp_of_var']=='yes')].groupby(['covariance','beta1','beta2','p']).mean().reset_index()"
   ]
  },
  {
   "cell_type": "code",
   "execution_count": 24,
   "metadata": {},
   "outputs": [
    {
     "output_type": "execute_result",
     "data": {
      "text/plain": [
       "   covariance  beta1  beta2  p  mismeasured_coef  mismeasured_allvar_coef  \\\n",
       "0         0.5    1.0    0.1  5               NaN                      NaN   \n",
       "1         0.5    1.0    1.0  5               NaN                      NaN   \n",
       "2         0.5    1.0   10.0  5               NaN                      NaN   \n",
       "\n",
       "   mismeasured_avg_coef  pca_coef  true_val_coef  iv_coef  pca_ape  \\\n",
       "0                   NaN       NaN            NaN      NaN      NaN   \n",
       "1                   NaN       NaN            NaN      NaN      NaN   \n",
       "2                   NaN       NaN            NaN      NaN      NaN   \n",
       "\n",
       "   mismeasured_coef_ape  mismeasured_allvar_coef_ape  \\\n",
       "0                   NaN                          NaN   \n",
       "1                   NaN                          NaN   \n",
       "2                   NaN                          NaN   \n",
       "\n",
       "   mismeasured_avg_coef_ape  iv_coef_ape  \n",
       "0                       NaN          NaN  \n",
       "1                       NaN          NaN  \n",
       "2                       NaN          NaN  "
      ],
      "text/html": "<div>\n<style scoped>\n    .dataframe tbody tr th:only-of-type {\n        vertical-align: middle;\n    }\n\n    .dataframe tbody tr th {\n        vertical-align: top;\n    }\n\n    .dataframe thead th {\n        text-align: right;\n    }\n</style>\n<table border=\"1\" class=\"dataframe\">\n  <thead>\n    <tr style=\"text-align: right;\">\n      <th></th>\n      <th>covariance</th>\n      <th>beta1</th>\n      <th>beta2</th>\n      <th>p</th>\n      <th>mismeasured_coef</th>\n      <th>mismeasured_allvar_coef</th>\n      <th>mismeasured_avg_coef</th>\n      <th>pca_coef</th>\n      <th>true_val_coef</th>\n      <th>iv_coef</th>\n      <th>pca_ape</th>\n      <th>mismeasured_coef_ape</th>\n      <th>mismeasured_allvar_coef_ape</th>\n      <th>mismeasured_avg_coef_ape</th>\n      <th>iv_coef_ape</th>\n    </tr>\n  </thead>\n  <tbody>\n    <tr>\n      <th>0</th>\n      <td>0.5</td>\n      <td>1.0</td>\n      <td>0.1</td>\n      <td>5</td>\n      <td>NaN</td>\n      <td>NaN</td>\n      <td>NaN</td>\n      <td>NaN</td>\n      <td>NaN</td>\n      <td>NaN</td>\n      <td>NaN</td>\n      <td>NaN</td>\n      <td>NaN</td>\n      <td>NaN</td>\n      <td>NaN</td>\n    </tr>\n    <tr>\n      <th>1</th>\n      <td>0.5</td>\n      <td>1.0</td>\n      <td>1.0</td>\n      <td>5</td>\n      <td>NaN</td>\n      <td>NaN</td>\n      <td>NaN</td>\n      <td>NaN</td>\n      <td>NaN</td>\n      <td>NaN</td>\n      <td>NaN</td>\n      <td>NaN</td>\n      <td>NaN</td>\n      <td>NaN</td>\n      <td>NaN</td>\n    </tr>\n    <tr>\n      <th>2</th>\n      <td>0.5</td>\n      <td>1.0</td>\n      <td>10.0</td>\n      <td>5</td>\n      <td>NaN</td>\n      <td>NaN</td>\n      <td>NaN</td>\n      <td>NaN</td>\n      <td>NaN</td>\n      <td>NaN</td>\n      <td>NaN</td>\n      <td>NaN</td>\n      <td>NaN</td>\n      <td>NaN</td>\n      <td>NaN</td>\n    </tr>\n  </tbody>\n</table>\n</div>"
     },
     "metadata": {},
     "execution_count": 24
    }
   ],
   "source": [
    "output.loc[(output['beta1']==1)&(output['p']==5)&(output['covariance'] == 0.5)&(output['exp_of_var']=='yes')].groupby(['covariance','beta1','beta2','p']).std().reset_index()"
   ]
  },
  {
   "cell_type": "code",
   "execution_count": null,
   "metadata": {},
   "outputs": [],
   "source": []
  },
  {
   "cell_type": "code",
   "execution_count": 25,
   "metadata": {},
   "outputs": [
    {
     "output_type": "execute_result",
     "data": {
      "text/plain": [
       "   covariance  beta1  beta2  p  mismeasured_coef  mismeasured_allvar_coef  \\\n",
       "0        -0.9    1.0    1.0  5          0.235847                 0.392131   \n",
       "1        -0.5    1.0    1.0  5          0.681573                 0.787653   \n",
       "2         0.0    1.0    1.0  5          1.027288                 1.006356   \n",
       "3         0.5    1.0    1.0  5          1.291094                 1.202170   \n",
       "4         0.9    1.0    1.0  5          1.781831                 1.647855   \n",
       "\n",
       "   mismeasured_avg_coef  pca_coef  true_val_coef   iv_coef   pca_ape  \\\n",
       "0              0.177337  0.317124       1.083198  0.324254  0.682876   \n",
       "1              0.593620  0.762918       0.967402  0.727432  0.237082   \n",
       "2              1.008815  0.989807       1.019853  0.993084  0.010193   \n",
       "3              1.369590  1.218430       1.013308  1.250667  0.218430   \n",
       "4              1.836136  1.689498       1.042054  1.746970  0.689498   \n",
       "\n",
       "   mismeasured_coef_ape  mismeasured_allvar_coef_ape  \\\n",
       "0              0.764153                     0.607869   \n",
       "1              0.318427                     0.212347   \n",
       "2              0.027288                     0.006356   \n",
       "3              0.291094                     0.202170   \n",
       "4              0.781831                     0.647855   \n",
       "\n",
       "   mismeasured_avg_coef_ape  iv_coef_ape  \n",
       "0                  0.822663     0.675746  \n",
       "1                  0.406380     0.272568  \n",
       "2                  0.008815     0.006916  \n",
       "3                  0.369590     0.250667  \n",
       "4                  0.836136     0.746970  "
      ],
      "text/html": "<div>\n<style scoped>\n    .dataframe tbody tr th:only-of-type {\n        vertical-align: middle;\n    }\n\n    .dataframe tbody tr th {\n        vertical-align: top;\n    }\n\n    .dataframe thead th {\n        text-align: right;\n    }\n</style>\n<table border=\"1\" class=\"dataframe\">\n  <thead>\n    <tr style=\"text-align: right;\">\n      <th></th>\n      <th>covariance</th>\n      <th>beta1</th>\n      <th>beta2</th>\n      <th>p</th>\n      <th>mismeasured_coef</th>\n      <th>mismeasured_allvar_coef</th>\n      <th>mismeasured_avg_coef</th>\n      <th>pca_coef</th>\n      <th>true_val_coef</th>\n      <th>iv_coef</th>\n      <th>pca_ape</th>\n      <th>mismeasured_coef_ape</th>\n      <th>mismeasured_allvar_coef_ape</th>\n      <th>mismeasured_avg_coef_ape</th>\n      <th>iv_coef_ape</th>\n    </tr>\n  </thead>\n  <tbody>\n    <tr>\n      <th>0</th>\n      <td>-0.9</td>\n      <td>1.0</td>\n      <td>1.0</td>\n      <td>5</td>\n      <td>0.235847</td>\n      <td>0.392131</td>\n      <td>0.177337</td>\n      <td>0.317124</td>\n      <td>1.083198</td>\n      <td>0.324254</td>\n      <td>0.682876</td>\n      <td>0.764153</td>\n      <td>0.607869</td>\n      <td>0.822663</td>\n      <td>0.675746</td>\n    </tr>\n    <tr>\n      <th>1</th>\n      <td>-0.5</td>\n      <td>1.0</td>\n      <td>1.0</td>\n      <td>5</td>\n      <td>0.681573</td>\n      <td>0.787653</td>\n      <td>0.593620</td>\n      <td>0.762918</td>\n      <td>0.967402</td>\n      <td>0.727432</td>\n      <td>0.237082</td>\n      <td>0.318427</td>\n      <td>0.212347</td>\n      <td>0.406380</td>\n      <td>0.272568</td>\n    </tr>\n    <tr>\n      <th>2</th>\n      <td>0.0</td>\n      <td>1.0</td>\n      <td>1.0</td>\n      <td>5</td>\n      <td>1.027288</td>\n      <td>1.006356</td>\n      <td>1.008815</td>\n      <td>0.989807</td>\n      <td>1.019853</td>\n      <td>0.993084</td>\n      <td>0.010193</td>\n      <td>0.027288</td>\n      <td>0.006356</td>\n      <td>0.008815</td>\n      <td>0.006916</td>\n    </tr>\n    <tr>\n      <th>3</th>\n      <td>0.5</td>\n      <td>1.0</td>\n      <td>1.0</td>\n      <td>5</td>\n      <td>1.291094</td>\n      <td>1.202170</td>\n      <td>1.369590</td>\n      <td>1.218430</td>\n      <td>1.013308</td>\n      <td>1.250667</td>\n      <td>0.218430</td>\n      <td>0.291094</td>\n      <td>0.202170</td>\n      <td>0.369590</td>\n      <td>0.250667</td>\n    </tr>\n    <tr>\n      <th>4</th>\n      <td>0.9</td>\n      <td>1.0</td>\n      <td>1.0</td>\n      <td>5</td>\n      <td>1.781831</td>\n      <td>1.647855</td>\n      <td>1.836136</td>\n      <td>1.689498</td>\n      <td>1.042054</td>\n      <td>1.746970</td>\n      <td>0.689498</td>\n      <td>0.781831</td>\n      <td>0.647855</td>\n      <td>0.836136</td>\n      <td>0.746970</td>\n    </tr>\n  </tbody>\n</table>\n</div>"
     },
     "metadata": {},
     "execution_count": 25
    }
   ],
   "source": [
    "output.loc[(output['beta1']==1)&(output['beta2']==1)&(output['p'] == 5)&(output['exp_of_var']=='yes')].groupby(['covariance','beta1','beta2','p']).mean().reset_index()"
   ]
  },
  {
   "cell_type": "code",
   "execution_count": 26,
   "metadata": {},
   "outputs": [
    {
     "output_type": "execute_result",
     "data": {
      "text/plain": [
       "   covariance  beta1  beta2  p  mismeasured_coef  mismeasured_allvar_coef  \\\n",
       "0        -0.9    1.0    1.0  5               NaN                      NaN   \n",
       "1        -0.5    1.0    1.0  5               NaN                      NaN   \n",
       "2         0.0    1.0    1.0  5               NaN                      NaN   \n",
       "3         0.5    1.0    1.0  5               NaN                      NaN   \n",
       "4         0.9    1.0    1.0  5               NaN                      NaN   \n",
       "\n",
       "   mismeasured_avg_coef  pca_coef  true_val_coef  iv_coef  pca_ape  \\\n",
       "0                   NaN       NaN            NaN      NaN      NaN   \n",
       "1                   NaN       NaN            NaN      NaN      NaN   \n",
       "2                   NaN       NaN            NaN      NaN      NaN   \n",
       "3                   NaN       NaN            NaN      NaN      NaN   \n",
       "4                   NaN       NaN            NaN      NaN      NaN   \n",
       "\n",
       "   mismeasured_coef_ape  mismeasured_allvar_coef_ape  \\\n",
       "0                   NaN                          NaN   \n",
       "1                   NaN                          NaN   \n",
       "2                   NaN                          NaN   \n",
       "3                   NaN                          NaN   \n",
       "4                   NaN                          NaN   \n",
       "\n",
       "   mismeasured_avg_coef_ape  iv_coef_ape  \n",
       "0                       NaN          NaN  \n",
       "1                       NaN          NaN  \n",
       "2                       NaN          NaN  \n",
       "3                       NaN          NaN  \n",
       "4                       NaN          NaN  "
      ],
      "text/html": "<div>\n<style scoped>\n    .dataframe tbody tr th:only-of-type {\n        vertical-align: middle;\n    }\n\n    .dataframe tbody tr th {\n        vertical-align: top;\n    }\n\n    .dataframe thead th {\n        text-align: right;\n    }\n</style>\n<table border=\"1\" class=\"dataframe\">\n  <thead>\n    <tr style=\"text-align: right;\">\n      <th></th>\n      <th>covariance</th>\n      <th>beta1</th>\n      <th>beta2</th>\n      <th>p</th>\n      <th>mismeasured_coef</th>\n      <th>mismeasured_allvar_coef</th>\n      <th>mismeasured_avg_coef</th>\n      <th>pca_coef</th>\n      <th>true_val_coef</th>\n      <th>iv_coef</th>\n      <th>pca_ape</th>\n      <th>mismeasured_coef_ape</th>\n      <th>mismeasured_allvar_coef_ape</th>\n      <th>mismeasured_avg_coef_ape</th>\n      <th>iv_coef_ape</th>\n    </tr>\n  </thead>\n  <tbody>\n    <tr>\n      <th>0</th>\n      <td>-0.9</td>\n      <td>1.0</td>\n      <td>1.0</td>\n      <td>5</td>\n      <td>NaN</td>\n      <td>NaN</td>\n      <td>NaN</td>\n      <td>NaN</td>\n      <td>NaN</td>\n      <td>NaN</td>\n      <td>NaN</td>\n      <td>NaN</td>\n      <td>NaN</td>\n      <td>NaN</td>\n      <td>NaN</td>\n    </tr>\n    <tr>\n      <th>1</th>\n      <td>-0.5</td>\n      <td>1.0</td>\n      <td>1.0</td>\n      <td>5</td>\n      <td>NaN</td>\n      <td>NaN</td>\n      <td>NaN</td>\n      <td>NaN</td>\n      <td>NaN</td>\n      <td>NaN</td>\n      <td>NaN</td>\n      <td>NaN</td>\n      <td>NaN</td>\n      <td>NaN</td>\n      <td>NaN</td>\n    </tr>\n    <tr>\n      <th>2</th>\n      <td>0.0</td>\n      <td>1.0</td>\n      <td>1.0</td>\n      <td>5</td>\n      <td>NaN</td>\n      <td>NaN</td>\n      <td>NaN</td>\n      <td>NaN</td>\n      <td>NaN</td>\n      <td>NaN</td>\n      <td>NaN</td>\n      <td>NaN</td>\n      <td>NaN</td>\n      <td>NaN</td>\n      <td>NaN</td>\n    </tr>\n    <tr>\n      <th>3</th>\n      <td>0.5</td>\n      <td>1.0</td>\n      <td>1.0</td>\n      <td>5</td>\n      <td>NaN</td>\n      <td>NaN</td>\n      <td>NaN</td>\n      <td>NaN</td>\n      <td>NaN</td>\n      <td>NaN</td>\n      <td>NaN</td>\n      <td>NaN</td>\n      <td>NaN</td>\n      <td>NaN</td>\n      <td>NaN</td>\n    </tr>\n    <tr>\n      <th>4</th>\n      <td>0.9</td>\n      <td>1.0</td>\n      <td>1.0</td>\n      <td>5</td>\n      <td>NaN</td>\n      <td>NaN</td>\n      <td>NaN</td>\n      <td>NaN</td>\n      <td>NaN</td>\n      <td>NaN</td>\n      <td>NaN</td>\n      <td>NaN</td>\n      <td>NaN</td>\n      <td>NaN</td>\n      <td>NaN</td>\n    </tr>\n  </tbody>\n</table>\n</div>"
     },
     "metadata": {},
     "execution_count": 26
    }
   ],
   "source": [
    "output.loc[(output['beta1']==1)&(output['beta2']==1)&(output['p'] == 5)&(output['exp_of_var']=='yes')].groupby(['covariance','beta1','beta2','p']).std().reset_index()"
   ]
  },
  {
   "cell_type": "code",
   "execution_count": null,
   "metadata": {},
   "outputs": [],
   "source": []
  },
  {
   "cell_type": "code",
   "execution_count": null,
   "metadata": {},
   "outputs": [],
   "source": []
  },
  {
   "cell_type": "code",
   "execution_count": 27,
   "metadata": {},
   "outputs": [
    {
     "output_type": "execute_result",
     "data": {
      "text/plain": [
       "   covariance  beta1  beta2   p exp_of_var  mismeasured_coef  \\\n",
       "0         0.5    1.0    1.0   5         no          1.258312   \n",
       "1         0.5    1.0    1.0  20         no          1.241807   \n",
       "2         0.5    1.0    1.0  50         no          1.261167   \n",
       "\n",
       "   mismeasured_allvar_coef  mismeasured_avg_coef  pca_coef  true_val_coef  \\\n",
       "0                 1.095794              1.095758  1.096222       0.992379   \n",
       "1                 0.994611              0.994304  0.994011       0.963097   \n",
       "2                 0.997339              1.000701  1.001475       0.986863   \n",
       "\n",
       "    iv_coef   pca_ape  mismeasured_coef_ape  mismeasured_allvar_coef_ape  \\\n",
       "0  1.114558  0.096222              0.258312                     0.095794   \n",
       "1  1.003725  0.005989              0.241807                     0.005389   \n",
       "2  1.015967  0.001475              0.261167                     0.002661   \n",
       "\n",
       "   mismeasured_avg_coef_ape  iv_coef_ape  \n",
       "0                  0.095758     0.114558  \n",
       "1                  0.005696     0.003725  \n",
       "2                  0.000701     0.015967  "
      ],
      "text/html": "<div>\n<style scoped>\n    .dataframe tbody tr th:only-of-type {\n        vertical-align: middle;\n    }\n\n    .dataframe tbody tr th {\n        vertical-align: top;\n    }\n\n    .dataframe thead th {\n        text-align: right;\n    }\n</style>\n<table border=\"1\" class=\"dataframe\">\n  <thead>\n    <tr style=\"text-align: right;\">\n      <th></th>\n      <th>covariance</th>\n      <th>beta1</th>\n      <th>beta2</th>\n      <th>p</th>\n      <th>exp_of_var</th>\n      <th>mismeasured_coef</th>\n      <th>mismeasured_allvar_coef</th>\n      <th>mismeasured_avg_coef</th>\n      <th>pca_coef</th>\n      <th>true_val_coef</th>\n      <th>iv_coef</th>\n      <th>pca_ape</th>\n      <th>mismeasured_coef_ape</th>\n      <th>mismeasured_allvar_coef_ape</th>\n      <th>mismeasured_avg_coef_ape</th>\n      <th>iv_coef_ape</th>\n    </tr>\n  </thead>\n  <tbody>\n    <tr>\n      <th>0</th>\n      <td>0.5</td>\n      <td>1.0</td>\n      <td>1.0</td>\n      <td>5</td>\n      <td>no</td>\n      <td>1.258312</td>\n      <td>1.095794</td>\n      <td>1.095758</td>\n      <td>1.096222</td>\n      <td>0.992379</td>\n      <td>1.114558</td>\n      <td>0.096222</td>\n      <td>0.258312</td>\n      <td>0.095794</td>\n      <td>0.095758</td>\n      <td>0.114558</td>\n    </tr>\n    <tr>\n      <th>1</th>\n      <td>0.5</td>\n      <td>1.0</td>\n      <td>1.0</td>\n      <td>20</td>\n      <td>no</td>\n      <td>1.241807</td>\n      <td>0.994611</td>\n      <td>0.994304</td>\n      <td>0.994011</td>\n      <td>0.963097</td>\n      <td>1.003725</td>\n      <td>0.005989</td>\n      <td>0.241807</td>\n      <td>0.005389</td>\n      <td>0.005696</td>\n      <td>0.003725</td>\n    </tr>\n    <tr>\n      <th>2</th>\n      <td>0.5</td>\n      <td>1.0</td>\n      <td>1.0</td>\n      <td>50</td>\n      <td>no</td>\n      <td>1.261167</td>\n      <td>0.997339</td>\n      <td>1.000701</td>\n      <td>1.001475</td>\n      <td>0.986863</td>\n      <td>1.015967</td>\n      <td>0.001475</td>\n      <td>0.261167</td>\n      <td>0.002661</td>\n      <td>0.000701</td>\n      <td>0.015967</td>\n    </tr>\n  </tbody>\n</table>\n</div>"
     },
     "metadata": {},
     "execution_count": 27
    }
   ],
   "source": [
    "output.loc[(output['beta1']==1)&(output['beta2']==1)&(output['covariance'] == 0.5)&(output['exp_of_var']=='no')].groupby(['covariance','beta1','beta2','p','exp_of_var']).mean().reset_index()"
   ]
  },
  {
   "cell_type": "code",
   "execution_count": 28,
   "metadata": {},
   "outputs": [
    {
     "output_type": "execute_result",
     "data": {
      "text/plain": [
       "   covariance  beta1  beta2   p exp_of_var  mismeasured_coef  \\\n",
       "0         0.5    1.0    1.0   5         no               NaN   \n",
       "1         0.5    1.0    1.0  20         no               NaN   \n",
       "2         0.5    1.0    1.0  50         no               NaN   \n",
       "\n",
       "   mismeasured_allvar_coef  mismeasured_avg_coef  pca_coef  true_val_coef  \\\n",
       "0                      NaN                   NaN       NaN            NaN   \n",
       "1                      NaN                   NaN       NaN            NaN   \n",
       "2                      NaN                   NaN       NaN            NaN   \n",
       "\n",
       "   iv_coef  pca_ape  mismeasured_coef_ape  mismeasured_allvar_coef_ape  \\\n",
       "0      NaN      NaN                   NaN                          NaN   \n",
       "1      NaN      NaN                   NaN                          NaN   \n",
       "2      NaN      NaN                   NaN                          NaN   \n",
       "\n",
       "   mismeasured_avg_coef_ape  iv_coef_ape  \n",
       "0                       NaN          NaN  \n",
       "1                       NaN          NaN  \n",
       "2                       NaN          NaN  "
      ],
      "text/html": "<div>\n<style scoped>\n    .dataframe tbody tr th:only-of-type {\n        vertical-align: middle;\n    }\n\n    .dataframe tbody tr th {\n        vertical-align: top;\n    }\n\n    .dataframe thead th {\n        text-align: right;\n    }\n</style>\n<table border=\"1\" class=\"dataframe\">\n  <thead>\n    <tr style=\"text-align: right;\">\n      <th></th>\n      <th>covariance</th>\n      <th>beta1</th>\n      <th>beta2</th>\n      <th>p</th>\n      <th>exp_of_var</th>\n      <th>mismeasured_coef</th>\n      <th>mismeasured_allvar_coef</th>\n      <th>mismeasured_avg_coef</th>\n      <th>pca_coef</th>\n      <th>true_val_coef</th>\n      <th>iv_coef</th>\n      <th>pca_ape</th>\n      <th>mismeasured_coef_ape</th>\n      <th>mismeasured_allvar_coef_ape</th>\n      <th>mismeasured_avg_coef_ape</th>\n      <th>iv_coef_ape</th>\n    </tr>\n  </thead>\n  <tbody>\n    <tr>\n      <th>0</th>\n      <td>0.5</td>\n      <td>1.0</td>\n      <td>1.0</td>\n      <td>5</td>\n      <td>no</td>\n      <td>NaN</td>\n      <td>NaN</td>\n      <td>NaN</td>\n      <td>NaN</td>\n      <td>NaN</td>\n      <td>NaN</td>\n      <td>NaN</td>\n      <td>NaN</td>\n      <td>NaN</td>\n      <td>NaN</td>\n      <td>NaN</td>\n    </tr>\n    <tr>\n      <th>1</th>\n      <td>0.5</td>\n      <td>1.0</td>\n      <td>1.0</td>\n      <td>20</td>\n      <td>no</td>\n      <td>NaN</td>\n      <td>NaN</td>\n      <td>NaN</td>\n      <td>NaN</td>\n      <td>NaN</td>\n      <td>NaN</td>\n      <td>NaN</td>\n      <td>NaN</td>\n      <td>NaN</td>\n      <td>NaN</td>\n      <td>NaN</td>\n    </tr>\n    <tr>\n      <th>2</th>\n      <td>0.5</td>\n      <td>1.0</td>\n      <td>1.0</td>\n      <td>50</td>\n      <td>no</td>\n      <td>NaN</td>\n      <td>NaN</td>\n      <td>NaN</td>\n      <td>NaN</td>\n      <td>NaN</td>\n      <td>NaN</td>\n      <td>NaN</td>\n      <td>NaN</td>\n      <td>NaN</td>\n      <td>NaN</td>\n      <td>NaN</td>\n    </tr>\n  </tbody>\n</table>\n</div>"
     },
     "metadata": {},
     "execution_count": 28
    }
   ],
   "source": [
    "output.loc[(output['beta1']==1)&(output['beta2']==1)&(output['covariance'] == 0.5)&(output['exp_of_var']=='no')].groupby(['covariance','beta1','beta2','p','exp_of_var']).std().reset_index()"
   ]
  },
  {
   "cell_type": "code",
   "execution_count": null,
   "metadata": {},
   "outputs": [],
   "source": []
  },
  {
   "cell_type": "code",
   "execution_count": 29,
   "metadata": {},
   "outputs": [
    {
     "output_type": "execute_result",
     "data": {
      "text/plain": [
       "   covariance  beta1  beta2  p  mismeasured_coef  mismeasured_allvar_coef  \\\n",
       "0         0.5    0.1    1.0  5          0.375271                 0.175215   \n",
       "1         0.5    1.0    1.0  5          1.258312                 1.095794   \n",
       "2         0.5   10.0    1.0  5         10.305082                10.128265   \n",
       "\n",
       "   mismeasured_avg_coef   pca_coef  true_val_coef    iv_coef   pca_ape  \\\n",
       "0              0.177722   0.178527       0.083039   0.194237  0.785271   \n",
       "1              1.095758   1.096222       0.992379   1.114558  0.096222   \n",
       "2             10.133195  10.133776      10.014083  10.156800  0.013378   \n",
       "\n",
       "   mismeasured_coef_ape  mismeasured_allvar_coef_ape  \\\n",
       "0              2.752708                     0.752152   \n",
       "1              0.258312                     0.095794   \n",
       "2              0.030508                     0.012826   \n",
       "\n",
       "   mismeasured_avg_coef_ape  iv_coef_ape  \n",
       "0                  0.777220     0.942368  \n",
       "1                  0.095758     0.114558  \n",
       "2                  0.013319     0.015680  "
      ],
      "text/html": "<div>\n<style scoped>\n    .dataframe tbody tr th:only-of-type {\n        vertical-align: middle;\n    }\n\n    .dataframe tbody tr th {\n        vertical-align: top;\n    }\n\n    .dataframe thead th {\n        text-align: right;\n    }\n</style>\n<table border=\"1\" class=\"dataframe\">\n  <thead>\n    <tr style=\"text-align: right;\">\n      <th></th>\n      <th>covariance</th>\n      <th>beta1</th>\n      <th>beta2</th>\n      <th>p</th>\n      <th>mismeasured_coef</th>\n      <th>mismeasured_allvar_coef</th>\n      <th>mismeasured_avg_coef</th>\n      <th>pca_coef</th>\n      <th>true_val_coef</th>\n      <th>iv_coef</th>\n      <th>pca_ape</th>\n      <th>mismeasured_coef_ape</th>\n      <th>mismeasured_allvar_coef_ape</th>\n      <th>mismeasured_avg_coef_ape</th>\n      <th>iv_coef_ape</th>\n    </tr>\n  </thead>\n  <tbody>\n    <tr>\n      <th>0</th>\n      <td>0.5</td>\n      <td>0.1</td>\n      <td>1.0</td>\n      <td>5</td>\n      <td>0.375271</td>\n      <td>0.175215</td>\n      <td>0.177722</td>\n      <td>0.178527</td>\n      <td>0.083039</td>\n      <td>0.194237</td>\n      <td>0.785271</td>\n      <td>2.752708</td>\n      <td>0.752152</td>\n      <td>0.777220</td>\n      <td>0.942368</td>\n    </tr>\n    <tr>\n      <th>1</th>\n      <td>0.5</td>\n      <td>1.0</td>\n      <td>1.0</td>\n      <td>5</td>\n      <td>1.258312</td>\n      <td>1.095794</td>\n      <td>1.095758</td>\n      <td>1.096222</td>\n      <td>0.992379</td>\n      <td>1.114558</td>\n      <td>0.096222</td>\n      <td>0.258312</td>\n      <td>0.095794</td>\n      <td>0.095758</td>\n      <td>0.114558</td>\n    </tr>\n    <tr>\n      <th>2</th>\n      <td>0.5</td>\n      <td>10.0</td>\n      <td>1.0</td>\n      <td>5</td>\n      <td>10.305082</td>\n      <td>10.128265</td>\n      <td>10.133195</td>\n      <td>10.133776</td>\n      <td>10.014083</td>\n      <td>10.156800</td>\n      <td>0.013378</td>\n      <td>0.030508</td>\n      <td>0.012826</td>\n      <td>0.013319</td>\n      <td>0.015680</td>\n    </tr>\n  </tbody>\n</table>\n</div>"
     },
     "metadata": {},
     "execution_count": 29
    }
   ],
   "source": [
    "output.loc[(output['p']==5)&(output['beta2']==1)&(output['covariance'] == 0.5)&(output['exp_of_var']=='no')].groupby(['covariance','beta1','beta2','p']).mean().reset_index()"
   ]
  },
  {
   "cell_type": "code",
   "execution_count": 30,
   "metadata": {},
   "outputs": [
    {
     "output_type": "execute_result",
     "data": {
      "text/plain": [
       "   covariance  beta1  beta2  p  mismeasured_coef  mismeasured_allvar_coef  \\\n",
       "0         0.5    0.1    1.0  5               NaN                      NaN   \n",
       "1         0.5    1.0    1.0  5               NaN                      NaN   \n",
       "2         0.5   10.0    1.0  5               NaN                      NaN   \n",
       "\n",
       "   mismeasured_avg_coef  pca_coef  true_val_coef  iv_coef  pca_ape  \\\n",
       "0                   NaN       NaN            NaN      NaN      NaN   \n",
       "1                   NaN       NaN            NaN      NaN      NaN   \n",
       "2                   NaN       NaN            NaN      NaN      NaN   \n",
       "\n",
       "   mismeasured_coef_ape  mismeasured_allvar_coef_ape  \\\n",
       "0                   NaN                          NaN   \n",
       "1                   NaN                          NaN   \n",
       "2                   NaN                          NaN   \n",
       "\n",
       "   mismeasured_avg_coef_ape  iv_coef_ape  \n",
       "0                       NaN          NaN  \n",
       "1                       NaN          NaN  \n",
       "2                       NaN          NaN  "
      ],
      "text/html": "<div>\n<style scoped>\n    .dataframe tbody tr th:only-of-type {\n        vertical-align: middle;\n    }\n\n    .dataframe tbody tr th {\n        vertical-align: top;\n    }\n\n    .dataframe thead th {\n        text-align: right;\n    }\n</style>\n<table border=\"1\" class=\"dataframe\">\n  <thead>\n    <tr style=\"text-align: right;\">\n      <th></th>\n      <th>covariance</th>\n      <th>beta1</th>\n      <th>beta2</th>\n      <th>p</th>\n      <th>mismeasured_coef</th>\n      <th>mismeasured_allvar_coef</th>\n      <th>mismeasured_avg_coef</th>\n      <th>pca_coef</th>\n      <th>true_val_coef</th>\n      <th>iv_coef</th>\n      <th>pca_ape</th>\n      <th>mismeasured_coef_ape</th>\n      <th>mismeasured_allvar_coef_ape</th>\n      <th>mismeasured_avg_coef_ape</th>\n      <th>iv_coef_ape</th>\n    </tr>\n  </thead>\n  <tbody>\n    <tr>\n      <th>0</th>\n      <td>0.5</td>\n      <td>0.1</td>\n      <td>1.0</td>\n      <td>5</td>\n      <td>NaN</td>\n      <td>NaN</td>\n      <td>NaN</td>\n      <td>NaN</td>\n      <td>NaN</td>\n      <td>NaN</td>\n      <td>NaN</td>\n      <td>NaN</td>\n      <td>NaN</td>\n      <td>NaN</td>\n      <td>NaN</td>\n    </tr>\n    <tr>\n      <th>1</th>\n      <td>0.5</td>\n      <td>1.0</td>\n      <td>1.0</td>\n      <td>5</td>\n      <td>NaN</td>\n      <td>NaN</td>\n      <td>NaN</td>\n      <td>NaN</td>\n      <td>NaN</td>\n      <td>NaN</td>\n      <td>NaN</td>\n      <td>NaN</td>\n      <td>NaN</td>\n      <td>NaN</td>\n      <td>NaN</td>\n    </tr>\n    <tr>\n      <th>2</th>\n      <td>0.5</td>\n      <td>10.0</td>\n      <td>1.0</td>\n      <td>5</td>\n      <td>NaN</td>\n      <td>NaN</td>\n      <td>NaN</td>\n      <td>NaN</td>\n      <td>NaN</td>\n      <td>NaN</td>\n      <td>NaN</td>\n      <td>NaN</td>\n      <td>NaN</td>\n      <td>NaN</td>\n      <td>NaN</td>\n    </tr>\n  </tbody>\n</table>\n</div>"
     },
     "metadata": {},
     "execution_count": 30
    }
   ],
   "source": [
    "output.loc[(output['p']==5)&(output['beta2']==1)&(output['covariance'] == 0.5)&(output['exp_of_var']=='no')].groupby(['covariance','beta1','beta2','p']).std().reset_index()"
   ]
  },
  {
   "cell_type": "code",
   "execution_count": null,
   "metadata": {},
   "outputs": [],
   "source": []
  },
  {
   "cell_type": "code",
   "execution_count": 31,
   "metadata": {},
   "outputs": [
    {
     "output_type": "execute_result",
     "data": {
      "text/plain": [
       "   covariance  beta1  beta2  p  mismeasured_coef  mismeasured_allvar_coef  \\\n",
       "0         0.5    1.0    0.1  5          1.035365                 1.032301   \n",
       "1         0.5    1.0    1.0  5          1.258312                 1.095794   \n",
       "2         0.5    1.0   10.0  5          3.808352                 2.024050   \n",
       "\n",
       "   mismeasured_avg_coef  pca_coef  true_val_coef   iv_coef   pca_ape  \\\n",
       "0              1.031463  1.031474       1.008527  1.036892  0.031474   \n",
       "1              1.095758  1.096222       0.992379  1.114558  0.096222   \n",
       "2              2.024561  2.025534       0.982236  2.155608  1.025534   \n",
       "\n",
       "   mismeasured_coef_ape  mismeasured_allvar_coef_ape  \\\n",
       "0              0.035365                     0.032301   \n",
       "1              0.258312                     0.095794   \n",
       "2              2.808352                     1.024050   \n",
       "\n",
       "   mismeasured_avg_coef_ape  iv_coef_ape  \n",
       "0                  0.031463     0.036892  \n",
       "1                  0.095758     0.114558  \n",
       "2                  1.024561     1.155608  "
      ],
      "text/html": "<div>\n<style scoped>\n    .dataframe tbody tr th:only-of-type {\n        vertical-align: middle;\n    }\n\n    .dataframe tbody tr th {\n        vertical-align: top;\n    }\n\n    .dataframe thead th {\n        text-align: right;\n    }\n</style>\n<table border=\"1\" class=\"dataframe\">\n  <thead>\n    <tr style=\"text-align: right;\">\n      <th></th>\n      <th>covariance</th>\n      <th>beta1</th>\n      <th>beta2</th>\n      <th>p</th>\n      <th>mismeasured_coef</th>\n      <th>mismeasured_allvar_coef</th>\n      <th>mismeasured_avg_coef</th>\n      <th>pca_coef</th>\n      <th>true_val_coef</th>\n      <th>iv_coef</th>\n      <th>pca_ape</th>\n      <th>mismeasured_coef_ape</th>\n      <th>mismeasured_allvar_coef_ape</th>\n      <th>mismeasured_avg_coef_ape</th>\n      <th>iv_coef_ape</th>\n    </tr>\n  </thead>\n  <tbody>\n    <tr>\n      <th>0</th>\n      <td>0.5</td>\n      <td>1.0</td>\n      <td>0.1</td>\n      <td>5</td>\n      <td>1.035365</td>\n      <td>1.032301</td>\n      <td>1.031463</td>\n      <td>1.031474</td>\n      <td>1.008527</td>\n      <td>1.036892</td>\n      <td>0.031474</td>\n      <td>0.035365</td>\n      <td>0.032301</td>\n      <td>0.031463</td>\n      <td>0.036892</td>\n    </tr>\n    <tr>\n      <th>1</th>\n      <td>0.5</td>\n      <td>1.0</td>\n      <td>1.0</td>\n      <td>5</td>\n      <td>1.258312</td>\n      <td>1.095794</td>\n      <td>1.095758</td>\n      <td>1.096222</td>\n      <td>0.992379</td>\n      <td>1.114558</td>\n      <td>0.096222</td>\n      <td>0.258312</td>\n      <td>0.095794</td>\n      <td>0.095758</td>\n      <td>0.114558</td>\n    </tr>\n    <tr>\n      <th>2</th>\n      <td>0.5</td>\n      <td>1.0</td>\n      <td>10.0</td>\n      <td>5</td>\n      <td>3.808352</td>\n      <td>2.024050</td>\n      <td>2.024561</td>\n      <td>2.025534</td>\n      <td>0.982236</td>\n      <td>2.155608</td>\n      <td>1.025534</td>\n      <td>2.808352</td>\n      <td>1.024050</td>\n      <td>1.024561</td>\n      <td>1.155608</td>\n    </tr>\n  </tbody>\n</table>\n</div>"
     },
     "metadata": {},
     "execution_count": 31
    }
   ],
   "source": [
    "output.loc[(output['beta1']==1)&(output['p']==5)&(output['covariance'] == 0.5)&(output['exp_of_var']=='no')].groupby(['covariance','beta1','beta2','p']).mean().reset_index()"
   ]
  },
  {
   "cell_type": "code",
   "execution_count": 32,
   "metadata": {},
   "outputs": [
    {
     "output_type": "execute_result",
     "data": {
      "text/plain": [
       "   covariance  beta1  beta2  p  mismeasured_coef  mismeasured_allvar_coef  \\\n",
       "0         0.5    1.0    0.1  5               NaN                      NaN   \n",
       "1         0.5    1.0    1.0  5               NaN                      NaN   \n",
       "2         0.5    1.0   10.0  5               NaN                      NaN   \n",
       "\n",
       "   mismeasured_avg_coef  pca_coef  true_val_coef  iv_coef  pca_ape  \\\n",
       "0                   NaN       NaN            NaN      NaN      NaN   \n",
       "1                   NaN       NaN            NaN      NaN      NaN   \n",
       "2                   NaN       NaN            NaN      NaN      NaN   \n",
       "\n",
       "   mismeasured_coef_ape  mismeasured_allvar_coef_ape  \\\n",
       "0                   NaN                          NaN   \n",
       "1                   NaN                          NaN   \n",
       "2                   NaN                          NaN   \n",
       "\n",
       "   mismeasured_avg_coef_ape  iv_coef_ape  \n",
       "0                       NaN          NaN  \n",
       "1                       NaN          NaN  \n",
       "2                       NaN          NaN  "
      ],
      "text/html": "<div>\n<style scoped>\n    .dataframe tbody tr th:only-of-type {\n        vertical-align: middle;\n    }\n\n    .dataframe tbody tr th {\n        vertical-align: top;\n    }\n\n    .dataframe thead th {\n        text-align: right;\n    }\n</style>\n<table border=\"1\" class=\"dataframe\">\n  <thead>\n    <tr style=\"text-align: right;\">\n      <th></th>\n      <th>covariance</th>\n      <th>beta1</th>\n      <th>beta2</th>\n      <th>p</th>\n      <th>mismeasured_coef</th>\n      <th>mismeasured_allvar_coef</th>\n      <th>mismeasured_avg_coef</th>\n      <th>pca_coef</th>\n      <th>true_val_coef</th>\n      <th>iv_coef</th>\n      <th>pca_ape</th>\n      <th>mismeasured_coef_ape</th>\n      <th>mismeasured_allvar_coef_ape</th>\n      <th>mismeasured_avg_coef_ape</th>\n      <th>iv_coef_ape</th>\n    </tr>\n  </thead>\n  <tbody>\n    <tr>\n      <th>0</th>\n      <td>0.5</td>\n      <td>1.0</td>\n      <td>0.1</td>\n      <td>5</td>\n      <td>NaN</td>\n      <td>NaN</td>\n      <td>NaN</td>\n      <td>NaN</td>\n      <td>NaN</td>\n      <td>NaN</td>\n      <td>NaN</td>\n      <td>NaN</td>\n      <td>NaN</td>\n      <td>NaN</td>\n      <td>NaN</td>\n    </tr>\n    <tr>\n      <th>1</th>\n      <td>0.5</td>\n      <td>1.0</td>\n      <td>1.0</td>\n      <td>5</td>\n      <td>NaN</td>\n      <td>NaN</td>\n      <td>NaN</td>\n      <td>NaN</td>\n      <td>NaN</td>\n      <td>NaN</td>\n      <td>NaN</td>\n      <td>NaN</td>\n      <td>NaN</td>\n      <td>NaN</td>\n      <td>NaN</td>\n    </tr>\n    <tr>\n      <th>2</th>\n      <td>0.5</td>\n      <td>1.0</td>\n      <td>10.0</td>\n      <td>5</td>\n      <td>NaN</td>\n      <td>NaN</td>\n      <td>NaN</td>\n      <td>NaN</td>\n      <td>NaN</td>\n      <td>NaN</td>\n      <td>NaN</td>\n      <td>NaN</td>\n      <td>NaN</td>\n      <td>NaN</td>\n      <td>NaN</td>\n    </tr>\n  </tbody>\n</table>\n</div>"
     },
     "metadata": {},
     "execution_count": 32
    }
   ],
   "source": [
    "output.loc[(output['beta1']==1)&(output['p']==5)&(output['covariance'] == 0.5)&(output['exp_of_var']=='no')].groupby(['covariance','beta1','beta2','p']).std().reset_index()"
   ]
  },
  {
   "cell_type": "code",
   "execution_count": 36,
   "metadata": {},
   "outputs": [
    {
     "output_type": "execute_result",
     "data": {
      "text/plain": [
       "covariance                      level_0 level_1      -0.9      -0.5       0.0  \\\n",
       "0                      mismeasured_coef    mean  0.275767  0.691142  0.975645   \n",
       "1                      mismeasured_coef     std       NaN       NaN       NaN   \n",
       "2               mismeasured_allvar_coef    mean  0.558765  0.853960  0.986584   \n",
       "3               mismeasured_allvar_coef     std       NaN       NaN       NaN   \n",
       "4                  mismeasured_avg_coef    mean  0.563751  0.853613  0.986390   \n",
       "..                                  ...     ...       ...       ...       ...   \n",
       "17          mismeasured_allvar_coef_ape     std       NaN       NaN       NaN   \n",
       "18             mismeasured_avg_coef_ape    mean  0.436249  0.146387  0.013610   \n",
       "19             mismeasured_avg_coef_ape     std       NaN       NaN       NaN   \n",
       "20                          iv_coef_ape    mean  0.497614  0.167115  0.012421   \n",
       "21                          iv_coef_ape     std       NaN       NaN       NaN   \n",
       "\n",
       "covariance       0.5       0.9  \n",
       "0           1.258312  1.750059  \n",
       "1                NaN       NaN  \n",
       "2           1.095794  1.448422  \n",
       "3                NaN       NaN  \n",
       "4           1.095758  1.449573  \n",
       "..               ...       ...  \n",
       "17               NaN       NaN  \n",
       "18          0.095758  0.449573  \n",
       "19               NaN       NaN  \n",
       "20          0.114558  0.491268  \n",
       "21               NaN       NaN  \n",
       "\n",
       "[22 rows x 7 columns]"
      ],
      "text/html": "<div>\n<style scoped>\n    .dataframe tbody tr th:only-of-type {\n        vertical-align: middle;\n    }\n\n    .dataframe tbody tr th {\n        vertical-align: top;\n    }\n\n    .dataframe thead th {\n        text-align: right;\n    }\n</style>\n<table border=\"1\" class=\"dataframe\">\n  <thead>\n    <tr style=\"text-align: right;\">\n      <th>covariance</th>\n      <th>level_0</th>\n      <th>level_1</th>\n      <th>-0.9</th>\n      <th>-0.5</th>\n      <th>0.0</th>\n      <th>0.5</th>\n      <th>0.9</th>\n    </tr>\n  </thead>\n  <tbody>\n    <tr>\n      <th>0</th>\n      <td>mismeasured_coef</td>\n      <td>mean</td>\n      <td>0.275767</td>\n      <td>0.691142</td>\n      <td>0.975645</td>\n      <td>1.258312</td>\n      <td>1.750059</td>\n    </tr>\n    <tr>\n      <th>1</th>\n      <td>mismeasured_coef</td>\n      <td>std</td>\n      <td>NaN</td>\n      <td>NaN</td>\n      <td>NaN</td>\n      <td>NaN</td>\n      <td>NaN</td>\n    </tr>\n    <tr>\n      <th>2</th>\n      <td>mismeasured_allvar_coef</td>\n      <td>mean</td>\n      <td>0.558765</td>\n      <td>0.853960</td>\n      <td>0.986584</td>\n      <td>1.095794</td>\n      <td>1.448422</td>\n    </tr>\n    <tr>\n      <th>3</th>\n      <td>mismeasured_allvar_coef</td>\n      <td>std</td>\n      <td>NaN</td>\n      <td>NaN</td>\n      <td>NaN</td>\n      <td>NaN</td>\n      <td>NaN</td>\n    </tr>\n    <tr>\n      <th>4</th>\n      <td>mismeasured_avg_coef</td>\n      <td>mean</td>\n      <td>0.563751</td>\n      <td>0.853613</td>\n      <td>0.986390</td>\n      <td>1.095758</td>\n      <td>1.449573</td>\n    </tr>\n    <tr>\n      <th>...</th>\n      <td>...</td>\n      <td>...</td>\n      <td>...</td>\n      <td>...</td>\n      <td>...</td>\n      <td>...</td>\n      <td>...</td>\n    </tr>\n    <tr>\n      <th>17</th>\n      <td>mismeasured_allvar_coef_ape</td>\n      <td>std</td>\n      <td>NaN</td>\n      <td>NaN</td>\n      <td>NaN</td>\n      <td>NaN</td>\n      <td>NaN</td>\n    </tr>\n    <tr>\n      <th>18</th>\n      <td>mismeasured_avg_coef_ape</td>\n      <td>mean</td>\n      <td>0.436249</td>\n      <td>0.146387</td>\n      <td>0.013610</td>\n      <td>0.095758</td>\n      <td>0.449573</td>\n    </tr>\n    <tr>\n      <th>19</th>\n      <td>mismeasured_avg_coef_ape</td>\n      <td>std</td>\n      <td>NaN</td>\n      <td>NaN</td>\n      <td>NaN</td>\n      <td>NaN</td>\n      <td>NaN</td>\n    </tr>\n    <tr>\n      <th>20</th>\n      <td>iv_coef_ape</td>\n      <td>mean</td>\n      <td>0.497614</td>\n      <td>0.167115</td>\n      <td>0.012421</td>\n      <td>0.114558</td>\n      <td>0.491268</td>\n    </tr>\n    <tr>\n      <th>21</th>\n      <td>iv_coef_ape</td>\n      <td>std</td>\n      <td>NaN</td>\n      <td>NaN</td>\n      <td>NaN</td>\n      <td>NaN</td>\n      <td>NaN</td>\n    </tr>\n  </tbody>\n</table>\n<p>22 rows × 7 columns</p>\n</div>"
     },
     "metadata": {},
     "execution_count": 36
    }
   ],
   "source": [
    "sim_reg_rho = (output.loc[(output['beta1']==1)&(output['beta2']==1)&(output['p'] == 5)&(output['exp_of_var']=='no')]\n",
    "                   .drop(columns=['p', 'beta1', 'beta2'])\n",
    "                   .groupby('covariance')\n",
    "                   .agg(['mean', 'std'])\n",
    "                   .transpose()\n",
    "                   .reset_index())\n",
    "\n",
    "sim_reg_rho.columns = sim_reg_rho.columns.map(str)\n",
    "\n",
    "sim_reg_rho"
   ]
  },
  {
   "cell_type": "code",
   "execution_count": 34,
   "metadata": {},
   "outputs": [
    {
     "output_type": "execute_result",
     "data": {
      "text/plain": [
       "   covariance  beta1  beta2  p  mismeasured_coef  mismeasured_allvar_coef  \\\n",
       "0        -0.9    1.0    1.0  5          0.275767                 0.558765   \n",
       "1        -0.5    1.0    1.0  5          0.691142                 0.853960   \n",
       "2         0.0    1.0    1.0  5          0.975645                 0.986584   \n",
       "3         0.5    1.0    1.0  5          1.258312                 1.095794   \n",
       "4         0.9    1.0    1.0  5          1.750059                 1.448422   \n",
       "\n",
       "   mismeasured_avg_coef  pca_coef  true_val_coef   iv_coef   pca_ape  \\\n",
       "0              0.563751  0.563127       1.048060  0.502386  0.436873   \n",
       "1              0.853613  0.853595       0.953615  0.832885  0.146405   \n",
       "2              0.986390  0.986587       1.015658  0.987579  0.013413   \n",
       "3              1.095758  1.096222       0.992379  1.114558  0.096222   \n",
       "4              1.449573  1.450862       0.931270  1.491268  0.450862   \n",
       "\n",
       "   mismeasured_coef_ape  mismeasured_allvar_coef_ape  \\\n",
       "0              0.724233                     0.441235   \n",
       "1              0.308858                     0.146040   \n",
       "2              0.024355                     0.013416   \n",
       "3              0.258312                     0.095794   \n",
       "4              0.750059                     0.448422   \n",
       "\n",
       "   mismeasured_avg_coef_ape  iv_coef_ape  \n",
       "0                  0.436249     0.497614  \n",
       "1                  0.146387     0.167115  \n",
       "2                  0.013610     0.012421  \n",
       "3                  0.095758     0.114558  \n",
       "4                  0.449573     0.491268  "
      ],
      "text/html": "<div>\n<style scoped>\n    .dataframe tbody tr th:only-of-type {\n        vertical-align: middle;\n    }\n\n    .dataframe tbody tr th {\n        vertical-align: top;\n    }\n\n    .dataframe thead th {\n        text-align: right;\n    }\n</style>\n<table border=\"1\" class=\"dataframe\">\n  <thead>\n    <tr style=\"text-align: right;\">\n      <th></th>\n      <th>covariance</th>\n      <th>beta1</th>\n      <th>beta2</th>\n      <th>p</th>\n      <th>mismeasured_coef</th>\n      <th>mismeasured_allvar_coef</th>\n      <th>mismeasured_avg_coef</th>\n      <th>pca_coef</th>\n      <th>true_val_coef</th>\n      <th>iv_coef</th>\n      <th>pca_ape</th>\n      <th>mismeasured_coef_ape</th>\n      <th>mismeasured_allvar_coef_ape</th>\n      <th>mismeasured_avg_coef_ape</th>\n      <th>iv_coef_ape</th>\n    </tr>\n  </thead>\n  <tbody>\n    <tr>\n      <th>0</th>\n      <td>-0.9</td>\n      <td>1.0</td>\n      <td>1.0</td>\n      <td>5</td>\n      <td>0.275767</td>\n      <td>0.558765</td>\n      <td>0.563751</td>\n      <td>0.563127</td>\n      <td>1.048060</td>\n      <td>0.502386</td>\n      <td>0.436873</td>\n      <td>0.724233</td>\n      <td>0.441235</td>\n      <td>0.436249</td>\n      <td>0.497614</td>\n    </tr>\n    <tr>\n      <th>1</th>\n      <td>-0.5</td>\n      <td>1.0</td>\n      <td>1.0</td>\n      <td>5</td>\n      <td>0.691142</td>\n      <td>0.853960</td>\n      <td>0.853613</td>\n      <td>0.853595</td>\n      <td>0.953615</td>\n      <td>0.832885</td>\n      <td>0.146405</td>\n      <td>0.308858</td>\n      <td>0.146040</td>\n      <td>0.146387</td>\n      <td>0.167115</td>\n    </tr>\n    <tr>\n      <th>2</th>\n      <td>0.0</td>\n      <td>1.0</td>\n      <td>1.0</td>\n      <td>5</td>\n      <td>0.975645</td>\n      <td>0.986584</td>\n      <td>0.986390</td>\n      <td>0.986587</td>\n      <td>1.015658</td>\n      <td>0.987579</td>\n      <td>0.013413</td>\n      <td>0.024355</td>\n      <td>0.013416</td>\n      <td>0.013610</td>\n      <td>0.012421</td>\n    </tr>\n    <tr>\n      <th>3</th>\n      <td>0.5</td>\n      <td>1.0</td>\n      <td>1.0</td>\n      <td>5</td>\n      <td>1.258312</td>\n      <td>1.095794</td>\n      <td>1.095758</td>\n      <td>1.096222</td>\n      <td>0.992379</td>\n      <td>1.114558</td>\n      <td>0.096222</td>\n      <td>0.258312</td>\n      <td>0.095794</td>\n      <td>0.095758</td>\n      <td>0.114558</td>\n    </tr>\n    <tr>\n      <th>4</th>\n      <td>0.9</td>\n      <td>1.0</td>\n      <td>1.0</td>\n      <td>5</td>\n      <td>1.750059</td>\n      <td>1.448422</td>\n      <td>1.449573</td>\n      <td>1.450862</td>\n      <td>0.931270</td>\n      <td>1.491268</td>\n      <td>0.450862</td>\n      <td>0.750059</td>\n      <td>0.448422</td>\n      <td>0.449573</td>\n      <td>0.491268</td>\n    </tr>\n  </tbody>\n</table>\n</div>"
     },
     "metadata": {},
     "execution_count": 34
    }
   ],
   "source": [
    "output.loc[(output['beta1']==1)&(output['beta2']==1)&(output['p'] == 5)&(output['exp_of_var']=='no')].groupby(['covariance','beta1','beta2','p']).mean().reset_index()"
   ]
  },
  {
   "cell_type": "code",
   "execution_count": 35,
   "metadata": {},
   "outputs": [
    {
     "output_type": "execute_result",
     "data": {
      "text/plain": [
       "   covariance  beta1  beta2  p  mismeasured_coef  mismeasured_allvar_coef  \\\n",
       "0        -0.9    1.0    1.0  5               NaN                      NaN   \n",
       "1        -0.5    1.0    1.0  5               NaN                      NaN   \n",
       "2         0.0    1.0    1.0  5               NaN                      NaN   \n",
       "3         0.5    1.0    1.0  5               NaN                      NaN   \n",
       "4         0.9    1.0    1.0  5               NaN                      NaN   \n",
       "\n",
       "   mismeasured_avg_coef  pca_coef  true_val_coef  iv_coef  pca_ape  \\\n",
       "0                   NaN       NaN            NaN      NaN      NaN   \n",
       "1                   NaN       NaN            NaN      NaN      NaN   \n",
       "2                   NaN       NaN            NaN      NaN      NaN   \n",
       "3                   NaN       NaN            NaN      NaN      NaN   \n",
       "4                   NaN       NaN            NaN      NaN      NaN   \n",
       "\n",
       "   mismeasured_coef_ape  mismeasured_allvar_coef_ape  \\\n",
       "0                   NaN                          NaN   \n",
       "1                   NaN                          NaN   \n",
       "2                   NaN                          NaN   \n",
       "3                   NaN                          NaN   \n",
       "4                   NaN                          NaN   \n",
       "\n",
       "   mismeasured_avg_coef_ape  iv_coef_ape  \n",
       "0                       NaN          NaN  \n",
       "1                       NaN          NaN  \n",
       "2                       NaN          NaN  \n",
       "3                       NaN          NaN  \n",
       "4                       NaN          NaN  "
      ],
      "text/html": "<div>\n<style scoped>\n    .dataframe tbody tr th:only-of-type {\n        vertical-align: middle;\n    }\n\n    .dataframe tbody tr th {\n        vertical-align: top;\n    }\n\n    .dataframe thead th {\n        text-align: right;\n    }\n</style>\n<table border=\"1\" class=\"dataframe\">\n  <thead>\n    <tr style=\"text-align: right;\">\n      <th></th>\n      <th>covariance</th>\n      <th>beta1</th>\n      <th>beta2</th>\n      <th>p</th>\n      <th>mismeasured_coef</th>\n      <th>mismeasured_allvar_coef</th>\n      <th>mismeasured_avg_coef</th>\n      <th>pca_coef</th>\n      <th>true_val_coef</th>\n      <th>iv_coef</th>\n      <th>pca_ape</th>\n      <th>mismeasured_coef_ape</th>\n      <th>mismeasured_allvar_coef_ape</th>\n      <th>mismeasured_avg_coef_ape</th>\n      <th>iv_coef_ape</th>\n    </tr>\n  </thead>\n  <tbody>\n    <tr>\n      <th>0</th>\n      <td>-0.9</td>\n      <td>1.0</td>\n      <td>1.0</td>\n      <td>5</td>\n      <td>NaN</td>\n      <td>NaN</td>\n      <td>NaN</td>\n      <td>NaN</td>\n      <td>NaN</td>\n      <td>NaN</td>\n      <td>NaN</td>\n      <td>NaN</td>\n      <td>NaN</td>\n      <td>NaN</td>\n      <td>NaN</td>\n    </tr>\n    <tr>\n      <th>1</th>\n      <td>-0.5</td>\n      <td>1.0</td>\n      <td>1.0</td>\n      <td>5</td>\n      <td>NaN</td>\n      <td>NaN</td>\n      <td>NaN</td>\n      <td>NaN</td>\n      <td>NaN</td>\n      <td>NaN</td>\n      <td>NaN</td>\n      <td>NaN</td>\n      <td>NaN</td>\n      <td>NaN</td>\n      <td>NaN</td>\n    </tr>\n    <tr>\n      <th>2</th>\n      <td>0.0</td>\n      <td>1.0</td>\n      <td>1.0</td>\n      <td>5</td>\n      <td>NaN</td>\n      <td>NaN</td>\n      <td>NaN</td>\n      <td>NaN</td>\n      <td>NaN</td>\n      <td>NaN</td>\n      <td>NaN</td>\n      <td>NaN</td>\n      <td>NaN</td>\n      <td>NaN</td>\n      <td>NaN</td>\n    </tr>\n    <tr>\n      <th>3</th>\n      <td>0.5</td>\n      <td>1.0</td>\n      <td>1.0</td>\n      <td>5</td>\n      <td>NaN</td>\n      <td>NaN</td>\n      <td>NaN</td>\n      <td>NaN</td>\n      <td>NaN</td>\n      <td>NaN</td>\n      <td>NaN</td>\n      <td>NaN</td>\n      <td>NaN</td>\n      <td>NaN</td>\n      <td>NaN</td>\n    </tr>\n    <tr>\n      <th>4</th>\n      <td>0.9</td>\n      <td>1.0</td>\n      <td>1.0</td>\n      <td>5</td>\n      <td>NaN</td>\n      <td>NaN</td>\n      <td>NaN</td>\n      <td>NaN</td>\n      <td>NaN</td>\n      <td>NaN</td>\n      <td>NaN</td>\n      <td>NaN</td>\n      <td>NaN</td>\n      <td>NaN</td>\n      <td>NaN</td>\n    </tr>\n  </tbody>\n</table>\n</div>"
     },
     "metadata": {},
     "execution_count": 35
    }
   ],
   "source": [
    "output.loc[(output['beta1']==1)&(output['beta2']==1)&(output['p'] == 5)&(output['exp_of_var']=='no')].groupby(['covariance','beta1','beta2','p']).std().reset_index()"
   ]
  },
  {
   "cell_type": "code",
   "execution_count": null,
   "metadata": {},
   "outputs": [],
   "source": []
  }
 ],
 "metadata": {
  "kernelspec": {
   "name": "python388jvsc74a57bd0d8e5f08eda4f9cddc19de05071e25a43923763e5e5799e90c26e70a4345f4abb",
   "display_name": "Python 3.8.8 64-bit ('econ31330-env': conda)"
  },
  "language_info": {
   "codemirror_mode": {
    "name": "ipython",
    "version": 3
   },
   "file_extension": ".py",
   "mimetype": "text/x-python",
   "name": "python",
   "nbconvert_exporter": "python",
   "pygments_lexer": "ipython3",
   "version": "3.8.8"
  }
 },
 "nbformat": 4,
 "nbformat_minor": 4
}