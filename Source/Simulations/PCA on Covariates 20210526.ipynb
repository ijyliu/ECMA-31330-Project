{
 "cells": [
  {
   "source": [
    "# PCA on Covariates Simulations Notebook"
   ],
   "cell_type": "markdown",
   "metadata": {}
  },
  {
   "cell_type": "code",
   "execution_count": 5,
   "metadata": {},
   "outputs": [],
   "source": [
    "# Import objects from the setup file\n",
    "import os\n",
    "import sys\n",
    "sys.path.append(os.path.expanduser('~/repo/ECMA-31330-Project/Source'))\n",
    "from ME_Setup import *\n",
    "\n",
    "# Packages\n",
    "import numpy as np\n",
    "import pandas as pd\n",
    "import seaborn as sns\n",
    "from pca import pca\n",
    "import statsmodels.api as sm\n",
    "import statsmodels.formula.api as smf\n",
    "from sklearn.preprocessing import StandardScaler\n",
    "from sklearn.decomposition import FactorAnalysis\n",
    "import math\n",
    "from tqdm import tqdm\n",
    "import regex as re"
   ]
  },
  {
   "cell_type": "code",
   "execution_count": 6,
   "metadata": {},
   "outputs": [],
   "source": [
    "# Supressing Output\n",
    "from contextlib import contextmanager\n",
    "import sys, os\n",
    "\n",
    "@contextmanager\n",
    "def suppress_stdout():\n",
    "    with open(os.devnull, \"w\") as devnull:\n",
    "        old_stdout = sys.stdout\n",
    "        sys.stdout = devnull\n",
    "        try:  \n",
    "            yield\n",
    "        finally:\n",
    "            sys.stdout = old_stdout"
   ]
  },
  {
   "cell_type": "code",
   "execution_count": 7,
   "metadata": {},
   "outputs": [
    {
     "output_type": "stream",
     "name": "stderr",
     "text": [
      "100%|██████████| 1000/1000 [11:52<00:00,  1.40it/s]\n",
      "100%|██████████| 1000/1000 [11:19<00:00,  1.47it/s]\n",
      "100%|██████████| 1000/1000 [11:19<00:00,  1.47it/s]\n",
      "100%|██████████| 1000/1000 [11:53<00:00,  1.40it/s]\n",
      "100%|██████████| 1000/1000 [11:21<00:00,  1.47it/s]\n",
      "100%|██████████| 1000/1000 [11:20<00:00,  1.47it/s]\n",
      "100%|██████████| 1000/1000 [11:54<00:00,  1.40it/s]\n",
      "100%|██████████| 1000/1000 [11:20<00:00,  1.47it/s]\n",
      "100%|██████████| 1000/1000 [11:22<00:00,  1.46it/s]\n",
      "100%|██████████| 1000/1000 [11:26<00:00,  1.46it/s]\n",
      "100%|██████████| 1000/1000 [11:26<00:00,  1.46it/s]\n",
      "100%|██████████| 1000/1000 [11:26<00:00,  1.46it/s]\n",
      "100%|██████████| 1000/1000 [12:52<00:00,  1.29it/s]\n",
      "100%|██████████| 1000/1000 [12:03<00:00,  1.38it/s]\n",
      "100%|██████████| 1000/1000 [13:42<00:00,  1.22it/s]\n",
      "100%|██████████| 1000/1000 [14:22<00:00,  1.16it/s]\n",
      "100%|██████████| 1000/1000 [11:32<00:00,  1.44it/s]\n",
      "100%|██████████| 1000/1000 [11:21<00:00,  1.47it/s]\n",
      "100%|██████████| 1000/1000 [11:44<00:00,  1.42it/s]\n",
      "100%|██████████| 1000/1000 [12:06<00:00,  1.38it/s]\n",
      "100%|██████████| 1000/1000 [12:00<00:00,  1.39it/s]\n",
      "100%|██████████| 1000/1000 [12:03<00:00,  1.38it/s]\n"
     ]
    },
    {
     "output_type": "execute_result",
     "data": {
      "text/plain": [
       "    mismeasured_coef  mismeasured_allvar_coef  mismeasured_avg_coef  \\\n",
       "0           0.394401                 0.298674              0.476207   \n",
       "0           0.382212                 0.270921              0.465710   \n",
       "0           0.343535                 0.245985              0.441854   \n",
       "0           0.356660                 0.254967              0.418646   \n",
       "0           0.375053                 0.288823              0.471625   \n",
       "..               ...                      ...                   ...   \n",
       "0          10.325513                10.150916             10.150416   \n",
       "0          10.318083                10.137120             10.138374   \n",
       "0          10.310895                10.136993             10.136301   \n",
       "0          10.301221                10.114495             10.115675   \n",
       "0          10.258616                10.079501             10.078674   \n",
       "\n",
       "     pca_coef  true_val_coef    iv_coef  covariance  beta1  beta2  p  \\\n",
       "0    0.320473       0.122544   0.349810         0.5    0.1    1.0  5   \n",
       "0    0.301380       0.101579   0.332573         0.5    0.1    1.0  5   \n",
       "0    0.288636       0.067655   0.307192         0.5    0.1    1.0  5   \n",
       "0    0.275167       0.085243   0.306944         0.5    0.1    1.0  5   \n",
       "0    0.312702       0.101265   0.351331         0.5    0.1    1.0  5   \n",
       "..        ...            ...        ...         ...    ...    ... ..   \n",
       "0   10.150195      10.045949  10.173591         0.5   10.0    1.0  5   \n",
       "0   10.138453      10.030360  10.161507         0.5   10.0    1.0  5   \n",
       "0   10.136207      10.025046  10.156673         0.5   10.0    1.0  5   \n",
       "0   10.115735      10.007082  10.127878         0.5   10.0    1.0  5   \n",
       "0   10.078861       9.965818  10.096914         0.5   10.0    1.0  5   \n",
       "\n",
       "   exp_of_var  \n",
       "0         yes  \n",
       "0         yes  \n",
       "0         yes  \n",
       "0         yes  \n",
       "0         yes  \n",
       "..        ...  \n",
       "0          no  \n",
       "0          no  \n",
       "0          no  \n",
       "0          no  \n",
       "0          no  \n",
       "\n",
       "[22000 rows x 11 columns]"
      ],
      "text/html": "<div>\n<style scoped>\n    .dataframe tbody tr th:only-of-type {\n        vertical-align: middle;\n    }\n\n    .dataframe tbody tr th {\n        vertical-align: top;\n    }\n\n    .dataframe thead th {\n        text-align: right;\n    }\n</style>\n<table border=\"1\" class=\"dataframe\">\n  <thead>\n    <tr style=\"text-align: right;\">\n      <th></th>\n      <th>mismeasured_coef</th>\n      <th>mismeasured_allvar_coef</th>\n      <th>mismeasured_avg_coef</th>\n      <th>pca_coef</th>\n      <th>true_val_coef</th>\n      <th>iv_coef</th>\n      <th>covariance</th>\n      <th>beta1</th>\n      <th>beta2</th>\n      <th>p</th>\n      <th>exp_of_var</th>\n    </tr>\n  </thead>\n  <tbody>\n    <tr>\n      <th>0</th>\n      <td>0.394401</td>\n      <td>0.298674</td>\n      <td>0.476207</td>\n      <td>0.320473</td>\n      <td>0.122544</td>\n      <td>0.349810</td>\n      <td>0.5</td>\n      <td>0.1</td>\n      <td>1.0</td>\n      <td>5</td>\n      <td>yes</td>\n    </tr>\n    <tr>\n      <th>0</th>\n      <td>0.382212</td>\n      <td>0.270921</td>\n      <td>0.465710</td>\n      <td>0.301380</td>\n      <td>0.101579</td>\n      <td>0.332573</td>\n      <td>0.5</td>\n      <td>0.1</td>\n      <td>1.0</td>\n      <td>5</td>\n      <td>yes</td>\n    </tr>\n    <tr>\n      <th>0</th>\n      <td>0.343535</td>\n      <td>0.245985</td>\n      <td>0.441854</td>\n      <td>0.288636</td>\n      <td>0.067655</td>\n      <td>0.307192</td>\n      <td>0.5</td>\n      <td>0.1</td>\n      <td>1.0</td>\n      <td>5</td>\n      <td>yes</td>\n    </tr>\n    <tr>\n      <th>0</th>\n      <td>0.356660</td>\n      <td>0.254967</td>\n      <td>0.418646</td>\n      <td>0.275167</td>\n      <td>0.085243</td>\n      <td>0.306944</td>\n      <td>0.5</td>\n      <td>0.1</td>\n      <td>1.0</td>\n      <td>5</td>\n      <td>yes</td>\n    </tr>\n    <tr>\n      <th>0</th>\n      <td>0.375053</td>\n      <td>0.288823</td>\n      <td>0.471625</td>\n      <td>0.312702</td>\n      <td>0.101265</td>\n      <td>0.351331</td>\n      <td>0.5</td>\n      <td>0.1</td>\n      <td>1.0</td>\n      <td>5</td>\n      <td>yes</td>\n    </tr>\n    <tr>\n      <th>...</th>\n      <td>...</td>\n      <td>...</td>\n      <td>...</td>\n      <td>...</td>\n      <td>...</td>\n      <td>...</td>\n      <td>...</td>\n      <td>...</td>\n      <td>...</td>\n      <td>...</td>\n      <td>...</td>\n    </tr>\n    <tr>\n      <th>0</th>\n      <td>10.325513</td>\n      <td>10.150916</td>\n      <td>10.150416</td>\n      <td>10.150195</td>\n      <td>10.045949</td>\n      <td>10.173591</td>\n      <td>0.5</td>\n      <td>10.0</td>\n      <td>1.0</td>\n      <td>5</td>\n      <td>no</td>\n    </tr>\n    <tr>\n      <th>0</th>\n      <td>10.318083</td>\n      <td>10.137120</td>\n      <td>10.138374</td>\n      <td>10.138453</td>\n      <td>10.030360</td>\n      <td>10.161507</td>\n      <td>0.5</td>\n      <td>10.0</td>\n      <td>1.0</td>\n      <td>5</td>\n      <td>no</td>\n    </tr>\n    <tr>\n      <th>0</th>\n      <td>10.310895</td>\n      <td>10.136993</td>\n      <td>10.136301</td>\n      <td>10.136207</td>\n      <td>10.025046</td>\n      <td>10.156673</td>\n      <td>0.5</td>\n      <td>10.0</td>\n      <td>1.0</td>\n      <td>5</td>\n      <td>no</td>\n    </tr>\n    <tr>\n      <th>0</th>\n      <td>10.301221</td>\n      <td>10.114495</td>\n      <td>10.115675</td>\n      <td>10.115735</td>\n      <td>10.007082</td>\n      <td>10.127878</td>\n      <td>0.5</td>\n      <td>10.0</td>\n      <td>1.0</td>\n      <td>5</td>\n      <td>no</td>\n    </tr>\n    <tr>\n      <th>0</th>\n      <td>10.258616</td>\n      <td>10.079501</td>\n      <td>10.078674</td>\n      <td>10.078861</td>\n      <td>9.965818</td>\n      <td>10.096914</td>\n      <td>0.5</td>\n      <td>10.0</td>\n      <td>1.0</td>\n      <td>5</td>\n      <td>no</td>\n    </tr>\n  </tbody>\n</table>\n<p>22000 rows × 11 columns</p>\n</div>"
     },
     "metadata": {},
     "execution_count": 7
    }
   ],
   "source": [
    "# Data frame to store output\n",
    "output = pd.DataFrame()\n",
    "\n",
    "# 3,000 observations\n",
    "N = 3000\n",
    "\n",
    "# Loop over combinations of: betas, covariances between variables, p numbers of parameters\n",
    "for beta1 in [0.1,1,10]:\n",
    "    for beta2 in [0.1,1,10]:\n",
    "        for covariance in [-0.9,-0.5,0,0.5,0.9]:\n",
    "            for p in [5,20,50]:\n",
    "                # Select only the scenarios we actually want to run by default - betas of 1, covariances of 0.5, p of 5... require three of these conditions to be satisfied to run.\n",
    "                counter = 0\n",
    "                if beta1 == 1:\n",
    "                    counter += 1\n",
    "                if beta2 == 1:\n",
    "                    counter += 1\n",
    "                if covariance == 0.5:\n",
    "                    counter += 1\n",
    "                if p == 5:\n",
    "                    counter+=1\n",
    "                if counter >= 3:\n",
    "                    # Run with and without transformations\n",
    "                    for exp_of_var in ['yes','no']:\n",
    "                        # 1000 simulations\n",
    "                        for k in tqdm(range(1000)):\n",
    "                            # Initialize Lists to store coef values for all five methods and the true coef\n",
    "                            pca_coef = []\n",
    "                            mismeasured_coef = []\n",
    "                            mismeasured_allvar_coef = []\n",
    "                            mismeasured_avg_coef = []\n",
    "                            iv_coef = []\n",
    "                            true_val_coef =[]\n",
    "\n",
    "                            # Create variables\n",
    "                            vars_mean = [0,0,0]\n",
    "                            vars_cov = np.array([[1,covariance,0],\n",
    "                                                 [covariance,1,0],\n",
    "                                                 [0,0,1]])\n",
    "                            # Producing 3 variables: x for the variable of interest, the true Z covariate, the random error\n",
    "                            vars_ = pd.DataFrame(np.random.multivariate_normal(vars_mean, vars_cov, N), columns = ['x','true_z','u'])\n",
    "                            vars_['y'] = beta1 * vars_['x'] + beta2 * vars_['true_z'] + vars_['u']\n",
    "\n",
    "                            # Create measurement errors for each of the p measurements of the covariates- mean zero and variance one\n",
    "                            errors_mean = np.zeros(p)\n",
    "                            errors_cov = np.zeros((p,p))\n",
    "                            for i in range(p):\n",
    "                                for j in range(p):\n",
    "                                    if i == j:\n",
    "                                        errors_cov[i,j] = 1\n",
    "\n",
    "                            errors = np.random.multivariate_normal(errors_mean, errors_cov, N)\n",
    "                            # Column labels for Z variables (covariates variables mismeasured)\n",
    "                            z_vars = []\n",
    "                            for i in range(p):\n",
    "                                z_vars.append('z'+str(i+1))\n",
    "                            # Add errors to the true_z to get mismeasured values\n",
    "                            mismeasured_z = pd.DataFrame(errors, columns = z_vars)\n",
    "                            for i in mismeasured_z.columns:\n",
    "                                mismeasured_z[i] = mismeasured_z[i] + vars_['true_z']\n",
    "\n",
    "                            # Take e to the power of the values for half of the measurements if log_of_var is true\n",
    "                            if exp_of_var == 'yes':\n",
    "                                mismeasured_z.iloc[:,int(len(mismeasured_z.columns)/2):] =np.exp(mismeasured_z.iloc[:,int(len(mismeasured_z.columns)/2):])\n",
    "                                \n",
    "                            # Do feature scaling (normalize to mean 0 and variance 1) for the mismeasured z\n",
    "                            # Note that x and y are already normalized by construction\n",
    "                            scaled_mismeasured_z = mismeasured_z.copy()\n",
    "                            for i in mismeasured_z.columns:\n",
    "                                scaled_mismeasured_z[i] = (mismeasured_z[i] - mismeasured_z[i].mean()) / mismeasured_z[i].std()\n",
    "\n",
    "                            # Suppress output\n",
    "                            with suppress_stdout():\n",
    "                                # Use PCA on the mismeasured values\n",
    "                                pca_model = pca()\n",
    "                                pca_results = pca_model.fit_transform(scaled_mismeasured_z)\n",
    "                                pca_z = pca_results['PC']['PC1']\n",
    "\n",
    "                            # NOTE: in non-pca cases, no need to rescale or normalize since mismeasured variables and x and y have mean 0 and sd 1\n",
    "\n",
    "                            # Average mismeasured variables:\n",
    "                            vars_['avg_mismeasured_z'] = mismeasured_z[z_vars].mean(axis=1)\n",
    "\n",
    "                            # Add relevant variables to vars_ dataframe\n",
    "                            vars_[mismeasured_z.columns] = mismeasured_z\n",
    "                            vars_['pca_z'] = pca_z\n",
    "\n",
    "                            # Single mismeasured covariate results\n",
    "                            model_mismeasured = sm.OLS(vars_['y'],vars_[['x','z1']])\n",
    "                            results_mismeasured = model_mismeasured.fit()\n",
    "                            mismeasured_coef.append(results_mismeasured.params[0])\n",
    "\n",
    "                            # All Variables Mismeasured Results\n",
    "                            # Create full list of items to include in regression\n",
    "                            tot_vars = ['x']\n",
    "                            tot_vars.extend(z_vars)\n",
    "                            model_mismeasured_allvar = sm.OLS(vars_['y'],vars_[tot_vars])\n",
    "                            results_mismeasured_allvar = model_mismeasured_allvar.fit()\n",
    "                            mismeasured_allvar_coef.append(results_mismeasured_allvar.params[0])\n",
    "\n",
    "                            # Average Mismeasured Variables Results\n",
    "                            model_mismeasured_avg = sm.OLS(vars_['y'],vars_[['x','avg_mismeasured_z']])\n",
    "                            results_mismeasured_avg = model_mismeasured_avg.fit()\n",
    "                            mismeasured_avg_coef.append(results_mismeasured_avg.params[0])\n",
    "\n",
    "                            # PCA Results\n",
    "                            model_pca = sm.OLS(vars_['y'],vars_[['x','pca_z']])\n",
    "                            results_pca = model_pca.fit()\n",
    "                            pca_coef.append(results_pca.params[0])\n",
    "\n",
    "                            # Instrumental Variables Results\n",
    "                            # Instrument z1 on the other items in the mismeasured df\n",
    "                            z_string = mismeasured_z.columns[1]\n",
    "                            for z in mismeasured_z.columns[2:]:\n",
    "                                z_string = z_string + ' + ' + z\n",
    "                            # Create the predicted value of z1\n",
    "                            vars_['pred_z1'] = smf.ols(\"z1 ~ \" + z_string, data = mismeasured_z).fit().predict()\n",
    "                            iv_results = smf.ols(\"y ~ x + pred_z1 -1\", data = vars_).fit()\n",
    "                            iv_coef.append(iv_results.params[0])\n",
    "\n",
    "                            # True Results\n",
    "                            model_true = sm.OLS(vars_['y'],vars_[['x','true_z']])\n",
    "                            results_true = model_true.fit()\n",
    "                            true_val_coef.append(results_true.params[0])\n",
    "\n",
    "                            # Output Findings\n",
    "                            new_output = pd.DataFrame()\n",
    "                            new_output['mismeasured_coef'] = mismeasured_coef\n",
    "                            new_output['mismeasured_allvar_coef'] = mismeasured_allvar_coef\n",
    "                            new_output['mismeasured_avg_coef'] = mismeasured_avg_coef\n",
    "                            new_output['pca_coef'] = pca_coef\n",
    "                            new_output['true_val_coef'] = true_val_coef\n",
    "                            new_output['iv_coef'] = iv_coef\n",
    "                            new_output['covariance'] = vars_cov[0][1]\n",
    "                            new_output['beta1'] = beta1\n",
    "                            new_output['beta2'] = beta2\n",
    "                            new_output['p'] = p\n",
    "                            new_output['exp_of_var'] = exp_of_var\n",
    "                            output = output.append(new_output)\n",
    "\n",
    "output"
   ]
  },
  {
   "cell_type": "code",
   "execution_count": 8,
   "metadata": {},
   "outputs": [
    {
     "output_type": "execute_result",
     "data": {
      "text/plain": [
       "    mismeasured_coef  mismeasured_allvar_coef  mismeasured_avg_coef  \\\n",
       "0           0.394401                 0.298674              0.476207   \n",
       "0           0.382212                 0.270921              0.465710   \n",
       "0           0.343535                 0.245985              0.441854   \n",
       "0           0.356660                 0.254967              0.418646   \n",
       "0           0.375053                 0.288823              0.471625   \n",
       "..               ...                      ...                   ...   \n",
       "0          10.325513                10.150916             10.150416   \n",
       "0          10.318083                10.137120             10.138374   \n",
       "0          10.310895                10.136993             10.136301   \n",
       "0          10.301221                10.114495             10.115675   \n",
       "0          10.258616                10.079501             10.078674   \n",
       "\n",
       "     pca_coef  true_val_coef    iv_coef  covariance  beta1  beta2  p  \\\n",
       "0    0.320473       0.122544   0.349810         0.5    0.1    1.0  5   \n",
       "0    0.301380       0.101579   0.332573         0.5    0.1    1.0  5   \n",
       "0    0.288636       0.067655   0.307192         0.5    0.1    1.0  5   \n",
       "0    0.275167       0.085243   0.306944         0.5    0.1    1.0  5   \n",
       "0    0.312702       0.101265   0.351331         0.5    0.1    1.0  5   \n",
       "..        ...            ...        ...         ...    ...    ... ..   \n",
       "0   10.150195      10.045949  10.173591         0.5   10.0    1.0  5   \n",
       "0   10.138453      10.030360  10.161507         0.5   10.0    1.0  5   \n",
       "0   10.136207      10.025046  10.156673         0.5   10.0    1.0  5   \n",
       "0   10.115735      10.007082  10.127878         0.5   10.0    1.0  5   \n",
       "0   10.078861       9.965818  10.096914         0.5   10.0    1.0  5   \n",
       "\n",
       "   exp_of_var  \n",
       "0         yes  \n",
       "0         yes  \n",
       "0         yes  \n",
       "0         yes  \n",
       "0         yes  \n",
       "..        ...  \n",
       "0          no  \n",
       "0          no  \n",
       "0          no  \n",
       "0          no  \n",
       "0          no  \n",
       "\n",
       "[22000 rows x 11 columns]"
      ],
      "text/html": "<div>\n<style scoped>\n    .dataframe tbody tr th:only-of-type {\n        vertical-align: middle;\n    }\n\n    .dataframe tbody tr th {\n        vertical-align: top;\n    }\n\n    .dataframe thead th {\n        text-align: right;\n    }\n</style>\n<table border=\"1\" class=\"dataframe\">\n  <thead>\n    <tr style=\"text-align: right;\">\n      <th></th>\n      <th>mismeasured_coef</th>\n      <th>mismeasured_allvar_coef</th>\n      <th>mismeasured_avg_coef</th>\n      <th>pca_coef</th>\n      <th>true_val_coef</th>\n      <th>iv_coef</th>\n      <th>covariance</th>\n      <th>beta1</th>\n      <th>beta2</th>\n      <th>p</th>\n      <th>exp_of_var</th>\n    </tr>\n  </thead>\n  <tbody>\n    <tr>\n      <th>0</th>\n      <td>0.394401</td>\n      <td>0.298674</td>\n      <td>0.476207</td>\n      <td>0.320473</td>\n      <td>0.122544</td>\n      <td>0.349810</td>\n      <td>0.5</td>\n      <td>0.1</td>\n      <td>1.0</td>\n      <td>5</td>\n      <td>yes</td>\n    </tr>\n    <tr>\n      <th>0</th>\n      <td>0.382212</td>\n      <td>0.270921</td>\n      <td>0.465710</td>\n      <td>0.301380</td>\n      <td>0.101579</td>\n      <td>0.332573</td>\n      <td>0.5</td>\n      <td>0.1</td>\n      <td>1.0</td>\n      <td>5</td>\n      <td>yes</td>\n    </tr>\n    <tr>\n      <th>0</th>\n      <td>0.343535</td>\n      <td>0.245985</td>\n      <td>0.441854</td>\n      <td>0.288636</td>\n      <td>0.067655</td>\n      <td>0.307192</td>\n      <td>0.5</td>\n      <td>0.1</td>\n      <td>1.0</td>\n      <td>5</td>\n      <td>yes</td>\n    </tr>\n    <tr>\n      <th>0</th>\n      <td>0.356660</td>\n      <td>0.254967</td>\n      <td>0.418646</td>\n      <td>0.275167</td>\n      <td>0.085243</td>\n      <td>0.306944</td>\n      <td>0.5</td>\n      <td>0.1</td>\n      <td>1.0</td>\n      <td>5</td>\n      <td>yes</td>\n    </tr>\n    <tr>\n      <th>0</th>\n      <td>0.375053</td>\n      <td>0.288823</td>\n      <td>0.471625</td>\n      <td>0.312702</td>\n      <td>0.101265</td>\n      <td>0.351331</td>\n      <td>0.5</td>\n      <td>0.1</td>\n      <td>1.0</td>\n      <td>5</td>\n      <td>yes</td>\n    </tr>\n    <tr>\n      <th>...</th>\n      <td>...</td>\n      <td>...</td>\n      <td>...</td>\n      <td>...</td>\n      <td>...</td>\n      <td>...</td>\n      <td>...</td>\n      <td>...</td>\n      <td>...</td>\n      <td>...</td>\n      <td>...</td>\n    </tr>\n    <tr>\n      <th>0</th>\n      <td>10.325513</td>\n      <td>10.150916</td>\n      <td>10.150416</td>\n      <td>10.150195</td>\n      <td>10.045949</td>\n      <td>10.173591</td>\n      <td>0.5</td>\n      <td>10.0</td>\n      <td>1.0</td>\n      <td>5</td>\n      <td>no</td>\n    </tr>\n    <tr>\n      <th>0</th>\n      <td>10.318083</td>\n      <td>10.137120</td>\n      <td>10.138374</td>\n      <td>10.138453</td>\n      <td>10.030360</td>\n      <td>10.161507</td>\n      <td>0.5</td>\n      <td>10.0</td>\n      <td>1.0</td>\n      <td>5</td>\n      <td>no</td>\n    </tr>\n    <tr>\n      <th>0</th>\n      <td>10.310895</td>\n      <td>10.136993</td>\n      <td>10.136301</td>\n      <td>10.136207</td>\n      <td>10.025046</td>\n      <td>10.156673</td>\n      <td>0.5</td>\n      <td>10.0</td>\n      <td>1.0</td>\n      <td>5</td>\n      <td>no</td>\n    </tr>\n    <tr>\n      <th>0</th>\n      <td>10.301221</td>\n      <td>10.114495</td>\n      <td>10.115675</td>\n      <td>10.115735</td>\n      <td>10.007082</td>\n      <td>10.127878</td>\n      <td>0.5</td>\n      <td>10.0</td>\n      <td>1.0</td>\n      <td>5</td>\n      <td>no</td>\n    </tr>\n    <tr>\n      <th>0</th>\n      <td>10.258616</td>\n      <td>10.079501</td>\n      <td>10.078674</td>\n      <td>10.078861</td>\n      <td>9.965818</td>\n      <td>10.096914</td>\n      <td>0.5</td>\n      <td>10.0</td>\n      <td>1.0</td>\n      <td>5</td>\n      <td>no</td>\n    </tr>\n  </tbody>\n</table>\n<p>22000 rows × 11 columns</p>\n</div>"
     },
     "metadata": {},
     "execution_count": 8
    }
   ],
   "source": [
    "output"
   ]
  },
  {
   "cell_type": "code",
   "execution_count": 9,
   "metadata": {},
   "outputs": [],
   "source": [
    "# Save raw coefficient results\n",
    "output.to_csv(output_dir + '/n_' + str(N) + '_results.csv')"
   ]
  },
  {
   "cell_type": "code",
   "execution_count": 10,
   "metadata": {},
   "outputs": [],
   "source": [
    "pd.set_option('display.max_rows', 10)"
   ]
  },
  {
   "cell_type": "code",
   "execution_count": 11,
   "metadata": {},
   "outputs": [],
   "source": [
    "output['pca_ape'] = (output['pca_coef'] - output['beta1']).abs()/output['beta1']\n",
    "output['mismeasured_coef_ape'] = (output['mismeasured_coef'] - output['beta1']).abs()/output['beta1']\n",
    "output['mismeasured_allvar_coef_ape'] = (output['mismeasured_allvar_coef'] - output['beta1']).abs()/output['beta1']\n",
    "output['mismeasured_avg_coef_ape'] = (output['mismeasured_avg_coef'] - output['beta1']).abs()/output['beta1']\n",
    "output['iv_coef_ape'] = (output['iv_coef'] - output['beta1']).abs()/output['beta1']"
   ]
  },
  {
   "cell_type": "code",
   "execution_count": 12,
   "metadata": {},
   "outputs": [
    {
     "output_type": "execute_result",
     "data": {
      "text/plain": [
       "    covariance  beta1  beta2  p exp_of_var  mismeasured_coef  \\\n",
       "0         -0.9    1.0    1.0  5         no          0.242976   \n",
       "1         -0.9    1.0    1.0  5        yes          0.242601   \n",
       "2         -0.5    1.0    1.0  5         no          0.714094   \n",
       "3         -0.5    1.0    1.0  5        yes          0.714589   \n",
       "4          0.0    1.0    1.0  5         no          0.999695   \n",
       "..         ...    ...    ... ..        ...               ...   \n",
       "17         0.5    1.0   10.0  5        yes          3.847974   \n",
       "18         0.5   10.0    1.0  5         no         10.284443   \n",
       "19         0.5   10.0    1.0  5        yes         10.284892   \n",
       "20         0.9    1.0    1.0  5         no          1.755371   \n",
       "21         0.9    1.0    1.0  5        yes          1.756618   \n",
       "\n",
       "    mismeasured_allvar_coef  mismeasured_avg_coef   pca_coef  true_val_coef  \\\n",
       "0                  0.535887              0.535864   0.535341       0.996467   \n",
       "1                  0.376047              0.176532   0.336822       0.998970   \n",
       "2                  0.894339              0.894326   0.894160       0.999330   \n",
       "3                  0.818292              0.634314   0.791630       0.999622   \n",
       "4                  0.999722              0.999711   0.999713       0.999878   \n",
       "..                      ...                   ...        ...            ...   \n",
       "17                 2.814628              4.648065   3.079584       1.000067   \n",
       "18                10.104523             10.104542  10.104699       9.999312   \n",
       "19                10.181281             10.364676  10.208078       9.998673   \n",
       "20                 1.460984              1.460980   1.461417       1.000228   \n",
       "21                 1.623605              1.823462   1.664802       0.999093   \n",
       "\n",
       "      iv_coef   pca_ape  mismeasured_coef_ape  mismeasured_allvar_coef_ape  \\\n",
       "0    0.484676  0.464659              0.757024                     0.464113   \n",
       "1    0.300439  0.663178              0.757399                     0.623953   \n",
       "2    0.873866  0.105840              0.285906                     0.105661   \n",
       "3    0.765596  0.208370              0.285411                     0.181708   \n",
       "4    0.999741  0.015658              0.017784                     0.015667   \n",
       "..        ...       ...                   ...                          ...   \n",
       "17   3.345202  2.079584              2.847974                     1.814628   \n",
       "18  10.125195  0.010470              0.028444                     0.010452   \n",
       "19  10.234415  0.020808              0.028489                     0.018128   \n",
       "20   1.512270  0.461417              0.755371                     0.460984   \n",
       "21   1.699715  0.664802              0.756618                     0.623605   \n",
       "\n",
       "    mismeasured_avg_coef_ape  iv_coef_ape  \n",
       "0                   0.464136     0.515324  \n",
       "1                   0.823468     0.699561  \n",
       "2                   0.105674     0.126134  \n",
       "3                   0.365686     0.234404  \n",
       "4                   0.015671     0.015946  \n",
       "..                       ...          ...  \n",
       "17                  3.648065     2.345202  \n",
       "18                  0.010454     0.012520  \n",
       "19                  0.036468     0.023441  \n",
       "20                  0.460980     0.512270  \n",
       "21                  0.823462     0.699715  \n",
       "\n",
       "[22 rows x 16 columns]"
      ],
      "text/html": "<div>\n<style scoped>\n    .dataframe tbody tr th:only-of-type {\n        vertical-align: middle;\n    }\n\n    .dataframe tbody tr th {\n        vertical-align: top;\n    }\n\n    .dataframe thead th {\n        text-align: right;\n    }\n</style>\n<table border=\"1\" class=\"dataframe\">\n  <thead>\n    <tr style=\"text-align: right;\">\n      <th></th>\n      <th>covariance</th>\n      <th>beta1</th>\n      <th>beta2</th>\n      <th>p</th>\n      <th>exp_of_var</th>\n      <th>mismeasured_coef</th>\n      <th>mismeasured_allvar_coef</th>\n      <th>mismeasured_avg_coef</th>\n      <th>pca_coef</th>\n      <th>true_val_coef</th>\n      <th>iv_coef</th>\n      <th>pca_ape</th>\n      <th>mismeasured_coef_ape</th>\n      <th>mismeasured_allvar_coef_ape</th>\n      <th>mismeasured_avg_coef_ape</th>\n      <th>iv_coef_ape</th>\n    </tr>\n  </thead>\n  <tbody>\n    <tr>\n      <th>0</th>\n      <td>-0.9</td>\n      <td>1.0</td>\n      <td>1.0</td>\n      <td>5</td>\n      <td>no</td>\n      <td>0.242976</td>\n      <td>0.535887</td>\n      <td>0.535864</td>\n      <td>0.535341</td>\n      <td>0.996467</td>\n      <td>0.484676</td>\n      <td>0.464659</td>\n      <td>0.757024</td>\n      <td>0.464113</td>\n      <td>0.464136</td>\n      <td>0.515324</td>\n    </tr>\n    <tr>\n      <th>1</th>\n      <td>-0.9</td>\n      <td>1.0</td>\n      <td>1.0</td>\n      <td>5</td>\n      <td>yes</td>\n      <td>0.242601</td>\n      <td>0.376047</td>\n      <td>0.176532</td>\n      <td>0.336822</td>\n      <td>0.998970</td>\n      <td>0.300439</td>\n      <td>0.663178</td>\n      <td>0.757399</td>\n      <td>0.623953</td>\n      <td>0.823468</td>\n      <td>0.699561</td>\n    </tr>\n    <tr>\n      <th>2</th>\n      <td>-0.5</td>\n      <td>1.0</td>\n      <td>1.0</td>\n      <td>5</td>\n      <td>no</td>\n      <td>0.714094</td>\n      <td>0.894339</td>\n      <td>0.894326</td>\n      <td>0.894160</td>\n      <td>0.999330</td>\n      <td>0.873866</td>\n      <td>0.105840</td>\n      <td>0.285906</td>\n      <td>0.105661</td>\n      <td>0.105674</td>\n      <td>0.126134</td>\n    </tr>\n    <tr>\n      <th>3</th>\n      <td>-0.5</td>\n      <td>1.0</td>\n      <td>1.0</td>\n      <td>5</td>\n      <td>yes</td>\n      <td>0.714589</td>\n      <td>0.818292</td>\n      <td>0.634314</td>\n      <td>0.791630</td>\n      <td>0.999622</td>\n      <td>0.765596</td>\n      <td>0.208370</td>\n      <td>0.285411</td>\n      <td>0.181708</td>\n      <td>0.365686</td>\n      <td>0.234404</td>\n    </tr>\n    <tr>\n      <th>4</th>\n      <td>0.0</td>\n      <td>1.0</td>\n      <td>1.0</td>\n      <td>5</td>\n      <td>no</td>\n      <td>0.999695</td>\n      <td>0.999722</td>\n      <td>0.999711</td>\n      <td>0.999713</td>\n      <td>0.999878</td>\n      <td>0.999741</td>\n      <td>0.015658</td>\n      <td>0.017784</td>\n      <td>0.015667</td>\n      <td>0.015671</td>\n      <td>0.015946</td>\n    </tr>\n    <tr>\n      <th>...</th>\n      <td>...</td>\n      <td>...</td>\n      <td>...</td>\n      <td>...</td>\n      <td>...</td>\n      <td>...</td>\n      <td>...</td>\n      <td>...</td>\n      <td>...</td>\n      <td>...</td>\n      <td>...</td>\n      <td>...</td>\n      <td>...</td>\n      <td>...</td>\n      <td>...</td>\n      <td>...</td>\n    </tr>\n    <tr>\n      <th>17</th>\n      <td>0.5</td>\n      <td>1.0</td>\n      <td>10.0</td>\n      <td>5</td>\n      <td>yes</td>\n      <td>3.847974</td>\n      <td>2.814628</td>\n      <td>4.648065</td>\n      <td>3.079584</td>\n      <td>1.000067</td>\n      <td>3.345202</td>\n      <td>2.079584</td>\n      <td>2.847974</td>\n      <td>1.814628</td>\n      <td>3.648065</td>\n      <td>2.345202</td>\n    </tr>\n    <tr>\n      <th>18</th>\n      <td>0.5</td>\n      <td>10.0</td>\n      <td>1.0</td>\n      <td>5</td>\n      <td>no</td>\n      <td>10.284443</td>\n      <td>10.104523</td>\n      <td>10.104542</td>\n      <td>10.104699</td>\n      <td>9.999312</td>\n      <td>10.125195</td>\n      <td>0.010470</td>\n      <td>0.028444</td>\n      <td>0.010452</td>\n      <td>0.010454</td>\n      <td>0.012520</td>\n    </tr>\n    <tr>\n      <th>19</th>\n      <td>0.5</td>\n      <td>10.0</td>\n      <td>1.0</td>\n      <td>5</td>\n      <td>yes</td>\n      <td>10.284892</td>\n      <td>10.181281</td>\n      <td>10.364676</td>\n      <td>10.208078</td>\n      <td>9.998673</td>\n      <td>10.234415</td>\n      <td>0.020808</td>\n      <td>0.028489</td>\n      <td>0.018128</td>\n      <td>0.036468</td>\n      <td>0.023441</td>\n    </tr>\n    <tr>\n      <th>20</th>\n      <td>0.9</td>\n      <td>1.0</td>\n      <td>1.0</td>\n      <td>5</td>\n      <td>no</td>\n      <td>1.755371</td>\n      <td>1.460984</td>\n      <td>1.460980</td>\n      <td>1.461417</td>\n      <td>1.000228</td>\n      <td>1.512270</td>\n      <td>0.461417</td>\n      <td>0.755371</td>\n      <td>0.460984</td>\n      <td>0.460980</td>\n      <td>0.512270</td>\n    </tr>\n    <tr>\n      <th>21</th>\n      <td>0.9</td>\n      <td>1.0</td>\n      <td>1.0</td>\n      <td>5</td>\n      <td>yes</td>\n      <td>1.756618</td>\n      <td>1.623605</td>\n      <td>1.823462</td>\n      <td>1.664802</td>\n      <td>0.999093</td>\n      <td>1.699715</td>\n      <td>0.664802</td>\n      <td>0.756618</td>\n      <td>0.623605</td>\n      <td>0.823462</td>\n      <td>0.699715</td>\n    </tr>\n  </tbody>\n</table>\n<p>22 rows × 16 columns</p>\n</div>"
     },
     "metadata": {},
     "execution_count": 12
    }
   ],
   "source": [
    "output.groupby(['covariance','beta1','beta2','p','exp_of_var']).mean().reset_index()"
   ]
  },
  {
   "cell_type": "code",
   "execution_count": 13,
   "metadata": {},
   "outputs": [
    {
     "output_type": "execute_result",
     "data": {
      "text/plain": [
       "    covariance  beta1  beta2  p exp_of_var  mismeasured_coef  \\\n",
       "0         -0.9    1.0    1.0  5         no          0.026501   \n",
       "1         -0.9    1.0    1.0  5        yes          0.025653   \n",
       "2         -0.5    1.0    1.0  5         no          0.022976   \n",
       "3         -0.5    1.0    1.0  5        yes          0.023109   \n",
       "4          0.0    1.0    1.0  5         no          0.022385   \n",
       "..         ...    ...    ... ..        ...               ...   \n",
       "17         0.5    1.0   10.0  5        yes          0.131514   \n",
       "18         0.5   10.0    1.0  5         no          0.023220   \n",
       "19         0.5   10.0    1.0  5        yes          0.023293   \n",
       "20         0.9    1.0    1.0  5         no          0.024876   \n",
       "21         0.9    1.0    1.0  5        yes          0.024893   \n",
       "\n",
       "    mismeasured_allvar_coef  mismeasured_avg_coef  pca_coef  true_val_coef  \\\n",
       "0                  0.034061              0.033991  0.033973       0.042281   \n",
       "1                  0.030611              0.026243  0.035135       0.042004   \n",
       "2                  0.022550              0.022550  0.022544       0.021774   \n",
       "3                  0.022223              0.028880  0.027002       0.020527   \n",
       "4                  0.019534              0.019543  0.019527       0.017928   \n",
       "..                      ...                   ...       ...            ...   \n",
       "17                 0.112312              0.218805  0.191309       0.021204   \n",
       "18                 0.021595              0.021608  0.021614       0.020190   \n",
       "19                 0.022921              0.028843  0.026722       0.020530   \n",
       "20                 0.033051              0.033031  0.033023       0.041606   \n",
       "21                 0.028913              0.024353  0.033455       0.041406   \n",
       "\n",
       "     iv_coef   pca_ape  mismeasured_coef_ape  mismeasured_allvar_coef_ape  \\\n",
       "0   0.032840  0.033973              0.026501                     0.034061   \n",
       "1   0.030031  0.035135              0.025653                     0.030611   \n",
       "2   0.022881  0.022544              0.022976                     0.022550   \n",
       "3   0.023826  0.027002              0.023109                     0.022223   \n",
       "4   0.019910  0.011660              0.013587                     0.011659   \n",
       "..       ...       ...                   ...                          ...   \n",
       "17  0.135715  0.191309              0.131514                     0.112312   \n",
       "18  0.021876  0.002161              0.002322                     0.002159   \n",
       "19  0.024268  0.002672              0.002329                     0.002292   \n",
       "20  0.031983  0.033023              0.024876                     0.033051   \n",
       "21  0.027485  0.033455              0.024893                     0.028913   \n",
       "\n",
       "    mismeasured_avg_coef_ape  iv_coef_ape  \n",
       "0                   0.033991     0.032840  \n",
       "1                   0.026243     0.030031  \n",
       "2                   0.022550     0.022881  \n",
       "3                   0.028880     0.023826  \n",
       "4                   0.011670     0.011914  \n",
       "..                       ...          ...  \n",
       "17                  0.218805     0.135715  \n",
       "18                  0.002161     0.002188  \n",
       "19                  0.002884     0.002427  \n",
       "20                  0.033031     0.031983  \n",
       "21                  0.024353     0.027485  \n",
       "\n",
       "[22 rows x 16 columns]"
      ],
      "text/html": "<div>\n<style scoped>\n    .dataframe tbody tr th:only-of-type {\n        vertical-align: middle;\n    }\n\n    .dataframe tbody tr th {\n        vertical-align: top;\n    }\n\n    .dataframe thead th {\n        text-align: right;\n    }\n</style>\n<table border=\"1\" class=\"dataframe\">\n  <thead>\n    <tr style=\"text-align: right;\">\n      <th></th>\n      <th>covariance</th>\n      <th>beta1</th>\n      <th>beta2</th>\n      <th>p</th>\n      <th>exp_of_var</th>\n      <th>mismeasured_coef</th>\n      <th>mismeasured_allvar_coef</th>\n      <th>mismeasured_avg_coef</th>\n      <th>pca_coef</th>\n      <th>true_val_coef</th>\n      <th>iv_coef</th>\n      <th>pca_ape</th>\n      <th>mismeasured_coef_ape</th>\n      <th>mismeasured_allvar_coef_ape</th>\n      <th>mismeasured_avg_coef_ape</th>\n      <th>iv_coef_ape</th>\n    </tr>\n  </thead>\n  <tbody>\n    <tr>\n      <th>0</th>\n      <td>-0.9</td>\n      <td>1.0</td>\n      <td>1.0</td>\n      <td>5</td>\n      <td>no</td>\n      <td>0.026501</td>\n      <td>0.034061</td>\n      <td>0.033991</td>\n      <td>0.033973</td>\n      <td>0.042281</td>\n      <td>0.032840</td>\n      <td>0.033973</td>\n      <td>0.026501</td>\n      <td>0.034061</td>\n      <td>0.033991</td>\n      <td>0.032840</td>\n    </tr>\n    <tr>\n      <th>1</th>\n      <td>-0.9</td>\n      <td>1.0</td>\n      <td>1.0</td>\n      <td>5</td>\n      <td>yes</td>\n      <td>0.025653</td>\n      <td>0.030611</td>\n      <td>0.026243</td>\n      <td>0.035135</td>\n      <td>0.042004</td>\n      <td>0.030031</td>\n      <td>0.035135</td>\n      <td>0.025653</td>\n      <td>0.030611</td>\n      <td>0.026243</td>\n      <td>0.030031</td>\n    </tr>\n    <tr>\n      <th>2</th>\n      <td>-0.5</td>\n      <td>1.0</td>\n      <td>1.0</td>\n      <td>5</td>\n      <td>no</td>\n      <td>0.022976</td>\n      <td>0.022550</td>\n      <td>0.022550</td>\n      <td>0.022544</td>\n      <td>0.021774</td>\n      <td>0.022881</td>\n      <td>0.022544</td>\n      <td>0.022976</td>\n      <td>0.022550</td>\n      <td>0.022550</td>\n      <td>0.022881</td>\n    </tr>\n    <tr>\n      <th>3</th>\n      <td>-0.5</td>\n      <td>1.0</td>\n      <td>1.0</td>\n      <td>5</td>\n      <td>yes</td>\n      <td>0.023109</td>\n      <td>0.022223</td>\n      <td>0.028880</td>\n      <td>0.027002</td>\n      <td>0.020527</td>\n      <td>0.023826</td>\n      <td>0.027002</td>\n      <td>0.023109</td>\n      <td>0.022223</td>\n      <td>0.028880</td>\n      <td>0.023826</td>\n    </tr>\n    <tr>\n      <th>4</th>\n      <td>0.0</td>\n      <td>1.0</td>\n      <td>1.0</td>\n      <td>5</td>\n      <td>no</td>\n      <td>0.022385</td>\n      <td>0.019534</td>\n      <td>0.019543</td>\n      <td>0.019527</td>\n      <td>0.017928</td>\n      <td>0.019910</td>\n      <td>0.011660</td>\n      <td>0.013587</td>\n      <td>0.011659</td>\n      <td>0.011670</td>\n      <td>0.011914</td>\n    </tr>\n    <tr>\n      <th>...</th>\n      <td>...</td>\n      <td>...</td>\n      <td>...</td>\n      <td>...</td>\n      <td>...</td>\n      <td>...</td>\n      <td>...</td>\n      <td>...</td>\n      <td>...</td>\n      <td>...</td>\n      <td>...</td>\n      <td>...</td>\n      <td>...</td>\n      <td>...</td>\n      <td>...</td>\n      <td>...</td>\n    </tr>\n    <tr>\n      <th>17</th>\n      <td>0.5</td>\n      <td>1.0</td>\n      <td>10.0</td>\n      <td>5</td>\n      <td>yes</td>\n      <td>0.131514</td>\n      <td>0.112312</td>\n      <td>0.218805</td>\n      <td>0.191309</td>\n      <td>0.021204</td>\n      <td>0.135715</td>\n      <td>0.191309</td>\n      <td>0.131514</td>\n      <td>0.112312</td>\n      <td>0.218805</td>\n      <td>0.135715</td>\n    </tr>\n    <tr>\n      <th>18</th>\n      <td>0.5</td>\n      <td>10.0</td>\n      <td>1.0</td>\n      <td>5</td>\n      <td>no</td>\n      <td>0.023220</td>\n      <td>0.021595</td>\n      <td>0.021608</td>\n      <td>0.021614</td>\n      <td>0.020190</td>\n      <td>0.021876</td>\n      <td>0.002161</td>\n      <td>0.002322</td>\n      <td>0.002159</td>\n      <td>0.002161</td>\n      <td>0.002188</td>\n    </tr>\n    <tr>\n      <th>19</th>\n      <td>0.5</td>\n      <td>10.0</td>\n      <td>1.0</td>\n      <td>5</td>\n      <td>yes</td>\n      <td>0.023293</td>\n      <td>0.022921</td>\n      <td>0.028843</td>\n      <td>0.026722</td>\n      <td>0.020530</td>\n      <td>0.024268</td>\n      <td>0.002672</td>\n      <td>0.002329</td>\n      <td>0.002292</td>\n      <td>0.002884</td>\n      <td>0.002427</td>\n    </tr>\n    <tr>\n      <th>20</th>\n      <td>0.9</td>\n      <td>1.0</td>\n      <td>1.0</td>\n      <td>5</td>\n      <td>no</td>\n      <td>0.024876</td>\n      <td>0.033051</td>\n      <td>0.033031</td>\n      <td>0.033023</td>\n      <td>0.041606</td>\n      <td>0.031983</td>\n      <td>0.033023</td>\n      <td>0.024876</td>\n      <td>0.033051</td>\n      <td>0.033031</td>\n      <td>0.031983</td>\n    </tr>\n    <tr>\n      <th>21</th>\n      <td>0.9</td>\n      <td>1.0</td>\n      <td>1.0</td>\n      <td>5</td>\n      <td>yes</td>\n      <td>0.024893</td>\n      <td>0.028913</td>\n      <td>0.024353</td>\n      <td>0.033455</td>\n      <td>0.041406</td>\n      <td>0.027485</td>\n      <td>0.033455</td>\n      <td>0.024893</td>\n      <td>0.028913</td>\n      <td>0.024353</td>\n      <td>0.027485</td>\n    </tr>\n  </tbody>\n</table>\n<p>22 rows × 16 columns</p>\n</div>"
     },
     "metadata": {},
     "execution_count": 13
    }
   ],
   "source": [
    "output.groupby(['covariance','beta1','beta2','p','exp_of_var']).std().reset_index()"
   ]
  },
  {
   "source": [
    "Code to produce LaTeX tables:"
   ],
   "cell_type": "markdown",
   "metadata": {}
  },
  {
   "cell_type": "code",
   "execution_count": 14,
   "metadata": {},
   "outputs": [],
   "source": [
    "# Helper functions for formatting latex output\n",
    "def std_parenth_padder(type_col, col_to_pad):\n",
    "    if type_col == 'std':\n",
    "        return('(' + col_to_pad + ')')\n",
    "    else:\n",
    "        return(col_to_pad)\n",
    "\n",
    "def format_level_0(type_col, col_to_format):\n",
    "    if type_col == 'std':\n",
    "        return('')\n",
    "    else:\n",
    "        return(col_to_format)"
   ]
  },
  {
   "cell_type": "code",
   "execution_count": 15,
   "metadata": {},
   "outputs": [],
   "source": [
    "# Pass this function a pandas dataframe of which to create the LaTeX file\n",
    "# dataframe is the df\n",
    "# filename is the save location\n",
    "# index tells if you want the index saved to the file or not\n",
    "def Minimal_Latex(dataframe, filename, index = False):\n",
    "\n",
    "    # Open file\n",
    "    with open(filename, \"w\") as f:\n",
    "        \n",
    "        # Start from the pandas\n",
    "        corrected_table = dataframe.to_latex(header = False, index = index)\n",
    "\n",
    "        # Strip all material that pandas inserts- the tabular environment and toprule and bottomrule\n",
    "        corrected_table = re.sub(r'\\\\begin.+', '', corrected_table)\n",
    "        corrected_table = re.sub(r'\\\\toprule', '', corrected_table)\n",
    "        corrected_table = re.sub(r'\\\\bottomrule', '', corrected_table)\n",
    "        corrected_table = re.sub(r'\\\\end.+', '', corrected_table)\n",
    "\n",
    "        # Write to file and skip blank lines\n",
    "        f.write(corrected_table.strip())"
   ]
  },
  {
   "cell_type": "code",
   "execution_count": 16,
   "metadata": {},
   "outputs": [],
   "source": [
    "coef_names_mapper = {'mismeasured_coef':'Single Measurement', 'mismeasured_allvar_coef':'All Measurements', 'pca_coef':'PCA', 'mismeasured_avg_coef':'Average of Measurements', 'iv_coef':'Instrumental Variable'}\n",
    "ape_names_mapper = {'mismeasured_coef_ape':'Single Measurement', 'mismeasured_allvar_coef_ape':'All Measurements', 'pca_ape':'PCA', 'mismeasured_avg_coef_ape':'Average of Measurements', 'iv_coef_ape':'Instrumental Variable'}"
   ]
  },
  {
   "cell_type": "code",
   "execution_count": 17,
   "metadata": {},
   "outputs": [],
   "source": [
    "all_params = ['beta1', 'beta2', 'covariance', 'p']\n",
    "pd.set_option('display.max_rows', 25)\n",
    "\n",
    "def make_param_tables(dataframe, parameter, exp):\n",
    "\n",
    "    if parameter != 'beta1':\n",
    "        dataframe = dataframe.loc[(dataframe['beta1']==1)]\n",
    "    if parameter != 'beta2':\n",
    "        dataframe = dataframe.loc[(dataframe['beta2']==1)]\n",
    "    if parameter != 'covariance':\n",
    "        dataframe = dataframe.loc[(dataframe['covariance']==0.5)]\n",
    "    if parameter != 'p':\n",
    "        dataframe = dataframe.loc[(dataframe['p']==5)]\n",
    "    dataframe = dataframe.loc[(dataframe['exp_of_var']==exp)]\n",
    "\n",
    "    exp_mapper = {'yes':'exp', 'no':'no_exp'}\n",
    "\n",
    "    dataframe = (dataframe.drop(columns = [variable for variable in all_params if variable != parameter])\n",
    "                          .groupby(parameter)\n",
    "                          .agg(['mean', 'std'])\n",
    "                          .transpose()\n",
    "                          .reset_index())\n",
    "\n",
    "    print(dataframe)\n",
    "\n",
    "    dataframe.columns = dataframe.columns.map(str)\n",
    "\n",
    "    dataframe_coefs = (dataframe.query('level_0.str.contains(\"coef\")')\n",
    "                                .query('level_0 != \"true_val_coef\"')\n",
    "                                .query('not level_0.str.contains(\"ape\")')\n",
    "                                .round(3)\n",
    "                                .astype(str))\n",
    "\n",
    "    for variable in dataframe_coefs.columns:\n",
    "        if variable != 'level_0' and variable != 'level_1':\n",
    "            dataframe_coefs[variable] = dataframe_coefs.apply(lambda x: std_parenth_padder(x['level_1'], x[variable]), axis = 1)\n",
    "\n",
    "    dataframe_coefs['level_0'] = dataframe_coefs.apply(lambda x: format_level_0(x.level_1, x.level_0), axis = 1)\n",
    "\n",
    "    dataframe_coefs = (dataframe_coefs.drop(columns = 'level_1')\n",
    "                                    .replace(coef_names_mapper))\n",
    "\n",
    "    Minimal_Latex(dataframe_coefs, tables_dir + '/' + parameter + '_coefs_' + exp_mapper[exp] + '.tex')\n",
    "\n",
    "    dataframe_apes = (dataframe.query('level_0.str.contains(\"ape\")')\n",
    "                           .query('level_1 != \"std\"')\n",
    "                           .drop(columns = 'level_1')\n",
    "                           .replace(ape_names_mapper)\n",
    "                           .set_index('level_0')\n",
    "                           .multiply(100)\n",
    "                           .round(1)\n",
    "                           .astype(str)\n",
    "                           .add('%')\n",
    "                           .reset_index())\n",
    "\n",
    "    Minimal_Latex(dataframe_apes, tables_dir + '/' + parameter + '_apes_' + exp_mapper[exp] + '.tex')"
   ]
  },
  {
   "cell_type": "code",
   "execution_count": 18,
   "metadata": {},
   "outputs": [
    {
     "output_type": "stream",
     "name": "stdout",
     "text": [
      "p                       level_0 level_1         5        20        50\n0              mismeasured_coef    mean  1.285958  1.285384  1.286121\n1              mismeasured_coef     std  0.023444  0.023101  0.022505\n2       mismeasured_allvar_coef    mean  1.181737  1.056096  1.025023\n3       mismeasured_allvar_coef     std  0.022736  0.020989  0.020654\n4          mismeasured_avg_coef    mean  1.365991  1.302937  1.287386\n5          mismeasured_avg_coef     std  0.028835  0.027252  0.025542\n6                      pca_coef    mean  1.208243  1.080903  1.055086\n7                      pca_coef     std  0.026568  0.022555  0.021760\n8                 true_val_coef    mean  0.999904  0.999757  1.000616\n9                 true_val_coef     std  0.020885  0.020558  0.020416\n10                      iv_coef    mean  1.234392  1.062037  1.035296\n11                      iv_coef     std  0.023896  0.021049  0.020989\n12                      pca_ape    mean  0.208243  0.080903  0.055129\n13                      pca_ape     std  0.026568  0.022555  0.021651\n14         mismeasured_coef_ape    mean  0.285958  0.285384  0.286121\n15         mismeasured_coef_ape     std  0.023444  0.023101  0.022505\n16  mismeasured_allvar_coef_ape    mean  0.181737  0.056198  0.027302\n17  mismeasured_allvar_coef_ape     std  0.022736  0.020714  0.017528\n18     mismeasured_avg_coef_ape    mean  0.365991  0.302937  0.287386\n19     mismeasured_avg_coef_ape     std  0.028835  0.027252  0.025542\n20                  iv_coef_ape    mean  0.234392  0.062093  0.035959\n21                  iv_coef_ape     std  0.023896  0.020881  0.019832\n"
     ]
    }
   ],
   "source": [
    "make_param_tables(output, 'p', 'yes')"
   ]
  },
  {
   "cell_type": "code",
   "execution_count": 19,
   "metadata": {},
   "outputs": [
    {
     "output_type": "stream",
     "name": "stdout",
     "text": [
      "p                       level_0 level_1         5        20        50\n0              mismeasured_coef    mean  1.286266  1.287102  1.285265\n1              mismeasured_coef     std  0.022816  0.023559  0.023888\n2       mismeasured_allvar_coef    mean  1.105807  1.031883  1.012755\n3       mismeasured_allvar_coef     std  0.021403  0.021474  0.020830\n4          mismeasured_avg_coef    mean  1.105804  1.031849  1.012849\n5          mismeasured_avg_coef     std  0.021403  0.021477  0.020619\n6                      pca_coef    mean  1.106005  1.032031  1.013055\n7                      pca_coef     std  0.021387  0.021467  0.020623\n8                 true_val_coef    mean  1.000266  1.000727  0.999820\n9                 true_val_coef     std  0.020368  0.021345  0.020546\n10                      iv_coef    mean  1.126255  1.037099  1.023450\n11                      iv_coef     std  0.021635  0.021658  0.020909\n12                      pca_ape    mean  0.106005  0.033144  0.019402\n13                      pca_ape     std  0.021387  0.019704  0.014802\n14         mismeasured_coef_ape    mean  0.286266  0.287102  0.285265\n15         mismeasured_coef_ape     std  0.022816  0.023559  0.023888\n16  mismeasured_allvar_coef_ape    mean  0.105807  0.033007  0.019457\n17  mismeasured_allvar_coef_ape     std  0.021403  0.019701  0.014759\n18     mismeasured_avg_coef_ape    mean  0.105804  0.032980  0.019310\n19     mismeasured_avg_coef_ape     std  0.021403  0.019695  0.014736\n20                  iv_coef_ape    mean  0.126255  0.037639  0.026182\n21                  iv_coef_ape     std  0.021635  0.020705  0.017362\n"
     ]
    }
   ],
   "source": [
    "make_param_tables(output, 'p', 'no')"
   ]
  },
  {
   "cell_type": "code",
   "execution_count": 20,
   "metadata": {},
   "outputs": [
    {
     "output_type": "stream",
     "name": "stdout",
     "text": [
      "covariance                      level_0 level_1      -0.9      -0.5       0.0  \\\n0                      mismeasured_coef    mean  0.242601  0.714589  0.999983   \n1                      mismeasured_coef     std  0.025653  0.023109  0.022526   \n2               mismeasured_allvar_coef    mean  0.376047  0.818292  1.000120   \n3               mismeasured_allvar_coef     std  0.030611  0.022223  0.020732   \n4                  mismeasured_avg_coef    mean  0.176532  0.634314  1.000745   \n5                  mismeasured_avg_coef     std  0.026243  0.028880  0.023393   \n6                              pca_coef    mean  0.336822  0.791630  1.000447   \n7                              pca_coef     std  0.035135  0.027002  0.021099   \n8                         true_val_coef    mean  0.998970  0.999622  1.000106   \n9                         true_val_coef     std  0.042004  0.020527  0.018372   \n10                              iv_coef    mean  0.300439  0.765596  1.000295   \n11                              iv_coef     std  0.030031  0.023826  0.021423   \n12                              pca_ape    mean  0.663178  0.208370  0.016638   \n13                              pca_ape     std  0.035135  0.027002  0.012971   \n14                 mismeasured_coef_ape    mean  0.757399  0.285411  0.017835   \n15                 mismeasured_coef_ape     std  0.025653  0.023109  0.013748   \n16          mismeasured_allvar_coef_ape    mean  0.623953  0.181708  0.016272   \n17          mismeasured_allvar_coef_ape     std  0.030611  0.022223  0.012837   \n18             mismeasured_avg_coef_ape    mean  0.823468  0.365686  0.018691   \n19             mismeasured_avg_coef_ape     std  0.026243  0.028880  0.014074   \n20                          iv_coef_ape    mean  0.699561  0.234404  0.016912   \n21                          iv_coef_ape     std  0.030031  0.023826  0.013143   \n\ncovariance       0.5       0.9  \n0           1.285958  1.756618  \n1           0.023444  0.024893  \n2           1.181737  1.623605  \n3           0.022736  0.028913  \n4           1.365991  1.823462  \n5           0.028835  0.024353  \n6           1.208243  1.664802  \n7           0.026568  0.033455  \n8           0.999904  0.999093  \n9           0.020885  0.041406  \n10          1.234392  1.699715  \n11          0.023896  0.027485  \n12          0.208243  0.664802  \n13          0.026568  0.033455  \n14          0.285958  0.756618  \n15          0.023444  0.024893  \n16          0.181737  0.623605  \n17          0.022736  0.028913  \n18          0.365991  0.823462  \n19          0.028835  0.024353  \n20          0.234392  0.699715  \n21          0.023896  0.027485  \n"
     ]
    }
   ],
   "source": [
    "make_param_tables(output, 'covariance', 'yes')"
   ]
  },
  {
   "cell_type": "code",
   "execution_count": 21,
   "metadata": {},
   "outputs": [
    {
     "output_type": "stream",
     "name": "stdout",
     "text": [
      "covariance                      level_0 level_1      -0.9      -0.5       0.0  \\\n0                      mismeasured_coef    mean  0.242976  0.714094  0.999695   \n1                      mismeasured_coef     std  0.026501  0.022976  0.022385   \n2               mismeasured_allvar_coef    mean  0.535887  0.894339  0.999722   \n3               mismeasured_allvar_coef     std  0.034061  0.022550  0.019534   \n4                  mismeasured_avg_coef    mean  0.535864  0.894326  0.999711   \n5                  mismeasured_avg_coef     std  0.033991  0.022550  0.019543   \n6                              pca_coef    mean  0.535341  0.894160  0.999713   \n7                              pca_coef     std  0.033973  0.022544  0.019527   \n8                         true_val_coef    mean  0.996467  0.999330  0.999878   \n9                         true_val_coef     std  0.042281  0.021774  0.017928   \n10                              iv_coef    mean  0.484676  0.873866  0.999741   \n11                              iv_coef     std  0.032840  0.022881  0.019910   \n12                              pca_ape    mean  0.464659  0.105840  0.015658   \n13                              pca_ape     std  0.033973  0.022544  0.011660   \n14                 mismeasured_coef_ape    mean  0.757024  0.285906  0.017784   \n15                 mismeasured_coef_ape     std  0.026501  0.022976  0.013587   \n16          mismeasured_allvar_coef_ape    mean  0.464113  0.105661  0.015667   \n17          mismeasured_allvar_coef_ape     std  0.034061  0.022550  0.011659   \n18             mismeasured_avg_coef_ape    mean  0.464136  0.105674  0.015671   \n19             mismeasured_avg_coef_ape     std  0.033991  0.022550  0.011670   \n20                          iv_coef_ape    mean  0.515324  0.126134  0.015946   \n21                          iv_coef_ape     std  0.032840  0.022881  0.011914   \n\ncovariance       0.5       0.9  \n0           1.286266  1.755371  \n1           0.022816  0.024876  \n2           1.105807  1.460984  \n3           0.021403  0.033051  \n4           1.105804  1.460980  \n5           0.021403  0.033031  \n6           1.106005  1.461417  \n7           0.021387  0.033023  \n8           1.000266  1.000228  \n9           0.020368  0.041606  \n10          1.126255  1.512270  \n11          0.021635  0.031983  \n12          0.106005  0.461417  \n13          0.021387  0.033023  \n14          0.286266  0.755371  \n15          0.022816  0.024876  \n16          0.105807  0.460984  \n17          0.021403  0.033051  \n18          0.105804  0.460980  \n19          0.021403  0.033031  \n20          0.126255  0.512270  \n21          0.021635  0.031983  \n"
     ]
    }
   ],
   "source": [
    "make_param_tables(output, 'covariance', 'no')"
   ]
  },
  {
   "cell_type": "code",
   "execution_count": 22,
   "metadata": {},
   "outputs": [
    {
     "output_type": "stream",
     "name": "stdout",
     "text": [
      "beta1                      level_0 level_1       0.1       1.0       10.0\n0                 mismeasured_coef    mean  0.384904  1.285958  10.284892\n1                 mismeasured_coef     std  0.023244  0.023444   0.023293\n2          mismeasured_allvar_coef    mean  0.281532  1.181737  10.181281\n3          mismeasured_allvar_coef     std  0.022321  0.022736   0.022921\n4             mismeasured_avg_coef    mean  0.465073  1.365991  10.364676\n5             mismeasured_avg_coef     std  0.027800  0.028835   0.028843\n6                         pca_coef    mean  0.308825  1.208243  10.208078\n7                         pca_coef     std  0.027099  0.026568   0.026722\n8                    true_val_coef    mean  0.099577  0.999904   9.998673\n9                    true_val_coef     std  0.020597  0.020885   0.020530\n10                         iv_coef    mean  0.334748  1.234392  10.234415\n11                         iv_coef     std  0.023492  0.023896   0.024268\n12                         pca_ape    mean  2.088252  0.208243   0.020808\n13                         pca_ape     std  0.270990  0.026568   0.002672\n14            mismeasured_coef_ape    mean  2.849045  0.285958   0.028489\n15            mismeasured_coef_ape     std  0.232442  0.023444   0.002329\n16     mismeasured_allvar_coef_ape    mean  1.815324  0.181737   0.018128\n17     mismeasured_allvar_coef_ape     std  0.223209  0.022736   0.002292\n18        mismeasured_avg_coef_ape    mean  3.650728  0.365991   0.036468\n19        mismeasured_avg_coef_ape     std  0.278004  0.028835   0.002884\n20                     iv_coef_ape    mean  2.347485  0.234392   0.023441\n21                     iv_coef_ape     std  0.234920  0.023896   0.002427\n"
     ]
    }
   ],
   "source": [
    "make_param_tables(output, 'beta1', 'yes')"
   ]
  },
  {
   "cell_type": "code",
   "execution_count": 23,
   "metadata": {},
   "outputs": [
    {
     "output_type": "stream",
     "name": "stdout",
     "text": [
      "beta1                      level_0 level_1       0.1       1.0       10.0\n0                 mismeasured_coef    mean  0.386315  1.286266  10.284443\n1                 mismeasured_coef     std  0.023860  0.022816   0.023220\n2          mismeasured_allvar_coef    mean  0.205718  1.105807  10.104523\n3          mismeasured_allvar_coef     std  0.022504  0.021403   0.021595\n4             mismeasured_avg_coef    mean  0.205709  1.105804  10.104542\n5             mismeasured_avg_coef     std  0.022572  0.021403   0.021608\n6                         pca_coef    mean  0.205887  1.106005  10.104699\n7                         pca_coef     std  0.022573  0.021387   0.021614\n8                    true_val_coef    mean  0.100347  1.000266   9.999312\n9                    true_val_coef     std  0.021496  0.020368   0.020190\n10                         iv_coef    mean  0.226120  1.126255  10.125195\n11                         iv_coef     std  0.022562  0.021635   0.021876\n12                         pca_ape    mean  1.058871  0.106005   0.010470\n13                         pca_ape     std  0.225728  0.021387   0.002161\n14            mismeasured_coef_ape    mean  2.863153  0.286266   0.028444\n15            mismeasured_coef_ape     std  0.238601  0.022816   0.002322\n16     mismeasured_allvar_coef_ape    mean  1.057181  0.105807   0.010452\n17     mismeasured_allvar_coef_ape     std  0.225041  0.021403   0.002159\n18        mismeasured_avg_coef_ape    mean  1.057090  0.105804   0.010454\n19        mismeasured_avg_coef_ape     std  0.225717  0.021403   0.002161\n20                     iv_coef_ape    mean  1.261198  0.126255   0.012520\n21                     iv_coef_ape     std  0.225624  0.021635   0.002188\n"
     ]
    }
   ],
   "source": [
    "make_param_tables(output, 'beta1', 'no')"
   ]
  },
  {
   "cell_type": "code",
   "execution_count": 24,
   "metadata": {},
   "outputs": [
    {
     "output_type": "stream",
     "name": "stdout",
     "text": [
      "beta2                      level_0 level_1       0.1       1.0      10.0\n0                 mismeasured_coef    mean  1.028945  1.285958  3.847974\n1                 mismeasured_coef     std  0.019375  0.023444  0.131514\n2          mismeasured_allvar_coef    mean  1.018415  1.181737  2.814628\n3          mismeasured_allvar_coef     std  0.019874  0.022736  0.112312\n4             mismeasured_avg_coef    mean  1.036938  1.365991  4.648065\n5             mismeasured_avg_coef     std  0.018851  0.028835  0.218805\n6                         pca_coef    mean  1.021105  1.208243  3.079584\n7                         pca_coef     std  0.019789  0.026568  0.191309\n8                    true_val_coef    mean  1.000513  0.999904  1.000067\n9                    true_val_coef     std  0.020917  0.020885  0.021204\n10                         iv_coef    mean  1.023673  1.234392  3.345202\n11                         iv_coef     std  0.019424  0.023896  0.135715\n12                         pca_ape    mean  0.023847  0.208243  2.079584\n13                         pca_ape     std  0.016377  0.026568  0.191309\n14            mismeasured_coef_ape    mean  0.029907  0.285958  2.847974\n15            mismeasured_coef_ape     std  0.017854  0.023444  0.131514\n16     mismeasured_allvar_coef_ape    mean  0.022133  0.181737  1.814628\n17     mismeasured_allvar_coef_ape     std  0.015624  0.022736  0.112312\n18        mismeasured_avg_coef_ape    mean  0.037175  0.365991  3.648065\n19        mismeasured_avg_coef_ape     std  0.018379  0.028835  0.218805\n20                     iv_coef_ape    mean  0.025679  0.234392  2.345202\n21                     iv_coef_ape     std  0.016678  0.023896  0.135715\n"
     ]
    }
   ],
   "source": [
    "make_param_tables(output, 'beta2', 'yes')"
   ]
  },
  {
   "cell_type": "code",
   "execution_count": 25,
   "metadata": {},
   "outputs": [
    {
     "output_type": "stream",
     "name": "stdout",
     "text": [
      "beta2                      level_0 level_1       0.1       1.0      10.0\n0                 mismeasured_coef    mean  1.028305  1.286266  3.848312\n1                 mismeasured_coef     std  0.019732  0.022816  0.130960\n2          mismeasured_allvar_coef    mean  1.010399  1.105807  2.049166\n3          mismeasured_allvar_coef     std  0.020477  0.021403  0.085396\n4             mismeasured_avg_coef    mean  1.010421  1.105804  2.049212\n5             mismeasured_avg_coef     std  0.020446  0.021403  0.085309\n6                         pca_coef    mean  1.010433  1.106005  2.050965\n7                         pca_coef     std  0.020441  0.021387  0.085411\n8                    true_val_coef    mean  0.999993  1.000266  0.999398\n9                    true_val_coef     std  0.021121  0.020368  0.021442\n10                         iv_coef    mean  1.012540  1.126255  2.253544\n11                         iv_coef     std  0.020300  0.021635  0.091514\n12                         pca_ape    mean  0.018520  0.106005  1.050965\n13                         pca_ape     std  0.013544  0.021387  0.085411\n14            mismeasured_coef_ape    mean  0.029911  0.286266  2.848312\n15            mismeasured_coef_ape     std  0.017197  0.022816  0.130960\n16     mismeasured_allvar_coef_ape    mean  0.018532  0.105807  1.049166\n17     mismeasured_allvar_coef_ape     std  0.013557  0.021403  0.085396\n18        mismeasured_avg_coef_ape    mean  0.018518  0.105804  1.049212\n19        mismeasured_avg_coef_ape     std  0.013546  0.021403  0.085309\n20                     iv_coef_ape    mean  0.019353  0.126255  1.253544\n21                     iv_coef_ape     std  0.013950  0.021635  0.091514\n"
     ]
    }
   ],
   "source": [
    "make_param_tables(output, 'beta2', 'no')"
   ]
  }
 ],
 "metadata": {
  "kernelspec": {
   "name": "python388jvsc74a57bd09bc3a4351665e9db33af6438013e62909d11821677ef54a6a5e37238d33c4427",
   "display_name": "Python 3.8.8 64-bit ('econ31330-env': conda)"
  },
  "language_info": {
   "codemirror_mode": {
    "name": "ipython",
    "version": 3
   },
   "file_extension": ".py",
   "mimetype": "text/x-python",
   "name": "python",
   "nbconvert_exporter": "python",
   "pygments_lexer": "ipython3",
   "version": "3.8.8"
  }
 },
 "nbformat": 4,
 "nbformat_minor": 4
}