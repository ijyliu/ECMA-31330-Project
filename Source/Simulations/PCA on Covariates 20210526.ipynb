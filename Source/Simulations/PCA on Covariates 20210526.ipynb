{
 "cells": [
  {
   "source": [
    "# PCA on Covariates Simulations Notebook"
   ],
   "cell_type": "markdown",
   "metadata": {}
  },
  {
   "cell_type": "code",
   "execution_count": 1,
   "metadata": {},
   "outputs": [],
   "source": [
    "# Packages\n",
    "import numpy as np\n",
    "import pandas as pd\n",
    "import seaborn as sns\n",
    "from pca import pca\n",
    "import statsmodels.api as sm\n",
    "import statsmodels.formula.api as smf\n",
    "from sklearn.preprocessing import StandardScaler\n",
    "from sklearn.decomposition import FactorAnalysis\n",
    "import math\n",
    "from tqdm import tqdm"
   ]
  },
  {
   "cell_type": "code",
   "execution_count": 2,
   "metadata": {},
   "outputs": [],
   "source": [
    "# Supressing Output\n",
    "from contextlib import contextmanager\n",
    "import sys, os\n",
    "\n",
    "@contextmanager\n",
    "def suppress_stdout():\n",
    "    with open(os.devnull, \"w\") as devnull:\n",
    "        old_stdout = sys.stdout\n",
    "        sys.stdout = devnull\n",
    "        try:  \n",
    "            yield\n",
    "        finally:\n",
    "            sys.stdout = old_stdout"
   ]
  },
  {
   "cell_type": "markdown",
   "metadata": {},
   "source": [
    "**My main changes and what I want people to review in the code block below:**\n",
    "    \n",
    "1) I added an IV section\n",
    "\n",
    "2) I added a new thing where we take half of the mismeasured covariate values and then use them as the exponent to raise e to (e.g. z4 = e**z4)\n",
    "\n",
    "3) i got rid of the 1,000 value for beta1 and beta2\n",
    "\n",
    "4) i got rid of the p = 10 value\n",
    "\n",
    "**Comments on those changes:**\n",
    "\n",
    "1) i'm curious if i did this right\n",
    "\n",
    "2) i did this because of bonhomme's feedback about where PCA might outperform taking the simple avg. we've gotten some tentative signs that PCA does do better than the avg when you stretch out he observations\n",
    "\n",
    "3) , 4) it seemed like we didn't really need those values"
   ]
  },
  {
   "cell_type": "code",
   "execution_count": 3,
   "metadata": {},
   "outputs": [
    {
     "output_type": "stream",
     "name": "stderr",
     "text": [
      "100%|██████████| 1/1 [00:00<00:00,  1.72it/s]\n",
      "100%|██████████| 1/1 [00:00<00:00,  1.89it/s]\n",
      "100%|██████████| 1/1 [00:00<00:00,  1.83it/s]\n",
      "100%|██████████| 1/1 [00:00<00:00,  1.75it/s]\n",
      "100%|██████████| 1/1 [00:00<00:00,  1.67it/s]\n",
      "100%|██████████| 1/1 [00:00<00:00,  2.06it/s]\n",
      "100%|██████████| 1/1 [00:00<00:00,  1.93it/s]\n",
      "100%|██████████| 1/1 [00:00<00:00,  1.93it/s]\n",
      "100%|██████████| 1/1 [00:00<00:00,  1.93it/s]\n",
      "100%|██████████| 1/1 [00:00<00:00,  2.11it/s]\n",
      "100%|██████████| 1/1 [00:00<00:00,  1.97it/s]\n",
      "100%|██████████| 1/1 [00:00<00:00,  2.00it/s]\n",
      "100%|██████████| 1/1 [00:00<00:00,  2.01it/s]\n",
      "100%|██████████| 1/1 [00:00<00:00,  2.03it/s]\n",
      "100%|██████████| 1/1 [00:00<00:00,  1.64it/s]\n",
      "100%|██████████| 1/1 [00:00<00:00,  1.70it/s]\n",
      "100%|██████████| 1/1 [00:00<00:00,  2.32it/s]\n",
      "100%|██████████| 1/1 [00:00<00:00,  2.14it/s]\n",
      "100%|██████████| 1/1 [00:00<00:00,  2.19it/s]\n",
      "100%|██████████| 1/1 [00:00<00:00,  2.15it/s]\n",
      "100%|██████████| 1/1 [00:00<00:00,  2.09it/s]\n",
      "100%|██████████| 1/1 [00:00<00:00,  2.03it/s]\n"
     ]
    },
    {
     "output_type": "execute_result",
     "data": {
      "text/plain": [
       "   mismeasured_coef  mismeasured_allvar_coef  mismeasured_avg_coef   pca_coef  \\\n",
       "0          0.392676                 0.297068              0.482867   0.347941   \n",
       "0          0.367448                 0.170904              0.171895   0.171929   \n",
       "0          0.994095                 0.983749              0.992905   0.973718   \n",
       "0          0.997181                 0.988845              0.989324   0.989386   \n",
       "0          0.306442                 0.431522              0.210874   0.386974   \n",
       "0          0.217245                 0.477989              0.477303   0.477019   \n",
       "0          0.688088                 0.809595              0.591318   0.787940   \n",
       "0          0.724498                 0.920783              0.919703   0.918035   \n",
       "0          0.981324                 0.981242              1.000192   0.989517   \n",
       "0          1.005180                 1.001407              1.000276   1.000394   \n",
       "0          1.273635                 1.184514              1.324573   1.188763   \n",
       "0          1.302670                 1.121081              1.120034   1.119961   \n",
       "0          1.335307                 1.103426              1.360066   1.137182   \n",
       "0          1.299725                 1.017953              1.019209   1.019431   \n",
       "0          1.270605                 1.007795              1.266871   1.039387   \n",
       "0          1.298960                 1.015811              1.015819   1.015167   \n",
       "0          1.729860                 1.592228              1.805877   1.630148   \n",
       "0          1.813492                 1.456942              1.457083   1.457555   \n",
       "0          3.913515                 2.907110              4.573856   2.977885   \n",
       "0          3.778286                 1.949708              1.954646   1.955103   \n",
       "0         10.278445                10.178115             10.397776  10.237330   \n",
       "0         10.298414                10.105304             10.105292  10.105762   \n",
       "\n",
       "   true_val_coef    iv_coef  covariance  beta1  beta2   p exp_of_var  \n",
       "0       0.126243   0.362740         0.5    0.1    1.0   5        yes  \n",
       "0       0.053409   0.196630         0.5    0.1    1.0   5         no  \n",
       "0       0.975325   0.979110         0.5    1.0    0.1   5        yes  \n",
       "0       0.976645   0.994704         0.5    1.0    0.1   5         no  \n",
       "0       1.108455   0.356959        -0.9    1.0    1.0   5        yes  \n",
       "0       0.952746   0.422875        -0.9    1.0    1.0   5         no  \n",
       "0       0.991823   0.753843        -0.5    1.0    1.0   5        yes  \n",
       "0       1.012534   0.904684        -0.5    1.0    1.0   5         no  \n",
       "0       0.992666   0.983436         0.0    1.0    1.0   5        yes  \n",
       "0       1.009075   1.000825         0.0    1.0    1.0   5         no  \n",
       "0       0.990955   1.224034         0.5    1.0    1.0   5        yes  \n",
       "0       1.021782   1.141248         0.5    1.0    1.0   5         no  \n",
       "0       1.039962   1.107587         0.5    1.0    1.0  20        yes  \n",
       "0       0.984457   1.038881         0.5    1.0    1.0  20         no  \n",
       "0       0.985449   1.026629         0.5    1.0    1.0  50        yes  \n",
       "0       1.004743   1.041875         0.5    1.0    1.0  50         no  \n",
       "0       0.959090   1.682543         0.9    1.0    1.0   5        yes  \n",
       "0       1.000043   1.501181         0.9    1.0    1.0   5         no  \n",
       "0       1.040922   3.442474         0.5    1.0   10.0   5        yes  \n",
       "0       0.996103   2.235823         0.5    1.0   10.0   5         no  \n",
       "0       9.982137  10.243914         0.5   10.0    1.0   5        yes  \n",
       "0       9.997272  10.121088         0.5   10.0    1.0   5         no  "
      ],
      "text/html": "<div>\n<style scoped>\n    .dataframe tbody tr th:only-of-type {\n        vertical-align: middle;\n    }\n\n    .dataframe tbody tr th {\n        vertical-align: top;\n    }\n\n    .dataframe thead th {\n        text-align: right;\n    }\n</style>\n<table border=\"1\" class=\"dataframe\">\n  <thead>\n    <tr style=\"text-align: right;\">\n      <th></th>\n      <th>mismeasured_coef</th>\n      <th>mismeasured_allvar_coef</th>\n      <th>mismeasured_avg_coef</th>\n      <th>pca_coef</th>\n      <th>true_val_coef</th>\n      <th>iv_coef</th>\n      <th>covariance</th>\n      <th>beta1</th>\n      <th>beta2</th>\n      <th>p</th>\n      <th>exp_of_var</th>\n    </tr>\n  </thead>\n  <tbody>\n    <tr>\n      <th>0</th>\n      <td>0.392676</td>\n      <td>0.297068</td>\n      <td>0.482867</td>\n      <td>0.347941</td>\n      <td>0.126243</td>\n      <td>0.362740</td>\n      <td>0.5</td>\n      <td>0.1</td>\n      <td>1.0</td>\n      <td>5</td>\n      <td>yes</td>\n    </tr>\n    <tr>\n      <th>0</th>\n      <td>0.367448</td>\n      <td>0.170904</td>\n      <td>0.171895</td>\n      <td>0.171929</td>\n      <td>0.053409</td>\n      <td>0.196630</td>\n      <td>0.5</td>\n      <td>0.1</td>\n      <td>1.0</td>\n      <td>5</td>\n      <td>no</td>\n    </tr>\n    <tr>\n      <th>0</th>\n      <td>0.994095</td>\n      <td>0.983749</td>\n      <td>0.992905</td>\n      <td>0.973718</td>\n      <td>0.975325</td>\n      <td>0.979110</td>\n      <td>0.5</td>\n      <td>1.0</td>\n      <td>0.1</td>\n      <td>5</td>\n      <td>yes</td>\n    </tr>\n    <tr>\n      <th>0</th>\n      <td>0.997181</td>\n      <td>0.988845</td>\n      <td>0.989324</td>\n      <td>0.989386</td>\n      <td>0.976645</td>\n      <td>0.994704</td>\n      <td>0.5</td>\n      <td>1.0</td>\n      <td>0.1</td>\n      <td>5</td>\n      <td>no</td>\n    </tr>\n    <tr>\n      <th>0</th>\n      <td>0.306442</td>\n      <td>0.431522</td>\n      <td>0.210874</td>\n      <td>0.386974</td>\n      <td>1.108455</td>\n      <td>0.356959</td>\n      <td>-0.9</td>\n      <td>1.0</td>\n      <td>1.0</td>\n      <td>5</td>\n      <td>yes</td>\n    </tr>\n    <tr>\n      <th>0</th>\n      <td>0.217245</td>\n      <td>0.477989</td>\n      <td>0.477303</td>\n      <td>0.477019</td>\n      <td>0.952746</td>\n      <td>0.422875</td>\n      <td>-0.9</td>\n      <td>1.0</td>\n      <td>1.0</td>\n      <td>5</td>\n      <td>no</td>\n    </tr>\n    <tr>\n      <th>0</th>\n      <td>0.688088</td>\n      <td>0.809595</td>\n      <td>0.591318</td>\n      <td>0.787940</td>\n      <td>0.991823</td>\n      <td>0.753843</td>\n      <td>-0.5</td>\n      <td>1.0</td>\n      <td>1.0</td>\n      <td>5</td>\n      <td>yes</td>\n    </tr>\n    <tr>\n      <th>0</th>\n      <td>0.724498</td>\n      <td>0.920783</td>\n      <td>0.919703</td>\n      <td>0.918035</td>\n      <td>1.012534</td>\n      <td>0.904684</td>\n      <td>-0.5</td>\n      <td>1.0</td>\n      <td>1.0</td>\n      <td>5</td>\n      <td>no</td>\n    </tr>\n    <tr>\n      <th>0</th>\n      <td>0.981324</td>\n      <td>0.981242</td>\n      <td>1.000192</td>\n      <td>0.989517</td>\n      <td>0.992666</td>\n      <td>0.983436</td>\n      <td>0.0</td>\n      <td>1.0</td>\n      <td>1.0</td>\n      <td>5</td>\n      <td>yes</td>\n    </tr>\n    <tr>\n      <th>0</th>\n      <td>1.005180</td>\n      <td>1.001407</td>\n      <td>1.000276</td>\n      <td>1.000394</td>\n      <td>1.009075</td>\n      <td>1.000825</td>\n      <td>0.0</td>\n      <td>1.0</td>\n      <td>1.0</td>\n      <td>5</td>\n      <td>no</td>\n    </tr>\n    <tr>\n      <th>0</th>\n      <td>1.273635</td>\n      <td>1.184514</td>\n      <td>1.324573</td>\n      <td>1.188763</td>\n      <td>0.990955</td>\n      <td>1.224034</td>\n      <td>0.5</td>\n      <td>1.0</td>\n      <td>1.0</td>\n      <td>5</td>\n      <td>yes</td>\n    </tr>\n    <tr>\n      <th>0</th>\n      <td>1.302670</td>\n      <td>1.121081</td>\n      <td>1.120034</td>\n      <td>1.119961</td>\n      <td>1.021782</td>\n      <td>1.141248</td>\n      <td>0.5</td>\n      <td>1.0</td>\n      <td>1.0</td>\n      <td>5</td>\n      <td>no</td>\n    </tr>\n    <tr>\n      <th>0</th>\n      <td>1.335307</td>\n      <td>1.103426</td>\n      <td>1.360066</td>\n      <td>1.137182</td>\n      <td>1.039962</td>\n      <td>1.107587</td>\n      <td>0.5</td>\n      <td>1.0</td>\n      <td>1.0</td>\n      <td>20</td>\n      <td>yes</td>\n    </tr>\n    <tr>\n      <th>0</th>\n      <td>1.299725</td>\n      <td>1.017953</td>\n      <td>1.019209</td>\n      <td>1.019431</td>\n      <td>0.984457</td>\n      <td>1.038881</td>\n      <td>0.5</td>\n      <td>1.0</td>\n      <td>1.0</td>\n      <td>20</td>\n      <td>no</td>\n    </tr>\n    <tr>\n      <th>0</th>\n      <td>1.270605</td>\n      <td>1.007795</td>\n      <td>1.266871</td>\n      <td>1.039387</td>\n      <td>0.985449</td>\n      <td>1.026629</td>\n      <td>0.5</td>\n      <td>1.0</td>\n      <td>1.0</td>\n      <td>50</td>\n      <td>yes</td>\n    </tr>\n    <tr>\n      <th>0</th>\n      <td>1.298960</td>\n      <td>1.015811</td>\n      <td>1.015819</td>\n      <td>1.015167</td>\n      <td>1.004743</td>\n      <td>1.041875</td>\n      <td>0.5</td>\n      <td>1.0</td>\n      <td>1.0</td>\n      <td>50</td>\n      <td>no</td>\n    </tr>\n    <tr>\n      <th>0</th>\n      <td>1.729860</td>\n      <td>1.592228</td>\n      <td>1.805877</td>\n      <td>1.630148</td>\n      <td>0.959090</td>\n      <td>1.682543</td>\n      <td>0.9</td>\n      <td>1.0</td>\n      <td>1.0</td>\n      <td>5</td>\n      <td>yes</td>\n    </tr>\n    <tr>\n      <th>0</th>\n      <td>1.813492</td>\n      <td>1.456942</td>\n      <td>1.457083</td>\n      <td>1.457555</td>\n      <td>1.000043</td>\n      <td>1.501181</td>\n      <td>0.9</td>\n      <td>1.0</td>\n      <td>1.0</td>\n      <td>5</td>\n      <td>no</td>\n    </tr>\n    <tr>\n      <th>0</th>\n      <td>3.913515</td>\n      <td>2.907110</td>\n      <td>4.573856</td>\n      <td>2.977885</td>\n      <td>1.040922</td>\n      <td>3.442474</td>\n      <td>0.5</td>\n      <td>1.0</td>\n      <td>10.0</td>\n      <td>5</td>\n      <td>yes</td>\n    </tr>\n    <tr>\n      <th>0</th>\n      <td>3.778286</td>\n      <td>1.949708</td>\n      <td>1.954646</td>\n      <td>1.955103</td>\n      <td>0.996103</td>\n      <td>2.235823</td>\n      <td>0.5</td>\n      <td>1.0</td>\n      <td>10.0</td>\n      <td>5</td>\n      <td>no</td>\n    </tr>\n    <tr>\n      <th>0</th>\n      <td>10.278445</td>\n      <td>10.178115</td>\n      <td>10.397776</td>\n      <td>10.237330</td>\n      <td>9.982137</td>\n      <td>10.243914</td>\n      <td>0.5</td>\n      <td>10.0</td>\n      <td>1.0</td>\n      <td>5</td>\n      <td>yes</td>\n    </tr>\n    <tr>\n      <th>0</th>\n      <td>10.298414</td>\n      <td>10.105304</td>\n      <td>10.105292</td>\n      <td>10.105762</td>\n      <td>9.997272</td>\n      <td>10.121088</td>\n      <td>0.5</td>\n      <td>10.0</td>\n      <td>1.0</td>\n      <td>5</td>\n      <td>no</td>\n    </tr>\n  </tbody>\n</table>\n</div>"
     },
     "metadata": {},
     "execution_count": 3
    }
   ],
   "source": [
    "# Data frame to store output\n",
    "output = pd.DataFrame()\n",
    "\n",
    "# 2,000 observations\n",
    "N = 2000\n",
    "\n",
    "# Loop over combinations of: betas, covariances between variables, p numbers of parameters\n",
    "for beta1 in [0.1,1,10]:\n",
    "    for beta2 in [0.1,1,10]:\n",
    "        for covariance in [-0.9,-0.5,0,0.5,0.9]:\n",
    "            for p in [5,20,50]:\n",
    "                # Select only the scenarios we actually want to run by default - betas of 1, covariances of 0.5, p of 5... require three of these conditions to be satisfied to run.\n",
    "                counter = 0\n",
    "                if beta1 == 1:\n",
    "                    counter += 1\n",
    "                if beta2 == 1:\n",
    "                    counter += 1\n",
    "                if covariance == 0.5:\n",
    "                    counter += 1\n",
    "                if p == 5:\n",
    "                    counter+=1\n",
    "                if counter >= 3:\n",
    "                    # Run with and without transformations\n",
    "                    for exp_of_var in ['yes','no']:\n",
    "                        # 1000 simulations\n",
    "                        for k in tqdm(range(1)):\n",
    "                            # Initialize Lists to store coef values for all five methods and the true coef\n",
    "                            pca_coef = []\n",
    "                            mismeasured_coef = []\n",
    "                            mismeasured_allvar_coef = []\n",
    "                            mismeasured_avg_coef = []\n",
    "                            iv_coef = []\n",
    "                            true_val_coef =[]\n",
    "\n",
    "                            # Create variables\n",
    "                            vars_mean = [0,0,0]\n",
    "                            vars_cov = np.array([[1,covariance,0],\n",
    "                                                 [covariance,1,0],\n",
    "                                                 [0,0,1]])\n",
    "                            # Producing 3 variables: x for the variable of interest, the true Z covariate, the random error\n",
    "                            vars_ = pd.DataFrame(np.random.multivariate_normal(vars_mean, vars_cov, N), columns = ['x','true_z','u'])\n",
    "                            vars_['y'] = beta1 * vars_['x'] + beta2 * vars_['true_z'] + vars_['u']\n",
    "\n",
    "                            # Create measurement errors for each of the p measurements of the covariates- mean zero and variance one\n",
    "                            errors_mean = np.zeros(p)\n",
    "                            errors_cov = np.zeros((p,p))\n",
    "                            for i in range(p):\n",
    "                                for j in range(p):\n",
    "                                    if i == j:\n",
    "                                        errors_cov[i,j] = 1\n",
    "\n",
    "                            errors = np.random.multivariate_normal(errors_mean, errors_cov, N)\n",
    "                            # Column labels for Z variables (covariates variables mismeasured)\n",
    "                            z_vars = []\n",
    "                            for i in range(p):\n",
    "                                z_vars.append('z'+str(i+1))\n",
    "                            # Add errors to the true_z to get mismeasured values\n",
    "                            mismeasured_z = pd.DataFrame(errors, columns = z_vars)\n",
    "                            for i in mismeasured_z.columns:\n",
    "                                mismeasured_z[i] = mismeasured_z[i] + vars_['true_z']\n",
    "\n",
    "                            # Take e to the power of the values for half of the measurements if log_of_var is true\n",
    "                            if exp_of_var == 'yes':\n",
    "                                mismeasured_z.iloc[:,int(len(mismeasured_z.columns)/2):] =np.exp(mismeasured_z.iloc[:,int(len(mismeasured_z.columns)/2):])\n",
    "                                \n",
    "                            # Do feature scaling (normalize to mean 0 and variance 1) for the mismeasured z\n",
    "                            # Note that x and y are already normalized by construction\n",
    "                            scaled_mismeasured_z = mismeasured_z.copy()\n",
    "                            for i in mismeasured_z.columns:\n",
    "                                scaled_mismeasured_z[i] = (mismeasured_z[i] - mismeasured_z[i].mean()) / mismeasured_z[i].std()\n",
    "\n",
    "                            # Suppress output\n",
    "                            with suppress_stdout():\n",
    "                                # Use PCA on the mismeasured values\n",
    "                                pca_model = pca()\n",
    "                                pca_results = pca_model.fit_transform(scaled_mismeasured_z)\n",
    "                                pca_z = pca_results['PC']['PC1']\n",
    "\n",
    "                            # NOTE: in non-pca cases, no need to rescale or normalize since mismeasured variables and x and y have mean 0 and sd 1\n",
    "\n",
    "                            # Average mismeasured variables:\n",
    "                            vars_['avg_mismeasured_z'] = mismeasured_z[z_vars].mean(axis=1)\n",
    "\n",
    "                            # Add relevant variables to vars_ dataframe\n",
    "                            vars_[mismeasured_z.columns] = mismeasured_z\n",
    "                            vars_['pca_z'] = pca_z\n",
    "\n",
    "                            # Single mismeasured covariate results\n",
    "                            model_mismeasured = sm.OLS(vars_['y'],vars_[['x','z1']])\n",
    "                            results_mismeasured = model_mismeasured.fit()\n",
    "                            mismeasured_coef.append(results_mismeasured.params[0])\n",
    "\n",
    "                            # All Variables Mismeasured Results\n",
    "                            # Create full list of items to include in regression\n",
    "                            tot_vars = ['x']\n",
    "                            tot_vars.extend(z_vars)\n",
    "                            model_mismeasured_allvar = sm.OLS(vars_['y'],vars_[tot_vars])\n",
    "                            results_mismeasured_allvar = model_mismeasured_allvar.fit()\n",
    "                            mismeasured_allvar_coef.append(results_mismeasured_allvar.params[0])\n",
    "\n",
    "                            # Average Mismeasured Variables Results\n",
    "                            model_mismeasured_avg = sm.OLS(vars_['y'],vars_[['x','avg_mismeasured_z']])\n",
    "                            results_mismeasured_avg = model_mismeasured_avg.fit()\n",
    "                            mismeasured_avg_coef.append(results_mismeasured_avg.params[0])\n",
    "\n",
    "                            # PCA Results\n",
    "                            model_pca = sm.OLS(vars_['y'],vars_[['x','pca_z']])\n",
    "                            results_pca = model_pca.fit()\n",
    "                            pca_coef.append(results_pca.params[0])\n",
    "\n",
    "                            # Instrumental Variables Results\n",
    "                            # Instrument z1 on the other items in the mismeasured df\n",
    "                            z_string = mismeasured_z.columns[1]\n",
    "                            for z in mismeasured_z.columns[2:]:\n",
    "                                z_string = z_string + ' + ' + z\n",
    "                            # Create the predicted value of z1\n",
    "                            vars_['pred_z1'] = smf.ols(\"z1 ~ \" + z_string, data = mismeasured_z).fit().predict()\n",
    "                            iv_results = smf.ols(\"y ~ x + pred_z1 -1\", data = vars_).fit()\n",
    "                            iv_coef.append(iv_results.params[0])\n",
    "\n",
    "                            # True Results\n",
    "                            model_true = sm.OLS(vars_['y'],vars_[['x','true_z']])\n",
    "                            results_true = model_true.fit()\n",
    "                            true_val_coef.append(results_true.params[0])\n",
    "\n",
    "                            # Output Findings\n",
    "                            new_output = pd.DataFrame()\n",
    "                            new_output['mismeasured_coef'] = mismeasured_coef\n",
    "                            new_output['mismeasured_allvar_coef'] = mismeasured_allvar_coef\n",
    "                            new_output['mismeasured_avg_coef'] = mismeasured_avg_coef\n",
    "                            new_output['pca_coef'] = pca_coef\n",
    "                            new_output['true_val_coef'] = true_val_coef\n",
    "                            new_output['iv_coef'] = iv_coef\n",
    "                            new_output['covariance'] = vars_cov[0][1]\n",
    "                            new_output['beta1'] = beta1\n",
    "                            new_output['beta2'] = beta2\n",
    "                            new_output['p'] = p\n",
    "                            new_output['exp_of_var'] = exp_of_var\n",
    "                            output = output.append(new_output)\n",
    "\n",
    "output"
   ]
  },
  {
   "cell_type": "code",
   "execution_count": 4,
   "metadata": {},
   "outputs": [
    {
     "output_type": "execute_result",
     "data": {
      "text/plain": [
       "   mismeasured_coef  mismeasured_allvar_coef  mismeasured_avg_coef   pca_coef  \\\n",
       "0          0.392676                 0.297068              0.482867   0.347941   \n",
       "0          0.367448                 0.170904              0.171895   0.171929   \n",
       "0          0.994095                 0.983749              0.992905   0.973718   \n",
       "0          0.997181                 0.988845              0.989324   0.989386   \n",
       "0          0.306442                 0.431522              0.210874   0.386974   \n",
       "0          0.217245                 0.477989              0.477303   0.477019   \n",
       "0          0.688088                 0.809595              0.591318   0.787940   \n",
       "0          0.724498                 0.920783              0.919703   0.918035   \n",
       "0          0.981324                 0.981242              1.000192   0.989517   \n",
       "0          1.005180                 1.001407              1.000276   1.000394   \n",
       "0          1.273635                 1.184514              1.324573   1.188763   \n",
       "0          1.302670                 1.121081              1.120034   1.119961   \n",
       "0          1.335307                 1.103426              1.360066   1.137182   \n",
       "0          1.299725                 1.017953              1.019209   1.019431   \n",
       "0          1.270605                 1.007795              1.266871   1.039387   \n",
       "0          1.298960                 1.015811              1.015819   1.015167   \n",
       "0          1.729860                 1.592228              1.805877   1.630148   \n",
       "0          1.813492                 1.456942              1.457083   1.457555   \n",
       "0          3.913515                 2.907110              4.573856   2.977885   \n",
       "0          3.778286                 1.949708              1.954646   1.955103   \n",
       "0         10.278445                10.178115             10.397776  10.237330   \n",
       "0         10.298414                10.105304             10.105292  10.105762   \n",
       "\n",
       "   true_val_coef    iv_coef  covariance  beta1  beta2   p exp_of_var  \n",
       "0       0.126243   0.362740         0.5    0.1    1.0   5        yes  \n",
       "0       0.053409   0.196630         0.5    0.1    1.0   5         no  \n",
       "0       0.975325   0.979110         0.5    1.0    0.1   5        yes  \n",
       "0       0.976645   0.994704         0.5    1.0    0.1   5         no  \n",
       "0       1.108455   0.356959        -0.9    1.0    1.0   5        yes  \n",
       "0       0.952746   0.422875        -0.9    1.0    1.0   5         no  \n",
       "0       0.991823   0.753843        -0.5    1.0    1.0   5        yes  \n",
       "0       1.012534   0.904684        -0.5    1.0    1.0   5         no  \n",
       "0       0.992666   0.983436         0.0    1.0    1.0   5        yes  \n",
       "0       1.009075   1.000825         0.0    1.0    1.0   5         no  \n",
       "0       0.990955   1.224034         0.5    1.0    1.0   5        yes  \n",
       "0       1.021782   1.141248         0.5    1.0    1.0   5         no  \n",
       "0       1.039962   1.107587         0.5    1.0    1.0  20        yes  \n",
       "0       0.984457   1.038881         0.5    1.0    1.0  20         no  \n",
       "0       0.985449   1.026629         0.5    1.0    1.0  50        yes  \n",
       "0       1.004743   1.041875         0.5    1.0    1.0  50         no  \n",
       "0       0.959090   1.682543         0.9    1.0    1.0   5        yes  \n",
       "0       1.000043   1.501181         0.9    1.0    1.0   5         no  \n",
       "0       1.040922   3.442474         0.5    1.0   10.0   5        yes  \n",
       "0       0.996103   2.235823         0.5    1.0   10.0   5         no  \n",
       "0       9.982137  10.243914         0.5   10.0    1.0   5        yes  \n",
       "0       9.997272  10.121088         0.5   10.0    1.0   5         no  "
      ],
      "text/html": "<div>\n<style scoped>\n    .dataframe tbody tr th:only-of-type {\n        vertical-align: middle;\n    }\n\n    .dataframe tbody tr th {\n        vertical-align: top;\n    }\n\n    .dataframe thead th {\n        text-align: right;\n    }\n</style>\n<table border=\"1\" class=\"dataframe\">\n  <thead>\n    <tr style=\"text-align: right;\">\n      <th></th>\n      <th>mismeasured_coef</th>\n      <th>mismeasured_allvar_coef</th>\n      <th>mismeasured_avg_coef</th>\n      <th>pca_coef</th>\n      <th>true_val_coef</th>\n      <th>iv_coef</th>\n      <th>covariance</th>\n      <th>beta1</th>\n      <th>beta2</th>\n      <th>p</th>\n      <th>exp_of_var</th>\n    </tr>\n  </thead>\n  <tbody>\n    <tr>\n      <th>0</th>\n      <td>0.392676</td>\n      <td>0.297068</td>\n      <td>0.482867</td>\n      <td>0.347941</td>\n      <td>0.126243</td>\n      <td>0.362740</td>\n      <td>0.5</td>\n      <td>0.1</td>\n      <td>1.0</td>\n      <td>5</td>\n      <td>yes</td>\n    </tr>\n    <tr>\n      <th>0</th>\n      <td>0.367448</td>\n      <td>0.170904</td>\n      <td>0.171895</td>\n      <td>0.171929</td>\n      <td>0.053409</td>\n      <td>0.196630</td>\n      <td>0.5</td>\n      <td>0.1</td>\n      <td>1.0</td>\n      <td>5</td>\n      <td>no</td>\n    </tr>\n    <tr>\n      <th>0</th>\n      <td>0.994095</td>\n      <td>0.983749</td>\n      <td>0.992905</td>\n      <td>0.973718</td>\n      <td>0.975325</td>\n      <td>0.979110</td>\n      <td>0.5</td>\n      <td>1.0</td>\n      <td>0.1</td>\n      <td>5</td>\n      <td>yes</td>\n    </tr>\n    <tr>\n      <th>0</th>\n      <td>0.997181</td>\n      <td>0.988845</td>\n      <td>0.989324</td>\n      <td>0.989386</td>\n      <td>0.976645</td>\n      <td>0.994704</td>\n      <td>0.5</td>\n      <td>1.0</td>\n      <td>0.1</td>\n      <td>5</td>\n      <td>no</td>\n    </tr>\n    <tr>\n      <th>0</th>\n      <td>0.306442</td>\n      <td>0.431522</td>\n      <td>0.210874</td>\n      <td>0.386974</td>\n      <td>1.108455</td>\n      <td>0.356959</td>\n      <td>-0.9</td>\n      <td>1.0</td>\n      <td>1.0</td>\n      <td>5</td>\n      <td>yes</td>\n    </tr>\n    <tr>\n      <th>0</th>\n      <td>0.217245</td>\n      <td>0.477989</td>\n      <td>0.477303</td>\n      <td>0.477019</td>\n      <td>0.952746</td>\n      <td>0.422875</td>\n      <td>-0.9</td>\n      <td>1.0</td>\n      <td>1.0</td>\n      <td>5</td>\n      <td>no</td>\n    </tr>\n    <tr>\n      <th>0</th>\n      <td>0.688088</td>\n      <td>0.809595</td>\n      <td>0.591318</td>\n      <td>0.787940</td>\n      <td>0.991823</td>\n      <td>0.753843</td>\n      <td>-0.5</td>\n      <td>1.0</td>\n      <td>1.0</td>\n      <td>5</td>\n      <td>yes</td>\n    </tr>\n    <tr>\n      <th>0</th>\n      <td>0.724498</td>\n      <td>0.920783</td>\n      <td>0.919703</td>\n      <td>0.918035</td>\n      <td>1.012534</td>\n      <td>0.904684</td>\n      <td>-0.5</td>\n      <td>1.0</td>\n      <td>1.0</td>\n      <td>5</td>\n      <td>no</td>\n    </tr>\n    <tr>\n      <th>0</th>\n      <td>0.981324</td>\n      <td>0.981242</td>\n      <td>1.000192</td>\n      <td>0.989517</td>\n      <td>0.992666</td>\n      <td>0.983436</td>\n      <td>0.0</td>\n      <td>1.0</td>\n      <td>1.0</td>\n      <td>5</td>\n      <td>yes</td>\n    </tr>\n    <tr>\n      <th>0</th>\n      <td>1.005180</td>\n      <td>1.001407</td>\n      <td>1.000276</td>\n      <td>1.000394</td>\n      <td>1.009075</td>\n      <td>1.000825</td>\n      <td>0.0</td>\n      <td>1.0</td>\n      <td>1.0</td>\n      <td>5</td>\n      <td>no</td>\n    </tr>\n    <tr>\n      <th>0</th>\n      <td>1.273635</td>\n      <td>1.184514</td>\n      <td>1.324573</td>\n      <td>1.188763</td>\n      <td>0.990955</td>\n      <td>1.224034</td>\n      <td>0.5</td>\n      <td>1.0</td>\n      <td>1.0</td>\n      <td>5</td>\n      <td>yes</td>\n    </tr>\n    <tr>\n      <th>0</th>\n      <td>1.302670</td>\n      <td>1.121081</td>\n      <td>1.120034</td>\n      <td>1.119961</td>\n      <td>1.021782</td>\n      <td>1.141248</td>\n      <td>0.5</td>\n      <td>1.0</td>\n      <td>1.0</td>\n      <td>5</td>\n      <td>no</td>\n    </tr>\n    <tr>\n      <th>0</th>\n      <td>1.335307</td>\n      <td>1.103426</td>\n      <td>1.360066</td>\n      <td>1.137182</td>\n      <td>1.039962</td>\n      <td>1.107587</td>\n      <td>0.5</td>\n      <td>1.0</td>\n      <td>1.0</td>\n      <td>20</td>\n      <td>yes</td>\n    </tr>\n    <tr>\n      <th>0</th>\n      <td>1.299725</td>\n      <td>1.017953</td>\n      <td>1.019209</td>\n      <td>1.019431</td>\n      <td>0.984457</td>\n      <td>1.038881</td>\n      <td>0.5</td>\n      <td>1.0</td>\n      <td>1.0</td>\n      <td>20</td>\n      <td>no</td>\n    </tr>\n    <tr>\n      <th>0</th>\n      <td>1.270605</td>\n      <td>1.007795</td>\n      <td>1.266871</td>\n      <td>1.039387</td>\n      <td>0.985449</td>\n      <td>1.026629</td>\n      <td>0.5</td>\n      <td>1.0</td>\n      <td>1.0</td>\n      <td>50</td>\n      <td>yes</td>\n    </tr>\n    <tr>\n      <th>0</th>\n      <td>1.298960</td>\n      <td>1.015811</td>\n      <td>1.015819</td>\n      <td>1.015167</td>\n      <td>1.004743</td>\n      <td>1.041875</td>\n      <td>0.5</td>\n      <td>1.0</td>\n      <td>1.0</td>\n      <td>50</td>\n      <td>no</td>\n    </tr>\n    <tr>\n      <th>0</th>\n      <td>1.729860</td>\n      <td>1.592228</td>\n      <td>1.805877</td>\n      <td>1.630148</td>\n      <td>0.959090</td>\n      <td>1.682543</td>\n      <td>0.9</td>\n      <td>1.0</td>\n      <td>1.0</td>\n      <td>5</td>\n      <td>yes</td>\n    </tr>\n    <tr>\n      <th>0</th>\n      <td>1.813492</td>\n      <td>1.456942</td>\n      <td>1.457083</td>\n      <td>1.457555</td>\n      <td>1.000043</td>\n      <td>1.501181</td>\n      <td>0.9</td>\n      <td>1.0</td>\n      <td>1.0</td>\n      <td>5</td>\n      <td>no</td>\n    </tr>\n    <tr>\n      <th>0</th>\n      <td>3.913515</td>\n      <td>2.907110</td>\n      <td>4.573856</td>\n      <td>2.977885</td>\n      <td>1.040922</td>\n      <td>3.442474</td>\n      <td>0.5</td>\n      <td>1.0</td>\n      <td>10.0</td>\n      <td>5</td>\n      <td>yes</td>\n    </tr>\n    <tr>\n      <th>0</th>\n      <td>3.778286</td>\n      <td>1.949708</td>\n      <td>1.954646</td>\n      <td>1.955103</td>\n      <td>0.996103</td>\n      <td>2.235823</td>\n      <td>0.5</td>\n      <td>1.0</td>\n      <td>10.0</td>\n      <td>5</td>\n      <td>no</td>\n    </tr>\n    <tr>\n      <th>0</th>\n      <td>10.278445</td>\n      <td>10.178115</td>\n      <td>10.397776</td>\n      <td>10.237330</td>\n      <td>9.982137</td>\n      <td>10.243914</td>\n      <td>0.5</td>\n      <td>10.0</td>\n      <td>1.0</td>\n      <td>5</td>\n      <td>yes</td>\n    </tr>\n    <tr>\n      <th>0</th>\n      <td>10.298414</td>\n      <td>10.105304</td>\n      <td>10.105292</td>\n      <td>10.105762</td>\n      <td>9.997272</td>\n      <td>10.121088</td>\n      <td>0.5</td>\n      <td>10.0</td>\n      <td>1.0</td>\n      <td>5</td>\n      <td>no</td>\n    </tr>\n  </tbody>\n</table>\n</div>"
     },
     "metadata": {},
     "execution_count": 4
    }
   ],
   "source": [
    "output"
   ]
  },
  {
   "cell_type": "code",
   "execution_count": 5,
   "metadata": {},
   "outputs": [],
   "source": [
    "#output.to_csv('C://Users//paulo//Documents//Econometrics and ML//Final Project//n_2000_results.csv')"
   ]
  },
  {
   "cell_type": "code",
   "execution_count": 6,
   "metadata": {},
   "outputs": [],
   "source": [
    "pd.set_option('display.max_rows', 10)"
   ]
  },
  {
   "cell_type": "code",
   "execution_count": 7,
   "metadata": {},
   "outputs": [],
   "source": [
    "output['pca_ape'] = (output['pca_coef'] - output['beta1']).abs()/output['beta1']\n",
    "output['mismeasured_coef_ape'] = (output['mismeasured_coef'] - output['beta1']).abs()/output['beta1']\n",
    "output['mismeasured_allvar_coef_ape'] = (output['mismeasured_allvar_coef'] - output['beta1']).abs()/output['beta1']\n",
    "output['mismeasured_avg_coef_ape'] = (output['mismeasured_avg_coef'] - output['beta1']).abs()/output['beta1']\n",
    "output['iv_coef_ape'] = (output['iv_coef'] - output['beta1']).abs()/output['beta1']"
   ]
  },
  {
   "cell_type": "code",
   "execution_count": 8,
   "metadata": {},
   "outputs": [
    {
     "output_type": "execute_result",
     "data": {
      "text/plain": [
       "    covariance  beta1  beta2  p exp_of_var  mismeasured_coef  \\\n",
       "0         -0.9    1.0    1.0  5         no          0.217245   \n",
       "1         -0.9    1.0    1.0  5        yes          0.306442   \n",
       "2         -0.5    1.0    1.0  5         no          0.724498   \n",
       "3         -0.5    1.0    1.0  5        yes          0.688088   \n",
       "4          0.0    1.0    1.0  5         no          1.005180   \n",
       "..         ...    ...    ... ..        ...               ...   \n",
       "17         0.5    1.0   10.0  5        yes          3.913515   \n",
       "18         0.5   10.0    1.0  5         no         10.298414   \n",
       "19         0.5   10.0    1.0  5        yes         10.278445   \n",
       "20         0.9    1.0    1.0  5         no          1.813492   \n",
       "21         0.9    1.0    1.0  5        yes          1.729860   \n",
       "\n",
       "    mismeasured_allvar_coef  mismeasured_avg_coef   pca_coef  true_val_coef  \\\n",
       "0                  0.477989              0.477303   0.477019       0.952746   \n",
       "1                  0.431522              0.210874   0.386974       1.108455   \n",
       "2                  0.920783              0.919703   0.918035       1.012534   \n",
       "3                  0.809595              0.591318   0.787940       0.991823   \n",
       "4                  1.001407              1.000276   1.000394       1.009075   \n",
       "..                      ...                   ...        ...            ...   \n",
       "17                 2.907110              4.573856   2.977885       1.040922   \n",
       "18                10.105304             10.105292  10.105762       9.997272   \n",
       "19                10.178115             10.397776  10.237330       9.982137   \n",
       "20                 1.456942              1.457083   1.457555       1.000043   \n",
       "21                 1.592228              1.805877   1.630148       0.959090   \n",
       "\n",
       "      iv_coef   pca_ape  mismeasured_coef_ape  mismeasured_allvar_coef_ape  \\\n",
       "0    0.422875  0.522981              0.782755                     0.522011   \n",
       "1    0.356959  0.613026              0.693558                     0.568478   \n",
       "2    0.904684  0.081965              0.275502                     0.079217   \n",
       "3    0.753843  0.212060              0.311912                     0.190405   \n",
       "4    1.000825  0.000394              0.005180                     0.001407   \n",
       "..        ...       ...                   ...                          ...   \n",
       "17   3.442474  1.977885              2.913515                     1.907110   \n",
       "18  10.121088  0.010576              0.029841                     0.010530   \n",
       "19  10.243914  0.023733              0.027845                     0.017811   \n",
       "20   1.501181  0.457555              0.813492                     0.456942   \n",
       "21   1.682543  0.630148              0.729860                     0.592228   \n",
       "\n",
       "    mismeasured_avg_coef_ape  iv_coef_ape  \n",
       "0                   0.522697     0.577125  \n",
       "1                   0.789126     0.643041  \n",
       "2                   0.080297     0.095316  \n",
       "3                   0.408682     0.246157  \n",
       "4                   0.000276     0.000825  \n",
       "..                       ...          ...  \n",
       "17                  3.573856     2.442474  \n",
       "18                  0.010529     0.012109  \n",
       "19                  0.039778     0.024391  \n",
       "20                  0.457083     0.501181  \n",
       "21                  0.805877     0.682543  \n",
       "\n",
       "[22 rows x 16 columns]"
      ],
      "text/html": "<div>\n<style scoped>\n    .dataframe tbody tr th:only-of-type {\n        vertical-align: middle;\n    }\n\n    .dataframe tbody tr th {\n        vertical-align: top;\n    }\n\n    .dataframe thead th {\n        text-align: right;\n    }\n</style>\n<table border=\"1\" class=\"dataframe\">\n  <thead>\n    <tr style=\"text-align: right;\">\n      <th></th>\n      <th>covariance</th>\n      <th>beta1</th>\n      <th>beta2</th>\n      <th>p</th>\n      <th>exp_of_var</th>\n      <th>mismeasured_coef</th>\n      <th>mismeasured_allvar_coef</th>\n      <th>mismeasured_avg_coef</th>\n      <th>pca_coef</th>\n      <th>true_val_coef</th>\n      <th>iv_coef</th>\n      <th>pca_ape</th>\n      <th>mismeasured_coef_ape</th>\n      <th>mismeasured_allvar_coef_ape</th>\n      <th>mismeasured_avg_coef_ape</th>\n      <th>iv_coef_ape</th>\n    </tr>\n  </thead>\n  <tbody>\n    <tr>\n      <th>0</th>\n      <td>-0.9</td>\n      <td>1.0</td>\n      <td>1.0</td>\n      <td>5</td>\n      <td>no</td>\n      <td>0.217245</td>\n      <td>0.477989</td>\n      <td>0.477303</td>\n      <td>0.477019</td>\n      <td>0.952746</td>\n      <td>0.422875</td>\n      <td>0.522981</td>\n      <td>0.782755</td>\n      <td>0.522011</td>\n      <td>0.522697</td>\n      <td>0.577125</td>\n    </tr>\n    <tr>\n      <th>1</th>\n      <td>-0.9</td>\n      <td>1.0</td>\n      <td>1.0</td>\n      <td>5</td>\n      <td>yes</td>\n      <td>0.306442</td>\n      <td>0.431522</td>\n      <td>0.210874</td>\n      <td>0.386974</td>\n      <td>1.108455</td>\n      <td>0.356959</td>\n      <td>0.613026</td>\n      <td>0.693558</td>\n      <td>0.568478</td>\n      <td>0.789126</td>\n      <td>0.643041</td>\n    </tr>\n    <tr>\n      <th>2</th>\n      <td>-0.5</td>\n      <td>1.0</td>\n      <td>1.0</td>\n      <td>5</td>\n      <td>no</td>\n      <td>0.724498</td>\n      <td>0.920783</td>\n      <td>0.919703</td>\n      <td>0.918035</td>\n      <td>1.012534</td>\n      <td>0.904684</td>\n      <td>0.081965</td>\n      <td>0.275502</td>\n      <td>0.079217</td>\n      <td>0.080297</td>\n      <td>0.095316</td>\n    </tr>\n    <tr>\n      <th>3</th>\n      <td>-0.5</td>\n      <td>1.0</td>\n      <td>1.0</td>\n      <td>5</td>\n      <td>yes</td>\n      <td>0.688088</td>\n      <td>0.809595</td>\n      <td>0.591318</td>\n      <td>0.787940</td>\n      <td>0.991823</td>\n      <td>0.753843</td>\n      <td>0.212060</td>\n      <td>0.311912</td>\n      <td>0.190405</td>\n      <td>0.408682</td>\n      <td>0.246157</td>\n    </tr>\n    <tr>\n      <th>4</th>\n      <td>0.0</td>\n      <td>1.0</td>\n      <td>1.0</td>\n      <td>5</td>\n      <td>no</td>\n      <td>1.005180</td>\n      <td>1.001407</td>\n      <td>1.000276</td>\n      <td>1.000394</td>\n      <td>1.009075</td>\n      <td>1.000825</td>\n      <td>0.000394</td>\n      <td>0.005180</td>\n      <td>0.001407</td>\n      <td>0.000276</td>\n      <td>0.000825</td>\n    </tr>\n    <tr>\n      <th>...</th>\n      <td>...</td>\n      <td>...</td>\n      <td>...</td>\n      <td>...</td>\n      <td>...</td>\n      <td>...</td>\n      <td>...</td>\n      <td>...</td>\n      <td>...</td>\n      <td>...</td>\n      <td>...</td>\n      <td>...</td>\n      <td>...</td>\n      <td>...</td>\n      <td>...</td>\n      <td>...</td>\n    </tr>\n    <tr>\n      <th>17</th>\n      <td>0.5</td>\n      <td>1.0</td>\n      <td>10.0</td>\n      <td>5</td>\n      <td>yes</td>\n      <td>3.913515</td>\n      <td>2.907110</td>\n      <td>4.573856</td>\n      <td>2.977885</td>\n      <td>1.040922</td>\n      <td>3.442474</td>\n      <td>1.977885</td>\n      <td>2.913515</td>\n      <td>1.907110</td>\n      <td>3.573856</td>\n      <td>2.442474</td>\n    </tr>\n    <tr>\n      <th>18</th>\n      <td>0.5</td>\n      <td>10.0</td>\n      <td>1.0</td>\n      <td>5</td>\n      <td>no</td>\n      <td>10.298414</td>\n      <td>10.105304</td>\n      <td>10.105292</td>\n      <td>10.105762</td>\n      <td>9.997272</td>\n      <td>10.121088</td>\n      <td>0.010576</td>\n      <td>0.029841</td>\n      <td>0.010530</td>\n      <td>0.010529</td>\n      <td>0.012109</td>\n    </tr>\n    <tr>\n      <th>19</th>\n      <td>0.5</td>\n      <td>10.0</td>\n      <td>1.0</td>\n      <td>5</td>\n      <td>yes</td>\n      <td>10.278445</td>\n      <td>10.178115</td>\n      <td>10.397776</td>\n      <td>10.237330</td>\n      <td>9.982137</td>\n      <td>10.243914</td>\n      <td>0.023733</td>\n      <td>0.027845</td>\n      <td>0.017811</td>\n      <td>0.039778</td>\n      <td>0.024391</td>\n    </tr>\n    <tr>\n      <th>20</th>\n      <td>0.9</td>\n      <td>1.0</td>\n      <td>1.0</td>\n      <td>5</td>\n      <td>no</td>\n      <td>1.813492</td>\n      <td>1.456942</td>\n      <td>1.457083</td>\n      <td>1.457555</td>\n      <td>1.000043</td>\n      <td>1.501181</td>\n      <td>0.457555</td>\n      <td>0.813492</td>\n      <td>0.456942</td>\n      <td>0.457083</td>\n      <td>0.501181</td>\n    </tr>\n    <tr>\n      <th>21</th>\n      <td>0.9</td>\n      <td>1.0</td>\n      <td>1.0</td>\n      <td>5</td>\n      <td>yes</td>\n      <td>1.729860</td>\n      <td>1.592228</td>\n      <td>1.805877</td>\n      <td>1.630148</td>\n      <td>0.959090</td>\n      <td>1.682543</td>\n      <td>0.630148</td>\n      <td>0.729860</td>\n      <td>0.592228</td>\n      <td>0.805877</td>\n      <td>0.682543</td>\n    </tr>\n  </tbody>\n</table>\n<p>22 rows × 16 columns</p>\n</div>"
     },
     "metadata": {},
     "execution_count": 8
    }
   ],
   "source": [
    "output.groupby(['covariance','beta1','beta2','p','exp_of_var']).mean().reset_index()"
   ]
  },
  {
   "cell_type": "code",
   "execution_count": 9,
   "metadata": {},
   "outputs": [
    {
     "output_type": "execute_result",
     "data": {
      "text/plain": [
       "    covariance  beta1  beta2  p exp_of_var  mismeasured_coef  \\\n",
       "0         -0.9    1.0    1.0  5         no               NaN   \n",
       "1         -0.9    1.0    1.0  5        yes               NaN   \n",
       "2         -0.5    1.0    1.0  5         no               NaN   \n",
       "3         -0.5    1.0    1.0  5        yes               NaN   \n",
       "4          0.0    1.0    1.0  5         no               NaN   \n",
       "..         ...    ...    ... ..        ...               ...   \n",
       "17         0.5    1.0   10.0  5        yes               NaN   \n",
       "18         0.5   10.0    1.0  5         no               NaN   \n",
       "19         0.5   10.0    1.0  5        yes               NaN   \n",
       "20         0.9    1.0    1.0  5         no               NaN   \n",
       "21         0.9    1.0    1.0  5        yes               NaN   \n",
       "\n",
       "    mismeasured_allvar_coef  mismeasured_avg_coef  pca_coef  true_val_coef  \\\n",
       "0                       NaN                   NaN       NaN            NaN   \n",
       "1                       NaN                   NaN       NaN            NaN   \n",
       "2                       NaN                   NaN       NaN            NaN   \n",
       "3                       NaN                   NaN       NaN            NaN   \n",
       "4                       NaN                   NaN       NaN            NaN   \n",
       "..                      ...                   ...       ...            ...   \n",
       "17                      NaN                   NaN       NaN            NaN   \n",
       "18                      NaN                   NaN       NaN            NaN   \n",
       "19                      NaN                   NaN       NaN            NaN   \n",
       "20                      NaN                   NaN       NaN            NaN   \n",
       "21                      NaN                   NaN       NaN            NaN   \n",
       "\n",
       "    iv_coef  pca_ape  mismeasured_coef_ape  mismeasured_allvar_coef_ape  \\\n",
       "0       NaN      NaN                   NaN                          NaN   \n",
       "1       NaN      NaN                   NaN                          NaN   \n",
       "2       NaN      NaN                   NaN                          NaN   \n",
       "3       NaN      NaN                   NaN                          NaN   \n",
       "4       NaN      NaN                   NaN                          NaN   \n",
       "..      ...      ...                   ...                          ...   \n",
       "17      NaN      NaN                   NaN                          NaN   \n",
       "18      NaN      NaN                   NaN                          NaN   \n",
       "19      NaN      NaN                   NaN                          NaN   \n",
       "20      NaN      NaN                   NaN                          NaN   \n",
       "21      NaN      NaN                   NaN                          NaN   \n",
       "\n",
       "    mismeasured_avg_coef_ape  iv_coef_ape  \n",
       "0                        NaN          NaN  \n",
       "1                        NaN          NaN  \n",
       "2                        NaN          NaN  \n",
       "3                        NaN          NaN  \n",
       "4                        NaN          NaN  \n",
       "..                       ...          ...  \n",
       "17                       NaN          NaN  \n",
       "18                       NaN          NaN  \n",
       "19                       NaN          NaN  \n",
       "20                       NaN          NaN  \n",
       "21                       NaN          NaN  \n",
       "\n",
       "[22 rows x 16 columns]"
      ],
      "text/html": "<div>\n<style scoped>\n    .dataframe tbody tr th:only-of-type {\n        vertical-align: middle;\n    }\n\n    .dataframe tbody tr th {\n        vertical-align: top;\n    }\n\n    .dataframe thead th {\n        text-align: right;\n    }\n</style>\n<table border=\"1\" class=\"dataframe\">\n  <thead>\n    <tr style=\"text-align: right;\">\n      <th></th>\n      <th>covariance</th>\n      <th>beta1</th>\n      <th>beta2</th>\n      <th>p</th>\n      <th>exp_of_var</th>\n      <th>mismeasured_coef</th>\n      <th>mismeasured_allvar_coef</th>\n      <th>mismeasured_avg_coef</th>\n      <th>pca_coef</th>\n      <th>true_val_coef</th>\n      <th>iv_coef</th>\n      <th>pca_ape</th>\n      <th>mismeasured_coef_ape</th>\n      <th>mismeasured_allvar_coef_ape</th>\n      <th>mismeasured_avg_coef_ape</th>\n      <th>iv_coef_ape</th>\n    </tr>\n  </thead>\n  <tbody>\n    <tr>\n      <th>0</th>\n      <td>-0.9</td>\n      <td>1.0</td>\n      <td>1.0</td>\n      <td>5</td>\n      <td>no</td>\n      <td>NaN</td>\n      <td>NaN</td>\n      <td>NaN</td>\n      <td>NaN</td>\n      <td>NaN</td>\n      <td>NaN</td>\n      <td>NaN</td>\n      <td>NaN</td>\n      <td>NaN</td>\n      <td>NaN</td>\n      <td>NaN</td>\n    </tr>\n    <tr>\n      <th>1</th>\n      <td>-0.9</td>\n      <td>1.0</td>\n      <td>1.0</td>\n      <td>5</td>\n      <td>yes</td>\n      <td>NaN</td>\n      <td>NaN</td>\n      <td>NaN</td>\n      <td>NaN</td>\n      <td>NaN</td>\n      <td>NaN</td>\n      <td>NaN</td>\n      <td>NaN</td>\n      <td>NaN</td>\n      <td>NaN</td>\n      <td>NaN</td>\n    </tr>\n    <tr>\n      <th>2</th>\n      <td>-0.5</td>\n      <td>1.0</td>\n      <td>1.0</td>\n      <td>5</td>\n      <td>no</td>\n      <td>NaN</td>\n      <td>NaN</td>\n      <td>NaN</td>\n      <td>NaN</td>\n      <td>NaN</td>\n      <td>NaN</td>\n      <td>NaN</td>\n      <td>NaN</td>\n      <td>NaN</td>\n      <td>NaN</td>\n      <td>NaN</td>\n    </tr>\n    <tr>\n      <th>3</th>\n      <td>-0.5</td>\n      <td>1.0</td>\n      <td>1.0</td>\n      <td>5</td>\n      <td>yes</td>\n      <td>NaN</td>\n      <td>NaN</td>\n      <td>NaN</td>\n      <td>NaN</td>\n      <td>NaN</td>\n      <td>NaN</td>\n      <td>NaN</td>\n      <td>NaN</td>\n      <td>NaN</td>\n      <td>NaN</td>\n      <td>NaN</td>\n    </tr>\n    <tr>\n      <th>4</th>\n      <td>0.0</td>\n      <td>1.0</td>\n      <td>1.0</td>\n      <td>5</td>\n      <td>no</td>\n      <td>NaN</td>\n      <td>NaN</td>\n      <td>NaN</td>\n      <td>NaN</td>\n      <td>NaN</td>\n      <td>NaN</td>\n      <td>NaN</td>\n      <td>NaN</td>\n      <td>NaN</td>\n      <td>NaN</td>\n      <td>NaN</td>\n    </tr>\n    <tr>\n      <th>...</th>\n      <td>...</td>\n      <td>...</td>\n      <td>...</td>\n      <td>...</td>\n      <td>...</td>\n      <td>...</td>\n      <td>...</td>\n      <td>...</td>\n      <td>...</td>\n      <td>...</td>\n      <td>...</td>\n      <td>...</td>\n      <td>...</td>\n      <td>...</td>\n      <td>...</td>\n      <td>...</td>\n    </tr>\n    <tr>\n      <th>17</th>\n      <td>0.5</td>\n      <td>1.0</td>\n      <td>10.0</td>\n      <td>5</td>\n      <td>yes</td>\n      <td>NaN</td>\n      <td>NaN</td>\n      <td>NaN</td>\n      <td>NaN</td>\n      <td>NaN</td>\n      <td>NaN</td>\n      <td>NaN</td>\n      <td>NaN</td>\n      <td>NaN</td>\n      <td>NaN</td>\n      <td>NaN</td>\n    </tr>\n    <tr>\n      <th>18</th>\n      <td>0.5</td>\n      <td>10.0</td>\n      <td>1.0</td>\n      <td>5</td>\n      <td>no</td>\n      <td>NaN</td>\n      <td>NaN</td>\n      <td>NaN</td>\n      <td>NaN</td>\n      <td>NaN</td>\n      <td>NaN</td>\n      <td>NaN</td>\n      <td>NaN</td>\n      <td>NaN</td>\n      <td>NaN</td>\n      <td>NaN</td>\n    </tr>\n    <tr>\n      <th>19</th>\n      <td>0.5</td>\n      <td>10.0</td>\n      <td>1.0</td>\n      <td>5</td>\n      <td>yes</td>\n      <td>NaN</td>\n      <td>NaN</td>\n      <td>NaN</td>\n      <td>NaN</td>\n      <td>NaN</td>\n      <td>NaN</td>\n      <td>NaN</td>\n      <td>NaN</td>\n      <td>NaN</td>\n      <td>NaN</td>\n      <td>NaN</td>\n    </tr>\n    <tr>\n      <th>20</th>\n      <td>0.9</td>\n      <td>1.0</td>\n      <td>1.0</td>\n      <td>5</td>\n      <td>no</td>\n      <td>NaN</td>\n      <td>NaN</td>\n      <td>NaN</td>\n      <td>NaN</td>\n      <td>NaN</td>\n      <td>NaN</td>\n      <td>NaN</td>\n      <td>NaN</td>\n      <td>NaN</td>\n      <td>NaN</td>\n      <td>NaN</td>\n    </tr>\n    <tr>\n      <th>21</th>\n      <td>0.9</td>\n      <td>1.0</td>\n      <td>1.0</td>\n      <td>5</td>\n      <td>yes</td>\n      <td>NaN</td>\n      <td>NaN</td>\n      <td>NaN</td>\n      <td>NaN</td>\n      <td>NaN</td>\n      <td>NaN</td>\n      <td>NaN</td>\n      <td>NaN</td>\n      <td>NaN</td>\n      <td>NaN</td>\n      <td>NaN</td>\n    </tr>\n  </tbody>\n</table>\n<p>22 rows × 16 columns</p>\n</div>"
     },
     "metadata": {},
     "execution_count": 9
    }
   ],
   "source": [
    "output.groupby(['covariance','beta1','beta2','p','exp_of_var']).std().reset_index()"
   ]
  },
  {
   "cell_type": "code",
   "execution_count": 10,
   "metadata": {},
   "outputs": [
    {
     "output_type": "execute_result",
     "data": {
      "text/plain": [
       "   covariance  beta1  beta2   p  mismeasured_coef  mismeasured_allvar_coef  \\\n",
       "0         0.5    1.0    1.0   5          1.273635                 1.184514   \n",
       "1         0.5    1.0    1.0  20          1.335307                 1.103426   \n",
       "2         0.5    1.0    1.0  50          1.270605                 1.007795   \n",
       "\n",
       "   mismeasured_avg_coef  pca_coef  true_val_coef   iv_coef   pca_ape  \\\n",
       "0              1.324573  1.188763       0.990955  1.224034  0.188763   \n",
       "1              1.360066  1.137182       1.039962  1.107587  0.137182   \n",
       "2              1.266871  1.039387       0.985449  1.026629  0.039387   \n",
       "\n",
       "   mismeasured_coef_ape  mismeasured_allvar_coef_ape  \\\n",
       "0              0.273635                     0.184514   \n",
       "1              0.335307                     0.103426   \n",
       "2              0.270605                     0.007795   \n",
       "\n",
       "   mismeasured_avg_coef_ape  iv_coef_ape  \n",
       "0                  0.324573     0.224034  \n",
       "1                  0.360066     0.107587  \n",
       "2                  0.266871     0.026629  "
      ],
      "text/html": "<div>\n<style scoped>\n    .dataframe tbody tr th:only-of-type {\n        vertical-align: middle;\n    }\n\n    .dataframe tbody tr th {\n        vertical-align: top;\n    }\n\n    .dataframe thead th {\n        text-align: right;\n    }\n</style>\n<table border=\"1\" class=\"dataframe\">\n  <thead>\n    <tr style=\"text-align: right;\">\n      <th></th>\n      <th>covariance</th>\n      <th>beta1</th>\n      <th>beta2</th>\n      <th>p</th>\n      <th>mismeasured_coef</th>\n      <th>mismeasured_allvar_coef</th>\n      <th>mismeasured_avg_coef</th>\n      <th>pca_coef</th>\n      <th>true_val_coef</th>\n      <th>iv_coef</th>\n      <th>pca_ape</th>\n      <th>mismeasured_coef_ape</th>\n      <th>mismeasured_allvar_coef_ape</th>\n      <th>mismeasured_avg_coef_ape</th>\n      <th>iv_coef_ape</th>\n    </tr>\n  </thead>\n  <tbody>\n    <tr>\n      <th>0</th>\n      <td>0.5</td>\n      <td>1.0</td>\n      <td>1.0</td>\n      <td>5</td>\n      <td>1.273635</td>\n      <td>1.184514</td>\n      <td>1.324573</td>\n      <td>1.188763</td>\n      <td>0.990955</td>\n      <td>1.224034</td>\n      <td>0.188763</td>\n      <td>0.273635</td>\n      <td>0.184514</td>\n      <td>0.324573</td>\n      <td>0.224034</td>\n    </tr>\n    <tr>\n      <th>1</th>\n      <td>0.5</td>\n      <td>1.0</td>\n      <td>1.0</td>\n      <td>20</td>\n      <td>1.335307</td>\n      <td>1.103426</td>\n      <td>1.360066</td>\n      <td>1.137182</td>\n      <td>1.039962</td>\n      <td>1.107587</td>\n      <td>0.137182</td>\n      <td>0.335307</td>\n      <td>0.103426</td>\n      <td>0.360066</td>\n      <td>0.107587</td>\n    </tr>\n    <tr>\n      <th>2</th>\n      <td>0.5</td>\n      <td>1.0</td>\n      <td>1.0</td>\n      <td>50</td>\n      <td>1.270605</td>\n      <td>1.007795</td>\n      <td>1.266871</td>\n      <td>1.039387</td>\n      <td>0.985449</td>\n      <td>1.026629</td>\n      <td>0.039387</td>\n      <td>0.270605</td>\n      <td>0.007795</td>\n      <td>0.266871</td>\n      <td>0.026629</td>\n    </tr>\n  </tbody>\n</table>\n</div>"
     },
     "metadata": {},
     "execution_count": 10
    }
   ],
   "source": [
    "output.loc[(output['beta1']==1)&(output['beta2']==1)&(output['covariance'] == 0.5)&(output['exp_of_var']=='yes')].groupby(['covariance','beta1','beta2','p']).mean().reset_index()"
   ]
  },
  {
   "cell_type": "code",
   "execution_count": 11,
   "metadata": {},
   "outputs": [
    {
     "output_type": "execute_result",
     "data": {
      "text/plain": [
       "   covariance  beta1  beta2   p  mismeasured_coef  mismeasured_allvar_coef  \\\n",
       "0         0.5    1.0    1.0   5               NaN                      NaN   \n",
       "1         0.5    1.0    1.0  20               NaN                      NaN   \n",
       "2         0.5    1.0    1.0  50               NaN                      NaN   \n",
       "\n",
       "   mismeasured_avg_coef  pca_coef  true_val_coef  iv_coef  pca_ape  \\\n",
       "0                   NaN       NaN            NaN      NaN      NaN   \n",
       "1                   NaN       NaN            NaN      NaN      NaN   \n",
       "2                   NaN       NaN            NaN      NaN      NaN   \n",
       "\n",
       "   mismeasured_coef_ape  mismeasured_allvar_coef_ape  \\\n",
       "0                   NaN                          NaN   \n",
       "1                   NaN                          NaN   \n",
       "2                   NaN                          NaN   \n",
       "\n",
       "   mismeasured_avg_coef_ape  iv_coef_ape  \n",
       "0                       NaN          NaN  \n",
       "1                       NaN          NaN  \n",
       "2                       NaN          NaN  "
      ],
      "text/html": "<div>\n<style scoped>\n    .dataframe tbody tr th:only-of-type {\n        vertical-align: middle;\n    }\n\n    .dataframe tbody tr th {\n        vertical-align: top;\n    }\n\n    .dataframe thead th {\n        text-align: right;\n    }\n</style>\n<table border=\"1\" class=\"dataframe\">\n  <thead>\n    <tr style=\"text-align: right;\">\n      <th></th>\n      <th>covariance</th>\n      <th>beta1</th>\n      <th>beta2</th>\n      <th>p</th>\n      <th>mismeasured_coef</th>\n      <th>mismeasured_allvar_coef</th>\n      <th>mismeasured_avg_coef</th>\n      <th>pca_coef</th>\n      <th>true_val_coef</th>\n      <th>iv_coef</th>\n      <th>pca_ape</th>\n      <th>mismeasured_coef_ape</th>\n      <th>mismeasured_allvar_coef_ape</th>\n      <th>mismeasured_avg_coef_ape</th>\n      <th>iv_coef_ape</th>\n    </tr>\n  </thead>\n  <tbody>\n    <tr>\n      <th>0</th>\n      <td>0.5</td>\n      <td>1.0</td>\n      <td>1.0</td>\n      <td>5</td>\n      <td>NaN</td>\n      <td>NaN</td>\n      <td>NaN</td>\n      <td>NaN</td>\n      <td>NaN</td>\n      <td>NaN</td>\n      <td>NaN</td>\n      <td>NaN</td>\n      <td>NaN</td>\n      <td>NaN</td>\n      <td>NaN</td>\n    </tr>\n    <tr>\n      <th>1</th>\n      <td>0.5</td>\n      <td>1.0</td>\n      <td>1.0</td>\n      <td>20</td>\n      <td>NaN</td>\n      <td>NaN</td>\n      <td>NaN</td>\n      <td>NaN</td>\n      <td>NaN</td>\n      <td>NaN</td>\n      <td>NaN</td>\n      <td>NaN</td>\n      <td>NaN</td>\n      <td>NaN</td>\n      <td>NaN</td>\n    </tr>\n    <tr>\n      <th>2</th>\n      <td>0.5</td>\n      <td>1.0</td>\n      <td>1.0</td>\n      <td>50</td>\n      <td>NaN</td>\n      <td>NaN</td>\n      <td>NaN</td>\n      <td>NaN</td>\n      <td>NaN</td>\n      <td>NaN</td>\n      <td>NaN</td>\n      <td>NaN</td>\n      <td>NaN</td>\n      <td>NaN</td>\n      <td>NaN</td>\n    </tr>\n  </tbody>\n</table>\n</div>"
     },
     "metadata": {},
     "execution_count": 11
    }
   ],
   "source": [
    "output.loc[(output['beta1']==1)&(output['beta2']==1)&(output['covariance'] == 0.5)&(output['exp_of_var']=='yes')].groupby(['covariance','beta1','beta2','p']).std().reset_index()"
   ]
  },
  {
   "cell_type": "code",
   "execution_count": 46,
   "metadata": {},
   "outputs": [],
   "source": [
    "def std_parenth_padder(type_col, col_to_pad):\n",
    "    if type_col == 'std':\n",
    "        return('(' + col_to_pad + ')')\n",
    "    else:\n",
    "        return(col_to_pad)\n",
    "\n",
    "def format_level_0(type_col, col_to_format):\n",
    "    if type_col == 'std':\n",
    "        return('')\n",
    "    else:\n",
    "        return(col_to_format)"
   ]
  },
  {
   "cell_type": "code",
   "execution_count": 52,
   "metadata": {},
   "outputs": [],
   "source": [
    "import regex as re\n",
    "\n",
    "# Pass this function a pandas dataframe of which to create the LaTeX file\n",
    "# dataframe is the df\n",
    "# filename is the save location\n",
    "# index tells if you want the index saved to the file or not\n",
    "def Minimal_Latex(dataframe, filename, index = False):\n",
    "\n",
    "    # Open file\n",
    "    with open(filename, \"w\") as f:\n",
    "        \n",
    "        # Start from the pandas\n",
    "        corrected_table = dataframe.to_latex(header = False, index = index)\n",
    "\n",
    "        # Strip all material that pandas inserts- the tabular environment and toprule and bottomrule\n",
    "        corrected_table = re.sub(r'\\\\begin.+', '', corrected_table)\n",
    "        corrected_table = re.sub(r'\\\\toprule', '', corrected_table)\n",
    "        corrected_table = re.sub(r'\\\\bottomrule', '', corrected_table)\n",
    "        corrected_table = re.sub(r'\\\\end.+', '', corrected_table)\n",
    "\n",
    "        # Write to file and skip blank lines\n",
    "        f.write(corrected_table.strip())"
   ]
  },
  {
   "cell_type": "code",
   "execution_count": 76,
   "metadata": {},
   "outputs": [],
   "source": [
    "coef_names_mapper = {'mismeasured_coef':'Single Measurement', 'mismeasured_allvar_coef':'All Measurements', 'pca_coef':'PCA', 'mismeasured_avg_coef':'Average of Measurements', 'iv_coef':'Instrumental Variable'}\n",
    "ape_names_mapper = {'mismeasured_coef_ape':'Single Measurement', 'mismeasured_allvar_coef_ape':'All Measurements', 'pca_ape':'PCA', 'mismeasured_avg_coef_ape':'Average of Measurements', 'iv_coef_ape':'Instrumental Variable'}"
   ]
  },
  {
   "cell_type": "code",
   "execution_count": 57,
   "metadata": {},
   "outputs": [
    {
     "output_type": "execute_result",
     "data": {
      "text/plain": [
       "p                       level_0 level_1      five    twenty     fifty\n",
       "0              mismeasured_coef    mean  1.273635  1.335307  1.270605\n",
       "1              mismeasured_coef     std       NaN       NaN       NaN\n",
       "2       mismeasured_allvar_coef    mean  1.184514  1.103426  1.007795\n",
       "3       mismeasured_allvar_coef     std       NaN       NaN       NaN\n",
       "4          mismeasured_avg_coef    mean  1.324573  1.360066  1.266871\n",
       "..                          ...     ...       ...       ...       ...\n",
       "17  mismeasured_allvar_coef_ape     std       NaN       NaN       NaN\n",
       "18     mismeasured_avg_coef_ape    mean  0.324573  0.360066  0.266871\n",
       "19     mismeasured_avg_coef_ape     std       NaN       NaN       NaN\n",
       "20                  iv_coef_ape    mean  0.224034  0.107587  0.026629\n",
       "21                  iv_coef_ape     std       NaN       NaN       NaN\n",
       "\n",
       "[22 rows x 5 columns]"
      ],
      "text/html": "<div>\n<style scoped>\n    .dataframe tbody tr th:only-of-type {\n        vertical-align: middle;\n    }\n\n    .dataframe tbody tr th {\n        vertical-align: top;\n    }\n\n    .dataframe thead th {\n        text-align: right;\n    }\n</style>\n<table border=\"1\" class=\"dataframe\">\n  <thead>\n    <tr style=\"text-align: right;\">\n      <th>p</th>\n      <th>level_0</th>\n      <th>level_1</th>\n      <th>five</th>\n      <th>twenty</th>\n      <th>fifty</th>\n    </tr>\n  </thead>\n  <tbody>\n    <tr>\n      <th>0</th>\n      <td>mismeasured_coef</td>\n      <td>mean</td>\n      <td>1.273635</td>\n      <td>1.335307</td>\n      <td>1.270605</td>\n    </tr>\n    <tr>\n      <th>1</th>\n      <td>mismeasured_coef</td>\n      <td>std</td>\n      <td>NaN</td>\n      <td>NaN</td>\n      <td>NaN</td>\n    </tr>\n    <tr>\n      <th>2</th>\n      <td>mismeasured_allvar_coef</td>\n      <td>mean</td>\n      <td>1.184514</td>\n      <td>1.103426</td>\n      <td>1.007795</td>\n    </tr>\n    <tr>\n      <th>3</th>\n      <td>mismeasured_allvar_coef</td>\n      <td>std</td>\n      <td>NaN</td>\n      <td>NaN</td>\n      <td>NaN</td>\n    </tr>\n    <tr>\n      <th>4</th>\n      <td>mismeasured_avg_coef</td>\n      <td>mean</td>\n      <td>1.324573</td>\n      <td>1.360066</td>\n      <td>1.266871</td>\n    </tr>\n    <tr>\n      <th>...</th>\n      <td>...</td>\n      <td>...</td>\n      <td>...</td>\n      <td>...</td>\n      <td>...</td>\n    </tr>\n    <tr>\n      <th>17</th>\n      <td>mismeasured_allvar_coef_ape</td>\n      <td>std</td>\n      <td>NaN</td>\n      <td>NaN</td>\n      <td>NaN</td>\n    </tr>\n    <tr>\n      <th>18</th>\n      <td>mismeasured_avg_coef_ape</td>\n      <td>mean</td>\n      <td>0.324573</td>\n      <td>0.360066</td>\n      <td>0.266871</td>\n    </tr>\n    <tr>\n      <th>19</th>\n      <td>mismeasured_avg_coef_ape</td>\n      <td>std</td>\n      <td>NaN</td>\n      <td>NaN</td>\n      <td>NaN</td>\n    </tr>\n    <tr>\n      <th>20</th>\n      <td>iv_coef_ape</td>\n      <td>mean</td>\n      <td>0.224034</td>\n      <td>0.107587</td>\n      <td>0.026629</td>\n    </tr>\n    <tr>\n      <th>21</th>\n      <td>iv_coef_ape</td>\n      <td>std</td>\n      <td>NaN</td>\n      <td>NaN</td>\n      <td>NaN</td>\n    </tr>\n  </tbody>\n</table>\n<p>22 rows × 5 columns</p>\n</div>"
     },
     "metadata": {},
     "execution_count": 57
    }
   ],
   "source": [
    "sim_reg_p = (output.loc[(output['beta1']==1)&(output['beta2']==1)&(output['covariance'] == 0.5)&(output['exp_of_var']=='yes')]\n",
    "                   .drop(columns=['covariance', 'beta1', 'beta2'])\n",
    "                   .groupby('p')\n",
    "                   .agg(['mean', 'std'])\n",
    "                   .transpose()\n",
    "                   .reset_index()\n",
    "                   .rename(columns = {5:'five', 20:'twenty', 50:'fifty'}))\n",
    "\n",
    "sim_reg_p"
   ]
  },
  {
   "cell_type": "code",
   "execution_count": 58,
   "metadata": {},
   "outputs": [
    {
     "output_type": "execute_result",
     "data": {
      "text/plain": [
       "p                   level_0   five twenty  fifty\n",
       "0        Single Measurement  1.274  1.335  1.271\n",
       "1                            (nan)  (nan)  (nan)\n",
       "2          All Measurements  1.185  1.103  1.008\n",
       "3                            (nan)  (nan)  (nan)\n",
       "4   Average of Measurements  1.325   1.36  1.267\n",
       "5                            (nan)  (nan)  (nan)\n",
       "6                       PCA  1.189  1.137  1.039\n",
       "7                            (nan)  (nan)  (nan)\n",
       "10    Instrumental Variable  1.224  1.108  1.027\n",
       "11                           (nan)  (nan)  (nan)"
      ],
      "text/html": "<div>\n<style scoped>\n    .dataframe tbody tr th:only-of-type {\n        vertical-align: middle;\n    }\n\n    .dataframe tbody tr th {\n        vertical-align: top;\n    }\n\n    .dataframe thead th {\n        text-align: right;\n    }\n</style>\n<table border=\"1\" class=\"dataframe\">\n  <thead>\n    <tr style=\"text-align: right;\">\n      <th>p</th>\n      <th>level_0</th>\n      <th>five</th>\n      <th>twenty</th>\n      <th>fifty</th>\n    </tr>\n  </thead>\n  <tbody>\n    <tr>\n      <th>0</th>\n      <td>Single Measurement</td>\n      <td>1.274</td>\n      <td>1.335</td>\n      <td>1.271</td>\n    </tr>\n    <tr>\n      <th>1</th>\n      <td></td>\n      <td>(nan)</td>\n      <td>(nan)</td>\n      <td>(nan)</td>\n    </tr>\n    <tr>\n      <th>2</th>\n      <td>All Measurements</td>\n      <td>1.185</td>\n      <td>1.103</td>\n      <td>1.008</td>\n    </tr>\n    <tr>\n      <th>3</th>\n      <td></td>\n      <td>(nan)</td>\n      <td>(nan)</td>\n      <td>(nan)</td>\n    </tr>\n    <tr>\n      <th>4</th>\n      <td>Average of Measurements</td>\n      <td>1.325</td>\n      <td>1.36</td>\n      <td>1.267</td>\n    </tr>\n    <tr>\n      <th>5</th>\n      <td></td>\n      <td>(nan)</td>\n      <td>(nan)</td>\n      <td>(nan)</td>\n    </tr>\n    <tr>\n      <th>6</th>\n      <td>PCA</td>\n      <td>1.189</td>\n      <td>1.137</td>\n      <td>1.039</td>\n    </tr>\n    <tr>\n      <th>7</th>\n      <td></td>\n      <td>(nan)</td>\n      <td>(nan)</td>\n      <td>(nan)</td>\n    </tr>\n    <tr>\n      <th>10</th>\n      <td>Instrumental Variable</td>\n      <td>1.224</td>\n      <td>1.108</td>\n      <td>1.027</td>\n    </tr>\n    <tr>\n      <th>11</th>\n      <td></td>\n      <td>(nan)</td>\n      <td>(nan)</td>\n      <td>(nan)</td>\n    </tr>\n  </tbody>\n</table>\n</div>"
     },
     "metadata": {},
     "execution_count": 58
    }
   ],
   "source": [
    "sim_reg_p_coefs = (sim_reg_p.query('level_0.str.contains(\"coef\")')\n",
    "                            .query('level_0 != \"true_val_coef\"')\n",
    "                            .query('not level_0.str.contains(\"ape\")')\n",
    "                            .round(3)\n",
    "                            .astype(str))\n",
    "\n",
    "sim_reg_p_coefs['five'] = sim_reg_p_coefs.apply(lambda x: std_parenth_padder(x.level_1, x.five), axis = 1)\n",
    "sim_reg_p_coefs['twenty'] = sim_reg_p_coefs.apply(lambda x: std_parenth_padder(x.level_1, x.twenty), axis = 1)\n",
    "sim_reg_p_coefs['fifty'] = sim_reg_p_coefs.apply(lambda x: std_parenth_padder(x.level_1, x.fifty), axis = 1)\n",
    "\n",
    "sim_reg_p_coefs['level_0'] = sim_reg_p_coefs.apply(lambda x: format_level_0(x.level_1, x.level_0), axis = 1)\n",
    "\n",
    "sim_reg_p_coefs = (sim_reg_p_coefs.drop(columns = 'level_1')\n",
    "                                  .replace(coef_names_mapper))\n",
    "\n",
    "Minimal_Latex(sim_reg_p_coefs, 'p_coefs.tex')\n",
    "\n",
    "sim_reg_p_coefs"
   ]
  },
  {
   "cell_type": "code",
   "execution_count": 84,
   "metadata": {},
   "outputs": [
    {
     "output_type": "execute_result",
     "data": {
      "text/plain": [
       "p                  level_0   five twenty  fifty\n",
       "0                      PCA  18.9%  13.7%   3.9%\n",
       "1       Single Measurement  27.4%  33.5%  27.1%\n",
       "2         All Measurements  18.5%  10.3%   0.8%\n",
       "3  Average of Measurements  32.5%  36.0%  26.7%\n",
       "4    Instrumental Variable  22.4%  10.8%   2.7%"
      ],
      "text/html": "<div>\n<style scoped>\n    .dataframe tbody tr th:only-of-type {\n        vertical-align: middle;\n    }\n\n    .dataframe tbody tr th {\n        vertical-align: top;\n    }\n\n    .dataframe thead th {\n        text-align: right;\n    }\n</style>\n<table border=\"1\" class=\"dataframe\">\n  <thead>\n    <tr style=\"text-align: right;\">\n      <th>p</th>\n      <th>level_0</th>\n      <th>five</th>\n      <th>twenty</th>\n      <th>fifty</th>\n    </tr>\n  </thead>\n  <tbody>\n    <tr>\n      <th>0</th>\n      <td>PCA</td>\n      <td>18.9%</td>\n      <td>13.7%</td>\n      <td>3.9%</td>\n    </tr>\n    <tr>\n      <th>1</th>\n      <td>Single Measurement</td>\n      <td>27.4%</td>\n      <td>33.5%</td>\n      <td>27.1%</td>\n    </tr>\n    <tr>\n      <th>2</th>\n      <td>All Measurements</td>\n      <td>18.5%</td>\n      <td>10.3%</td>\n      <td>0.8%</td>\n    </tr>\n    <tr>\n      <th>3</th>\n      <td>Average of Measurements</td>\n      <td>32.5%</td>\n      <td>36.0%</td>\n      <td>26.7%</td>\n    </tr>\n    <tr>\n      <th>4</th>\n      <td>Instrumental Variable</td>\n      <td>22.4%</td>\n      <td>10.8%</td>\n      <td>2.7%</td>\n    </tr>\n  </tbody>\n</table>\n</div>"
     },
     "metadata": {},
     "execution_count": 84
    }
   ],
   "source": [
    "sim_reg_p_apes = (sim_reg_p.query('level_0.str.contains(\"ape\")')\n",
    "                           .query('level_1 != \"std\"')\n",
    "                           .drop(columns = 'level_1')\n",
    "                           .replace(ape_names_mapper)\n",
    "                           .set_index('level_0')\n",
    "                           .multiply(100)\n",
    "                           .round(1)\n",
    "                           .astype(str)\n",
    "                           .add('%')\n",
    "                           .reset_index())\n",
    "\n",
    "Minimal_Latex(sim_reg_p_apes, 'p_apes.tex')\n",
    "\n",
    "sim_reg_p_apes"
   ]
  },
  {
   "cell_type": "code",
   "execution_count": 12,
   "metadata": {},
   "outputs": [
    {
     "output_type": "execute_result",
     "data": {
      "text/plain": [
       "   covariance  beta1  beta2  p  mismeasured_coef  mismeasured_allvar_coef  \\\n",
       "0         0.5    0.1    1.0  5          0.392676                 0.297068   \n",
       "1         0.5    1.0    1.0  5          1.273635                 1.184514   \n",
       "2         0.5   10.0    1.0  5         10.278445                10.178115   \n",
       "\n",
       "   mismeasured_avg_coef   pca_coef  true_val_coef    iv_coef   pca_ape  \\\n",
       "0              0.482867   0.347941       0.126243   0.362740  2.479407   \n",
       "1              1.324573   1.188763       0.990955   1.224034  0.188763   \n",
       "2             10.397776  10.237330       9.982137  10.243914  0.023733   \n",
       "\n",
       "   mismeasured_coef_ape  mismeasured_allvar_coef_ape  \\\n",
       "0              2.926759                     1.970682   \n",
       "1              0.273635                     0.184514   \n",
       "2              0.027845                     0.017811   \n",
       "\n",
       "   mismeasured_avg_coef_ape  iv_coef_ape  \n",
       "0                  3.828672     2.627404  \n",
       "1                  0.324573     0.224034  \n",
       "2                  0.039778     0.024391  "
      ],
      "text/html": "<div>\n<style scoped>\n    .dataframe tbody tr th:only-of-type {\n        vertical-align: middle;\n    }\n\n    .dataframe tbody tr th {\n        vertical-align: top;\n    }\n\n    .dataframe thead th {\n        text-align: right;\n    }\n</style>\n<table border=\"1\" class=\"dataframe\">\n  <thead>\n    <tr style=\"text-align: right;\">\n      <th></th>\n      <th>covariance</th>\n      <th>beta1</th>\n      <th>beta2</th>\n      <th>p</th>\n      <th>mismeasured_coef</th>\n      <th>mismeasured_allvar_coef</th>\n      <th>mismeasured_avg_coef</th>\n      <th>pca_coef</th>\n      <th>true_val_coef</th>\n      <th>iv_coef</th>\n      <th>pca_ape</th>\n      <th>mismeasured_coef_ape</th>\n      <th>mismeasured_allvar_coef_ape</th>\n      <th>mismeasured_avg_coef_ape</th>\n      <th>iv_coef_ape</th>\n    </tr>\n  </thead>\n  <tbody>\n    <tr>\n      <th>0</th>\n      <td>0.5</td>\n      <td>0.1</td>\n      <td>1.0</td>\n      <td>5</td>\n      <td>0.392676</td>\n      <td>0.297068</td>\n      <td>0.482867</td>\n      <td>0.347941</td>\n      <td>0.126243</td>\n      <td>0.362740</td>\n      <td>2.479407</td>\n      <td>2.926759</td>\n      <td>1.970682</td>\n      <td>3.828672</td>\n      <td>2.627404</td>\n    </tr>\n    <tr>\n      <th>1</th>\n      <td>0.5</td>\n      <td>1.0</td>\n      <td>1.0</td>\n      <td>5</td>\n      <td>1.273635</td>\n      <td>1.184514</td>\n      <td>1.324573</td>\n      <td>1.188763</td>\n      <td>0.990955</td>\n      <td>1.224034</td>\n      <td>0.188763</td>\n      <td>0.273635</td>\n      <td>0.184514</td>\n      <td>0.324573</td>\n      <td>0.224034</td>\n    </tr>\n    <tr>\n      <th>2</th>\n      <td>0.5</td>\n      <td>10.0</td>\n      <td>1.0</td>\n      <td>5</td>\n      <td>10.278445</td>\n      <td>10.178115</td>\n      <td>10.397776</td>\n      <td>10.237330</td>\n      <td>9.982137</td>\n      <td>10.243914</td>\n      <td>0.023733</td>\n      <td>0.027845</td>\n      <td>0.017811</td>\n      <td>0.039778</td>\n      <td>0.024391</td>\n    </tr>\n  </tbody>\n</table>\n</div>"
     },
     "metadata": {},
     "execution_count": 12
    }
   ],
   "source": [
    "output.loc[(output['p']==5)&(output['beta2']==1)&(output['covariance'] == 0.5)&(output['exp_of_var']=='yes')].groupby(['covariance','beta1','beta2','p']).mean().reset_index()"
   ]
  },
  {
   "cell_type": "code",
   "execution_count": 13,
   "metadata": {},
   "outputs": [
    {
     "output_type": "execute_result",
     "data": {
      "text/plain": [
       "   covariance  beta1  beta2  p  mismeasured_coef  mismeasured_allvar_coef  \\\n",
       "0         0.5    0.1    1.0  5               NaN                      NaN   \n",
       "1         0.5    1.0    1.0  5               NaN                      NaN   \n",
       "2         0.5   10.0    1.0  5               NaN                      NaN   \n",
       "\n",
       "   mismeasured_avg_coef  pca_coef  true_val_coef  iv_coef  pca_ape  \\\n",
       "0                   NaN       NaN            NaN      NaN      NaN   \n",
       "1                   NaN       NaN            NaN      NaN      NaN   \n",
       "2                   NaN       NaN            NaN      NaN      NaN   \n",
       "\n",
       "   mismeasured_coef_ape  mismeasured_allvar_coef_ape  \\\n",
       "0                   NaN                          NaN   \n",
       "1                   NaN                          NaN   \n",
       "2                   NaN                          NaN   \n",
       "\n",
       "   mismeasured_avg_coef_ape  iv_coef_ape  \n",
       "0                       NaN          NaN  \n",
       "1                       NaN          NaN  \n",
       "2                       NaN          NaN  "
      ],
      "text/html": "<div>\n<style scoped>\n    .dataframe tbody tr th:only-of-type {\n        vertical-align: middle;\n    }\n\n    .dataframe tbody tr th {\n        vertical-align: top;\n    }\n\n    .dataframe thead th {\n        text-align: right;\n    }\n</style>\n<table border=\"1\" class=\"dataframe\">\n  <thead>\n    <tr style=\"text-align: right;\">\n      <th></th>\n      <th>covariance</th>\n      <th>beta1</th>\n      <th>beta2</th>\n      <th>p</th>\n      <th>mismeasured_coef</th>\n      <th>mismeasured_allvar_coef</th>\n      <th>mismeasured_avg_coef</th>\n      <th>pca_coef</th>\n      <th>true_val_coef</th>\n      <th>iv_coef</th>\n      <th>pca_ape</th>\n      <th>mismeasured_coef_ape</th>\n      <th>mismeasured_allvar_coef_ape</th>\n      <th>mismeasured_avg_coef_ape</th>\n      <th>iv_coef_ape</th>\n    </tr>\n  </thead>\n  <tbody>\n    <tr>\n      <th>0</th>\n      <td>0.5</td>\n      <td>0.1</td>\n      <td>1.0</td>\n      <td>5</td>\n      <td>NaN</td>\n      <td>NaN</td>\n      <td>NaN</td>\n      <td>NaN</td>\n      <td>NaN</td>\n      <td>NaN</td>\n      <td>NaN</td>\n      <td>NaN</td>\n      <td>NaN</td>\n      <td>NaN</td>\n      <td>NaN</td>\n    </tr>\n    <tr>\n      <th>1</th>\n      <td>0.5</td>\n      <td>1.0</td>\n      <td>1.0</td>\n      <td>5</td>\n      <td>NaN</td>\n      <td>NaN</td>\n      <td>NaN</td>\n      <td>NaN</td>\n      <td>NaN</td>\n      <td>NaN</td>\n      <td>NaN</td>\n      <td>NaN</td>\n      <td>NaN</td>\n      <td>NaN</td>\n      <td>NaN</td>\n    </tr>\n    <tr>\n      <th>2</th>\n      <td>0.5</td>\n      <td>10.0</td>\n      <td>1.0</td>\n      <td>5</td>\n      <td>NaN</td>\n      <td>NaN</td>\n      <td>NaN</td>\n      <td>NaN</td>\n      <td>NaN</td>\n      <td>NaN</td>\n      <td>NaN</td>\n      <td>NaN</td>\n      <td>NaN</td>\n      <td>NaN</td>\n      <td>NaN</td>\n    </tr>\n  </tbody>\n</table>\n</div>"
     },
     "metadata": {},
     "execution_count": 13
    }
   ],
   "source": [
    "output.loc[(output['p']==5)&(output['beta2']==1)&(output['covariance'] == 0.5)&(output['exp_of_var']=='yes')].groupby(['covariance','beta1','beta2','p']).std().reset_index()"
   ]
  },
  {
   "cell_type": "code",
   "execution_count": null,
   "metadata": {},
   "outputs": [],
   "source": []
  },
  {
   "cell_type": "code",
   "execution_count": 14,
   "metadata": {},
   "outputs": [
    {
     "output_type": "execute_result",
     "data": {
      "text/plain": [
       "   covariance  beta1  beta2  p  mismeasured_coef  mismeasured_allvar_coef  \\\n",
       "0         0.5    1.0    0.1  5          0.994095                 0.983749   \n",
       "1         0.5    1.0    1.0  5          1.273635                 1.184514   \n",
       "2         0.5    1.0   10.0  5          3.913515                 2.907110   \n",
       "\n",
       "   mismeasured_avg_coef  pca_coef  true_val_coef   iv_coef   pca_ape  \\\n",
       "0              0.992905  0.973718       0.975325  0.979110  0.026282   \n",
       "1              1.324573  1.188763       0.990955  1.224034  0.188763   \n",
       "2              4.573856  2.977885       1.040922  3.442474  1.977885   \n",
       "\n",
       "   mismeasured_coef_ape  mismeasured_allvar_coef_ape  \\\n",
       "0              0.005905                     0.016251   \n",
       "1              0.273635                     0.184514   \n",
       "2              2.913515                     1.907110   \n",
       "\n",
       "   mismeasured_avg_coef_ape  iv_coef_ape  \n",
       "0                  0.007095     0.020890  \n",
       "1                  0.324573     0.224034  \n",
       "2                  3.573856     2.442474  "
      ],
      "text/html": "<div>\n<style scoped>\n    .dataframe tbody tr th:only-of-type {\n        vertical-align: middle;\n    }\n\n    .dataframe tbody tr th {\n        vertical-align: top;\n    }\n\n    .dataframe thead th {\n        text-align: right;\n    }\n</style>\n<table border=\"1\" class=\"dataframe\">\n  <thead>\n    <tr style=\"text-align: right;\">\n      <th></th>\n      <th>covariance</th>\n      <th>beta1</th>\n      <th>beta2</th>\n      <th>p</th>\n      <th>mismeasured_coef</th>\n      <th>mismeasured_allvar_coef</th>\n      <th>mismeasured_avg_coef</th>\n      <th>pca_coef</th>\n      <th>true_val_coef</th>\n      <th>iv_coef</th>\n      <th>pca_ape</th>\n      <th>mismeasured_coef_ape</th>\n      <th>mismeasured_allvar_coef_ape</th>\n      <th>mismeasured_avg_coef_ape</th>\n      <th>iv_coef_ape</th>\n    </tr>\n  </thead>\n  <tbody>\n    <tr>\n      <th>0</th>\n      <td>0.5</td>\n      <td>1.0</td>\n      <td>0.1</td>\n      <td>5</td>\n      <td>0.994095</td>\n      <td>0.983749</td>\n      <td>0.992905</td>\n      <td>0.973718</td>\n      <td>0.975325</td>\n      <td>0.979110</td>\n      <td>0.026282</td>\n      <td>0.005905</td>\n      <td>0.016251</td>\n      <td>0.007095</td>\n      <td>0.020890</td>\n    </tr>\n    <tr>\n      <th>1</th>\n      <td>0.5</td>\n      <td>1.0</td>\n      <td>1.0</td>\n      <td>5</td>\n      <td>1.273635</td>\n      <td>1.184514</td>\n      <td>1.324573</td>\n      <td>1.188763</td>\n      <td>0.990955</td>\n      <td>1.224034</td>\n      <td>0.188763</td>\n      <td>0.273635</td>\n      <td>0.184514</td>\n      <td>0.324573</td>\n      <td>0.224034</td>\n    </tr>\n    <tr>\n      <th>2</th>\n      <td>0.5</td>\n      <td>1.0</td>\n      <td>10.0</td>\n      <td>5</td>\n      <td>3.913515</td>\n      <td>2.907110</td>\n      <td>4.573856</td>\n      <td>2.977885</td>\n      <td>1.040922</td>\n      <td>3.442474</td>\n      <td>1.977885</td>\n      <td>2.913515</td>\n      <td>1.907110</td>\n      <td>3.573856</td>\n      <td>2.442474</td>\n    </tr>\n  </tbody>\n</table>\n</div>"
     },
     "metadata": {},
     "execution_count": 14
    }
   ],
   "source": [
    "output.loc[(output['beta1']==1)&(output['p']==5)&(output['covariance'] == 0.5)&(output['exp_of_var']=='yes')].groupby(['covariance','beta1','beta2','p']).mean().reset_index()"
   ]
  },
  {
   "cell_type": "code",
   "execution_count": 15,
   "metadata": {},
   "outputs": [
    {
     "output_type": "execute_result",
     "data": {
      "text/plain": [
       "   covariance  beta1  beta2  p  mismeasured_coef  mismeasured_allvar_coef  \\\n",
       "0         0.5    1.0    0.1  5               NaN                      NaN   \n",
       "1         0.5    1.0    1.0  5               NaN                      NaN   \n",
       "2         0.5    1.0   10.0  5               NaN                      NaN   \n",
       "\n",
       "   mismeasured_avg_coef  pca_coef  true_val_coef  iv_coef  pca_ape  \\\n",
       "0                   NaN       NaN            NaN      NaN      NaN   \n",
       "1                   NaN       NaN            NaN      NaN      NaN   \n",
       "2                   NaN       NaN            NaN      NaN      NaN   \n",
       "\n",
       "   mismeasured_coef_ape  mismeasured_allvar_coef_ape  \\\n",
       "0                   NaN                          NaN   \n",
       "1                   NaN                          NaN   \n",
       "2                   NaN                          NaN   \n",
       "\n",
       "   mismeasured_avg_coef_ape  iv_coef_ape  \n",
       "0                       NaN          NaN  \n",
       "1                       NaN          NaN  \n",
       "2                       NaN          NaN  "
      ],
      "text/html": "<div>\n<style scoped>\n    .dataframe tbody tr th:only-of-type {\n        vertical-align: middle;\n    }\n\n    .dataframe tbody tr th {\n        vertical-align: top;\n    }\n\n    .dataframe thead th {\n        text-align: right;\n    }\n</style>\n<table border=\"1\" class=\"dataframe\">\n  <thead>\n    <tr style=\"text-align: right;\">\n      <th></th>\n      <th>covariance</th>\n      <th>beta1</th>\n      <th>beta2</th>\n      <th>p</th>\n      <th>mismeasured_coef</th>\n      <th>mismeasured_allvar_coef</th>\n      <th>mismeasured_avg_coef</th>\n      <th>pca_coef</th>\n      <th>true_val_coef</th>\n      <th>iv_coef</th>\n      <th>pca_ape</th>\n      <th>mismeasured_coef_ape</th>\n      <th>mismeasured_allvar_coef_ape</th>\n      <th>mismeasured_avg_coef_ape</th>\n      <th>iv_coef_ape</th>\n    </tr>\n  </thead>\n  <tbody>\n    <tr>\n      <th>0</th>\n      <td>0.5</td>\n      <td>1.0</td>\n      <td>0.1</td>\n      <td>5</td>\n      <td>NaN</td>\n      <td>NaN</td>\n      <td>NaN</td>\n      <td>NaN</td>\n      <td>NaN</td>\n      <td>NaN</td>\n      <td>NaN</td>\n      <td>NaN</td>\n      <td>NaN</td>\n      <td>NaN</td>\n      <td>NaN</td>\n    </tr>\n    <tr>\n      <th>1</th>\n      <td>0.5</td>\n      <td>1.0</td>\n      <td>1.0</td>\n      <td>5</td>\n      <td>NaN</td>\n      <td>NaN</td>\n      <td>NaN</td>\n      <td>NaN</td>\n      <td>NaN</td>\n      <td>NaN</td>\n      <td>NaN</td>\n      <td>NaN</td>\n      <td>NaN</td>\n      <td>NaN</td>\n      <td>NaN</td>\n    </tr>\n    <tr>\n      <th>2</th>\n      <td>0.5</td>\n      <td>1.0</td>\n      <td>10.0</td>\n      <td>5</td>\n      <td>NaN</td>\n      <td>NaN</td>\n      <td>NaN</td>\n      <td>NaN</td>\n      <td>NaN</td>\n      <td>NaN</td>\n      <td>NaN</td>\n      <td>NaN</td>\n      <td>NaN</td>\n      <td>NaN</td>\n      <td>NaN</td>\n    </tr>\n  </tbody>\n</table>\n</div>"
     },
     "metadata": {},
     "execution_count": 15
    }
   ],
   "source": [
    "output.loc[(output['beta1']==1)&(output['p']==5)&(output['covariance'] == 0.5)&(output['exp_of_var']=='yes')].groupby(['covariance','beta1','beta2','p']).std().reset_index()"
   ]
  },
  {
   "cell_type": "code",
   "execution_count": null,
   "metadata": {},
   "outputs": [],
   "source": []
  },
  {
   "cell_type": "code",
   "execution_count": 16,
   "metadata": {},
   "outputs": [
    {
     "output_type": "execute_result",
     "data": {
      "text/plain": [
       "   covariance  beta1  beta2  p  mismeasured_coef  mismeasured_allvar_coef  \\\n",
       "0        -0.9    1.0    1.0  5          0.306442                 0.431522   \n",
       "1        -0.5    1.0    1.0  5          0.688088                 0.809595   \n",
       "2         0.0    1.0    1.0  5          0.981324                 0.981242   \n",
       "3         0.5    1.0    1.0  5          1.273635                 1.184514   \n",
       "4         0.9    1.0    1.0  5          1.729860                 1.592228   \n",
       "\n",
       "   mismeasured_avg_coef  pca_coef  true_val_coef   iv_coef   pca_ape  \\\n",
       "0              0.210874  0.386974       1.108455  0.356959  0.613026   \n",
       "1              0.591318  0.787940       0.991823  0.753843  0.212060   \n",
       "2              1.000192  0.989517       0.992666  0.983436  0.010483   \n",
       "3              1.324573  1.188763       0.990955  1.224034  0.188763   \n",
       "4              1.805877  1.630148       0.959090  1.682543  0.630148   \n",
       "\n",
       "   mismeasured_coef_ape  mismeasured_allvar_coef_ape  \\\n",
       "0              0.693558                     0.568478   \n",
       "1              0.311912                     0.190405   \n",
       "2              0.018676                     0.018758   \n",
       "3              0.273635                     0.184514   \n",
       "4              0.729860                     0.592228   \n",
       "\n",
       "   mismeasured_avg_coef_ape  iv_coef_ape  \n",
       "0                  0.789126     0.643041  \n",
       "1                  0.408682     0.246157  \n",
       "2                  0.000192     0.016564  \n",
       "3                  0.324573     0.224034  \n",
       "4                  0.805877     0.682543  "
      ],
      "text/html": "<div>\n<style scoped>\n    .dataframe tbody tr th:only-of-type {\n        vertical-align: middle;\n    }\n\n    .dataframe tbody tr th {\n        vertical-align: top;\n    }\n\n    .dataframe thead th {\n        text-align: right;\n    }\n</style>\n<table border=\"1\" class=\"dataframe\">\n  <thead>\n    <tr style=\"text-align: right;\">\n      <th></th>\n      <th>covariance</th>\n      <th>beta1</th>\n      <th>beta2</th>\n      <th>p</th>\n      <th>mismeasured_coef</th>\n      <th>mismeasured_allvar_coef</th>\n      <th>mismeasured_avg_coef</th>\n      <th>pca_coef</th>\n      <th>true_val_coef</th>\n      <th>iv_coef</th>\n      <th>pca_ape</th>\n      <th>mismeasured_coef_ape</th>\n      <th>mismeasured_allvar_coef_ape</th>\n      <th>mismeasured_avg_coef_ape</th>\n      <th>iv_coef_ape</th>\n    </tr>\n  </thead>\n  <tbody>\n    <tr>\n      <th>0</th>\n      <td>-0.9</td>\n      <td>1.0</td>\n      <td>1.0</td>\n      <td>5</td>\n      <td>0.306442</td>\n      <td>0.431522</td>\n      <td>0.210874</td>\n      <td>0.386974</td>\n      <td>1.108455</td>\n      <td>0.356959</td>\n      <td>0.613026</td>\n      <td>0.693558</td>\n      <td>0.568478</td>\n      <td>0.789126</td>\n      <td>0.643041</td>\n    </tr>\n    <tr>\n      <th>1</th>\n      <td>-0.5</td>\n      <td>1.0</td>\n      <td>1.0</td>\n      <td>5</td>\n      <td>0.688088</td>\n      <td>0.809595</td>\n      <td>0.591318</td>\n      <td>0.787940</td>\n      <td>0.991823</td>\n      <td>0.753843</td>\n      <td>0.212060</td>\n      <td>0.311912</td>\n      <td>0.190405</td>\n      <td>0.408682</td>\n      <td>0.246157</td>\n    </tr>\n    <tr>\n      <th>2</th>\n      <td>0.0</td>\n      <td>1.0</td>\n      <td>1.0</td>\n      <td>5</td>\n      <td>0.981324</td>\n      <td>0.981242</td>\n      <td>1.000192</td>\n      <td>0.989517</td>\n      <td>0.992666</td>\n      <td>0.983436</td>\n      <td>0.010483</td>\n      <td>0.018676</td>\n      <td>0.018758</td>\n      <td>0.000192</td>\n      <td>0.016564</td>\n    </tr>\n    <tr>\n      <th>3</th>\n      <td>0.5</td>\n      <td>1.0</td>\n      <td>1.0</td>\n      <td>5</td>\n      <td>1.273635</td>\n      <td>1.184514</td>\n      <td>1.324573</td>\n      <td>1.188763</td>\n      <td>0.990955</td>\n      <td>1.224034</td>\n      <td>0.188763</td>\n      <td>0.273635</td>\n      <td>0.184514</td>\n      <td>0.324573</td>\n      <td>0.224034</td>\n    </tr>\n    <tr>\n      <th>4</th>\n      <td>0.9</td>\n      <td>1.0</td>\n      <td>1.0</td>\n      <td>5</td>\n      <td>1.729860</td>\n      <td>1.592228</td>\n      <td>1.805877</td>\n      <td>1.630148</td>\n      <td>0.959090</td>\n      <td>1.682543</td>\n      <td>0.630148</td>\n      <td>0.729860</td>\n      <td>0.592228</td>\n      <td>0.805877</td>\n      <td>0.682543</td>\n    </tr>\n  </tbody>\n</table>\n</div>"
     },
     "metadata": {},
     "execution_count": 16
    }
   ],
   "source": [
    "output.loc[(output['beta1']==1)&(output['beta2']==1)&(output['p'] == 5)&(output['exp_of_var']=='yes')].groupby(['covariance','beta1','beta2','p']).mean().reset_index()"
   ]
  },
  {
   "cell_type": "code",
   "execution_count": 17,
   "metadata": {},
   "outputs": [
    {
     "output_type": "execute_result",
     "data": {
      "text/plain": [
       "   covariance  beta1  beta2  p  mismeasured_coef  mismeasured_allvar_coef  \\\n",
       "0        -0.9    1.0    1.0  5               NaN                      NaN   \n",
       "1        -0.5    1.0    1.0  5               NaN                      NaN   \n",
       "2         0.0    1.0    1.0  5               NaN                      NaN   \n",
       "3         0.5    1.0    1.0  5               NaN                      NaN   \n",
       "4         0.9    1.0    1.0  5               NaN                      NaN   \n",
       "\n",
       "   mismeasured_avg_coef  pca_coef  true_val_coef  iv_coef  pca_ape  \\\n",
       "0                   NaN       NaN            NaN      NaN      NaN   \n",
       "1                   NaN       NaN            NaN      NaN      NaN   \n",
       "2                   NaN       NaN            NaN      NaN      NaN   \n",
       "3                   NaN       NaN            NaN      NaN      NaN   \n",
       "4                   NaN       NaN            NaN      NaN      NaN   \n",
       "\n",
       "   mismeasured_coef_ape  mismeasured_allvar_coef_ape  \\\n",
       "0                   NaN                          NaN   \n",
       "1                   NaN                          NaN   \n",
       "2                   NaN                          NaN   \n",
       "3                   NaN                          NaN   \n",
       "4                   NaN                          NaN   \n",
       "\n",
       "   mismeasured_avg_coef_ape  iv_coef_ape  \n",
       "0                       NaN          NaN  \n",
       "1                       NaN          NaN  \n",
       "2                       NaN          NaN  \n",
       "3                       NaN          NaN  \n",
       "4                       NaN          NaN  "
      ],
      "text/html": "<div>\n<style scoped>\n    .dataframe tbody tr th:only-of-type {\n        vertical-align: middle;\n    }\n\n    .dataframe tbody tr th {\n        vertical-align: top;\n    }\n\n    .dataframe thead th {\n        text-align: right;\n    }\n</style>\n<table border=\"1\" class=\"dataframe\">\n  <thead>\n    <tr style=\"text-align: right;\">\n      <th></th>\n      <th>covariance</th>\n      <th>beta1</th>\n      <th>beta2</th>\n      <th>p</th>\n      <th>mismeasured_coef</th>\n      <th>mismeasured_allvar_coef</th>\n      <th>mismeasured_avg_coef</th>\n      <th>pca_coef</th>\n      <th>true_val_coef</th>\n      <th>iv_coef</th>\n      <th>pca_ape</th>\n      <th>mismeasured_coef_ape</th>\n      <th>mismeasured_allvar_coef_ape</th>\n      <th>mismeasured_avg_coef_ape</th>\n      <th>iv_coef_ape</th>\n    </tr>\n  </thead>\n  <tbody>\n    <tr>\n      <th>0</th>\n      <td>-0.9</td>\n      <td>1.0</td>\n      <td>1.0</td>\n      <td>5</td>\n      <td>NaN</td>\n      <td>NaN</td>\n      <td>NaN</td>\n      <td>NaN</td>\n      <td>NaN</td>\n      <td>NaN</td>\n      <td>NaN</td>\n      <td>NaN</td>\n      <td>NaN</td>\n      <td>NaN</td>\n      <td>NaN</td>\n    </tr>\n    <tr>\n      <th>1</th>\n      <td>-0.5</td>\n      <td>1.0</td>\n      <td>1.0</td>\n      <td>5</td>\n      <td>NaN</td>\n      <td>NaN</td>\n      <td>NaN</td>\n      <td>NaN</td>\n      <td>NaN</td>\n      <td>NaN</td>\n      <td>NaN</td>\n      <td>NaN</td>\n      <td>NaN</td>\n      <td>NaN</td>\n      <td>NaN</td>\n    </tr>\n    <tr>\n      <th>2</th>\n      <td>0.0</td>\n      <td>1.0</td>\n      <td>1.0</td>\n      <td>5</td>\n      <td>NaN</td>\n      <td>NaN</td>\n      <td>NaN</td>\n      <td>NaN</td>\n      <td>NaN</td>\n      <td>NaN</td>\n      <td>NaN</td>\n      <td>NaN</td>\n      <td>NaN</td>\n      <td>NaN</td>\n      <td>NaN</td>\n    </tr>\n    <tr>\n      <th>3</th>\n      <td>0.5</td>\n      <td>1.0</td>\n      <td>1.0</td>\n      <td>5</td>\n      <td>NaN</td>\n      <td>NaN</td>\n      <td>NaN</td>\n      <td>NaN</td>\n      <td>NaN</td>\n      <td>NaN</td>\n      <td>NaN</td>\n      <td>NaN</td>\n      <td>NaN</td>\n      <td>NaN</td>\n      <td>NaN</td>\n    </tr>\n    <tr>\n      <th>4</th>\n      <td>0.9</td>\n      <td>1.0</td>\n      <td>1.0</td>\n      <td>5</td>\n      <td>NaN</td>\n      <td>NaN</td>\n      <td>NaN</td>\n      <td>NaN</td>\n      <td>NaN</td>\n      <td>NaN</td>\n      <td>NaN</td>\n      <td>NaN</td>\n      <td>NaN</td>\n      <td>NaN</td>\n      <td>NaN</td>\n    </tr>\n  </tbody>\n</table>\n</div>"
     },
     "metadata": {},
     "execution_count": 17
    }
   ],
   "source": [
    "output.loc[(output['beta1']==1)&(output['beta2']==1)&(output['p'] == 5)&(output['exp_of_var']=='yes')].groupby(['covariance','beta1','beta2','p']).std().reset_index()"
   ]
  },
  {
   "cell_type": "code",
   "execution_count": null,
   "metadata": {},
   "outputs": [],
   "source": []
  },
  {
   "cell_type": "code",
   "execution_count": null,
   "metadata": {},
   "outputs": [],
   "source": []
  },
  {
   "cell_type": "code",
   "execution_count": 18,
   "metadata": {},
   "outputs": [
    {
     "output_type": "execute_result",
     "data": {
      "text/plain": [
       "   covariance  beta1  beta2   p exp_of_var  mismeasured_coef  \\\n",
       "0         0.5    1.0    1.0   5         no          1.302670   \n",
       "1         0.5    1.0    1.0  20         no          1.299725   \n",
       "2         0.5    1.0    1.0  50         no          1.298960   \n",
       "\n",
       "   mismeasured_allvar_coef  mismeasured_avg_coef  pca_coef  true_val_coef  \\\n",
       "0                 1.121081              1.120034  1.119961       1.021782   \n",
       "1                 1.017953              1.019209  1.019431       0.984457   \n",
       "2                 1.015811              1.015819  1.015167       1.004743   \n",
       "\n",
       "    iv_coef   pca_ape  mismeasured_coef_ape  mismeasured_allvar_coef_ape  \\\n",
       "0  1.141248  0.119961              0.302670                     0.121081   \n",
       "1  1.038881  0.019431              0.299725                     0.017953   \n",
       "2  1.041875  0.015167              0.298960                     0.015811   \n",
       "\n",
       "   mismeasured_avg_coef_ape  iv_coef_ape  \n",
       "0                  0.120034     0.141248  \n",
       "1                  0.019209     0.038881  \n",
       "2                  0.015819     0.041875  "
      ],
      "text/html": "<div>\n<style scoped>\n    .dataframe tbody tr th:only-of-type {\n        vertical-align: middle;\n    }\n\n    .dataframe tbody tr th {\n        vertical-align: top;\n    }\n\n    .dataframe thead th {\n        text-align: right;\n    }\n</style>\n<table border=\"1\" class=\"dataframe\">\n  <thead>\n    <tr style=\"text-align: right;\">\n      <th></th>\n      <th>covariance</th>\n      <th>beta1</th>\n      <th>beta2</th>\n      <th>p</th>\n      <th>exp_of_var</th>\n      <th>mismeasured_coef</th>\n      <th>mismeasured_allvar_coef</th>\n      <th>mismeasured_avg_coef</th>\n      <th>pca_coef</th>\n      <th>true_val_coef</th>\n      <th>iv_coef</th>\n      <th>pca_ape</th>\n      <th>mismeasured_coef_ape</th>\n      <th>mismeasured_allvar_coef_ape</th>\n      <th>mismeasured_avg_coef_ape</th>\n      <th>iv_coef_ape</th>\n    </tr>\n  </thead>\n  <tbody>\n    <tr>\n      <th>0</th>\n      <td>0.5</td>\n      <td>1.0</td>\n      <td>1.0</td>\n      <td>5</td>\n      <td>no</td>\n      <td>1.302670</td>\n      <td>1.121081</td>\n      <td>1.120034</td>\n      <td>1.119961</td>\n      <td>1.021782</td>\n      <td>1.141248</td>\n      <td>0.119961</td>\n      <td>0.302670</td>\n      <td>0.121081</td>\n      <td>0.120034</td>\n      <td>0.141248</td>\n    </tr>\n    <tr>\n      <th>1</th>\n      <td>0.5</td>\n      <td>1.0</td>\n      <td>1.0</td>\n      <td>20</td>\n      <td>no</td>\n      <td>1.299725</td>\n      <td>1.017953</td>\n      <td>1.019209</td>\n      <td>1.019431</td>\n      <td>0.984457</td>\n      <td>1.038881</td>\n      <td>0.019431</td>\n      <td>0.299725</td>\n      <td>0.017953</td>\n      <td>0.019209</td>\n      <td>0.038881</td>\n    </tr>\n    <tr>\n      <th>2</th>\n      <td>0.5</td>\n      <td>1.0</td>\n      <td>1.0</td>\n      <td>50</td>\n      <td>no</td>\n      <td>1.298960</td>\n      <td>1.015811</td>\n      <td>1.015819</td>\n      <td>1.015167</td>\n      <td>1.004743</td>\n      <td>1.041875</td>\n      <td>0.015167</td>\n      <td>0.298960</td>\n      <td>0.015811</td>\n      <td>0.015819</td>\n      <td>0.041875</td>\n    </tr>\n  </tbody>\n</table>\n</div>"
     },
     "metadata": {},
     "execution_count": 18
    }
   ],
   "source": [
    "output.loc[(output['beta1']==1)&(output['beta2']==1)&(output['covariance'] == 0.5)&(output['exp_of_var']=='no')].groupby(['covariance','beta1','beta2','p','exp_of_var']).mean().reset_index()"
   ]
  },
  {
   "cell_type": "code",
   "execution_count": 19,
   "metadata": {},
   "outputs": [
    {
     "output_type": "execute_result",
     "data": {
      "text/plain": [
       "   covariance  beta1  beta2   p exp_of_var  mismeasured_coef  \\\n",
       "0         0.5    1.0    1.0   5         no               NaN   \n",
       "1         0.5    1.0    1.0  20         no               NaN   \n",
       "2         0.5    1.0    1.0  50         no               NaN   \n",
       "\n",
       "   mismeasured_allvar_coef  mismeasured_avg_coef  pca_coef  true_val_coef  \\\n",
       "0                      NaN                   NaN       NaN            NaN   \n",
       "1                      NaN                   NaN       NaN            NaN   \n",
       "2                      NaN                   NaN       NaN            NaN   \n",
       "\n",
       "   iv_coef  pca_ape  mismeasured_coef_ape  mismeasured_allvar_coef_ape  \\\n",
       "0      NaN      NaN                   NaN                          NaN   \n",
       "1      NaN      NaN                   NaN                          NaN   \n",
       "2      NaN      NaN                   NaN                          NaN   \n",
       "\n",
       "   mismeasured_avg_coef_ape  iv_coef_ape  \n",
       "0                       NaN          NaN  \n",
       "1                       NaN          NaN  \n",
       "2                       NaN          NaN  "
      ],
      "text/html": "<div>\n<style scoped>\n    .dataframe tbody tr th:only-of-type {\n        vertical-align: middle;\n    }\n\n    .dataframe tbody tr th {\n        vertical-align: top;\n    }\n\n    .dataframe thead th {\n        text-align: right;\n    }\n</style>\n<table border=\"1\" class=\"dataframe\">\n  <thead>\n    <tr style=\"text-align: right;\">\n      <th></th>\n      <th>covariance</th>\n      <th>beta1</th>\n      <th>beta2</th>\n      <th>p</th>\n      <th>exp_of_var</th>\n      <th>mismeasured_coef</th>\n      <th>mismeasured_allvar_coef</th>\n      <th>mismeasured_avg_coef</th>\n      <th>pca_coef</th>\n      <th>true_val_coef</th>\n      <th>iv_coef</th>\n      <th>pca_ape</th>\n      <th>mismeasured_coef_ape</th>\n      <th>mismeasured_allvar_coef_ape</th>\n      <th>mismeasured_avg_coef_ape</th>\n      <th>iv_coef_ape</th>\n    </tr>\n  </thead>\n  <tbody>\n    <tr>\n      <th>0</th>\n      <td>0.5</td>\n      <td>1.0</td>\n      <td>1.0</td>\n      <td>5</td>\n      <td>no</td>\n      <td>NaN</td>\n      <td>NaN</td>\n      <td>NaN</td>\n      <td>NaN</td>\n      <td>NaN</td>\n      <td>NaN</td>\n      <td>NaN</td>\n      <td>NaN</td>\n      <td>NaN</td>\n      <td>NaN</td>\n      <td>NaN</td>\n    </tr>\n    <tr>\n      <th>1</th>\n      <td>0.5</td>\n      <td>1.0</td>\n      <td>1.0</td>\n      <td>20</td>\n      <td>no</td>\n      <td>NaN</td>\n      <td>NaN</td>\n      <td>NaN</td>\n      <td>NaN</td>\n      <td>NaN</td>\n      <td>NaN</td>\n      <td>NaN</td>\n      <td>NaN</td>\n      <td>NaN</td>\n      <td>NaN</td>\n      <td>NaN</td>\n    </tr>\n    <tr>\n      <th>2</th>\n      <td>0.5</td>\n      <td>1.0</td>\n      <td>1.0</td>\n      <td>50</td>\n      <td>no</td>\n      <td>NaN</td>\n      <td>NaN</td>\n      <td>NaN</td>\n      <td>NaN</td>\n      <td>NaN</td>\n      <td>NaN</td>\n      <td>NaN</td>\n      <td>NaN</td>\n      <td>NaN</td>\n      <td>NaN</td>\n      <td>NaN</td>\n    </tr>\n  </tbody>\n</table>\n</div>"
     },
     "metadata": {},
     "execution_count": 19
    }
   ],
   "source": [
    "output.loc[(output['beta1']==1)&(output['beta2']==1)&(output['covariance'] == 0.5)&(output['exp_of_var']=='no')].groupby(['covariance','beta1','beta2','p','exp_of_var']).std().reset_index()"
   ]
  },
  {
   "cell_type": "code",
   "execution_count": null,
   "metadata": {},
   "outputs": [],
   "source": []
  },
  {
   "cell_type": "code",
   "execution_count": 20,
   "metadata": {},
   "outputs": [
    {
     "output_type": "execute_result",
     "data": {
      "text/plain": [
       "   covariance  beta1  beta2  p  mismeasured_coef  mismeasured_allvar_coef  \\\n",
       "0         0.5    0.1    1.0  5          0.367448                 0.170904   \n",
       "1         0.5    1.0    1.0  5          1.302670                 1.121081   \n",
       "2         0.5   10.0    1.0  5         10.298414                10.105304   \n",
       "\n",
       "   mismeasured_avg_coef   pca_coef  true_val_coef    iv_coef   pca_ape  \\\n",
       "0              0.171895   0.171929       0.053409   0.196630  0.719292   \n",
       "1              1.120034   1.119961       1.021782   1.141248  0.119961   \n",
       "2             10.105292  10.105762       9.997272  10.121088  0.010576   \n",
       "\n",
       "   mismeasured_coef_ape  mismeasured_allvar_coef_ape  \\\n",
       "0              2.674484                     0.709036   \n",
       "1              0.302670                     0.121081   \n",
       "2              0.029841                     0.010530   \n",
       "\n",
       "   mismeasured_avg_coef_ape  iv_coef_ape  \n",
       "0                  0.718951     0.966303  \n",
       "1                  0.120034     0.141248  \n",
       "2                  0.010529     0.012109  "
      ],
      "text/html": "<div>\n<style scoped>\n    .dataframe tbody tr th:only-of-type {\n        vertical-align: middle;\n    }\n\n    .dataframe tbody tr th {\n        vertical-align: top;\n    }\n\n    .dataframe thead th {\n        text-align: right;\n    }\n</style>\n<table border=\"1\" class=\"dataframe\">\n  <thead>\n    <tr style=\"text-align: right;\">\n      <th></th>\n      <th>covariance</th>\n      <th>beta1</th>\n      <th>beta2</th>\n      <th>p</th>\n      <th>mismeasured_coef</th>\n      <th>mismeasured_allvar_coef</th>\n      <th>mismeasured_avg_coef</th>\n      <th>pca_coef</th>\n      <th>true_val_coef</th>\n      <th>iv_coef</th>\n      <th>pca_ape</th>\n      <th>mismeasured_coef_ape</th>\n      <th>mismeasured_allvar_coef_ape</th>\n      <th>mismeasured_avg_coef_ape</th>\n      <th>iv_coef_ape</th>\n    </tr>\n  </thead>\n  <tbody>\n    <tr>\n      <th>0</th>\n      <td>0.5</td>\n      <td>0.1</td>\n      <td>1.0</td>\n      <td>5</td>\n      <td>0.367448</td>\n      <td>0.170904</td>\n      <td>0.171895</td>\n      <td>0.171929</td>\n      <td>0.053409</td>\n      <td>0.196630</td>\n      <td>0.719292</td>\n      <td>2.674484</td>\n      <td>0.709036</td>\n      <td>0.718951</td>\n      <td>0.966303</td>\n    </tr>\n    <tr>\n      <th>1</th>\n      <td>0.5</td>\n      <td>1.0</td>\n      <td>1.0</td>\n      <td>5</td>\n      <td>1.302670</td>\n      <td>1.121081</td>\n      <td>1.120034</td>\n      <td>1.119961</td>\n      <td>1.021782</td>\n      <td>1.141248</td>\n      <td>0.119961</td>\n      <td>0.302670</td>\n      <td>0.121081</td>\n      <td>0.120034</td>\n      <td>0.141248</td>\n    </tr>\n    <tr>\n      <th>2</th>\n      <td>0.5</td>\n      <td>10.0</td>\n      <td>1.0</td>\n      <td>5</td>\n      <td>10.298414</td>\n      <td>10.105304</td>\n      <td>10.105292</td>\n      <td>10.105762</td>\n      <td>9.997272</td>\n      <td>10.121088</td>\n      <td>0.010576</td>\n      <td>0.029841</td>\n      <td>0.010530</td>\n      <td>0.010529</td>\n      <td>0.012109</td>\n    </tr>\n  </tbody>\n</table>\n</div>"
     },
     "metadata": {},
     "execution_count": 20
    }
   ],
   "source": [
    "output.loc[(output['p']==5)&(output['beta2']==1)&(output['covariance'] == 0.5)&(output['exp_of_var']=='no')].groupby(['covariance','beta1','beta2','p']).mean().reset_index()"
   ]
  },
  {
   "cell_type": "code",
   "execution_count": 21,
   "metadata": {},
   "outputs": [
    {
     "output_type": "execute_result",
     "data": {
      "text/plain": [
       "   covariance  beta1  beta2  p  mismeasured_coef  mismeasured_allvar_coef  \\\n",
       "0         0.5    0.1    1.0  5               NaN                      NaN   \n",
       "1         0.5    1.0    1.0  5               NaN                      NaN   \n",
       "2         0.5   10.0    1.0  5               NaN                      NaN   \n",
       "\n",
       "   mismeasured_avg_coef  pca_coef  true_val_coef  iv_coef  pca_ape  \\\n",
       "0                   NaN       NaN            NaN      NaN      NaN   \n",
       "1                   NaN       NaN            NaN      NaN      NaN   \n",
       "2                   NaN       NaN            NaN      NaN      NaN   \n",
       "\n",
       "   mismeasured_coef_ape  mismeasured_allvar_coef_ape  \\\n",
       "0                   NaN                          NaN   \n",
       "1                   NaN                          NaN   \n",
       "2                   NaN                          NaN   \n",
       "\n",
       "   mismeasured_avg_coef_ape  iv_coef_ape  \n",
       "0                       NaN          NaN  \n",
       "1                       NaN          NaN  \n",
       "2                       NaN          NaN  "
      ],
      "text/html": "<div>\n<style scoped>\n    .dataframe tbody tr th:only-of-type {\n        vertical-align: middle;\n    }\n\n    .dataframe tbody tr th {\n        vertical-align: top;\n    }\n\n    .dataframe thead th {\n        text-align: right;\n    }\n</style>\n<table border=\"1\" class=\"dataframe\">\n  <thead>\n    <tr style=\"text-align: right;\">\n      <th></th>\n      <th>covariance</th>\n      <th>beta1</th>\n      <th>beta2</th>\n      <th>p</th>\n      <th>mismeasured_coef</th>\n      <th>mismeasured_allvar_coef</th>\n      <th>mismeasured_avg_coef</th>\n      <th>pca_coef</th>\n      <th>true_val_coef</th>\n      <th>iv_coef</th>\n      <th>pca_ape</th>\n      <th>mismeasured_coef_ape</th>\n      <th>mismeasured_allvar_coef_ape</th>\n      <th>mismeasured_avg_coef_ape</th>\n      <th>iv_coef_ape</th>\n    </tr>\n  </thead>\n  <tbody>\n    <tr>\n      <th>0</th>\n      <td>0.5</td>\n      <td>0.1</td>\n      <td>1.0</td>\n      <td>5</td>\n      <td>NaN</td>\n      <td>NaN</td>\n      <td>NaN</td>\n      <td>NaN</td>\n      <td>NaN</td>\n      <td>NaN</td>\n      <td>NaN</td>\n      <td>NaN</td>\n      <td>NaN</td>\n      <td>NaN</td>\n      <td>NaN</td>\n    </tr>\n    <tr>\n      <th>1</th>\n      <td>0.5</td>\n      <td>1.0</td>\n      <td>1.0</td>\n      <td>5</td>\n      <td>NaN</td>\n      <td>NaN</td>\n      <td>NaN</td>\n      <td>NaN</td>\n      <td>NaN</td>\n      <td>NaN</td>\n      <td>NaN</td>\n      <td>NaN</td>\n      <td>NaN</td>\n      <td>NaN</td>\n      <td>NaN</td>\n    </tr>\n    <tr>\n      <th>2</th>\n      <td>0.5</td>\n      <td>10.0</td>\n      <td>1.0</td>\n      <td>5</td>\n      <td>NaN</td>\n      <td>NaN</td>\n      <td>NaN</td>\n      <td>NaN</td>\n      <td>NaN</td>\n      <td>NaN</td>\n      <td>NaN</td>\n      <td>NaN</td>\n      <td>NaN</td>\n      <td>NaN</td>\n      <td>NaN</td>\n    </tr>\n  </tbody>\n</table>\n</div>"
     },
     "metadata": {},
     "execution_count": 21
    }
   ],
   "source": [
    "output.loc[(output['p']==5)&(output['beta2']==1)&(output['covariance'] == 0.5)&(output['exp_of_var']=='no')].groupby(['covariance','beta1','beta2','p']).std().reset_index()"
   ]
  },
  {
   "cell_type": "code",
   "execution_count": null,
   "metadata": {},
   "outputs": [],
   "source": []
  },
  {
   "cell_type": "code",
   "execution_count": 22,
   "metadata": {},
   "outputs": [
    {
     "output_type": "execute_result",
     "data": {
      "text/plain": [
       "   covariance  beta1  beta2  p  mismeasured_coef  mismeasured_allvar_coef  \\\n",
       "0         0.5    1.0    0.1  5          0.997181                 0.988845   \n",
       "1         0.5    1.0    1.0  5          1.302670                 1.121081   \n",
       "2         0.5    1.0   10.0  5          3.778286                 1.949708   \n",
       "\n",
       "   mismeasured_avg_coef  pca_coef  true_val_coef   iv_coef   pca_ape  \\\n",
       "0              0.989324  0.989386       0.976645  0.994704  0.010614   \n",
       "1              1.120034  1.119961       1.021782  1.141248  0.119961   \n",
       "2              1.954646  1.955103       0.996103  2.235823  0.955103   \n",
       "\n",
       "   mismeasured_coef_ape  mismeasured_allvar_coef_ape  \\\n",
       "0              0.002819                     0.011155   \n",
       "1              0.302670                     0.121081   \n",
       "2              2.778286                     0.949708   \n",
       "\n",
       "   mismeasured_avg_coef_ape  iv_coef_ape  \n",
       "0                  0.010676     0.005296  \n",
       "1                  0.120034     0.141248  \n",
       "2                  0.954646     1.235823  "
      ],
      "text/html": "<div>\n<style scoped>\n    .dataframe tbody tr th:only-of-type {\n        vertical-align: middle;\n    }\n\n    .dataframe tbody tr th {\n        vertical-align: top;\n    }\n\n    .dataframe thead th {\n        text-align: right;\n    }\n</style>\n<table border=\"1\" class=\"dataframe\">\n  <thead>\n    <tr style=\"text-align: right;\">\n      <th></th>\n      <th>covariance</th>\n      <th>beta1</th>\n      <th>beta2</th>\n      <th>p</th>\n      <th>mismeasured_coef</th>\n      <th>mismeasured_allvar_coef</th>\n      <th>mismeasured_avg_coef</th>\n      <th>pca_coef</th>\n      <th>true_val_coef</th>\n      <th>iv_coef</th>\n      <th>pca_ape</th>\n      <th>mismeasured_coef_ape</th>\n      <th>mismeasured_allvar_coef_ape</th>\n      <th>mismeasured_avg_coef_ape</th>\n      <th>iv_coef_ape</th>\n    </tr>\n  </thead>\n  <tbody>\n    <tr>\n      <th>0</th>\n      <td>0.5</td>\n      <td>1.0</td>\n      <td>0.1</td>\n      <td>5</td>\n      <td>0.997181</td>\n      <td>0.988845</td>\n      <td>0.989324</td>\n      <td>0.989386</td>\n      <td>0.976645</td>\n      <td>0.994704</td>\n      <td>0.010614</td>\n      <td>0.002819</td>\n      <td>0.011155</td>\n      <td>0.010676</td>\n      <td>0.005296</td>\n    </tr>\n    <tr>\n      <th>1</th>\n      <td>0.5</td>\n      <td>1.0</td>\n      <td>1.0</td>\n      <td>5</td>\n      <td>1.302670</td>\n      <td>1.121081</td>\n      <td>1.120034</td>\n      <td>1.119961</td>\n      <td>1.021782</td>\n      <td>1.141248</td>\n      <td>0.119961</td>\n      <td>0.302670</td>\n      <td>0.121081</td>\n      <td>0.120034</td>\n      <td>0.141248</td>\n    </tr>\n    <tr>\n      <th>2</th>\n      <td>0.5</td>\n      <td>1.0</td>\n      <td>10.0</td>\n      <td>5</td>\n      <td>3.778286</td>\n      <td>1.949708</td>\n      <td>1.954646</td>\n      <td>1.955103</td>\n      <td>0.996103</td>\n      <td>2.235823</td>\n      <td>0.955103</td>\n      <td>2.778286</td>\n      <td>0.949708</td>\n      <td>0.954646</td>\n      <td>1.235823</td>\n    </tr>\n  </tbody>\n</table>\n</div>"
     },
     "metadata": {},
     "execution_count": 22
    }
   ],
   "source": [
    "output.loc[(output['beta1']==1)&(output['p']==5)&(output['covariance'] == 0.5)&(output['exp_of_var']=='no')].groupby(['covariance','beta1','beta2','p']).mean().reset_index()"
   ]
  },
  {
   "cell_type": "code",
   "execution_count": 23,
   "metadata": {},
   "outputs": [
    {
     "output_type": "execute_result",
     "data": {
      "text/plain": [
       "   covariance  beta1  beta2  p  mismeasured_coef  mismeasured_allvar_coef  \\\n",
       "0         0.5    1.0    0.1  5               NaN                      NaN   \n",
       "1         0.5    1.0    1.0  5               NaN                      NaN   \n",
       "2         0.5    1.0   10.0  5               NaN                      NaN   \n",
       "\n",
       "   mismeasured_avg_coef  pca_coef  true_val_coef  iv_coef  pca_ape  \\\n",
       "0                   NaN       NaN            NaN      NaN      NaN   \n",
       "1                   NaN       NaN            NaN      NaN      NaN   \n",
       "2                   NaN       NaN            NaN      NaN      NaN   \n",
       "\n",
       "   mismeasured_coef_ape  mismeasured_allvar_coef_ape  \\\n",
       "0                   NaN                          NaN   \n",
       "1                   NaN                          NaN   \n",
       "2                   NaN                          NaN   \n",
       "\n",
       "   mismeasured_avg_coef_ape  iv_coef_ape  \n",
       "0                       NaN          NaN  \n",
       "1                       NaN          NaN  \n",
       "2                       NaN          NaN  "
      ],
      "text/html": "<div>\n<style scoped>\n    .dataframe tbody tr th:only-of-type {\n        vertical-align: middle;\n    }\n\n    .dataframe tbody tr th {\n        vertical-align: top;\n    }\n\n    .dataframe thead th {\n        text-align: right;\n    }\n</style>\n<table border=\"1\" class=\"dataframe\">\n  <thead>\n    <tr style=\"text-align: right;\">\n      <th></th>\n      <th>covariance</th>\n      <th>beta1</th>\n      <th>beta2</th>\n      <th>p</th>\n      <th>mismeasured_coef</th>\n      <th>mismeasured_allvar_coef</th>\n      <th>mismeasured_avg_coef</th>\n      <th>pca_coef</th>\n      <th>true_val_coef</th>\n      <th>iv_coef</th>\n      <th>pca_ape</th>\n      <th>mismeasured_coef_ape</th>\n      <th>mismeasured_allvar_coef_ape</th>\n      <th>mismeasured_avg_coef_ape</th>\n      <th>iv_coef_ape</th>\n    </tr>\n  </thead>\n  <tbody>\n    <tr>\n      <th>0</th>\n      <td>0.5</td>\n      <td>1.0</td>\n      <td>0.1</td>\n      <td>5</td>\n      <td>NaN</td>\n      <td>NaN</td>\n      <td>NaN</td>\n      <td>NaN</td>\n      <td>NaN</td>\n      <td>NaN</td>\n      <td>NaN</td>\n      <td>NaN</td>\n      <td>NaN</td>\n      <td>NaN</td>\n      <td>NaN</td>\n    </tr>\n    <tr>\n      <th>1</th>\n      <td>0.5</td>\n      <td>1.0</td>\n      <td>1.0</td>\n      <td>5</td>\n      <td>NaN</td>\n      <td>NaN</td>\n      <td>NaN</td>\n      <td>NaN</td>\n      <td>NaN</td>\n      <td>NaN</td>\n      <td>NaN</td>\n      <td>NaN</td>\n      <td>NaN</td>\n      <td>NaN</td>\n      <td>NaN</td>\n    </tr>\n    <tr>\n      <th>2</th>\n      <td>0.5</td>\n      <td>1.0</td>\n      <td>10.0</td>\n      <td>5</td>\n      <td>NaN</td>\n      <td>NaN</td>\n      <td>NaN</td>\n      <td>NaN</td>\n      <td>NaN</td>\n      <td>NaN</td>\n      <td>NaN</td>\n      <td>NaN</td>\n      <td>NaN</td>\n      <td>NaN</td>\n      <td>NaN</td>\n    </tr>\n  </tbody>\n</table>\n</div>"
     },
     "metadata": {},
     "execution_count": 23
    }
   ],
   "source": [
    "output.loc[(output['beta1']==1)&(output['p']==5)&(output['covariance'] == 0.5)&(output['exp_of_var']=='no')].groupby(['covariance','beta1','beta2','p']).std().reset_index()"
   ]
  },
  {
   "cell_type": "code",
   "execution_count": null,
   "metadata": {},
   "outputs": [],
   "source": []
  },
  {
   "cell_type": "code",
   "execution_count": 24,
   "metadata": {},
   "outputs": [
    {
     "output_type": "execute_result",
     "data": {
      "text/plain": [
       "   covariance  beta1  beta2  p  mismeasured_coef  mismeasured_allvar_coef  \\\n",
       "0        -0.9    1.0    1.0  5          0.217245                 0.477989   \n",
       "1        -0.5    1.0    1.0  5          0.724498                 0.920783   \n",
       "2         0.0    1.0    1.0  5          1.005180                 1.001407   \n",
       "3         0.5    1.0    1.0  5          1.302670                 1.121081   \n",
       "4         0.9    1.0    1.0  5          1.813492                 1.456942   \n",
       "\n",
       "   mismeasured_avg_coef  pca_coef  true_val_coef   iv_coef   pca_ape  \\\n",
       "0              0.477303  0.477019       0.952746  0.422875  0.522981   \n",
       "1              0.919703  0.918035       1.012534  0.904684  0.081965   \n",
       "2              1.000276  1.000394       1.009075  1.000825  0.000394   \n",
       "3              1.120034  1.119961       1.021782  1.141248  0.119961   \n",
       "4              1.457083  1.457555       1.000043  1.501181  0.457555   \n",
       "\n",
       "   mismeasured_coef_ape  mismeasured_allvar_coef_ape  \\\n",
       "0              0.782755                     0.522011   \n",
       "1              0.275502                     0.079217   \n",
       "2              0.005180                     0.001407   \n",
       "3              0.302670                     0.121081   \n",
       "4              0.813492                     0.456942   \n",
       "\n",
       "   mismeasured_avg_coef_ape  iv_coef_ape  \n",
       "0                  0.522697     0.577125  \n",
       "1                  0.080297     0.095316  \n",
       "2                  0.000276     0.000825  \n",
       "3                  0.120034     0.141248  \n",
       "4                  0.457083     0.501181  "
      ],
      "text/html": "<div>\n<style scoped>\n    .dataframe tbody tr th:only-of-type {\n        vertical-align: middle;\n    }\n\n    .dataframe tbody tr th {\n        vertical-align: top;\n    }\n\n    .dataframe thead th {\n        text-align: right;\n    }\n</style>\n<table border=\"1\" class=\"dataframe\">\n  <thead>\n    <tr style=\"text-align: right;\">\n      <th></th>\n      <th>covariance</th>\n      <th>beta1</th>\n      <th>beta2</th>\n      <th>p</th>\n      <th>mismeasured_coef</th>\n      <th>mismeasured_allvar_coef</th>\n      <th>mismeasured_avg_coef</th>\n      <th>pca_coef</th>\n      <th>true_val_coef</th>\n      <th>iv_coef</th>\n      <th>pca_ape</th>\n      <th>mismeasured_coef_ape</th>\n      <th>mismeasured_allvar_coef_ape</th>\n      <th>mismeasured_avg_coef_ape</th>\n      <th>iv_coef_ape</th>\n    </tr>\n  </thead>\n  <tbody>\n    <tr>\n      <th>0</th>\n      <td>-0.9</td>\n      <td>1.0</td>\n      <td>1.0</td>\n      <td>5</td>\n      <td>0.217245</td>\n      <td>0.477989</td>\n      <td>0.477303</td>\n      <td>0.477019</td>\n      <td>0.952746</td>\n      <td>0.422875</td>\n      <td>0.522981</td>\n      <td>0.782755</td>\n      <td>0.522011</td>\n      <td>0.522697</td>\n      <td>0.577125</td>\n    </tr>\n    <tr>\n      <th>1</th>\n      <td>-0.5</td>\n      <td>1.0</td>\n      <td>1.0</td>\n      <td>5</td>\n      <td>0.724498</td>\n      <td>0.920783</td>\n      <td>0.919703</td>\n      <td>0.918035</td>\n      <td>1.012534</td>\n      <td>0.904684</td>\n      <td>0.081965</td>\n      <td>0.275502</td>\n      <td>0.079217</td>\n      <td>0.080297</td>\n      <td>0.095316</td>\n    </tr>\n    <tr>\n      <th>2</th>\n      <td>0.0</td>\n      <td>1.0</td>\n      <td>1.0</td>\n      <td>5</td>\n      <td>1.005180</td>\n      <td>1.001407</td>\n      <td>1.000276</td>\n      <td>1.000394</td>\n      <td>1.009075</td>\n      <td>1.000825</td>\n      <td>0.000394</td>\n      <td>0.005180</td>\n      <td>0.001407</td>\n      <td>0.000276</td>\n      <td>0.000825</td>\n    </tr>\n    <tr>\n      <th>3</th>\n      <td>0.5</td>\n      <td>1.0</td>\n      <td>1.0</td>\n      <td>5</td>\n      <td>1.302670</td>\n      <td>1.121081</td>\n      <td>1.120034</td>\n      <td>1.119961</td>\n      <td>1.021782</td>\n      <td>1.141248</td>\n      <td>0.119961</td>\n      <td>0.302670</td>\n      <td>0.121081</td>\n      <td>0.120034</td>\n      <td>0.141248</td>\n    </tr>\n    <tr>\n      <th>4</th>\n      <td>0.9</td>\n      <td>1.0</td>\n      <td>1.0</td>\n      <td>5</td>\n      <td>1.813492</td>\n      <td>1.456942</td>\n      <td>1.457083</td>\n      <td>1.457555</td>\n      <td>1.000043</td>\n      <td>1.501181</td>\n      <td>0.457555</td>\n      <td>0.813492</td>\n      <td>0.456942</td>\n      <td>0.457083</td>\n      <td>0.501181</td>\n    </tr>\n  </tbody>\n</table>\n</div>"
     },
     "metadata": {},
     "execution_count": 24
    }
   ],
   "source": [
    "output.loc[(output['beta1']==1)&(output['beta2']==1)&(output['p'] == 5)&(output['exp_of_var']=='no')].groupby(['covariance','beta1','beta2','p']).mean().reset_index()"
   ]
  },
  {
   "cell_type": "code",
   "execution_count": 25,
   "metadata": {},
   "outputs": [
    {
     "output_type": "execute_result",
     "data": {
      "text/plain": [
       "   covariance  beta1  beta2  p  mismeasured_coef  mismeasured_allvar_coef  \\\n",
       "0        -0.9    1.0    1.0  5               NaN                      NaN   \n",
       "1        -0.5    1.0    1.0  5               NaN                      NaN   \n",
       "2         0.0    1.0    1.0  5               NaN                      NaN   \n",
       "3         0.5    1.0    1.0  5               NaN                      NaN   \n",
       "4         0.9    1.0    1.0  5               NaN                      NaN   \n",
       "\n",
       "   mismeasured_avg_coef  pca_coef  true_val_coef  iv_coef  pca_ape  \\\n",
       "0                   NaN       NaN            NaN      NaN      NaN   \n",
       "1                   NaN       NaN            NaN      NaN      NaN   \n",
       "2                   NaN       NaN            NaN      NaN      NaN   \n",
       "3                   NaN       NaN            NaN      NaN      NaN   \n",
       "4                   NaN       NaN            NaN      NaN      NaN   \n",
       "\n",
       "   mismeasured_coef_ape  mismeasured_allvar_coef_ape  \\\n",
       "0                   NaN                          NaN   \n",
       "1                   NaN                          NaN   \n",
       "2                   NaN                          NaN   \n",
       "3                   NaN                          NaN   \n",
       "4                   NaN                          NaN   \n",
       "\n",
       "   mismeasured_avg_coef_ape  iv_coef_ape  \n",
       "0                       NaN          NaN  \n",
       "1                       NaN          NaN  \n",
       "2                       NaN          NaN  \n",
       "3                       NaN          NaN  \n",
       "4                       NaN          NaN  "
      ],
      "text/html": "<div>\n<style scoped>\n    .dataframe tbody tr th:only-of-type {\n        vertical-align: middle;\n    }\n\n    .dataframe tbody tr th {\n        vertical-align: top;\n    }\n\n    .dataframe thead th {\n        text-align: right;\n    }\n</style>\n<table border=\"1\" class=\"dataframe\">\n  <thead>\n    <tr style=\"text-align: right;\">\n      <th></th>\n      <th>covariance</th>\n      <th>beta1</th>\n      <th>beta2</th>\n      <th>p</th>\n      <th>mismeasured_coef</th>\n      <th>mismeasured_allvar_coef</th>\n      <th>mismeasured_avg_coef</th>\n      <th>pca_coef</th>\n      <th>true_val_coef</th>\n      <th>iv_coef</th>\n      <th>pca_ape</th>\n      <th>mismeasured_coef_ape</th>\n      <th>mismeasured_allvar_coef_ape</th>\n      <th>mismeasured_avg_coef_ape</th>\n      <th>iv_coef_ape</th>\n    </tr>\n  </thead>\n  <tbody>\n    <tr>\n      <th>0</th>\n      <td>-0.9</td>\n      <td>1.0</td>\n      <td>1.0</td>\n      <td>5</td>\n      <td>NaN</td>\n      <td>NaN</td>\n      <td>NaN</td>\n      <td>NaN</td>\n      <td>NaN</td>\n      <td>NaN</td>\n      <td>NaN</td>\n      <td>NaN</td>\n      <td>NaN</td>\n      <td>NaN</td>\n      <td>NaN</td>\n    </tr>\n    <tr>\n      <th>1</th>\n      <td>-0.5</td>\n      <td>1.0</td>\n      <td>1.0</td>\n      <td>5</td>\n      <td>NaN</td>\n      <td>NaN</td>\n      <td>NaN</td>\n      <td>NaN</td>\n      <td>NaN</td>\n      <td>NaN</td>\n      <td>NaN</td>\n      <td>NaN</td>\n      <td>NaN</td>\n      <td>NaN</td>\n      <td>NaN</td>\n    </tr>\n    <tr>\n      <th>2</th>\n      <td>0.0</td>\n      <td>1.0</td>\n      <td>1.0</td>\n      <td>5</td>\n      <td>NaN</td>\n      <td>NaN</td>\n      <td>NaN</td>\n      <td>NaN</td>\n      <td>NaN</td>\n      <td>NaN</td>\n      <td>NaN</td>\n      <td>NaN</td>\n      <td>NaN</td>\n      <td>NaN</td>\n      <td>NaN</td>\n    </tr>\n    <tr>\n      <th>3</th>\n      <td>0.5</td>\n      <td>1.0</td>\n      <td>1.0</td>\n      <td>5</td>\n      <td>NaN</td>\n      <td>NaN</td>\n      <td>NaN</td>\n      <td>NaN</td>\n      <td>NaN</td>\n      <td>NaN</td>\n      <td>NaN</td>\n      <td>NaN</td>\n      <td>NaN</td>\n      <td>NaN</td>\n      <td>NaN</td>\n    </tr>\n    <tr>\n      <th>4</th>\n      <td>0.9</td>\n      <td>1.0</td>\n      <td>1.0</td>\n      <td>5</td>\n      <td>NaN</td>\n      <td>NaN</td>\n      <td>NaN</td>\n      <td>NaN</td>\n      <td>NaN</td>\n      <td>NaN</td>\n      <td>NaN</td>\n      <td>NaN</td>\n      <td>NaN</td>\n      <td>NaN</td>\n      <td>NaN</td>\n    </tr>\n  </tbody>\n</table>\n</div>"
     },
     "metadata": {},
     "execution_count": 25
    }
   ],
   "source": [
    "output.loc[(output['beta1']==1)&(output['beta2']==1)&(output['p'] == 5)&(output['exp_of_var']=='no')].groupby(['covariance','beta1','beta2','p']).std().reset_index()"
   ]
  },
  {
   "cell_type": "code",
   "execution_count": null,
   "metadata": {},
   "outputs": [],
   "source": []
  }
 ],
 "metadata": {
  "kernelspec": {
   "name": "python388jvsc74a57bd0d8e5f08eda4f9cddc19de05071e25a43923763e5e5799e90c26e70a4345f4abb",
   "display_name": "Python 3.8.8 64-bit ('econ31330-env': conda)"
  },
  "language_info": {
   "codemirror_mode": {
    "name": "ipython",
    "version": 3
   },
   "file_extension": ".py",
   "mimetype": "text/x-python",
   "name": "python",
   "nbconvert_exporter": "python",
   "pygments_lexer": "ipython3",
   "version": "3.8.8"
  }
 },
 "nbformat": 4,
 "nbformat_minor": 4
}