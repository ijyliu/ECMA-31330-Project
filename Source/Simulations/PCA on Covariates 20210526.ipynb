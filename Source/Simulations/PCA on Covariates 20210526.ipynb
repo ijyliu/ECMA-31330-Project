{
 "cells": [
  {
   "source": [
    "# PCA on Covariates Simulations Notebook"
   ],
   "cell_type": "markdown",
   "metadata": {}
  },
  {
   "cell_type": "code",
   "execution_count": 82,
   "metadata": {},
   "outputs": [],
   "source": [
    "# Import objects from the setup file\n",
    "import os\n",
    "import sys\n",
    "sys.path.append(os.path.expanduser('~/repo/ECMA-31330-Project/Source'))\n",
    "from ME_Setup import *\n",
    "\n",
    "# Packages\n",
    "import numpy as np\n",
    "import pandas as pd\n",
    "import seaborn as sns\n",
    "from pca import pca\n",
    "import statsmodels.api as sm\n",
    "import statsmodels.formula.api as smf\n",
    "from sklearn.preprocessing import StandardScaler\n",
    "from sklearn.decomposition import FactorAnalysis\n",
    "import math\n",
    "from tqdm import tqdm\n",
    "import regex as re"
   ]
  },
  {
   "cell_type": "code",
   "execution_count": 83,
   "metadata": {},
   "outputs": [],
   "source": [
    "# Supressing Output\n",
    "from contextlib import contextmanager\n",
    "import sys, os\n",
    "\n",
    "@contextmanager\n",
    "def suppress_stdout():\n",
    "    with open(os.devnull, \"w\") as devnull:\n",
    "        old_stdout = sys.stdout\n",
    "        sys.stdout = devnull\n",
    "        try:  \n",
    "            yield\n",
    "        finally:\n",
    "            sys.stdout = old_stdout"
   ]
  },
  {
   "cell_type": "code",
   "execution_count": 84,
   "metadata": {},
   "outputs": [
    {
     "output_type": "stream",
     "name": "stderr",
     "text": [
      "100%|██████████| 2/2 [00:01<00:00,  1.75it/s]\n",
      "100%|██████████| 2/2 [00:00<00:00,  2.24it/s]\n",
      "100%|██████████| 2/2 [00:00<00:00,  2.10it/s]\n",
      "100%|██████████| 2/2 [00:00<00:00,  2.09it/s]\n",
      "100%|██████████| 2/2 [00:01<00:00,  1.99it/s]\n",
      "100%|██████████| 2/2 [00:00<00:00,  2.20it/s]\n",
      "100%|██████████| 2/2 [00:00<00:00,  2.29it/s]\n",
      "100%|██████████| 2/2 [00:00<00:00,  2.25it/s]\n",
      "100%|██████████| 2/2 [00:00<00:00,  2.27it/s]\n",
      "100%|██████████| 2/2 [00:00<00:00,  2.29it/s]\n",
      "100%|██████████| 2/2 [00:00<00:00,  2.21it/s]\n",
      "100%|██████████| 2/2 [00:00<00:00,  2.27it/s]\n",
      "100%|██████████| 2/2 [00:01<00:00,  1.98it/s]\n",
      "100%|██████████| 2/2 [00:00<00:00,  2.09it/s]\n",
      "100%|██████████| 2/2 [00:01<00:00,  1.76it/s]\n",
      "100%|██████████| 2/2 [00:01<00:00,  1.81it/s]\n",
      "100%|██████████| 2/2 [00:00<00:00,  2.24it/s]\n",
      "100%|██████████| 2/2 [00:00<00:00,  2.26it/s]\n",
      "100%|██████████| 2/2 [00:00<00:00,  2.26it/s]\n",
      "100%|██████████| 2/2 [00:00<00:00,  2.26it/s]\n",
      "100%|██████████| 2/2 [00:00<00:00,  2.28it/s]\n",
      "100%|██████████| 2/2 [00:00<00:00,  2.29it/s]\n"
     ]
    },
    {
     "output_type": "execute_result",
     "data": {
      "text/plain": [
       "    mismeasured_coef  mismeasured_allvar_coef  mismeasured_avg_coef  \\\n",
       "0           0.399043                 0.286126              0.475065   \n",
       "0           0.375566                 0.277360              0.456796   \n",
       "0           0.366631                 0.193763              0.194784   \n",
       "0           0.394229                 0.188301              0.186376   \n",
       "0           1.022695                 1.018035              1.036367   \n",
       "..               ...                      ...                   ...   \n",
       "0           3.756241                 2.126662              2.132512   \n",
       "0          10.318776                10.219309             10.428650   \n",
       "0          10.304393                10.207344             10.392587   \n",
       "0          10.317509                10.165775             10.165579   \n",
       "0          10.283584                10.098531             10.098524   \n",
       "\n",
       "     pca_coef  true_val_coef    iv_coef  covariance  beta1  beta2  p  \\\n",
       "0    0.329801       0.081933   0.343144         0.5    0.1    1.0  5   \n",
       "0    0.301234       0.086412   0.328577         0.5    0.1    1.0  5   \n",
       "0    0.194833       0.086649   0.218756         0.5    0.1    1.0  5   \n",
       "0    0.187594       0.087697   0.200708         0.5    0.1    1.0  5   \n",
       "0    1.017710       0.984758   1.020303         0.5    1.0    0.1  5   \n",
       "..        ...            ...        ...         ...    ...    ... ..   \n",
       "0    2.134524       1.029810   2.361156         0.5    1.0   10.0  5   \n",
       "0   10.246406      10.029898  10.281943         0.5   10.0    1.0  5   \n",
       "0   10.234261      10.040918  10.267341         0.5   10.0    1.0  5   \n",
       "0   10.166668      10.062403  10.192212         0.5   10.0    1.0  5   \n",
       "0   10.099469       9.995795  10.120382         0.5   10.0    1.0  5   \n",
       "\n",
       "   exp_of_var  \n",
       "0         yes  \n",
       "0         yes  \n",
       "0          no  \n",
       "0          no  \n",
       "0         yes  \n",
       "..        ...  \n",
       "0          no  \n",
       "0         yes  \n",
       "0         yes  \n",
       "0          no  \n",
       "0          no  \n",
       "\n",
       "[44 rows x 11 columns]"
      ],
      "text/html": "<div>\n<style scoped>\n    .dataframe tbody tr th:only-of-type {\n        vertical-align: middle;\n    }\n\n    .dataframe tbody tr th {\n        vertical-align: top;\n    }\n\n    .dataframe thead th {\n        text-align: right;\n    }\n</style>\n<table border=\"1\" class=\"dataframe\">\n  <thead>\n    <tr style=\"text-align: right;\">\n      <th></th>\n      <th>mismeasured_coef</th>\n      <th>mismeasured_allvar_coef</th>\n      <th>mismeasured_avg_coef</th>\n      <th>pca_coef</th>\n      <th>true_val_coef</th>\n      <th>iv_coef</th>\n      <th>covariance</th>\n      <th>beta1</th>\n      <th>beta2</th>\n      <th>p</th>\n      <th>exp_of_var</th>\n    </tr>\n  </thead>\n  <tbody>\n    <tr>\n      <th>0</th>\n      <td>0.399043</td>\n      <td>0.286126</td>\n      <td>0.475065</td>\n      <td>0.329801</td>\n      <td>0.081933</td>\n      <td>0.343144</td>\n      <td>0.5</td>\n      <td>0.1</td>\n      <td>1.0</td>\n      <td>5</td>\n      <td>yes</td>\n    </tr>\n    <tr>\n      <th>0</th>\n      <td>0.375566</td>\n      <td>0.277360</td>\n      <td>0.456796</td>\n      <td>0.301234</td>\n      <td>0.086412</td>\n      <td>0.328577</td>\n      <td>0.5</td>\n      <td>0.1</td>\n      <td>1.0</td>\n      <td>5</td>\n      <td>yes</td>\n    </tr>\n    <tr>\n      <th>0</th>\n      <td>0.366631</td>\n      <td>0.193763</td>\n      <td>0.194784</td>\n      <td>0.194833</td>\n      <td>0.086649</td>\n      <td>0.218756</td>\n      <td>0.5</td>\n      <td>0.1</td>\n      <td>1.0</td>\n      <td>5</td>\n      <td>no</td>\n    </tr>\n    <tr>\n      <th>0</th>\n      <td>0.394229</td>\n      <td>0.188301</td>\n      <td>0.186376</td>\n      <td>0.187594</td>\n      <td>0.087697</td>\n      <td>0.200708</td>\n      <td>0.5</td>\n      <td>0.1</td>\n      <td>1.0</td>\n      <td>5</td>\n      <td>no</td>\n    </tr>\n    <tr>\n      <th>0</th>\n      <td>1.022695</td>\n      <td>1.018035</td>\n      <td>1.036367</td>\n      <td>1.017710</td>\n      <td>0.984758</td>\n      <td>1.020303</td>\n      <td>0.5</td>\n      <td>1.0</td>\n      <td>0.1</td>\n      <td>5</td>\n      <td>yes</td>\n    </tr>\n    <tr>\n      <th>...</th>\n      <td>...</td>\n      <td>...</td>\n      <td>...</td>\n      <td>...</td>\n      <td>...</td>\n      <td>...</td>\n      <td>...</td>\n      <td>...</td>\n      <td>...</td>\n      <td>...</td>\n      <td>...</td>\n    </tr>\n    <tr>\n      <th>0</th>\n      <td>3.756241</td>\n      <td>2.126662</td>\n      <td>2.132512</td>\n      <td>2.134524</td>\n      <td>1.029810</td>\n      <td>2.361156</td>\n      <td>0.5</td>\n      <td>1.0</td>\n      <td>10.0</td>\n      <td>5</td>\n      <td>no</td>\n    </tr>\n    <tr>\n      <th>0</th>\n      <td>10.318776</td>\n      <td>10.219309</td>\n      <td>10.428650</td>\n      <td>10.246406</td>\n      <td>10.029898</td>\n      <td>10.281943</td>\n      <td>0.5</td>\n      <td>10.0</td>\n      <td>1.0</td>\n      <td>5</td>\n      <td>yes</td>\n    </tr>\n    <tr>\n      <th>0</th>\n      <td>10.304393</td>\n      <td>10.207344</td>\n      <td>10.392587</td>\n      <td>10.234261</td>\n      <td>10.040918</td>\n      <td>10.267341</td>\n      <td>0.5</td>\n      <td>10.0</td>\n      <td>1.0</td>\n      <td>5</td>\n      <td>yes</td>\n    </tr>\n    <tr>\n      <th>0</th>\n      <td>10.317509</td>\n      <td>10.165775</td>\n      <td>10.165579</td>\n      <td>10.166668</td>\n      <td>10.062403</td>\n      <td>10.192212</td>\n      <td>0.5</td>\n      <td>10.0</td>\n      <td>1.0</td>\n      <td>5</td>\n      <td>no</td>\n    </tr>\n    <tr>\n      <th>0</th>\n      <td>10.283584</td>\n      <td>10.098531</td>\n      <td>10.098524</td>\n      <td>10.099469</td>\n      <td>9.995795</td>\n      <td>10.120382</td>\n      <td>0.5</td>\n      <td>10.0</td>\n      <td>1.0</td>\n      <td>5</td>\n      <td>no</td>\n    </tr>\n  </tbody>\n</table>\n<p>44 rows × 11 columns</p>\n</div>"
     },
     "metadata": {},
     "execution_count": 84
    }
   ],
   "source": [
    "# Data frame to store output\n",
    "output = pd.DataFrame()\n",
    "\n",
    "# 3,000 observations\n",
    "N = 3000\n",
    "\n",
    "# Loop over combinations of: betas, covariances between variables, p numbers of parameters\n",
    "for beta1 in [0.1,1,10]:\n",
    "    for beta2 in [0.1,1,10]:\n",
    "        for covariance in [-0.9,-0.5,0,0.5,0.9]:\n",
    "            for p in [5,20,50]:\n",
    "                # Select only the scenarios we actually want to run by default - betas of 1, covariances of 0.5, p of 5... require three of these conditions to be satisfied to run.\n",
    "                counter = 0\n",
    "                if beta1 == 1:\n",
    "                    counter += 1\n",
    "                if beta2 == 1:\n",
    "                    counter += 1\n",
    "                if covariance == 0.5:\n",
    "                    counter += 1\n",
    "                if p == 5:\n",
    "                    counter+=1\n",
    "                if counter >= 3:\n",
    "                    # Run with and without transformations\n",
    "                    for exp_of_var in ['yes','no']:\n",
    "                        # 1000 simulations\n",
    "                        for k in tqdm(range(1000)):\n",
    "                            # Initialize Lists to store coef values for all five methods and the true coef\n",
    "                            pca_coef = []\n",
    "                            mismeasured_coef = []\n",
    "                            mismeasured_allvar_coef = []\n",
    "                            mismeasured_avg_coef = []\n",
    "                            iv_coef = []\n",
    "                            true_val_coef =[]\n",
    "\n",
    "                            # Create variables\n",
    "                            vars_mean = [0,0,0]\n",
    "                            vars_cov = np.array([[1,covariance,0],\n",
    "                                                 [covariance,1,0],\n",
    "                                                 [0,0,1]])\n",
    "                            # Producing 3 variables: x for the variable of interest, the true Z covariate, the random error\n",
    "                            vars_ = pd.DataFrame(np.random.multivariate_normal(vars_mean, vars_cov, N), columns = ['x','true_z','u'])\n",
    "                            vars_['y'] = beta1 * vars_['x'] + beta2 * vars_['true_z'] + vars_['u']\n",
    "\n",
    "                            # Create measurement errors for each of the p measurements of the covariates- mean zero and variance one\n",
    "                            errors_mean = np.zeros(p)\n",
    "                            errors_cov = np.zeros((p,p))\n",
    "                            for i in range(p):\n",
    "                                for j in range(p):\n",
    "                                    if i == j:\n",
    "                                        errors_cov[i,j] = 1\n",
    "\n",
    "                            errors = np.random.multivariate_normal(errors_mean, errors_cov, N)\n",
    "                            # Column labels for Z variables (covariates variables mismeasured)\n",
    "                            z_vars = []\n",
    "                            for i in range(p):\n",
    "                                z_vars.append('z'+str(i+1))\n",
    "                            # Add errors to the true_z to get mismeasured values\n",
    "                            mismeasured_z = pd.DataFrame(errors, columns = z_vars)\n",
    "                            for i in mismeasured_z.columns:\n",
    "                                mismeasured_z[i] = mismeasured_z[i] + vars_['true_z']\n",
    "\n",
    "                            # Take e to the power of the values for half of the measurements if log_of_var is true\n",
    "                            if exp_of_var == 'yes':\n",
    "                                mismeasured_z.iloc[:,int(len(mismeasured_z.columns)/2):] =np.exp(mismeasured_z.iloc[:,int(len(mismeasured_z.columns)/2):])\n",
    "                                \n",
    "                            # Do feature scaling (normalize to mean 0 and variance 1) for the mismeasured z\n",
    "                            # Note that x and y are already normalized by construction\n",
    "                            scaled_mismeasured_z = mismeasured_z.copy()\n",
    "                            for i in mismeasured_z.columns:\n",
    "                                scaled_mismeasured_z[i] = (mismeasured_z[i] - mismeasured_z[i].mean()) / mismeasured_z[i].std()\n",
    "\n",
    "                            # Suppress output\n",
    "                            with suppress_stdout():\n",
    "                                # Use PCA on the mismeasured values\n",
    "                                pca_model = pca()\n",
    "                                pca_results = pca_model.fit_transform(scaled_mismeasured_z)\n",
    "                                pca_z = pca_results['PC']['PC1']\n",
    "\n",
    "                            # NOTE: in non-pca cases, no need to rescale or normalize since mismeasured variables and x and y have mean 0 and sd 1\n",
    "\n",
    "                            # Average mismeasured variables:\n",
    "                            vars_['avg_mismeasured_z'] = mismeasured_z[z_vars].mean(axis=1)\n",
    "\n",
    "                            # Add relevant variables to vars_ dataframe\n",
    "                            vars_[mismeasured_z.columns] = mismeasured_z\n",
    "                            vars_['pca_z'] = pca_z\n",
    "\n",
    "                            # Single mismeasured covariate results\n",
    "                            model_mismeasured = sm.OLS(vars_['y'],vars_[['x','z1']])\n",
    "                            results_mismeasured = model_mismeasured.fit()\n",
    "                            mismeasured_coef.append(results_mismeasured.params[0])\n",
    "\n",
    "                            # All Variables Mismeasured Results\n",
    "                            # Create full list of items to include in regression\n",
    "                            tot_vars = ['x']\n",
    "                            tot_vars.extend(z_vars)\n",
    "                            model_mismeasured_allvar = sm.OLS(vars_['y'],vars_[tot_vars])\n",
    "                            results_mismeasured_allvar = model_mismeasured_allvar.fit()\n",
    "                            mismeasured_allvar_coef.append(results_mismeasured_allvar.params[0])\n",
    "\n",
    "                            # Average Mismeasured Variables Results\n",
    "                            model_mismeasured_avg = sm.OLS(vars_['y'],vars_[['x','avg_mismeasured_z']])\n",
    "                            results_mismeasured_avg = model_mismeasured_avg.fit()\n",
    "                            mismeasured_avg_coef.append(results_mismeasured_avg.params[0])\n",
    "\n",
    "                            # PCA Results\n",
    "                            model_pca = sm.OLS(vars_['y'],vars_[['x','pca_z']])\n",
    "                            results_pca = model_pca.fit()\n",
    "                            pca_coef.append(results_pca.params[0])\n",
    "\n",
    "                            # Instrumental Variables Results\n",
    "                            # Instrument z1 on the other items in the mismeasured df\n",
    "                            z_string = mismeasured_z.columns[1]\n",
    "                            for z in mismeasured_z.columns[2:]:\n",
    "                                z_string = z_string + ' + ' + z\n",
    "                            # Create the predicted value of z1\n",
    "                            vars_['pred_z1'] = smf.ols(\"z1 ~ \" + z_string, data = mismeasured_z).fit().predict()\n",
    "                            iv_results = smf.ols(\"y ~ x + pred_z1 -1\", data = vars_).fit()\n",
    "                            iv_coef.append(iv_results.params[0])\n",
    "\n",
    "                            # True Results\n",
    "                            model_true = sm.OLS(vars_['y'],vars_[['x','true_z']])\n",
    "                            results_true = model_true.fit()\n",
    "                            true_val_coef.append(results_true.params[0])\n",
    "\n",
    "                            # Output Findings\n",
    "                            new_output = pd.DataFrame()\n",
    "                            new_output['mismeasured_coef'] = mismeasured_coef\n",
    "                            new_output['mismeasured_allvar_coef'] = mismeasured_allvar_coef\n",
    "                            new_output['mismeasured_avg_coef'] = mismeasured_avg_coef\n",
    "                            new_output['pca_coef'] = pca_coef\n",
    "                            new_output['true_val_coef'] = true_val_coef\n",
    "                            new_output['iv_coef'] = iv_coef\n",
    "                            new_output['covariance'] = vars_cov[0][1]\n",
    "                            new_output['beta1'] = beta1\n",
    "                            new_output['beta2'] = beta2\n",
    "                            new_output['p'] = p\n",
    "                            new_output['exp_of_var'] = exp_of_var\n",
    "                            output = output.append(new_output)\n",
    "\n",
    "output"
   ]
  },
  {
   "cell_type": "code",
   "execution_count": 85,
   "metadata": {},
   "outputs": [
    {
     "output_type": "execute_result",
     "data": {
      "text/plain": [
       "    mismeasured_coef  mismeasured_allvar_coef  mismeasured_avg_coef  \\\n",
       "0           0.399043                 0.286126              0.475065   \n",
       "0           0.375566                 0.277360              0.456796   \n",
       "0           0.366631                 0.193763              0.194784   \n",
       "0           0.394229                 0.188301              0.186376   \n",
       "0           1.022695                 1.018035              1.036367   \n",
       "..               ...                      ...                   ...   \n",
       "0           3.756241                 2.126662              2.132512   \n",
       "0          10.318776                10.219309             10.428650   \n",
       "0          10.304393                10.207344             10.392587   \n",
       "0          10.317509                10.165775             10.165579   \n",
       "0          10.283584                10.098531             10.098524   \n",
       "\n",
       "     pca_coef  true_val_coef    iv_coef  covariance  beta1  beta2  p  \\\n",
       "0    0.329801       0.081933   0.343144         0.5    0.1    1.0  5   \n",
       "0    0.301234       0.086412   0.328577         0.5    0.1    1.0  5   \n",
       "0    0.194833       0.086649   0.218756         0.5    0.1    1.0  5   \n",
       "0    0.187594       0.087697   0.200708         0.5    0.1    1.0  5   \n",
       "0    1.017710       0.984758   1.020303         0.5    1.0    0.1  5   \n",
       "..        ...            ...        ...         ...    ...    ... ..   \n",
       "0    2.134524       1.029810   2.361156         0.5    1.0   10.0  5   \n",
       "0   10.246406      10.029898  10.281943         0.5   10.0    1.0  5   \n",
       "0   10.234261      10.040918  10.267341         0.5   10.0    1.0  5   \n",
       "0   10.166668      10.062403  10.192212         0.5   10.0    1.0  5   \n",
       "0   10.099469       9.995795  10.120382         0.5   10.0    1.0  5   \n",
       "\n",
       "   exp_of_var  \n",
       "0         yes  \n",
       "0         yes  \n",
       "0          no  \n",
       "0          no  \n",
       "0         yes  \n",
       "..        ...  \n",
       "0          no  \n",
       "0         yes  \n",
       "0         yes  \n",
       "0          no  \n",
       "0          no  \n",
       "\n",
       "[44 rows x 11 columns]"
      ],
      "text/html": "<div>\n<style scoped>\n    .dataframe tbody tr th:only-of-type {\n        vertical-align: middle;\n    }\n\n    .dataframe tbody tr th {\n        vertical-align: top;\n    }\n\n    .dataframe thead th {\n        text-align: right;\n    }\n</style>\n<table border=\"1\" class=\"dataframe\">\n  <thead>\n    <tr style=\"text-align: right;\">\n      <th></th>\n      <th>mismeasured_coef</th>\n      <th>mismeasured_allvar_coef</th>\n      <th>mismeasured_avg_coef</th>\n      <th>pca_coef</th>\n      <th>true_val_coef</th>\n      <th>iv_coef</th>\n      <th>covariance</th>\n      <th>beta1</th>\n      <th>beta2</th>\n      <th>p</th>\n      <th>exp_of_var</th>\n    </tr>\n  </thead>\n  <tbody>\n    <tr>\n      <th>0</th>\n      <td>0.399043</td>\n      <td>0.286126</td>\n      <td>0.475065</td>\n      <td>0.329801</td>\n      <td>0.081933</td>\n      <td>0.343144</td>\n      <td>0.5</td>\n      <td>0.1</td>\n      <td>1.0</td>\n      <td>5</td>\n      <td>yes</td>\n    </tr>\n    <tr>\n      <th>0</th>\n      <td>0.375566</td>\n      <td>0.277360</td>\n      <td>0.456796</td>\n      <td>0.301234</td>\n      <td>0.086412</td>\n      <td>0.328577</td>\n      <td>0.5</td>\n      <td>0.1</td>\n      <td>1.0</td>\n      <td>5</td>\n      <td>yes</td>\n    </tr>\n    <tr>\n      <th>0</th>\n      <td>0.366631</td>\n      <td>0.193763</td>\n      <td>0.194784</td>\n      <td>0.194833</td>\n      <td>0.086649</td>\n      <td>0.218756</td>\n      <td>0.5</td>\n      <td>0.1</td>\n      <td>1.0</td>\n      <td>5</td>\n      <td>no</td>\n    </tr>\n    <tr>\n      <th>0</th>\n      <td>0.394229</td>\n      <td>0.188301</td>\n      <td>0.186376</td>\n      <td>0.187594</td>\n      <td>0.087697</td>\n      <td>0.200708</td>\n      <td>0.5</td>\n      <td>0.1</td>\n      <td>1.0</td>\n      <td>5</td>\n      <td>no</td>\n    </tr>\n    <tr>\n      <th>0</th>\n      <td>1.022695</td>\n      <td>1.018035</td>\n      <td>1.036367</td>\n      <td>1.017710</td>\n      <td>0.984758</td>\n      <td>1.020303</td>\n      <td>0.5</td>\n      <td>1.0</td>\n      <td>0.1</td>\n      <td>5</td>\n      <td>yes</td>\n    </tr>\n    <tr>\n      <th>...</th>\n      <td>...</td>\n      <td>...</td>\n      <td>...</td>\n      <td>...</td>\n      <td>...</td>\n      <td>...</td>\n      <td>...</td>\n      <td>...</td>\n      <td>...</td>\n      <td>...</td>\n      <td>...</td>\n    </tr>\n    <tr>\n      <th>0</th>\n      <td>3.756241</td>\n      <td>2.126662</td>\n      <td>2.132512</td>\n      <td>2.134524</td>\n      <td>1.029810</td>\n      <td>2.361156</td>\n      <td>0.5</td>\n      <td>1.0</td>\n      <td>10.0</td>\n      <td>5</td>\n      <td>no</td>\n    </tr>\n    <tr>\n      <th>0</th>\n      <td>10.318776</td>\n      <td>10.219309</td>\n      <td>10.428650</td>\n      <td>10.246406</td>\n      <td>10.029898</td>\n      <td>10.281943</td>\n      <td>0.5</td>\n      <td>10.0</td>\n      <td>1.0</td>\n      <td>5</td>\n      <td>yes</td>\n    </tr>\n    <tr>\n      <th>0</th>\n      <td>10.304393</td>\n      <td>10.207344</td>\n      <td>10.392587</td>\n      <td>10.234261</td>\n      <td>10.040918</td>\n      <td>10.267341</td>\n      <td>0.5</td>\n      <td>10.0</td>\n      <td>1.0</td>\n      <td>5</td>\n      <td>yes</td>\n    </tr>\n    <tr>\n      <th>0</th>\n      <td>10.317509</td>\n      <td>10.165775</td>\n      <td>10.165579</td>\n      <td>10.166668</td>\n      <td>10.062403</td>\n      <td>10.192212</td>\n      <td>0.5</td>\n      <td>10.0</td>\n      <td>1.0</td>\n      <td>5</td>\n      <td>no</td>\n    </tr>\n    <tr>\n      <th>0</th>\n      <td>10.283584</td>\n      <td>10.098531</td>\n      <td>10.098524</td>\n      <td>10.099469</td>\n      <td>9.995795</td>\n      <td>10.120382</td>\n      <td>0.5</td>\n      <td>10.0</td>\n      <td>1.0</td>\n      <td>5</td>\n      <td>no</td>\n    </tr>\n  </tbody>\n</table>\n<p>44 rows × 11 columns</p>\n</div>"
     },
     "metadata": {},
     "execution_count": 85
    }
   ],
   "source": [
    "output"
   ]
  },
  {
   "cell_type": "code",
   "execution_count": 86,
   "metadata": {},
   "outputs": [],
   "source": [
    "# Save raw coefficient results\n",
    "output.to_csv(output_dir + '/n_' + str(N) + '_results.csv')"
   ]
  },
  {
   "cell_type": "code",
   "execution_count": 87,
   "metadata": {},
   "outputs": [],
   "source": [
    "pd.set_option('display.max_rows', 10)"
   ]
  },
  {
   "cell_type": "code",
   "execution_count": 88,
   "metadata": {},
   "outputs": [],
   "source": [
    "output['pca_ape'] = (output['pca_coef'] - output['beta1']).abs()/output['beta1']\n",
    "output['mismeasured_coef_ape'] = (output['mismeasured_coef'] - output['beta1']).abs()/output['beta1']\n",
    "output['mismeasured_allvar_coef_ape'] = (output['mismeasured_allvar_coef'] - output['beta1']).abs()/output['beta1']\n",
    "output['mismeasured_avg_coef_ape'] = (output['mismeasured_avg_coef'] - output['beta1']).abs()/output['beta1']\n",
    "output['iv_coef_ape'] = (output['iv_coef'] - output['beta1']).abs()/output['beta1']"
   ]
  },
  {
   "cell_type": "code",
   "execution_count": 89,
   "metadata": {},
   "outputs": [
    {
     "output_type": "execute_result",
     "data": {
      "text/plain": [
       "    covariance  beta1  beta2  p exp_of_var  mismeasured_coef  \\\n",
       "0         -0.9    1.0    1.0  5         no          0.222996   \n",
       "1         -0.9    1.0    1.0  5        yes          0.240953   \n",
       "2         -0.5    1.0    1.0  5         no          0.704848   \n",
       "3         -0.5    1.0    1.0  5        yes          0.688289   \n",
       "4          0.0    1.0    1.0  5         no          1.026584   \n",
       "..         ...    ...    ... ..        ...               ...   \n",
       "17         0.5    1.0   10.0  5        yes          4.042376   \n",
       "18         0.5   10.0    1.0  5         no         10.300547   \n",
       "19         0.5   10.0    1.0  5        yes         10.311584   \n",
       "20         0.9    1.0    1.0  5         no          1.722288   \n",
       "21         0.9    1.0    1.0  5        yes          1.731175   \n",
       "\n",
       "    mismeasured_allvar_coef  mismeasured_avg_coef   pca_coef  true_val_coef  \\\n",
       "0                  0.502274              0.502976   0.502710       0.988012   \n",
       "1                  0.381684              0.154333   0.317234       0.986656   \n",
       "2                  0.888955              0.889908   0.889899       0.994405   \n",
       "3                  0.787294              0.623916   0.773750       0.969266   \n",
       "4                  1.017426              1.016822   1.016931       1.015957   \n",
       "..                      ...                   ...        ...            ...   \n",
       "17                 3.044577              4.937272   3.261862       0.958148   \n",
       "18                10.132153             10.132051  10.133068      10.029099   \n",
       "19                10.213327             10.410618  10.240334      10.035408   \n",
       "20                 1.433541              1.432780   1.434020       0.983394   \n",
       "21                 1.587780              1.812600   1.619115       0.987355   \n",
       "\n",
       "      iv_coef   pca_ape  mismeasured_coef_ape  mismeasured_allvar_coef_ape  \\\n",
       "0    0.456290  0.497290              0.777004                     0.497726   \n",
       "1    0.299647  0.682766              0.759047                     0.618316   \n",
       "2    0.868487  0.110101              0.295152                     0.111045   \n",
       "3    0.745506  0.226250              0.311711                     0.212706   \n",
       "4    1.014559  0.016931              0.026584                     0.017426   \n",
       "..        ...       ...                   ...                          ...   \n",
       "17   3.559375  2.261862              3.042376                     2.044577   \n",
       "18  10.156297  0.013307              0.030055                     0.013215   \n",
       "19  10.274642  0.024033              0.031158                     0.021333   \n",
       "20   1.498038  0.434020              0.722288                     0.433541   \n",
       "21   1.657197  0.619115              0.731175                     0.587780   \n",
       "\n",
       "    mismeasured_avg_coef_ape  iv_coef_ape  \n",
       "0                   0.497024     0.543710  \n",
       "1                   0.845667     0.700353  \n",
       "2                   0.110092     0.131513  \n",
       "3                   0.376084     0.254494  \n",
       "4                   0.016822     0.014559  \n",
       "..                       ...          ...  \n",
       "17                  3.937272     2.559375  \n",
       "18                  0.013205     0.015630  \n",
       "19                  0.041062     0.027464  \n",
       "20                  0.432780     0.498038  \n",
       "21                  0.812600     0.657197  \n",
       "\n",
       "[22 rows x 16 columns]"
      ],
      "text/html": "<div>\n<style scoped>\n    .dataframe tbody tr th:only-of-type {\n        vertical-align: middle;\n    }\n\n    .dataframe tbody tr th {\n        vertical-align: top;\n    }\n\n    .dataframe thead th {\n        text-align: right;\n    }\n</style>\n<table border=\"1\" class=\"dataframe\">\n  <thead>\n    <tr style=\"text-align: right;\">\n      <th></th>\n      <th>covariance</th>\n      <th>beta1</th>\n      <th>beta2</th>\n      <th>p</th>\n      <th>exp_of_var</th>\n      <th>mismeasured_coef</th>\n      <th>mismeasured_allvar_coef</th>\n      <th>mismeasured_avg_coef</th>\n      <th>pca_coef</th>\n      <th>true_val_coef</th>\n      <th>iv_coef</th>\n      <th>pca_ape</th>\n      <th>mismeasured_coef_ape</th>\n      <th>mismeasured_allvar_coef_ape</th>\n      <th>mismeasured_avg_coef_ape</th>\n      <th>iv_coef_ape</th>\n    </tr>\n  </thead>\n  <tbody>\n    <tr>\n      <th>0</th>\n      <td>-0.9</td>\n      <td>1.0</td>\n      <td>1.0</td>\n      <td>5</td>\n      <td>no</td>\n      <td>0.222996</td>\n      <td>0.502274</td>\n      <td>0.502976</td>\n      <td>0.502710</td>\n      <td>0.988012</td>\n      <td>0.456290</td>\n      <td>0.497290</td>\n      <td>0.777004</td>\n      <td>0.497726</td>\n      <td>0.497024</td>\n      <td>0.543710</td>\n    </tr>\n    <tr>\n      <th>1</th>\n      <td>-0.9</td>\n      <td>1.0</td>\n      <td>1.0</td>\n      <td>5</td>\n      <td>yes</td>\n      <td>0.240953</td>\n      <td>0.381684</td>\n      <td>0.154333</td>\n      <td>0.317234</td>\n      <td>0.986656</td>\n      <td>0.299647</td>\n      <td>0.682766</td>\n      <td>0.759047</td>\n      <td>0.618316</td>\n      <td>0.845667</td>\n      <td>0.700353</td>\n    </tr>\n    <tr>\n      <th>2</th>\n      <td>-0.5</td>\n      <td>1.0</td>\n      <td>1.0</td>\n      <td>5</td>\n      <td>no</td>\n      <td>0.704848</td>\n      <td>0.888955</td>\n      <td>0.889908</td>\n      <td>0.889899</td>\n      <td>0.994405</td>\n      <td>0.868487</td>\n      <td>0.110101</td>\n      <td>0.295152</td>\n      <td>0.111045</td>\n      <td>0.110092</td>\n      <td>0.131513</td>\n    </tr>\n    <tr>\n      <th>3</th>\n      <td>-0.5</td>\n      <td>1.0</td>\n      <td>1.0</td>\n      <td>5</td>\n      <td>yes</td>\n      <td>0.688289</td>\n      <td>0.787294</td>\n      <td>0.623916</td>\n      <td>0.773750</td>\n      <td>0.969266</td>\n      <td>0.745506</td>\n      <td>0.226250</td>\n      <td>0.311711</td>\n      <td>0.212706</td>\n      <td>0.376084</td>\n      <td>0.254494</td>\n    </tr>\n    <tr>\n      <th>4</th>\n      <td>0.0</td>\n      <td>1.0</td>\n      <td>1.0</td>\n      <td>5</td>\n      <td>no</td>\n      <td>1.026584</td>\n      <td>1.017426</td>\n      <td>1.016822</td>\n      <td>1.016931</td>\n      <td>1.015957</td>\n      <td>1.014559</td>\n      <td>0.016931</td>\n      <td>0.026584</td>\n      <td>0.017426</td>\n      <td>0.016822</td>\n      <td>0.014559</td>\n    </tr>\n    <tr>\n      <th>...</th>\n      <td>...</td>\n      <td>...</td>\n      <td>...</td>\n      <td>...</td>\n      <td>...</td>\n      <td>...</td>\n      <td>...</td>\n      <td>...</td>\n      <td>...</td>\n      <td>...</td>\n      <td>...</td>\n      <td>...</td>\n      <td>...</td>\n      <td>...</td>\n      <td>...</td>\n      <td>...</td>\n    </tr>\n    <tr>\n      <th>17</th>\n      <td>0.5</td>\n      <td>1.0</td>\n      <td>10.0</td>\n      <td>5</td>\n      <td>yes</td>\n      <td>4.042376</td>\n      <td>3.044577</td>\n      <td>4.937272</td>\n      <td>3.261862</td>\n      <td>0.958148</td>\n      <td>3.559375</td>\n      <td>2.261862</td>\n      <td>3.042376</td>\n      <td>2.044577</td>\n      <td>3.937272</td>\n      <td>2.559375</td>\n    </tr>\n    <tr>\n      <th>18</th>\n      <td>0.5</td>\n      <td>10.0</td>\n      <td>1.0</td>\n      <td>5</td>\n      <td>no</td>\n      <td>10.300547</td>\n      <td>10.132153</td>\n      <td>10.132051</td>\n      <td>10.133068</td>\n      <td>10.029099</td>\n      <td>10.156297</td>\n      <td>0.013307</td>\n      <td>0.030055</td>\n      <td>0.013215</td>\n      <td>0.013205</td>\n      <td>0.015630</td>\n    </tr>\n    <tr>\n      <th>19</th>\n      <td>0.5</td>\n      <td>10.0</td>\n      <td>1.0</td>\n      <td>5</td>\n      <td>yes</td>\n      <td>10.311584</td>\n      <td>10.213327</td>\n      <td>10.410618</td>\n      <td>10.240334</td>\n      <td>10.035408</td>\n      <td>10.274642</td>\n      <td>0.024033</td>\n      <td>0.031158</td>\n      <td>0.021333</td>\n      <td>0.041062</td>\n      <td>0.027464</td>\n    </tr>\n    <tr>\n      <th>20</th>\n      <td>0.9</td>\n      <td>1.0</td>\n      <td>1.0</td>\n      <td>5</td>\n      <td>no</td>\n      <td>1.722288</td>\n      <td>1.433541</td>\n      <td>1.432780</td>\n      <td>1.434020</td>\n      <td>0.983394</td>\n      <td>1.498038</td>\n      <td>0.434020</td>\n      <td>0.722288</td>\n      <td>0.433541</td>\n      <td>0.432780</td>\n      <td>0.498038</td>\n    </tr>\n    <tr>\n      <th>21</th>\n      <td>0.9</td>\n      <td>1.0</td>\n      <td>1.0</td>\n      <td>5</td>\n      <td>yes</td>\n      <td>1.731175</td>\n      <td>1.587780</td>\n      <td>1.812600</td>\n      <td>1.619115</td>\n      <td>0.987355</td>\n      <td>1.657197</td>\n      <td>0.619115</td>\n      <td>0.731175</td>\n      <td>0.587780</td>\n      <td>0.812600</td>\n      <td>0.657197</td>\n    </tr>\n  </tbody>\n</table>\n<p>22 rows × 16 columns</p>\n</div>"
     },
     "metadata": {},
     "execution_count": 89
    }
   ],
   "source": [
    "output.groupby(['covariance','beta1','beta2','p','exp_of_var']).mean().reset_index()"
   ]
  },
  {
   "cell_type": "code",
   "execution_count": 90,
   "metadata": {},
   "outputs": [
    {
     "output_type": "execute_result",
     "data": {
      "text/plain": [
       "    covariance  beta1  beta2  p exp_of_var  mismeasured_coef  \\\n",
       "0         -0.9    1.0    1.0  5         no          0.016439   \n",
       "1         -0.9    1.0    1.0  5        yes          0.013570   \n",
       "2         -0.5    1.0    1.0  5         no          0.021707   \n",
       "3         -0.5    1.0    1.0  5        yes          0.010554   \n",
       "4          0.0    1.0    1.0  5         no          0.000094   \n",
       "..         ...    ...    ... ..        ...               ...   \n",
       "17         0.5    1.0   10.0  5        yes          0.117534   \n",
       "18         0.5   10.0    1.0  5         no          0.023988   \n",
       "19         0.5   10.0    1.0  5        yes          0.010170   \n",
       "20         0.9    1.0    1.0  5         no          0.066744   \n",
       "21         0.9    1.0    1.0  5        yes          0.031431   \n",
       "\n",
       "    mismeasured_allvar_coef  mismeasured_avg_coef  pca_coef  true_val_coef  \\\n",
       "0                  0.041968              0.039979  0.039979       0.047932   \n",
       "1                  0.017160              0.035227  0.041469       0.039633   \n",
       "2                  0.003510              0.003885  0.004036       0.012563   \n",
       "3                  0.016204              0.021724  0.024413       0.004051   \n",
       "4                  0.003012              0.004599  0.004694       0.004233   \n",
       "..                      ...                   ...       ...            ...   \n",
       "17                 0.165531              0.237109  0.356652       0.044486   \n",
       "18                 0.047549              0.047415  0.047517       0.047099   \n",
       "19                 0.008460              0.025501  0.008588       0.007792   \n",
       "20                 0.048352              0.048160  0.049338       0.005570   \n",
       "21                 0.021546              0.010074  0.011792       0.009994   \n",
       "\n",
       "     iv_coef   pca_ape  mismeasured_coef_ape  mismeasured_allvar_coef_ape  \\\n",
       "0   0.060905  0.039979              0.016439                     0.041968   \n",
       "1   0.026073  0.041469              0.013570                     0.017160   \n",
       "2   0.003923  0.004036              0.021707                     0.003510   \n",
       "3   0.027991  0.024413              0.010554                     0.016204   \n",
       "4   0.012182  0.004694              0.000094                     0.003012   \n",
       "..       ...       ...                   ...                          ...   \n",
       "17  0.271046  0.356652              0.117534                     0.165531   \n",
       "18  0.050792  0.004752              0.002399                     0.004755   \n",
       "19  0.010326  0.000859              0.001017                     0.000846   \n",
       "20  0.035276  0.049338              0.066744                     0.048352   \n",
       "21  0.007988  0.011792              0.031431                     0.021546   \n",
       "\n",
       "    mismeasured_avg_coef_ape  iv_coef_ape  \n",
       "0                   0.039979     0.060905  \n",
       "1                   0.035227     0.026073  \n",
       "2                   0.003885     0.003923  \n",
       "3                   0.021724     0.027991  \n",
       "4                   0.004599     0.012182  \n",
       "..                       ...          ...  \n",
       "17                  0.237109     0.271046  \n",
       "18                  0.004742     0.005079  \n",
       "19                  0.002550     0.001033  \n",
       "20                  0.048160     0.035276  \n",
       "21                  0.010074     0.007988  \n",
       "\n",
       "[22 rows x 16 columns]"
      ],
      "text/html": "<div>\n<style scoped>\n    .dataframe tbody tr th:only-of-type {\n        vertical-align: middle;\n    }\n\n    .dataframe tbody tr th {\n        vertical-align: top;\n    }\n\n    .dataframe thead th {\n        text-align: right;\n    }\n</style>\n<table border=\"1\" class=\"dataframe\">\n  <thead>\n    <tr style=\"text-align: right;\">\n      <th></th>\n      <th>covariance</th>\n      <th>beta1</th>\n      <th>beta2</th>\n      <th>p</th>\n      <th>exp_of_var</th>\n      <th>mismeasured_coef</th>\n      <th>mismeasured_allvar_coef</th>\n      <th>mismeasured_avg_coef</th>\n      <th>pca_coef</th>\n      <th>true_val_coef</th>\n      <th>iv_coef</th>\n      <th>pca_ape</th>\n      <th>mismeasured_coef_ape</th>\n      <th>mismeasured_allvar_coef_ape</th>\n      <th>mismeasured_avg_coef_ape</th>\n      <th>iv_coef_ape</th>\n    </tr>\n  </thead>\n  <tbody>\n    <tr>\n      <th>0</th>\n      <td>-0.9</td>\n      <td>1.0</td>\n      <td>1.0</td>\n      <td>5</td>\n      <td>no</td>\n      <td>0.016439</td>\n      <td>0.041968</td>\n      <td>0.039979</td>\n      <td>0.039979</td>\n      <td>0.047932</td>\n      <td>0.060905</td>\n      <td>0.039979</td>\n      <td>0.016439</td>\n      <td>0.041968</td>\n      <td>0.039979</td>\n      <td>0.060905</td>\n    </tr>\n    <tr>\n      <th>1</th>\n      <td>-0.9</td>\n      <td>1.0</td>\n      <td>1.0</td>\n      <td>5</td>\n      <td>yes</td>\n      <td>0.013570</td>\n      <td>0.017160</td>\n      <td>0.035227</td>\n      <td>0.041469</td>\n      <td>0.039633</td>\n      <td>0.026073</td>\n      <td>0.041469</td>\n      <td>0.013570</td>\n      <td>0.017160</td>\n      <td>0.035227</td>\n      <td>0.026073</td>\n    </tr>\n    <tr>\n      <th>2</th>\n      <td>-0.5</td>\n      <td>1.0</td>\n      <td>1.0</td>\n      <td>5</td>\n      <td>no</td>\n      <td>0.021707</td>\n      <td>0.003510</td>\n      <td>0.003885</td>\n      <td>0.004036</td>\n      <td>0.012563</td>\n      <td>0.003923</td>\n      <td>0.004036</td>\n      <td>0.021707</td>\n      <td>0.003510</td>\n      <td>0.003885</td>\n      <td>0.003923</td>\n    </tr>\n    <tr>\n      <th>3</th>\n      <td>-0.5</td>\n      <td>1.0</td>\n      <td>1.0</td>\n      <td>5</td>\n      <td>yes</td>\n      <td>0.010554</td>\n      <td>0.016204</td>\n      <td>0.021724</td>\n      <td>0.024413</td>\n      <td>0.004051</td>\n      <td>0.027991</td>\n      <td>0.024413</td>\n      <td>0.010554</td>\n      <td>0.016204</td>\n      <td>0.021724</td>\n      <td>0.027991</td>\n    </tr>\n    <tr>\n      <th>4</th>\n      <td>0.0</td>\n      <td>1.0</td>\n      <td>1.0</td>\n      <td>5</td>\n      <td>no</td>\n      <td>0.000094</td>\n      <td>0.003012</td>\n      <td>0.004599</td>\n      <td>0.004694</td>\n      <td>0.004233</td>\n      <td>0.012182</td>\n      <td>0.004694</td>\n      <td>0.000094</td>\n      <td>0.003012</td>\n      <td>0.004599</td>\n      <td>0.012182</td>\n    </tr>\n    <tr>\n      <th>...</th>\n      <td>...</td>\n      <td>...</td>\n      <td>...</td>\n      <td>...</td>\n      <td>...</td>\n      <td>...</td>\n      <td>...</td>\n      <td>...</td>\n      <td>...</td>\n      <td>...</td>\n      <td>...</td>\n      <td>...</td>\n      <td>...</td>\n      <td>...</td>\n      <td>...</td>\n      <td>...</td>\n    </tr>\n    <tr>\n      <th>17</th>\n      <td>0.5</td>\n      <td>1.0</td>\n      <td>10.0</td>\n      <td>5</td>\n      <td>yes</td>\n      <td>0.117534</td>\n      <td>0.165531</td>\n      <td>0.237109</td>\n      <td>0.356652</td>\n      <td>0.044486</td>\n      <td>0.271046</td>\n      <td>0.356652</td>\n      <td>0.117534</td>\n      <td>0.165531</td>\n      <td>0.237109</td>\n      <td>0.271046</td>\n    </tr>\n    <tr>\n      <th>18</th>\n      <td>0.5</td>\n      <td>10.0</td>\n      <td>1.0</td>\n      <td>5</td>\n      <td>no</td>\n      <td>0.023988</td>\n      <td>0.047549</td>\n      <td>0.047415</td>\n      <td>0.047517</td>\n      <td>0.047099</td>\n      <td>0.050792</td>\n      <td>0.004752</td>\n      <td>0.002399</td>\n      <td>0.004755</td>\n      <td>0.004742</td>\n      <td>0.005079</td>\n    </tr>\n    <tr>\n      <th>19</th>\n      <td>0.5</td>\n      <td>10.0</td>\n      <td>1.0</td>\n      <td>5</td>\n      <td>yes</td>\n      <td>0.010170</td>\n      <td>0.008460</td>\n      <td>0.025501</td>\n      <td>0.008588</td>\n      <td>0.007792</td>\n      <td>0.010326</td>\n      <td>0.000859</td>\n      <td>0.001017</td>\n      <td>0.000846</td>\n      <td>0.002550</td>\n      <td>0.001033</td>\n    </tr>\n    <tr>\n      <th>20</th>\n      <td>0.9</td>\n      <td>1.0</td>\n      <td>1.0</td>\n      <td>5</td>\n      <td>no</td>\n      <td>0.066744</td>\n      <td>0.048352</td>\n      <td>0.048160</td>\n      <td>0.049338</td>\n      <td>0.005570</td>\n      <td>0.035276</td>\n      <td>0.049338</td>\n      <td>0.066744</td>\n      <td>0.048352</td>\n      <td>0.048160</td>\n      <td>0.035276</td>\n    </tr>\n    <tr>\n      <th>21</th>\n      <td>0.9</td>\n      <td>1.0</td>\n      <td>1.0</td>\n      <td>5</td>\n      <td>yes</td>\n      <td>0.031431</td>\n      <td>0.021546</td>\n      <td>0.010074</td>\n      <td>0.011792</td>\n      <td>0.009994</td>\n      <td>0.007988</td>\n      <td>0.011792</td>\n      <td>0.031431</td>\n      <td>0.021546</td>\n      <td>0.010074</td>\n      <td>0.007988</td>\n    </tr>\n  </tbody>\n</table>\n<p>22 rows × 16 columns</p>\n</div>"
     },
     "metadata": {},
     "execution_count": 90
    }
   ],
   "source": [
    "output.groupby(['covariance','beta1','beta2','p','exp_of_var']).std().reset_index()"
   ]
  },
  {
   "source": [
    "Code to produce LaTeX tables:"
   ],
   "cell_type": "markdown",
   "metadata": {}
  },
  {
   "cell_type": "code",
   "execution_count": 91,
   "metadata": {},
   "outputs": [],
   "source": [
    "# Helper functions for formatting latex output\n",
    "def std_parenth_padder(type_col, col_to_pad):\n",
    "    if type_col == 'std':\n",
    "        return('(' + col_to_pad + ')')\n",
    "    else:\n",
    "        return(col_to_pad)\n",
    "\n",
    "def format_level_0(type_col, col_to_format):\n",
    "    if type_col == 'std':\n",
    "        return('')\n",
    "    else:\n",
    "        return(col_to_format)"
   ]
  },
  {
   "cell_type": "code",
   "execution_count": 92,
   "metadata": {},
   "outputs": [],
   "source": [
    "# Pass this function a pandas dataframe of which to create the LaTeX file\n",
    "# dataframe is the df\n",
    "# filename is the save location\n",
    "# index tells if you want the index saved to the file or not\n",
    "def Minimal_Latex(dataframe, filename, index = False):\n",
    "\n",
    "    # Open file\n",
    "    with open(filename, \"w\") as f:\n",
    "        \n",
    "        # Start from the pandas\n",
    "        corrected_table = dataframe.to_latex(header = False, index = index)\n",
    "\n",
    "        # Strip all material that pandas inserts- the tabular environment and toprule and bottomrule\n",
    "        corrected_table = re.sub(r'\\\\begin.+', '', corrected_table)\n",
    "        corrected_table = re.sub(r'\\\\toprule', '', corrected_table)\n",
    "        corrected_table = re.sub(r'\\\\bottomrule', '', corrected_table)\n",
    "        corrected_table = re.sub(r'\\\\end.+', '', corrected_table)\n",
    "\n",
    "        # Write to file and skip blank lines\n",
    "        f.write(corrected_table.strip())"
   ]
  },
  {
   "cell_type": "code",
   "execution_count": 93,
   "metadata": {},
   "outputs": [],
   "source": [
    "coef_names_mapper = {'mismeasured_coef':'Single Measurement', 'mismeasured_allvar_coef':'All Measurements', 'pca_coef':'PCA', 'mismeasured_avg_coef':'Average of Measurements', 'iv_coef':'Instrumental Variable'}\n",
    "ape_names_mapper = {'mismeasured_coef_ape':'Single Measurement', 'mismeasured_allvar_coef_ape':'All Measurements', 'pca_ape':'PCA', 'mismeasured_avg_coef_ape':'Average of Measurements', 'iv_coef_ape':'Instrumental Variable'}"
   ]
  },
  {
   "cell_type": "code",
   "execution_count": 94,
   "metadata": {},
   "outputs": [],
   "source": [
    "all_params = ['beta1', 'beta2', 'covariance', 'p']\n",
    "pd.set_option('display.max_rows', 25)\n",
    "\n",
    "def make_param_tables(dataframe, parameter, exp):\n",
    "\n",
    "    if parameter != 'beta1':\n",
    "        dataframe = dataframe.loc[(dataframe['beta1']==1)]\n",
    "    if parameter != 'beta2':\n",
    "        dataframe = dataframe.loc[(dataframe['beta2']==1)]\n",
    "    if parameter != 'covariance':\n",
    "        dataframe = dataframe.loc[(dataframe['covariance']==0.5)]\n",
    "    if parameter != 'p':\n",
    "        dataframe = dataframe.loc[(dataframe['p']==5)]\n",
    "    dataframe = dataframe.loc[(dataframe['exp_of_var']==exp)]\n",
    "\n",
    "    exp_mapper = {'yes':'exp', 'no':'no_exp'}\n",
    "\n",
    "    dataframe = (dataframe.drop(columns = [variable for variable in all_params if variable != parameter])\n",
    "                          .groupby(parameter)\n",
    "                          .agg(['mean', 'std'])\n",
    "                          .transpose()\n",
    "                          .reset_index())\n",
    "\n",
    "    print(dataframe)\n",
    "\n",
    "    dataframe.columns = dataframe.columns.map(str)\n",
    "\n",
    "    dataframe_coefs = (dataframe.query('level_0.str.contains(\"coef\")')\n",
    "                                .query('level_0 != \"true_val_coef\"')\n",
    "                                .query('not level_0.str.contains(\"ape\")')\n",
    "                                .round(3)\n",
    "                                .astype(str))\n",
    "\n",
    "    for variable in dataframe_coefs.columns:\n",
    "        if variable != 'level_0' and variable != 'level_1':\n",
    "            dataframe_coefs[variable] = dataframe_coefs.apply(lambda x: std_parenth_padder(x['level_1'], x[variable]), axis = 1)\n",
    "\n",
    "    dataframe_coefs['level_0'] = dataframe_coefs.apply(lambda x: format_level_0(x.level_1, x.level_0), axis = 1)\n",
    "\n",
    "    dataframe_coefs = (dataframe_coefs.drop(columns = 'level_1')\n",
    "                                    .replace(coef_names_mapper))\n",
    "\n",
    "    Minimal_Latex(dataframe_coefs, tables_dir + '/' + parameter + '_coefs_' + exp_mapper[exp] + '.tex')\n",
    "\n",
    "    dataframe_apes = (dataframe.query('level_0.str.contains(\"ape\")')\n",
    "                           .query('level_1 != \"std\"')\n",
    "                           .drop(columns = 'level_1')\n",
    "                           .replace(ape_names_mapper)\n",
    "                           .set_index('level_0')\n",
    "                           .multiply(100)\n",
    "                           .round(1)\n",
    "                           .astype(str)\n",
    "                           .add('%')\n",
    "                           .reset_index())\n",
    "\n",
    "    Minimal_Latex(dataframe_apes, tables_dir + '/' + parameter + '_apes_' + exp_mapper[exp] + '.tex')"
   ]
  },
  {
   "cell_type": "code",
   "execution_count": 95,
   "metadata": {},
   "outputs": [
    {
     "output_type": "stream",
     "name": "stdout",
     "text": [
      "p                       level_0 level_1         5        20        50\n0              mismeasured_coef    mean  1.304818  1.293894  1.300616\n1              mismeasured_coef     std  0.018599  0.024976  0.034458\n2       mismeasured_allvar_coef    mean  1.199485  1.042214  1.037500\n3       mismeasured_allvar_coef     std  0.014301  0.015179  0.050136\n4          mismeasured_avg_coef    mean  1.384074  1.311454  1.301181\n5          mismeasured_avg_coef     std  0.025432  0.015345  0.048022\n6                      pca_coef    mean  1.219254  1.072315  1.070803\n7                      pca_coef     std  0.018575  0.001048  0.050646\n8                 true_val_coef    mean  1.022568  0.972731  1.012342\n9                 true_val_coef     std  0.024299  0.023804  0.045547\n10                      iv_coef    mean  1.251276  1.051129  1.056732\n11                      iv_coef     std  0.009356  0.012565  0.046140\n12                      pca_ape    mean  0.219254  0.072315  0.070803\n13                      pca_ape     std  0.018575  0.001048  0.050646\n14         mismeasured_coef_ape    mean  0.304818  0.293894  0.300616\n15         mismeasured_coef_ape     std  0.018599  0.024976  0.034458\n16  mismeasured_allvar_coef_ape    mean  0.199485  0.042214  0.037500\n17  mismeasured_allvar_coef_ape     std  0.014301  0.015179  0.050136\n18     mismeasured_avg_coef_ape    mean  0.384074  0.311454  0.301181\n19     mismeasured_avg_coef_ape     std  0.025432  0.015345  0.048022\n20                  iv_coef_ape    mean  0.251276  0.051129  0.056732\n21                  iv_coef_ape     std  0.009356  0.012565  0.046140\n"
     ]
    }
   ],
   "source": [
    "make_param_tables(output, 'p', 'yes')"
   ]
  },
  {
   "cell_type": "code",
   "execution_count": 96,
   "metadata": {},
   "outputs": [
    {
     "output_type": "stream",
     "name": "stdout",
     "text": [
      "p                       level_0 level_1         5        20        50\n0              mismeasured_coef    mean  1.283782  1.307299  1.292297\n1              mismeasured_coef     std  0.020089  0.021994  0.020919\n2       mismeasured_allvar_coef    mean  1.095431  1.053843  1.032973\n3       mismeasured_allvar_coef     std  0.005443  0.024190  0.015546\n4          mismeasured_avg_coef    mean  1.094623  1.051592  1.030931\n5          mismeasured_avg_coef     std  0.005809  0.027160  0.017029\n6                      pca_coef    mean  1.095827  1.052295  1.031454\n7                      pca_coef     std  0.007616  0.025948  0.016926\n8                 true_val_coef    mean  0.989000  1.015812  1.018516\n9                 true_val_coef     std  0.016092  0.028610  0.015462\n10                      iv_coef    mean  1.113225  1.057822  1.043356\n11                      iv_coef     std  0.009591  0.031210  0.012600\n12                      pca_ape    mean  0.095827  0.052295  0.031454\n13                      pca_ape     std  0.007616  0.025948  0.016926\n14         mismeasured_coef_ape    mean  0.283782  0.307299  0.292297\n15         mismeasured_coef_ape     std  0.020089  0.021994  0.020919\n16  mismeasured_allvar_coef_ape    mean  0.095431  0.053843  0.032973\n17  mismeasured_allvar_coef_ape     std  0.005443  0.024190  0.015546\n18     mismeasured_avg_coef_ape    mean  0.094623  0.051592  0.030931\n19     mismeasured_avg_coef_ape     std  0.005809  0.027160  0.017029\n20                  iv_coef_ape    mean  0.113225  0.057822  0.043356\n21                  iv_coef_ape     std  0.009591  0.031210  0.012600\n"
     ]
    }
   ],
   "source": [
    "make_param_tables(output, 'p', 'no')"
   ]
  },
  {
   "cell_type": "code",
   "execution_count": 97,
   "metadata": {},
   "outputs": [
    {
     "output_type": "stream",
     "name": "stdout",
     "text": [
      "covariance                      level_0 level_1      -0.9      -0.5       0.0  \\\n0                      mismeasured_coef    mean  0.240953  0.688289  1.010109   \n1                      mismeasured_coef     std  0.013570  0.010554  0.029335   \n2               mismeasured_allvar_coef    mean  0.381684  0.787294  1.007035   \n3               mismeasured_allvar_coef     std  0.017160  0.016204  0.016613   \n4                  mismeasured_avg_coef    mean  0.154333  0.623916  0.997804   \n5                  mismeasured_avg_coef     std  0.035227  0.021724  0.031771   \n6                              pca_coef    mean  0.317234  0.773750  0.996676   \n7                              pca_coef     std  0.041469  0.024413  0.020028   \n8                         true_val_coef    mean  0.986656  0.969266  1.001035   \n9                         true_val_coef     std  0.039633  0.004051  0.007195   \n10                              iv_coef    mean  0.299647  0.745506  0.995683   \n11                              iv_coef     std  0.026073  0.027991  0.011766   \n12                              pca_ape    mean  0.682766  0.226250  0.014162   \n13                              pca_ape     std  0.041469  0.024413  0.004701   \n14                 mismeasured_coef_ape    mean  0.759047  0.311711  0.020743   \n15                 mismeasured_coef_ape     std  0.013570  0.010554  0.014297   \n16          mismeasured_allvar_coef_ape    mean  0.618316  0.212706  0.011747   \n17          mismeasured_allvar_coef_ape     std  0.017160  0.016204  0.009949   \n18             mismeasured_avg_coef_ape    mean  0.845667  0.376084  0.022465   \n19             mismeasured_avg_coef_ape     std  0.035227  0.021724  0.003105   \n20                          iv_coef_ape    mean  0.700353  0.254494  0.008320   \n21                          iv_coef_ape     std  0.026073  0.027991  0.006104   \n\ncovariance       0.5       0.9  \n0           1.304818  1.731175  \n1           0.018599  0.031431  \n2           1.199485  1.587780  \n3           0.014301  0.021546  \n4           1.384074  1.812600  \n5           0.025432  0.010074  \n6           1.219254  1.619115  \n7           0.018575  0.011792  \n8           1.022568  0.987355  \n9           0.024299  0.009994  \n10          1.251276  1.657197  \n11          0.009356  0.007988  \n12          0.219254  0.619115  \n13          0.018575  0.011792  \n14          0.304818  0.731175  \n15          0.018599  0.031431  \n16          0.199485  0.587780  \n17          0.014301  0.021546  \n18          0.384074  0.812600  \n19          0.025432  0.010074  \n20          0.251276  0.657197  \n21          0.009356  0.007988  \n"
     ]
    }
   ],
   "source": [
    "make_param_tables(output, 'covariance', 'yes')"
   ]
  },
  {
   "cell_type": "code",
   "execution_count": 98,
   "metadata": {},
   "outputs": [
    {
     "output_type": "stream",
     "name": "stdout",
     "text": [
      "covariance                      level_0 level_1      -0.9      -0.5       0.0  \\\n0                      mismeasured_coef    mean  0.222996  0.704848  1.026584   \n1                      mismeasured_coef     std  0.016439  0.021707  0.000094   \n2               mismeasured_allvar_coef    mean  0.502274  0.888955  1.017426   \n3               mismeasured_allvar_coef     std  0.041968  0.003510  0.003012   \n4                  mismeasured_avg_coef    mean  0.502976  0.889908  1.016822   \n5                  mismeasured_avg_coef     std  0.039979  0.003885  0.004599   \n6                              pca_coef    mean  0.502710  0.889899  1.016931   \n7                              pca_coef     std  0.039979  0.004036  0.004694   \n8                         true_val_coef    mean  0.988012  0.994405  1.015957   \n9                         true_val_coef     std  0.047932  0.012563  0.004233   \n10                              iv_coef    mean  0.456290  0.868487  1.014559   \n11                              iv_coef     std  0.060905  0.003923  0.012182   \n12                              pca_ape    mean  0.497290  0.110101  0.016931   \n13                              pca_ape     std  0.039979  0.004036  0.004694   \n14                 mismeasured_coef_ape    mean  0.777004  0.295152  0.026584   \n15                 mismeasured_coef_ape     std  0.016439  0.021707  0.000094   \n16          mismeasured_allvar_coef_ape    mean  0.497726  0.111045  0.017426   \n17          mismeasured_allvar_coef_ape     std  0.041968  0.003510  0.003012   \n18             mismeasured_avg_coef_ape    mean  0.497024  0.110092  0.016822   \n19             mismeasured_avg_coef_ape     std  0.039979  0.003885  0.004599   \n20                          iv_coef_ape    mean  0.543710  0.131513  0.014559   \n21                          iv_coef_ape     std  0.060905  0.003923  0.012182   \n\ncovariance       0.5       0.9  \n0           1.283782  1.722288  \n1           0.020089  0.066744  \n2           1.095431  1.433541  \n3           0.005443  0.048352  \n4           1.094623  1.432780  \n5           0.005809  0.048160  \n6           1.095827  1.434020  \n7           0.007616  0.049338  \n8           0.989000  0.983394  \n9           0.016092  0.005570  \n10          1.113225  1.498038  \n11          0.009591  0.035276  \n12          0.095827  0.434020  \n13          0.007616  0.049338  \n14          0.283782  0.722288  \n15          0.020089  0.066744  \n16          0.095431  0.433541  \n17          0.005443  0.048352  \n18          0.094623  0.432780  \n19          0.005809  0.048160  \n20          0.113225  0.498038  \n21          0.009591  0.035276  \n"
     ]
    }
   ],
   "source": [
    "make_param_tables(output, 'covariance', 'no')"
   ]
  },
  {
   "cell_type": "code",
   "execution_count": 99,
   "metadata": {},
   "outputs": [
    {
     "output_type": "stream",
     "name": "stdout",
     "text": [
      "beta1                      level_0 level_1       0.1       1.0       10.0\n0                 mismeasured_coef    mean  0.387305  1.304818  10.311584\n1                 mismeasured_coef     std  0.016600  0.018599   0.010170\n2          mismeasured_allvar_coef    mean  0.281743  1.199485  10.213327\n3          mismeasured_allvar_coef     std  0.006199  0.014301   0.008460\n4             mismeasured_avg_coef    mean  0.465930  1.384074  10.410618\n5             mismeasured_avg_coef     std  0.012918  0.025432   0.025501\n6                         pca_coef    mean  0.315518  1.219254  10.240334\n7                         pca_coef     std  0.020200  0.018575   0.008588\n8                    true_val_coef    mean  0.084172  1.022568  10.035408\n9                    true_val_coef     std  0.003167  0.024299   0.007792\n10                         iv_coef    mean  0.335861  1.251276  10.274642\n11                         iv_coef     std  0.010300  0.009356   0.010326\n12                         pca_ape    mean  2.155178  0.219254   0.024033\n13                         pca_ape     std  0.201997  0.018575   0.000859\n14            mismeasured_coef_ape    mean  2.873047  0.304818   0.031158\n15            mismeasured_coef_ape     std  0.166004  0.018599   0.001017\n16     mismeasured_allvar_coef_ape    mean  1.817428  0.199485   0.021333\n17     mismeasured_allvar_coef_ape     std  0.061988  0.014301   0.000846\n18        mismeasured_avg_coef_ape    mean  3.659304  0.384074   0.041062\n19        mismeasured_avg_coef_ape     std  0.129177  0.025432   0.002550\n20                     iv_coef_ape    mean  2.358606  0.251276   0.027464\n21                     iv_coef_ape     std  0.103000  0.009356   0.001033\n"
     ]
    }
   ],
   "source": [
    "make_param_tables(output, 'beta1', 'yes')"
   ]
  },
  {
   "cell_type": "code",
   "execution_count": 100,
   "metadata": {},
   "outputs": [
    {
     "output_type": "stream",
     "name": "stdout",
     "text": [
      "beta1                      level_0 level_1       0.1       1.0       10.0\n0                 mismeasured_coef    mean  0.380430  1.283782  10.300547\n1                 mismeasured_coef     std  0.019515  0.020089   0.023988\n2          mismeasured_allvar_coef    mean  0.191032  1.095431  10.132153\n3          mismeasured_allvar_coef     std  0.003863  0.005443   0.047549\n4             mismeasured_avg_coef    mean  0.190580  1.094623  10.132051\n5             mismeasured_avg_coef     std  0.005945  0.005809   0.047415\n6                         pca_coef    mean  0.191213  1.095827  10.133068\n7                         pca_coef     std  0.005118  0.007616   0.047517\n8                    true_val_coef    mean  0.087173  0.989000  10.029099\n9                    true_val_coef     std  0.000741  0.016092   0.047099\n10                         iv_coef    mean  0.209732  1.113225  10.156297\n11                         iv_coef     std  0.012762  0.009591   0.050792\n12                         pca_ape    mean  0.912134  0.095827   0.013307\n13                         pca_ape     std  0.051184  0.007616   0.004752\n14            mismeasured_coef_ape    mean  2.804302  0.283782   0.030055\n15            mismeasured_coef_ape     std  0.195145  0.020089   0.002399\n16     mismeasured_allvar_coef_ape    mean  0.910320  0.095431   0.013215\n17     mismeasured_allvar_coef_ape     std  0.038626  0.005443   0.004755\n18        mismeasured_avg_coef_ape    mean  0.905804  0.094623   0.013205\n19        mismeasured_avg_coef_ape     std  0.059453  0.005809   0.004742\n20                     iv_coef_ape    mean  1.097322  0.113225   0.015630\n21                     iv_coef_ape     std  0.127621  0.009591   0.005079\n"
     ]
    }
   ],
   "source": [
    "make_param_tables(output, 'beta1', 'no')"
   ]
  },
  {
   "cell_type": "code",
   "execution_count": 101,
   "metadata": {},
   "outputs": [
    {
     "output_type": "stream",
     "name": "stdout",
     "text": [
      "beta2                      level_0 level_1       0.1       1.0      10.0\n0                 mismeasured_coef    mean  1.034228  1.304818  4.042376\n1                 mismeasured_coef     std  0.016310  0.018599  0.117534\n2          mismeasured_allvar_coef    mean  1.023676  1.199485  3.044577\n3          mismeasured_allvar_coef     std  0.007979  0.014301  0.165531\n4             mismeasured_avg_coef    mean  1.038485  1.384074  4.937272\n5             mismeasured_avg_coef     std  0.002995  0.025432  0.237109\n6                         pca_coef    mean  1.024085  1.219254  3.261862\n7                         pca_coef     std  0.009015  0.018575  0.356652\n8                    true_val_coef    mean  0.997369  1.022568  0.958148\n9                    true_val_coef     std  0.017835  0.024299  0.044486\n10                         iv_coef    mean  1.024096  1.251276  3.559375\n11                         iv_coef     std  0.005365  0.009356  0.271046\n12                         pca_ape    mean  0.024085  0.219254  2.261862\n13                         pca_ape     std  0.009015  0.018575  0.356652\n14            mismeasured_coef_ape    mean  0.034228  0.304818  3.042376\n15            mismeasured_coef_ape     std  0.016310  0.018599  0.117534\n16     mismeasured_allvar_coef_ape    mean  0.023676  0.199485  2.044577\n17     mismeasured_allvar_coef_ape     std  0.007979  0.014301  0.165531\n18        mismeasured_avg_coef_ape    mean  0.038485  0.384074  3.937272\n19        mismeasured_avg_coef_ape     std  0.002995  0.025432  0.237109\n20                     iv_coef_ape    mean  0.024096  0.251276  2.559375\n21                     iv_coef_ape     std  0.005365  0.009356  0.271046\n"
     ]
    }
   ],
   "source": [
    "make_param_tables(output, 'beta2', 'yes')"
   ]
  },
  {
   "cell_type": "code",
   "execution_count": 102,
   "metadata": {},
   "outputs": [
    {
     "output_type": "stream",
     "name": "stdout",
     "text": [
      "beta2                      level_0 level_1       0.1       1.0      10.0\n0                 mismeasured_coef    mean  1.039640  1.283782  3.841934\n1                 mismeasured_coef     std  0.019253  0.020089  0.121188\n2          mismeasured_allvar_coef    mean  1.027920  1.095431  2.140967\n3          mismeasured_allvar_coef     std  0.009790  0.005443  0.020231\n4             mismeasured_avg_coef    mean  1.026798  1.094623  2.143712\n5             mismeasured_avg_coef     std  0.009160  0.005809  0.015839\n6                         pca_coef    mean  1.027326  1.095827  2.146168\n7                         pca_coef     std  0.009594  0.007616  0.016466\n8                    true_val_coef    mean  1.020012  0.989000  1.000569\n9                    true_val_coef     std  0.010127  0.016092  0.041354\n10                         iv_coef    mean  1.029599  1.113225  2.344797\n11                         iv_coef     std  0.011325  0.009591  0.023136\n12                         pca_ape    mean  0.027326  0.095827  1.146168\n13                         pca_ape     std  0.009594  0.007616  0.016466\n14            mismeasured_coef_ape    mean  0.039640  0.283782  2.841934\n15            mismeasured_coef_ape     std  0.019253  0.020089  0.121188\n16     mismeasured_allvar_coef_ape    mean  0.027920  0.095431  1.140967\n17     mismeasured_allvar_coef_ape     std  0.009790  0.005443  0.020231\n18        mismeasured_avg_coef_ape    mean  0.026798  0.094623  1.143712\n19        mismeasured_avg_coef_ape     std  0.009160  0.005809  0.015839\n20                     iv_coef_ape    mean  0.029599  0.113225  1.344797\n21                     iv_coef_ape     std  0.011325  0.009591  0.023136\n"
     ]
    }
   ],
   "source": [
    "make_param_tables(output, 'beta2', 'no')"
   ]
  }
 ],
 "metadata": {
  "kernelspec": {
   "name": "python388jvsc74a57bd0d8e5f08eda4f9cddc19de05071e25a43923763e5e5799e90c26e70a4345f4abb",
   "display_name": "Python 3.8.8 64-bit ('econ31330-env': conda)"
  },
  "language_info": {
   "codemirror_mode": {
    "name": "ipython",
    "version": 3
   },
   "file_extension": ".py",
   "mimetype": "text/x-python",
   "name": "python",
   "nbconvert_exporter": "python",
   "pygments_lexer": "ipython3",
   "version": "3.8.8"
  }
 },
 "nbformat": 4,
 "nbformat_minor": 4
}