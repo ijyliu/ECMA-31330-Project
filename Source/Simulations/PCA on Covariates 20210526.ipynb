{
 "cells": [
  {
   "source": [
    "# PCA on Covariates Simulations Notebook"
   ],
   "cell_type": "markdown",
   "metadata": {}
  },
  {
   "cell_type": "code",
   "execution_count": 2,
   "metadata": {},
   "outputs": [],
   "source": [
    "# Import objects from the setup file\n",
    "import os\n",
    "import sys\n",
    "sys.path.append(os.path.expanduser('~/repo/ECMA-31330-Project/Source'))\n",
    "from ME_Setup import *\n",
    "\n",
    "# Packages\n",
    "import numpy as np\n",
    "import pandas as pd\n",
    "import seaborn as sns\n",
    "from pca import pca\n",
    "import statsmodels.api as sm\n",
    "import statsmodels.formula.api as smf\n",
    "from sklearn.preprocessing import StandardScaler\n",
    "from sklearn.decomposition import FactorAnalysis\n",
    "import math\n",
    "from tqdm import tqdm"
   ]
  },
  {
   "cell_type": "code",
   "execution_count": 3,
   "metadata": {},
   "outputs": [],
   "source": [
    "# Supressing Output\n",
    "from contextlib import contextmanager\n",
    "import sys, os\n",
    "\n",
    "@contextmanager\n",
    "def suppress_stdout():\n",
    "    with open(os.devnull, \"w\") as devnull:\n",
    "        old_stdout = sys.stdout\n",
    "        sys.stdout = devnull\n",
    "        try:  \n",
    "            yield\n",
    "        finally:\n",
    "            sys.stdout = old_stdout"
   ]
  },
  {
   "cell_type": "markdown",
   "metadata": {},
   "source": [
    "**My main changes and what I want people to review in the code block below:**\n",
    "    \n",
    "1) I added an IV section\n",
    "\n",
    "2) I added a new thing where we take half of the mismeasured covariate values and then use them as the exponent to raise e to (e.g. z4 = e**z4)\n",
    "\n",
    "3) i got rid of the 1,000 value for beta1 and beta2\n",
    "\n",
    "4) i got rid of the p = 10 value\n",
    "\n",
    "**Comments on those changes:**\n",
    "\n",
    "1) i'm curious if i did this right\n",
    "\n",
    "2) i did this because of bonhomme's feedback about where PCA might outperform taking the simple avg. we've gotten some tentative signs that PCA does do better than the avg when you stretch out he observations\n",
    "\n",
    "3) , 4) it seemed like we didn't really need those values"
   ]
  },
  {
   "cell_type": "code",
   "execution_count": 4,
   "metadata": {},
   "outputs": [
    {
     "output_type": "stream",
     "name": "stderr",
     "text": [
      "100%|██████████| 1/1 [00:00<00:00,  1.80it/s]\n",
      "100%|██████████| 1/1 [00:00<00:00,  2.10it/s]\n",
      "100%|██████████| 1/1 [00:00<00:00,  2.18it/s]\n",
      "100%|██████████| 1/1 [00:00<00:00,  2.28it/s]\n",
      "100%|██████████| 1/1 [00:00<00:00,  1.65it/s]\n",
      "100%|██████████| 1/1 [00:00<00:00,  1.47it/s]\n",
      "100%|██████████| 1/1 [00:00<00:00,  2.07it/s]\n",
      "100%|██████████| 1/1 [00:00<00:00,  1.93it/s]\n",
      "100%|██████████| 1/1 [00:00<00:00,  2.12it/s]\n",
      "100%|██████████| 1/1 [00:00<00:00,  2.00it/s]\n",
      "100%|██████████| 1/1 [00:00<00:00,  2.04it/s]\n",
      "100%|██████████| 1/1 [00:00<00:00,  1.80it/s]\n",
      "100%|██████████| 1/1 [00:00<00:00,  1.88it/s]\n",
      "100%|██████████| 1/1 [00:00<00:00,  1.99it/s]\n",
      "100%|██████████| 1/1 [00:00<00:00,  1.58it/s]\n",
      "100%|██████████| 1/1 [00:00<00:00,  1.69it/s]\n",
      "100%|██████████| 1/1 [00:00<00:00,  2.08it/s]\n",
      "100%|██████████| 1/1 [00:00<00:00,  2.23it/s]\n",
      "100%|██████████| 1/1 [00:00<00:00,  2.23it/s]\n",
      "100%|██████████| 1/1 [00:00<00:00,  2.24it/s]\n",
      "100%|██████████| 1/1 [00:00<00:00,  2.27it/s]\n",
      "100%|██████████| 1/1 [00:00<00:00,  2.24it/s]\n"
     ]
    },
    {
     "output_type": "execute_result",
     "data": {
      "text/plain": [
       "   mismeasured_coef  mismeasured_allvar_coef  mismeasured_avg_coef   pca_coef  \\\n",
       "0          0.369439                 0.259652              0.443448   0.266809   \n",
       "0          0.381021                 0.218270              0.220204   0.219955   \n",
       "0          1.037412                 1.031412              1.043361   1.033029   \n",
       "0          1.047652                 1.032653              1.029586   1.030001   \n",
       "0          0.254457                 0.394852              0.161883   0.328149   \n",
       "0          0.296391                 0.539387              0.540122   0.538471   \n",
       "0          0.718394                 0.822276              0.640263   0.806271   \n",
       "0          0.729930                 0.909727              0.910428   0.909792   \n",
       "0          1.015138                 1.014898              1.025816   1.033058   \n",
       "0          1.021665                 1.004850              1.005135   1.005376   \n",
       "0          1.239877                 1.130403              1.305751   1.144760   \n",
       "0          1.259002                 1.107635              1.103682   1.103888   \n",
       "0          1.264090                 1.054896              1.296471   1.083604   \n",
       "0          1.270695                 1.029734              1.028652   1.028752   \n",
       "0          1.299301                 1.043388              1.283434   1.067714   \n",
       "0          1.309008                 1.015198              1.015221   1.016186   \n",
       "0          1.779489                 1.608337              1.825720   1.681415   \n",
       "0          1.753470                 1.513187              1.512977   1.512574   \n",
       "0          3.835763                 2.736777              4.889809   3.033415   \n",
       "0          3.875268                 2.014999              2.015542   2.013079   \n",
       "0         10.257260                10.148153             10.348358  10.168153   \n",
       "0         10.284815                10.123299             10.123861  10.123623   \n",
       "\n",
       "   true_val_coef    iv_coef  covariance  beta1  beta2   p exp_of_var  \n",
       "0       0.074569   0.314139         0.5    0.1    1.0   5        yes  \n",
       "0       0.112098   0.247333         0.5    0.1    1.0   5         no  \n",
       "0       1.008602   1.040223         0.5    1.0    0.1   5        yes  \n",
       "0       1.020066   1.030305         0.5    1.0    0.1   5         no  \n",
       "0       0.993651   0.322783        -0.9    1.0    1.0   5        yes  \n",
       "0       1.017593   0.484506        -0.9    1.0    1.0   5         no  \n",
       "0       1.006469   0.769591        -0.5    1.0    1.0   5        yes  \n",
       "0       1.025991   0.889803        -0.5    1.0    1.0   5         no  \n",
       "0       1.018260   1.026033         0.0    1.0    1.0   5        yes  \n",
       "0       0.985193   0.996373         0.0    1.0    1.0   5         no  \n",
       "0       0.956871   1.172444         0.5    1.0    1.0   5        yes  \n",
       "0       0.988199   1.128105         0.5    1.0    1.0   5         no  \n",
       "0       1.014924   1.067577         0.5    1.0    1.0  20        yes  \n",
       "0       0.999400   1.036479         0.5    1.0    1.0  20         no  \n",
       "0       1.016150   1.056073         0.5    1.0    1.0  50        yes  \n",
       "0       1.006790   1.029574         0.5    1.0    1.0  50         no  \n",
       "0       0.894170   1.664195         0.9    1.0    1.0   5        yes  \n",
       "0       1.075158   1.565119         0.9    1.0    1.0   5         no  \n",
       "0       0.955749   3.386664         0.5    1.0   10.0   5        yes  \n",
       "0       0.994283   2.201372         0.5    1.0   10.0   5         no  \n",
       "0       9.979385  10.205653         0.5   10.0    1.0   5        yes  \n",
       "0      10.025852  10.141373         0.5   10.0    1.0   5         no  "
      ],
      "text/html": "<div>\n<style scoped>\n    .dataframe tbody tr th:only-of-type {\n        vertical-align: middle;\n    }\n\n    .dataframe tbody tr th {\n        vertical-align: top;\n    }\n\n    .dataframe thead th {\n        text-align: right;\n    }\n</style>\n<table border=\"1\" class=\"dataframe\">\n  <thead>\n    <tr style=\"text-align: right;\">\n      <th></th>\n      <th>mismeasured_coef</th>\n      <th>mismeasured_allvar_coef</th>\n      <th>mismeasured_avg_coef</th>\n      <th>pca_coef</th>\n      <th>true_val_coef</th>\n      <th>iv_coef</th>\n      <th>covariance</th>\n      <th>beta1</th>\n      <th>beta2</th>\n      <th>p</th>\n      <th>exp_of_var</th>\n    </tr>\n  </thead>\n  <tbody>\n    <tr>\n      <th>0</th>\n      <td>0.369439</td>\n      <td>0.259652</td>\n      <td>0.443448</td>\n      <td>0.266809</td>\n      <td>0.074569</td>\n      <td>0.314139</td>\n      <td>0.5</td>\n      <td>0.1</td>\n      <td>1.0</td>\n      <td>5</td>\n      <td>yes</td>\n    </tr>\n    <tr>\n      <th>0</th>\n      <td>0.381021</td>\n      <td>0.218270</td>\n      <td>0.220204</td>\n      <td>0.219955</td>\n      <td>0.112098</td>\n      <td>0.247333</td>\n      <td>0.5</td>\n      <td>0.1</td>\n      <td>1.0</td>\n      <td>5</td>\n      <td>no</td>\n    </tr>\n    <tr>\n      <th>0</th>\n      <td>1.037412</td>\n      <td>1.031412</td>\n      <td>1.043361</td>\n      <td>1.033029</td>\n      <td>1.008602</td>\n      <td>1.040223</td>\n      <td>0.5</td>\n      <td>1.0</td>\n      <td>0.1</td>\n      <td>5</td>\n      <td>yes</td>\n    </tr>\n    <tr>\n      <th>0</th>\n      <td>1.047652</td>\n      <td>1.032653</td>\n      <td>1.029586</td>\n      <td>1.030001</td>\n      <td>1.020066</td>\n      <td>1.030305</td>\n      <td>0.5</td>\n      <td>1.0</td>\n      <td>0.1</td>\n      <td>5</td>\n      <td>no</td>\n    </tr>\n    <tr>\n      <th>0</th>\n      <td>0.254457</td>\n      <td>0.394852</td>\n      <td>0.161883</td>\n      <td>0.328149</td>\n      <td>0.993651</td>\n      <td>0.322783</td>\n      <td>-0.9</td>\n      <td>1.0</td>\n      <td>1.0</td>\n      <td>5</td>\n      <td>yes</td>\n    </tr>\n    <tr>\n      <th>0</th>\n      <td>0.296391</td>\n      <td>0.539387</td>\n      <td>0.540122</td>\n      <td>0.538471</td>\n      <td>1.017593</td>\n      <td>0.484506</td>\n      <td>-0.9</td>\n      <td>1.0</td>\n      <td>1.0</td>\n      <td>5</td>\n      <td>no</td>\n    </tr>\n    <tr>\n      <th>0</th>\n      <td>0.718394</td>\n      <td>0.822276</td>\n      <td>0.640263</td>\n      <td>0.806271</td>\n      <td>1.006469</td>\n      <td>0.769591</td>\n      <td>-0.5</td>\n      <td>1.0</td>\n      <td>1.0</td>\n      <td>5</td>\n      <td>yes</td>\n    </tr>\n    <tr>\n      <th>0</th>\n      <td>0.729930</td>\n      <td>0.909727</td>\n      <td>0.910428</td>\n      <td>0.909792</td>\n      <td>1.025991</td>\n      <td>0.889803</td>\n      <td>-0.5</td>\n      <td>1.0</td>\n      <td>1.0</td>\n      <td>5</td>\n      <td>no</td>\n    </tr>\n    <tr>\n      <th>0</th>\n      <td>1.015138</td>\n      <td>1.014898</td>\n      <td>1.025816</td>\n      <td>1.033058</td>\n      <td>1.018260</td>\n      <td>1.026033</td>\n      <td>0.0</td>\n      <td>1.0</td>\n      <td>1.0</td>\n      <td>5</td>\n      <td>yes</td>\n    </tr>\n    <tr>\n      <th>0</th>\n      <td>1.021665</td>\n      <td>1.004850</td>\n      <td>1.005135</td>\n      <td>1.005376</td>\n      <td>0.985193</td>\n      <td>0.996373</td>\n      <td>0.0</td>\n      <td>1.0</td>\n      <td>1.0</td>\n      <td>5</td>\n      <td>no</td>\n    </tr>\n    <tr>\n      <th>0</th>\n      <td>1.239877</td>\n      <td>1.130403</td>\n      <td>1.305751</td>\n      <td>1.144760</td>\n      <td>0.956871</td>\n      <td>1.172444</td>\n      <td>0.5</td>\n      <td>1.0</td>\n      <td>1.0</td>\n      <td>5</td>\n      <td>yes</td>\n    </tr>\n    <tr>\n      <th>0</th>\n      <td>1.259002</td>\n      <td>1.107635</td>\n      <td>1.103682</td>\n      <td>1.103888</td>\n      <td>0.988199</td>\n      <td>1.128105</td>\n      <td>0.5</td>\n      <td>1.0</td>\n      <td>1.0</td>\n      <td>5</td>\n      <td>no</td>\n    </tr>\n    <tr>\n      <th>0</th>\n      <td>1.264090</td>\n      <td>1.054896</td>\n      <td>1.296471</td>\n      <td>1.083604</td>\n      <td>1.014924</td>\n      <td>1.067577</td>\n      <td>0.5</td>\n      <td>1.0</td>\n      <td>1.0</td>\n      <td>20</td>\n      <td>yes</td>\n    </tr>\n    <tr>\n      <th>0</th>\n      <td>1.270695</td>\n      <td>1.029734</td>\n      <td>1.028652</td>\n      <td>1.028752</td>\n      <td>0.999400</td>\n      <td>1.036479</td>\n      <td>0.5</td>\n      <td>1.0</td>\n      <td>1.0</td>\n      <td>20</td>\n      <td>no</td>\n    </tr>\n    <tr>\n      <th>0</th>\n      <td>1.299301</td>\n      <td>1.043388</td>\n      <td>1.283434</td>\n      <td>1.067714</td>\n      <td>1.016150</td>\n      <td>1.056073</td>\n      <td>0.5</td>\n      <td>1.0</td>\n      <td>1.0</td>\n      <td>50</td>\n      <td>yes</td>\n    </tr>\n    <tr>\n      <th>0</th>\n      <td>1.309008</td>\n      <td>1.015198</td>\n      <td>1.015221</td>\n      <td>1.016186</td>\n      <td>1.006790</td>\n      <td>1.029574</td>\n      <td>0.5</td>\n      <td>1.0</td>\n      <td>1.0</td>\n      <td>50</td>\n      <td>no</td>\n    </tr>\n    <tr>\n      <th>0</th>\n      <td>1.779489</td>\n      <td>1.608337</td>\n      <td>1.825720</td>\n      <td>1.681415</td>\n      <td>0.894170</td>\n      <td>1.664195</td>\n      <td>0.9</td>\n      <td>1.0</td>\n      <td>1.0</td>\n      <td>5</td>\n      <td>yes</td>\n    </tr>\n    <tr>\n      <th>0</th>\n      <td>1.753470</td>\n      <td>1.513187</td>\n      <td>1.512977</td>\n      <td>1.512574</td>\n      <td>1.075158</td>\n      <td>1.565119</td>\n      <td>0.9</td>\n      <td>1.0</td>\n      <td>1.0</td>\n      <td>5</td>\n      <td>no</td>\n    </tr>\n    <tr>\n      <th>0</th>\n      <td>3.835763</td>\n      <td>2.736777</td>\n      <td>4.889809</td>\n      <td>3.033415</td>\n      <td>0.955749</td>\n      <td>3.386664</td>\n      <td>0.5</td>\n      <td>1.0</td>\n      <td>10.0</td>\n      <td>5</td>\n      <td>yes</td>\n    </tr>\n    <tr>\n      <th>0</th>\n      <td>3.875268</td>\n      <td>2.014999</td>\n      <td>2.015542</td>\n      <td>2.013079</td>\n      <td>0.994283</td>\n      <td>2.201372</td>\n      <td>0.5</td>\n      <td>1.0</td>\n      <td>10.0</td>\n      <td>5</td>\n      <td>no</td>\n    </tr>\n    <tr>\n      <th>0</th>\n      <td>10.257260</td>\n      <td>10.148153</td>\n      <td>10.348358</td>\n      <td>10.168153</td>\n      <td>9.979385</td>\n      <td>10.205653</td>\n      <td>0.5</td>\n      <td>10.0</td>\n      <td>1.0</td>\n      <td>5</td>\n      <td>yes</td>\n    </tr>\n    <tr>\n      <th>0</th>\n      <td>10.284815</td>\n      <td>10.123299</td>\n      <td>10.123861</td>\n      <td>10.123623</td>\n      <td>10.025852</td>\n      <td>10.141373</td>\n      <td>0.5</td>\n      <td>10.0</td>\n      <td>1.0</td>\n      <td>5</td>\n      <td>no</td>\n    </tr>\n  </tbody>\n</table>\n</div>"
     },
     "metadata": {},
     "execution_count": 4
    }
   ],
   "source": [
    "# Data frame to store output\n",
    "output = pd.DataFrame()\n",
    "\n",
    "# 2,000 observations\n",
    "N = 2000\n",
    "\n",
    "# Loop over combinations of: betas, covariances between variables, p numbers of parameters\n",
    "for beta1 in [0.1,1,10]:\n",
    "    for beta2 in [0.1,1,10]:\n",
    "        for covariance in [-0.9,-0.5,0,0.5,0.9]:\n",
    "            for p in [5,20,50]:\n",
    "                # Select only the scenarios we actually want to run by default - betas of 1, covariances of 0.5, p of 5... require three of these conditions to be satisfied to run.\n",
    "                counter = 0\n",
    "                if beta1 == 1:\n",
    "                    counter += 1\n",
    "                if beta2 == 1:\n",
    "                    counter += 1\n",
    "                if covariance == 0.5:\n",
    "                    counter += 1\n",
    "                if p == 5:\n",
    "                    counter+=1\n",
    "                if counter >= 3:\n",
    "                    # Run with and without transformations\n",
    "                    for exp_of_var in ['yes','no']:\n",
    "                        # 1000 simulations\n",
    "                        for k in tqdm(range(1)):\n",
    "                            # Initialize Lists to store coef values for all five methods and the true coef\n",
    "                            pca_coef = []\n",
    "                            mismeasured_coef = []\n",
    "                            mismeasured_allvar_coef = []\n",
    "                            mismeasured_avg_coef = []\n",
    "                            iv_coef = []\n",
    "                            true_val_coef =[]\n",
    "\n",
    "                            # Create variables\n",
    "                            vars_mean = [0,0,0]\n",
    "                            vars_cov = np.array([[1,covariance,0],\n",
    "                                                 [covariance,1,0],\n",
    "                                                 [0,0,1]])\n",
    "                            # Producing 3 variables: x for the variable of interest, the true Z covariate, the random error\n",
    "                            vars_ = pd.DataFrame(np.random.multivariate_normal(vars_mean, vars_cov, N), columns = ['x','true_z','u'])\n",
    "                            vars_['y'] = beta1 * vars_['x'] + beta2 * vars_['true_z'] + vars_['u']\n",
    "\n",
    "                            # Create measurement errors for each of the p measurements of the covariates- mean zero and variance one\n",
    "                            errors_mean = np.zeros(p)\n",
    "                            errors_cov = np.zeros((p,p))\n",
    "                            for i in range(p):\n",
    "                                for j in range(p):\n",
    "                                    if i == j:\n",
    "                                        errors_cov[i,j] = 1\n",
    "\n",
    "                            errors = np.random.multivariate_normal(errors_mean, errors_cov, N)\n",
    "                            # Column labels for Z variables (covariates variables mismeasured)\n",
    "                            z_vars = []\n",
    "                            for i in range(p):\n",
    "                                z_vars.append('z'+str(i+1))\n",
    "                            # Add errors to the true_z to get mismeasured values\n",
    "                            mismeasured_z = pd.DataFrame(errors, columns = z_vars)\n",
    "                            for i in mismeasured_z.columns:\n",
    "                                mismeasured_z[i] = mismeasured_z[i] + vars_['true_z']\n",
    "\n",
    "                            # Take e to the power of the values for half of the measurements if log_of_var is true\n",
    "                            if exp_of_var == 'yes':\n",
    "                                mismeasured_z.iloc[:,int(len(mismeasured_z.columns)/2):] =np.exp(mismeasured_z.iloc[:,int(len(mismeasured_z.columns)/2):])\n",
    "                                \n",
    "                            # Do feature scaling (normalize to mean 0 and variance 1) for the mismeasured z\n",
    "                            # Note that x and y are already normalized by construction\n",
    "                            scaled_mismeasured_z = mismeasured_z.copy()\n",
    "                            for i in mismeasured_z.columns:\n",
    "                                scaled_mismeasured_z[i] = (mismeasured_z[i] - mismeasured_z[i].mean()) / mismeasured_z[i].std()\n",
    "\n",
    "                            # Suppress output\n",
    "                            with suppress_stdout():\n",
    "                                # Use PCA on the mismeasured values\n",
    "                                pca_model = pca()\n",
    "                                pca_results = pca_model.fit_transform(scaled_mismeasured_z)\n",
    "                                pca_z = pca_results['PC']['PC1']\n",
    "\n",
    "                            # NOTE: in non-pca cases, no need to rescale or normalize since mismeasured variables and x and y have mean 0 and sd 1\n",
    "\n",
    "                            # Average mismeasured variables:\n",
    "                            vars_['avg_mismeasured_z'] = mismeasured_z[z_vars].mean(axis=1)\n",
    "\n",
    "                            # Add relevant variables to vars_ dataframe\n",
    "                            vars_[mismeasured_z.columns] = mismeasured_z\n",
    "                            vars_['pca_z'] = pca_z\n",
    "\n",
    "                            # Single mismeasured covariate results\n",
    "                            model_mismeasured = sm.OLS(vars_['y'],vars_[['x','z1']])\n",
    "                            results_mismeasured = model_mismeasured.fit()\n",
    "                            mismeasured_coef.append(results_mismeasured.params[0])\n",
    "\n",
    "                            # All Variables Mismeasured Results\n",
    "                            # Create full list of items to include in regression\n",
    "                            tot_vars = ['x']\n",
    "                            tot_vars.extend(z_vars)\n",
    "                            model_mismeasured_allvar = sm.OLS(vars_['y'],vars_[tot_vars])\n",
    "                            results_mismeasured_allvar = model_mismeasured_allvar.fit()\n",
    "                            mismeasured_allvar_coef.append(results_mismeasured_allvar.params[0])\n",
    "\n",
    "                            # Average Mismeasured Variables Results\n",
    "                            model_mismeasured_avg = sm.OLS(vars_['y'],vars_[['x','avg_mismeasured_z']])\n",
    "                            results_mismeasured_avg = model_mismeasured_avg.fit()\n",
    "                            mismeasured_avg_coef.append(results_mismeasured_avg.params[0])\n",
    "\n",
    "                            # PCA Results\n",
    "                            model_pca = sm.OLS(vars_['y'],vars_[['x','pca_z']])\n",
    "                            results_pca = model_pca.fit()\n",
    "                            pca_coef.append(results_pca.params[0])\n",
    "\n",
    "                            # Instrumental Variables Results\n",
    "                            # Instrument z1 on the other items in the mismeasured df\n",
    "                            z_string = mismeasured_z.columns[1]\n",
    "                            for z in mismeasured_z.columns[2:]:\n",
    "                                z_string = z_string + ' + ' + z\n",
    "                            # Create the predicted value of z1\n",
    "                            vars_['pred_z1'] = smf.ols(\"z1 ~ \" + z_string, data = mismeasured_z).fit().predict()\n",
    "                            iv_results = smf.ols(\"y ~ x + pred_z1 -1\", data = vars_).fit()\n",
    "                            iv_coef.append(iv_results.params[0])\n",
    "\n",
    "                            # True Results\n",
    "                            model_true = sm.OLS(vars_['y'],vars_[['x','true_z']])\n",
    "                            results_true = model_true.fit()\n",
    "                            true_val_coef.append(results_true.params[0])\n",
    "\n",
    "                            # Output Findings\n",
    "                            new_output = pd.DataFrame()\n",
    "                            new_output['mismeasured_coef'] = mismeasured_coef\n",
    "                            new_output['mismeasured_allvar_coef'] = mismeasured_allvar_coef\n",
    "                            new_output['mismeasured_avg_coef'] = mismeasured_avg_coef\n",
    "                            new_output['pca_coef'] = pca_coef\n",
    "                            new_output['true_val_coef'] = true_val_coef\n",
    "                            new_output['iv_coef'] = iv_coef\n",
    "                            new_output['covariance'] = vars_cov[0][1]\n",
    "                            new_output['beta1'] = beta1\n",
    "                            new_output['beta2'] = beta2\n",
    "                            new_output['p'] = p\n",
    "                            new_output['exp_of_var'] = exp_of_var\n",
    "                            output = output.append(new_output)\n",
    "\n",
    "output"
   ]
  },
  {
   "cell_type": "code",
   "execution_count": 5,
   "metadata": {},
   "outputs": [
    {
     "output_type": "execute_result",
     "data": {
      "text/plain": [
       "   mismeasured_coef  mismeasured_allvar_coef  mismeasured_avg_coef   pca_coef  \\\n",
       "0          0.369439                 0.259652              0.443448   0.266809   \n",
       "0          0.381021                 0.218270              0.220204   0.219955   \n",
       "0          1.037412                 1.031412              1.043361   1.033029   \n",
       "0          1.047652                 1.032653              1.029586   1.030001   \n",
       "0          0.254457                 0.394852              0.161883   0.328149   \n",
       "0          0.296391                 0.539387              0.540122   0.538471   \n",
       "0          0.718394                 0.822276              0.640263   0.806271   \n",
       "0          0.729930                 0.909727              0.910428   0.909792   \n",
       "0          1.015138                 1.014898              1.025816   1.033058   \n",
       "0          1.021665                 1.004850              1.005135   1.005376   \n",
       "0          1.239877                 1.130403              1.305751   1.144760   \n",
       "0          1.259002                 1.107635              1.103682   1.103888   \n",
       "0          1.264090                 1.054896              1.296471   1.083604   \n",
       "0          1.270695                 1.029734              1.028652   1.028752   \n",
       "0          1.299301                 1.043388              1.283434   1.067714   \n",
       "0          1.309008                 1.015198              1.015221   1.016186   \n",
       "0          1.779489                 1.608337              1.825720   1.681415   \n",
       "0          1.753470                 1.513187              1.512977   1.512574   \n",
       "0          3.835763                 2.736777              4.889809   3.033415   \n",
       "0          3.875268                 2.014999              2.015542   2.013079   \n",
       "0         10.257260                10.148153             10.348358  10.168153   \n",
       "0         10.284815                10.123299             10.123861  10.123623   \n",
       "\n",
       "   true_val_coef    iv_coef  covariance  beta1  beta2   p exp_of_var  \n",
       "0       0.074569   0.314139         0.5    0.1    1.0   5        yes  \n",
       "0       0.112098   0.247333         0.5    0.1    1.0   5         no  \n",
       "0       1.008602   1.040223         0.5    1.0    0.1   5        yes  \n",
       "0       1.020066   1.030305         0.5    1.0    0.1   5         no  \n",
       "0       0.993651   0.322783        -0.9    1.0    1.0   5        yes  \n",
       "0       1.017593   0.484506        -0.9    1.0    1.0   5         no  \n",
       "0       1.006469   0.769591        -0.5    1.0    1.0   5        yes  \n",
       "0       1.025991   0.889803        -0.5    1.0    1.0   5         no  \n",
       "0       1.018260   1.026033         0.0    1.0    1.0   5        yes  \n",
       "0       0.985193   0.996373         0.0    1.0    1.0   5         no  \n",
       "0       0.956871   1.172444         0.5    1.0    1.0   5        yes  \n",
       "0       0.988199   1.128105         0.5    1.0    1.0   5         no  \n",
       "0       1.014924   1.067577         0.5    1.0    1.0  20        yes  \n",
       "0       0.999400   1.036479         0.5    1.0    1.0  20         no  \n",
       "0       1.016150   1.056073         0.5    1.0    1.0  50        yes  \n",
       "0       1.006790   1.029574         0.5    1.0    1.0  50         no  \n",
       "0       0.894170   1.664195         0.9    1.0    1.0   5        yes  \n",
       "0       1.075158   1.565119         0.9    1.0    1.0   5         no  \n",
       "0       0.955749   3.386664         0.5    1.0   10.0   5        yes  \n",
       "0       0.994283   2.201372         0.5    1.0   10.0   5         no  \n",
       "0       9.979385  10.205653         0.5   10.0    1.0   5        yes  \n",
       "0      10.025852  10.141373         0.5   10.0    1.0   5         no  "
      ],
      "text/html": "<div>\n<style scoped>\n    .dataframe tbody tr th:only-of-type {\n        vertical-align: middle;\n    }\n\n    .dataframe tbody tr th {\n        vertical-align: top;\n    }\n\n    .dataframe thead th {\n        text-align: right;\n    }\n</style>\n<table border=\"1\" class=\"dataframe\">\n  <thead>\n    <tr style=\"text-align: right;\">\n      <th></th>\n      <th>mismeasured_coef</th>\n      <th>mismeasured_allvar_coef</th>\n      <th>mismeasured_avg_coef</th>\n      <th>pca_coef</th>\n      <th>true_val_coef</th>\n      <th>iv_coef</th>\n      <th>covariance</th>\n      <th>beta1</th>\n      <th>beta2</th>\n      <th>p</th>\n      <th>exp_of_var</th>\n    </tr>\n  </thead>\n  <tbody>\n    <tr>\n      <th>0</th>\n      <td>0.369439</td>\n      <td>0.259652</td>\n      <td>0.443448</td>\n      <td>0.266809</td>\n      <td>0.074569</td>\n      <td>0.314139</td>\n      <td>0.5</td>\n      <td>0.1</td>\n      <td>1.0</td>\n      <td>5</td>\n      <td>yes</td>\n    </tr>\n    <tr>\n      <th>0</th>\n      <td>0.381021</td>\n      <td>0.218270</td>\n      <td>0.220204</td>\n      <td>0.219955</td>\n      <td>0.112098</td>\n      <td>0.247333</td>\n      <td>0.5</td>\n      <td>0.1</td>\n      <td>1.0</td>\n      <td>5</td>\n      <td>no</td>\n    </tr>\n    <tr>\n      <th>0</th>\n      <td>1.037412</td>\n      <td>1.031412</td>\n      <td>1.043361</td>\n      <td>1.033029</td>\n      <td>1.008602</td>\n      <td>1.040223</td>\n      <td>0.5</td>\n      <td>1.0</td>\n      <td>0.1</td>\n      <td>5</td>\n      <td>yes</td>\n    </tr>\n    <tr>\n      <th>0</th>\n      <td>1.047652</td>\n      <td>1.032653</td>\n      <td>1.029586</td>\n      <td>1.030001</td>\n      <td>1.020066</td>\n      <td>1.030305</td>\n      <td>0.5</td>\n      <td>1.0</td>\n      <td>0.1</td>\n      <td>5</td>\n      <td>no</td>\n    </tr>\n    <tr>\n      <th>0</th>\n      <td>0.254457</td>\n      <td>0.394852</td>\n      <td>0.161883</td>\n      <td>0.328149</td>\n      <td>0.993651</td>\n      <td>0.322783</td>\n      <td>-0.9</td>\n      <td>1.0</td>\n      <td>1.0</td>\n      <td>5</td>\n      <td>yes</td>\n    </tr>\n    <tr>\n      <th>0</th>\n      <td>0.296391</td>\n      <td>0.539387</td>\n      <td>0.540122</td>\n      <td>0.538471</td>\n      <td>1.017593</td>\n      <td>0.484506</td>\n      <td>-0.9</td>\n      <td>1.0</td>\n      <td>1.0</td>\n      <td>5</td>\n      <td>no</td>\n    </tr>\n    <tr>\n      <th>0</th>\n      <td>0.718394</td>\n      <td>0.822276</td>\n      <td>0.640263</td>\n      <td>0.806271</td>\n      <td>1.006469</td>\n      <td>0.769591</td>\n      <td>-0.5</td>\n      <td>1.0</td>\n      <td>1.0</td>\n      <td>5</td>\n      <td>yes</td>\n    </tr>\n    <tr>\n      <th>0</th>\n      <td>0.729930</td>\n      <td>0.909727</td>\n      <td>0.910428</td>\n      <td>0.909792</td>\n      <td>1.025991</td>\n      <td>0.889803</td>\n      <td>-0.5</td>\n      <td>1.0</td>\n      <td>1.0</td>\n      <td>5</td>\n      <td>no</td>\n    </tr>\n    <tr>\n      <th>0</th>\n      <td>1.015138</td>\n      <td>1.014898</td>\n      <td>1.025816</td>\n      <td>1.033058</td>\n      <td>1.018260</td>\n      <td>1.026033</td>\n      <td>0.0</td>\n      <td>1.0</td>\n      <td>1.0</td>\n      <td>5</td>\n      <td>yes</td>\n    </tr>\n    <tr>\n      <th>0</th>\n      <td>1.021665</td>\n      <td>1.004850</td>\n      <td>1.005135</td>\n      <td>1.005376</td>\n      <td>0.985193</td>\n      <td>0.996373</td>\n      <td>0.0</td>\n      <td>1.0</td>\n      <td>1.0</td>\n      <td>5</td>\n      <td>no</td>\n    </tr>\n    <tr>\n      <th>0</th>\n      <td>1.239877</td>\n      <td>1.130403</td>\n      <td>1.305751</td>\n      <td>1.144760</td>\n      <td>0.956871</td>\n      <td>1.172444</td>\n      <td>0.5</td>\n      <td>1.0</td>\n      <td>1.0</td>\n      <td>5</td>\n      <td>yes</td>\n    </tr>\n    <tr>\n      <th>0</th>\n      <td>1.259002</td>\n      <td>1.107635</td>\n      <td>1.103682</td>\n      <td>1.103888</td>\n      <td>0.988199</td>\n      <td>1.128105</td>\n      <td>0.5</td>\n      <td>1.0</td>\n      <td>1.0</td>\n      <td>5</td>\n      <td>no</td>\n    </tr>\n    <tr>\n      <th>0</th>\n      <td>1.264090</td>\n      <td>1.054896</td>\n      <td>1.296471</td>\n      <td>1.083604</td>\n      <td>1.014924</td>\n      <td>1.067577</td>\n      <td>0.5</td>\n      <td>1.0</td>\n      <td>1.0</td>\n      <td>20</td>\n      <td>yes</td>\n    </tr>\n    <tr>\n      <th>0</th>\n      <td>1.270695</td>\n      <td>1.029734</td>\n      <td>1.028652</td>\n      <td>1.028752</td>\n      <td>0.999400</td>\n      <td>1.036479</td>\n      <td>0.5</td>\n      <td>1.0</td>\n      <td>1.0</td>\n      <td>20</td>\n      <td>no</td>\n    </tr>\n    <tr>\n      <th>0</th>\n      <td>1.299301</td>\n      <td>1.043388</td>\n      <td>1.283434</td>\n      <td>1.067714</td>\n      <td>1.016150</td>\n      <td>1.056073</td>\n      <td>0.5</td>\n      <td>1.0</td>\n      <td>1.0</td>\n      <td>50</td>\n      <td>yes</td>\n    </tr>\n    <tr>\n      <th>0</th>\n      <td>1.309008</td>\n      <td>1.015198</td>\n      <td>1.015221</td>\n      <td>1.016186</td>\n      <td>1.006790</td>\n      <td>1.029574</td>\n      <td>0.5</td>\n      <td>1.0</td>\n      <td>1.0</td>\n      <td>50</td>\n      <td>no</td>\n    </tr>\n    <tr>\n      <th>0</th>\n      <td>1.779489</td>\n      <td>1.608337</td>\n      <td>1.825720</td>\n      <td>1.681415</td>\n      <td>0.894170</td>\n      <td>1.664195</td>\n      <td>0.9</td>\n      <td>1.0</td>\n      <td>1.0</td>\n      <td>5</td>\n      <td>yes</td>\n    </tr>\n    <tr>\n      <th>0</th>\n      <td>1.753470</td>\n      <td>1.513187</td>\n      <td>1.512977</td>\n      <td>1.512574</td>\n      <td>1.075158</td>\n      <td>1.565119</td>\n      <td>0.9</td>\n      <td>1.0</td>\n      <td>1.0</td>\n      <td>5</td>\n      <td>no</td>\n    </tr>\n    <tr>\n      <th>0</th>\n      <td>3.835763</td>\n      <td>2.736777</td>\n      <td>4.889809</td>\n      <td>3.033415</td>\n      <td>0.955749</td>\n      <td>3.386664</td>\n      <td>0.5</td>\n      <td>1.0</td>\n      <td>10.0</td>\n      <td>5</td>\n      <td>yes</td>\n    </tr>\n    <tr>\n      <th>0</th>\n      <td>3.875268</td>\n      <td>2.014999</td>\n      <td>2.015542</td>\n      <td>2.013079</td>\n      <td>0.994283</td>\n      <td>2.201372</td>\n      <td>0.5</td>\n      <td>1.0</td>\n      <td>10.0</td>\n      <td>5</td>\n      <td>no</td>\n    </tr>\n    <tr>\n      <th>0</th>\n      <td>10.257260</td>\n      <td>10.148153</td>\n      <td>10.348358</td>\n      <td>10.168153</td>\n      <td>9.979385</td>\n      <td>10.205653</td>\n      <td>0.5</td>\n      <td>10.0</td>\n      <td>1.0</td>\n      <td>5</td>\n      <td>yes</td>\n    </tr>\n    <tr>\n      <th>0</th>\n      <td>10.284815</td>\n      <td>10.123299</td>\n      <td>10.123861</td>\n      <td>10.123623</td>\n      <td>10.025852</td>\n      <td>10.141373</td>\n      <td>0.5</td>\n      <td>10.0</td>\n      <td>1.0</td>\n      <td>5</td>\n      <td>no</td>\n    </tr>\n  </tbody>\n</table>\n</div>"
     },
     "metadata": {},
     "execution_count": 5
    }
   ],
   "source": [
    "output"
   ]
  },
  {
   "cell_type": "code",
   "execution_count": 6,
   "metadata": {},
   "outputs": [],
   "source": [
    "#output.to_csv('C://Users//paulo//Documents//Econometrics and ML//Final Project//n_2000_results.csv')"
   ]
  },
  {
   "cell_type": "code",
   "execution_count": 7,
   "metadata": {},
   "outputs": [],
   "source": [
    "pd.set_option('display.max_rows', 10)"
   ]
  },
  {
   "cell_type": "code",
   "execution_count": 8,
   "metadata": {},
   "outputs": [],
   "source": [
    "output['pca_ape'] = (output['pca_coef'] - output['beta1']).abs()/output['beta1']\n",
    "output['mismeasured_coef_ape'] = (output['mismeasured_coef'] - output['beta1']).abs()/output['beta1']\n",
    "output['mismeasured_allvar_coef_ape'] = (output['mismeasured_allvar_coef'] - output['beta1']).abs()/output['beta1']\n",
    "output['mismeasured_avg_coef_ape'] = (output['mismeasured_avg_coef'] - output['beta1']).abs()/output['beta1']\n",
    "output['iv_coef_ape'] = (output['iv_coef'] - output['beta1']).abs()/output['beta1']"
   ]
  },
  {
   "cell_type": "code",
   "execution_count": 9,
   "metadata": {},
   "outputs": [
    {
     "output_type": "execute_result",
     "data": {
      "text/plain": [
       "    covariance  beta1  beta2  p exp_of_var  mismeasured_coef  \\\n",
       "0         -0.9    1.0    1.0  5         no          0.296391   \n",
       "1         -0.9    1.0    1.0  5        yes          0.254457   \n",
       "2         -0.5    1.0    1.0  5         no          0.729930   \n",
       "3         -0.5    1.0    1.0  5        yes          0.718394   \n",
       "4          0.0    1.0    1.0  5         no          1.021665   \n",
       "..         ...    ...    ... ..        ...               ...   \n",
       "17         0.5    1.0   10.0  5        yes          3.835763   \n",
       "18         0.5   10.0    1.0  5         no         10.284815   \n",
       "19         0.5   10.0    1.0  5        yes         10.257260   \n",
       "20         0.9    1.0    1.0  5         no          1.753470   \n",
       "21         0.9    1.0    1.0  5        yes          1.779489   \n",
       "\n",
       "    mismeasured_allvar_coef  mismeasured_avg_coef   pca_coef  true_val_coef  \\\n",
       "0                  0.539387              0.540122   0.538471       1.017593   \n",
       "1                  0.394852              0.161883   0.328149       0.993651   \n",
       "2                  0.909727              0.910428   0.909792       1.025991   \n",
       "3                  0.822276              0.640263   0.806271       1.006469   \n",
       "4                  1.004850              1.005135   1.005376       0.985193   \n",
       "..                      ...                   ...        ...            ...   \n",
       "17                 2.736777              4.889809   3.033415       0.955749   \n",
       "18                10.123299             10.123861  10.123623      10.025852   \n",
       "19                10.148153             10.348358  10.168153       9.979385   \n",
       "20                 1.513187              1.512977   1.512574       1.075158   \n",
       "21                 1.608337              1.825720   1.681415       0.894170   \n",
       "\n",
       "      iv_coef   pca_ape  mismeasured_coef_ape  mismeasured_allvar_coef_ape  \\\n",
       "0    0.484506  0.461529              0.703609                     0.460613   \n",
       "1    0.322783  0.671851              0.745543                     0.605148   \n",
       "2    0.889803  0.090208              0.270070                     0.090273   \n",
       "3    0.769591  0.193729              0.281606                     0.177724   \n",
       "4    0.996373  0.005376              0.021665                     0.004850   \n",
       "..        ...       ...                   ...                          ...   \n",
       "17   3.386664  2.033415              2.835763                     1.736777   \n",
       "18  10.141373  0.012362              0.028481                     0.012330   \n",
       "19  10.205653  0.016815              0.025726                     0.014815   \n",
       "20   1.565119  0.512574              0.753470                     0.513187   \n",
       "21   1.664195  0.681415              0.779489                     0.608337   \n",
       "\n",
       "    mismeasured_avg_coef_ape  iv_coef_ape  \n",
       "0                   0.459878     0.515494  \n",
       "1                   0.838117     0.677217  \n",
       "2                   0.089572     0.110197  \n",
       "3                   0.359737     0.230409  \n",
       "4                   0.005135     0.003627  \n",
       "..                       ...          ...  \n",
       "17                  3.889809     2.386664  \n",
       "18                  0.012386     0.014137  \n",
       "19                  0.034836     0.020565  \n",
       "20                  0.512977     0.565119  \n",
       "21                  0.825720     0.664195  \n",
       "\n",
       "[22 rows x 16 columns]"
      ],
      "text/html": "<div>\n<style scoped>\n    .dataframe tbody tr th:only-of-type {\n        vertical-align: middle;\n    }\n\n    .dataframe tbody tr th {\n        vertical-align: top;\n    }\n\n    .dataframe thead th {\n        text-align: right;\n    }\n</style>\n<table border=\"1\" class=\"dataframe\">\n  <thead>\n    <tr style=\"text-align: right;\">\n      <th></th>\n      <th>covariance</th>\n      <th>beta1</th>\n      <th>beta2</th>\n      <th>p</th>\n      <th>exp_of_var</th>\n      <th>mismeasured_coef</th>\n      <th>mismeasured_allvar_coef</th>\n      <th>mismeasured_avg_coef</th>\n      <th>pca_coef</th>\n      <th>true_val_coef</th>\n      <th>iv_coef</th>\n      <th>pca_ape</th>\n      <th>mismeasured_coef_ape</th>\n      <th>mismeasured_allvar_coef_ape</th>\n      <th>mismeasured_avg_coef_ape</th>\n      <th>iv_coef_ape</th>\n    </tr>\n  </thead>\n  <tbody>\n    <tr>\n      <th>0</th>\n      <td>-0.9</td>\n      <td>1.0</td>\n      <td>1.0</td>\n      <td>5</td>\n      <td>no</td>\n      <td>0.296391</td>\n      <td>0.539387</td>\n      <td>0.540122</td>\n      <td>0.538471</td>\n      <td>1.017593</td>\n      <td>0.484506</td>\n      <td>0.461529</td>\n      <td>0.703609</td>\n      <td>0.460613</td>\n      <td>0.459878</td>\n      <td>0.515494</td>\n    </tr>\n    <tr>\n      <th>1</th>\n      <td>-0.9</td>\n      <td>1.0</td>\n      <td>1.0</td>\n      <td>5</td>\n      <td>yes</td>\n      <td>0.254457</td>\n      <td>0.394852</td>\n      <td>0.161883</td>\n      <td>0.328149</td>\n      <td>0.993651</td>\n      <td>0.322783</td>\n      <td>0.671851</td>\n      <td>0.745543</td>\n      <td>0.605148</td>\n      <td>0.838117</td>\n      <td>0.677217</td>\n    </tr>\n    <tr>\n      <th>2</th>\n      <td>-0.5</td>\n      <td>1.0</td>\n      <td>1.0</td>\n      <td>5</td>\n      <td>no</td>\n      <td>0.729930</td>\n      <td>0.909727</td>\n      <td>0.910428</td>\n      <td>0.909792</td>\n      <td>1.025991</td>\n      <td>0.889803</td>\n      <td>0.090208</td>\n      <td>0.270070</td>\n      <td>0.090273</td>\n      <td>0.089572</td>\n      <td>0.110197</td>\n    </tr>\n    <tr>\n      <th>3</th>\n      <td>-0.5</td>\n      <td>1.0</td>\n      <td>1.0</td>\n      <td>5</td>\n      <td>yes</td>\n      <td>0.718394</td>\n      <td>0.822276</td>\n      <td>0.640263</td>\n      <td>0.806271</td>\n      <td>1.006469</td>\n      <td>0.769591</td>\n      <td>0.193729</td>\n      <td>0.281606</td>\n      <td>0.177724</td>\n      <td>0.359737</td>\n      <td>0.230409</td>\n    </tr>\n    <tr>\n      <th>4</th>\n      <td>0.0</td>\n      <td>1.0</td>\n      <td>1.0</td>\n      <td>5</td>\n      <td>no</td>\n      <td>1.021665</td>\n      <td>1.004850</td>\n      <td>1.005135</td>\n      <td>1.005376</td>\n      <td>0.985193</td>\n      <td>0.996373</td>\n      <td>0.005376</td>\n      <td>0.021665</td>\n      <td>0.004850</td>\n      <td>0.005135</td>\n      <td>0.003627</td>\n    </tr>\n    <tr>\n      <th>...</th>\n      <td>...</td>\n      <td>...</td>\n      <td>...</td>\n      <td>...</td>\n      <td>...</td>\n      <td>...</td>\n      <td>...</td>\n      <td>...</td>\n      <td>...</td>\n      <td>...</td>\n      <td>...</td>\n      <td>...</td>\n      <td>...</td>\n      <td>...</td>\n      <td>...</td>\n      <td>...</td>\n    </tr>\n    <tr>\n      <th>17</th>\n      <td>0.5</td>\n      <td>1.0</td>\n      <td>10.0</td>\n      <td>5</td>\n      <td>yes</td>\n      <td>3.835763</td>\n      <td>2.736777</td>\n      <td>4.889809</td>\n      <td>3.033415</td>\n      <td>0.955749</td>\n      <td>3.386664</td>\n      <td>2.033415</td>\n      <td>2.835763</td>\n      <td>1.736777</td>\n      <td>3.889809</td>\n      <td>2.386664</td>\n    </tr>\n    <tr>\n      <th>18</th>\n      <td>0.5</td>\n      <td>10.0</td>\n      <td>1.0</td>\n      <td>5</td>\n      <td>no</td>\n      <td>10.284815</td>\n      <td>10.123299</td>\n      <td>10.123861</td>\n      <td>10.123623</td>\n      <td>10.025852</td>\n      <td>10.141373</td>\n      <td>0.012362</td>\n      <td>0.028481</td>\n      <td>0.012330</td>\n      <td>0.012386</td>\n      <td>0.014137</td>\n    </tr>\n    <tr>\n      <th>19</th>\n      <td>0.5</td>\n      <td>10.0</td>\n      <td>1.0</td>\n      <td>5</td>\n      <td>yes</td>\n      <td>10.257260</td>\n      <td>10.148153</td>\n      <td>10.348358</td>\n      <td>10.168153</td>\n      <td>9.979385</td>\n      <td>10.205653</td>\n      <td>0.016815</td>\n      <td>0.025726</td>\n      <td>0.014815</td>\n      <td>0.034836</td>\n      <td>0.020565</td>\n    </tr>\n    <tr>\n      <th>20</th>\n      <td>0.9</td>\n      <td>1.0</td>\n      <td>1.0</td>\n      <td>5</td>\n      <td>no</td>\n      <td>1.753470</td>\n      <td>1.513187</td>\n      <td>1.512977</td>\n      <td>1.512574</td>\n      <td>1.075158</td>\n      <td>1.565119</td>\n      <td>0.512574</td>\n      <td>0.753470</td>\n      <td>0.513187</td>\n      <td>0.512977</td>\n      <td>0.565119</td>\n    </tr>\n    <tr>\n      <th>21</th>\n      <td>0.9</td>\n      <td>1.0</td>\n      <td>1.0</td>\n      <td>5</td>\n      <td>yes</td>\n      <td>1.779489</td>\n      <td>1.608337</td>\n      <td>1.825720</td>\n      <td>1.681415</td>\n      <td>0.894170</td>\n      <td>1.664195</td>\n      <td>0.681415</td>\n      <td>0.779489</td>\n      <td>0.608337</td>\n      <td>0.825720</td>\n      <td>0.664195</td>\n    </tr>\n  </tbody>\n</table>\n<p>22 rows × 16 columns</p>\n</div>"
     },
     "metadata": {},
     "execution_count": 9
    }
   ],
   "source": [
    "output.groupby(['covariance','beta1','beta2','p','exp_of_var']).mean().reset_index()"
   ]
  },
  {
   "cell_type": "code",
   "execution_count": 10,
   "metadata": {},
   "outputs": [
    {
     "output_type": "execute_result",
     "data": {
      "text/plain": [
       "    covariance  beta1  beta2  p exp_of_var  mismeasured_coef  \\\n",
       "0         -0.9    1.0    1.0  5         no               NaN   \n",
       "1         -0.9    1.0    1.0  5        yes               NaN   \n",
       "2         -0.5    1.0    1.0  5         no               NaN   \n",
       "3         -0.5    1.0    1.0  5        yes               NaN   \n",
       "4          0.0    1.0    1.0  5         no               NaN   \n",
       "..         ...    ...    ... ..        ...               ...   \n",
       "17         0.5    1.0   10.0  5        yes               NaN   \n",
       "18         0.5   10.0    1.0  5         no               NaN   \n",
       "19         0.5   10.0    1.0  5        yes               NaN   \n",
       "20         0.9    1.0    1.0  5         no               NaN   \n",
       "21         0.9    1.0    1.0  5        yes               NaN   \n",
       "\n",
       "    mismeasured_allvar_coef  mismeasured_avg_coef  pca_coef  true_val_coef  \\\n",
       "0                       NaN                   NaN       NaN            NaN   \n",
       "1                       NaN                   NaN       NaN            NaN   \n",
       "2                       NaN                   NaN       NaN            NaN   \n",
       "3                       NaN                   NaN       NaN            NaN   \n",
       "4                       NaN                   NaN       NaN            NaN   \n",
       "..                      ...                   ...       ...            ...   \n",
       "17                      NaN                   NaN       NaN            NaN   \n",
       "18                      NaN                   NaN       NaN            NaN   \n",
       "19                      NaN                   NaN       NaN            NaN   \n",
       "20                      NaN                   NaN       NaN            NaN   \n",
       "21                      NaN                   NaN       NaN            NaN   \n",
       "\n",
       "    iv_coef  pca_ape  mismeasured_coef_ape  mismeasured_allvar_coef_ape  \\\n",
       "0       NaN      NaN                   NaN                          NaN   \n",
       "1       NaN      NaN                   NaN                          NaN   \n",
       "2       NaN      NaN                   NaN                          NaN   \n",
       "3       NaN      NaN                   NaN                          NaN   \n",
       "4       NaN      NaN                   NaN                          NaN   \n",
       "..      ...      ...                   ...                          ...   \n",
       "17      NaN      NaN                   NaN                          NaN   \n",
       "18      NaN      NaN                   NaN                          NaN   \n",
       "19      NaN      NaN                   NaN                          NaN   \n",
       "20      NaN      NaN                   NaN                          NaN   \n",
       "21      NaN      NaN                   NaN                          NaN   \n",
       "\n",
       "    mismeasured_avg_coef_ape  iv_coef_ape  \n",
       "0                        NaN          NaN  \n",
       "1                        NaN          NaN  \n",
       "2                        NaN          NaN  \n",
       "3                        NaN          NaN  \n",
       "4                        NaN          NaN  \n",
       "..                       ...          ...  \n",
       "17                       NaN          NaN  \n",
       "18                       NaN          NaN  \n",
       "19                       NaN          NaN  \n",
       "20                       NaN          NaN  \n",
       "21                       NaN          NaN  \n",
       "\n",
       "[22 rows x 16 columns]"
      ],
      "text/html": "<div>\n<style scoped>\n    .dataframe tbody tr th:only-of-type {\n        vertical-align: middle;\n    }\n\n    .dataframe tbody tr th {\n        vertical-align: top;\n    }\n\n    .dataframe thead th {\n        text-align: right;\n    }\n</style>\n<table border=\"1\" class=\"dataframe\">\n  <thead>\n    <tr style=\"text-align: right;\">\n      <th></th>\n      <th>covariance</th>\n      <th>beta1</th>\n      <th>beta2</th>\n      <th>p</th>\n      <th>exp_of_var</th>\n      <th>mismeasured_coef</th>\n      <th>mismeasured_allvar_coef</th>\n      <th>mismeasured_avg_coef</th>\n      <th>pca_coef</th>\n      <th>true_val_coef</th>\n      <th>iv_coef</th>\n      <th>pca_ape</th>\n      <th>mismeasured_coef_ape</th>\n      <th>mismeasured_allvar_coef_ape</th>\n      <th>mismeasured_avg_coef_ape</th>\n      <th>iv_coef_ape</th>\n    </tr>\n  </thead>\n  <tbody>\n    <tr>\n      <th>0</th>\n      <td>-0.9</td>\n      <td>1.0</td>\n      <td>1.0</td>\n      <td>5</td>\n      <td>no</td>\n      <td>NaN</td>\n      <td>NaN</td>\n      <td>NaN</td>\n      <td>NaN</td>\n      <td>NaN</td>\n      <td>NaN</td>\n      <td>NaN</td>\n      <td>NaN</td>\n      <td>NaN</td>\n      <td>NaN</td>\n      <td>NaN</td>\n    </tr>\n    <tr>\n      <th>1</th>\n      <td>-0.9</td>\n      <td>1.0</td>\n      <td>1.0</td>\n      <td>5</td>\n      <td>yes</td>\n      <td>NaN</td>\n      <td>NaN</td>\n      <td>NaN</td>\n      <td>NaN</td>\n      <td>NaN</td>\n      <td>NaN</td>\n      <td>NaN</td>\n      <td>NaN</td>\n      <td>NaN</td>\n      <td>NaN</td>\n      <td>NaN</td>\n    </tr>\n    <tr>\n      <th>2</th>\n      <td>-0.5</td>\n      <td>1.0</td>\n      <td>1.0</td>\n      <td>5</td>\n      <td>no</td>\n      <td>NaN</td>\n      <td>NaN</td>\n      <td>NaN</td>\n      <td>NaN</td>\n      <td>NaN</td>\n      <td>NaN</td>\n      <td>NaN</td>\n      <td>NaN</td>\n      <td>NaN</td>\n      <td>NaN</td>\n      <td>NaN</td>\n    </tr>\n    <tr>\n      <th>3</th>\n      <td>-0.5</td>\n      <td>1.0</td>\n      <td>1.0</td>\n      <td>5</td>\n      <td>yes</td>\n      <td>NaN</td>\n      <td>NaN</td>\n      <td>NaN</td>\n      <td>NaN</td>\n      <td>NaN</td>\n      <td>NaN</td>\n      <td>NaN</td>\n      <td>NaN</td>\n      <td>NaN</td>\n      <td>NaN</td>\n      <td>NaN</td>\n    </tr>\n    <tr>\n      <th>4</th>\n      <td>0.0</td>\n      <td>1.0</td>\n      <td>1.0</td>\n      <td>5</td>\n      <td>no</td>\n      <td>NaN</td>\n      <td>NaN</td>\n      <td>NaN</td>\n      <td>NaN</td>\n      <td>NaN</td>\n      <td>NaN</td>\n      <td>NaN</td>\n      <td>NaN</td>\n      <td>NaN</td>\n      <td>NaN</td>\n      <td>NaN</td>\n    </tr>\n    <tr>\n      <th>...</th>\n      <td>...</td>\n      <td>...</td>\n      <td>...</td>\n      <td>...</td>\n      <td>...</td>\n      <td>...</td>\n      <td>...</td>\n      <td>...</td>\n      <td>...</td>\n      <td>...</td>\n      <td>...</td>\n      <td>...</td>\n      <td>...</td>\n      <td>...</td>\n      <td>...</td>\n      <td>...</td>\n    </tr>\n    <tr>\n      <th>17</th>\n      <td>0.5</td>\n      <td>1.0</td>\n      <td>10.0</td>\n      <td>5</td>\n      <td>yes</td>\n      <td>NaN</td>\n      <td>NaN</td>\n      <td>NaN</td>\n      <td>NaN</td>\n      <td>NaN</td>\n      <td>NaN</td>\n      <td>NaN</td>\n      <td>NaN</td>\n      <td>NaN</td>\n      <td>NaN</td>\n      <td>NaN</td>\n    </tr>\n    <tr>\n      <th>18</th>\n      <td>0.5</td>\n      <td>10.0</td>\n      <td>1.0</td>\n      <td>5</td>\n      <td>no</td>\n      <td>NaN</td>\n      <td>NaN</td>\n      <td>NaN</td>\n      <td>NaN</td>\n      <td>NaN</td>\n      <td>NaN</td>\n      <td>NaN</td>\n      <td>NaN</td>\n      <td>NaN</td>\n      <td>NaN</td>\n      <td>NaN</td>\n    </tr>\n    <tr>\n      <th>19</th>\n      <td>0.5</td>\n      <td>10.0</td>\n      <td>1.0</td>\n      <td>5</td>\n      <td>yes</td>\n      <td>NaN</td>\n      <td>NaN</td>\n      <td>NaN</td>\n      <td>NaN</td>\n      <td>NaN</td>\n      <td>NaN</td>\n      <td>NaN</td>\n      <td>NaN</td>\n      <td>NaN</td>\n      <td>NaN</td>\n      <td>NaN</td>\n    </tr>\n    <tr>\n      <th>20</th>\n      <td>0.9</td>\n      <td>1.0</td>\n      <td>1.0</td>\n      <td>5</td>\n      <td>no</td>\n      <td>NaN</td>\n      <td>NaN</td>\n      <td>NaN</td>\n      <td>NaN</td>\n      <td>NaN</td>\n      <td>NaN</td>\n      <td>NaN</td>\n      <td>NaN</td>\n      <td>NaN</td>\n      <td>NaN</td>\n      <td>NaN</td>\n    </tr>\n    <tr>\n      <th>21</th>\n      <td>0.9</td>\n      <td>1.0</td>\n      <td>1.0</td>\n      <td>5</td>\n      <td>yes</td>\n      <td>NaN</td>\n      <td>NaN</td>\n      <td>NaN</td>\n      <td>NaN</td>\n      <td>NaN</td>\n      <td>NaN</td>\n      <td>NaN</td>\n      <td>NaN</td>\n      <td>NaN</td>\n      <td>NaN</td>\n      <td>NaN</td>\n    </tr>\n  </tbody>\n</table>\n<p>22 rows × 16 columns</p>\n</div>"
     },
     "metadata": {},
     "execution_count": 10
    }
   ],
   "source": [
    "output.groupby(['covariance','beta1','beta2','p','exp_of_var']).std().reset_index()"
   ]
  },
  {
   "cell_type": "code",
   "execution_count": 11,
   "metadata": {},
   "outputs": [
    {
     "output_type": "execute_result",
     "data": {
      "text/plain": [
       "   covariance  beta1  beta2   p  mismeasured_coef  mismeasured_allvar_coef  \\\n",
       "0         0.5    1.0    1.0   5          1.239877                 1.130403   \n",
       "1         0.5    1.0    1.0  20          1.264090                 1.054896   \n",
       "2         0.5    1.0    1.0  50          1.299301                 1.043388   \n",
       "\n",
       "   mismeasured_avg_coef  pca_coef  true_val_coef   iv_coef   pca_ape  \\\n",
       "0              1.305751  1.144760       0.956871  1.172444  0.144760   \n",
       "1              1.296471  1.083604       1.014924  1.067577  0.083604   \n",
       "2              1.283434  1.067714       1.016150  1.056073  0.067714   \n",
       "\n",
       "   mismeasured_coef_ape  mismeasured_allvar_coef_ape  \\\n",
       "0              0.239877                     0.130403   \n",
       "1              0.264090                     0.054896   \n",
       "2              0.299301                     0.043388   \n",
       "\n",
       "   mismeasured_avg_coef_ape  iv_coef_ape  \n",
       "0                  0.305751     0.172444  \n",
       "1                  0.296471     0.067577  \n",
       "2                  0.283434     0.056073  "
      ],
      "text/html": "<div>\n<style scoped>\n    .dataframe tbody tr th:only-of-type {\n        vertical-align: middle;\n    }\n\n    .dataframe tbody tr th {\n        vertical-align: top;\n    }\n\n    .dataframe thead th {\n        text-align: right;\n    }\n</style>\n<table border=\"1\" class=\"dataframe\">\n  <thead>\n    <tr style=\"text-align: right;\">\n      <th></th>\n      <th>covariance</th>\n      <th>beta1</th>\n      <th>beta2</th>\n      <th>p</th>\n      <th>mismeasured_coef</th>\n      <th>mismeasured_allvar_coef</th>\n      <th>mismeasured_avg_coef</th>\n      <th>pca_coef</th>\n      <th>true_val_coef</th>\n      <th>iv_coef</th>\n      <th>pca_ape</th>\n      <th>mismeasured_coef_ape</th>\n      <th>mismeasured_allvar_coef_ape</th>\n      <th>mismeasured_avg_coef_ape</th>\n      <th>iv_coef_ape</th>\n    </tr>\n  </thead>\n  <tbody>\n    <tr>\n      <th>0</th>\n      <td>0.5</td>\n      <td>1.0</td>\n      <td>1.0</td>\n      <td>5</td>\n      <td>1.239877</td>\n      <td>1.130403</td>\n      <td>1.305751</td>\n      <td>1.144760</td>\n      <td>0.956871</td>\n      <td>1.172444</td>\n      <td>0.144760</td>\n      <td>0.239877</td>\n      <td>0.130403</td>\n      <td>0.305751</td>\n      <td>0.172444</td>\n    </tr>\n    <tr>\n      <th>1</th>\n      <td>0.5</td>\n      <td>1.0</td>\n      <td>1.0</td>\n      <td>20</td>\n      <td>1.264090</td>\n      <td>1.054896</td>\n      <td>1.296471</td>\n      <td>1.083604</td>\n      <td>1.014924</td>\n      <td>1.067577</td>\n      <td>0.083604</td>\n      <td>0.264090</td>\n      <td>0.054896</td>\n      <td>0.296471</td>\n      <td>0.067577</td>\n    </tr>\n    <tr>\n      <th>2</th>\n      <td>0.5</td>\n      <td>1.0</td>\n      <td>1.0</td>\n      <td>50</td>\n      <td>1.299301</td>\n      <td>1.043388</td>\n      <td>1.283434</td>\n      <td>1.067714</td>\n      <td>1.016150</td>\n      <td>1.056073</td>\n      <td>0.067714</td>\n      <td>0.299301</td>\n      <td>0.043388</td>\n      <td>0.283434</td>\n      <td>0.056073</td>\n    </tr>\n  </tbody>\n</table>\n</div>"
     },
     "metadata": {},
     "execution_count": 11
    }
   ],
   "source": [
    "output.loc[(output['beta1']==1)&(output['beta2']==1)&(output['covariance'] == 0.5)&(output['exp_of_var']=='yes')].groupby(['covariance','beta1','beta2','p']).mean().reset_index()"
   ]
  },
  {
   "cell_type": "code",
   "execution_count": 12,
   "metadata": {},
   "outputs": [
    {
     "output_type": "execute_result",
     "data": {
      "text/plain": [
       "   covariance  beta1  beta2   p  mismeasured_coef  mismeasured_allvar_coef  \\\n",
       "0         0.5    1.0    1.0   5               NaN                      NaN   \n",
       "1         0.5    1.0    1.0  20               NaN                      NaN   \n",
       "2         0.5    1.0    1.0  50               NaN                      NaN   \n",
       "\n",
       "   mismeasured_avg_coef  pca_coef  true_val_coef  iv_coef  pca_ape  \\\n",
       "0                   NaN       NaN            NaN      NaN      NaN   \n",
       "1                   NaN       NaN            NaN      NaN      NaN   \n",
       "2                   NaN       NaN            NaN      NaN      NaN   \n",
       "\n",
       "   mismeasured_coef_ape  mismeasured_allvar_coef_ape  \\\n",
       "0                   NaN                          NaN   \n",
       "1                   NaN                          NaN   \n",
       "2                   NaN                          NaN   \n",
       "\n",
       "   mismeasured_avg_coef_ape  iv_coef_ape  \n",
       "0                       NaN          NaN  \n",
       "1                       NaN          NaN  \n",
       "2                       NaN          NaN  "
      ],
      "text/html": "<div>\n<style scoped>\n    .dataframe tbody tr th:only-of-type {\n        vertical-align: middle;\n    }\n\n    .dataframe tbody tr th {\n        vertical-align: top;\n    }\n\n    .dataframe thead th {\n        text-align: right;\n    }\n</style>\n<table border=\"1\" class=\"dataframe\">\n  <thead>\n    <tr style=\"text-align: right;\">\n      <th></th>\n      <th>covariance</th>\n      <th>beta1</th>\n      <th>beta2</th>\n      <th>p</th>\n      <th>mismeasured_coef</th>\n      <th>mismeasured_allvar_coef</th>\n      <th>mismeasured_avg_coef</th>\n      <th>pca_coef</th>\n      <th>true_val_coef</th>\n      <th>iv_coef</th>\n      <th>pca_ape</th>\n      <th>mismeasured_coef_ape</th>\n      <th>mismeasured_allvar_coef_ape</th>\n      <th>mismeasured_avg_coef_ape</th>\n      <th>iv_coef_ape</th>\n    </tr>\n  </thead>\n  <tbody>\n    <tr>\n      <th>0</th>\n      <td>0.5</td>\n      <td>1.0</td>\n      <td>1.0</td>\n      <td>5</td>\n      <td>NaN</td>\n      <td>NaN</td>\n      <td>NaN</td>\n      <td>NaN</td>\n      <td>NaN</td>\n      <td>NaN</td>\n      <td>NaN</td>\n      <td>NaN</td>\n      <td>NaN</td>\n      <td>NaN</td>\n      <td>NaN</td>\n    </tr>\n    <tr>\n      <th>1</th>\n      <td>0.5</td>\n      <td>1.0</td>\n      <td>1.0</td>\n      <td>20</td>\n      <td>NaN</td>\n      <td>NaN</td>\n      <td>NaN</td>\n      <td>NaN</td>\n      <td>NaN</td>\n      <td>NaN</td>\n      <td>NaN</td>\n      <td>NaN</td>\n      <td>NaN</td>\n      <td>NaN</td>\n      <td>NaN</td>\n    </tr>\n    <tr>\n      <th>2</th>\n      <td>0.5</td>\n      <td>1.0</td>\n      <td>1.0</td>\n      <td>50</td>\n      <td>NaN</td>\n      <td>NaN</td>\n      <td>NaN</td>\n      <td>NaN</td>\n      <td>NaN</td>\n      <td>NaN</td>\n      <td>NaN</td>\n      <td>NaN</td>\n      <td>NaN</td>\n      <td>NaN</td>\n      <td>NaN</td>\n    </tr>\n  </tbody>\n</table>\n</div>"
     },
     "metadata": {},
     "execution_count": 12
    }
   ],
   "source": [
    "output.loc[(output['beta1']==1)&(output['beta2']==1)&(output['covariance'] == 0.5)&(output['exp_of_var']=='yes')].groupby(['covariance','beta1','beta2','p']).std().reset_index()"
   ]
  },
  {
   "cell_type": "code",
   "execution_count": 13,
   "metadata": {},
   "outputs": [],
   "source": [
    "def std_parenth_padder(type_col, col_to_pad):\n",
    "    if type_col == 'std':\n",
    "        return('(' + col_to_pad + ')')\n",
    "    else:\n",
    "        return(col_to_pad)\n",
    "\n",
    "def format_level_0(type_col, col_to_format):\n",
    "    if type_col == 'std':\n",
    "        return('')\n",
    "    else:\n",
    "        return(col_to_format)"
   ]
  },
  {
   "cell_type": "code",
   "execution_count": 14,
   "metadata": {},
   "outputs": [],
   "source": [
    "import regex as re\n",
    "\n",
    "# Pass this function a pandas dataframe of which to create the LaTeX file\n",
    "# dataframe is the df\n",
    "# filename is the save location\n",
    "# index tells if you want the index saved to the file or not\n",
    "def Minimal_Latex(dataframe, filename, index = False):\n",
    "\n",
    "    # Open file\n",
    "    with open(filename, \"w\") as f:\n",
    "        \n",
    "        # Start from the pandas\n",
    "        corrected_table = dataframe.to_latex(header = False, index = index)\n",
    "\n",
    "        # Strip all material that pandas inserts- the tabular environment and toprule and bottomrule\n",
    "        corrected_table = re.sub(r'\\\\begin.+', '', corrected_table)\n",
    "        corrected_table = re.sub(r'\\\\toprule', '', corrected_table)\n",
    "        corrected_table = re.sub(r'\\\\bottomrule', '', corrected_table)\n",
    "        corrected_table = re.sub(r'\\\\end.+', '', corrected_table)\n",
    "\n",
    "        # Write to file and skip blank lines\n",
    "        f.write(corrected_table.strip())"
   ]
  },
  {
   "cell_type": "code",
   "execution_count": 15,
   "metadata": {},
   "outputs": [],
   "source": [
    "coef_names_mapper = {'mismeasured_coef':'Single Measurement', 'mismeasured_allvar_coef':'All Measurements', 'pca_coef':'PCA', 'mismeasured_avg_coef':'Average of Measurements', 'iv_coef':'Instrumental Variable'}\n",
    "ape_names_mapper = {'mismeasured_coef_ape':'Single Measurement', 'mismeasured_allvar_coef_ape':'All Measurements', 'pca_ape':'PCA', 'mismeasured_avg_coef_ape':'Average of Measurements', 'iv_coef_ape':'Instrumental Variable'}"
   ]
  },
  {
   "cell_type": "code",
   "execution_count": 16,
   "metadata": {},
   "outputs": [
    {
     "output_type": "execute_result",
     "data": {
      "text/plain": [
       "p                       level_0 level_1      five    twenty     fifty\n",
       "0              mismeasured_coef    mean  1.239877  1.264090  1.299301\n",
       "1              mismeasured_coef     std       NaN       NaN       NaN\n",
       "2       mismeasured_allvar_coef    mean  1.130403  1.054896  1.043388\n",
       "3       mismeasured_allvar_coef     std       NaN       NaN       NaN\n",
       "4          mismeasured_avg_coef    mean  1.305751  1.296471  1.283434\n",
       "..                          ...     ...       ...       ...       ...\n",
       "17  mismeasured_allvar_coef_ape     std       NaN       NaN       NaN\n",
       "18     mismeasured_avg_coef_ape    mean  0.305751  0.296471  0.283434\n",
       "19     mismeasured_avg_coef_ape     std       NaN       NaN       NaN\n",
       "20                  iv_coef_ape    mean  0.172444  0.067577  0.056073\n",
       "21                  iv_coef_ape     std       NaN       NaN       NaN\n",
       "\n",
       "[22 rows x 5 columns]"
      ],
      "text/html": "<div>\n<style scoped>\n    .dataframe tbody tr th:only-of-type {\n        vertical-align: middle;\n    }\n\n    .dataframe tbody tr th {\n        vertical-align: top;\n    }\n\n    .dataframe thead th {\n        text-align: right;\n    }\n</style>\n<table border=\"1\" class=\"dataframe\">\n  <thead>\n    <tr style=\"text-align: right;\">\n      <th>p</th>\n      <th>level_0</th>\n      <th>level_1</th>\n      <th>five</th>\n      <th>twenty</th>\n      <th>fifty</th>\n    </tr>\n  </thead>\n  <tbody>\n    <tr>\n      <th>0</th>\n      <td>mismeasured_coef</td>\n      <td>mean</td>\n      <td>1.239877</td>\n      <td>1.264090</td>\n      <td>1.299301</td>\n    </tr>\n    <tr>\n      <th>1</th>\n      <td>mismeasured_coef</td>\n      <td>std</td>\n      <td>NaN</td>\n      <td>NaN</td>\n      <td>NaN</td>\n    </tr>\n    <tr>\n      <th>2</th>\n      <td>mismeasured_allvar_coef</td>\n      <td>mean</td>\n      <td>1.130403</td>\n      <td>1.054896</td>\n      <td>1.043388</td>\n    </tr>\n    <tr>\n      <th>3</th>\n      <td>mismeasured_allvar_coef</td>\n      <td>std</td>\n      <td>NaN</td>\n      <td>NaN</td>\n      <td>NaN</td>\n    </tr>\n    <tr>\n      <th>4</th>\n      <td>mismeasured_avg_coef</td>\n      <td>mean</td>\n      <td>1.305751</td>\n      <td>1.296471</td>\n      <td>1.283434</td>\n    </tr>\n    <tr>\n      <th>...</th>\n      <td>...</td>\n      <td>...</td>\n      <td>...</td>\n      <td>...</td>\n      <td>...</td>\n    </tr>\n    <tr>\n      <th>17</th>\n      <td>mismeasured_allvar_coef_ape</td>\n      <td>std</td>\n      <td>NaN</td>\n      <td>NaN</td>\n      <td>NaN</td>\n    </tr>\n    <tr>\n      <th>18</th>\n      <td>mismeasured_avg_coef_ape</td>\n      <td>mean</td>\n      <td>0.305751</td>\n      <td>0.296471</td>\n      <td>0.283434</td>\n    </tr>\n    <tr>\n      <th>19</th>\n      <td>mismeasured_avg_coef_ape</td>\n      <td>std</td>\n      <td>NaN</td>\n      <td>NaN</td>\n      <td>NaN</td>\n    </tr>\n    <tr>\n      <th>20</th>\n      <td>iv_coef_ape</td>\n      <td>mean</td>\n      <td>0.172444</td>\n      <td>0.067577</td>\n      <td>0.056073</td>\n    </tr>\n    <tr>\n      <th>21</th>\n      <td>iv_coef_ape</td>\n      <td>std</td>\n      <td>NaN</td>\n      <td>NaN</td>\n      <td>NaN</td>\n    </tr>\n  </tbody>\n</table>\n<p>22 rows × 5 columns</p>\n</div>"
     },
     "metadata": {},
     "execution_count": 16
    }
   ],
   "source": [
    "sim_reg_p = (output.loc[(output['beta1']==1)&(output['beta2']==1)&(output['covariance'] == 0.5)&(output['exp_of_var']=='yes')]\n",
    "                   .drop(columns=['covariance', 'beta1', 'beta2'])\n",
    "                   .groupby('p')\n",
    "                   .agg(['mean', 'std'])\n",
    "                   .transpose()\n",
    "                   .reset_index()\n",
    "                   .rename(columns = {5:'five', 20:'twenty', 50:'fifty'}))\n",
    "\n",
    "sim_reg_p"
   ]
  },
  {
   "cell_type": "code",
   "execution_count": 17,
   "metadata": {},
   "outputs": [
    {
     "output_type": "execute_result",
     "data": {
      "text/plain": [
       "p                   level_0   five twenty  fifty\n",
       "0        Single Measurement   1.24  1.264  1.299\n",
       "1                            (nan)  (nan)  (nan)\n",
       "2          All Measurements   1.13  1.055  1.043\n",
       "3                            (nan)  (nan)  (nan)\n",
       "4   Average of Measurements  1.306  1.296  1.283\n",
       "5                            (nan)  (nan)  (nan)\n",
       "6                       PCA  1.145  1.084  1.068\n",
       "7                            (nan)  (nan)  (nan)\n",
       "10    Instrumental Variable  1.172  1.068  1.056\n",
       "11                           (nan)  (nan)  (nan)"
      ],
      "text/html": "<div>\n<style scoped>\n    .dataframe tbody tr th:only-of-type {\n        vertical-align: middle;\n    }\n\n    .dataframe tbody tr th {\n        vertical-align: top;\n    }\n\n    .dataframe thead th {\n        text-align: right;\n    }\n</style>\n<table border=\"1\" class=\"dataframe\">\n  <thead>\n    <tr style=\"text-align: right;\">\n      <th>p</th>\n      <th>level_0</th>\n      <th>five</th>\n      <th>twenty</th>\n      <th>fifty</th>\n    </tr>\n  </thead>\n  <tbody>\n    <tr>\n      <th>0</th>\n      <td>Single Measurement</td>\n      <td>1.24</td>\n      <td>1.264</td>\n      <td>1.299</td>\n    </tr>\n    <tr>\n      <th>1</th>\n      <td></td>\n      <td>(nan)</td>\n      <td>(nan)</td>\n      <td>(nan)</td>\n    </tr>\n    <tr>\n      <th>2</th>\n      <td>All Measurements</td>\n      <td>1.13</td>\n      <td>1.055</td>\n      <td>1.043</td>\n    </tr>\n    <tr>\n      <th>3</th>\n      <td></td>\n      <td>(nan)</td>\n      <td>(nan)</td>\n      <td>(nan)</td>\n    </tr>\n    <tr>\n      <th>4</th>\n      <td>Average of Measurements</td>\n      <td>1.306</td>\n      <td>1.296</td>\n      <td>1.283</td>\n    </tr>\n    <tr>\n      <th>5</th>\n      <td></td>\n      <td>(nan)</td>\n      <td>(nan)</td>\n      <td>(nan)</td>\n    </tr>\n    <tr>\n      <th>6</th>\n      <td>PCA</td>\n      <td>1.145</td>\n      <td>1.084</td>\n      <td>1.068</td>\n    </tr>\n    <tr>\n      <th>7</th>\n      <td></td>\n      <td>(nan)</td>\n      <td>(nan)</td>\n      <td>(nan)</td>\n    </tr>\n    <tr>\n      <th>10</th>\n      <td>Instrumental Variable</td>\n      <td>1.172</td>\n      <td>1.068</td>\n      <td>1.056</td>\n    </tr>\n    <tr>\n      <th>11</th>\n      <td></td>\n      <td>(nan)</td>\n      <td>(nan)</td>\n      <td>(nan)</td>\n    </tr>\n  </tbody>\n</table>\n</div>"
     },
     "metadata": {},
     "execution_count": 17
    }
   ],
   "source": [
    "sim_reg_p_coefs = (sim_reg_p.query('level_0.str.contains(\"coef\")')\n",
    "                            .query('level_0 != \"true_val_coef\"')\n",
    "                            .query('not level_0.str.contains(\"ape\")')\n",
    "                            .round(3)\n",
    "                            .astype(str))\n",
    "\n",
    "sim_reg_p_coefs['five'] = sim_reg_p_coefs.apply(lambda x: std_parenth_padder(x.level_1, x.five), axis = 1)\n",
    "sim_reg_p_coefs['twenty'] = sim_reg_p_coefs.apply(lambda x: std_parenth_padder(x.level_1, x.twenty), axis = 1)\n",
    "sim_reg_p_coefs['fifty'] = sim_reg_p_coefs.apply(lambda x: std_parenth_padder(x.level_1, x.fifty), axis = 1)\n",
    "\n",
    "sim_reg_p_coefs['level_0'] = sim_reg_p_coefs.apply(lambda x: format_level_0(x.level_1, x.level_0), axis = 1)\n",
    "\n",
    "sim_reg_p_coefs = (sim_reg_p_coefs.drop(columns = 'level_1')\n",
    "                                  .replace(coef_names_mapper))\n",
    "\n",
    "Minimal_Latex(sim_reg_p_coefs, tables_dir + '/p_coefs_exp.tex')\n",
    "\n",
    "sim_reg_p_coefs"
   ]
  },
  {
   "cell_type": "code",
   "execution_count": 18,
   "metadata": {},
   "outputs": [
    {
     "output_type": "execute_result",
     "data": {
      "text/plain": [
       "p                  level_0   five twenty  fifty\n",
       "0                      PCA  14.5%   8.4%   6.8%\n",
       "1       Single Measurement  24.0%  26.4%  29.9%\n",
       "2         All Measurements  13.0%   5.5%   4.3%\n",
       "3  Average of Measurements  30.6%  29.6%  28.3%\n",
       "4    Instrumental Variable  17.2%   6.8%   5.6%"
      ],
      "text/html": "<div>\n<style scoped>\n    .dataframe tbody tr th:only-of-type {\n        vertical-align: middle;\n    }\n\n    .dataframe tbody tr th {\n        vertical-align: top;\n    }\n\n    .dataframe thead th {\n        text-align: right;\n    }\n</style>\n<table border=\"1\" class=\"dataframe\">\n  <thead>\n    <tr style=\"text-align: right;\">\n      <th>p</th>\n      <th>level_0</th>\n      <th>five</th>\n      <th>twenty</th>\n      <th>fifty</th>\n    </tr>\n  </thead>\n  <tbody>\n    <tr>\n      <th>0</th>\n      <td>PCA</td>\n      <td>14.5%</td>\n      <td>8.4%</td>\n      <td>6.8%</td>\n    </tr>\n    <tr>\n      <th>1</th>\n      <td>Single Measurement</td>\n      <td>24.0%</td>\n      <td>26.4%</td>\n      <td>29.9%</td>\n    </tr>\n    <tr>\n      <th>2</th>\n      <td>All Measurements</td>\n      <td>13.0%</td>\n      <td>5.5%</td>\n      <td>4.3%</td>\n    </tr>\n    <tr>\n      <th>3</th>\n      <td>Average of Measurements</td>\n      <td>30.6%</td>\n      <td>29.6%</td>\n      <td>28.3%</td>\n    </tr>\n    <tr>\n      <th>4</th>\n      <td>Instrumental Variable</td>\n      <td>17.2%</td>\n      <td>6.8%</td>\n      <td>5.6%</td>\n    </tr>\n  </tbody>\n</table>\n</div>"
     },
     "metadata": {},
     "execution_count": 18
    }
   ],
   "source": [
    "sim_reg_p_apes = (sim_reg_p.query('level_0.str.contains(\"ape\")')\n",
    "                           .query('level_1 != \"std\"')\n",
    "                           .drop(columns = 'level_1')\n",
    "                           .replace(ape_names_mapper)\n",
    "                           .set_index('level_0')\n",
    "                           .multiply(100)\n",
    "                           .round(1)\n",
    "                           .astype(str)\n",
    "                           .add('%')\n",
    "                           .reset_index())\n",
    "\n",
    "Minimal_Latex(sim_reg_p_apes, tables_dir + '/p_apes_exp.tex')\n",
    "\n",
    "sim_reg_p_apes"
   ]
  },
  {
   "cell_type": "code",
   "execution_count": 19,
   "metadata": {},
   "outputs": [
    {
     "output_type": "execute_result",
     "data": {
      "text/plain": [
       "   covariance  beta1  beta2  p  mismeasured_coef  mismeasured_allvar_coef  \\\n",
       "0         0.5    0.1    1.0  5          0.369439                 0.259652   \n",
       "1         0.5    1.0    1.0  5          1.239877                 1.130403   \n",
       "2         0.5   10.0    1.0  5         10.257260                10.148153   \n",
       "\n",
       "   mismeasured_avg_coef   pca_coef  true_val_coef    iv_coef   pca_ape  \\\n",
       "0              0.443448   0.266809       0.074569   0.314139  1.668085   \n",
       "1              1.305751   1.144760       0.956871   1.172444  0.144760   \n",
       "2             10.348358  10.168153       9.979385  10.205653  0.016815   \n",
       "\n",
       "   mismeasured_coef_ape  mismeasured_allvar_coef_ape  \\\n",
       "0              2.694394                     1.596524   \n",
       "1              0.239877                     0.130403   \n",
       "2              0.025726                     0.014815   \n",
       "\n",
       "   mismeasured_avg_coef_ape  iv_coef_ape  \n",
       "0                  3.434482     2.141391  \n",
       "1                  0.305751     0.172444  \n",
       "2                  0.034836     0.020565  "
      ],
      "text/html": "<div>\n<style scoped>\n    .dataframe tbody tr th:only-of-type {\n        vertical-align: middle;\n    }\n\n    .dataframe tbody tr th {\n        vertical-align: top;\n    }\n\n    .dataframe thead th {\n        text-align: right;\n    }\n</style>\n<table border=\"1\" class=\"dataframe\">\n  <thead>\n    <tr style=\"text-align: right;\">\n      <th></th>\n      <th>covariance</th>\n      <th>beta1</th>\n      <th>beta2</th>\n      <th>p</th>\n      <th>mismeasured_coef</th>\n      <th>mismeasured_allvar_coef</th>\n      <th>mismeasured_avg_coef</th>\n      <th>pca_coef</th>\n      <th>true_val_coef</th>\n      <th>iv_coef</th>\n      <th>pca_ape</th>\n      <th>mismeasured_coef_ape</th>\n      <th>mismeasured_allvar_coef_ape</th>\n      <th>mismeasured_avg_coef_ape</th>\n      <th>iv_coef_ape</th>\n    </tr>\n  </thead>\n  <tbody>\n    <tr>\n      <th>0</th>\n      <td>0.5</td>\n      <td>0.1</td>\n      <td>1.0</td>\n      <td>5</td>\n      <td>0.369439</td>\n      <td>0.259652</td>\n      <td>0.443448</td>\n      <td>0.266809</td>\n      <td>0.074569</td>\n      <td>0.314139</td>\n      <td>1.668085</td>\n      <td>2.694394</td>\n      <td>1.596524</td>\n      <td>3.434482</td>\n      <td>2.141391</td>\n    </tr>\n    <tr>\n      <th>1</th>\n      <td>0.5</td>\n      <td>1.0</td>\n      <td>1.0</td>\n      <td>5</td>\n      <td>1.239877</td>\n      <td>1.130403</td>\n      <td>1.305751</td>\n      <td>1.144760</td>\n      <td>0.956871</td>\n      <td>1.172444</td>\n      <td>0.144760</td>\n      <td>0.239877</td>\n      <td>0.130403</td>\n      <td>0.305751</td>\n      <td>0.172444</td>\n    </tr>\n    <tr>\n      <th>2</th>\n      <td>0.5</td>\n      <td>10.0</td>\n      <td>1.0</td>\n      <td>5</td>\n      <td>10.257260</td>\n      <td>10.148153</td>\n      <td>10.348358</td>\n      <td>10.168153</td>\n      <td>9.979385</td>\n      <td>10.205653</td>\n      <td>0.016815</td>\n      <td>0.025726</td>\n      <td>0.014815</td>\n      <td>0.034836</td>\n      <td>0.020565</td>\n    </tr>\n  </tbody>\n</table>\n</div>"
     },
     "metadata": {},
     "execution_count": 19
    }
   ],
   "source": [
    "output.loc[(output['p']==5)&(output['beta2']==1)&(output['covariance'] == 0.5)&(output['exp_of_var']=='yes')].groupby(['covariance','beta1','beta2','p']).mean().reset_index()"
   ]
  },
  {
   "cell_type": "code",
   "execution_count": 20,
   "metadata": {},
   "outputs": [
    {
     "output_type": "execute_result",
     "data": {
      "text/plain": [
       "   covariance  beta1  beta2  p  mismeasured_coef  mismeasured_allvar_coef  \\\n",
       "0         0.5    0.1    1.0  5               NaN                      NaN   \n",
       "1         0.5    1.0    1.0  5               NaN                      NaN   \n",
       "2         0.5   10.0    1.0  5               NaN                      NaN   \n",
       "\n",
       "   mismeasured_avg_coef  pca_coef  true_val_coef  iv_coef  pca_ape  \\\n",
       "0                   NaN       NaN            NaN      NaN      NaN   \n",
       "1                   NaN       NaN            NaN      NaN      NaN   \n",
       "2                   NaN       NaN            NaN      NaN      NaN   \n",
       "\n",
       "   mismeasured_coef_ape  mismeasured_allvar_coef_ape  \\\n",
       "0                   NaN                          NaN   \n",
       "1                   NaN                          NaN   \n",
       "2                   NaN                          NaN   \n",
       "\n",
       "   mismeasured_avg_coef_ape  iv_coef_ape  \n",
       "0                       NaN          NaN  \n",
       "1                       NaN          NaN  \n",
       "2                       NaN          NaN  "
      ],
      "text/html": "<div>\n<style scoped>\n    .dataframe tbody tr th:only-of-type {\n        vertical-align: middle;\n    }\n\n    .dataframe tbody tr th {\n        vertical-align: top;\n    }\n\n    .dataframe thead th {\n        text-align: right;\n    }\n</style>\n<table border=\"1\" class=\"dataframe\">\n  <thead>\n    <tr style=\"text-align: right;\">\n      <th></th>\n      <th>covariance</th>\n      <th>beta1</th>\n      <th>beta2</th>\n      <th>p</th>\n      <th>mismeasured_coef</th>\n      <th>mismeasured_allvar_coef</th>\n      <th>mismeasured_avg_coef</th>\n      <th>pca_coef</th>\n      <th>true_val_coef</th>\n      <th>iv_coef</th>\n      <th>pca_ape</th>\n      <th>mismeasured_coef_ape</th>\n      <th>mismeasured_allvar_coef_ape</th>\n      <th>mismeasured_avg_coef_ape</th>\n      <th>iv_coef_ape</th>\n    </tr>\n  </thead>\n  <tbody>\n    <tr>\n      <th>0</th>\n      <td>0.5</td>\n      <td>0.1</td>\n      <td>1.0</td>\n      <td>5</td>\n      <td>NaN</td>\n      <td>NaN</td>\n      <td>NaN</td>\n      <td>NaN</td>\n      <td>NaN</td>\n      <td>NaN</td>\n      <td>NaN</td>\n      <td>NaN</td>\n      <td>NaN</td>\n      <td>NaN</td>\n      <td>NaN</td>\n    </tr>\n    <tr>\n      <th>1</th>\n      <td>0.5</td>\n      <td>1.0</td>\n      <td>1.0</td>\n      <td>5</td>\n      <td>NaN</td>\n      <td>NaN</td>\n      <td>NaN</td>\n      <td>NaN</td>\n      <td>NaN</td>\n      <td>NaN</td>\n      <td>NaN</td>\n      <td>NaN</td>\n      <td>NaN</td>\n      <td>NaN</td>\n      <td>NaN</td>\n    </tr>\n    <tr>\n      <th>2</th>\n      <td>0.5</td>\n      <td>10.0</td>\n      <td>1.0</td>\n      <td>5</td>\n      <td>NaN</td>\n      <td>NaN</td>\n      <td>NaN</td>\n      <td>NaN</td>\n      <td>NaN</td>\n      <td>NaN</td>\n      <td>NaN</td>\n      <td>NaN</td>\n      <td>NaN</td>\n      <td>NaN</td>\n      <td>NaN</td>\n    </tr>\n  </tbody>\n</table>\n</div>"
     },
     "metadata": {},
     "execution_count": 20
    }
   ],
   "source": [
    "output.loc[(output['p']==5)&(output['beta2']==1)&(output['covariance'] == 0.5)&(output['exp_of_var']=='yes')].groupby(['covariance','beta1','beta2','p']).std().reset_index()"
   ]
  },
  {
   "cell_type": "code",
   "execution_count": null,
   "metadata": {},
   "outputs": [],
   "source": []
  },
  {
   "cell_type": "code",
   "execution_count": 21,
   "metadata": {},
   "outputs": [
    {
     "output_type": "execute_result",
     "data": {
      "text/plain": [
       "   covariance  beta1  beta2  p  mismeasured_coef  mismeasured_allvar_coef  \\\n",
       "0         0.5    1.0    0.1  5          1.037412                 1.031412   \n",
       "1         0.5    1.0    1.0  5          1.239877                 1.130403   \n",
       "2         0.5    1.0   10.0  5          3.835763                 2.736777   \n",
       "\n",
       "   mismeasured_avg_coef  pca_coef  true_val_coef   iv_coef   pca_ape  \\\n",
       "0              1.043361  1.033029       1.008602  1.040223  0.033029   \n",
       "1              1.305751  1.144760       0.956871  1.172444  0.144760   \n",
       "2              4.889809  3.033415       0.955749  3.386664  2.033415   \n",
       "\n",
       "   mismeasured_coef_ape  mismeasured_allvar_coef_ape  \\\n",
       "0              0.037412                     0.031412   \n",
       "1              0.239877                     0.130403   \n",
       "2              2.835763                     1.736777   \n",
       "\n",
       "   mismeasured_avg_coef_ape  iv_coef_ape  \n",
       "0                  0.043361     0.040223  \n",
       "1                  0.305751     0.172444  \n",
       "2                  3.889809     2.386664  "
      ],
      "text/html": "<div>\n<style scoped>\n    .dataframe tbody tr th:only-of-type {\n        vertical-align: middle;\n    }\n\n    .dataframe tbody tr th {\n        vertical-align: top;\n    }\n\n    .dataframe thead th {\n        text-align: right;\n    }\n</style>\n<table border=\"1\" class=\"dataframe\">\n  <thead>\n    <tr style=\"text-align: right;\">\n      <th></th>\n      <th>covariance</th>\n      <th>beta1</th>\n      <th>beta2</th>\n      <th>p</th>\n      <th>mismeasured_coef</th>\n      <th>mismeasured_allvar_coef</th>\n      <th>mismeasured_avg_coef</th>\n      <th>pca_coef</th>\n      <th>true_val_coef</th>\n      <th>iv_coef</th>\n      <th>pca_ape</th>\n      <th>mismeasured_coef_ape</th>\n      <th>mismeasured_allvar_coef_ape</th>\n      <th>mismeasured_avg_coef_ape</th>\n      <th>iv_coef_ape</th>\n    </tr>\n  </thead>\n  <tbody>\n    <tr>\n      <th>0</th>\n      <td>0.5</td>\n      <td>1.0</td>\n      <td>0.1</td>\n      <td>5</td>\n      <td>1.037412</td>\n      <td>1.031412</td>\n      <td>1.043361</td>\n      <td>1.033029</td>\n      <td>1.008602</td>\n      <td>1.040223</td>\n      <td>0.033029</td>\n      <td>0.037412</td>\n      <td>0.031412</td>\n      <td>0.043361</td>\n      <td>0.040223</td>\n    </tr>\n    <tr>\n      <th>1</th>\n      <td>0.5</td>\n      <td>1.0</td>\n      <td>1.0</td>\n      <td>5</td>\n      <td>1.239877</td>\n      <td>1.130403</td>\n      <td>1.305751</td>\n      <td>1.144760</td>\n      <td>0.956871</td>\n      <td>1.172444</td>\n      <td>0.144760</td>\n      <td>0.239877</td>\n      <td>0.130403</td>\n      <td>0.305751</td>\n      <td>0.172444</td>\n    </tr>\n    <tr>\n      <th>2</th>\n      <td>0.5</td>\n      <td>1.0</td>\n      <td>10.0</td>\n      <td>5</td>\n      <td>3.835763</td>\n      <td>2.736777</td>\n      <td>4.889809</td>\n      <td>3.033415</td>\n      <td>0.955749</td>\n      <td>3.386664</td>\n      <td>2.033415</td>\n      <td>2.835763</td>\n      <td>1.736777</td>\n      <td>3.889809</td>\n      <td>2.386664</td>\n    </tr>\n  </tbody>\n</table>\n</div>"
     },
     "metadata": {},
     "execution_count": 21
    }
   ],
   "source": [
    "output.loc[(output['beta1']==1)&(output['p']==5)&(output['covariance'] == 0.5)&(output['exp_of_var']=='yes')].groupby(['covariance','beta1','beta2','p']).mean().reset_index()"
   ]
  },
  {
   "cell_type": "code",
   "execution_count": 22,
   "metadata": {},
   "outputs": [
    {
     "output_type": "execute_result",
     "data": {
      "text/plain": [
       "   covariance  beta1  beta2  p  mismeasured_coef  mismeasured_allvar_coef  \\\n",
       "0         0.5    1.0    0.1  5               NaN                      NaN   \n",
       "1         0.5    1.0    1.0  5               NaN                      NaN   \n",
       "2         0.5    1.0   10.0  5               NaN                      NaN   \n",
       "\n",
       "   mismeasured_avg_coef  pca_coef  true_val_coef  iv_coef  pca_ape  \\\n",
       "0                   NaN       NaN            NaN      NaN      NaN   \n",
       "1                   NaN       NaN            NaN      NaN      NaN   \n",
       "2                   NaN       NaN            NaN      NaN      NaN   \n",
       "\n",
       "   mismeasured_coef_ape  mismeasured_allvar_coef_ape  \\\n",
       "0                   NaN                          NaN   \n",
       "1                   NaN                          NaN   \n",
       "2                   NaN                          NaN   \n",
       "\n",
       "   mismeasured_avg_coef_ape  iv_coef_ape  \n",
       "0                       NaN          NaN  \n",
       "1                       NaN          NaN  \n",
       "2                       NaN          NaN  "
      ],
      "text/html": "<div>\n<style scoped>\n    .dataframe tbody tr th:only-of-type {\n        vertical-align: middle;\n    }\n\n    .dataframe tbody tr th {\n        vertical-align: top;\n    }\n\n    .dataframe thead th {\n        text-align: right;\n    }\n</style>\n<table border=\"1\" class=\"dataframe\">\n  <thead>\n    <tr style=\"text-align: right;\">\n      <th></th>\n      <th>covariance</th>\n      <th>beta1</th>\n      <th>beta2</th>\n      <th>p</th>\n      <th>mismeasured_coef</th>\n      <th>mismeasured_allvar_coef</th>\n      <th>mismeasured_avg_coef</th>\n      <th>pca_coef</th>\n      <th>true_val_coef</th>\n      <th>iv_coef</th>\n      <th>pca_ape</th>\n      <th>mismeasured_coef_ape</th>\n      <th>mismeasured_allvar_coef_ape</th>\n      <th>mismeasured_avg_coef_ape</th>\n      <th>iv_coef_ape</th>\n    </tr>\n  </thead>\n  <tbody>\n    <tr>\n      <th>0</th>\n      <td>0.5</td>\n      <td>1.0</td>\n      <td>0.1</td>\n      <td>5</td>\n      <td>NaN</td>\n      <td>NaN</td>\n      <td>NaN</td>\n      <td>NaN</td>\n      <td>NaN</td>\n      <td>NaN</td>\n      <td>NaN</td>\n      <td>NaN</td>\n      <td>NaN</td>\n      <td>NaN</td>\n      <td>NaN</td>\n    </tr>\n    <tr>\n      <th>1</th>\n      <td>0.5</td>\n      <td>1.0</td>\n      <td>1.0</td>\n      <td>5</td>\n      <td>NaN</td>\n      <td>NaN</td>\n      <td>NaN</td>\n      <td>NaN</td>\n      <td>NaN</td>\n      <td>NaN</td>\n      <td>NaN</td>\n      <td>NaN</td>\n      <td>NaN</td>\n      <td>NaN</td>\n      <td>NaN</td>\n    </tr>\n    <tr>\n      <th>2</th>\n      <td>0.5</td>\n      <td>1.0</td>\n      <td>10.0</td>\n      <td>5</td>\n      <td>NaN</td>\n      <td>NaN</td>\n      <td>NaN</td>\n      <td>NaN</td>\n      <td>NaN</td>\n      <td>NaN</td>\n      <td>NaN</td>\n      <td>NaN</td>\n      <td>NaN</td>\n      <td>NaN</td>\n      <td>NaN</td>\n    </tr>\n  </tbody>\n</table>\n</div>"
     },
     "metadata": {},
     "execution_count": 22
    }
   ],
   "source": [
    "output.loc[(output['beta1']==1)&(output['p']==5)&(output['covariance'] == 0.5)&(output['exp_of_var']=='yes')].groupby(['covariance','beta1','beta2','p']).std().reset_index()"
   ]
  },
  {
   "cell_type": "code",
   "execution_count": null,
   "metadata": {},
   "outputs": [],
   "source": []
  },
  {
   "cell_type": "code",
   "execution_count": 23,
   "metadata": {},
   "outputs": [
    {
     "output_type": "execute_result",
     "data": {
      "text/plain": [
       "   covariance  beta1  beta2  p  mismeasured_coef  mismeasured_allvar_coef  \\\n",
       "0        -0.9    1.0    1.0  5          0.254457                 0.394852   \n",
       "1        -0.5    1.0    1.0  5          0.718394                 0.822276   \n",
       "2         0.0    1.0    1.0  5          1.015138                 1.014898   \n",
       "3         0.5    1.0    1.0  5          1.239877                 1.130403   \n",
       "4         0.9    1.0    1.0  5          1.779489                 1.608337   \n",
       "\n",
       "   mismeasured_avg_coef  pca_coef  true_val_coef   iv_coef   pca_ape  \\\n",
       "0              0.161883  0.328149       0.993651  0.322783  0.671851   \n",
       "1              0.640263  0.806271       1.006469  0.769591  0.193729   \n",
       "2              1.025816  1.033058       1.018260  1.026033  0.033058   \n",
       "3              1.305751  1.144760       0.956871  1.172444  0.144760   \n",
       "4              1.825720  1.681415       0.894170  1.664195  0.681415   \n",
       "\n",
       "   mismeasured_coef_ape  mismeasured_allvar_coef_ape  \\\n",
       "0              0.745543                     0.605148   \n",
       "1              0.281606                     0.177724   \n",
       "2              0.015138                     0.014898   \n",
       "3              0.239877                     0.130403   \n",
       "4              0.779489                     0.608337   \n",
       "\n",
       "   mismeasured_avg_coef_ape  iv_coef_ape  \n",
       "0                  0.838117     0.677217  \n",
       "1                  0.359737     0.230409  \n",
       "2                  0.025816     0.026033  \n",
       "3                  0.305751     0.172444  \n",
       "4                  0.825720     0.664195  "
      ],
      "text/html": "<div>\n<style scoped>\n    .dataframe tbody tr th:only-of-type {\n        vertical-align: middle;\n    }\n\n    .dataframe tbody tr th {\n        vertical-align: top;\n    }\n\n    .dataframe thead th {\n        text-align: right;\n    }\n</style>\n<table border=\"1\" class=\"dataframe\">\n  <thead>\n    <tr style=\"text-align: right;\">\n      <th></th>\n      <th>covariance</th>\n      <th>beta1</th>\n      <th>beta2</th>\n      <th>p</th>\n      <th>mismeasured_coef</th>\n      <th>mismeasured_allvar_coef</th>\n      <th>mismeasured_avg_coef</th>\n      <th>pca_coef</th>\n      <th>true_val_coef</th>\n      <th>iv_coef</th>\n      <th>pca_ape</th>\n      <th>mismeasured_coef_ape</th>\n      <th>mismeasured_allvar_coef_ape</th>\n      <th>mismeasured_avg_coef_ape</th>\n      <th>iv_coef_ape</th>\n    </tr>\n  </thead>\n  <tbody>\n    <tr>\n      <th>0</th>\n      <td>-0.9</td>\n      <td>1.0</td>\n      <td>1.0</td>\n      <td>5</td>\n      <td>0.254457</td>\n      <td>0.394852</td>\n      <td>0.161883</td>\n      <td>0.328149</td>\n      <td>0.993651</td>\n      <td>0.322783</td>\n      <td>0.671851</td>\n      <td>0.745543</td>\n      <td>0.605148</td>\n      <td>0.838117</td>\n      <td>0.677217</td>\n    </tr>\n    <tr>\n      <th>1</th>\n      <td>-0.5</td>\n      <td>1.0</td>\n      <td>1.0</td>\n      <td>5</td>\n      <td>0.718394</td>\n      <td>0.822276</td>\n      <td>0.640263</td>\n      <td>0.806271</td>\n      <td>1.006469</td>\n      <td>0.769591</td>\n      <td>0.193729</td>\n      <td>0.281606</td>\n      <td>0.177724</td>\n      <td>0.359737</td>\n      <td>0.230409</td>\n    </tr>\n    <tr>\n      <th>2</th>\n      <td>0.0</td>\n      <td>1.0</td>\n      <td>1.0</td>\n      <td>5</td>\n      <td>1.015138</td>\n      <td>1.014898</td>\n      <td>1.025816</td>\n      <td>1.033058</td>\n      <td>1.018260</td>\n      <td>1.026033</td>\n      <td>0.033058</td>\n      <td>0.015138</td>\n      <td>0.014898</td>\n      <td>0.025816</td>\n      <td>0.026033</td>\n    </tr>\n    <tr>\n      <th>3</th>\n      <td>0.5</td>\n      <td>1.0</td>\n      <td>1.0</td>\n      <td>5</td>\n      <td>1.239877</td>\n      <td>1.130403</td>\n      <td>1.305751</td>\n      <td>1.144760</td>\n      <td>0.956871</td>\n      <td>1.172444</td>\n      <td>0.144760</td>\n      <td>0.239877</td>\n      <td>0.130403</td>\n      <td>0.305751</td>\n      <td>0.172444</td>\n    </tr>\n    <tr>\n      <th>4</th>\n      <td>0.9</td>\n      <td>1.0</td>\n      <td>1.0</td>\n      <td>5</td>\n      <td>1.779489</td>\n      <td>1.608337</td>\n      <td>1.825720</td>\n      <td>1.681415</td>\n      <td>0.894170</td>\n      <td>1.664195</td>\n      <td>0.681415</td>\n      <td>0.779489</td>\n      <td>0.608337</td>\n      <td>0.825720</td>\n      <td>0.664195</td>\n    </tr>\n  </tbody>\n</table>\n</div>"
     },
     "metadata": {},
     "execution_count": 23
    }
   ],
   "source": [
    "output.loc[(output['beta1']==1)&(output['beta2']==1)&(output['p'] == 5)&(output['exp_of_var']=='yes')].groupby(['covariance','beta1','beta2','p']).mean().reset_index()"
   ]
  },
  {
   "cell_type": "code",
   "execution_count": 24,
   "metadata": {},
   "outputs": [
    {
     "output_type": "execute_result",
     "data": {
      "text/plain": [
       "   covariance  beta1  beta2  p  mismeasured_coef  mismeasured_allvar_coef  \\\n",
       "0        -0.9    1.0    1.0  5               NaN                      NaN   \n",
       "1        -0.5    1.0    1.0  5               NaN                      NaN   \n",
       "2         0.0    1.0    1.0  5               NaN                      NaN   \n",
       "3         0.5    1.0    1.0  5               NaN                      NaN   \n",
       "4         0.9    1.0    1.0  5               NaN                      NaN   \n",
       "\n",
       "   mismeasured_avg_coef  pca_coef  true_val_coef  iv_coef  pca_ape  \\\n",
       "0                   NaN       NaN            NaN      NaN      NaN   \n",
       "1                   NaN       NaN            NaN      NaN      NaN   \n",
       "2                   NaN       NaN            NaN      NaN      NaN   \n",
       "3                   NaN       NaN            NaN      NaN      NaN   \n",
       "4                   NaN       NaN            NaN      NaN      NaN   \n",
       "\n",
       "   mismeasured_coef_ape  mismeasured_allvar_coef_ape  \\\n",
       "0                   NaN                          NaN   \n",
       "1                   NaN                          NaN   \n",
       "2                   NaN                          NaN   \n",
       "3                   NaN                          NaN   \n",
       "4                   NaN                          NaN   \n",
       "\n",
       "   mismeasured_avg_coef_ape  iv_coef_ape  \n",
       "0                       NaN          NaN  \n",
       "1                       NaN          NaN  \n",
       "2                       NaN          NaN  \n",
       "3                       NaN          NaN  \n",
       "4                       NaN          NaN  "
      ],
      "text/html": "<div>\n<style scoped>\n    .dataframe tbody tr th:only-of-type {\n        vertical-align: middle;\n    }\n\n    .dataframe tbody tr th {\n        vertical-align: top;\n    }\n\n    .dataframe thead th {\n        text-align: right;\n    }\n</style>\n<table border=\"1\" class=\"dataframe\">\n  <thead>\n    <tr style=\"text-align: right;\">\n      <th></th>\n      <th>covariance</th>\n      <th>beta1</th>\n      <th>beta2</th>\n      <th>p</th>\n      <th>mismeasured_coef</th>\n      <th>mismeasured_allvar_coef</th>\n      <th>mismeasured_avg_coef</th>\n      <th>pca_coef</th>\n      <th>true_val_coef</th>\n      <th>iv_coef</th>\n      <th>pca_ape</th>\n      <th>mismeasured_coef_ape</th>\n      <th>mismeasured_allvar_coef_ape</th>\n      <th>mismeasured_avg_coef_ape</th>\n      <th>iv_coef_ape</th>\n    </tr>\n  </thead>\n  <tbody>\n    <tr>\n      <th>0</th>\n      <td>-0.9</td>\n      <td>1.0</td>\n      <td>1.0</td>\n      <td>5</td>\n      <td>NaN</td>\n      <td>NaN</td>\n      <td>NaN</td>\n      <td>NaN</td>\n      <td>NaN</td>\n      <td>NaN</td>\n      <td>NaN</td>\n      <td>NaN</td>\n      <td>NaN</td>\n      <td>NaN</td>\n      <td>NaN</td>\n    </tr>\n    <tr>\n      <th>1</th>\n      <td>-0.5</td>\n      <td>1.0</td>\n      <td>1.0</td>\n      <td>5</td>\n      <td>NaN</td>\n      <td>NaN</td>\n      <td>NaN</td>\n      <td>NaN</td>\n      <td>NaN</td>\n      <td>NaN</td>\n      <td>NaN</td>\n      <td>NaN</td>\n      <td>NaN</td>\n      <td>NaN</td>\n      <td>NaN</td>\n    </tr>\n    <tr>\n      <th>2</th>\n      <td>0.0</td>\n      <td>1.0</td>\n      <td>1.0</td>\n      <td>5</td>\n      <td>NaN</td>\n      <td>NaN</td>\n      <td>NaN</td>\n      <td>NaN</td>\n      <td>NaN</td>\n      <td>NaN</td>\n      <td>NaN</td>\n      <td>NaN</td>\n      <td>NaN</td>\n      <td>NaN</td>\n      <td>NaN</td>\n    </tr>\n    <tr>\n      <th>3</th>\n      <td>0.5</td>\n      <td>1.0</td>\n      <td>1.0</td>\n      <td>5</td>\n      <td>NaN</td>\n      <td>NaN</td>\n      <td>NaN</td>\n      <td>NaN</td>\n      <td>NaN</td>\n      <td>NaN</td>\n      <td>NaN</td>\n      <td>NaN</td>\n      <td>NaN</td>\n      <td>NaN</td>\n      <td>NaN</td>\n    </tr>\n    <tr>\n      <th>4</th>\n      <td>0.9</td>\n      <td>1.0</td>\n      <td>1.0</td>\n      <td>5</td>\n      <td>NaN</td>\n      <td>NaN</td>\n      <td>NaN</td>\n      <td>NaN</td>\n      <td>NaN</td>\n      <td>NaN</td>\n      <td>NaN</td>\n      <td>NaN</td>\n      <td>NaN</td>\n      <td>NaN</td>\n      <td>NaN</td>\n    </tr>\n  </tbody>\n</table>\n</div>"
     },
     "metadata": {},
     "execution_count": 24
    }
   ],
   "source": [
    "output.loc[(output['beta1']==1)&(output['beta2']==1)&(output['p'] == 5)&(output['exp_of_var']=='yes')].groupby(['covariance','beta1','beta2','p']).std().reset_index()"
   ]
  },
  {
   "cell_type": "code",
   "execution_count": null,
   "metadata": {},
   "outputs": [],
   "source": []
  },
  {
   "cell_type": "code",
   "execution_count": null,
   "metadata": {},
   "outputs": [],
   "source": []
  },
  {
   "cell_type": "code",
   "execution_count": 25,
   "metadata": {},
   "outputs": [
    {
     "output_type": "execute_result",
     "data": {
      "text/plain": [
       "   covariance  beta1  beta2   p exp_of_var  mismeasured_coef  \\\n",
       "0         0.5    1.0    1.0   5         no          1.259002   \n",
       "1         0.5    1.0    1.0  20         no          1.270695   \n",
       "2         0.5    1.0    1.0  50         no          1.309008   \n",
       "\n",
       "   mismeasured_allvar_coef  mismeasured_avg_coef  pca_coef  true_val_coef  \\\n",
       "0                 1.107635              1.103682  1.103888       0.988199   \n",
       "1                 1.029734              1.028652  1.028752       0.999400   \n",
       "2                 1.015198              1.015221  1.016186       1.006790   \n",
       "\n",
       "    iv_coef   pca_ape  mismeasured_coef_ape  mismeasured_allvar_coef_ape  \\\n",
       "0  1.128105  0.103888              0.259002                     0.107635   \n",
       "1  1.036479  0.028752              0.270695                     0.029734   \n",
       "2  1.029574  0.016186              0.309008                     0.015198   \n",
       "\n",
       "   mismeasured_avg_coef_ape  iv_coef_ape  \n",
       "0                  0.103682     0.128105  \n",
       "1                  0.028652     0.036479  \n",
       "2                  0.015221     0.029574  "
      ],
      "text/html": "<div>\n<style scoped>\n    .dataframe tbody tr th:only-of-type {\n        vertical-align: middle;\n    }\n\n    .dataframe tbody tr th {\n        vertical-align: top;\n    }\n\n    .dataframe thead th {\n        text-align: right;\n    }\n</style>\n<table border=\"1\" class=\"dataframe\">\n  <thead>\n    <tr style=\"text-align: right;\">\n      <th></th>\n      <th>covariance</th>\n      <th>beta1</th>\n      <th>beta2</th>\n      <th>p</th>\n      <th>exp_of_var</th>\n      <th>mismeasured_coef</th>\n      <th>mismeasured_allvar_coef</th>\n      <th>mismeasured_avg_coef</th>\n      <th>pca_coef</th>\n      <th>true_val_coef</th>\n      <th>iv_coef</th>\n      <th>pca_ape</th>\n      <th>mismeasured_coef_ape</th>\n      <th>mismeasured_allvar_coef_ape</th>\n      <th>mismeasured_avg_coef_ape</th>\n      <th>iv_coef_ape</th>\n    </tr>\n  </thead>\n  <tbody>\n    <tr>\n      <th>0</th>\n      <td>0.5</td>\n      <td>1.0</td>\n      <td>1.0</td>\n      <td>5</td>\n      <td>no</td>\n      <td>1.259002</td>\n      <td>1.107635</td>\n      <td>1.103682</td>\n      <td>1.103888</td>\n      <td>0.988199</td>\n      <td>1.128105</td>\n      <td>0.103888</td>\n      <td>0.259002</td>\n      <td>0.107635</td>\n      <td>0.103682</td>\n      <td>0.128105</td>\n    </tr>\n    <tr>\n      <th>1</th>\n      <td>0.5</td>\n      <td>1.0</td>\n      <td>1.0</td>\n      <td>20</td>\n      <td>no</td>\n      <td>1.270695</td>\n      <td>1.029734</td>\n      <td>1.028652</td>\n      <td>1.028752</td>\n      <td>0.999400</td>\n      <td>1.036479</td>\n      <td>0.028752</td>\n      <td>0.270695</td>\n      <td>0.029734</td>\n      <td>0.028652</td>\n      <td>0.036479</td>\n    </tr>\n    <tr>\n      <th>2</th>\n      <td>0.5</td>\n      <td>1.0</td>\n      <td>1.0</td>\n      <td>50</td>\n      <td>no</td>\n      <td>1.309008</td>\n      <td>1.015198</td>\n      <td>1.015221</td>\n      <td>1.016186</td>\n      <td>1.006790</td>\n      <td>1.029574</td>\n      <td>0.016186</td>\n      <td>0.309008</td>\n      <td>0.015198</td>\n      <td>0.015221</td>\n      <td>0.029574</td>\n    </tr>\n  </tbody>\n</table>\n</div>"
     },
     "metadata": {},
     "execution_count": 25
    }
   ],
   "source": [
    "output.loc[(output['beta1']==1)&(output['beta2']==1)&(output['covariance'] == 0.5)&(output['exp_of_var']=='no')].groupby(['covariance','beta1','beta2','p','exp_of_var']).mean().reset_index()"
   ]
  },
  {
   "cell_type": "code",
   "execution_count": 26,
   "metadata": {},
   "outputs": [
    {
     "output_type": "execute_result",
     "data": {
      "text/plain": [
       "   covariance  beta1  beta2   p exp_of_var  mismeasured_coef  \\\n",
       "0         0.5    1.0    1.0   5         no               NaN   \n",
       "1         0.5    1.0    1.0  20         no               NaN   \n",
       "2         0.5    1.0    1.0  50         no               NaN   \n",
       "\n",
       "   mismeasured_allvar_coef  mismeasured_avg_coef  pca_coef  true_val_coef  \\\n",
       "0                      NaN                   NaN       NaN            NaN   \n",
       "1                      NaN                   NaN       NaN            NaN   \n",
       "2                      NaN                   NaN       NaN            NaN   \n",
       "\n",
       "   iv_coef  pca_ape  mismeasured_coef_ape  mismeasured_allvar_coef_ape  \\\n",
       "0      NaN      NaN                   NaN                          NaN   \n",
       "1      NaN      NaN                   NaN                          NaN   \n",
       "2      NaN      NaN                   NaN                          NaN   \n",
       "\n",
       "   mismeasured_avg_coef_ape  iv_coef_ape  \n",
       "0                       NaN          NaN  \n",
       "1                       NaN          NaN  \n",
       "2                       NaN          NaN  "
      ],
      "text/html": "<div>\n<style scoped>\n    .dataframe tbody tr th:only-of-type {\n        vertical-align: middle;\n    }\n\n    .dataframe tbody tr th {\n        vertical-align: top;\n    }\n\n    .dataframe thead th {\n        text-align: right;\n    }\n</style>\n<table border=\"1\" class=\"dataframe\">\n  <thead>\n    <tr style=\"text-align: right;\">\n      <th></th>\n      <th>covariance</th>\n      <th>beta1</th>\n      <th>beta2</th>\n      <th>p</th>\n      <th>exp_of_var</th>\n      <th>mismeasured_coef</th>\n      <th>mismeasured_allvar_coef</th>\n      <th>mismeasured_avg_coef</th>\n      <th>pca_coef</th>\n      <th>true_val_coef</th>\n      <th>iv_coef</th>\n      <th>pca_ape</th>\n      <th>mismeasured_coef_ape</th>\n      <th>mismeasured_allvar_coef_ape</th>\n      <th>mismeasured_avg_coef_ape</th>\n      <th>iv_coef_ape</th>\n    </tr>\n  </thead>\n  <tbody>\n    <tr>\n      <th>0</th>\n      <td>0.5</td>\n      <td>1.0</td>\n      <td>1.0</td>\n      <td>5</td>\n      <td>no</td>\n      <td>NaN</td>\n      <td>NaN</td>\n      <td>NaN</td>\n      <td>NaN</td>\n      <td>NaN</td>\n      <td>NaN</td>\n      <td>NaN</td>\n      <td>NaN</td>\n      <td>NaN</td>\n      <td>NaN</td>\n      <td>NaN</td>\n    </tr>\n    <tr>\n      <th>1</th>\n      <td>0.5</td>\n      <td>1.0</td>\n      <td>1.0</td>\n      <td>20</td>\n      <td>no</td>\n      <td>NaN</td>\n      <td>NaN</td>\n      <td>NaN</td>\n      <td>NaN</td>\n      <td>NaN</td>\n      <td>NaN</td>\n      <td>NaN</td>\n      <td>NaN</td>\n      <td>NaN</td>\n      <td>NaN</td>\n      <td>NaN</td>\n    </tr>\n    <tr>\n      <th>2</th>\n      <td>0.5</td>\n      <td>1.0</td>\n      <td>1.0</td>\n      <td>50</td>\n      <td>no</td>\n      <td>NaN</td>\n      <td>NaN</td>\n      <td>NaN</td>\n      <td>NaN</td>\n      <td>NaN</td>\n      <td>NaN</td>\n      <td>NaN</td>\n      <td>NaN</td>\n      <td>NaN</td>\n      <td>NaN</td>\n      <td>NaN</td>\n    </tr>\n  </tbody>\n</table>\n</div>"
     },
     "metadata": {},
     "execution_count": 26
    }
   ],
   "source": [
    "output.loc[(output['beta1']==1)&(output['beta2']==1)&(output['covariance'] == 0.5)&(output['exp_of_var']=='no')].groupby(['covariance','beta1','beta2','p','exp_of_var']).std().reset_index()"
   ]
  },
  {
   "cell_type": "code",
   "execution_count": null,
   "metadata": {},
   "outputs": [],
   "source": []
  },
  {
   "cell_type": "code",
   "execution_count": 27,
   "metadata": {},
   "outputs": [
    {
     "output_type": "execute_result",
     "data": {
      "text/plain": [
       "   covariance  beta1  beta2  p  mismeasured_coef  mismeasured_allvar_coef  \\\n",
       "0         0.5    0.1    1.0  5          0.381021                 0.218270   \n",
       "1         0.5    1.0    1.0  5          1.259002                 1.107635   \n",
       "2         0.5   10.0    1.0  5         10.284815                10.123299   \n",
       "\n",
       "   mismeasured_avg_coef   pca_coef  true_val_coef    iv_coef   pca_ape  \\\n",
       "0              0.220204   0.219955       0.112098   0.247333  1.199553   \n",
       "1              1.103682   1.103888       0.988199   1.128105  0.103888   \n",
       "2             10.123861  10.123623      10.025852  10.141373  0.012362   \n",
       "\n",
       "   mismeasured_coef_ape  mismeasured_allvar_coef_ape  \\\n",
       "0              2.810206                     1.182697   \n",
       "1              0.259002                     0.107635   \n",
       "2              0.028481                     0.012330   \n",
       "\n",
       "   mismeasured_avg_coef_ape  iv_coef_ape  \n",
       "0                  1.202041     1.473329  \n",
       "1                  0.103682     0.128105  \n",
       "2                  0.012386     0.014137  "
      ],
      "text/html": "<div>\n<style scoped>\n    .dataframe tbody tr th:only-of-type {\n        vertical-align: middle;\n    }\n\n    .dataframe tbody tr th {\n        vertical-align: top;\n    }\n\n    .dataframe thead th {\n        text-align: right;\n    }\n</style>\n<table border=\"1\" class=\"dataframe\">\n  <thead>\n    <tr style=\"text-align: right;\">\n      <th></th>\n      <th>covariance</th>\n      <th>beta1</th>\n      <th>beta2</th>\n      <th>p</th>\n      <th>mismeasured_coef</th>\n      <th>mismeasured_allvar_coef</th>\n      <th>mismeasured_avg_coef</th>\n      <th>pca_coef</th>\n      <th>true_val_coef</th>\n      <th>iv_coef</th>\n      <th>pca_ape</th>\n      <th>mismeasured_coef_ape</th>\n      <th>mismeasured_allvar_coef_ape</th>\n      <th>mismeasured_avg_coef_ape</th>\n      <th>iv_coef_ape</th>\n    </tr>\n  </thead>\n  <tbody>\n    <tr>\n      <th>0</th>\n      <td>0.5</td>\n      <td>0.1</td>\n      <td>1.0</td>\n      <td>5</td>\n      <td>0.381021</td>\n      <td>0.218270</td>\n      <td>0.220204</td>\n      <td>0.219955</td>\n      <td>0.112098</td>\n      <td>0.247333</td>\n      <td>1.199553</td>\n      <td>2.810206</td>\n      <td>1.182697</td>\n      <td>1.202041</td>\n      <td>1.473329</td>\n    </tr>\n    <tr>\n      <th>1</th>\n      <td>0.5</td>\n      <td>1.0</td>\n      <td>1.0</td>\n      <td>5</td>\n      <td>1.259002</td>\n      <td>1.107635</td>\n      <td>1.103682</td>\n      <td>1.103888</td>\n      <td>0.988199</td>\n      <td>1.128105</td>\n      <td>0.103888</td>\n      <td>0.259002</td>\n      <td>0.107635</td>\n      <td>0.103682</td>\n      <td>0.128105</td>\n    </tr>\n    <tr>\n      <th>2</th>\n      <td>0.5</td>\n      <td>10.0</td>\n      <td>1.0</td>\n      <td>5</td>\n      <td>10.284815</td>\n      <td>10.123299</td>\n      <td>10.123861</td>\n      <td>10.123623</td>\n      <td>10.025852</td>\n      <td>10.141373</td>\n      <td>0.012362</td>\n      <td>0.028481</td>\n      <td>0.012330</td>\n      <td>0.012386</td>\n      <td>0.014137</td>\n    </tr>\n  </tbody>\n</table>\n</div>"
     },
     "metadata": {},
     "execution_count": 27
    }
   ],
   "source": [
    "output.loc[(output['p']==5)&(output['beta2']==1)&(output['covariance'] == 0.5)&(output['exp_of_var']=='no')].groupby(['covariance','beta1','beta2','p']).mean().reset_index()"
   ]
  },
  {
   "cell_type": "code",
   "execution_count": 28,
   "metadata": {},
   "outputs": [
    {
     "output_type": "execute_result",
     "data": {
      "text/plain": [
       "   covariance  beta1  beta2  p  mismeasured_coef  mismeasured_allvar_coef  \\\n",
       "0         0.5    0.1    1.0  5               NaN                      NaN   \n",
       "1         0.5    1.0    1.0  5               NaN                      NaN   \n",
       "2         0.5   10.0    1.0  5               NaN                      NaN   \n",
       "\n",
       "   mismeasured_avg_coef  pca_coef  true_val_coef  iv_coef  pca_ape  \\\n",
       "0                   NaN       NaN            NaN      NaN      NaN   \n",
       "1                   NaN       NaN            NaN      NaN      NaN   \n",
       "2                   NaN       NaN            NaN      NaN      NaN   \n",
       "\n",
       "   mismeasured_coef_ape  mismeasured_allvar_coef_ape  \\\n",
       "0                   NaN                          NaN   \n",
       "1                   NaN                          NaN   \n",
       "2                   NaN                          NaN   \n",
       "\n",
       "   mismeasured_avg_coef_ape  iv_coef_ape  \n",
       "0                       NaN          NaN  \n",
       "1                       NaN          NaN  \n",
       "2                       NaN          NaN  "
      ],
      "text/html": "<div>\n<style scoped>\n    .dataframe tbody tr th:only-of-type {\n        vertical-align: middle;\n    }\n\n    .dataframe tbody tr th {\n        vertical-align: top;\n    }\n\n    .dataframe thead th {\n        text-align: right;\n    }\n</style>\n<table border=\"1\" class=\"dataframe\">\n  <thead>\n    <tr style=\"text-align: right;\">\n      <th></th>\n      <th>covariance</th>\n      <th>beta1</th>\n      <th>beta2</th>\n      <th>p</th>\n      <th>mismeasured_coef</th>\n      <th>mismeasured_allvar_coef</th>\n      <th>mismeasured_avg_coef</th>\n      <th>pca_coef</th>\n      <th>true_val_coef</th>\n      <th>iv_coef</th>\n      <th>pca_ape</th>\n      <th>mismeasured_coef_ape</th>\n      <th>mismeasured_allvar_coef_ape</th>\n      <th>mismeasured_avg_coef_ape</th>\n      <th>iv_coef_ape</th>\n    </tr>\n  </thead>\n  <tbody>\n    <tr>\n      <th>0</th>\n      <td>0.5</td>\n      <td>0.1</td>\n      <td>1.0</td>\n      <td>5</td>\n      <td>NaN</td>\n      <td>NaN</td>\n      <td>NaN</td>\n      <td>NaN</td>\n      <td>NaN</td>\n      <td>NaN</td>\n      <td>NaN</td>\n      <td>NaN</td>\n      <td>NaN</td>\n      <td>NaN</td>\n      <td>NaN</td>\n    </tr>\n    <tr>\n      <th>1</th>\n      <td>0.5</td>\n      <td>1.0</td>\n      <td>1.0</td>\n      <td>5</td>\n      <td>NaN</td>\n      <td>NaN</td>\n      <td>NaN</td>\n      <td>NaN</td>\n      <td>NaN</td>\n      <td>NaN</td>\n      <td>NaN</td>\n      <td>NaN</td>\n      <td>NaN</td>\n      <td>NaN</td>\n      <td>NaN</td>\n    </tr>\n    <tr>\n      <th>2</th>\n      <td>0.5</td>\n      <td>10.0</td>\n      <td>1.0</td>\n      <td>5</td>\n      <td>NaN</td>\n      <td>NaN</td>\n      <td>NaN</td>\n      <td>NaN</td>\n      <td>NaN</td>\n      <td>NaN</td>\n      <td>NaN</td>\n      <td>NaN</td>\n      <td>NaN</td>\n      <td>NaN</td>\n      <td>NaN</td>\n    </tr>\n  </tbody>\n</table>\n</div>"
     },
     "metadata": {},
     "execution_count": 28
    }
   ],
   "source": [
    "output.loc[(output['p']==5)&(output['beta2']==1)&(output['covariance'] == 0.5)&(output['exp_of_var']=='no')].groupby(['covariance','beta1','beta2','p']).std().reset_index()"
   ]
  },
  {
   "cell_type": "code",
   "execution_count": null,
   "metadata": {},
   "outputs": [],
   "source": []
  },
  {
   "cell_type": "code",
   "execution_count": 29,
   "metadata": {},
   "outputs": [
    {
     "output_type": "execute_result",
     "data": {
      "text/plain": [
       "   covariance  beta1  beta2  p  mismeasured_coef  mismeasured_allvar_coef  \\\n",
       "0         0.5    1.0    0.1  5          1.047652                 1.032653   \n",
       "1         0.5    1.0    1.0  5          1.259002                 1.107635   \n",
       "2         0.5    1.0   10.0  5          3.875268                 2.014999   \n",
       "\n",
       "   mismeasured_avg_coef  pca_coef  true_val_coef   iv_coef   pca_ape  \\\n",
       "0              1.029586  1.030001       1.020066  1.030305  0.030001   \n",
       "1              1.103682  1.103888       0.988199  1.128105  0.103888   \n",
       "2              2.015542  2.013079       0.994283  2.201372  1.013079   \n",
       "\n",
       "   mismeasured_coef_ape  mismeasured_allvar_coef_ape  \\\n",
       "0              0.047652                     0.032653   \n",
       "1              0.259002                     0.107635   \n",
       "2              2.875268                     1.014999   \n",
       "\n",
       "   mismeasured_avg_coef_ape  iv_coef_ape  \n",
       "0                  0.029586     0.030305  \n",
       "1                  0.103682     0.128105  \n",
       "2                  1.015542     1.201372  "
      ],
      "text/html": "<div>\n<style scoped>\n    .dataframe tbody tr th:only-of-type {\n        vertical-align: middle;\n    }\n\n    .dataframe tbody tr th {\n        vertical-align: top;\n    }\n\n    .dataframe thead th {\n        text-align: right;\n    }\n</style>\n<table border=\"1\" class=\"dataframe\">\n  <thead>\n    <tr style=\"text-align: right;\">\n      <th></th>\n      <th>covariance</th>\n      <th>beta1</th>\n      <th>beta2</th>\n      <th>p</th>\n      <th>mismeasured_coef</th>\n      <th>mismeasured_allvar_coef</th>\n      <th>mismeasured_avg_coef</th>\n      <th>pca_coef</th>\n      <th>true_val_coef</th>\n      <th>iv_coef</th>\n      <th>pca_ape</th>\n      <th>mismeasured_coef_ape</th>\n      <th>mismeasured_allvar_coef_ape</th>\n      <th>mismeasured_avg_coef_ape</th>\n      <th>iv_coef_ape</th>\n    </tr>\n  </thead>\n  <tbody>\n    <tr>\n      <th>0</th>\n      <td>0.5</td>\n      <td>1.0</td>\n      <td>0.1</td>\n      <td>5</td>\n      <td>1.047652</td>\n      <td>1.032653</td>\n      <td>1.029586</td>\n      <td>1.030001</td>\n      <td>1.020066</td>\n      <td>1.030305</td>\n      <td>0.030001</td>\n      <td>0.047652</td>\n      <td>0.032653</td>\n      <td>0.029586</td>\n      <td>0.030305</td>\n    </tr>\n    <tr>\n      <th>1</th>\n      <td>0.5</td>\n      <td>1.0</td>\n      <td>1.0</td>\n      <td>5</td>\n      <td>1.259002</td>\n      <td>1.107635</td>\n      <td>1.103682</td>\n      <td>1.103888</td>\n      <td>0.988199</td>\n      <td>1.128105</td>\n      <td>0.103888</td>\n      <td>0.259002</td>\n      <td>0.107635</td>\n      <td>0.103682</td>\n      <td>0.128105</td>\n    </tr>\n    <tr>\n      <th>2</th>\n      <td>0.5</td>\n      <td>1.0</td>\n      <td>10.0</td>\n      <td>5</td>\n      <td>3.875268</td>\n      <td>2.014999</td>\n      <td>2.015542</td>\n      <td>2.013079</td>\n      <td>0.994283</td>\n      <td>2.201372</td>\n      <td>1.013079</td>\n      <td>2.875268</td>\n      <td>1.014999</td>\n      <td>1.015542</td>\n      <td>1.201372</td>\n    </tr>\n  </tbody>\n</table>\n</div>"
     },
     "metadata": {},
     "execution_count": 29
    }
   ],
   "source": [
    "output.loc[(output['beta1']==1)&(output['p']==5)&(output['covariance'] == 0.5)&(output['exp_of_var']=='no')].groupby(['covariance','beta1','beta2','p']).mean().reset_index()"
   ]
  },
  {
   "cell_type": "code",
   "execution_count": 30,
   "metadata": {},
   "outputs": [
    {
     "output_type": "execute_result",
     "data": {
      "text/plain": [
       "   covariance  beta1  beta2  p  mismeasured_coef  mismeasured_allvar_coef  \\\n",
       "0         0.5    1.0    0.1  5               NaN                      NaN   \n",
       "1         0.5    1.0    1.0  5               NaN                      NaN   \n",
       "2         0.5    1.0   10.0  5               NaN                      NaN   \n",
       "\n",
       "   mismeasured_avg_coef  pca_coef  true_val_coef  iv_coef  pca_ape  \\\n",
       "0                   NaN       NaN            NaN      NaN      NaN   \n",
       "1                   NaN       NaN            NaN      NaN      NaN   \n",
       "2                   NaN       NaN            NaN      NaN      NaN   \n",
       "\n",
       "   mismeasured_coef_ape  mismeasured_allvar_coef_ape  \\\n",
       "0                   NaN                          NaN   \n",
       "1                   NaN                          NaN   \n",
       "2                   NaN                          NaN   \n",
       "\n",
       "   mismeasured_avg_coef_ape  iv_coef_ape  \n",
       "0                       NaN          NaN  \n",
       "1                       NaN          NaN  \n",
       "2                       NaN          NaN  "
      ],
      "text/html": "<div>\n<style scoped>\n    .dataframe tbody tr th:only-of-type {\n        vertical-align: middle;\n    }\n\n    .dataframe tbody tr th {\n        vertical-align: top;\n    }\n\n    .dataframe thead th {\n        text-align: right;\n    }\n</style>\n<table border=\"1\" class=\"dataframe\">\n  <thead>\n    <tr style=\"text-align: right;\">\n      <th></th>\n      <th>covariance</th>\n      <th>beta1</th>\n      <th>beta2</th>\n      <th>p</th>\n      <th>mismeasured_coef</th>\n      <th>mismeasured_allvar_coef</th>\n      <th>mismeasured_avg_coef</th>\n      <th>pca_coef</th>\n      <th>true_val_coef</th>\n      <th>iv_coef</th>\n      <th>pca_ape</th>\n      <th>mismeasured_coef_ape</th>\n      <th>mismeasured_allvar_coef_ape</th>\n      <th>mismeasured_avg_coef_ape</th>\n      <th>iv_coef_ape</th>\n    </tr>\n  </thead>\n  <tbody>\n    <tr>\n      <th>0</th>\n      <td>0.5</td>\n      <td>1.0</td>\n      <td>0.1</td>\n      <td>5</td>\n      <td>NaN</td>\n      <td>NaN</td>\n      <td>NaN</td>\n      <td>NaN</td>\n      <td>NaN</td>\n      <td>NaN</td>\n      <td>NaN</td>\n      <td>NaN</td>\n      <td>NaN</td>\n      <td>NaN</td>\n      <td>NaN</td>\n    </tr>\n    <tr>\n      <th>1</th>\n      <td>0.5</td>\n      <td>1.0</td>\n      <td>1.0</td>\n      <td>5</td>\n      <td>NaN</td>\n      <td>NaN</td>\n      <td>NaN</td>\n      <td>NaN</td>\n      <td>NaN</td>\n      <td>NaN</td>\n      <td>NaN</td>\n      <td>NaN</td>\n      <td>NaN</td>\n      <td>NaN</td>\n      <td>NaN</td>\n    </tr>\n    <tr>\n      <th>2</th>\n      <td>0.5</td>\n      <td>1.0</td>\n      <td>10.0</td>\n      <td>5</td>\n      <td>NaN</td>\n      <td>NaN</td>\n      <td>NaN</td>\n      <td>NaN</td>\n      <td>NaN</td>\n      <td>NaN</td>\n      <td>NaN</td>\n      <td>NaN</td>\n      <td>NaN</td>\n      <td>NaN</td>\n      <td>NaN</td>\n    </tr>\n  </tbody>\n</table>\n</div>"
     },
     "metadata": {},
     "execution_count": 30
    }
   ],
   "source": [
    "output.loc[(output['beta1']==1)&(output['p']==5)&(output['covariance'] == 0.5)&(output['exp_of_var']=='no')].groupby(['covariance','beta1','beta2','p']).std().reset_index()"
   ]
  },
  {
   "cell_type": "code",
   "execution_count": 33,
   "metadata": {},
   "outputs": [
    {
     "output_type": "execute_result",
     "data": {
      "text/plain": [
       "covariance                      level_0 level_1      -0.9      -0.5       0.0  \\\n",
       "0                      mismeasured_coef    mean  0.296391  0.729930  1.021665   \n",
       "1                      mismeasured_coef     std       NaN       NaN       NaN   \n",
       "2               mismeasured_allvar_coef    mean  0.539387  0.909727  1.004850   \n",
       "3               mismeasured_allvar_coef     std       NaN       NaN       NaN   \n",
       "4                  mismeasured_avg_coef    mean  0.540122  0.910428  1.005135   \n",
       "..                                  ...     ...       ...       ...       ...   \n",
       "17          mismeasured_allvar_coef_ape     std       NaN       NaN       NaN   \n",
       "18             mismeasured_avg_coef_ape    mean  0.459878  0.089572  0.005135   \n",
       "19             mismeasured_avg_coef_ape     std       NaN       NaN       NaN   \n",
       "20                          iv_coef_ape    mean  0.515494  0.110197  0.003627   \n",
       "21                          iv_coef_ape     std       NaN       NaN       NaN   \n",
       "\n",
       "covariance       0.5       0.9  \n",
       "0           1.259002  1.753470  \n",
       "1                NaN       NaN  \n",
       "2           1.107635  1.513187  \n",
       "3                NaN       NaN  \n",
       "4           1.103682  1.512977  \n",
       "..               ...       ...  \n",
       "17               NaN       NaN  \n",
       "18          0.103682  0.512977  \n",
       "19               NaN       NaN  \n",
       "20          0.128105  0.565119  \n",
       "21               NaN       NaN  \n",
       "\n",
       "[22 rows x 7 columns]"
      ],
      "text/html": "<div>\n<style scoped>\n    .dataframe tbody tr th:only-of-type {\n        vertical-align: middle;\n    }\n\n    .dataframe tbody tr th {\n        vertical-align: top;\n    }\n\n    .dataframe thead th {\n        text-align: right;\n    }\n</style>\n<table border=\"1\" class=\"dataframe\">\n  <thead>\n    <tr style=\"text-align: right;\">\n      <th>covariance</th>\n      <th>level_0</th>\n      <th>level_1</th>\n      <th>-0.9</th>\n      <th>-0.5</th>\n      <th>0.0</th>\n      <th>0.5</th>\n      <th>0.9</th>\n    </tr>\n  </thead>\n  <tbody>\n    <tr>\n      <th>0</th>\n      <td>mismeasured_coef</td>\n      <td>mean</td>\n      <td>0.296391</td>\n      <td>0.729930</td>\n      <td>1.021665</td>\n      <td>1.259002</td>\n      <td>1.753470</td>\n    </tr>\n    <tr>\n      <th>1</th>\n      <td>mismeasured_coef</td>\n      <td>std</td>\n      <td>NaN</td>\n      <td>NaN</td>\n      <td>NaN</td>\n      <td>NaN</td>\n      <td>NaN</td>\n    </tr>\n    <tr>\n      <th>2</th>\n      <td>mismeasured_allvar_coef</td>\n      <td>mean</td>\n      <td>0.539387</td>\n      <td>0.909727</td>\n      <td>1.004850</td>\n      <td>1.107635</td>\n      <td>1.513187</td>\n    </tr>\n    <tr>\n      <th>3</th>\n      <td>mismeasured_allvar_coef</td>\n      <td>std</td>\n      <td>NaN</td>\n      <td>NaN</td>\n      <td>NaN</td>\n      <td>NaN</td>\n      <td>NaN</td>\n    </tr>\n    <tr>\n      <th>4</th>\n      <td>mismeasured_avg_coef</td>\n      <td>mean</td>\n      <td>0.540122</td>\n      <td>0.910428</td>\n      <td>1.005135</td>\n      <td>1.103682</td>\n      <td>1.512977</td>\n    </tr>\n    <tr>\n      <th>...</th>\n      <td>...</td>\n      <td>...</td>\n      <td>...</td>\n      <td>...</td>\n      <td>...</td>\n      <td>...</td>\n      <td>...</td>\n    </tr>\n    <tr>\n      <th>17</th>\n      <td>mismeasured_allvar_coef_ape</td>\n      <td>std</td>\n      <td>NaN</td>\n      <td>NaN</td>\n      <td>NaN</td>\n      <td>NaN</td>\n      <td>NaN</td>\n    </tr>\n    <tr>\n      <th>18</th>\n      <td>mismeasured_avg_coef_ape</td>\n      <td>mean</td>\n      <td>0.459878</td>\n      <td>0.089572</td>\n      <td>0.005135</td>\n      <td>0.103682</td>\n      <td>0.512977</td>\n    </tr>\n    <tr>\n      <th>19</th>\n      <td>mismeasured_avg_coef_ape</td>\n      <td>std</td>\n      <td>NaN</td>\n      <td>NaN</td>\n      <td>NaN</td>\n      <td>NaN</td>\n      <td>NaN</td>\n    </tr>\n    <tr>\n      <th>20</th>\n      <td>iv_coef_ape</td>\n      <td>mean</td>\n      <td>0.515494</td>\n      <td>0.110197</td>\n      <td>0.003627</td>\n      <td>0.128105</td>\n      <td>0.565119</td>\n    </tr>\n    <tr>\n      <th>21</th>\n      <td>iv_coef_ape</td>\n      <td>std</td>\n      <td>NaN</td>\n      <td>NaN</td>\n      <td>NaN</td>\n      <td>NaN</td>\n      <td>NaN</td>\n    </tr>\n  </tbody>\n</table>\n<p>22 rows × 7 columns</p>\n</div>"
     },
     "metadata": {},
     "execution_count": 33
    }
   ],
   "source": [
    "sim_reg_rho = (output.loc[(output['beta1']==1)&(output['beta2']==1)&(output['p'] == 5)&(output['exp_of_var']=='no')]\n",
    "                   .drop(columns=['p', 'beta1', 'beta2'])\n",
    "                   .groupby('covariance')\n",
    "                   .agg(['mean', 'std'])\n",
    "                   .transpose()\n",
    "                   .reset_index())\n",
    "                   #.rename(columns = {5:'five', 20:'twenty', 50:'fifty'}))\n",
    "\n",
    "sim_reg_rho"
   ]
  },
  {
   "cell_type": "code",
   "execution_count": 24,
   "metadata": {},
   "outputs": [
    {
     "output_type": "execute_result",
     "data": {
      "text/plain": [
       "   covariance  beta1  beta2  p  mismeasured_coef  mismeasured_allvar_coef  \\\n",
       "0        -0.9    1.0    1.0  5          0.217245                 0.477989   \n",
       "1        -0.5    1.0    1.0  5          0.724498                 0.920783   \n",
       "2         0.0    1.0    1.0  5          1.005180                 1.001407   \n",
       "3         0.5    1.0    1.0  5          1.302670                 1.121081   \n",
       "4         0.9    1.0    1.0  5          1.813492                 1.456942   \n",
       "\n",
       "   mismeasured_avg_coef  pca_coef  true_val_coef   iv_coef   pca_ape  \\\n",
       "0              0.477303  0.477019       0.952746  0.422875  0.522981   \n",
       "1              0.919703  0.918035       1.012534  0.904684  0.081965   \n",
       "2              1.000276  1.000394       1.009075  1.000825  0.000394   \n",
       "3              1.120034  1.119961       1.021782  1.141248  0.119961   \n",
       "4              1.457083  1.457555       1.000043  1.501181  0.457555   \n",
       "\n",
       "   mismeasured_coef_ape  mismeasured_allvar_coef_ape  \\\n",
       "0              0.782755                     0.522011   \n",
       "1              0.275502                     0.079217   \n",
       "2              0.005180                     0.001407   \n",
       "3              0.302670                     0.121081   \n",
       "4              0.813492                     0.456942   \n",
       "\n",
       "   mismeasured_avg_coef_ape  iv_coef_ape  \n",
       "0                  0.522697     0.577125  \n",
       "1                  0.080297     0.095316  \n",
       "2                  0.000276     0.000825  \n",
       "3                  0.120034     0.141248  \n",
       "4                  0.457083     0.501181  "
      ],
      "text/html": "<div>\n<style scoped>\n    .dataframe tbody tr th:only-of-type {\n        vertical-align: middle;\n    }\n\n    .dataframe tbody tr th {\n        vertical-align: top;\n    }\n\n    .dataframe thead th {\n        text-align: right;\n    }\n</style>\n<table border=\"1\" class=\"dataframe\">\n  <thead>\n    <tr style=\"text-align: right;\">\n      <th></th>\n      <th>covariance</th>\n      <th>beta1</th>\n      <th>beta2</th>\n      <th>p</th>\n      <th>mismeasured_coef</th>\n      <th>mismeasured_allvar_coef</th>\n      <th>mismeasured_avg_coef</th>\n      <th>pca_coef</th>\n      <th>true_val_coef</th>\n      <th>iv_coef</th>\n      <th>pca_ape</th>\n      <th>mismeasured_coef_ape</th>\n      <th>mismeasured_allvar_coef_ape</th>\n      <th>mismeasured_avg_coef_ape</th>\n      <th>iv_coef_ape</th>\n    </tr>\n  </thead>\n  <tbody>\n    <tr>\n      <th>0</th>\n      <td>-0.9</td>\n      <td>1.0</td>\n      <td>1.0</td>\n      <td>5</td>\n      <td>0.217245</td>\n      <td>0.477989</td>\n      <td>0.477303</td>\n      <td>0.477019</td>\n      <td>0.952746</td>\n      <td>0.422875</td>\n      <td>0.522981</td>\n      <td>0.782755</td>\n      <td>0.522011</td>\n      <td>0.522697</td>\n      <td>0.577125</td>\n    </tr>\n    <tr>\n      <th>1</th>\n      <td>-0.5</td>\n      <td>1.0</td>\n      <td>1.0</td>\n      <td>5</td>\n      <td>0.724498</td>\n      <td>0.920783</td>\n      <td>0.919703</td>\n      <td>0.918035</td>\n      <td>1.012534</td>\n      <td>0.904684</td>\n      <td>0.081965</td>\n      <td>0.275502</td>\n      <td>0.079217</td>\n      <td>0.080297</td>\n      <td>0.095316</td>\n    </tr>\n    <tr>\n      <th>2</th>\n      <td>0.0</td>\n      <td>1.0</td>\n      <td>1.0</td>\n      <td>5</td>\n      <td>1.005180</td>\n      <td>1.001407</td>\n      <td>1.000276</td>\n      <td>1.000394</td>\n      <td>1.009075</td>\n      <td>1.000825</td>\n      <td>0.000394</td>\n      <td>0.005180</td>\n      <td>0.001407</td>\n      <td>0.000276</td>\n      <td>0.000825</td>\n    </tr>\n    <tr>\n      <th>3</th>\n      <td>0.5</td>\n      <td>1.0</td>\n      <td>1.0</td>\n      <td>5</td>\n      <td>1.302670</td>\n      <td>1.121081</td>\n      <td>1.120034</td>\n      <td>1.119961</td>\n      <td>1.021782</td>\n      <td>1.141248</td>\n      <td>0.119961</td>\n      <td>0.302670</td>\n      <td>0.121081</td>\n      <td>0.120034</td>\n      <td>0.141248</td>\n    </tr>\n    <tr>\n      <th>4</th>\n      <td>0.9</td>\n      <td>1.0</td>\n      <td>1.0</td>\n      <td>5</td>\n      <td>1.813492</td>\n      <td>1.456942</td>\n      <td>1.457083</td>\n      <td>1.457555</td>\n      <td>1.000043</td>\n      <td>1.501181</td>\n      <td>0.457555</td>\n      <td>0.813492</td>\n      <td>0.456942</td>\n      <td>0.457083</td>\n      <td>0.501181</td>\n    </tr>\n  </tbody>\n</table>\n</div>"
     },
     "metadata": {},
     "execution_count": 24
    }
   ],
   "source": [
    "output.loc[(output['beta1']==1)&(output['beta2']==1)&(output['p'] == 5)&(output['exp_of_var']=='no')].groupby(['covariance','beta1','beta2','p']).mean().reset_index()"
   ]
  },
  {
   "cell_type": "code",
   "execution_count": 25,
   "metadata": {},
   "outputs": [
    {
     "output_type": "execute_result",
     "data": {
      "text/plain": [
       "   covariance  beta1  beta2  p  mismeasured_coef  mismeasured_allvar_coef  \\\n",
       "0        -0.9    1.0    1.0  5               NaN                      NaN   \n",
       "1        -0.5    1.0    1.0  5               NaN                      NaN   \n",
       "2         0.0    1.0    1.0  5               NaN                      NaN   \n",
       "3         0.5    1.0    1.0  5               NaN                      NaN   \n",
       "4         0.9    1.0    1.0  5               NaN                      NaN   \n",
       "\n",
       "   mismeasured_avg_coef  pca_coef  true_val_coef  iv_coef  pca_ape  \\\n",
       "0                   NaN       NaN            NaN      NaN      NaN   \n",
       "1                   NaN       NaN            NaN      NaN      NaN   \n",
       "2                   NaN       NaN            NaN      NaN      NaN   \n",
       "3                   NaN       NaN            NaN      NaN      NaN   \n",
       "4                   NaN       NaN            NaN      NaN      NaN   \n",
       "\n",
       "   mismeasured_coef_ape  mismeasured_allvar_coef_ape  \\\n",
       "0                   NaN                          NaN   \n",
       "1                   NaN                          NaN   \n",
       "2                   NaN                          NaN   \n",
       "3                   NaN                          NaN   \n",
       "4                   NaN                          NaN   \n",
       "\n",
       "   mismeasured_avg_coef_ape  iv_coef_ape  \n",
       "0                       NaN          NaN  \n",
       "1                       NaN          NaN  \n",
       "2                       NaN          NaN  \n",
       "3                       NaN          NaN  \n",
       "4                       NaN          NaN  "
      ],
      "text/html": "<div>\n<style scoped>\n    .dataframe tbody tr th:only-of-type {\n        vertical-align: middle;\n    }\n\n    .dataframe tbody tr th {\n        vertical-align: top;\n    }\n\n    .dataframe thead th {\n        text-align: right;\n    }\n</style>\n<table border=\"1\" class=\"dataframe\">\n  <thead>\n    <tr style=\"text-align: right;\">\n      <th></th>\n      <th>covariance</th>\n      <th>beta1</th>\n      <th>beta2</th>\n      <th>p</th>\n      <th>mismeasured_coef</th>\n      <th>mismeasured_allvar_coef</th>\n      <th>mismeasured_avg_coef</th>\n      <th>pca_coef</th>\n      <th>true_val_coef</th>\n      <th>iv_coef</th>\n      <th>pca_ape</th>\n      <th>mismeasured_coef_ape</th>\n      <th>mismeasured_allvar_coef_ape</th>\n      <th>mismeasured_avg_coef_ape</th>\n      <th>iv_coef_ape</th>\n    </tr>\n  </thead>\n  <tbody>\n    <tr>\n      <th>0</th>\n      <td>-0.9</td>\n      <td>1.0</td>\n      <td>1.0</td>\n      <td>5</td>\n      <td>NaN</td>\n      <td>NaN</td>\n      <td>NaN</td>\n      <td>NaN</td>\n      <td>NaN</td>\n      <td>NaN</td>\n      <td>NaN</td>\n      <td>NaN</td>\n      <td>NaN</td>\n      <td>NaN</td>\n      <td>NaN</td>\n    </tr>\n    <tr>\n      <th>1</th>\n      <td>-0.5</td>\n      <td>1.0</td>\n      <td>1.0</td>\n      <td>5</td>\n      <td>NaN</td>\n      <td>NaN</td>\n      <td>NaN</td>\n      <td>NaN</td>\n      <td>NaN</td>\n      <td>NaN</td>\n      <td>NaN</td>\n      <td>NaN</td>\n      <td>NaN</td>\n      <td>NaN</td>\n      <td>NaN</td>\n    </tr>\n    <tr>\n      <th>2</th>\n      <td>0.0</td>\n      <td>1.0</td>\n      <td>1.0</td>\n      <td>5</td>\n      <td>NaN</td>\n      <td>NaN</td>\n      <td>NaN</td>\n      <td>NaN</td>\n      <td>NaN</td>\n      <td>NaN</td>\n      <td>NaN</td>\n      <td>NaN</td>\n      <td>NaN</td>\n      <td>NaN</td>\n      <td>NaN</td>\n    </tr>\n    <tr>\n      <th>3</th>\n      <td>0.5</td>\n      <td>1.0</td>\n      <td>1.0</td>\n      <td>5</td>\n      <td>NaN</td>\n      <td>NaN</td>\n      <td>NaN</td>\n      <td>NaN</td>\n      <td>NaN</td>\n      <td>NaN</td>\n      <td>NaN</td>\n      <td>NaN</td>\n      <td>NaN</td>\n      <td>NaN</td>\n      <td>NaN</td>\n    </tr>\n    <tr>\n      <th>4</th>\n      <td>0.9</td>\n      <td>1.0</td>\n      <td>1.0</td>\n      <td>5</td>\n      <td>NaN</td>\n      <td>NaN</td>\n      <td>NaN</td>\n      <td>NaN</td>\n      <td>NaN</td>\n      <td>NaN</td>\n      <td>NaN</td>\n      <td>NaN</td>\n      <td>NaN</td>\n      <td>NaN</td>\n      <td>NaN</td>\n    </tr>\n  </tbody>\n</table>\n</div>"
     },
     "metadata": {},
     "execution_count": 25
    }
   ],
   "source": [
    "output.loc[(output['beta1']==1)&(output['beta2']==1)&(output['p'] == 5)&(output['exp_of_var']=='no')].groupby(['covariance','beta1','beta2','p']).std().reset_index()"
   ]
  },
  {
   "cell_type": "code",
   "execution_count": null,
   "metadata": {},
   "outputs": [],
   "source": []
  }
 ],
 "metadata": {
  "kernelspec": {
   "name": "python388jvsc74a57bd0d8e5f08eda4f9cddc19de05071e25a43923763e5e5799e90c26e70a4345f4abb",
   "display_name": "Python 3.8.8 64-bit ('econ31330-env': conda)"
  },
  "language_info": {
   "codemirror_mode": {
    "name": "ipython",
    "version": 3
   },
   "file_extension": ".py",
   "mimetype": "text/x-python",
   "name": "python",
   "nbconvert_exporter": "python",
   "pygments_lexer": "ipython3",
   "version": "3.8.8"
  }
 },
 "nbformat": 4,
 "nbformat_minor": 4
}