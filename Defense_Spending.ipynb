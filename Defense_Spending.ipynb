{
 "metadata": {
  "language_info": {
   "codemirror_mode": {
    "name": "ipython",
    "version": 3
   },
   "file_extension": ".py",
   "mimetype": "text/x-python",
   "name": "python",
   "nbconvert_exporter": "python",
   "pygments_lexer": "ipython3",
   "version": "3.8.8"
  },
  "orig_nbformat": 2,
  "kernelspec": {
   "name": "python388jvsc74a57bd09bc3a4351665e9db33af6438013e62909d11821677ef54a6a5e37238d33c4427",
   "display_name": "Python 3.8.8 64-bit"
  }
 },
 "nbformat": 4,
 "nbformat_minor": 2,
 "cells": [
  {
   "source": [
    "# Defense_Spending\n",
    "## Exploratory Analysis of SIPRI Defense Spending Data"
   ],
   "cell_type": "markdown",
   "metadata": {}
  },
  {
   "cell_type": "code",
   "execution_count": 1,
   "metadata": {},
   "outputs": [],
   "source": [
    "import pandas as pd \n",
    "import numpy as np\n",
    "from pca import pca\n",
    "import seaborn as sns"
   ]
  },
  {
   "cell_type": "code",
   "execution_count": 2,
   "metadata": {},
   "outputs": [],
   "source": [
    "data_dir = \"~/Box/ECMA-31330-Project\""
   ]
  },
  {
   "source": [
    "We can look at spending per GDP or spending as a share of government spending."
   ],
   "cell_type": "markdown",
   "metadata": {}
  },
  {
   "cell_type": "code",
   "execution_count": 5,
   "metadata": {},
   "outputs": [
    {
     "output_type": "execute_result",
     "data": {
      "text/plain": [
       "          Country  1949  1950  1951  1952  1953  1954  1955      1956  \\\n",
       "2         Algeria   NaN   NaN   NaN   NaN   NaN   NaN   NaN       NaN   \n",
       "3           Libya   NaN   NaN   NaN   NaN   NaN   NaN   NaN       NaN   \n",
       "4         Morocco   NaN   NaN   NaN   NaN   NaN   NaN   NaN  0.011807   \n",
       "5         Tunisia   NaN   NaN   NaN   NaN   NaN   NaN   NaN       NaN   \n",
       "7          Angola   NaN   NaN   NaN   NaN   NaN   NaN   NaN       NaN   \n",
       "..            ...   ...   ...   ...   ...   ...   ...   ...       ...   \n",
       "186         Syria   NaN   NaN   NaN   NaN   NaN   NaN   NaN       NaN   \n",
       "187        Turkey   NaN   NaN   NaN   NaN   NaN   NaN   NaN       NaN   \n",
       "188           UAE   NaN   NaN   NaN   NaN   NaN   NaN   NaN       NaN   \n",
       "189         Yemen   NaN   NaN   NaN   NaN   NaN   NaN   NaN       NaN   \n",
       "190  Yemen, North   NaN   NaN   NaN   NaN   NaN   NaN   NaN       NaN   \n",
       "\n",
       "        1957  ...      2011      2012      2013      2014      2015      2016  \\\n",
       "2        NaN  ...  0.043257  0.044611  0.048445  0.055485  0.062702  0.063849   \n",
       "3        NaN  ...       NaN  0.037456  0.076393  0.154796       NaN       NaN   \n",
       "4    0.01759  ...  0.032975  0.034628  0.038058  0.036779  0.032302  0.032195   \n",
       "5        NaN  ...  0.015613  0.015123  0.016416  0.019082  0.022699  0.023608   \n",
       "7        NaN  ...  0.032557  0.032367  0.044552  0.046985  0.031054  0.027333   \n",
       "..       ...  ...       ...       ...       ...       ...       ...       ...   \n",
       "186      NaN  ...       NaN       NaN       NaN       NaN       NaN       NaN   \n",
       "187      NaN  ...  0.020275  0.020094  0.019240  0.018720  0.018128  0.020503   \n",
       "188      NaN  ...  0.054663  0.050756  0.060347  0.056437       NaN       NaN   \n",
       "189      NaN  ...  0.049265  0.045739  0.040795  0.039669       NaN       NaN   \n",
       "190      NaN  ...       NaN       NaN       NaN       NaN       NaN       NaN   \n",
       "\n",
       "         2017      2018      2019      2020  \n",
       "2    0.059244  0.054678  0.060210  0.066600  \n",
       "3         NaN       NaN       NaN       NaN  \n",
       "4    0.031830  0.031186  0.030999  0.042810  \n",
       "5    0.021443  0.021134  0.025646  0.029077  \n",
       "7    0.025080  0.018718  0.016437  0.016159  \n",
       "..        ...       ...       ...       ...  \n",
       "186       NaN       NaN       NaN       NaN  \n",
       "187  0.020501  0.025240  0.027103  0.027725  \n",
       "188       NaN       NaN       NaN       NaN  \n",
       "189       NaN       NaN       NaN       NaN  \n",
       "190       NaN       NaN       NaN       NaN  \n",
       "\n",
       "[173 rows x 73 columns]"
      ],
      "text/html": "<div>\n<style scoped>\n    .dataframe tbody tr th:only-of-type {\n        vertical-align: middle;\n    }\n\n    .dataframe tbody tr th {\n        vertical-align: top;\n    }\n\n    .dataframe thead th {\n        text-align: right;\n    }\n</style>\n<table border=\"1\" class=\"dataframe\">\n  <thead>\n    <tr style=\"text-align: right;\">\n      <th></th>\n      <th>Country</th>\n      <th>1949</th>\n      <th>1950</th>\n      <th>1951</th>\n      <th>1952</th>\n      <th>1953</th>\n      <th>1954</th>\n      <th>1955</th>\n      <th>1956</th>\n      <th>1957</th>\n      <th>...</th>\n      <th>2011</th>\n      <th>2012</th>\n      <th>2013</th>\n      <th>2014</th>\n      <th>2015</th>\n      <th>2016</th>\n      <th>2017</th>\n      <th>2018</th>\n      <th>2019</th>\n      <th>2020</th>\n    </tr>\n  </thead>\n  <tbody>\n    <tr>\n      <th>2</th>\n      <td>Algeria</td>\n      <td>NaN</td>\n      <td>NaN</td>\n      <td>NaN</td>\n      <td>NaN</td>\n      <td>NaN</td>\n      <td>NaN</td>\n      <td>NaN</td>\n      <td>NaN</td>\n      <td>NaN</td>\n      <td>...</td>\n      <td>0.043257</td>\n      <td>0.044611</td>\n      <td>0.048445</td>\n      <td>0.055485</td>\n      <td>0.062702</td>\n      <td>0.063849</td>\n      <td>0.059244</td>\n      <td>0.054678</td>\n      <td>0.060210</td>\n      <td>0.066600</td>\n    </tr>\n    <tr>\n      <th>3</th>\n      <td>Libya</td>\n      <td>NaN</td>\n      <td>NaN</td>\n      <td>NaN</td>\n      <td>NaN</td>\n      <td>NaN</td>\n      <td>NaN</td>\n      <td>NaN</td>\n      <td>NaN</td>\n      <td>NaN</td>\n      <td>...</td>\n      <td>NaN</td>\n      <td>0.037456</td>\n      <td>0.076393</td>\n      <td>0.154796</td>\n      <td>NaN</td>\n      <td>NaN</td>\n      <td>NaN</td>\n      <td>NaN</td>\n      <td>NaN</td>\n      <td>NaN</td>\n    </tr>\n    <tr>\n      <th>4</th>\n      <td>Morocco</td>\n      <td>NaN</td>\n      <td>NaN</td>\n      <td>NaN</td>\n      <td>NaN</td>\n      <td>NaN</td>\n      <td>NaN</td>\n      <td>NaN</td>\n      <td>0.011807</td>\n      <td>0.01759</td>\n      <td>...</td>\n      <td>0.032975</td>\n      <td>0.034628</td>\n      <td>0.038058</td>\n      <td>0.036779</td>\n      <td>0.032302</td>\n      <td>0.032195</td>\n      <td>0.031830</td>\n      <td>0.031186</td>\n      <td>0.030999</td>\n      <td>0.042810</td>\n    </tr>\n    <tr>\n      <th>5</th>\n      <td>Tunisia</td>\n      <td>NaN</td>\n      <td>NaN</td>\n      <td>NaN</td>\n      <td>NaN</td>\n      <td>NaN</td>\n      <td>NaN</td>\n      <td>NaN</td>\n      <td>NaN</td>\n      <td>NaN</td>\n      <td>...</td>\n      <td>0.015613</td>\n      <td>0.015123</td>\n      <td>0.016416</td>\n      <td>0.019082</td>\n      <td>0.022699</td>\n      <td>0.023608</td>\n      <td>0.021443</td>\n      <td>0.021134</td>\n      <td>0.025646</td>\n      <td>0.029077</td>\n    </tr>\n    <tr>\n      <th>7</th>\n      <td>Angola</td>\n      <td>NaN</td>\n      <td>NaN</td>\n      <td>NaN</td>\n      <td>NaN</td>\n      <td>NaN</td>\n      <td>NaN</td>\n      <td>NaN</td>\n      <td>NaN</td>\n      <td>NaN</td>\n      <td>...</td>\n      <td>0.032557</td>\n      <td>0.032367</td>\n      <td>0.044552</td>\n      <td>0.046985</td>\n      <td>0.031054</td>\n      <td>0.027333</td>\n      <td>0.025080</td>\n      <td>0.018718</td>\n      <td>0.016437</td>\n      <td>0.016159</td>\n    </tr>\n    <tr>\n      <th>...</th>\n      <td>...</td>\n      <td>...</td>\n      <td>...</td>\n      <td>...</td>\n      <td>...</td>\n      <td>...</td>\n      <td>...</td>\n      <td>...</td>\n      <td>...</td>\n      <td>...</td>\n      <td>...</td>\n      <td>...</td>\n      <td>...</td>\n      <td>...</td>\n      <td>...</td>\n      <td>...</td>\n      <td>...</td>\n      <td>...</td>\n      <td>...</td>\n      <td>...</td>\n      <td>...</td>\n    </tr>\n    <tr>\n      <th>186</th>\n      <td>Syria</td>\n      <td>NaN</td>\n      <td>NaN</td>\n      <td>NaN</td>\n      <td>NaN</td>\n      <td>NaN</td>\n      <td>NaN</td>\n      <td>NaN</td>\n      <td>NaN</td>\n      <td>NaN</td>\n      <td>...</td>\n      <td>NaN</td>\n      <td>NaN</td>\n      <td>NaN</td>\n      <td>NaN</td>\n      <td>NaN</td>\n      <td>NaN</td>\n      <td>NaN</td>\n      <td>NaN</td>\n      <td>NaN</td>\n      <td>NaN</td>\n    </tr>\n    <tr>\n      <th>187</th>\n      <td>Turkey</td>\n      <td>NaN</td>\n      <td>NaN</td>\n      <td>NaN</td>\n      <td>NaN</td>\n      <td>NaN</td>\n      <td>NaN</td>\n      <td>NaN</td>\n      <td>NaN</td>\n      <td>NaN</td>\n      <td>...</td>\n      <td>0.020275</td>\n      <td>0.020094</td>\n      <td>0.019240</td>\n      <td>0.018720</td>\n      <td>0.018128</td>\n      <td>0.020503</td>\n      <td>0.020501</td>\n      <td>0.025240</td>\n      <td>0.027103</td>\n      <td>0.027725</td>\n    </tr>\n    <tr>\n      <th>188</th>\n      <td>UAE</td>\n      <td>NaN</td>\n      <td>NaN</td>\n      <td>NaN</td>\n      <td>NaN</td>\n      <td>NaN</td>\n      <td>NaN</td>\n      <td>NaN</td>\n      <td>NaN</td>\n      <td>NaN</td>\n      <td>...</td>\n      <td>0.054663</td>\n      <td>0.050756</td>\n      <td>0.060347</td>\n      <td>0.056437</td>\n      <td>NaN</td>\n      <td>NaN</td>\n      <td>NaN</td>\n      <td>NaN</td>\n      <td>NaN</td>\n      <td>NaN</td>\n    </tr>\n    <tr>\n      <th>189</th>\n      <td>Yemen</td>\n      <td>NaN</td>\n      <td>NaN</td>\n      <td>NaN</td>\n      <td>NaN</td>\n      <td>NaN</td>\n      <td>NaN</td>\n      <td>NaN</td>\n      <td>NaN</td>\n      <td>NaN</td>\n      <td>...</td>\n      <td>0.049265</td>\n      <td>0.045739</td>\n      <td>0.040795</td>\n      <td>0.039669</td>\n      <td>NaN</td>\n      <td>NaN</td>\n      <td>NaN</td>\n      <td>NaN</td>\n      <td>NaN</td>\n      <td>NaN</td>\n    </tr>\n    <tr>\n      <th>190</th>\n      <td>Yemen, North</td>\n      <td>NaN</td>\n      <td>NaN</td>\n      <td>NaN</td>\n      <td>NaN</td>\n      <td>NaN</td>\n      <td>NaN</td>\n      <td>NaN</td>\n      <td>NaN</td>\n      <td>NaN</td>\n      <td>...</td>\n      <td>NaN</td>\n      <td>NaN</td>\n      <td>NaN</td>\n      <td>NaN</td>\n      <td>NaN</td>\n      <td>NaN</td>\n      <td>NaN</td>\n      <td>NaN</td>\n      <td>NaN</td>\n      <td>NaN</td>\n    </tr>\n  </tbody>\n</table>\n<p>173 rows × 73 columns</p>\n</div>"
     },
     "metadata": {},
     "execution_count": 5
    }
   ],
   "source": [
    "sipri_milex_per_gdp = (pd.read_excel(data_dir+\"/SIPRI-Milex-data-1949-2020_0.xlsx\", sheet_name=\"Share of GDP\", header=5)\n",
    "                         .drop(columns='Notes')\n",
    "                         # Threshold requires a non-NaN country column and at least one observation\n",
    "                         .dropna(thresh=2)\n",
    "                         .replace({\"xxx\":np.NaN, \". .\":np.NaN})\n",
    "                         # Remove \"Unnamed\" columns\n",
    "                         .filter(regex='^((?!Unnamed).)*$'))\n",
    "\n",
    "sipri_milex_per_gdp"
   ]
  },
  {
   "cell_type": "code",
   "execution_count": null,
   "metadata": {},
   "outputs": [],
   "source": [
    "N = exData.shape[0]\n",
    "T = exData.shape[1]"
   ]
  },
  {
   "cell_type": "code",
   "execution_count": null,
   "metadata": {},
   "outputs": [],
   "source": [
    "plt.figure(figsize=(15,15))\n",
    "plt.plot(exData);\n",
    "plt.legend(exData.columns);\n",
    "# plt.xticks(range(exData.shape[0]),list(exData.index))\n",
    "plt.show()"
   ]
  },
  {
   "cell_type": "code",
   "execution_count": null,
   "metadata": {},
   "outputs": [],
   "source": [
    "#Exploring correlations \n",
    "sns.heatmap(exData.corr());"
   ]
  },
  {
   "cell_type": "code",
   "execution_count": null,
   "metadata": {},
   "outputs": [],
   "source": [
    "scatter_matrix(exData, figsize=(20, 20), diagonal='kde');"
   ]
  },
  {
   "cell_type": "code",
   "execution_count": null,
   "metadata": {},
   "outputs": [],
   "source": [
    "deMeanExData = exData - np.mean(exData,axis=0) \n",
    "modelEx = pca(n_components=deMeanExData.shape[1])\n",
    "resultsEx = modelEx.fit_transform(deMeanExData)\n",
    "sns.heatmap(resultsEx['loadings'],cmap='YlGnBu');"
   ]
  },
  {
   "cell_type": "code",
   "execution_count": null,
   "metadata": {},
   "outputs": [],
   "source": [
    "modelEx.plot();"
   ]
  },
  {
   "cell_type": "code",
   "execution_count": null,
   "metadata": {},
   "outputs": [],
   "source": [
    "K = 3\n",
    "Fhat = resultsEx['PC'].iloc[:,0:K].to_numpy()\n",
    "Mus = resultsEx['loadings'].iloc[0:K].to_numpy()\n",
    "Yhat = Fhat@Mus"
   ]
  },
  {
   "cell_type": "code",
   "execution_count": null,
   "metadata": {},
   "outputs": [],
   "source": [
    "plt.scatter(deMeanExData.iloc[:,0],Yhat[:,0])\n",
    "plt.show()\n",
    "\n",
    "plt.plot(deMeanExData.index,deMeanExData.iloc[:,0])\n",
    "plt.plot(deMeanExData.index,Yhat[:,0])\n",
    "plt.show()\n",
    "\n",
    "plt.plot(deMeanExData.index,deMeanExData.iloc[:,1])\n",
    "plt.plot(deMeanExData.index,Yhat[:,1])\n",
    "plt.show()"
   ]
  }
 ]
}