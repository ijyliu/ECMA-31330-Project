{
 "metadata": {
  "language_info": {
   "codemirror_mode": {
    "name": "ipython",
    "version": 3
   },
   "file_extension": ".py",
   "mimetype": "text/x-python",
   "name": "python",
   "nbconvert_exporter": "python",
   "pygments_lexer": "ipython3",
   "version": "3.8.8"
  },
  "orig_nbformat": 2,
  "kernelspec": {
   "name": "python388jvsc74a57bd09bc3a4351665e9db33af6438013e62909d11821677ef54a6a5e37238d33c4427",
   "display_name": "Python 3.8.8 64-bit"
  }
 },
 "nbformat": 4,
 "nbformat_minor": 2,
 "cells": [
  {
   "source": [
    "# Defense_Spending\n",
    "## Exploratory Analysis of SIPRI Defense Spending Data"
   ],
   "cell_type": "markdown",
   "metadata": {}
  },
  {
   "cell_type": "code",
   "execution_count": 1,
   "metadata": {},
   "outputs": [],
   "source": [
    "import pandas as pd \n",
    "import numpy as np\n",
    "from pca import pca\n",
    "import seaborn as sns"
   ]
  },
  {
   "cell_type": "code",
   "execution_count": 2,
   "metadata": {},
   "outputs": [],
   "source": [
    "data_dir = \"~/Box/ECMA-31330-Project\""
   ]
  },
  {
   "source": [
    "We can look at spending per GDP or spending as a share of government spending."
   ],
   "cell_type": "markdown",
   "metadata": {}
  },
  {
   "cell_type": "code",
   "execution_count": 11,
   "metadata": {},
   "outputs": [
    {
     "output_type": "execute_result",
     "data": {
      "text/plain": [
       "    Military expenditure by country as percentage of gross domestic product, 1949-2020     © SIPRI 2021  \\\n",
       "0        Countries are grouped by region and subregion                                                    \n",
       "1    Figures in blue are SIPRI estimates. Figures i...                                                    \n",
       "2    \". .\" = data unavailable. \"xxx\" = country did ...                                                    \n",
       "3                                                  NaN                                                    \n",
       "4                                              Country                                                    \n",
       "..                                                 ...                                                    \n",
       "199  † Figures for these countries do not include m...                                                    \n",
       "200  ‡  Figures for these countries are for current...                                                    \n",
       "201  § Figures for these countries are for the adop...                                                    \n",
       "202  ¶ Figures for these countries do not include s...                                                    \n",
       "203  The symbols || and || between two parts of a s...                                                    \n",
       "\n",
       "    Unnamed: 1 Unnamed: 2 Unnamed: 3 Unnamed: 4 Unnamed: 5 Unnamed: 6  \\\n",
       "0          NaN        NaN        NaN        NaN        NaN        NaN   \n",
       "1          NaN        NaN        NaN        NaN        NaN        NaN   \n",
       "2          NaN        NaN        NaN        NaN        NaN        NaN   \n",
       "3          NaN        NaN        NaN        NaN        NaN        NaN   \n",
       "4        Notes       1949       1950       1951       1952       1953   \n",
       "..         ...        ...        ...        ...        ...        ...   \n",
       "199        NaN        NaN        NaN        NaN        NaN        NaN   \n",
       "200        NaN        NaN        NaN        NaN        NaN        NaN   \n",
       "201        NaN        NaN        NaN        NaN        NaN        NaN   \n",
       "202        NaN        NaN        NaN        NaN        NaN        NaN   \n",
       "203        NaN        NaN        NaN        NaN        NaN        NaN   \n",
       "\n",
       "    Unnamed: 7 Unnamed: 8 Unnamed: 9  ... Unnamed: 100 Unnamed: 101  \\\n",
       "0          NaN        NaN        NaN  ...          NaN          NaN   \n",
       "1          NaN        NaN        NaN  ...          NaN          NaN   \n",
       "2          NaN        NaN        NaN  ...          NaN          NaN   \n",
       "3          NaN        NaN        NaN  ...          NaN          NaN   \n",
       "4         1954       1955       1956  ...          NaN          NaN   \n",
       "..         ...        ...        ...  ...          ...          ...   \n",
       "199        NaN        NaN        NaN  ...          NaN          NaN   \n",
       "200        NaN        NaN        NaN  ...          NaN          NaN   \n",
       "201        NaN        NaN        NaN  ...          NaN          NaN   \n",
       "202        NaN        NaN        NaN  ...          NaN          NaN   \n",
       "203        NaN        NaN        NaN  ...          NaN          NaN   \n",
       "\n",
       "    Unnamed: 102 Unnamed: 103 Unnamed: 104 Unnamed: 105 Unnamed: 106  \\\n",
       "0            NaN          NaN          NaN          NaN          NaN   \n",
       "1            NaN          NaN          NaN          NaN          NaN   \n",
       "2            NaN          NaN          NaN          NaN          NaN   \n",
       "3            NaN          NaN          NaN          NaN          NaN   \n",
       "4            NaN          NaN          NaN          NaN          NaN   \n",
       "..           ...          ...          ...          ...          ...   \n",
       "199          NaN          NaN          NaN          NaN          NaN   \n",
       "200          NaN          NaN          NaN          NaN          NaN   \n",
       "201          NaN          NaN          NaN          NaN          NaN   \n",
       "202          NaN          NaN          NaN          NaN          NaN   \n",
       "203          NaN          NaN          NaN          NaN          NaN   \n",
       "\n",
       "    Unnamed: 107 Unnamed: 108 Unnamed: 109  \n",
       "0            NaN          NaN          NaN  \n",
       "1            NaN          NaN          NaN  \n",
       "2            NaN          NaN          NaN  \n",
       "3            NaN          NaN          NaN  \n",
       "4            NaN          NaN          NaN  \n",
       "..           ...          ...          ...  \n",
       "199          NaN          NaN          NaN  \n",
       "200          NaN          NaN          NaN  \n",
       "201          NaN          NaN          NaN  \n",
       "202          NaN          NaN          NaN  \n",
       "203          NaN          NaN          NaN  \n",
       "\n",
       "[204 rows x 110 columns]"
      ],
      "text/html": "<div>\n<style scoped>\n    .dataframe tbody tr th:only-of-type {\n        vertical-align: middle;\n    }\n\n    .dataframe tbody tr th {\n        vertical-align: top;\n    }\n\n    .dataframe thead th {\n        text-align: right;\n    }\n</style>\n<table border=\"1\" class=\"dataframe\">\n  <thead>\n    <tr style=\"text-align: right;\">\n      <th></th>\n      <th>Military expenditure by country as percentage of gross domestic product, 1949-2020     © SIPRI 2021</th>\n      <th>Unnamed: 1</th>\n      <th>Unnamed: 2</th>\n      <th>Unnamed: 3</th>\n      <th>Unnamed: 4</th>\n      <th>Unnamed: 5</th>\n      <th>Unnamed: 6</th>\n      <th>Unnamed: 7</th>\n      <th>Unnamed: 8</th>\n      <th>Unnamed: 9</th>\n      <th>...</th>\n      <th>Unnamed: 100</th>\n      <th>Unnamed: 101</th>\n      <th>Unnamed: 102</th>\n      <th>Unnamed: 103</th>\n      <th>Unnamed: 104</th>\n      <th>Unnamed: 105</th>\n      <th>Unnamed: 106</th>\n      <th>Unnamed: 107</th>\n      <th>Unnamed: 108</th>\n      <th>Unnamed: 109</th>\n    </tr>\n  </thead>\n  <tbody>\n    <tr>\n      <th>0</th>\n      <td>Countries are grouped by region and subregion</td>\n      <td>NaN</td>\n      <td>NaN</td>\n      <td>NaN</td>\n      <td>NaN</td>\n      <td>NaN</td>\n      <td>NaN</td>\n      <td>NaN</td>\n      <td>NaN</td>\n      <td>NaN</td>\n      <td>...</td>\n      <td>NaN</td>\n      <td>NaN</td>\n      <td>NaN</td>\n      <td>NaN</td>\n      <td>NaN</td>\n      <td>NaN</td>\n      <td>NaN</td>\n      <td>NaN</td>\n      <td>NaN</td>\n      <td>NaN</td>\n    </tr>\n    <tr>\n      <th>1</th>\n      <td>Figures in blue are SIPRI estimates. Figures i...</td>\n      <td>NaN</td>\n      <td>NaN</td>\n      <td>NaN</td>\n      <td>NaN</td>\n      <td>NaN</td>\n      <td>NaN</td>\n      <td>NaN</td>\n      <td>NaN</td>\n      <td>NaN</td>\n      <td>...</td>\n      <td>NaN</td>\n      <td>NaN</td>\n      <td>NaN</td>\n      <td>NaN</td>\n      <td>NaN</td>\n      <td>NaN</td>\n      <td>NaN</td>\n      <td>NaN</td>\n      <td>NaN</td>\n      <td>NaN</td>\n    </tr>\n    <tr>\n      <th>2</th>\n      <td>\". .\" = data unavailable. \"xxx\" = country did ...</td>\n      <td>NaN</td>\n      <td>NaN</td>\n      <td>NaN</td>\n      <td>NaN</td>\n      <td>NaN</td>\n      <td>NaN</td>\n      <td>NaN</td>\n      <td>NaN</td>\n      <td>NaN</td>\n      <td>...</td>\n      <td>NaN</td>\n      <td>NaN</td>\n      <td>NaN</td>\n      <td>NaN</td>\n      <td>NaN</td>\n      <td>NaN</td>\n      <td>NaN</td>\n      <td>NaN</td>\n      <td>NaN</td>\n      <td>NaN</td>\n    </tr>\n    <tr>\n      <th>3</th>\n      <td>NaN</td>\n      <td>NaN</td>\n      <td>NaN</td>\n      <td>NaN</td>\n      <td>NaN</td>\n      <td>NaN</td>\n      <td>NaN</td>\n      <td>NaN</td>\n      <td>NaN</td>\n      <td>NaN</td>\n      <td>...</td>\n      <td>NaN</td>\n      <td>NaN</td>\n      <td>NaN</td>\n      <td>NaN</td>\n      <td>NaN</td>\n      <td>NaN</td>\n      <td>NaN</td>\n      <td>NaN</td>\n      <td>NaN</td>\n      <td>NaN</td>\n    </tr>\n    <tr>\n      <th>4</th>\n      <td>Country</td>\n      <td>Notes</td>\n      <td>1949</td>\n      <td>1950</td>\n      <td>1951</td>\n      <td>1952</td>\n      <td>1953</td>\n      <td>1954</td>\n      <td>1955</td>\n      <td>1956</td>\n      <td>...</td>\n      <td>NaN</td>\n      <td>NaN</td>\n      <td>NaN</td>\n      <td>NaN</td>\n      <td>NaN</td>\n      <td>NaN</td>\n      <td>NaN</td>\n      <td>NaN</td>\n      <td>NaN</td>\n      <td>NaN</td>\n    </tr>\n    <tr>\n      <th>...</th>\n      <td>...</td>\n      <td>...</td>\n      <td>...</td>\n      <td>...</td>\n      <td>...</td>\n      <td>...</td>\n      <td>...</td>\n      <td>...</td>\n      <td>...</td>\n      <td>...</td>\n      <td>...</td>\n      <td>...</td>\n      <td>...</td>\n      <td>...</td>\n      <td>...</td>\n      <td>...</td>\n      <td>...</td>\n      <td>...</td>\n      <td>...</td>\n      <td>...</td>\n      <td>...</td>\n    </tr>\n    <tr>\n      <th>199</th>\n      <td>† Figures for these countries do not include m...</td>\n      <td>NaN</td>\n      <td>NaN</td>\n      <td>NaN</td>\n      <td>NaN</td>\n      <td>NaN</td>\n      <td>NaN</td>\n      <td>NaN</td>\n      <td>NaN</td>\n      <td>NaN</td>\n      <td>...</td>\n      <td>NaN</td>\n      <td>NaN</td>\n      <td>NaN</td>\n      <td>NaN</td>\n      <td>NaN</td>\n      <td>NaN</td>\n      <td>NaN</td>\n      <td>NaN</td>\n      <td>NaN</td>\n      <td>NaN</td>\n    </tr>\n    <tr>\n      <th>200</th>\n      <td>‡  Figures for these countries are for current...</td>\n      <td>NaN</td>\n      <td>NaN</td>\n      <td>NaN</td>\n      <td>NaN</td>\n      <td>NaN</td>\n      <td>NaN</td>\n      <td>NaN</td>\n      <td>NaN</td>\n      <td>NaN</td>\n      <td>...</td>\n      <td>NaN</td>\n      <td>NaN</td>\n      <td>NaN</td>\n      <td>NaN</td>\n      <td>NaN</td>\n      <td>NaN</td>\n      <td>NaN</td>\n      <td>NaN</td>\n      <td>NaN</td>\n      <td>NaN</td>\n    </tr>\n    <tr>\n      <th>201</th>\n      <td>§ Figures for these countries are for the adop...</td>\n      <td>NaN</td>\n      <td>NaN</td>\n      <td>NaN</td>\n      <td>NaN</td>\n      <td>NaN</td>\n      <td>NaN</td>\n      <td>NaN</td>\n      <td>NaN</td>\n      <td>NaN</td>\n      <td>...</td>\n      <td>NaN</td>\n      <td>NaN</td>\n      <td>NaN</td>\n      <td>NaN</td>\n      <td>NaN</td>\n      <td>NaN</td>\n      <td>NaN</td>\n      <td>NaN</td>\n      <td>NaN</td>\n      <td>NaN</td>\n    </tr>\n    <tr>\n      <th>202</th>\n      <td>¶ Figures for these countries do not include s...</td>\n      <td>NaN</td>\n      <td>NaN</td>\n      <td>NaN</td>\n      <td>NaN</td>\n      <td>NaN</td>\n      <td>NaN</td>\n      <td>NaN</td>\n      <td>NaN</td>\n      <td>NaN</td>\n      <td>...</td>\n      <td>NaN</td>\n      <td>NaN</td>\n      <td>NaN</td>\n      <td>NaN</td>\n      <td>NaN</td>\n      <td>NaN</td>\n      <td>NaN</td>\n      <td>NaN</td>\n      <td>NaN</td>\n      <td>NaN</td>\n    </tr>\n    <tr>\n      <th>203</th>\n      <td>The symbols || and || between two parts of a s...</td>\n      <td>NaN</td>\n      <td>NaN</td>\n      <td>NaN</td>\n      <td>NaN</td>\n      <td>NaN</td>\n      <td>NaN</td>\n      <td>NaN</td>\n      <td>NaN</td>\n      <td>NaN</td>\n      <td>...</td>\n      <td>NaN</td>\n      <td>NaN</td>\n      <td>NaN</td>\n      <td>NaN</td>\n      <td>NaN</td>\n      <td>NaN</td>\n      <td>NaN</td>\n      <td>NaN</td>\n      <td>NaN</td>\n      <td>NaN</td>\n    </tr>\n  </tbody>\n</table>\n<p>204 rows × 110 columns</p>\n</div>"
     },
     "metadata": {},
     "execution_count": 11
    }
   ],
   "source": [
    "sipri_milex_per_gdp = pd.read_excel(data_dir+\"/SIPRI-Milex-data-1949-2020_0.xlsx\", sheet_name=\"Share of GDP\")\n",
    "\n",
    "sipri_milex_per_gdp"
   ]
  },
  {
   "cell_type": "code",
   "execution_count": null,
   "metadata": {},
   "outputs": [],
   "source": [
    "N = exData.shape[0]\n",
    "T = exData.shape[1]"
   ]
  },
  {
   "cell_type": "code",
   "execution_count": null,
   "metadata": {},
   "outputs": [],
   "source": [
    "plt.figure(figsize=(15,15))\n",
    "plt.plot(exData);\n",
    "plt.legend(exData.columns);\n",
    "# plt.xticks(range(exData.shape[0]),list(exData.index))\n",
    "plt.show()"
   ]
  },
  {
   "cell_type": "code",
   "execution_count": null,
   "metadata": {},
   "outputs": [],
   "source": [
    "#Exploring correlations \n",
    "sns.heatmap(exData.corr());"
   ]
  },
  {
   "cell_type": "code",
   "execution_count": null,
   "metadata": {},
   "outputs": [],
   "source": [
    "scatter_matrix(exData, figsize=(20, 20), diagonal='kde');"
   ]
  },
  {
   "cell_type": "code",
   "execution_count": null,
   "metadata": {},
   "outputs": [],
   "source": [
    "deMeanExData = exData - np.mean(exData,axis=0) \n",
    "modelEx = pca(n_components=deMeanExData.shape[1])\n",
    "resultsEx = modelEx.fit_transform(deMeanExData)\n",
    "sns.heatmap(resultsEx['loadings'],cmap='YlGnBu');"
   ]
  },
  {
   "cell_type": "code",
   "execution_count": null,
   "metadata": {},
   "outputs": [],
   "source": [
    "modelEx.plot();"
   ]
  },
  {
   "cell_type": "code",
   "execution_count": null,
   "metadata": {},
   "outputs": [],
   "source": [
    "K = 3\n",
    "Fhat = resultsEx['PC'].iloc[:,0:K].to_numpy()\n",
    "Mus = resultsEx['loadings'].iloc[0:K].to_numpy()\n",
    "Yhat = Fhat@Mus"
   ]
  },
  {
   "cell_type": "code",
   "execution_count": null,
   "metadata": {},
   "outputs": [],
   "source": [
    "plt.scatter(deMeanExData.iloc[:,0],Yhat[:,0])\n",
    "plt.show()\n",
    "\n",
    "plt.plot(deMeanExData.index,deMeanExData.iloc[:,0])\n",
    "plt.plot(deMeanExData.index,Yhat[:,0])\n",
    "plt.show()\n",
    "\n",
    "plt.plot(deMeanExData.index,deMeanExData.iloc[:,1])\n",
    "plt.plot(deMeanExData.index,Yhat[:,1])\n",
    "plt.show()"
   ]
  }
 ]
}